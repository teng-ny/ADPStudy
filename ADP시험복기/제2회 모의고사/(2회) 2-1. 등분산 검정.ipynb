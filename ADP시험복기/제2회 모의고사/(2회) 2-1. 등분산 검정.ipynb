{
 "cells": [
  {
   "cell_type": "markdown",
   "id": "6520b4f8",
   "metadata": {},
   "source": [
    "문제 : 회사 제품의 금속 재질 함유량의 분산이 1.3을 넘으면 불량이라고 판단한다. 회사에서는 품질경영팀으로부터 제조사별로 금속 함유량이 차이가 난다고 제보를 받았다. 해당 금속 함유량 데이터에 대한 검정을 수행하시오(유의확률 : 0.05)"
   ]
  },
  {
   "cell_type": "markdown",
   "id": "6310cc70",
   "metadata": {},
   "source": [
    "H0 : 제조사별로 금속 함유량 분산은 동일하다.\n",
    "\n",
    "H1 : 제조사별로 금속 함유량 분산은 차이가난다."
   ]
  },
  {
   "cell_type": "code",
   "execution_count": 32,
   "id": "86571b08",
   "metadata": {},
   "outputs": [],
   "source": [
    "import pandas as pd\n",
    "import numpy as np\n",
    "import scipy.stats as stats\n",
    "data=pd.read_csv(\"metalicity\")"
   ]
  },
  {
   "cell_type": "code",
   "execution_count": 33,
   "id": "3acc996f",
   "metadata": {},
   "outputs": [
    {
     "data": {
      "text/html": [
       "<div>\n",
       "<style scoped>\n",
       "    .dataframe tbody tr th:only-of-type {\n",
       "        vertical-align: middle;\n",
       "    }\n",
       "\n",
       "    .dataframe tbody tr th {\n",
       "        vertical-align: top;\n",
       "    }\n",
       "\n",
       "    .dataframe thead th {\n",
       "        text-align: right;\n",
       "    }\n",
       "</style>\n",
       "<table border=\"1\" class=\"dataframe\">\n",
       "  <thead>\n",
       "    <tr style=\"text-align: right;\">\n",
       "      <th></th>\n",
       "      <th>A</th>\n",
       "    </tr>\n",
       "  </thead>\n",
       "  <tbody>\n",
       "    <tr>\n",
       "      <th>0</th>\n",
       "      <td>42.731551</td>\n",
       "    </tr>\n",
       "    <tr>\n",
       "      <th>1</th>\n",
       "      <td>46.429668</td>\n",
       "    </tr>\n",
       "    <tr>\n",
       "      <th>2</th>\n",
       "      <td>45.754023</td>\n",
       "    </tr>\n",
       "    <tr>\n",
       "      <th>3</th>\n",
       "      <td>45.808060</td>\n",
       "    </tr>\n",
       "    <tr>\n",
       "      <th>4</th>\n",
       "      <td>44.072529</td>\n",
       "    </tr>\n",
       "    <tr>\n",
       "      <th>...</th>\n",
       "      <td>...</td>\n",
       "    </tr>\n",
       "    <tr>\n",
       "      <th>145</th>\n",
       "      <td>45.915727</td>\n",
       "    </tr>\n",
       "    <tr>\n",
       "      <th>146</th>\n",
       "      <td>45.277868</td>\n",
       "    </tr>\n",
       "    <tr>\n",
       "      <th>147</th>\n",
       "      <td>45.082157</td>\n",
       "    </tr>\n",
       "    <tr>\n",
       "      <th>148</th>\n",
       "      <td>44.297235</td>\n",
       "    </tr>\n",
       "    <tr>\n",
       "      <th>149</th>\n",
       "      <td>45.510493</td>\n",
       "    </tr>\n",
       "  </tbody>\n",
       "</table>\n",
       "<p>150 rows × 1 columns</p>\n",
       "</div>"
      ],
      "text/plain": [
       "             A\n",
       "0    42.731551\n",
       "1    46.429668\n",
       "2    45.754023\n",
       "3    45.808060\n",
       "4    44.072529\n",
       "..         ...\n",
       "145  45.915727\n",
       "146  45.277868\n",
       "147  45.082157\n",
       "148  44.297235\n",
       "149  45.510493\n",
       "\n",
       "[150 rows x 1 columns]"
      ]
     },
     "execution_count": 33,
     "metadata": {},
     "output_type": "execute_result"
    }
   ],
   "source": [
    "data.columns=['A']\n",
    "data"
   ]
  },
  {
   "cell_type": "markdown",
   "id": "2dc80a39",
   "metadata": {},
   "source": [
    "- 정규성 검정"
   ]
  },
  {
   "cell_type": "code",
   "execution_count": 41,
   "id": "3215e8b5",
   "metadata": {},
   "outputs": [
    {
     "data": {
      "text/plain": [
       "ShapiroResult(statistic=0.9822468757629395, pvalue=0.05002119019627571)"
      ]
     },
     "execution_count": 41,
     "metadata": {},
     "output_type": "execute_result"
    }
   ],
   "source": [
    "import scipy.stats as stats\n",
    "from scipy.stats import shapiro\n",
    "shapiro(data['A'])"
   ]
  },
  {
   "cell_type": "markdown",
   "id": "c5e03967",
   "metadata": {},
   "source": [
    "귀무가설을 기각한다. 즉 정규분포를 따른다."
   ]
  },
  {
   "cell_type": "markdown",
   "id": "6559ce95",
   "metadata": {},
   "source": [
    "- 등분산 검정"
   ]
  },
  {
   "cell_type": "code",
   "execution_count": 34,
   "id": "dfa9a14a",
   "metadata": {},
   "outputs": [
    {
     "data": {
      "text/plain": [
       "150"
      ]
     },
     "execution_count": 34,
     "metadata": {},
     "output_type": "execute_result"
    }
   ],
   "source": [
    "len(data)"
   ]
  },
  {
   "cell_type": "code",
   "execution_count": 35,
   "id": "53528893",
   "metadata": {},
   "outputs": [
    {
     "data": {
      "text/plain": [
       "A    45.27\n",
       "dtype: float64"
      ]
     },
     "execution_count": 35,
     "metadata": {},
     "output_type": "execute_result"
    }
   ],
   "source": [
    "round(data.mean(),2)"
   ]
  },
  {
   "cell_type": "code",
   "execution_count": 36,
   "id": "bb436bb3",
   "metadata": {},
   "outputs": [],
   "source": [
    "np.random.seed(seed=100)\n",
    "B = np.random.normal(45.27, np.sqrt(1.3), size=150)"
   ]
  },
  {
   "cell_type": "code",
   "execution_count": 37,
   "id": "9329119e",
   "metadata": {},
   "outputs": [
    {
     "data": {
      "text/plain": [
       "LeveneResult(statistic=11.203285245347079, pvalue=0.0009212800818400597)"
      ]
     },
     "execution_count": 37,
     "metadata": {},
     "output_type": "execute_result"
    }
   ],
   "source": [
    "A=np.array(data['A'])\n",
    "stats.levene(A, B)"
   ]
  },
  {
   "cell_type": "markdown",
   "id": "82e68d6f",
   "metadata": {},
   "source": [
    "H0 : 등분산\n",
    "\n",
    "H1 : 등분산 x"
   ]
  },
  {
   "cell_type": "markdown",
   "id": "e4a20692",
   "metadata": {},
   "source": [
    "p-value가 0.05보다 작으므로 귀무가설을 기각한다. 제조사별로 금속 함유량 분산은 차이가난다."
   ]
  }
 ],
 "metadata": {
  "kernelspec": {
   "display_name": "Python 3 (ipykernel)",
   "language": "python",
   "name": "python3"
  },
  "language_info": {
   "codemirror_mode": {
    "name": "ipython",
    "version": 3
   },
   "file_extension": ".py",
   "mimetype": "text/x-python",
   "name": "python",
   "nbconvert_exporter": "python",
   "pygments_lexer": "ipython3",
   "version": "3.8.5"
  }
 },
 "nbformat": 4,
 "nbformat_minor": 5
}
