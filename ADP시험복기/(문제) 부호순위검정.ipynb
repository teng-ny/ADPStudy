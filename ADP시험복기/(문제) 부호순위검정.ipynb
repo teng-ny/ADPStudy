{
 "cells": [
  {
   "cell_type": "markdown",
   "id": "c22ef9e9",
   "metadata": {},
   "source": [
    "### 문제1"
   ]
  },
  {
   "cell_type": "markdown",
   "id": "80fb6716",
   "metadata": {},
   "source": [
    "공장에서는 진공관 수명이 1만 시간이라고 주장하여 품질관리팀에서 12개 샘플을 뽑았음. 유의수준 5%에서 부호 검정하시오. 12개 샘플의 수명은 8800, 9500, 9600, 10500, 10400, 9600, 10300, 9500, 9600, 7100,10100,7200 이다\n",
    "1. 연구가설 귀무가설 작성(5)"
   ]
  },
  {
   "cell_type": "code",
   "execution_count": 62,
   "id": "c895b697",
   "metadata": {},
   "outputs": [],
   "source": [
    "import pandas as pd\n",
    "import numpy as np\n",
    "data=[8800, 9500, 9600, 10500, 10400, 9600, 10300, 9500, 9600, 7100,10100,7200]"
   ]
  },
  {
   "cell_type": "code",
   "execution_count": 63,
   "id": "73d43443",
   "metadata": {},
   "outputs": [
    {
     "data": {
      "text/plain": [
       "[8800, 9500, 9600, 10500, 10400, 9600, 10300, 9500, 9600, 7100, 10100, 7200]"
      ]
     },
     "execution_count": 63,
     "metadata": {},
     "output_type": "execute_result"
    }
   ],
   "source": [
    "data"
   ]
  },
  {
   "cell_type": "markdown",
   "id": "342723c7",
   "metadata": {},
   "source": [
    "- 귀무가설 : 진공관 수명이 1만시간이다.\n",
    "- 대립가설 : 진공관 수명이 1만시간이 아니다."
   ]
  },
  {
   "cell_type": "code",
   "execution_count": 64,
   "id": "587871a4",
   "metadata": {},
   "outputs": [],
   "source": [
    "s_mean=np.mean(data)\n",
    "u_var=np.var(data, ddof=1)"
   ]
  },
  {
   "cell_type": "code",
   "execution_count": 65,
   "id": "1614dde2",
   "metadata": {},
   "outputs": [
    {
     "data": {
      "text/plain": [
       "ShapiroResult(statistic=0.8105747699737549, pvalue=0.012388509698212147)"
      ]
     },
     "execution_count": 65,
     "metadata": {},
     "output_type": "execute_result"
    }
   ],
   "source": [
    "#정규성 검정\n",
    "import scipy.stats as stats\n",
    "from scipy.stats import shapiro\n",
    "shapiro(data)"
   ]
  },
  {
   "cell_type": "markdown",
   "id": "05540462",
   "metadata": {},
   "source": [
    "pvalue가 0.05보다 작으므로 귀무가설을 기각한다. 즉 정규분포를 따르지 않는다.\n",
    "\n",
    "따라서 윌콕슨 부호순위 검정 진행"
   ]
  },
  {
   "cell_type": "markdown",
   "id": "29364107",
   "metadata": {},
   "source": [
    "2. 유효한 샘플의 수를 계산(5)\n",
    "\n",
    "부호순위검정에서 중위수와 같은 관측치는 유효하지 않으므로 제외한다."
   ]
  },
  {
   "cell_type": "code",
   "execution_count": 66,
   "id": "1d15d326",
   "metadata": {},
   "outputs": [
    {
     "data": {
      "text/plain": [
       "9600.0"
      ]
     },
     "execution_count": 66,
     "metadata": {},
     "output_type": "execute_result"
    }
   ],
   "source": [
    "median=np.median(data)\n",
    "median"
   ]
  },
  {
   "cell_type": "code",
   "execution_count": 67,
   "id": "a4ce87a7",
   "metadata": {},
   "outputs": [
    {
     "data": {
      "text/plain": [
       "Counter({8800: 1,\n",
       "         9500: 2,\n",
       "         9600: 3,\n",
       "         10500: 1,\n",
       "         10400: 1,\n",
       "         10300: 1,\n",
       "         7100: 1,\n",
       "         10100: 1,\n",
       "         7200: 1})"
      ]
     },
     "execution_count": 67,
     "metadata": {},
     "output_type": "execute_result"
    }
   ],
   "source": [
    "from collections import Counter\n",
    "Counter(data)"
   ]
  },
  {
   "cell_type": "markdown",
   "id": "b9b45f42",
   "metadata": {},
   "source": [
    "중위수인 9600이 3개 존재하므로 유효한 샘플수는 9개이다."
   ]
  },
  {
   "cell_type": "code",
   "execution_count": 68,
   "id": "440e5e5a",
   "metadata": {},
   "outputs": [],
   "source": [
    "#중위수 삭제\n",
    "while 9600 in data:\n",
    "    data.remove(9600)"
   ]
  },
  {
   "cell_type": "code",
   "execution_count": 69,
   "id": "372f0a1d",
   "metadata": {},
   "outputs": [],
   "source": [
    "data=np.array(data)"
   ]
  },
  {
   "cell_type": "markdown",
   "id": "e9ec4310",
   "metadata": {},
   "source": [
    "3. 검정통계량 및 연구가설 채택 여부 작성(5)"
   ]
  },
  {
   "cell_type": "code",
   "execution_count": 70,
   "id": "4e69dc11",
   "metadata": {},
   "outputs": [
    {
     "data": {
      "text/plain": [
       "WilcoxonResult(statistic=11.0, pvalue=0.203125)"
      ]
     },
     "execution_count": 70,
     "metadata": {},
     "output_type": "execute_result"
    }
   ],
   "source": [
    "mean0=10000\n",
    "data\n",
    "stats.wilcoxon(data-mean0, alternative='two-sided')"
   ]
  },
  {
   "cell_type": "markdown",
   "id": "9f0589c5",
   "metadata": {},
   "source": [
    "귀무가설을 기각할 수 없다. 즉, 진공관 수명시간은 1만시간이다."
   ]
  },
  {
   "cell_type": "markdown",
   "id": "e582d369",
   "metadata": {},
   "source": [
    "### 문제2\n",
    "공장에서는 시제품의 농도가 60이라고 주장하며 품질관리팀에서 10개의 샘플을 뽑았다. 유의수준 5%에서 다음을 검정하시오."
   ]
  },
  {
   "cell_type": "markdown",
   "id": "cd64fd7b",
   "metadata": {},
   "source": [
    "-귀무가설 : 시제품의 농도는 60이다.\n",
    "\n",
    "-대립가설 : 시제품의 농도는 60이 아니다."
   ]
  },
  {
   "cell_type": "code",
   "execution_count": 74,
   "id": "b0604f94",
   "metadata": {},
   "outputs": [
    {
     "data": {
      "text/plain": [
       "[52, 50, 62, 75, 26, 45, 62, 35, 57, 14]"
      ]
     },
     "execution_count": 74,
     "metadata": {},
     "output_type": "execute_result"
    }
   ],
   "source": [
    "data=[52,50,62,75,26,45,62,35,57,14]\n",
    "data"
   ]
  },
  {
   "cell_type": "markdown",
   "id": "a0bfecfe",
   "metadata": {},
   "source": [
    "2. 유효한 샘플 수를 계산하시오."
   ]
  },
  {
   "cell_type": "code",
   "execution_count": 77,
   "id": "4900ea8e",
   "metadata": {},
   "outputs": [
    {
     "data": {
      "text/plain": [
       "51.0"
      ]
     },
     "execution_count": 77,
     "metadata": {},
     "output_type": "execute_result"
    }
   ],
   "source": [
    "median=np.median(data)\n",
    "median"
   ]
  },
  {
   "cell_type": "code",
   "execution_count": 78,
   "id": "a08f682a",
   "metadata": {},
   "outputs": [
    {
     "data": {
      "text/plain": [
       "Counter({52: 1, 50: 1, 62: 2, 75: 1, 26: 1, 45: 1, 35: 1, 57: 1, 14: 1})"
      ]
     },
     "execution_count": 78,
     "metadata": {},
     "output_type": "execute_result"
    }
   ],
   "source": [
    "from collections import Counter\n",
    "Counter(data)"
   ]
  },
  {
   "cell_type": "code",
   "execution_count": 79,
   "id": "dc7f1de5",
   "metadata": {},
   "outputs": [],
   "source": [
    "#중위수 삭제\n",
    "while 51 in data:\n",
    "    data.remove(51)"
   ]
  },
  {
   "cell_type": "code",
   "execution_count": 80,
   "id": "a3deb1b1",
   "metadata": {},
   "outputs": [
    {
     "data": {
      "text/plain": [
       "[52, 50, 62, 75, 26, 45, 62, 35, 57, 14]"
      ]
     },
     "execution_count": 80,
     "metadata": {},
     "output_type": "execute_result"
    }
   ],
   "source": [
    "data"
   ]
  },
  {
   "cell_type": "code",
   "execution_count": 81,
   "id": "df3e9d49",
   "metadata": {},
   "outputs": [],
   "source": [
    "data=np.array(data)"
   ]
  },
  {
   "cell_type": "markdown",
   "id": "48dd0f0f",
   "metadata": {},
   "source": [
    "3. 검정통계량을 구하고 연구가설 채택 여부를 작성하시오."
   ]
  },
  {
   "cell_type": "code",
   "execution_count": 82,
   "id": "e4547d2a",
   "metadata": {},
   "outputs": [
    {
     "data": {
      "text/plain": [
       "WilcoxonResult(statistic=9.5, pvalue=0.064453125)"
      ]
     },
     "execution_count": 82,
     "metadata": {},
     "output_type": "execute_result"
    }
   ],
   "source": [
    "mean0=60\n",
    "stats.wilcoxon(data-mean0, alternative='two-sided')"
   ]
  },
  {
   "cell_type": "markdown",
   "id": "f243b44a",
   "metadata": {},
   "source": [
    "검정통계량은 9.5이고 p-value가 0.05보다 크기때문에 귀무가설을 기각할 수 없다. 즉 시제품의 농도는 60이다."
   ]
  },
  {
   "cell_type": "markdown",
   "id": "c927cf24",
   "metadata": {},
   "source": [
    "### 문제3\n",
    "광고횟수(X1) : 1 2 3 4 5 7 8 9 11 12\n",
    "\n",
    "광고비(X2) : (낮음, 낮음, 낮음, 낮음, 높음, 높음, 높음, 높음, 높음, 높음) \n",
    "\n",
    "매출액(Y) : 15 16 17 18 20 22 24 26 28 29 \n",
    "\n",
    "1. 광고비 변수를 가변수 처리 후 다중회귀를 수행하여 회귀계수가 유의한지 검정."
   ]
  },
  {
   "cell_type": "code",
   "execution_count": 90,
   "id": "193934f4",
   "metadata": {},
   "outputs": [],
   "source": [
    "data=pd.DataFrame({'광고횟수':[1,2,3,4,5,7,8,9,11,12], '광고비':['낮음','낮음','낮음','낮음','높음','높음','높음','높음','높음','높음'], '매출액':[15,16,17,18,20,22,24,26,28,29]})"
   ]
  },
  {
   "cell_type": "code",
   "execution_count": 91,
   "id": "41575177",
   "metadata": {},
   "outputs": [],
   "source": [
    "data=pd.get_dummies(data)"
   ]
  },
  {
   "cell_type": "code",
   "execution_count": 92,
   "id": "5a8c0f81",
   "metadata": {},
   "outputs": [
    {
     "name": "stderr",
     "output_type": "stream",
     "text": [
      "C:\\Users\\taeeu\\anaconda3\\lib\\site-packages\\scipy\\stats\\stats.py:1541: UserWarning: kurtosistest only valid for n>=20 ... continuing anyway, n=10\n",
      "  warnings.warn(\"kurtosistest only valid for n>=20 ... continuing \"\n"
     ]
    },
    {
     "data": {
      "text/html": [
       "<table class=\"simpletable\">\n",
       "<caption>OLS Regression Results</caption>\n",
       "<tr>\n",
       "  <th>Dep. Variable:</th>           <td>매출액</td>       <th>  R-squared:         </th> <td>   0.994</td>\n",
       "</tr>\n",
       "<tr>\n",
       "  <th>Model:</th>                   <td>OLS</td>       <th>  Adj. R-squared:    </th> <td>   0.992</td>\n",
       "</tr>\n",
       "<tr>\n",
       "  <th>Method:</th>             <td>Least Squares</td>  <th>  F-statistic:       </th> <td>   545.4</td>\n",
       "</tr>\n",
       "<tr>\n",
       "  <th>Date:</th>             <td>Sun, 28 Aug 2022</td> <th>  Prob (F-statistic):</th> <td>2.07e-08</td>\n",
       "</tr>\n",
       "<tr>\n",
       "  <th>Time:</th>                 <td>20:30:47</td>     <th>  Log-Likelihood:    </th> <td> -4.6455</td>\n",
       "</tr>\n",
       "<tr>\n",
       "  <th>No. Observations:</th>      <td>    10</td>      <th>  AIC:               </th> <td>   15.29</td>\n",
       "</tr>\n",
       "<tr>\n",
       "  <th>Df Residuals:</th>          <td>     7</td>      <th>  BIC:               </th> <td>   16.20</td>\n",
       "</tr>\n",
       "<tr>\n",
       "  <th>Df Model:</th>              <td>     2</td>      <th>                     </th>     <td> </td>   \n",
       "</tr>\n",
       "<tr>\n",
       "  <th>Covariance Type:</th>      <td>nonrobust</td>    <th>                     </th>     <td> </td>   \n",
       "</tr>\n",
       "</table>\n",
       "<table class=\"simpletable\">\n",
       "<tr>\n",
       "      <td></td>         <th>coef</th>     <th>std err</th>      <th>t</th>      <th>P>|t|</th>  <th>[0.025</th>    <th>0.975]</th>  \n",
       "</tr>\n",
       "<tr>\n",
       "  <th>Intercept</th> <td>    8.9551</td> <td>    0.294</td> <td>   30.473</td> <td> 0.000</td> <td>    8.260</td> <td>    9.650</td>\n",
       "</tr>\n",
       "<tr>\n",
       "  <th>광고횟수</th>      <td>    1.2957</td> <td>    0.074</td> <td>   17.431</td> <td> 0.000</td> <td>    1.120</td> <td>    1.471</td>\n",
       "</tr>\n",
       "<tr>\n",
       "  <th>광고비_낮음</th>    <td>    4.3058</td> <td>    0.189</td> <td>   22.786</td> <td> 0.000</td> <td>    3.859</td> <td>    4.753</td>\n",
       "</tr>\n",
       "<tr>\n",
       "  <th>광고비_높음</th>    <td>    4.6493</td> <td>    0.396</td> <td>   11.747</td> <td> 0.000</td> <td>    3.713</td> <td>    5.585</td>\n",
       "</tr>\n",
       "</table>\n",
       "<table class=\"simpletable\">\n",
       "<tr>\n",
       "  <th>Omnibus:</th>       <td> 0.263</td> <th>  Durbin-Watson:     </th> <td>   1.465</td>\n",
       "</tr>\n",
       "<tr>\n",
       "  <th>Prob(Omnibus):</th> <td> 0.877</td> <th>  Jarque-Bera (JB):  </th> <td>   0.099</td>\n",
       "</tr>\n",
       "<tr>\n",
       "  <th>Skew:</th>          <td> 0.157</td> <th>  Prob(JB):          </th> <td>   0.951</td>\n",
       "</tr>\n",
       "<tr>\n",
       "  <th>Kurtosis:</th>      <td> 2.625</td> <th>  Cond. No.          </th> <td>8.11e+16</td>\n",
       "</tr>\n",
       "</table><br/><br/>Notes:<br/>[1] Standard Errors assume that the covariance matrix of the errors is correctly specified.<br/>[2] The smallest eigenvalue is 8.01e-32. This might indicate that there are<br/>strong multicollinearity problems or that the design matrix is singular."
      ],
      "text/plain": [
       "<class 'statsmodels.iolib.summary.Summary'>\n",
       "\"\"\"\n",
       "                            OLS Regression Results                            \n",
       "==============================================================================\n",
       "Dep. Variable:                    매출액   R-squared:                       0.994\n",
       "Model:                            OLS   Adj. R-squared:                  0.992\n",
       "Method:                 Least Squares   F-statistic:                     545.4\n",
       "Date:                Sun, 28 Aug 2022   Prob (F-statistic):           2.07e-08\n",
       "Time:                        20:30:47   Log-Likelihood:                -4.6455\n",
       "No. Observations:                  10   AIC:                             15.29\n",
       "Df Residuals:                       7   BIC:                             16.20\n",
       "Df Model:                           2                                         \n",
       "Covariance Type:            nonrobust                                         \n",
       "==============================================================================\n",
       "                 coef    std err          t      P>|t|      [0.025      0.975]\n",
       "------------------------------------------------------------------------------\n",
       "Intercept      8.9551      0.294     30.473      0.000       8.260       9.650\n",
       "광고횟수           1.2957      0.074     17.431      0.000       1.120       1.471\n",
       "광고비_낮음         4.3058      0.189     22.786      0.000       3.859       4.753\n",
       "광고비_높음         4.6493      0.396     11.747      0.000       3.713       5.585\n",
       "==============================================================================\n",
       "Omnibus:                        0.263   Durbin-Watson:                   1.465\n",
       "Prob(Omnibus):                  0.877   Jarque-Bera (JB):                0.099\n",
       "Skew:                           0.157   Prob(JB):                        0.951\n",
       "Kurtosis:                       2.625   Cond. No.                     8.11e+16\n",
       "==============================================================================\n",
       "\n",
       "Notes:\n",
       "[1] Standard Errors assume that the covariance matrix of the errors is correctly specified.\n",
       "[2] The smallest eigenvalue is 8.01e-32. This might indicate that there are\n",
       "strong multicollinearity problems or that the design matrix is singular.\n",
       "\"\"\""
      ]
     },
     "execution_count": 92,
     "metadata": {},
     "output_type": "execute_result"
    }
   ],
   "source": [
    "import numpy as np\n",
    "import statsmodels.api as sm\n",
    "import statsmodels.formula.api as smf\n",
    "model=smf.ols(formula=\"매출액 ~ 광고횟수+광고비_낮음+광고비_높음\", data=data)\n",
    "result=model.fit()\n",
    "result.summary()"
   ]
  },
  {
   "cell_type": "markdown",
   "id": "64a0a1c4",
   "metadata": {},
   "source": [
    "회귀계수에 대한 통계량은 t값이며, p-value가 0.05보다 작으면 회귀계수가 통계적으로 유의하다고 할 수 있다.\n",
    "\n",
    "변수인 광고횟수와 광고비 모두 p-value값이 0.05보다 작아 회귀계수가 통계적으로 유의하다고 할 수 있다."
   ]
  },
  {
   "cell_type": "markdown",
   "id": "2cfbebc1",
   "metadata": {},
   "source": [
    "2. 회귀식이 유의한지 판단.\n",
    "\n",
    "선형회귀모형의 통계량은 F통계량을 사용한다. F통계량의 p-value가 유의수준보다 작으면 회귀계수가 통계적으로 유의하다고 할 수 있다.\n",
    "\n",
    "H0 회귀모형은 유의하지 않다.\n",
    "\n",
    "H1 회귀모형은 유의하다."
   ]
  },
  {
   "cell_type": "code",
   "execution_count": 93,
   "id": "f376f89d",
   "metadata": {},
   "outputs": [
    {
     "name": "stderr",
     "output_type": "stream",
     "text": [
      "C:\\Users\\taeeu\\anaconda3\\lib\\site-packages\\scipy\\stats\\stats.py:1541: UserWarning: kurtosistest only valid for n>=20 ... continuing anyway, n=10\n",
      "  warnings.warn(\"kurtosistest only valid for n>=20 ... continuing \"\n"
     ]
    },
    {
     "data": {
      "text/html": [
       "<table class=\"simpletable\">\n",
       "<caption>OLS Regression Results</caption>\n",
       "<tr>\n",
       "  <th>Dep. Variable:</th>           <td>매출액</td>       <th>  R-squared:         </th> <td>   0.994</td>\n",
       "</tr>\n",
       "<tr>\n",
       "  <th>Model:</th>                   <td>OLS</td>       <th>  Adj. R-squared:    </th> <td>   0.992</td>\n",
       "</tr>\n",
       "<tr>\n",
       "  <th>Method:</th>             <td>Least Squares</td>  <th>  F-statistic:       </th> <td>   545.4</td>\n",
       "</tr>\n",
       "<tr>\n",
       "  <th>Date:</th>             <td>Sun, 28 Aug 2022</td> <th>  Prob (F-statistic):</th> <td>2.07e-08</td>\n",
       "</tr>\n",
       "<tr>\n",
       "  <th>Time:</th>                 <td>20:33:24</td>     <th>  Log-Likelihood:    </th> <td> -4.6455</td>\n",
       "</tr>\n",
       "<tr>\n",
       "  <th>No. Observations:</th>      <td>    10</td>      <th>  AIC:               </th> <td>   15.29</td>\n",
       "</tr>\n",
       "<tr>\n",
       "  <th>Df Residuals:</th>          <td>     7</td>      <th>  BIC:               </th> <td>   16.20</td>\n",
       "</tr>\n",
       "<tr>\n",
       "  <th>Df Model:</th>              <td>     2</td>      <th>                     </th>     <td> </td>   \n",
       "</tr>\n",
       "<tr>\n",
       "  <th>Covariance Type:</th>      <td>nonrobust</td>    <th>                     </th>     <td> </td>   \n",
       "</tr>\n",
       "</table>\n",
       "<table class=\"simpletable\">\n",
       "<tr>\n",
       "      <td></td>         <th>coef</th>     <th>std err</th>      <th>t</th>      <th>P>|t|</th>  <th>[0.025</th>    <th>0.975]</th>  \n",
       "</tr>\n",
       "<tr>\n",
       "  <th>Intercept</th> <td>    8.9551</td> <td>    0.294</td> <td>   30.473</td> <td> 0.000</td> <td>    8.260</td> <td>    9.650</td>\n",
       "</tr>\n",
       "<tr>\n",
       "  <th>광고횟수</th>      <td>    1.2957</td> <td>    0.074</td> <td>   17.431</td> <td> 0.000</td> <td>    1.120</td> <td>    1.471</td>\n",
       "</tr>\n",
       "<tr>\n",
       "  <th>광고비_낮음</th>    <td>    4.3058</td> <td>    0.189</td> <td>   22.786</td> <td> 0.000</td> <td>    3.859</td> <td>    4.753</td>\n",
       "</tr>\n",
       "<tr>\n",
       "  <th>광고비_높음</th>    <td>    4.6493</td> <td>    0.396</td> <td>   11.747</td> <td> 0.000</td> <td>    3.713</td> <td>    5.585</td>\n",
       "</tr>\n",
       "</table>\n",
       "<table class=\"simpletable\">\n",
       "<tr>\n",
       "  <th>Omnibus:</th>       <td> 0.263</td> <th>  Durbin-Watson:     </th> <td>   1.465</td>\n",
       "</tr>\n",
       "<tr>\n",
       "  <th>Prob(Omnibus):</th> <td> 0.877</td> <th>  Jarque-Bera (JB):  </th> <td>   0.099</td>\n",
       "</tr>\n",
       "<tr>\n",
       "  <th>Skew:</th>          <td> 0.157</td> <th>  Prob(JB):          </th> <td>   0.951</td>\n",
       "</tr>\n",
       "<tr>\n",
       "  <th>Kurtosis:</th>      <td> 2.625</td> <th>  Cond. No.          </th> <td>8.11e+16</td>\n",
       "</tr>\n",
       "</table><br/><br/>Notes:<br/>[1] Standard Errors assume that the covariance matrix of the errors is correctly specified.<br/>[2] The smallest eigenvalue is 8.01e-32. This might indicate that there are<br/>strong multicollinearity problems or that the design matrix is singular."
      ],
      "text/plain": [
       "<class 'statsmodels.iolib.summary.Summary'>\n",
       "\"\"\"\n",
       "                            OLS Regression Results                            \n",
       "==============================================================================\n",
       "Dep. Variable:                    매출액   R-squared:                       0.994\n",
       "Model:                            OLS   Adj. R-squared:                  0.992\n",
       "Method:                 Least Squares   F-statistic:                     545.4\n",
       "Date:                Sun, 28 Aug 2022   Prob (F-statistic):           2.07e-08\n",
       "Time:                        20:33:24   Log-Likelihood:                -4.6455\n",
       "No. Observations:                  10   AIC:                             15.29\n",
       "Df Residuals:                       7   BIC:                             16.20\n",
       "Df Model:                           2                                         \n",
       "Covariance Type:            nonrobust                                         \n",
       "==============================================================================\n",
       "                 coef    std err          t      P>|t|      [0.025      0.975]\n",
       "------------------------------------------------------------------------------\n",
       "Intercept      8.9551      0.294     30.473      0.000       8.260       9.650\n",
       "광고횟수           1.2957      0.074     17.431      0.000       1.120       1.471\n",
       "광고비_낮음         4.3058      0.189     22.786      0.000       3.859       4.753\n",
       "광고비_높음         4.6493      0.396     11.747      0.000       3.713       5.585\n",
       "==============================================================================\n",
       "Omnibus:                        0.263   Durbin-Watson:                   1.465\n",
       "Prob(Omnibus):                  0.877   Jarque-Bera (JB):                0.099\n",
       "Skew:                           0.157   Prob(JB):                        0.951\n",
       "Kurtosis:                       2.625   Cond. No.                     8.11e+16\n",
       "==============================================================================\n",
       "\n",
       "Notes:\n",
       "[1] Standard Errors assume that the covariance matrix of the errors is correctly specified.\n",
       "[2] The smallest eigenvalue is 8.01e-32. This might indicate that there are\n",
       "strong multicollinearity problems or that the design matrix is singular.\n",
       "\"\"\""
      ]
     },
     "execution_count": 93,
     "metadata": {},
     "output_type": "execute_result"
    }
   ],
   "source": [
    "result.summary()"
   ]
  },
  {
   "cell_type": "markdown",
   "id": "30b04a0d",
   "metadata": {},
   "source": [
    "F통계량의 p-value값이 0.05보다 작으므로 귀무가설을 기각한다. 회귀모형은 유의하다."
   ]
  },
  {
   "cell_type": "markdown",
   "id": "c2be3d4c",
   "metadata": {},
   "source": [
    "### 문제4\n",
    "H0 : 두 모평균 사이의 차이는 없다(동일)\n",
    "\n",
    "H1 : 두 모평균 사이의 차이는 있다(유의미한 차이가 있다)"
   ]
  },
  {
   "cell_type": "code",
   "execution_count": 99,
   "id": "3720e0b1",
   "metadata": {},
   "outputs": [],
   "source": [
    "x=5.28\n",
    "y=5.54\n",
    "분모=(0.5**2/12)+(0.3**2/12)\n",
    "t=(x-y)/(np.sqrt(분모))"
   ]
  },
  {
   "cell_type": "code",
   "execution_count": 100,
   "id": "7e3d9d31",
   "metadata": {},
   "outputs": [],
   "source": [
    "분모2=(0.4**4/12**2*11)+(0.3**4/12**2*11)\n",
    "df=분모**2/분모2\n",
    "df"
   ]
  },
  {
   "cell_type": "code",
   "execution_count": 107,
   "id": "4e371afb",
   "metadata": {},
   "outputs": [
    {
     "data": {
      "text/plain": [
       "-1.5446301670436107"
      ]
     },
     "execution_count": 107,
     "metadata": {},
     "output_type": "execute_result"
    }
   ],
   "source": [
    "rv=stats.t(df=df)\n",
    "t\n",
    "#t값이 0보다 작음"
   ]
  },
  {
   "cell_type": "code",
   "execution_count": 104,
   "id": "e28ec1ae",
   "metadata": {},
   "outputs": [
    {
     "data": {
      "text/plain": [
       "1.4005635240166319"
      ]
     },
     "execution_count": 104,
     "metadata": {},
     "output_type": "execute_result"
    }
   ],
   "source": [
    "p=(1-rv.cdf(t))*2\n",
    "p"
   ]
  },
  {
   "cell_type": "markdown",
   "id": "fd8eb421",
   "metadata": {},
   "source": [
    "귀무가설이 0.05보다 크므로 귀무가설을 기각할 수 없다. 즉 두 공장 부품 생산라인 모평균 사이의 차이는 없다."
   ]
  },
  {
   "cell_type": "markdown",
   "id": "b2e0b8e5",
   "metadata": {},
   "source": [
    "### 문제5\n",
    "학과와 성적이 관계가 있는지 검정하시오.\n",
    "\n",
    "1. 귀무가설, 대립가설을 작성하시오.\n",
    "\n",
    "H0 : 학과와 성적은 독립이다.\n",
    "\n",
    "H1 : 학과와 성적은 독립이 아니다.\n",
    "\n",
    "2. 학과와 성적이 독립일 때 기댓값 구하시오."
   ]
  },
  {
   "cell_type": "code",
   "execution_count": 121,
   "id": "ba732809",
   "metadata": {},
   "outputs": [
    {
     "data": {
      "text/html": [
       "<div>\n",
       "<style scoped>\n",
       "    .dataframe tbody tr th:only-of-type {\n",
       "        vertical-align: middle;\n",
       "    }\n",
       "\n",
       "    .dataframe tbody tr th {\n",
       "        vertical-align: top;\n",
       "    }\n",
       "\n",
       "    .dataframe thead th {\n",
       "        text-align: right;\n",
       "    }\n",
       "</style>\n",
       "<table border=\"1\" class=\"dataframe\">\n",
       "  <thead>\n",
       "    <tr style=\"text-align: right;\">\n",
       "      <th></th>\n",
       "      <th>사회과학</th>\n",
       "      <th>자연과학</th>\n",
       "      <th>공학</th>\n",
       "    </tr>\n",
       "    <tr>\n",
       "      <th>index</th>\n",
       "      <th></th>\n",
       "      <th></th>\n",
       "      <th></th>\n",
       "    </tr>\n",
       "  </thead>\n",
       "  <tbody>\n",
       "    <tr>\n",
       "      <th>1.5-2.5</th>\n",
       "      <td>15</td>\n",
       "      <td>25</td>\n",
       "      <td>10</td>\n",
       "    </tr>\n",
       "    <tr>\n",
       "      <th>2.5-3.5</th>\n",
       "      <td>60</td>\n",
       "      <td>69</td>\n",
       "      <td>77</td>\n",
       "    </tr>\n",
       "    <tr>\n",
       "      <th>3.5-4.5</th>\n",
       "      <td>24</td>\n",
       "      <td>6</td>\n",
       "      <td>14</td>\n",
       "    </tr>\n",
       "  </tbody>\n",
       "</table>\n",
       "</div>"
      ],
      "text/plain": [
       "         사회과학  자연과학  공학\n",
       "index                  \n",
       "1.5-2.5    15    25  10\n",
       "2.5-3.5    60    69  77\n",
       "3.5-4.5    24     6  14"
      ]
     },
     "execution_count": 121,
     "metadata": {},
     "output_type": "execute_result"
    }
   ],
   "source": [
    "data=pd.DataFrame({'index':[\"1.5-2.5\", \"2.5-3.5\", \"3.5-4.5\"], \"사회과학\":[15,60,24], \"자연과학\":[25,69,6], \"공학\":[10, 77,14]})\n",
    "data.set_index(\"index\", inplace=True)\n",
    "data"
   ]
  },
  {
   "cell_type": "code",
   "execution_count": 122,
   "id": "796cc430",
   "metadata": {},
   "outputs": [
    {
     "data": {
      "text/plain": [
       "(99, 100, 101)"
      ]
     },
     "execution_count": 122,
     "metadata": {},
     "output_type": "execute_result"
    }
   ],
   "source": [
    "#세로합\n",
    "사회과학, 자연과학, 공학=data.sum()\n",
    "사회과학, 자연과학, 공학"
   ]
  },
  {
   "cell_type": "code",
   "execution_count": 123,
   "id": "81bfebd3",
   "metadata": {},
   "outputs": [
    {
     "data": {
      "text/plain": [
       "(50, 206, 44)"
      ]
     },
     "execution_count": 123,
     "metadata": {},
     "output_type": "execute_result"
    }
   ],
   "source": [
    "#가로합\n",
    "A,B,C=data.sum(axis=1)\n",
    "A,B,C"
   ]
  },
  {
   "cell_type": "code",
   "execution_count": 124,
   "id": "48e9f9e6",
   "metadata": {},
   "outputs": [
    {
     "data": {
      "text/plain": [
       "300"
      ]
     },
     "execution_count": 124,
     "metadata": {},
     "output_type": "execute_result"
    }
   ],
   "source": [
    "n=사회과학+자연과학+공학\n",
    "n"
   ]
  },
  {
   "cell_type": "code",
   "execution_count": 125,
   "id": "e6173973",
   "metadata": {},
   "outputs": [],
   "source": [
    "ad_ef=pd.DataFrame({'사회과학':[A*사회과학/n, B*사회과학/n, C*사회과학/n], '자연과학':[A*자연과학/n, B*자연과학/n, C*자연과학/n], '공학':[A*공학/n, B*공학/n, C*공학/n]}, index=[\"1.5-2.5\", \"2.5-3.5\", \"3.5-4.5\"])"
   ]
  },
  {
   "cell_type": "code",
   "execution_count": 126,
   "id": "0f155955",
   "metadata": {},
   "outputs": [
    {
     "data": {
      "text/html": [
       "<div>\n",
       "<style scoped>\n",
       "    .dataframe tbody tr th:only-of-type {\n",
       "        vertical-align: middle;\n",
       "    }\n",
       "\n",
       "    .dataframe tbody tr th {\n",
       "        vertical-align: top;\n",
       "    }\n",
       "\n",
       "    .dataframe thead th {\n",
       "        text-align: right;\n",
       "    }\n",
       "</style>\n",
       "<table border=\"1\" class=\"dataframe\">\n",
       "  <thead>\n",
       "    <tr style=\"text-align: right;\">\n",
       "      <th></th>\n",
       "      <th>사회과학</th>\n",
       "      <th>자연과학</th>\n",
       "      <th>공학</th>\n",
       "    </tr>\n",
       "  </thead>\n",
       "  <tbody>\n",
       "    <tr>\n",
       "      <th>1.5-2.5</th>\n",
       "      <td>16.50</td>\n",
       "      <td>16.666667</td>\n",
       "      <td>16.833333</td>\n",
       "    </tr>\n",
       "    <tr>\n",
       "      <th>2.5-3.5</th>\n",
       "      <td>67.98</td>\n",
       "      <td>68.666667</td>\n",
       "      <td>69.353333</td>\n",
       "    </tr>\n",
       "    <tr>\n",
       "      <th>3.5-4.5</th>\n",
       "      <td>14.52</td>\n",
       "      <td>14.666667</td>\n",
       "      <td>14.813333</td>\n",
       "    </tr>\n",
       "  </tbody>\n",
       "</table>\n",
       "</div>"
      ],
      "text/plain": [
       "          사회과학       자연과학         공학\n",
       "1.5-2.5  16.50  16.666667  16.833333\n",
       "2.5-3.5  67.98  68.666667  69.353333\n",
       "3.5-4.5  14.52  14.666667  14.813333"
      ]
     },
     "execution_count": 126,
     "metadata": {},
     "output_type": "execute_result"
    }
   ],
   "source": [
    "ad_ef"
   ]
  },
  {
   "cell_type": "markdown",
   "id": "f8885de1",
   "metadata": {},
   "source": [
    "3. 검정통계량 구하고 귀무가설/대립가설 채택여부 작성"
   ]
  },
  {
   "cell_type": "code",
   "execution_count": 129,
   "id": "c454070d",
   "metadata": {},
   "outputs": [
    {
     "data": {
      "text/plain": [
       "20.213713780910307"
      ]
     },
     "execution_count": 129,
     "metadata": {},
     "output_type": "execute_result"
    }
   ],
   "source": [
    "y=((data-ad_ef)**2/ad_ef).sum().sum()\n",
    "y"
   ]
  },
  {
   "cell_type": "code",
   "execution_count": 130,
   "id": "7b086f71",
   "metadata": {},
   "outputs": [
    {
     "data": {
      "text/plain": [
       "6.925467610718883e-06"
      ]
     },
     "execution_count": 130,
     "metadata": {},
     "output_type": "execute_result"
    }
   ],
   "source": [
    "rv=stats.chi2(1)\n",
    "1-rv.cdf(y)"
   ]
  },
  {
   "cell_type": "markdown",
   "id": "12e47455",
   "metadata": {},
   "source": [
    "p-value가 0.05보다 작아 귀무가설을 기각한다. 즉 학과와 성적은 독립이 아니다"
   ]
  },
  {
   "cell_type": "markdown",
   "id": "d9cfd648",
   "metadata": {},
   "source": [
    "### 문제 6\n",
    "모집단에서 표본을 추출한 데이터 9개가 다음과 같다.\n",
    "\n",
    "\n",
    "3.1, 3.3, 3.5, 3.7, 3.9, 4.1, 4.3, 4.4, 4.7\n",
    "\n",
    "\n",
    "※ z(0.05) = 1.64, z(0.025) = 1.96, t(0.05, 8) =  1.86, t(0.025, 8) = 2.31\n",
    "\n",
    "\n",
    "1. 주어진 데이터의 95% 신뢰구간을 구하라"
   ]
  },
  {
   "cell_type": "code",
   "execution_count": 138,
   "id": "918fb838",
   "metadata": {},
   "outputs": [
    {
     "data": {
      "text/plain": [
       "(3.4770208544679377, 4.30075692330984)"
      ]
     },
     "execution_count": 138,
     "metadata": {},
     "output_type": "execute_result"
    }
   ],
   "source": [
    "#정규분포라고 가정하고 t분포로 구함..\n",
    "data=[3.1, 3.3, 3.5, 3.7, 3.9, 4.1, 4.3, 4.4, 4.7]\n",
    "n=9\n",
    "rv=stats.t(df=n-1)\n",
    "s_mean=np.mean(data)\n",
    "u_var=np.var(data, ddof=1)\n",
    "lcl=s_mean-2.31*np.sqrt(u_var/n)\n",
    "ucl=s_mean+2.31*np.sqrt(u_var/n)\n",
    "lcl,ucl"
   ]
  },
  {
   "cell_type": "markdown",
   "id": "a17501cd",
   "metadata": {},
   "source": [
    "2. sigma = 0.04인걸 알고 있을 때의 95% 신뢰구간을 구하라 "
   ]
  },
  {
   "cell_type": "code",
   "execution_count": 141,
   "id": "0bb4542f",
   "metadata": {},
   "outputs": [
    {
     "data": {
      "text/plain": [
       "(3.8627555555555557, 3.915022222222222)"
      ]
     },
     "execution_count": 141,
     "metadata": {},
     "output_type": "execute_result"
    }
   ],
   "source": [
    "#정규분포라고 가정하고 모표준편차(시그마)=0.05, 모분산(시그마제곱)=0.04**2\n",
    "rv=stats.norm()\n",
    "p_var=0.04**2\n",
    "lcl=s_mean-1.96*np.sqrt(p_var/n)\n",
    "ucl=s_mean+1.96*np.sqrt(p_var/n)\n",
    "lcl, ucl"
   ]
  },
  {
   "cell_type": "markdown",
   "id": "36d0ae9f",
   "metadata": {},
   "source": [
    "### 문제 7\n",
    "코로나 진단키트의 검사 결과표이다. 유병률은 0.01로 알려져있다.\n",
    "\n",
    "진단키트 검사 결과 양성일 때, 실제로 코로나에 감염되었을 확률을 구하시오."
   ]
  },
  {
   "cell_type": "code",
   "execution_count": 144,
   "id": "c1c87285",
   "metadata": {},
   "outputs": [
    {
     "data": {
      "text/html": [
       "<div>\n",
       "<style scoped>\n",
       "    .dataframe tbody tr th:only-of-type {\n",
       "        vertical-align: middle;\n",
       "    }\n",
       "\n",
       "    .dataframe tbody tr th {\n",
       "        vertical-align: top;\n",
       "    }\n",
       "\n",
       "    .dataframe thead th {\n",
       "        text-align: right;\n",
       "    }\n",
       "</style>\n",
       "<table border=\"1\" class=\"dataframe\">\n",
       "  <thead>\n",
       "    <tr style=\"text-align: right;\">\n",
       "      <th></th>\n",
       "      <th>양성판정</th>\n",
       "      <th>음성판정</th>\n",
       "    </tr>\n",
       "  </thead>\n",
       "  <tbody>\n",
       "    <tr>\n",
       "      <th>감염</th>\n",
       "      <td>370</td>\n",
       "      <td>15</td>\n",
       "    </tr>\n",
       "    <tr>\n",
       "      <th>비감염</th>\n",
       "      <td>10</td>\n",
       "      <td>690</td>\n",
       "    </tr>\n",
       "  </tbody>\n",
       "</table>\n",
       "</div>"
      ],
      "text/plain": [
       "     양성판정  음성판정\n",
       "감염    370    15\n",
       "비감염    10   690"
      ]
     },
     "execution_count": 144,
     "metadata": {},
     "output_type": "execute_result"
    }
   ],
   "source": [
    "#코로나에 감염되었을 확률(유병률)=0.01\n",
    "data=pd.DataFrame({\"양성판정\":[370,10],\"음성판정\":[15,690]}, index=['감염', '비감염'])\n",
    "data"
   ]
  },
  {
   "cell_type": "code",
   "execution_count": 146,
   "id": "928d35a7",
   "metadata": {},
   "outputs": [
    {
     "data": {
      "text/plain": [
       "0.4045926735921268"
      ]
     },
     "execution_count": 146,
     "metadata": {},
     "output_type": "execute_result"
    }
   ],
   "source": [
    "#양성이고 감염인 확률\n",
    "a=0.01*370/(370+15)\n",
    "#양성이고 비감염인 확률\n",
    "b=0.99*10/(10+690)\n",
    "#검사결과가 양성일 때 실제로 감염일 확률\n",
    "a/(a+b)"
   ]
  },
  {
   "cell_type": "code",
   "execution_count": null,
   "id": "de4c3cfc",
   "metadata": {},
   "outputs": [],
   "source": []
  }
 ],
 "metadata": {
  "kernelspec": {
   "display_name": "Python 3 (ipykernel)",
   "language": "python",
   "name": "python3"
  },
  "language_info": {
   "codemirror_mode": {
    "name": "ipython",
    "version": 3
   },
   "file_extension": ".py",
   "mimetype": "text/x-python",
   "name": "python",
   "nbconvert_exporter": "python",
   "pygments_lexer": "ipython3",
   "version": "3.8.5"
  }
 },
 "nbformat": 4,
 "nbformat_minor": 5
}
