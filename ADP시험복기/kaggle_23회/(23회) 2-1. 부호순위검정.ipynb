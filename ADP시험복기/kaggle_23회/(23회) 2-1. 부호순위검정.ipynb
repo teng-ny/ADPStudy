{
 "cells": [
  {
   "cell_type": "markdown",
   "id": "98021ff0",
   "metadata": {},
   "source": [
    "공장에서는 진공관 수명이 1만 시간이라고 주장하여 품질관리팀에서 12개 샘플을 뽑았음 유의수준 5%에서 부호 검정하시오\n",
    "\n",
    "(1) 귀무가설, 대립가설을 작성하시오.\n",
    "\n",
    "H0 : 진공관 평균 수명은 10,000시간이다.\n",
    "\n",
    "H1 : 진공관 평균 수명은 10,000시간이 아니다."
   ]
  },
  {
   "cell_type": "code",
   "execution_count": 1,
   "id": "d30819da",
   "metadata": {},
   "outputs": [],
   "source": [
    "import pandas as pd\n",
    "import numpy as np\n",
    "data=pd.read_csv(\"problem2.csv\")"
   ]
  },
  {
   "cell_type": "code",
   "execution_count": 3,
   "id": "0b285abd",
   "metadata": {},
   "outputs": [],
   "source": [
    "data.drop(columns=['name'], inplace=True)"
   ]
  },
  {
   "cell_type": "code",
   "execution_count": 4,
   "id": "0f0dfc19",
   "metadata": {},
   "outputs": [
    {
     "data": {
      "text/html": [
       "<div>\n",
       "<style scoped>\n",
       "    .dataframe tbody tr th:only-of-type {\n",
       "        vertical-align: middle;\n",
       "    }\n",
       "\n",
       "    .dataframe tbody tr th {\n",
       "        vertical-align: top;\n",
       "    }\n",
       "\n",
       "    .dataframe thead th {\n",
       "        text-align: right;\n",
       "    }\n",
       "</style>\n",
       "<table border=\"1\" class=\"dataframe\">\n",
       "  <thead>\n",
       "    <tr style=\"text-align: right;\">\n",
       "      <th></th>\n",
       "      <th>life span</th>\n",
       "    </tr>\n",
       "  </thead>\n",
       "  <tbody>\n",
       "    <tr>\n",
       "      <th>0</th>\n",
       "      <td>10000</td>\n",
       "    </tr>\n",
       "    <tr>\n",
       "      <th>1</th>\n",
       "      <td>9000</td>\n",
       "    </tr>\n",
       "    <tr>\n",
       "      <th>2</th>\n",
       "      <td>9500</td>\n",
       "    </tr>\n",
       "    <tr>\n",
       "      <th>3</th>\n",
       "      <td>10000</td>\n",
       "    </tr>\n",
       "    <tr>\n",
       "      <th>4</th>\n",
       "      <td>10000</td>\n",
       "    </tr>\n",
       "    <tr>\n",
       "      <th>5</th>\n",
       "      <td>8900</td>\n",
       "    </tr>\n",
       "    <tr>\n",
       "      <th>6</th>\n",
       "      <td>9900</td>\n",
       "    </tr>\n",
       "    <tr>\n",
       "      <th>7</th>\n",
       "      <td>10100</td>\n",
       "    </tr>\n",
       "    <tr>\n",
       "      <th>8</th>\n",
       "      <td>10300</td>\n",
       "    </tr>\n",
       "    <tr>\n",
       "      <th>9</th>\n",
       "      <td>10020</td>\n",
       "    </tr>\n",
       "    <tr>\n",
       "      <th>10</th>\n",
       "      <td>10000</td>\n",
       "    </tr>\n",
       "    <tr>\n",
       "      <th>11</th>\n",
       "      <td>9800</td>\n",
       "    </tr>\n",
       "  </tbody>\n",
       "</table>\n",
       "</div>"
      ],
      "text/plain": [
       "    life span\n",
       "0       10000\n",
       "1        9000\n",
       "2        9500\n",
       "3       10000\n",
       "4       10000\n",
       "5        8900\n",
       "6        9900\n",
       "7       10100\n",
       "8       10300\n",
       "9       10020\n",
       "10      10000\n",
       "11       9800"
      ]
     },
     "execution_count": 4,
     "metadata": {},
     "output_type": "execute_result"
    }
   ],
   "source": [
    "data"
   ]
  },
  {
   "cell_type": "markdown",
   "id": "296c0e42",
   "metadata": {},
   "source": [
    "- 정규성 검정"
   ]
  },
  {
   "cell_type": "code",
   "execution_count": 5,
   "id": "69106c25",
   "metadata": {},
   "outputs": [
    {
     "data": {
      "text/plain": [
       "ShapiroResult(statistic=0.7996646165847778, pvalue=0.009287018328905106)"
      ]
     },
     "execution_count": 5,
     "metadata": {},
     "output_type": "execute_result"
    }
   ],
   "source": [
    "import scipy.stats as stats\n",
    "from scipy.stats import shapiro\n",
    "shapiro(data)"
   ]
  },
  {
   "cell_type": "markdown",
   "id": "863c6c37",
   "metadata": {},
   "source": [
    "0.05보다 작으므로 귀무가설을 기각한다. 즉 정규분포를 따르지 않는다. 윌콕슨의 부호순위 검정 진행"
   ]
  },
  {
   "cell_type": "markdown",
   "id": "8fca9b10",
   "metadata": {},
   "source": [
    "(2) 유효한 데이터 개수?\n",
    "\n",
    ": 중위수와 동일한 값들은 순위 부호 검정에서 불필요"
   ]
  },
  {
   "cell_type": "code",
   "execution_count": 6,
   "id": "d5181547",
   "metadata": {},
   "outputs": [
    {
     "data": {
      "text/plain": [
       "life span    10000.0\n",
       "dtype: float64"
      ]
     },
     "execution_count": 6,
     "metadata": {},
     "output_type": "execute_result"
    }
   ],
   "source": [
    "data.median()"
   ]
  },
  {
   "cell_type": "code",
   "execution_count": 7,
   "id": "df316fda",
   "metadata": {},
   "outputs": [
    {
     "data": {
      "text/plain": [
       "8"
      ]
     },
     "execution_count": 7,
     "metadata": {},
     "output_type": "execute_result"
    }
   ],
   "source": [
    "len(data[data['life span']!=10000])"
   ]
  },
  {
   "cell_type": "markdown",
   "id": "fb67e41e",
   "metadata": {},
   "source": [
    "중위수를 제외한, 유효한 데이터 개수는 8개이다."
   ]
  },
  {
   "cell_type": "markdown",
   "id": "5f7b7c5b",
   "metadata": {},
   "source": [
    "(3) 검정통계량 및 귀무가설/대립가설 채택 여부를 작성하시오"
   ]
  },
  {
   "cell_type": "code",
   "execution_count": 11,
   "id": "afc1bd34",
   "metadata": {},
   "outputs": [
    {
     "name": "stderr",
     "output_type": "stream",
     "text": [
      "C:\\Users\\taeeu\\anaconda3\\lib\\site-packages\\scipy\\stats\\morestats.py:3141: UserWarning: Exact p-value calculation does not work if there are ties. Switching to normal approximation.\n",
      "  warnings.warn(\"Exact p-value calculation does not work if there are \"\n",
      "C:\\Users\\taeeu\\anaconda3\\lib\\site-packages\\scipy\\stats\\morestats.py:3155: UserWarning: Sample size too small for normal approximation.\n",
      "  warnings.warn(\"Sample size too small for normal approximation.\")\n"
     ]
    },
    {
     "data": {
      "text/plain": [
       "WilcoxonResult(statistic=8.5, pvalue=0.18289327757982765)"
      ]
     },
     "execution_count": 11,
     "metadata": {},
     "output_type": "execute_result"
    }
   ],
   "source": [
    "mean0=10000\n",
    "stats.wilcoxon(data['life span']-mean0, alternative='two-sided')"
   ]
  },
  {
   "cell_type": "markdown",
   "id": "9844aeae",
   "metadata": {},
   "source": [
    "↑ p-value가 0.05보다 크기 때문에 귀무가설을 기각할 수 없다. 즉 진공관 평균수명은 10000시간이다."
   ]
  }
 ],
 "metadata": {
  "kernelspec": {
   "display_name": "Python 3 (ipykernel)",
   "language": "python",
   "name": "python3"
  },
  "language_info": {
   "codemirror_mode": {
    "name": "ipython",
    "version": 3
   },
   "file_extension": ".py",
   "mimetype": "text/x-python",
   "name": "python",
   "nbconvert_exporter": "python",
   "pygments_lexer": "ipython3",
   "version": "3.8.5"
  }
 },
 "nbformat": 4,
 "nbformat_minor": 5
}
