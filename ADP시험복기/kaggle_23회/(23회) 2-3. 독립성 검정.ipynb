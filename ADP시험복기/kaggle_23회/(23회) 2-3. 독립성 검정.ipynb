{
 "cells": [
  {
   "cell_type": "markdown",
   "id": "0c5d5987",
   "metadata": {},
   "source": [
    "- 문제 : 학과와 성적이 관계있는지를 검정하라."
   ]
  },
  {
   "cell_type": "code",
   "execution_count": 1,
   "id": "a5474305",
   "metadata": {},
   "outputs": [],
   "source": [
    "import pandas as pd\n",
    "import numpy as np\n",
    "import \n",
    "data=pd.DataFrame({'사회과학':[15, 60, 24], '자연과학':[25, 69, 5], '공학':[10, 77, 13]}, index=['1.5-2.5', '2.5-3.5', '3.5-4.5'])"
   ]
  },
  {
   "cell_type": "code",
   "execution_count": 2,
   "id": "6a40ea89",
   "metadata": {},
   "outputs": [
    {
     "data": {
      "text/html": [
       "<div>\n",
       "<style scoped>\n",
       "    .dataframe tbody tr th:only-of-type {\n",
       "        vertical-align: middle;\n",
       "    }\n",
       "\n",
       "    .dataframe tbody tr th {\n",
       "        vertical-align: top;\n",
       "    }\n",
       "\n",
       "    .dataframe thead th {\n",
       "        text-align: right;\n",
       "    }\n",
       "</style>\n",
       "<table border=\"1\" class=\"dataframe\">\n",
       "  <thead>\n",
       "    <tr style=\"text-align: right;\">\n",
       "      <th></th>\n",
       "      <th>사회과학</th>\n",
       "      <th>자연과학</th>\n",
       "      <th>공학</th>\n",
       "    </tr>\n",
       "  </thead>\n",
       "  <tbody>\n",
       "    <tr>\n",
       "      <th>1.5-2.5</th>\n",
       "      <td>15</td>\n",
       "      <td>25</td>\n",
       "      <td>10</td>\n",
       "    </tr>\n",
       "    <tr>\n",
       "      <th>2.5-3.5</th>\n",
       "      <td>60</td>\n",
       "      <td>69</td>\n",
       "      <td>77</td>\n",
       "    </tr>\n",
       "    <tr>\n",
       "      <th>3.5-4.5</th>\n",
       "      <td>24</td>\n",
       "      <td>5</td>\n",
       "      <td>13</td>\n",
       "    </tr>\n",
       "  </tbody>\n",
       "</table>\n",
       "</div>"
      ],
      "text/plain": [
       "         사회과학  자연과학  공학\n",
       "1.5-2.5    15    25  10\n",
       "2.5-3.5    60    69  77\n",
       "3.5-4.5    24     5  13"
      ]
     },
     "execution_count": 2,
     "metadata": {},
     "output_type": "execute_result"
    }
   ],
   "source": [
    "data"
   ]
  },
  {
   "cell_type": "markdown",
   "id": "33820ef5",
   "metadata": {},
   "source": [
    "H0 : 학과와 성적은 독립이다.\n",
    "    \n",
    "H1 : 학과와 성적은 독립이 아니다."
   ]
  },
  {
   "cell_type": "code",
   "execution_count": 8,
   "id": "0b10690d",
   "metadata": {},
   "outputs": [
    {
     "data": {
      "text/plain": [
       "(22.136920195949322, 0.00018822647762421383)"
      ]
     },
     "execution_count": 8,
     "metadata": {},
     "output_type": "execute_result"
    }
   ],
   "source": [
    "from scipy.stats import chi2_contingency\n",
    "chi2, p, dof, ef=chi2_contingency(data, correction=False)\n",
    "chi2, p"
   ]
  },
  {
   "cell_type": "markdown",
   "id": "6f89d4d5",
   "metadata": {},
   "source": [
    "p-value가 0.05보다 작으므로 귀무가설을 기각한다. 즉 학과와 성적은 독립이 아니다. 관련성이 있다."
   ]
  }
 ],
 "metadata": {
  "kernelspec": {
   "display_name": "Python 3 (ipykernel)",
   "language": "python",
   "name": "python3"
  },
  "language_info": {
   "codemirror_mode": {
    "name": "ipython",
    "version": 3
   },
   "file_extension": ".py",
   "mimetype": "text/x-python",
   "name": "python",
   "nbconvert_exporter": "python",
   "pygments_lexer": "ipython3",
   "version": "3.8.5"
  }
 },
 "nbformat": 4,
 "nbformat_minor": 5
}
