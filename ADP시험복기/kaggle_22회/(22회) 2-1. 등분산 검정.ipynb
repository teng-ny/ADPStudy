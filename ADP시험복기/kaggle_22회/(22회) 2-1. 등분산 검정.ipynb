{
 "cells": [
  {
   "cell_type": "markdown",
   "id": "7a11319c",
   "metadata": {},
   "source": [
    "금속 성분 함유량 데이터(변수 1개) - 제품에 금속 재질 함유량의 분산이 1.3을 넘으면 불량이라고 보고 있는데 제조사별로 차이가 난다고 제보를 받았으며, 분산에 대해 검정을 수행하시오. (유의확률 0.05)"
   ]
  },
  {
   "cell_type": "markdown",
   "id": "271f1e9d",
   "metadata": {},
   "source": [
    "H0 : 분산은 1.3\n",
    "\n",
    "H1 : 분산은 1.3이 아니다."
   ]
  },
  {
   "cell_type": "code",
   "execution_count": 1,
   "id": "ae49c4d8",
   "metadata": {},
   "outputs": [],
   "source": [
    "import pandas as pd\n",
    "import numpy as np\n",
    "data=pd.read_csv(\"content.csv\")"
   ]
  },
  {
   "cell_type": "code",
   "execution_count": 2,
   "id": "aed3b5ca",
   "metadata": {},
   "outputs": [
    {
     "data": {
      "text/html": [
       "<div>\n",
       "<style scoped>\n",
       "    .dataframe tbody tr th:only-of-type {\n",
       "        vertical-align: middle;\n",
       "    }\n",
       "\n",
       "    .dataframe tbody tr th {\n",
       "        vertical-align: top;\n",
       "    }\n",
       "\n",
       "    .dataframe thead th {\n",
       "        text-align: right;\n",
       "    }\n",
       "</style>\n",
       "<table border=\"1\" class=\"dataframe\">\n",
       "  <thead>\n",
       "    <tr style=\"text-align: right;\">\n",
       "      <th></th>\n",
       "      <th>content</th>\n",
       "    </tr>\n",
       "  </thead>\n",
       "  <tbody>\n",
       "    <tr>\n",
       "      <th>0</th>\n",
       "      <td>97.995295</td>\n",
       "    </tr>\n",
       "    <tr>\n",
       "      <th>1</th>\n",
       "      <td>101.478315</td>\n",
       "    </tr>\n",
       "    <tr>\n",
       "      <th>2</th>\n",
       "      <td>102.284913</td>\n",
       "    </tr>\n",
       "    <tr>\n",
       "      <th>3</th>\n",
       "      <td>98.993634</td>\n",
       "    </tr>\n",
       "    <tr>\n",
       "      <th>4</th>\n",
       "      <td>104.635232</td>\n",
       "    </tr>\n",
       "    <tr>\n",
       "      <th>...</th>\n",
       "      <td>...</td>\n",
       "    </tr>\n",
       "    <tr>\n",
       "      <th>195</th>\n",
       "      <td>100.568703</td>\n",
       "    </tr>\n",
       "    <tr>\n",
       "      <th>196</th>\n",
       "      <td>99.082193</td>\n",
       "    </tr>\n",
       "    <tr>\n",
       "      <th>197</th>\n",
       "      <td>100.163027</td>\n",
       "    </tr>\n",
       "    <tr>\n",
       "      <th>198</th>\n",
       "      <td>99.327200</td>\n",
       "    </tr>\n",
       "    <tr>\n",
       "      <th>199</th>\n",
       "      <td>100.920466</td>\n",
       "    </tr>\n",
       "  </tbody>\n",
       "</table>\n",
       "<p>200 rows × 1 columns</p>\n",
       "</div>"
      ],
      "text/plain": [
       "        content\n",
       "0     97.995295\n",
       "1    101.478315\n",
       "2    102.284913\n",
       "3     98.993634\n",
       "4    104.635232\n",
       "..          ...\n",
       "195  100.568703\n",
       "196   99.082193\n",
       "197  100.163027\n",
       "198   99.327200\n",
       "199  100.920466\n",
       "\n",
       "[200 rows x 1 columns]"
      ]
     },
     "execution_count": 2,
     "metadata": {},
     "output_type": "execute_result"
    }
   ],
   "source": [
    "data"
   ]
  },
  {
   "cell_type": "markdown",
   "id": "2a4475c1",
   "metadata": {},
   "source": [
    "- 정규성 검정"
   ]
  },
  {
   "cell_type": "code",
   "execution_count": 3,
   "id": "a5728161",
   "metadata": {},
   "outputs": [
    {
     "data": {
      "text/plain": [
       "ShapiroResult(statistic=0.9930017590522766, pvalue=0.4605061113834381)"
      ]
     },
     "execution_count": 3,
     "metadata": {},
     "output_type": "execute_result"
    }
   ],
   "source": [
    "import scipy.stats as stats\n",
    "from scipy.stats import shapiro\n",
    "shapiro(data['content'])"
   ]
  },
  {
   "cell_type": "markdown",
   "id": "e8837b1e",
   "metadata": {},
   "source": [
    "0.05보다 크므로 귀무가설을 기각할 수 없다. 정규분포를 따른다."
   ]
  },
  {
   "cell_type": "markdown",
   "id": "8d567bfc",
   "metadata": {},
   "source": [
    "- 등분산 검정"
   ]
  },
  {
   "cell_type": "code",
   "execution_count": 8,
   "id": "8aaade7d",
   "metadata": {},
   "outputs": [],
   "source": [
    "A_norm=np.random.normal(data['content'].mean(), np.sqrt(1.3), size=200)"
   ]
  },
  {
   "cell_type": "code",
   "execution_count": 10,
   "id": "a7b2260c",
   "metadata": {},
   "outputs": [
    {
     "data": {
      "text/plain": [
       "LeveneResult(statistic=7.581850278627086, pvalue=0.006166052264295032)"
      ]
     },
     "execution_count": 10,
     "metadata": {},
     "output_type": "execute_result"
    }
   ],
   "source": [
    "stats.levene(A_norm, data['content'])"
   ]
  },
  {
   "cell_type": "markdown",
   "id": "1750d614",
   "metadata": {},
   "source": [
    "귀무가설을 기각한다. 즉 등분산이 아니다. 제조사별 금속 함유량 분산은 차이가 난다"
   ]
  }
 ],
 "metadata": {
  "kernelspec": {
   "display_name": "Python 3 (ipykernel)",
   "language": "python",
   "name": "python3"
  },
  "language_info": {
   "codemirror_mode": {
    "name": "ipython",
    "version": 3
   },
   "file_extension": ".py",
   "mimetype": "text/x-python",
   "name": "python",
   "nbconvert_exporter": "python",
   "pygments_lexer": "ipython3",
   "version": "3.8.5"
  }
 },
 "nbformat": 4,
 "nbformat_minor": 5
}
