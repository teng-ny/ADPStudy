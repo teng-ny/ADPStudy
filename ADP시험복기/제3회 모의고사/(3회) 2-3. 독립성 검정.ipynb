{
 "cells": [
  {
   "cell_type": "markdown",
   "id": "ca15c691",
   "metadata": {},
   "source": [
    "사회과학, 자연과학, 공학 세개 학과의 평점조사표를 보고 학과와 성적이 관계가 있는지 검정하시오."
   ]
  },
  {
   "cell_type": "code",
   "execution_count": 1,
   "id": "1300c78c",
   "metadata": {},
   "outputs": [],
   "source": [
    "import pandas as pd\n",
    "import numpy as np"
   ]
  },
  {
   "cell_type": "code",
   "execution_count": 4,
   "id": "cad3b1b0",
   "metadata": {},
   "outputs": [
    {
     "data": {
      "text/html": [
       "<div>\n",
       "<style scoped>\n",
       "    .dataframe tbody tr th:only-of-type {\n",
       "        vertical-align: middle;\n",
       "    }\n",
       "\n",
       "    .dataframe tbody tr th {\n",
       "        vertical-align: top;\n",
       "    }\n",
       "\n",
       "    .dataframe thead th {\n",
       "        text-align: right;\n",
       "    }\n",
       "</style>\n",
       "<table border=\"1\" class=\"dataframe\">\n",
       "  <thead>\n",
       "    <tr style=\"text-align: right;\">\n",
       "      <th></th>\n",
       "      <th>사회과학</th>\n",
       "      <th>자연과학</th>\n",
       "      <th>공학</th>\n",
       "    </tr>\n",
       "  </thead>\n",
       "  <tbody>\n",
       "    <tr>\n",
       "      <th>3.5~4.5</th>\n",
       "      <td>16</td>\n",
       "      <td>12</td>\n",
       "      <td>18</td>\n",
       "    </tr>\n",
       "    <tr>\n",
       "      <th>2.5~3.5</th>\n",
       "      <td>30</td>\n",
       "      <td>20</td>\n",
       "      <td>13</td>\n",
       "    </tr>\n",
       "    <tr>\n",
       "      <th>1.5~2.5</th>\n",
       "      <td>12</td>\n",
       "      <td>3</td>\n",
       "      <td>14</td>\n",
       "    </tr>\n",
       "  </tbody>\n",
       "</table>\n",
       "</div>"
      ],
      "text/plain": [
       "         사회과학  자연과학  공학\n",
       "3.5~4.5    16    12  18\n",
       "2.5~3.5    30    20  13\n",
       "1.5~2.5    12     3  14"
      ]
     },
     "execution_count": 4,
     "metadata": {},
     "output_type": "execute_result"
    }
   ],
   "source": [
    "data=pd.DataFrame({\"사회과학\":[16, 30, 12], \"자연과학\":[12, 20, 3], \"공학\":[18,13,14]}, index=['3.5~4.5', \"2.5~3.5\", \"1.5~2.5\"])\n",
    "data"
   ]
  },
  {
   "cell_type": "markdown",
   "id": "36380807",
   "metadata": {},
   "source": [
    "H0 : 학과와 성적은 독립이다.\n",
    "\n",
    "H1 : 학과와  성적은 독립이 아니다."
   ]
  },
  {
   "cell_type": "code",
   "execution_count": 6,
   "id": "91a398d2",
   "metadata": {},
   "outputs": [
    {
     "data": {
      "text/plain": [
       "(10.199441509990177, 0.03719883770303157)"
      ]
     },
     "execution_count": 6,
     "metadata": {},
     "output_type": "execute_result"
    }
   ],
   "source": [
    "from scipy.stats import chi2_contingency\n",
    "chi2, p, dof, ef=chi2_contingency(data, correction=False)\n",
    "chi2, p"
   ]
  },
  {
   "cell_type": "markdown",
   "id": "c17d30e3",
   "metadata": {},
   "source": [
    "p-value가 0.05보다 작아 귀무가설을 기각한다. 즉 학과와 성적은 독립이 아니다. 관련이 있다"
   ]
  }
 ],
 "metadata": {
  "kernelspec": {
   "display_name": "Python 3 (ipykernel)",
   "language": "python",
   "name": "python3"
  },
  "language_info": {
   "codemirror_mode": {
    "name": "ipython",
    "version": 3
   },
   "file_extension": ".py",
   "mimetype": "text/x-python",
   "name": "python",
   "nbconvert_exporter": "python",
   "pygments_lexer": "ipython3",
   "version": "3.8.5"
  }
 },
 "nbformat": 4,
 "nbformat_minor": 5
}
