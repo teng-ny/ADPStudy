{
 "cells": [
  {
   "cell_type": "markdown",
   "id": "0a9269b7",
   "metadata": {},
   "source": [
    "- 모분산 신뢰구간"
   ]
  },
  {
   "cell_type": "code",
   "execution_count": 27,
   "id": "f57766f9",
   "metadata": {},
   "outputs": [],
   "source": [
    "import pandas as pd\n",
    "import numpy as np\n",
    "import scipy.stats as st"
   ]
  },
  {
   "cell_type": "code",
   "execution_count": 22,
   "id": "7d494756",
   "metadata": {},
   "outputs": [
    {
     "data": {
      "text/plain": [
       "9.486832980505138"
      ]
     },
     "execution_count": 22,
     "metadata": {},
     "output_type": "execute_result"
    }
   ],
   "source": [
    "표준=pow(90,1/2)\n",
    "표준"
   ]
  },
  {
   "cell_type": "code",
   "execution_count": 23,
   "id": "04d1e2d0",
   "metadata": {},
   "outputs": [],
   "source": [
    "#pow(90, 1/2 표준편차)\n",
    "data=np.random.randn(10)*표준"
   ]
  },
  {
   "cell_type": "code",
   "execution_count": 24,
   "id": "c609ba2e",
   "metadata": {},
   "outputs": [
    {
     "data": {
      "text/plain": [
       "8.954312762079436"
      ]
     },
     "execution_count": 24,
     "metadata": {},
     "output_type": "execute_result"
    }
   ],
   "source": [
    "data.std()"
   ]
  },
  {
   "cell_type": "code",
   "execution_count": 25,
   "id": "31bfe3db",
   "metadata": {},
   "outputs": [
    {
     "data": {
      "text/plain": [
       "array([-8.8072523 , -4.28123309, 17.43835808,  6.69664613, -5.89133972,\n",
       "       -8.18905472,  1.60738183, 15.98186656,  6.73133375,  3.93685738])"
      ]
     },
     "execution_count": 25,
     "metadata": {},
     "output_type": "execute_result"
    }
   ],
   "source": [
    "data"
   ]
  },
  {
   "cell_type": "code",
   "execution_count": 28,
   "id": "0ad8d115",
   "metadata": {},
   "outputs": [
    {
     "name": "stdout",
     "output_type": "stream",
     "text": [
      "(296.9190816425625, 42.14934329738499)\n"
     ]
    }
   ],
   "source": [
    "n = len(data) \n",
    "s2 = data.var(ddof=1)  # 표본분산\n",
    "\n",
    "x_left = st.chi2.ppf(0.025, df=n-1) # 5.629\n",
    "x_right = st.chi2.ppf(0.975, df=n-1) # 26.119\n",
    "\n",
    "area = ((n - 1) * s2 / x_left, (n - 1) * s2 / x_right)\n",
    "print(area)"
   ]
  },
  {
   "cell_type": "code",
   "execution_count": 29,
   "id": "a051b597",
   "metadata": {},
   "outputs": [
    {
     "data": {
      "text/plain": [
       "89.08857449015406"
      ]
     },
     "execution_count": 29,
     "metadata": {},
     "output_type": "execute_result"
    }
   ],
   "source": [
    "s2"
   ]
  },
  {
   "cell_type": "code",
   "execution_count": 30,
   "id": "0a209cb9",
   "metadata": {},
   "outputs": [
    {
     "data": {
      "text/plain": [
       "2.7003894999803584"
      ]
     },
     "execution_count": 30,
     "metadata": {},
     "output_type": "execute_result"
    }
   ],
   "source": [
    "x_left"
   ]
  },
  {
   "cell_type": "code",
   "execution_count": null,
   "id": "f2025be9",
   "metadata": {},
   "outputs": [],
   "source": []
  }
 ],
 "metadata": {
  "kernelspec": {
   "display_name": "Python 3 (ipykernel)",
   "language": "python",
   "name": "python3"
  },
  "language_info": {
   "codemirror_mode": {
    "name": "ipython",
    "version": 3
   },
   "file_extension": ".py",
   "mimetype": "text/x-python",
   "name": "python",
   "nbconvert_exporter": "python",
   "pygments_lexer": "ipython3",
   "version": "3.9.7"
  }
 },
 "nbformat": 4,
 "nbformat_minor": 5
}
