{
 "cells": [
  {
   "cell_type": "markdown",
   "id": "e65c1a3d",
   "metadata": {},
   "source": [
    "6번. 광고영상의 평균시간을 계산하기 위해 8편의 광고시간을 측정하였다. 표본의 평균은 18.8, 표본분산은 3.2일 떄 90% 신뢰구간을 구하여라. 단, 정규분포 가정, 소수점 둘쨰자리까지 반올림하여 표기"
   ]
  },
  {
   "cell_type": "code",
   "execution_count": 13,
   "id": "b2a2f137",
   "metadata": {},
   "outputs": [],
   "source": [
    "import pandas as pd\n",
    "import numpy as np\n",
    "import scipy.stats as stats"
   ]
  },
  {
   "cell_type": "code",
   "execution_count": 14,
   "id": "be282265",
   "metadata": {},
   "outputs": [],
   "source": [
    "n=8\n",
    "s_mean=18.8\n",
    "u_var=3.2\n",
    "alpha=0.1\n",
    "rv=stats.t(df=n-1)"
   ]
  },
  {
   "cell_type": "code",
   "execution_count": 15,
   "id": "82ad9e19",
   "metadata": {},
   "outputs": [
    {
     "data": {
      "text/plain": [
       "(17.6, 20.0)"
      ]
     },
     "execution_count": 15,
     "metadata": {},
     "output_type": "execute_result"
    }
   ],
   "source": [
    "lcl=s_mean-rv.isf(alpha/2)*np.sqrt(u_var/n)\n",
    "ucl=s_mean-rv.isf(1-alpha/2)*np.sqrt(u_var/n)\n",
    "round(lcl, 2), round(ucl,2)"
   ]
  }
 ],
 "metadata": {
  "kernelspec": {
   "display_name": "Python 3 (ipykernel)",
   "language": "python",
   "name": "python3"
  },
  "language_info": {
   "codemirror_mode": {
    "name": "ipython",
    "version": 3
   },
   "file_extension": ".py",
   "mimetype": "text/x-python",
   "name": "python",
   "nbconvert_exporter": "python",
   "pygments_lexer": "ipython3",
   "version": "3.8.5"
  }
 },
 "nbformat": 4,
 "nbformat_minor": 5
}
