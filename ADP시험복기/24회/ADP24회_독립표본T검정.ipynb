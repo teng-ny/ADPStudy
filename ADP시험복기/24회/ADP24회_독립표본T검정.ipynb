{
 "cells": [
  {
   "cell_type": "code",
   "execution_count": 1,
   "id": "199907cc",
   "metadata": {},
   "outputs": [],
   "source": [
    "import pandas as pd\n",
    "import numpy as np\n",
    "import scipy.stats as stats\n",
    "\n",
    "import warnings\n",
    "warnings.filterwarnings('ignore')"
   ]
  },
  {
   "cell_type": "code",
   "execution_count": 3,
   "id": "4dda492c",
   "metadata": {},
   "outputs": [],
   "source": [
    "mean_A=5.7\n",
    "mean_B=5.6\n",
    "s_A=0.03\n",
    "s_B=0.04\n",
    "n=12"
   ]
  },
  {
   "cell_type": "markdown",
   "id": "0631fd72",
   "metadata": {},
   "source": [
    "### 귀무가설/대립가설 설정"
   ]
  },
  {
   "cell_type": "markdown",
   "id": "9d84caaa",
   "metadata": {},
   "source": [
    "- H0 : 생산라인 A, B 사이의 평균차이는 없다.\n",
    "- H1 : 생산라인 A, B 사이의 차이는 있다."
   ]
  },
  {
   "cell_type": "markdown",
   "id": "1dc9b5e3",
   "metadata": {},
   "source": [
    "### 검정 통계량, 채택"
   ]
  },
  {
   "cell_type": "markdown",
   "id": "fdef8f41",
   "metadata": {},
   "source": [
    "- 방법1"
   ]
  },
  {
   "cell_type": "code",
   "execution_count": 4,
   "id": "77c993a2",
   "metadata": {},
   "outputs": [
    {
     "data": {
      "text/plain": [
       "6.928203230275546"
      ]
     },
     "execution_count": 4,
     "metadata": {},
     "output_type": "execute_result"
    }
   ],
   "source": [
    "t=(mean_A-mean_B)/np.sqrt(s_A**2/n+s_B**2/n)\n",
    "t"
   ]
  },
  {
   "cell_type": "markdown",
   "id": "f7e715da",
   "metadata": {},
   "source": [
    "이 방법으로 채택하려면 자유도를 구해야함..!"
   ]
  },
  {
   "cell_type": "code",
   "execution_count": 13,
   "id": "d51fc0fb",
   "metadata": {},
   "outputs": [
    {
     "data": {
      "text/plain": [
       "20.40059347181009"
      ]
     },
     "execution_count": 13,
     "metadata": {},
     "output_type": "execute_result"
    }
   ],
   "source": [
    "df=(s_A**2/n+s_B**2/n)**2/((s_A**4/(n**2*(n-1)))+(s_B**4/(n**2*(n-1))))\n",
    "df\n",
    "#소수점 버려서 자유도는 20"
   ]
  },
  {
   "cell_type": "code",
   "execution_count": 14,
   "id": "bf79286e",
   "metadata": {},
   "outputs": [
    {
     "data": {
      "text/plain": [
       "9.975711472431925e-07"
      ]
     },
     "execution_count": 14,
     "metadata": {},
     "output_type": "execute_result"
    }
   ],
   "source": [
    "df=20\n",
    "rv=stats.t(df=20)\n",
    "p=(1-rv.cdf(t))*2\n",
    "p"
   ]
  },
  {
   "cell_type": "markdown",
   "id": "302fbe08",
   "metadata": {},
   "source": [
    "귀무가설을 기각한다. 즉 모평균의 차이는 있다."
   ]
  },
  {
   "cell_type": "markdown",
   "id": "e5877b3a",
   "metadata": {},
   "source": [
    "### 신뢰구간"
   ]
  },
  {
   "cell_type": "code",
   "execution_count": 16,
   "id": "3f1ff5f7",
   "metadata": {},
   "outputs": [
    {
     "data": {
      "text/plain": [
       "(0.06989171105503426, 0.1301082889449668)"
      ]
     },
     "execution_count": 16,
     "metadata": {},
     "output_type": "execute_result"
    }
   ],
   "source": [
    "rv=stats.t(df=20)\n",
    "lcl=(mean_A-mean_B)-rv.isf(0.025)*np.sqrt(s_A**2/n+s_B**2/n)\n",
    "ucl=(mean_A-mean_B)-rv.isf(0.975)*np.sqrt(s_A**2/n+s_B**2/n)\n",
    "lcl, ucl"
   ]
  },
  {
   "cell_type": "markdown",
   "id": "f857dca9",
   "metadata": {},
   "source": [
    "기각한다."
   ]
  },
  {
   "cell_type": "markdown",
   "id": "2470744c",
   "metadata": {},
   "source": [
    "- 방법2(데이터셋 만들기)"
   ]
  },
  {
   "cell_type": "code",
   "execution_count": 18,
   "id": "2fbf48ea",
   "metadata": {},
   "outputs": [
    {
     "data": {
      "text/plain": [
       "LeveneResult(statistic=2.425903961880092, pvalue=0.13361436688572148)"
      ]
     },
     "execution_count": 18,
     "metadata": {},
     "output_type": "execute_result"
    }
   ],
   "source": [
    "np.random.seed(seed=100)\n",
    "A_norm=np.random.normal(mean_A, s_A, size=12)\n",
    "B_norm=np.random.normal(mean_B, s_B, size=12)\n",
    "stats.levene(A_norm, B_norm)"
   ]
  },
  {
   "cell_type": "code",
   "execution_count": 19,
   "id": "ee7ad7e3",
   "metadata": {},
   "outputs": [
    {
     "data": {
      "text/plain": [
       "Ttest_indResult(statistic=7.25678118264107, pvalue=6.891314662089384e-07)"
      ]
     },
     "execution_count": 19,
     "metadata": {},
     "output_type": "execute_result"
    }
   ],
   "source": [
    "stats.ttest_ind(A_norm, B_norm, equal_var=False)"
   ]
  },
  {
   "cell_type": "markdown",
   "id": "feed22b8",
   "metadata": {},
   "source": [
    "p-value가 0.05보다 작으므로 귀무가설을 기각한다."
   ]
  }
 ],
 "metadata": {
  "kernelspec": {
   "display_name": "Python 3 (ipykernel)",
   "language": "python",
   "name": "python3"
  },
  "language_info": {
   "codemirror_mode": {
    "name": "ipython",
    "version": 3
   },
   "file_extension": ".py",
   "mimetype": "text/x-python",
   "name": "python",
   "nbconvert_exporter": "python",
   "pygments_lexer": "ipython3",
   "version": "3.8.5"
  }
 },
 "nbformat": 4,
 "nbformat_minor": 5
}
