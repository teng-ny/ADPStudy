{
 "cells": [
  {
   "cell_type": "code",
   "execution_count": 11,
   "id": "955473a2",
   "metadata": {},
   "outputs": [],
   "source": [
    "import pandas as pd\n",
    "import numpy as np\n",
    "df=pd.read_csv(\"problem3.csv\")"
   ]
  },
  {
   "cell_type": "code",
   "execution_count": 12,
   "id": "f02df9d5",
   "metadata": {},
   "outputs": [
    {
     "data": {
      "text/html": [
       "<div>\n",
       "<style scoped>\n",
       "    .dataframe tbody tr th:only-of-type {\n",
       "        vertical-align: middle;\n",
       "    }\n",
       "\n",
       "    .dataframe tbody tr th {\n",
       "        vertical-align: top;\n",
       "    }\n",
       "\n",
       "    .dataframe thead th {\n",
       "        text-align: right;\n",
       "    }\n",
       "</style>\n",
       "<table border=\"1\" class=\"dataframe\">\n",
       "  <thead>\n",
       "    <tr style=\"text-align: right;\">\n",
       "      <th></th>\n",
       "      <th>userid</th>\n",
       "      <th>group</th>\n",
       "      <th>Q1-1</th>\n",
       "      <th>Q1-2</th>\n",
       "      <th>Q1-3</th>\n",
       "      <th>Q1-4</th>\n",
       "      <th>Q2-1</th>\n",
       "      <th>Q2-2</th>\n",
       "      <th>Q2-3</th>\n",
       "      <th>Q2-4</th>\n",
       "      <th>...</th>\n",
       "      <th>Q3-3</th>\n",
       "      <th>Q3-4</th>\n",
       "      <th>Q4-1</th>\n",
       "      <th>Q4-2</th>\n",
       "      <th>Q4-3</th>\n",
       "      <th>Q4-4</th>\n",
       "      <th>Q5-1</th>\n",
       "      <th>Q5-2</th>\n",
       "      <th>Q5-3</th>\n",
       "      <th>Q5-4</th>\n",
       "    </tr>\n",
       "  </thead>\n",
       "  <tbody>\n",
       "    <tr>\n",
       "      <th>0</th>\n",
       "      <td>0</td>\n",
       "      <td>A</td>\n",
       "      <td>5</td>\n",
       "      <td>2</td>\n",
       "      <td>1</td>\n",
       "      <td>2</td>\n",
       "      <td>4</td>\n",
       "      <td>5</td>\n",
       "      <td>3</td>\n",
       "      <td>3</td>\n",
       "      <td>...</td>\n",
       "      <td>1</td>\n",
       "      <td>1</td>\n",
       "      <td>5</td>\n",
       "      <td>2</td>\n",
       "      <td>5</td>\n",
       "      <td>3</td>\n",
       "      <td>3</td>\n",
       "      <td>4</td>\n",
       "      <td>3</td>\n",
       "      <td>4</td>\n",
       "    </tr>\n",
       "    <tr>\n",
       "      <th>1</th>\n",
       "      <td>1</td>\n",
       "      <td>A</td>\n",
       "      <td>2</td>\n",
       "      <td>2</td>\n",
       "      <td>3</td>\n",
       "      <td>3</td>\n",
       "      <td>4</td>\n",
       "      <td>3</td>\n",
       "      <td>1</td>\n",
       "      <td>4</td>\n",
       "      <td>...</td>\n",
       "      <td>2</td>\n",
       "      <td>3</td>\n",
       "      <td>4</td>\n",
       "      <td>3</td>\n",
       "      <td>5</td>\n",
       "      <td>3</td>\n",
       "      <td>1</td>\n",
       "      <td>2</td>\n",
       "      <td>1</td>\n",
       "      <td>1</td>\n",
       "    </tr>\n",
       "    <tr>\n",
       "      <th>2</th>\n",
       "      <td>2</td>\n",
       "      <td>A</td>\n",
       "      <td>1</td>\n",
       "      <td>3</td>\n",
       "      <td>4</td>\n",
       "      <td>4</td>\n",
       "      <td>2</td>\n",
       "      <td>1</td>\n",
       "      <td>4</td>\n",
       "      <td>4</td>\n",
       "      <td>...</td>\n",
       "      <td>4</td>\n",
       "      <td>2</td>\n",
       "      <td>1</td>\n",
       "      <td>3</td>\n",
       "      <td>4</td>\n",
       "      <td>1</td>\n",
       "      <td>3</td>\n",
       "      <td>3</td>\n",
       "      <td>2</td>\n",
       "      <td>5</td>\n",
       "    </tr>\n",
       "  </tbody>\n",
       "</table>\n",
       "<p>3 rows × 22 columns</p>\n",
       "</div>"
      ],
      "text/plain": [
       "   userid group  Q1-1  Q1-2  Q1-3  Q1-4  Q2-1  Q2-2  Q2-3  Q2-4  ...  Q3-3  \\\n",
       "0       0     A     5     2     1     2     4     5     3     3  ...     1   \n",
       "1       1     A     2     2     3     3     4     3     1     4  ...     2   \n",
       "2       2     A     1     3     4     4     2     1     4     4  ...     4   \n",
       "\n",
       "   Q3-4  Q4-1  Q4-2  Q4-3  Q4-4  Q5-1  Q5-2  Q5-3  Q5-4  \n",
       "0     1     5     2     5     3     3     4     3     4  \n",
       "1     3     4     3     5     3     1     2     1     1  \n",
       "2     2     1     3     4     1     3     3     2     5  \n",
       "\n",
       "[3 rows x 22 columns]"
      ]
     },
     "execution_count": 12,
     "metadata": {},
     "output_type": "execute_result"
    }
   ],
   "source": [
    "df.head(3)"
   ]
  },
  {
   "cell_type": "markdown",
   "id": "89ae2a87",
   "metadata": {},
   "source": [
    "- 역변환"
   ]
  },
  {
   "cell_type": "code",
   "execution_count": 39,
   "id": "b1f2604a",
   "metadata": {},
   "outputs": [],
   "source": [
    "for num in range(1,6):\n",
    "    df[f'Q{num}-3']=6-df[f'Q{num}-3']"
   ]
  },
  {
   "cell_type": "markdown",
   "id": "7eb080e6",
   "metadata": {},
   "source": [
    "- 그룹의 영역별 응답 평균, 표준편차, 왜도, 첨도"
   ]
  },
  {
   "cell_type": "code",
   "execution_count": 44,
   "id": "ce8cb238",
   "metadata": {},
   "outputs": [
    {
     "data": {
      "text/html": [
       "<div>\n",
       "<style scoped>\n",
       "    .dataframe tbody tr th:only-of-type {\n",
       "        vertical-align: middle;\n",
       "    }\n",
       "\n",
       "    .dataframe tbody tr th {\n",
       "        vertical-align: top;\n",
       "    }\n",
       "\n",
       "    .dataframe thead tr th {\n",
       "        text-align: left;\n",
       "    }\n",
       "\n",
       "    .dataframe thead tr:last-of-type th {\n",
       "        text-align: right;\n",
       "    }\n",
       "</style>\n",
       "<table border=\"1\" class=\"dataframe\">\n",
       "  <thead>\n",
       "    <tr>\n",
       "      <th></th>\n",
       "      <th colspan=\"4\" halign=\"left\">Q1</th>\n",
       "    </tr>\n",
       "    <tr>\n",
       "      <th></th>\n",
       "      <th>mean</th>\n",
       "      <th>std</th>\n",
       "      <th>skew</th>\n",
       "      <th>kurt</th>\n",
       "    </tr>\n",
       "    <tr>\n",
       "      <th>group</th>\n",
       "      <th></th>\n",
       "      <th></th>\n",
       "      <th></th>\n",
       "      <th></th>\n",
       "    </tr>\n",
       "  </thead>\n",
       "  <tbody>\n",
       "    <tr>\n",
       "      <th>A</th>\n",
       "      <td>2.984</td>\n",
       "      <td>1.263860</td>\n",
       "      <td>-0.065283</td>\n",
       "      <td>-1.095162</td>\n",
       "    </tr>\n",
       "    <tr>\n",
       "      <th>B</th>\n",
       "      <td>2.970</td>\n",
       "      <td>1.242837</td>\n",
       "      <td>-0.084167</td>\n",
       "      <td>-1.047102</td>\n",
       "    </tr>\n",
       "    <tr>\n",
       "      <th>C</th>\n",
       "      <td>2.996</td>\n",
       "      <td>1.243998</td>\n",
       "      <td>-0.048687</td>\n",
       "      <td>-1.037586</td>\n",
       "    </tr>\n",
       "    <tr>\n",
       "      <th>D</th>\n",
       "      <td>2.923</td>\n",
       "      <td>1.262008</td>\n",
       "      <td>-0.025453</td>\n",
       "      <td>-1.093624</td>\n",
       "    </tr>\n",
       "  </tbody>\n",
       "</table>\n",
       "</div>"
      ],
      "text/plain": [
       "          Q1                              \n",
       "        mean       std      skew      kurt\n",
       "group                                     \n",
       "A      2.984  1.263860 -0.065283 -1.095162\n",
       "B      2.970  1.242837 -0.084167 -1.047102\n",
       "C      2.996  1.243998 -0.048687 -1.037586\n",
       "D      2.923  1.262008 -0.025453 -1.093624"
      ]
     },
     "metadata": {},
     "output_type": "display_data"
    },
    {
     "data": {
      "text/html": [
       "<div>\n",
       "<style scoped>\n",
       "    .dataframe tbody tr th:only-of-type {\n",
       "        vertical-align: middle;\n",
       "    }\n",
       "\n",
       "    .dataframe tbody tr th {\n",
       "        vertical-align: top;\n",
       "    }\n",
       "\n",
       "    .dataframe thead tr th {\n",
       "        text-align: left;\n",
       "    }\n",
       "\n",
       "    .dataframe thead tr:last-of-type th {\n",
       "        text-align: right;\n",
       "    }\n",
       "</style>\n",
       "<table border=\"1\" class=\"dataframe\">\n",
       "  <thead>\n",
       "    <tr>\n",
       "      <th></th>\n",
       "      <th colspan=\"4\" halign=\"left\">Q2</th>\n",
       "    </tr>\n",
       "    <tr>\n",
       "      <th></th>\n",
       "      <th>mean</th>\n",
       "      <th>std</th>\n",
       "      <th>skew</th>\n",
       "      <th>kurt</th>\n",
       "    </tr>\n",
       "    <tr>\n",
       "      <th>group</th>\n",
       "      <th></th>\n",
       "      <th></th>\n",
       "      <th></th>\n",
       "      <th></th>\n",
       "    </tr>\n",
       "  </thead>\n",
       "  <tbody>\n",
       "    <tr>\n",
       "      <th>A</th>\n",
       "      <td>2.990</td>\n",
       "      <td>1.238319</td>\n",
       "      <td>-0.069746</td>\n",
       "      <td>-1.019395</td>\n",
       "    </tr>\n",
       "    <tr>\n",
       "      <th>B</th>\n",
       "      <td>3.004</td>\n",
       "      <td>1.267119</td>\n",
       "      <td>-0.093300</td>\n",
       "      <td>-1.073471</td>\n",
       "    </tr>\n",
       "    <tr>\n",
       "      <th>C</th>\n",
       "      <td>3.049</td>\n",
       "      <td>1.257052</td>\n",
       "      <td>-0.131877</td>\n",
       "      <td>-1.048401</td>\n",
       "    </tr>\n",
       "    <tr>\n",
       "      <th>D</th>\n",
       "      <td>2.975</td>\n",
       "      <td>1.252974</td>\n",
       "      <td>-0.099610</td>\n",
       "      <td>-1.064374</td>\n",
       "    </tr>\n",
       "  </tbody>\n",
       "</table>\n",
       "</div>"
      ],
      "text/plain": [
       "          Q2                              \n",
       "        mean       std      skew      kurt\n",
       "group                                     \n",
       "A      2.990  1.238319 -0.069746 -1.019395\n",
       "B      3.004  1.267119 -0.093300 -1.073471\n",
       "C      3.049  1.257052 -0.131877 -1.048401\n",
       "D      2.975  1.252974 -0.099610 -1.064374"
      ]
     },
     "metadata": {},
     "output_type": "display_data"
    },
    {
     "data": {
      "text/html": [
       "<div>\n",
       "<style scoped>\n",
       "    .dataframe tbody tr th:only-of-type {\n",
       "        vertical-align: middle;\n",
       "    }\n",
       "\n",
       "    .dataframe tbody tr th {\n",
       "        vertical-align: top;\n",
       "    }\n",
       "\n",
       "    .dataframe thead tr th {\n",
       "        text-align: left;\n",
       "    }\n",
       "\n",
       "    .dataframe thead tr:last-of-type th {\n",
       "        text-align: right;\n",
       "    }\n",
       "</style>\n",
       "<table border=\"1\" class=\"dataframe\">\n",
       "  <thead>\n",
       "    <tr>\n",
       "      <th></th>\n",
       "      <th colspan=\"4\" halign=\"left\">Q3</th>\n",
       "    </tr>\n",
       "    <tr>\n",
       "      <th></th>\n",
       "      <th>mean</th>\n",
       "      <th>std</th>\n",
       "      <th>skew</th>\n",
       "      <th>kurt</th>\n",
       "    </tr>\n",
       "    <tr>\n",
       "      <th>group</th>\n",
       "      <th></th>\n",
       "      <th></th>\n",
       "      <th></th>\n",
       "      <th></th>\n",
       "    </tr>\n",
       "  </thead>\n",
       "  <tbody>\n",
       "    <tr>\n",
       "      <th>A</th>\n",
       "      <td>2.972</td>\n",
       "      <td>1.268395</td>\n",
       "      <td>-0.065358</td>\n",
       "      <td>-1.103552</td>\n",
       "    </tr>\n",
       "    <tr>\n",
       "      <th>B</th>\n",
       "      <td>2.964</td>\n",
       "      <td>1.239452</td>\n",
       "      <td>-0.092818</td>\n",
       "      <td>-1.063828</td>\n",
       "    </tr>\n",
       "    <tr>\n",
       "      <th>C</th>\n",
       "      <td>2.985</td>\n",
       "      <td>1.248332</td>\n",
       "      <td>-0.104637</td>\n",
       "      <td>-1.000808</td>\n",
       "    </tr>\n",
       "    <tr>\n",
       "      <th>D</th>\n",
       "      <td>2.942</td>\n",
       "      <td>1.254675</td>\n",
       "      <td>-0.009225</td>\n",
       "      <td>-1.061711</td>\n",
       "    </tr>\n",
       "  </tbody>\n",
       "</table>\n",
       "</div>"
      ],
      "text/plain": [
       "          Q3                              \n",
       "        mean       std      skew      kurt\n",
       "group                                     \n",
       "A      2.972  1.268395 -0.065358 -1.103552\n",
       "B      2.964  1.239452 -0.092818 -1.063828\n",
       "C      2.985  1.248332 -0.104637 -1.000808\n",
       "D      2.942  1.254675 -0.009225 -1.061711"
      ]
     },
     "metadata": {},
     "output_type": "display_data"
    },
    {
     "data": {
      "text/html": [
       "<div>\n",
       "<style scoped>\n",
       "    .dataframe tbody tr th:only-of-type {\n",
       "        vertical-align: middle;\n",
       "    }\n",
       "\n",
       "    .dataframe tbody tr th {\n",
       "        vertical-align: top;\n",
       "    }\n",
       "\n",
       "    .dataframe thead tr th {\n",
       "        text-align: left;\n",
       "    }\n",
       "\n",
       "    .dataframe thead tr:last-of-type th {\n",
       "        text-align: right;\n",
       "    }\n",
       "</style>\n",
       "<table border=\"1\" class=\"dataframe\">\n",
       "  <thead>\n",
       "    <tr>\n",
       "      <th></th>\n",
       "      <th colspan=\"4\" halign=\"left\">Q4</th>\n",
       "    </tr>\n",
       "    <tr>\n",
       "      <th></th>\n",
       "      <th>mean</th>\n",
       "      <th>std</th>\n",
       "      <th>skew</th>\n",
       "      <th>kurt</th>\n",
       "    </tr>\n",
       "    <tr>\n",
       "      <th>group</th>\n",
       "      <th></th>\n",
       "      <th></th>\n",
       "      <th></th>\n",
       "      <th></th>\n",
       "    </tr>\n",
       "  </thead>\n",
       "  <tbody>\n",
       "    <tr>\n",
       "      <th>A</th>\n",
       "      <td>3.059</td>\n",
       "      <td>1.255028</td>\n",
       "      <td>-0.151060</td>\n",
       "      <td>-1.014232</td>\n",
       "    </tr>\n",
       "    <tr>\n",
       "      <th>B</th>\n",
       "      <td>2.951</td>\n",
       "      <td>1.240217</td>\n",
       "      <td>-0.064673</td>\n",
       "      <td>-1.035397</td>\n",
       "    </tr>\n",
       "    <tr>\n",
       "      <th>C</th>\n",
       "      <td>2.992</td>\n",
       "      <td>1.283582</td>\n",
       "      <td>-0.113114</td>\n",
       "      <td>-1.106012</td>\n",
       "    </tr>\n",
       "    <tr>\n",
       "      <th>D</th>\n",
       "      <td>3.000</td>\n",
       "      <td>1.271069</td>\n",
       "      <td>-0.070333</td>\n",
       "      <td>-1.034485</td>\n",
       "    </tr>\n",
       "  </tbody>\n",
       "</table>\n",
       "</div>"
      ],
      "text/plain": [
       "          Q4                              \n",
       "        mean       std      skew      kurt\n",
       "group                                     \n",
       "A      3.059  1.255028 -0.151060 -1.014232\n",
       "B      2.951  1.240217 -0.064673 -1.035397\n",
       "C      2.992  1.283582 -0.113114 -1.106012\n",
       "D      3.000  1.271069 -0.070333 -1.034485"
      ]
     },
     "metadata": {},
     "output_type": "display_data"
    },
    {
     "data": {
      "text/html": [
       "<div>\n",
       "<style scoped>\n",
       "    .dataframe tbody tr th:only-of-type {\n",
       "        vertical-align: middle;\n",
       "    }\n",
       "\n",
       "    .dataframe tbody tr th {\n",
       "        vertical-align: top;\n",
       "    }\n",
       "\n",
       "    .dataframe thead tr th {\n",
       "        text-align: left;\n",
       "    }\n",
       "\n",
       "    .dataframe thead tr:last-of-type th {\n",
       "        text-align: right;\n",
       "    }\n",
       "</style>\n",
       "<table border=\"1\" class=\"dataframe\">\n",
       "  <thead>\n",
       "    <tr>\n",
       "      <th></th>\n",
       "      <th colspan=\"4\" halign=\"left\">Q5</th>\n",
       "    </tr>\n",
       "    <tr>\n",
       "      <th></th>\n",
       "      <th>mean</th>\n",
       "      <th>std</th>\n",
       "      <th>skew</th>\n",
       "      <th>kurt</th>\n",
       "    </tr>\n",
       "    <tr>\n",
       "      <th>group</th>\n",
       "      <th></th>\n",
       "      <th></th>\n",
       "      <th></th>\n",
       "      <th></th>\n",
       "    </tr>\n",
       "  </thead>\n",
       "  <tbody>\n",
       "    <tr>\n",
       "      <th>A</th>\n",
       "      <td>3.038</td>\n",
       "      <td>1.258626</td>\n",
       "      <td>-0.116943</td>\n",
       "      <td>-1.059727</td>\n",
       "    </tr>\n",
       "    <tr>\n",
       "      <th>B</th>\n",
       "      <td>2.963</td>\n",
       "      <td>1.271711</td>\n",
       "      <td>-0.047605</td>\n",
       "      <td>-1.084950</td>\n",
       "    </tr>\n",
       "    <tr>\n",
       "      <th>C</th>\n",
       "      <td>3.023</td>\n",
       "      <td>1.260182</td>\n",
       "      <td>-0.136564</td>\n",
       "      <td>-1.059189</td>\n",
       "    </tr>\n",
       "    <tr>\n",
       "      <th>D</th>\n",
       "      <td>2.933</td>\n",
       "      <td>1.249028</td>\n",
       "      <td>-0.058391</td>\n",
       "      <td>-1.071532</td>\n",
       "    </tr>\n",
       "  </tbody>\n",
       "</table>\n",
       "</div>"
      ],
      "text/plain": [
       "          Q5                              \n",
       "        mean       std      skew      kurt\n",
       "group                                     \n",
       "A      3.038  1.258626 -0.116943 -1.059727\n",
       "B      2.963  1.271711 -0.047605 -1.084950\n",
       "C      3.023  1.260182 -0.136564 -1.059189\n",
       "D      2.933  1.249028 -0.058391 -1.071532"
      ]
     },
     "metadata": {},
     "output_type": "display_data"
    }
   ],
   "source": [
    "for num in range(1,6):\n",
    "    col_lst=['group']\n",
    "    for col in range(1,5):\n",
    "        col_lst.append(f'Q{num}-{col}')\n",
    "    target=df[col_lst]\n",
    "    targetdf=target.set_index('group').unstack().to_frame().reset_index()[['group', 0]].rename(columns={0:f'Q{num}'})\n",
    "    display(targetdf.groupby('group').agg(['mean', 'std', 'skew', pd.DataFrame.kurt]))"
   ]
  },
  {
   "cell_type": "markdown",
   "id": "f3544470",
   "metadata": {},
   "source": [
    "- anova 분석"
   ]
  },
  {
   "cell_type": "code",
   "execution_count": 46,
   "id": "76ddb5d0",
   "metadata": {},
   "outputs": [
    {
     "name": "stdout",
     "output_type": "stream",
     "text": [
      "ShapiroResult(statistic=0.8959194421768188, pvalue=4.089666539447423e-12)\n",
      "ShapiroResult(statistic=0.9031107425689697, pvalue=1.2895768654319628e-11)\n",
      "ShapiroResult(statistic=0.9036667346954346, pvalue=1.4126045819184974e-11)\n",
      "ShapiroResult(statistic=0.8961024284362793, pvalue=4.2081052184506085e-12)\n"
     ]
    }
   ],
   "source": [
    "a=df[df['group']=='A']['Q1-1']\n",
    "b=df[df['group']=='B']['Q1-1']\n",
    "c=df[df['group']=='C']['Q1-1']\n",
    "d=df[df['group']=='D']['Q1-1']\n",
    "\n",
    "import scipy.stats as stats\n",
    "print(stats.shapiro(a))\n",
    "print(stats.shapiro(b))\n",
    "print(stats.shapiro(c))\n",
    "print(stats.shapiro(d))"
   ]
  },
  {
   "cell_type": "markdown",
   "id": "090a6dec",
   "metadata": {},
   "source": [
    "모두 기각, 정규분포를 따르지 않는다."
   ]
  },
  {
   "cell_type": "markdown",
   "id": "8b956784",
   "metadata": {},
   "source": [
    "- a,b,c,d 집단간 응답에 차이가 없다.\n",
    "- a,b,c,d 집단간 응답 평균이 모두 같다고 할 수는 없다."
   ]
  },
  {
   "cell_type": "code",
   "execution_count": 47,
   "id": "39e464b5",
   "metadata": {},
   "outputs": [
    {
     "data": {
      "text/plain": [
       "KruskalResult(statistic=4.567127187870985, pvalue=0.20638028098088249)"
      ]
     },
     "execution_count": 47,
     "metadata": {},
     "output_type": "execute_result"
    }
   ],
   "source": [
    "stats.kruskal(a,b,c,d)"
   ]
  },
  {
   "cell_type": "markdown",
   "id": "7b48046b",
   "metadata": {},
   "source": [
    "귀무가설을 기각할 수 없다. 즉 a,b,c,d 집단간 응답에는 차이가 없다."
   ]
  },
  {
   "cell_type": "markdown",
   "id": "48aa1671",
   "metadata": {},
   "source": [
    "- 요인분석 수행하고 결과를 시각화"
   ]
  },
  {
   "cell_type": "code",
   "execution_count": 49,
   "id": "fe6963ef",
   "metadata": {},
   "outputs": [],
   "source": [
    "df=df.drop(columns=['userid', 'group'])"
   ]
  },
  {
   "cell_type": "code",
   "execution_count": 51,
   "id": "79b8e6c5",
   "metadata": {},
   "outputs": [
    {
     "data": {
      "text/plain": [
       "0.01887367698405033"
      ]
     },
     "execution_count": 51,
     "metadata": {},
     "output_type": "execute_result"
    }
   ],
   "source": [
    "#요인분석에 적합한 데이터인지 확인\n",
    "from factor_analyzer.factor_analyzer import calculate_bartlett_sphericity\n",
    "\n",
    "chi_square_value, p_value = calculate_bartlett_sphericity(df)\n",
    "p_value"
   ]
  },
  {
   "cell_type": "markdown",
   "id": "a27cffd3",
   "metadata": {},
   "source": [
    "귀무가설을 기각한다. 요인성 평가에 적합하다고 판단"
   ]
  },
  {
   "cell_type": "markdown",
   "id": "0f12be17",
   "metadata": {},
   "source": [
    "-KMO 검정"
   ]
  },
  {
   "cell_type": "code",
   "execution_count": 53,
   "id": "0b2f9cf6",
   "metadata": {},
   "outputs": [
    {
     "data": {
      "text/plain": [
       "0.4901789141416504"
      ]
     },
     "execution_count": 53,
     "metadata": {},
     "output_type": "execute_result"
    }
   ],
   "source": [
    "from factor_analyzer import FactorAnalyzer\n",
    "from factor_analyzer.factor_analyzer import calculate_kmo\n",
    "\n",
    "kmo_all, kmo_model=calculate_kmo(df)\n",
    "kmo_model"
   ]
  },
  {
   "cell_type": "markdown",
   "id": "a446e317",
   "metadata": {},
   "source": [
    "0.6미만이므로 KMO값은 부적절한 것으로 간주"
   ]
  },
  {
   "cell_type": "markdown",
   "id": "bab605cf",
   "metadata": {},
   "source": [
    "- 요인수 선택"
   ]
  },
  {
   "cell_type": "code",
   "execution_count": 56,
   "id": "d1f041f8",
   "metadata": {},
   "outputs": [],
   "source": [
    "import matplotlib.pyplot as plt\n",
    "fa=FactorAnalyzer(n_factors=25, rotation=None)\n",
    "fa.fit(df)\n",
    "\n",
    "#Eigen값 체크\n",
    "ev, v=fa.get_eigenvalues()"
   ]
  },
  {
   "cell_type": "code",
   "execution_count": 58,
   "id": "b65499ce",
   "metadata": {},
   "outputs": [
    {
     "data": {
      "image/png": "[encoded data removed]",
      "text/plain": [
       "<Figure size 432x288 with 1 Axes>"
      ]
     },
     "metadata": {
      "needs_background": "light"
     },
     "output_type": "display_data"
    }
   ],
   "source": [
    "plt.scatter(range(1, df.shape[1]+1), ev)\n",
    "plt.plot(range(1, df.shape[1]+1), ev)\n",
    "plt.title('Scree Plot')\n",
    "plt.xlabel('Factors')\n",
    "plt.ylabel('Eigenvalue')\n",
    "plt.grid()\n",
    "plt.show()"
   ]
  },
  {
   "cell_type": "markdown",
   "id": "5aea4d12",
   "metadata": {},
   "source": [
    "#Eigenvalue가 1이되는 지점인 10개의 요인이 선택에 적합한 숫자"
   ]
  },
  {
   "cell_type": "code",
   "execution_count": 63,
   "id": "1ba69544",
   "metadata": {},
   "outputs": [
    {
     "data": {
      "text/plain": [
       "<AxesSubplot:>"
      ]
     },
     "execution_count": 63,
     "metadata": {},
     "output_type": "execute_result"
    },
    {
     "data": {
      "image/png": "[encoded data removed]",
      "text/plain": [
       "<Figure size 432x720 with 2 Axes>"
      ]
     },
     "metadata": {
      "needs_background": "light"
     },
     "output_type": "display_data"
    }
   ],
   "source": [
    "import seaborn as sns\n",
    "fa=FactorAnalyzer(n_factors=10, rotation='varimax')\n",
    "fa.fit(df)\n",
    "efa_result=pd.DataFrame(fa.loadings_, index=df.columns)\n",
    "\n",
    "plt.figure(figsize=(6,10))\n",
    "sns.heatmap(efa_result, cmap=\"Blues\", annot=True, fmt='.2f')"
   ]
  },
  {
   "cell_type": "markdown",
   "id": "670917d8",
   "metadata": {},
   "source": [
    "요인7에는 변수에 대해 높은 요인 적재량이 없다고 해석할 수 있다. 즉 위의 7가지 요소(0~6)만 활용하는 것이 좋다\n",
    "-> 7개 요인으로 다시 모델링!"
   ]
  },
  {
   "cell_type": "code",
   "execution_count": 64,
   "id": "5c5dd509",
   "metadata": {},
   "outputs": [
    {
     "data": {
      "text/html": [
       "<style>#sk-container-id-1 {color: black;background-color: white;}#sk-container-id-1 pre{padding: 0;}#sk-container-id-1 div.sk-toggleable {background-color: white;}#sk-container-id-1 label.sk-toggleable__label {cursor: pointer;display: block;width: 100%;margin-bottom: 0;padding: 0.3em;box-sizing: border-box;text-align: center;}#sk-container-id-1 label.sk-toggleable__label-arrow:before {content: \"▸\";float: left;margin-right: 0.25em;color: #696969;}#sk-container-id-1 label.sk-toggleable__label-arrow:hover:before {color: black;}#sk-container-id-1 div.sk-estimator:hover label.sk-toggleable__label-arrow:before {color: black;}#sk-container-id-1 div.sk-toggleable__content {max-height: 0;max-width: 0;overflow: hidden;text-align: left;background-color: #f0f8ff;}#sk-container-id-1 div.sk-toggleable__content pre {margin: 0.2em;color: black;border-radius: 0.25em;background-color: #f0f8ff;}#sk-container-id-1 input.sk-toggleable__control:checked~div.sk-toggleable__content {max-height: 200px;max-width: 100%;overflow: auto;}#sk-container-id-1 input.sk-toggleable__control:checked~label.sk-toggleable__label-arrow:before {content: \"▾\";}#sk-container-id-1 div.sk-estimator input.sk-toggleable__control:checked~label.sk-toggleable__label {background-color: #d4ebff;}#sk-container-id-1 div.sk-label input.sk-toggleable__control:checked~label.sk-toggleable__label {background-color: #d4ebff;}#sk-container-id-1 input.sk-hidden--visually {border: 0;clip: rect(1px 1px 1px 1px);clip: rect(1px, 1px, 1px, 1px);height: 1px;margin: -1px;overflow: hidden;padding: 0;position: absolute;width: 1px;}#sk-container-id-1 div.sk-estimator {font-family: monospace;background-color: #f0f8ff;border: 1px dotted black;border-radius: 0.25em;box-sizing: border-box;margin-bottom: 0.5em;}#sk-container-id-1 div.sk-estimator:hover {background-color: #d4ebff;}#sk-container-id-1 div.sk-parallel-item::after {content: \"\";width: 100%;border-bottom: 1px solid gray;flex-grow: 1;}#sk-container-id-1 div.sk-label:hover label.sk-toggleable__label {background-color: #d4ebff;}#sk-container-id-1 div.sk-serial::before {content: \"\";position: absolute;border-left: 1px solid gray;box-sizing: border-box;top: 0;bottom: 0;left: 50%;z-index: 0;}#sk-container-id-1 div.sk-serial {display: flex;flex-direction: column;align-items: center;background-color: white;padding-right: 0.2em;padding-left: 0.2em;position: relative;}#sk-container-id-1 div.sk-item {position: relative;z-index: 1;}#sk-container-id-1 div.sk-parallel {display: flex;align-items: stretch;justify-content: center;background-color: white;position: relative;}#sk-container-id-1 div.sk-item::before, #sk-container-id-1 div.sk-parallel-item::before {content: \"\";position: absolute;border-left: 1px solid gray;box-sizing: border-box;top: 0;bottom: 0;left: 50%;z-index: -1;}#sk-container-id-1 div.sk-parallel-item {display: flex;flex-direction: column;z-index: 1;position: relative;background-color: white;}#sk-container-id-1 div.sk-parallel-item:first-child::after {align-self: flex-end;width: 50%;}#sk-container-id-1 div.sk-parallel-item:last-child::after {align-self: flex-start;width: 50%;}#sk-container-id-1 div.sk-parallel-item:only-child::after {width: 0;}#sk-container-id-1 div.sk-dashed-wrapped {border: 1px dashed gray;margin: 0 0.4em 0.5em 0.4em;box-sizing: border-box;padding-bottom: 0.4em;background-color: white;}#sk-container-id-1 div.sk-label label {font-family: monospace;font-weight: bold;display: inline-block;line-height: 1.2em;}#sk-container-id-1 div.sk-label-container {text-align: center;}#sk-container-id-1 div.sk-container {/* jupyter's `normalize.less` sets `[hidden] { display: none; }` but bootstrap.min.css set `[hidden] { display: none !important; }` so we also need the `!important` here to be able to override the default hidden behavior on the sphinx rendered scikit-learn.org. See: https://github.com/scikit-learn/scikit-learn/issues/21755 */display: inline-block !important;position: relative;}#sk-container-id-1 div.sk-text-repr-fallback {display: none;}</style><div id=\"sk-container-id-1\" class=\"sk-top-container\"><div class=\"sk-text-repr-fallback\"><pre>FactorAnalyzer(n_factors=7, rotation=&#x27;varimax&#x27;, rotation_kwargs={})</pre><b>In a Jupyter environment, please rerun this cell to show the HTML representation or trust the notebook. <br />On GitHub, the HTML representation is unable to render, please try loading this page with nbviewer.org.</b></div><div class=\"sk-container\" hidden><div class=\"sk-item\"><div class=\"sk-estimator sk-toggleable\"><input class=\"sk-toggleable__control sk-hidden--visually\" id=\"sk-estimator-id-1\" type=\"checkbox\" checked><label for=\"sk-estimator-id-1\" class=\"sk-toggleable__label sk-toggleable__label-arrow\">FactorAnalyzer</label><div class=\"sk-toggleable__content\"><pre>FactorAnalyzer(n_factors=7, rotation=&#x27;varimax&#x27;, rotation_kwargs={})</pre></div></div></div></div></div>"
      ],
      "text/plain": [
       "FactorAnalyzer(n_factors=7, rotation='varimax', rotation_kwargs={})"
      ]
     },
     "execution_count": 64,
     "metadata": {},
     "output_type": "execute_result"
    }
   ],
   "source": [
    "fa=FactorAnalyzer(n_factors=7, rotation='varimax')\n",
    "fa.fit(df)"
   ]
  },
  {
   "cell_type": "code",
   "execution_count": 66,
   "id": "b1dfaac4",
   "metadata": {},
   "outputs": [
    {
     "data": {
      "text/html": [
       "<div>\n",
       "<style scoped>\n",
       "    .dataframe tbody tr th:only-of-type {\n",
       "        vertical-align: middle;\n",
       "    }\n",
       "\n",
       "    .dataframe tbody tr th {\n",
       "        vertical-align: top;\n",
       "    }\n",
       "\n",
       "    .dataframe thead th {\n",
       "        text-align: right;\n",
       "    }\n",
       "</style>\n",
       "<table border=\"1\" class=\"dataframe\">\n",
       "  <thead>\n",
       "    <tr style=\"text-align: right;\">\n",
       "      <th></th>\n",
       "      <th>0</th>\n",
       "      <th>1</th>\n",
       "      <th>2</th>\n",
       "      <th>3</th>\n",
       "      <th>4</th>\n",
       "      <th>5</th>\n",
       "      <th>6</th>\n",
       "    </tr>\n",
       "  </thead>\n",
       "  <tbody>\n",
       "    <tr>\n",
       "      <th>SS Loadings</th>\n",
       "      <td>1.008050</td>\n",
       "      <td>0.988726</td>\n",
       "      <td>0.877933</td>\n",
       "      <td>0.409423</td>\n",
       "      <td>0.356336</td>\n",
       "      <td>0.269833</td>\n",
       "      <td>0.208008</td>\n",
       "    </tr>\n",
       "    <tr>\n",
       "      <th>Proportion Var</th>\n",
       "      <td>0.050402</td>\n",
       "      <td>0.049436</td>\n",
       "      <td>0.043897</td>\n",
       "      <td>0.020471</td>\n",
       "      <td>0.017817</td>\n",
       "      <td>0.013492</td>\n",
       "      <td>0.010400</td>\n",
       "    </tr>\n",
       "    <tr>\n",
       "      <th>Cumulative Var</th>\n",
       "      <td>0.050402</td>\n",
       "      <td>0.099839</td>\n",
       "      <td>0.143735</td>\n",
       "      <td>0.164207</td>\n",
       "      <td>0.182023</td>\n",
       "      <td>0.195515</td>\n",
       "      <td>0.205915</td>\n",
       "    </tr>\n",
       "  </tbody>\n",
       "</table>\n",
       "</div>"
      ],
      "text/plain": [
       "                       0         1         2         3         4         5  \\\n",
       "SS Loadings     1.008050  0.988726  0.877933  0.409423  0.356336  0.269833   \n",
       "Proportion Var  0.050402  0.049436  0.043897  0.020471  0.017817  0.013492   \n",
       "Cumulative Var  0.050402  0.099839  0.143735  0.164207  0.182023  0.195515   \n",
       "\n",
       "                       6  \n",
       "SS Loadings     0.208008  \n",
       "Proportion Var  0.010400  \n",
       "Cumulative Var  0.205915  "
      ]
     },
     "execution_count": 66,
     "metadata": {},
     "output_type": "execute_result"
    }
   ],
   "source": [
    "fa.get_factor_variance() #분산\n",
    "df1=pd.DataFrame(fa.get_factor_variance())\n",
    "\n",
    "#행, 열 이름 설정\n",
    "df1.index=['SS Loadings', 'Proportion Var', 'Cumulative Var']\n",
    "df1"
   ]
  }
 ],
 "metadata": {
  "kernelspec": {
   "display_name": "Python 3 (ipykernel)",
   "language": "python",
   "name": "python3"
  },
  "language_info": {
   "codemirror_mode": {
    "name": "ipython",
    "version": 3
   },
   "file_extension": ".py",
   "mimetype": "text/x-python",
   "name": "python",
   "nbconvert_exporter": "python",
   "pygments_lexer": "ipython3",
   "version": "3.8.5"
  }
 },
 "nbformat": 4,
 "nbformat_minor": 5
}
