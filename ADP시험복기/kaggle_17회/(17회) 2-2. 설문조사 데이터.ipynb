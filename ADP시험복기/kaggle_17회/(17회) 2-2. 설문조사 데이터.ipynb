{
 "cells": [
  {
   "cell_type": "markdown",
   "id": "3cab15aa",
   "metadata": {},
   "source": [
    "데이터 설명 : A ~ D까지의 그룹에게 각각 같은 설문조사를 하여 1-1,1-2,1-3...5-1,5-4 인 설문지를 푼 것이다. 문항은 영역별로 나뉘어 있고, 영역은 크게 5개이다(1~5)\n",
    "각 영역의 세부문항은 4개씩 존재한다 (1-1,1-2,1-3,1-4 ~) 이 때 중간에 반대 문항이 들어가 있다. 예를 들어 1-1 문제가 \"나는 시간약속을 잘 지킨다.\"라는 문제라면 1-3의 문제는 \"나는 시간약속을 잘 지키지 않는다.\" 라는 역문제로 구성 되어있다. 각 영역의 3번문항의 1번문항의 역문제이다. 모든 답변은 5점 척도이다. 문제를 풀기전 모든 역문항의 경우 점수를 변환(6점을 빼서) 작업이 필요하다"
   ]
  },
  {
   "cell_type": "markdown",
   "id": "7b533576",
   "metadata": {},
   "source": [
    "### 3-1 역문항을 변환 한 후 각 그룹(A-D)의 영역(Q1-Q5)별 응답의 평균, 표준편차, 왜도, 첨도를 구하라. \n",
    "(각 통계량 별로 4x5 dataframe 생성)"
   ]
  },
  {
   "cell_type": "code",
   "execution_count": 19,
   "id": "7e8a1b2e",
   "metadata": {},
   "outputs": [],
   "source": [
    "import pandas as pd\n",
    "import numpy as np\n",
    "data=pd.read_csv(\"problem3.csv\")"
   ]
  },
  {
   "cell_type": "code",
   "execution_count": 20,
   "id": "ab4a720f",
   "metadata": {},
   "outputs": [
    {
     "data": {
      "text/html": [
       "<div>\n",
       "<style scoped>\n",
       "    .dataframe tbody tr th:only-of-type {\n",
       "        vertical-align: middle;\n",
       "    }\n",
       "\n",
       "    .dataframe tbody tr th {\n",
       "        vertical-align: top;\n",
       "    }\n",
       "\n",
       "    .dataframe thead th {\n",
       "        text-align: right;\n",
       "    }\n",
       "</style>\n",
       "<table border=\"1\" class=\"dataframe\">\n",
       "  <thead>\n",
       "    <tr style=\"text-align: right;\">\n",
       "      <th></th>\n",
       "      <th>userid</th>\n",
       "      <th>group</th>\n",
       "      <th>Q1-1</th>\n",
       "      <th>Q1-2</th>\n",
       "      <th>Q1-3</th>\n",
       "      <th>Q1-4</th>\n",
       "      <th>Q2-1</th>\n",
       "      <th>Q2-2</th>\n",
       "      <th>Q2-3</th>\n",
       "      <th>Q2-4</th>\n",
       "      <th>...</th>\n",
       "      <th>Q3-3</th>\n",
       "      <th>Q3-4</th>\n",
       "      <th>Q4-1</th>\n",
       "      <th>Q4-2</th>\n",
       "      <th>Q4-3</th>\n",
       "      <th>Q4-4</th>\n",
       "      <th>Q5-1</th>\n",
       "      <th>Q5-2</th>\n",
       "      <th>Q5-3</th>\n",
       "      <th>Q5-4</th>\n",
       "    </tr>\n",
       "  </thead>\n",
       "  <tbody>\n",
       "    <tr>\n",
       "      <th>0</th>\n",
       "      <td>0</td>\n",
       "      <td>A</td>\n",
       "      <td>5</td>\n",
       "      <td>2</td>\n",
       "      <td>1</td>\n",
       "      <td>2</td>\n",
       "      <td>4</td>\n",
       "      <td>5</td>\n",
       "      <td>3</td>\n",
       "      <td>3</td>\n",
       "      <td>...</td>\n",
       "      <td>1</td>\n",
       "      <td>1</td>\n",
       "      <td>5</td>\n",
       "      <td>2</td>\n",
       "      <td>5</td>\n",
       "      <td>3</td>\n",
       "      <td>3</td>\n",
       "      <td>4</td>\n",
       "      <td>3</td>\n",
       "      <td>4</td>\n",
       "    </tr>\n",
       "    <tr>\n",
       "      <th>1</th>\n",
       "      <td>1</td>\n",
       "      <td>A</td>\n",
       "      <td>2</td>\n",
       "      <td>2</td>\n",
       "      <td>3</td>\n",
       "      <td>3</td>\n",
       "      <td>4</td>\n",
       "      <td>3</td>\n",
       "      <td>1</td>\n",
       "      <td>4</td>\n",
       "      <td>...</td>\n",
       "      <td>2</td>\n",
       "      <td>3</td>\n",
       "      <td>4</td>\n",
       "      <td>3</td>\n",
       "      <td>5</td>\n",
       "      <td>3</td>\n",
       "      <td>1</td>\n",
       "      <td>2</td>\n",
       "      <td>1</td>\n",
       "      <td>1</td>\n",
       "    </tr>\n",
       "    <tr>\n",
       "      <th>2</th>\n",
       "      <td>2</td>\n",
       "      <td>A</td>\n",
       "      <td>1</td>\n",
       "      <td>3</td>\n",
       "      <td>4</td>\n",
       "      <td>4</td>\n",
       "      <td>2</td>\n",
       "      <td>1</td>\n",
       "      <td>4</td>\n",
       "      <td>4</td>\n",
       "      <td>...</td>\n",
       "      <td>4</td>\n",
       "      <td>2</td>\n",
       "      <td>1</td>\n",
       "      <td>3</td>\n",
       "      <td>4</td>\n",
       "      <td>1</td>\n",
       "      <td>3</td>\n",
       "      <td>3</td>\n",
       "      <td>2</td>\n",
       "      <td>5</td>\n",
       "    </tr>\n",
       "    <tr>\n",
       "      <th>3</th>\n",
       "      <td>3</td>\n",
       "      <td>A</td>\n",
       "      <td>3</td>\n",
       "      <td>3</td>\n",
       "      <td>4</td>\n",
       "      <td>2</td>\n",
       "      <td>2</td>\n",
       "      <td>4</td>\n",
       "      <td>4</td>\n",
       "      <td>3</td>\n",
       "      <td>...</td>\n",
       "      <td>2</td>\n",
       "      <td>3</td>\n",
       "      <td>3</td>\n",
       "      <td>4</td>\n",
       "      <td>2</td>\n",
       "      <td>4</td>\n",
       "      <td>1</td>\n",
       "      <td>1</td>\n",
       "      <td>3</td>\n",
       "      <td>2</td>\n",
       "    </tr>\n",
       "    <tr>\n",
       "      <th>4</th>\n",
       "      <td>4</td>\n",
       "      <td>A</td>\n",
       "      <td>3</td>\n",
       "      <td>1</td>\n",
       "      <td>2</td>\n",
       "      <td>3</td>\n",
       "      <td>4</td>\n",
       "      <td>3</td>\n",
       "      <td>4</td>\n",
       "      <td>1</td>\n",
       "      <td>...</td>\n",
       "      <td>5</td>\n",
       "      <td>1</td>\n",
       "      <td>3</td>\n",
       "      <td>2</td>\n",
       "      <td>3</td>\n",
       "      <td>1</td>\n",
       "      <td>3</td>\n",
       "      <td>2</td>\n",
       "      <td>5</td>\n",
       "      <td>4</td>\n",
       "    </tr>\n",
       "  </tbody>\n",
       "</table>\n",
       "<p>5 rows × 22 columns</p>\n",
       "</div>"
      ],
      "text/plain": [
       "   userid group  Q1-1  Q1-2  Q1-3  Q1-4  Q2-1  Q2-2  Q2-3  Q2-4  ...  Q3-3  \\\n",
       "0       0     A     5     2     1     2     4     5     3     3  ...     1   \n",
       "1       1     A     2     2     3     3     4     3     1     4  ...     2   \n",
       "2       2     A     1     3     4     4     2     1     4     4  ...     4   \n",
       "3       3     A     3     3     4     2     2     4     4     3  ...     2   \n",
       "4       4     A     3     1     2     3     4     3     4     1  ...     5   \n",
       "\n",
       "   Q3-4  Q4-1  Q4-2  Q4-3  Q4-4  Q5-1  Q5-2  Q5-3  Q5-4  \n",
       "0     1     5     2     5     3     3     4     3     4  \n",
       "1     3     4     3     5     3     1     2     1     1  \n",
       "2     2     1     3     4     1     3     3     2     5  \n",
       "3     3     3     4     2     4     1     1     3     2  \n",
       "4     1     3     2     3     1     3     2     5     4  \n",
       "\n",
       "[5 rows x 22 columns]"
      ]
     },
     "execution_count": 20,
     "metadata": {},
     "output_type": "execute_result"
    }
   ],
   "source": [
    "data.head()"
   ]
  },
  {
   "cell_type": "markdown",
   "id": "473d7530",
   "metadata": {},
   "source": [
    "- 역변환(Q1-3, Q2-3, Q3-3, Q4-3, Q5-3)"
   ]
  },
  {
   "cell_type": "code",
   "execution_count": 21,
   "id": "42a85caf",
   "metadata": {},
   "outputs": [],
   "source": [
    "for num in range(1,6):\n",
    "    data[f'Q{num}-3'] =6 -data[f'Q{num}-3']"
   ]
  },
  {
   "cell_type": "markdown",
   "id": "047fc8f3",
   "metadata": {},
   "source": [
    "- 영역별 평균, 표준편차, 왜도, 첨도\n",
    "- 평균(mean)\n",
    "- 표준편차(std)\n",
    "- 왜도(skew)\n",
    "- 첨도(kurt)"
   ]
  },
  {
   "cell_type": "code",
   "execution_count": 52,
   "id": "f82c76fd",
   "metadata": {},
   "outputs": [
    {
     "data": {
      "text/html": [
       "<div>\n",
       "<style scoped>\n",
       "    .dataframe tbody tr th:only-of-type {\n",
       "        vertical-align: middle;\n",
       "    }\n",
       "\n",
       "    .dataframe tbody tr th {\n",
       "        vertical-align: top;\n",
       "    }\n",
       "\n",
       "    .dataframe thead tr th {\n",
       "        text-align: left;\n",
       "    }\n",
       "\n",
       "    .dataframe thead tr:last-of-type th {\n",
       "        text-align: right;\n",
       "    }\n",
       "</style>\n",
       "<table border=\"1\" class=\"dataframe\">\n",
       "  <thead>\n",
       "    <tr>\n",
       "      <th></th>\n",
       "      <th colspan=\"4\" halign=\"left\">Q1</th>\n",
       "    </tr>\n",
       "    <tr>\n",
       "      <th></th>\n",
       "      <th>mean</th>\n",
       "      <th>std</th>\n",
       "      <th>skew</th>\n",
       "      <th>kurt</th>\n",
       "    </tr>\n",
       "    <tr>\n",
       "      <th>group</th>\n",
       "      <th></th>\n",
       "      <th></th>\n",
       "      <th></th>\n",
       "      <th></th>\n",
       "    </tr>\n",
       "  </thead>\n",
       "  <tbody>\n",
       "    <tr>\n",
       "      <th>A</th>\n",
       "      <td>3.016</td>\n",
       "      <td>1.263860</td>\n",
       "      <td>-0.077803</td>\n",
       "      <td>-1.087887</td>\n",
       "    </tr>\n",
       "    <tr>\n",
       "      <th>B</th>\n",
       "      <td>3.042</td>\n",
       "      <td>1.242489</td>\n",
       "      <td>-0.126751</td>\n",
       "      <td>-1.022905</td>\n",
       "    </tr>\n",
       "    <tr>\n",
       "      <th>C</th>\n",
       "      <td>3.030</td>\n",
       "      <td>1.243642</td>\n",
       "      <td>-0.050626</td>\n",
       "      <td>-1.033246</td>\n",
       "    </tr>\n",
       "    <tr>\n",
       "      <th>D</th>\n",
       "      <td>2.991</td>\n",
       "      <td>1.264325</td>\n",
       "      <td>-0.069421</td>\n",
       "      <td>-1.081406</td>\n",
       "    </tr>\n",
       "  </tbody>\n",
       "</table>\n",
       "</div>"
      ],
      "text/plain": [
       "          Q1                              \n",
       "        mean       std      skew      kurt\n",
       "group                                     \n",
       "A      3.016  1.263860 -0.077803 -1.087887\n",
       "B      3.042  1.242489 -0.126751 -1.022905\n",
       "C      3.030  1.243642 -0.050626 -1.033246\n",
       "D      2.991  1.264325 -0.069421 -1.081406"
      ]
     },
     "metadata": {},
     "output_type": "display_data"
    },
    {
     "data": {
      "text/html": [
       "<div>\n",
       "<style scoped>\n",
       "    .dataframe tbody tr th:only-of-type {\n",
       "        vertical-align: middle;\n",
       "    }\n",
       "\n",
       "    .dataframe tbody tr th {\n",
       "        vertical-align: top;\n",
       "    }\n",
       "\n",
       "    .dataframe thead tr th {\n",
       "        text-align: left;\n",
       "    }\n",
       "\n",
       "    .dataframe thead tr:last-of-type th {\n",
       "        text-align: right;\n",
       "    }\n",
       "</style>\n",
       "<table border=\"1\" class=\"dataframe\">\n",
       "  <thead>\n",
       "    <tr>\n",
       "      <th></th>\n",
       "      <th colspan=\"4\" halign=\"left\">Q2</th>\n",
       "    </tr>\n",
       "    <tr>\n",
       "      <th></th>\n",
       "      <th>mean</th>\n",
       "      <th>std</th>\n",
       "      <th>skew</th>\n",
       "      <th>kurt</th>\n",
       "    </tr>\n",
       "    <tr>\n",
       "      <th>group</th>\n",
       "      <th></th>\n",
       "      <th></th>\n",
       "      <th></th>\n",
       "      <th></th>\n",
       "    </tr>\n",
       "  </thead>\n",
       "  <tbody>\n",
       "    <tr>\n",
       "      <th>A</th>\n",
       "      <td>3.058</td>\n",
       "      <td>1.236999</td>\n",
       "      <td>-0.129390</td>\n",
       "      <td>-0.997133</td>\n",
       "    </tr>\n",
       "    <tr>\n",
       "      <th>B</th>\n",
       "      <td>3.048</td>\n",
       "      <td>1.266215</td>\n",
       "      <td>-0.111043</td>\n",
       "      <td>-1.060834</td>\n",
       "    </tr>\n",
       "    <tr>\n",
       "      <th>C</th>\n",
       "      <td>3.063</td>\n",
       "      <td>1.256427</td>\n",
       "      <td>-0.122030</td>\n",
       "      <td>-1.046603</td>\n",
       "    </tr>\n",
       "    <tr>\n",
       "      <th>D</th>\n",
       "      <td>3.091</td>\n",
       "      <td>1.249913</td>\n",
       "      <td>-0.166334</td>\n",
       "      <td>-1.018150</td>\n",
       "    </tr>\n",
       "  </tbody>\n",
       "</table>\n",
       "</div>"
      ],
      "text/plain": [
       "          Q2                              \n",
       "        mean       std      skew      kurt\n",
       "group                                     \n",
       "A      3.058  1.236999 -0.129390 -0.997133\n",
       "B      3.048  1.266215 -0.111043 -1.060834\n",
       "C      3.063  1.256427 -0.122030 -1.046603\n",
       "D      3.091  1.249913 -0.166334 -1.018150"
      ]
     },
     "metadata": {},
     "output_type": "display_data"
    },
    {
     "data": {
      "text/html": [
       "<div>\n",
       "<style scoped>\n",
       "    .dataframe tbody tr th:only-of-type {\n",
       "        vertical-align: middle;\n",
       "    }\n",
       "\n",
       "    .dataframe tbody tr th {\n",
       "        vertical-align: top;\n",
       "    }\n",
       "\n",
       "    .dataframe thead tr th {\n",
       "        text-align: left;\n",
       "    }\n",
       "\n",
       "    .dataframe thead tr:last-of-type th {\n",
       "        text-align: right;\n",
       "    }\n",
       "</style>\n",
       "<table border=\"1\" class=\"dataframe\">\n",
       "  <thead>\n",
       "    <tr>\n",
       "      <th></th>\n",
       "      <th colspan=\"4\" halign=\"left\">Q3</th>\n",
       "    </tr>\n",
       "    <tr>\n",
       "      <th></th>\n",
       "      <th>mean</th>\n",
       "      <th>std</th>\n",
       "      <th>skew</th>\n",
       "      <th>kurt</th>\n",
       "    </tr>\n",
       "    <tr>\n",
       "      <th>group</th>\n",
       "      <th></th>\n",
       "      <th></th>\n",
       "      <th></th>\n",
       "      <th></th>\n",
       "    </tr>\n",
       "  </thead>\n",
       "  <tbody>\n",
       "    <tr>\n",
       "      <th>A</th>\n",
       "      <td>2.992</td>\n",
       "      <td>1.268679</td>\n",
       "      <td>-0.061600</td>\n",
       "      <td>-1.098330</td>\n",
       "    </tr>\n",
       "    <tr>\n",
       "      <th>B</th>\n",
       "      <td>3.050</td>\n",
       "      <td>1.238965</td>\n",
       "      <td>-0.117158</td>\n",
       "      <td>-1.035672</td>\n",
       "    </tr>\n",
       "    <tr>\n",
       "      <th>C</th>\n",
       "      <td>3.023</td>\n",
       "      <td>1.248210</td>\n",
       "      <td>-0.102330</td>\n",
       "      <td>-0.988577</td>\n",
       "    </tr>\n",
       "    <tr>\n",
       "      <th>D</th>\n",
       "      <td>3.034</td>\n",
       "      <td>1.255556</td>\n",
       "      <td>-0.128043</td>\n",
       "      <td>-1.043094</td>\n",
       "    </tr>\n",
       "  </tbody>\n",
       "</table>\n",
       "</div>"
      ],
      "text/plain": [
       "          Q3                              \n",
       "        mean       std      skew      kurt\n",
       "group                                     \n",
       "A      2.992  1.268679 -0.061600 -1.098330\n",
       "B      3.050  1.238965 -0.117158 -1.035672\n",
       "C      3.023  1.248210 -0.102330 -0.988577\n",
       "D      3.034  1.255556 -0.128043 -1.043094"
      ]
     },
     "metadata": {},
     "output_type": "display_data"
    },
    {
     "data": {
      "text/html": [
       "<div>\n",
       "<style scoped>\n",
       "    .dataframe tbody tr th:only-of-type {\n",
       "        vertical-align: middle;\n",
       "    }\n",
       "\n",
       "    .dataframe tbody tr th {\n",
       "        vertical-align: top;\n",
       "    }\n",
       "\n",
       "    .dataframe thead tr th {\n",
       "        text-align: left;\n",
       "    }\n",
       "\n",
       "    .dataframe thead tr:last-of-type th {\n",
       "        text-align: right;\n",
       "    }\n",
       "</style>\n",
       "<table border=\"1\" class=\"dataframe\">\n",
       "  <thead>\n",
       "    <tr>\n",
       "      <th></th>\n",
       "      <th colspan=\"4\" halign=\"left\">Q4</th>\n",
       "    </tr>\n",
       "    <tr>\n",
       "      <th></th>\n",
       "      <th>mean</th>\n",
       "      <th>std</th>\n",
       "      <th>skew</th>\n",
       "      <th>kurt</th>\n",
       "    </tr>\n",
       "    <tr>\n",
       "      <th>group</th>\n",
       "      <th></th>\n",
       "      <th></th>\n",
       "      <th></th>\n",
       "      <th></th>\n",
       "    </tr>\n",
       "  </thead>\n",
       "  <tbody>\n",
       "    <tr>\n",
       "      <th>A</th>\n",
       "      <td>3.043</td>\n",
       "      <td>1.255678</td>\n",
       "      <td>-0.090314</td>\n",
       "      <td>-1.028166</td>\n",
       "    </tr>\n",
       "    <tr>\n",
       "      <th>B</th>\n",
       "      <td>3.041</td>\n",
       "      <td>1.240507</td>\n",
       "      <td>-0.071541</td>\n",
       "      <td>-1.014676</td>\n",
       "    </tr>\n",
       "    <tr>\n",
       "      <th>C</th>\n",
       "      <td>3.014</td>\n",
       "      <td>1.283531</td>\n",
       "      <td>-0.074531</td>\n",
       "      <td>-1.100094</td>\n",
       "    </tr>\n",
       "    <tr>\n",
       "      <th>D</th>\n",
       "      <td>3.080</td>\n",
       "      <td>1.268546</td>\n",
       "      <td>-0.144620</td>\n",
       "      <td>-1.006126</td>\n",
       "    </tr>\n",
       "  </tbody>\n",
       "</table>\n",
       "</div>"
      ],
      "text/plain": [
       "          Q4                              \n",
       "        mean       std      skew      kurt\n",
       "group                                     \n",
       "A      3.043  1.255678 -0.090314 -1.028166\n",
       "B      3.041  1.240507 -0.071541 -1.014676\n",
       "C      3.014  1.283531 -0.074531 -1.100094\n",
       "D      3.080  1.268546 -0.144620 -1.006126"
      ]
     },
     "metadata": {},
     "output_type": "display_data"
    },
    {
     "data": {
      "text/html": [
       "<div>\n",
       "<style scoped>\n",
       "    .dataframe tbody tr th:only-of-type {\n",
       "        vertical-align: middle;\n",
       "    }\n",
       "\n",
       "    .dataframe tbody tr th {\n",
       "        vertical-align: top;\n",
       "    }\n",
       "\n",
       "    .dataframe thead tr th {\n",
       "        text-align: left;\n",
       "    }\n",
       "\n",
       "    .dataframe thead tr:last-of-type th {\n",
       "        text-align: right;\n",
       "    }\n",
       "</style>\n",
       "<table border=\"1\" class=\"dataframe\">\n",
       "  <thead>\n",
       "    <tr>\n",
       "      <th></th>\n",
       "      <th colspan=\"4\" halign=\"left\">Q5</th>\n",
       "    </tr>\n",
       "    <tr>\n",
       "      <th></th>\n",
       "      <th>mean</th>\n",
       "      <th>std</th>\n",
       "      <th>skew</th>\n",
       "      <th>kurt</th>\n",
       "    </tr>\n",
       "    <tr>\n",
       "      <th>group</th>\n",
       "      <th></th>\n",
       "      <th></th>\n",
       "      <th></th>\n",
       "      <th></th>\n",
       "    </tr>\n",
       "  </thead>\n",
       "  <tbody>\n",
       "    <tr>\n",
       "      <th>A</th>\n",
       "      <td>3.088</td>\n",
       "      <td>1.256119</td>\n",
       "      <td>-0.102638</td>\n",
       "      <td>-1.053632</td>\n",
       "    </tr>\n",
       "    <tr>\n",
       "      <th>B</th>\n",
       "      <td>2.983</td>\n",
       "      <td>1.272136</td>\n",
       "      <td>-0.055805</td>\n",
       "      <td>-1.080934</td>\n",
       "    </tr>\n",
       "    <tr>\n",
       "      <th>C</th>\n",
       "      <td>2.987</td>\n",
       "      <td>1.260325</td>\n",
       "      <td>-0.068696</td>\n",
       "      <td>-1.071557</td>\n",
       "    </tr>\n",
       "    <tr>\n",
       "      <th>D</th>\n",
       "      <td>2.989</td>\n",
       "      <td>1.250777</td>\n",
       "      <td>-0.065315</td>\n",
       "      <td>-1.055332</td>\n",
       "    </tr>\n",
       "  </tbody>\n",
       "</table>\n",
       "</div>"
      ],
      "text/plain": [
       "          Q5                              \n",
       "        mean       std      skew      kurt\n",
       "group                                     \n",
       "A      3.088  1.256119 -0.102638 -1.053632\n",
       "B      2.983  1.272136 -0.055805 -1.080934\n",
       "C      2.987  1.260325 -0.068696 -1.071557\n",
       "D      2.989  1.250777 -0.065315 -1.055332"
      ]
     },
     "metadata": {},
     "output_type": "display_data"
    }
   ],
   "source": [
    "for num in range(1,6):\n",
    "    col_lst = ['group']\n",
    "    for col in range(1,5):\n",
    "        col_lst.append(f'Q{num}-{col}')\n",
    "        \n",
    "    target = data[col_lst]\n",
    "    \n",
    "    targetdf =target.set_index('group').unstack().to_frame().reset_index()[['group',0]].rename(columns ={0: f'Q{num}'})\n",
    "\n",
    "    display(targetdf.groupby('group').agg(['mean','std','skew',pd.DataFrame.kurt]))"
   ]
  },
  {
   "cell_type": "markdown",
   "id": "a8960da7",
   "metadata": {},
   "source": [
    "### 3-2 그룹별로 Q1-1문항의 차이가 존재하는지 anova분석을 시행하라"
   ]
  },
  {
   "cell_type": "code",
   "execution_count": 54,
   "id": "5e52ad14",
   "metadata": {},
   "outputs": [
    {
     "name": "stdout",
     "output_type": "stream",
     "text": [
      "ShapiroResult(statistic=0.8959194421768188, pvalue=4.089666539447423e-12)\n",
      "ShapiroResult(statistic=0.9031107425689697, pvalue=1.2895768654319628e-11)\n",
      "ShapiroResult(statistic=0.9036667346954346, pvalue=1.4126045819184974e-11)\n",
      "ShapiroResult(statistic=0.8961024284362793, pvalue=4.2081052184506085e-12)\n"
     ]
    }
   ],
   "source": [
    "from scipy.stats import shapiro\n",
    "a=data[data['group']=='A']['Q1-1']\n",
    "b=data[data['group']=='B']['Q1-1']\n",
    "c=data[data['group']=='C']['Q1-1']\n",
    "d=data[data['group']=='D']['Q1-1']\n",
    "\n",
    "print(shapiro(a))\n",
    "print(shapiro(b))\n",
    "print(shapiro(c))\n",
    "print(shapiro(d))"
   ]
  },
  {
   "cell_type": "markdown",
   "id": "c45ecf2e",
   "metadata": {},
   "source": [
    "모두 기각하므로 kruskal 검정"
   ]
  },
  {
   "cell_type": "code",
   "execution_count": 58,
   "id": "1a8bbc5e",
   "metadata": {},
   "outputs": [
    {
     "data": {
      "text/plain": [
       "KruskalResult(statistic=4.567127187870985, pvalue=0.20638028098088249)"
      ]
     },
     "execution_count": 58,
     "metadata": {},
     "output_type": "execute_result"
    }
   ],
   "source": [
    "from scipy.stats import kruskal\n",
    "kruskal(a,b,c,d)"
   ]
  },
  {
   "cell_type": "markdown",
   "id": "2a0b2a10",
   "metadata": {},
   "source": [
    "귀무가설을 기가할 수 없다. 즉 집단가의 모평균에는 차이가 없다."
   ]
  },
  {
   "cell_type": "markdown",
   "id": "4676caa1",
   "metadata": {},
   "source": [
    "### 3-3 요인분석을 수행하고 결과를 시각화"
   ]
  },
  {
   "cell_type": "code",
   "execution_count": 60,
   "id": "5b552276",
   "metadata": {},
   "outputs": [],
   "source": [
    "ana=data.drop(columns=['userid', 'group'])"
   ]
  },
  {
   "cell_type": "code",
   "execution_count": 71,
   "id": "6aa4c1e6",
   "metadata": {},
   "outputs": [],
   "source": [
    "#!pip install factor-analyzer"
   ]
  },
  {
   "cell_type": "markdown",
   "id": "9a4b0260",
   "metadata": {},
   "source": [
    "- Bartlett 테스트\n",
    "\n",
    ": 탐색적 요인분석에 적합한 데이터인지 확인"
   ]
  },
  {
   "cell_type": "code",
   "execution_count": 64,
   "id": "b24c4091",
   "metadata": {},
   "outputs": [
    {
     "data": {
      "text/plain": [
       "(232.67704188787167, 0.01887367698405033)"
      ]
     },
     "execution_count": 64,
     "metadata": {},
     "output_type": "execute_result"
    }
   ],
   "source": [
    "from factor_analyzer.factor_analyzer import calculate_bartlett_sphericity\n",
    "\n",
    "chi_square_value,p_value = calculate_bartlett_sphericity(ana)\n",
    "chi_square_value, p_value\n",
    "\n",
    "# 요인성 평가 결과 요인성 평가에 적합한 p-value( <0.05)를 확인"
   ]
  },
  {
   "cell_type": "markdown",
   "id": "d216989a",
   "metadata": {},
   "source": [
    "- Kaiser-Meyer_Olkin(KMO) 검정\n",
    "\n",
    ": 0.6미만의 KMO값은 부적절한 것으로 간주되며 0.8이상이면 우수하다고 할 수 있다.\n",
    "    \n",
    "관측된 모든 변수간의 분산 비율 추정\n",
    "\n",
    "관측된 각 변수와 전체 모델에 대한 적절성을 결정"
   ]
  },
  {
   "cell_type": "code",
   "execution_count": 65,
   "id": "264dd4ed",
   "metadata": {},
   "outputs": [
    {
     "data": {
      "text/plain": [
       "0.4901789141416504"
      ]
     },
     "execution_count": 65,
     "metadata": {},
     "output_type": "execute_result"
    }
   ],
   "source": [
    "from factor_analyzer import FactorAnalyzer\n",
    "from factor_analyzer.factor_analyzer import calculate_kmo\n",
    "\n",
    "kmo_all,kmo_model=calculate_kmo(ana)\n",
    "kmo_model\n",
    "# kmo 결과 0.6 이하는 부적합하다 본다"
   ]
  },
  {
   "cell_type": "markdown",
   "id": "73d2797e",
   "metadata": {},
   "source": [
    "- 요인 수 선택"
   ]
  },
  {
   "cell_type": "code",
   "execution_count": 67,
   "id": "d2240d26",
   "metadata": {},
   "outputs": [
    {
     "data": {
      "image/png": "[encoded data removed]",
      "text/plain": [
       "<Figure size 432x288 with 1 Axes>"
      ]
     },
     "metadata": {
      "needs_background": "light"
     },
     "output_type": "display_data"
    }
   ],
   "source": [
    "import matplotlib.pyplot as plt\n",
    "\n",
    "fa = FactorAnalyzer(n_factors=25,rotation=None)\n",
    "fa.fit(ana)\n",
    "\n",
    "#Eigen값 체크 \n",
    "ev, v = fa.get_eigenvalues()\n",
    "\n",
    "plt.scatter(range(1,ana.shape[1]+1),ev)\n",
    "plt.plot(range(1,ana.shape[1]+1),ev)\n",
    "plt.title('Scree Plot')\n",
    "plt.xlabel('Factors')\n",
    "plt.ylabel('Eigenvalue')\n",
    "plt.grid()\n",
    "plt.show()\n",
    "\n",
    "#eigenvalue가 1이 되는지점인 10개의 요인이 선택에 적합한 숫자로 확인"
   ]
  },
  {
   "cell_type": "code",
   "execution_count": 74,
   "id": "63989763",
   "metadata": {},
   "outputs": [
    {
     "data": {
      "text/plain": [
       "<AxesSubplot:>"
      ]
     },
     "execution_count": 74,
     "metadata": {},
     "output_type": "execute_result"
    },
    {
     "data": {
      "image/png": "[encoded data removed]",
      "text/plain": [
       "<Figure size 432x720 with 2 Axes>"
      ]
     },
     "metadata": {
      "needs_background": "light"
     },
     "output_type": "display_data"
    }
   ],
   "source": [
    "import seaborn as sns\n",
    "\n",
    "fa = FactorAnalyzer(n_factors=10, rotation=\"varimax\") #ml : 최대우도 방법\n",
    "fa.fit(ana)\n",
    "efa_result= pd.DataFrame(fa.loadings_, index=ana.columns)\n",
    "\n",
    "plt.figure(figsize=(6,10))\n",
    "sns.heatmap(efa_result, cmap=\"Blues\", annot=True, fmt='.2f')"
   ]
  },
  {
   "cell_type": "markdown",
   "id": "433b40d1",
   "metadata": {},
   "source": [
    "다른 사례를 보니 부호 상관없이 0.4정도 이상이면 묶이는 것으로(?)\n",
    "\n",
    "- 요인0은 Q3-1에 대해 높은 요인 적재량을 가진다.\n",
    "- 요인1은 Q3-2에 대해 높은 요인 적재량을 가진다.\n",
    "- 요인2는 Q5-3에 대해 높은 요인 적재량을 가진다.\n",
    "- 요인3은 Q4-3에 대해 높은 요인 적재량을 가진다.\n",
    "- 요인4는 Q5-2에 대해 높은 요인 적재량을 가진다.\n",
    "- 요인5는 Q3-4에 대해 높은 요인 적재량을 가진다.\n",
    "- 요인6은 Q4-2에 대해 높은 요인 적재량을 가진다.\n",
    "- 요인7에는 변수에 대해 높은 요인 적재량이 없다고 해석할 수 있다. 따라서 위의 7가지 요소만 활용하는 것이 좋다."
   ]
  },
  {
   "cell_type": "code",
   "execution_count": 75,
   "id": "4a75e782",
   "metadata": {},
   "outputs": [
    {
     "data": {
      "text/html": [
       "<style>#sk-container-id-1 {color: black;background-color: white;}#sk-container-id-1 pre{padding: 0;}#sk-container-id-1 div.sk-toggleable {background-color: white;}#sk-container-id-1 label.sk-toggleable__label {cursor: pointer;display: block;width: 100%;margin-bottom: 0;padding: 0.3em;box-sizing: border-box;text-align: center;}#sk-container-id-1 label.sk-toggleable__label-arrow:before {content: \"▸\";float: left;margin-right: 0.25em;color: #696969;}#sk-container-id-1 label.sk-toggleable__label-arrow:hover:before {color: black;}#sk-container-id-1 div.sk-estimator:hover label.sk-toggleable__label-arrow:before {color: black;}#sk-container-id-1 div.sk-toggleable__content {max-height: 0;max-width: 0;overflow: hidden;text-align: left;background-color: #f0f8ff;}#sk-container-id-1 div.sk-toggleable__content pre {margin: 0.2em;color: black;border-radius: 0.25em;background-color: #f0f8ff;}#sk-container-id-1 input.sk-toggleable__control:checked~div.sk-toggleable__content {max-height: 200px;max-width: 100%;overflow: auto;}#sk-container-id-1 input.sk-toggleable__control:checked~label.sk-toggleable__label-arrow:before {content: \"▾\";}#sk-container-id-1 div.sk-estimator input.sk-toggleable__control:checked~label.sk-toggleable__label {background-color: #d4ebff;}#sk-container-id-1 div.sk-label input.sk-toggleable__control:checked~label.sk-toggleable__label {background-color: #d4ebff;}#sk-container-id-1 input.sk-hidden--visually {border: 0;clip: rect(1px 1px 1px 1px);clip: rect(1px, 1px, 1px, 1px);height: 1px;margin: -1px;overflow: hidden;padding: 0;position: absolute;width: 1px;}#sk-container-id-1 div.sk-estimator {font-family: monospace;background-color: #f0f8ff;border: 1px dotted black;border-radius: 0.25em;box-sizing: border-box;margin-bottom: 0.5em;}#sk-container-id-1 div.sk-estimator:hover {background-color: #d4ebff;}#sk-container-id-1 div.sk-parallel-item::after {content: \"\";width: 100%;border-bottom: 1px solid gray;flex-grow: 1;}#sk-container-id-1 div.sk-label:hover label.sk-toggleable__label {background-color: #d4ebff;}#sk-container-id-1 div.sk-serial::before {content: \"\";position: absolute;border-left: 1px solid gray;box-sizing: border-box;top: 0;bottom: 0;left: 50%;z-index: 0;}#sk-container-id-1 div.sk-serial {display: flex;flex-direction: column;align-items: center;background-color: white;padding-right: 0.2em;padding-left: 0.2em;position: relative;}#sk-container-id-1 div.sk-item {position: relative;z-index: 1;}#sk-container-id-1 div.sk-parallel {display: flex;align-items: stretch;justify-content: center;background-color: white;position: relative;}#sk-container-id-1 div.sk-item::before, #sk-container-id-1 div.sk-parallel-item::before {content: \"\";position: absolute;border-left: 1px solid gray;box-sizing: border-box;top: 0;bottom: 0;left: 50%;z-index: -1;}#sk-container-id-1 div.sk-parallel-item {display: flex;flex-direction: column;z-index: 1;position: relative;background-color: white;}#sk-container-id-1 div.sk-parallel-item:first-child::after {align-self: flex-end;width: 50%;}#sk-container-id-1 div.sk-parallel-item:last-child::after {align-self: flex-start;width: 50%;}#sk-container-id-1 div.sk-parallel-item:only-child::after {width: 0;}#sk-container-id-1 div.sk-dashed-wrapped {border: 1px dashed gray;margin: 0 0.4em 0.5em 0.4em;box-sizing: border-box;padding-bottom: 0.4em;background-color: white;}#sk-container-id-1 div.sk-label label {font-family: monospace;font-weight: bold;display: inline-block;line-height: 1.2em;}#sk-container-id-1 div.sk-label-container {text-align: center;}#sk-container-id-1 div.sk-container {/* jupyter's `normalize.less` sets `[hidden] { display: none; }` but bootstrap.min.css set `[hidden] { display: none !important; }` so we also need the `!important` here to be able to override the default hidden behavior on the sphinx rendered scikit-learn.org. See: https://github.com/scikit-learn/scikit-learn/issues/21755 */display: inline-block !important;position: relative;}#sk-container-id-1 div.sk-text-repr-fallback {display: none;}</style><div id=\"sk-container-id-1\" class=\"sk-top-container\"><div class=\"sk-text-repr-fallback\"><pre>FactorAnalyzer(n_factors=7, rotation=&#x27;varimax&#x27;, rotation_kwargs={})</pre><b>In a Jupyter environment, please rerun this cell to show the HTML representation or trust the notebook. <br />On GitHub, the HTML representation is unable to render, please try loading this page with nbviewer.org.</b></div><div class=\"sk-container\" hidden><div class=\"sk-item\"><div class=\"sk-estimator sk-toggleable\"><input class=\"sk-toggleable__control sk-hidden--visually\" id=\"sk-estimator-id-1\" type=\"checkbox\" checked><label for=\"sk-estimator-id-1\" class=\"sk-toggleable__label sk-toggleable__label-arrow\">FactorAnalyzer</label><div class=\"sk-toggleable__content\"><pre>FactorAnalyzer(n_factors=7, rotation=&#x27;varimax&#x27;, rotation_kwargs={})</pre></div></div></div></div></div>"
      ],
      "text/plain": [
       "FactorAnalyzer(n_factors=7, rotation='varimax', rotation_kwargs={})"
      ]
     },
     "execution_count": 75,
     "metadata": {},
     "output_type": "execute_result"
    }
   ],
   "source": [
    "fa = FactorAnalyzer(n_factors=7, rotation=\"varimax\") #ml : 최대우도 방법\n",
    "fa.fit(ana)"
   ]
  },
  {
   "cell_type": "code",
   "execution_count": 77,
   "id": "bd7177fb",
   "metadata": {},
   "outputs": [
    {
     "data": {
      "text/html": [
       "<div>\n",
       "<style scoped>\n",
       "    .dataframe tbody tr th:only-of-type {\n",
       "        vertical-align: middle;\n",
       "    }\n",
       "\n",
       "    .dataframe tbody tr th {\n",
       "        vertical-align: top;\n",
       "    }\n",
       "\n",
       "    .dataframe thead th {\n",
       "        text-align: right;\n",
       "    }\n",
       "</style>\n",
       "<table border=\"1\" class=\"dataframe\">\n",
       "  <thead>\n",
       "    <tr style=\"text-align: right;\">\n",
       "      <th></th>\n",
       "      <th>0</th>\n",
       "      <th>1</th>\n",
       "      <th>2</th>\n",
       "      <th>3</th>\n",
       "      <th>4</th>\n",
       "      <th>5</th>\n",
       "      <th>6</th>\n",
       "    </tr>\n",
       "  </thead>\n",
       "  <tbody>\n",
       "    <tr>\n",
       "      <th>SS Loadings</th>\n",
       "      <td>1.008050</td>\n",
       "      <td>0.988726</td>\n",
       "      <td>0.877933</td>\n",
       "      <td>0.409423</td>\n",
       "      <td>0.356336</td>\n",
       "      <td>0.269833</td>\n",
       "      <td>0.208008</td>\n",
       "    </tr>\n",
       "    <tr>\n",
       "      <th>Proportion Var</th>\n",
       "      <td>0.050402</td>\n",
       "      <td>0.049436</td>\n",
       "      <td>0.043897</td>\n",
       "      <td>0.020471</td>\n",
       "      <td>0.017817</td>\n",
       "      <td>0.013492</td>\n",
       "      <td>0.010400</td>\n",
       "    </tr>\n",
       "    <tr>\n",
       "      <th>Cumulative Var</th>\n",
       "      <td>0.050402</td>\n",
       "      <td>0.099839</td>\n",
       "      <td>0.143735</td>\n",
       "      <td>0.164207</td>\n",
       "      <td>0.182023</td>\n",
       "      <td>0.195515</td>\n",
       "      <td>0.205915</td>\n",
       "    </tr>\n",
       "  </tbody>\n",
       "</table>\n",
       "</div>"
      ],
      "text/plain": [
       "                       0         1         2         3         4         5  \\\n",
       "SS Loadings     1.008050  0.988726  0.877933  0.409423  0.356336  0.269833   \n",
       "Proportion Var  0.050402  0.049436  0.043897  0.020471  0.017817  0.013492   \n",
       "Cumulative Var  0.050402  0.099839  0.143735  0.164207  0.182023  0.195515   \n",
       "\n",
       "                       6  \n",
       "SS Loadings     0.208008  \n",
       "Proportion Var  0.010400  \n",
       "Cumulative Var  0.205915  "
      ]
     },
     "execution_count": 77,
     "metadata": {},
     "output_type": "execute_result"
    }
   ],
   "source": [
    "fa.get_factor_variance()\n",
    "df1=pd.DataFrame(fa.get_factor_variance())\n",
    "\n",
    "#행, 열 이름 설정\n",
    "df1.index=['SS Loadings', 'Proportion Var', 'Cumulative Var']\n",
    "df1"
   ]
  }
 ],
 "metadata": {
  "kernelspec": {
   "display_name": "Python 3 (ipykernel)",
   "language": "python",
   "name": "python3"
  },
  "language_info": {
   "codemirror_mode": {
    "name": "ipython",
    "version": 3
   },
   "file_extension": ".py",
   "mimetype": "text/x-python",
   "name": "python",
   "nbconvert_exporter": "python",
   "pygments_lexer": "ipython3",
   "version": "3.8.5"
  }
 },
 "nbformat": 4,
 "nbformat_minor": 5
}
