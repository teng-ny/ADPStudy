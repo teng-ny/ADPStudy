{
 "cells": [
  {
   "cell_type": "markdown",
   "id": "e884f834",
   "metadata": {},
   "source": [
    "3. 철강제품의 불량률을 조사하고자한다. 이때 불량률의 90%, 추정오차한계 5%가 되기위한 적정한 표본 크기 중 최소값은?"
   ]
  },
  {
   "cell_type": "code",
   "execution_count": 3,
   "id": "5a6cba1a",
   "metadata": {},
   "outputs": [
    {
     "data": {
      "text/plain": [
       "(-1.6448536269514729, 1.6448536269514722)"
      ]
     },
     "execution_count": 3,
     "metadata": {},
     "output_type": "execute_result"
    }
   ],
   "source": [
    "import scipy.stats as stats\n",
    "from scipy.stats import shapiro\n",
    "rv=stats.norm()\n",
    "rv.interval(1 - 0.1)"
   ]
  },
  {
   "cell_type": "code",
   "execution_count": 7,
   "id": "14b0dd8e",
   "metadata": {},
   "outputs": [],
   "source": [
    "Z=1.645\n",
    "n=1/4*(1.645/0.05)**2"
   ]
  },
  {
   "cell_type": "code",
   "execution_count": 10,
   "id": "4612c330",
   "metadata": {},
   "outputs": [
    {
     "data": {
      "text/plain": [
       "271.0"
      ]
     },
     "execution_count": 10,
     "metadata": {},
     "output_type": "execute_result"
    }
   ],
   "source": [
    "round(n,0)"
   ]
  },
  {
   "cell_type": "code",
   "execution_count": null,
   "id": "a94485f8",
   "metadata": {},
   "outputs": [],
   "source": [
    "271"
   ]
  }
 ],
 "metadata": {
  "kernelspec": {
   "display_name": "Python 3 (ipykernel)",
   "language": "python",
   "name": "python3"
  },
  "language_info": {
   "codemirror_mode": {
    "name": "ipython",
    "version": 3
   },
   "file_extension": ".py",
   "mimetype": "text/x-python",
   "name": "python",
   "nbconvert_exporter": "python",
   "pygments_lexer": "ipython3",
   "version": "3.8.5"
  }
 },
 "nbformat": 4,
 "nbformat_minor": 5
}
