{
 "cells": [
  {
   "cell_type": "markdown",
   "id": "e884f834",
   "metadata": {},
   "source": [
    "3. 철강제품의 불량률을 조사하고자한다. 이때 불량률의 90%, 추정오차한계 5%가 되기위한 적정한 표본 크기 중 최소값은?\n",
    "\n",
    "-> 문제 : alpha=1-0.9=0.1, d(추정오차한계)=0.05"
   ]
  },
  {
   "cell_type": "markdown",
   "id": "70e940f5",
   "metadata": {},
   "source": [
    "* 참고) 모비율 추정에서 표본크기(모비율에 대한 아무런 정보가 없을 때)\n",
    "* p=1/2로 설정하고 계산"
   ]
  },
  {
   "cell_type": "code",
   "execution_count": 1,
   "id": "5a6cba1a",
   "metadata": {},
   "outputs": [],
   "source": [
    "import scipy.stats as stats\n",
    "from scipy.stats import shapiro"
   ]
  },
  {
   "cell_type": "code",
   "execution_count": 2,
   "id": "14b0dd8e",
   "metadata": {},
   "outputs": [],
   "source": [
    "rv=stats.norm()"
   ]
  },
  {
   "cell_type": "code",
   "execution_count": 3,
   "id": "f9d5a180",
   "metadata": {},
   "outputs": [],
   "source": [
    "alpha=0.1\n",
    "z=rv.isf(alpha/2)\n",
    "d=0.05"
   ]
  },
  {
   "cell_type": "code",
   "execution_count": 4,
   "id": "fa7e2359",
   "metadata": {},
   "outputs": [
    {
     "data": {
      "text/plain": [
       "270.55434540954144"
      ]
     },
     "execution_count": 4,
     "metadata": {},
     "output_type": "execute_result"
    }
   ],
   "source": [
    "n=1/4*(z/d)**2\n",
    "n"
   ]
  },
  {
   "cell_type": "code",
   "execution_count": 5,
   "id": "4612c330",
   "metadata": {},
   "outputs": [
    {
     "data": {
      "text/plain": [
       "271.0"
      ]
     },
     "execution_count": 5,
     "metadata": {},
     "output_type": "execute_result"
    }
   ],
   "source": [
    "round(n,0)"
   ]
  },
  {
   "cell_type": "markdown",
   "id": "b8e5f89a",
   "metadata": {},
   "source": [
    "표본크기 : 271"
   ]
  }
 ],
 "metadata": {
  "kernelspec": {
   "display_name": "Python 3 (ipykernel)",
   "language": "python",
   "name": "python3"
  },
  "language_info": {
   "codemirror_mode": {
    "name": "ipython",
    "version": 3
   },
   "file_extension": ".py",
   "mimetype": "text/x-python",
   "name": "python",
   "nbconvert_exporter": "python",
   "pygments_lexer": "ipython3",
   "version": "3.8.5"
  }
 },
 "nbformat": 4,
 "nbformat_minor": 5
}
