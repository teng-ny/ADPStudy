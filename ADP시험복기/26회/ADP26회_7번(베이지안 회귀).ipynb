{
 "cells": [
  {
   "cell_type": "markdown",
   "id": "ad84b651",
   "metadata": {},
   "source": [
    "7. data : 20대 남성 411명, weight(y), height(x1), waist(x2)\n",
    "\n",
    "7-1. Bayesian Regression(베이지안 회귀 이용)\n",
    "- 시드넘버 : 1234\n",
    "- burn-in : 1,000번\n",
    "- MCMC : 10,000번 수행\n",
    "- 회귀계수 사전분포 : 부적절한 균일분포\n",
    "- 오차항의 분산의 사전분포 : 역감마분포\n",
    "- 형상모수, 척도모수 : 각각 0.0005로 지정\n",
    "\n",
    "7-2. height(180), waist(80)->weight(?)"
   ]
  }
 ],
 "metadata": {
  "kernelspec": {
   "display_name": "Python 3 (ipykernel)",
   "language": "python",
   "name": "python3"
  },
  "language_info": {
   "codemirror_mode": {
    "name": "ipython",
    "version": 3
   },
   "file_extension": ".py",
   "mimetype": "text/x-python",
   "name": "python",
   "nbconvert_exporter": "python",
   "pygments_lexer": "ipython3",
   "version": "3.8.5"
  }
 },
 "nbformat": 4,
 "nbformat_minor": 5
}
