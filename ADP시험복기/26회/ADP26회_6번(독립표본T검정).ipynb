{
 "cells": [
  {
   "cell_type": "markdown",
   "id": "19e3f0ed",
   "metadata": {},
   "source": [
    "6. 주어진 데이터는 남녀 혈압 데이터로서 두 집단은 정규분포를 따르며, 분산이 동일하다고 가정한다. 남녀 간에 혈압의 차이가 있는지 검정하라\n",
    "\n",
    "- 귀무가설과 대립가설을 설정하라\n",
    "- 검정통계량을 구하고 가설을 채택하라.\n",
    "- 소수점 2자리 반올림하여 95% 신뢰구간을 구하라. 신뢰구간이 연구가설 채택에 어떤 역할을 하는지 설명하라. t(0.025, df=21)=2.08"
   ]
  },
  {
   "cell_type": "code",
   "execution_count": 1,
   "id": "f75eda69",
   "metadata": {},
   "outputs": [],
   "source": [
    "import pandas as pd\n",
    "import numpy as np\n",
    "import scipy.stats as stats\n",
    "df=pd.DataFrame({'M':[120, 124, 130, 112, 118, 125, 127, 119, 109, 120, 128, 120, 122, 115], \\\n",
    "                 'F':[114,89, 116, 129, 111, 125,114,90, 102, np.nan, np.nan, np.nan, np.nan, np.nan]})"
   ]
  },
  {
   "cell_type": "markdown",
   "id": "55ae80b5",
   "metadata": {},
   "source": [
    "(1) 귀무가설과 대립가설을 설정하라\n",
    "\n",
    "- H0 : 남녀간에 혈압의 차이는 없다.\n",
    "- H1 : 남녀간에 혈압의 차이는 있다."
   ]
  },
  {
   "cell_type": "markdown",
   "id": "0ed1bd25",
   "metadata": {},
   "source": [
    "(2) 검정통계량을 구하고 가설을 채택하라."
   ]
  },
  {
   "cell_type": "code",
   "execution_count": 2,
   "id": "b98ce637",
   "metadata": {},
   "outputs": [],
   "source": [
    "mean_A=df['M'].mean()\n",
    "mean_B=df['F'].dropna().mean()\n",
    "\n",
    "var_A=df['M'].var(ddof=1)\n",
    "var_B=df['F'].dropna().var(ddof=1)\n",
    "\n",
    "n_A=len(df['M'])\n",
    "n_B=len(df['F'].dropna())\n",
    "\n",
    "rv=stats.t(df=n_A+n_B-2)"
   ]
  },
  {
   "cell_type": "markdown",
   "id": "9035855a",
   "metadata": {},
   "source": [
    "- 수기로 구하기"
   ]
  },
  {
   "cell_type": "code",
   "execution_count": 3,
   "id": "ff814d73",
   "metadata": {},
   "outputs": [
    {
     "data": {
      "text/plain": [
       "9.82517244660073"
      ]
     },
     "execution_count": 3,
     "metadata": {},
     "output_type": "execute_result"
    }
   ],
   "source": [
    "sp=np.sqrt(((n_A-1)*var_A+(n_B-1)*var_B)/(n_A+n_B-2))\n",
    "sp"
   ]
  },
  {
   "cell_type": "code",
   "execution_count": 4,
   "id": "99d3cbe9",
   "metadata": {},
   "outputs": [
    {
     "data": {
      "text/plain": [
       "2.53535866545901"
      ]
     },
     "execution_count": 4,
     "metadata": {},
     "output_type": "execute_result"
    }
   ],
   "source": [
    "t=(mean_A-mean_B)/(sp*np.sqrt(1/n_A+1/n_B))\n",
    "t"
   ]
  },
  {
   "cell_type": "code",
   "execution_count": 5,
   "id": "f113a348",
   "metadata": {},
   "outputs": [
    {
     "data": {
      "text/plain": [
       "0.019246453603090963"
      ]
     },
     "execution_count": 5,
     "metadata": {},
     "output_type": "execute_result"
    }
   ],
   "source": [
    "#p값\n",
    "#t>0\n",
    "p=(1-rv.cdf(t))*2\n",
    "p"
   ]
  },
  {
   "cell_type": "markdown",
   "id": "a6816d07",
   "metadata": {},
   "source": [
    "p값이 0.05보다 작으므로 귀무가설을 채택한다."
   ]
  },
  {
   "cell_type": "markdown",
   "id": "4f5ab6a6",
   "metadata": {},
   "source": [
    "- 빠르게 구하기(비교용)"
   ]
  },
  {
   "cell_type": "code",
   "execution_count": 6,
   "id": "3fe2e769",
   "metadata": {},
   "outputs": [
    {
     "ename": "NameError",
     "evalue": "name 'M' is not defined",
     "output_type": "error",
     "traceback": [
      "\u001b[1;31m---------------------------------------------------------------------------\u001b[0m",
      "\u001b[1;31mNameError\u001b[0m                                 Traceback (most recent call last)",
      "\u001b[1;32mC:\\Users\\Public\\Documents\\ESTsoft\\CreatorTemp/ipykernel_21996/2237759953.py\u001b[0m in \u001b[0;36m<module>\u001b[1;34m\u001b[0m\n\u001b[1;32m----> 1\u001b[1;33m \u001b[0mA\u001b[0m\u001b[1;33m=\u001b[0m\u001b[0mnp\u001b[0m\u001b[1;33m.\u001b[0m\u001b[0marray\u001b[0m\u001b[1;33m(\u001b[0m\u001b[0mM\u001b[0m\u001b[1;33m.\u001b[0m\u001b[0mM\u001b[0m\u001b[1;33m)\u001b[0m\u001b[1;33m\u001b[0m\u001b[1;33m\u001b[0m\u001b[0m\n\u001b[0m\u001b[0;32m      2\u001b[0m \u001b[0mB\u001b[0m\u001b[1;33m=\u001b[0m\u001b[0mnp\u001b[0m\u001b[1;33m.\u001b[0m\u001b[0marray\u001b[0m\u001b[1;33m(\u001b[0m\u001b[0mF\u001b[0m\u001b[1;33m.\u001b[0m\u001b[0mF\u001b[0m\u001b[1;33m)\u001b[0m\u001b[1;33m\u001b[0m\u001b[1;33m\u001b[0m\u001b[0m\n\u001b[0;32m      3\u001b[0m \u001b[0mt\u001b[0m\u001b[1;33m,\u001b[0m \u001b[0mp\u001b[0m\u001b[1;33m=\u001b[0m\u001b[0mstats\u001b[0m\u001b[1;33m.\u001b[0m\u001b[0mttest_ind\u001b[0m\u001b[1;33m(\u001b[0m\u001b[0mA\u001b[0m\u001b[1;33m,\u001b[0m \u001b[0mB\u001b[0m\u001b[1;33m,\u001b[0m \u001b[0mequal_var\u001b[0m\u001b[1;33m=\u001b[0m\u001b[1;32mTrue\u001b[0m\u001b[1;33m)\u001b[0m\u001b[1;33m\u001b[0m\u001b[1;33m\u001b[0m\u001b[0m\n\u001b[0;32m      4\u001b[0m \u001b[0mt\u001b[0m\u001b[1;33m,\u001b[0m \u001b[0mp\u001b[0m\u001b[1;33m\u001b[0m\u001b[1;33m\u001b[0m\u001b[0m\n",
      "\u001b[1;31mNameError\u001b[0m: name 'M' is not defined"
     ]
    }
   ],
   "source": [
    "A=np.array(M.M)\n",
    "B=np.array(F.F)\n",
    "t, p=stats.ttest_ind(A, B, equal_var=True)\n",
    "t, p"
   ]
  },
  {
   "cell_type": "markdown",
   "id": "eb6bd2d4",
   "metadata": {},
   "source": [
    "(3) 소수점 2자리 반올림하여 95% 신뢰구간을 구하라. 신뢰구간이 연구가설 채택에 어떤 역할을 하는지 설명하라. t(0.025, df=21)=2.08"
   ]
  },
  {
   "cell_type": "code",
   "execution_count": null,
   "id": "e4977a08",
   "metadata": {},
   "outputs": [],
   "source": [
    "lcl=(mean_A-mean_B)-2.08*sp*np.sqrt(1/n_A+1/n_B)\n",
    "ucl=(mean_B-mean_B)+2.08*sp*np.sqrt(1/n_A+1/n_B)\n",
    "round(lcl,2), round(ucl,2)"
   ]
  },
  {
   "cell_type": "markdown",
   "id": "2817bd4b",
   "metadata": {},
   "source": [
    "0이 신뢰구간에 포함되지 않으므로 귀무가설을 기각하고 대립가설(연구가설)을 채택함"
   ]
  }
 ],
 "metadata": {
  "kernelspec": {
   "display_name": "Python 3 (ipykernel)",
   "language": "python",
   "name": "python3"
  },
  "language_info": {
   "codemirror_mode": {
    "name": "ipython",
    "version": 3
   },
   "file_extension": ".py",
   "mimetype": "text/x-python",
   "name": "python",
   "nbconvert_exporter": "python",
   "pygments_lexer": "ipython3",
   "version": "3.8.5"
  }
 },
 "nbformat": 4,
 "nbformat_minor": 5
}
