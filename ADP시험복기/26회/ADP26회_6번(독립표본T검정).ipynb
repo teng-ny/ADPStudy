{
 "cells": [
  {
   "cell_type": "markdown",
   "id": "8c7ea0fd",
   "metadata": {},
   "source": [
    "6. 주어진 데이터는 남녀 혈압 데이터로서 두 집단은 정규분포를 따르며, 분산이 동일하다고 가정한다. 남녀 간에 혈압의 차이가 있는지 검정하라\n",
    "\n",
    "- 귀무가설과 대립가설을 설정하라\n",
    "- 검정통계량을 구하고 가설을 채택하라.\n",
    "- 소수점 2자리 반올림하여 95% 신뢰구간을 구하라. 신뢰구간이 연구가설 채택에 어떤 역할을 하는지 설명하라. t(0.025, df=21)=2.08"
   ]
  },
  {
   "cell_type": "code",
   "execution_count": 1,
   "id": "48baf4a6",
   "metadata": {},
   "outputs": [],
   "source": [
    "import pandas as pd\n",
    "import numpy as np\n",
    "import scipy.stats as stats\n",
    "df=pd.DataFrame({'M':[120, 124, 130, 112, 118, 125, 127, 119, 109, 120, 128, 120, 122, 115], \\\n",
    "                 'F':[114,89, 116, 129, 111, 125,114,90, 102, np.nan, np.nan, np.nan, np.nan, np.nan]})"
   ]
  },
  {
   "cell_type": "markdown",
   "id": "085151f0",
   "metadata": {},
   "source": [
    "(1) 귀무가설과 대립가설을 설정하라\n",
    "\n",
    "- H0 : 남녀간에 혈압의 차이는 없다.\n",
    "- H1 : 남녀간에 혈압의 차이는 있다."
   ]
  },
  {
   "cell_type": "markdown",
   "id": "90c8fbae",
   "metadata": {},
   "source": [
    "(2) 검정통계량을 구하고 가설을 채택하라."
   ]
  },
  {
   "cell_type": "code",
   "execution_count": 2,
   "id": "d49f282b",
   "metadata": {},
   "outputs": [],
   "source": [
    "M=df[['M']]"
   ]
  },
  {
   "cell_type": "code",
   "execution_count": 3,
   "id": "6495183f",
   "metadata": {},
   "outputs": [],
   "source": [
    "F=df[['F']]\n",
    "F=F.copy()\n",
    "F.dropna(axis=0, inplace=True)"
   ]
  },
  {
   "cell_type": "code",
   "execution_count": 4,
   "id": "a72c9f3d",
   "metadata": {},
   "outputs": [],
   "source": [
    "mean_A=M['M'].mean()\n",
    "mean_B=F['F'].mean()\n",
    "var_A=M['M'].var(ddof=1)\n",
    "var_B=F['F'].var(ddof=1)\n",
    "n_A=len(M)\n",
    "n_B=len(F)\n",
    "rv=stats.t(df=n_A+n_B-2)"
   ]
  },
  {
   "cell_type": "markdown",
   "id": "366d5e43",
   "metadata": {},
   "source": [
    "- 수기로 구하기"
   ]
  },
  {
   "cell_type": "code",
   "execution_count": 5,
   "id": "70f0e320",
   "metadata": {},
   "outputs": [
    {
     "data": {
      "text/plain": [
       "9.82517244660073"
      ]
     },
     "execution_count": 5,
     "metadata": {},
     "output_type": "execute_result"
    }
   ],
   "source": [
    "sp=np.sqrt(((n_A-1)*var_A+(n_B-1)*var_B)/(n_A+n_B-2))\n",
    "sp"
   ]
  },
  {
   "cell_type": "code",
   "execution_count": 6,
   "id": "31d771d3",
   "metadata": {},
   "outputs": [
    {
     "data": {
      "text/plain": [
       "2.53535866545901"
      ]
     },
     "execution_count": 6,
     "metadata": {},
     "output_type": "execute_result"
    }
   ],
   "source": [
    "t=(mean_A-mean_B)/(sp*np.sqrt(1/n_A+1/n_B))\n",
    "t"
   ]
  },
  {
   "cell_type": "code",
   "execution_count": 7,
   "id": "b0f6d100",
   "metadata": {},
   "outputs": [
    {
     "data": {
      "text/plain": [
       "0.019246453603090963"
      ]
     },
     "execution_count": 7,
     "metadata": {},
     "output_type": "execute_result"
    }
   ],
   "source": [
    "#p값\n",
    "#t>0\n",
    "p=(1-rv.cdf(t))*2\n",
    "p"
   ]
  },
  {
   "cell_type": "markdown",
   "id": "f6f27077",
   "metadata": {},
   "source": [
    "p값이 0.05보다 작으므로 귀무가설을 채택한다."
   ]
  },
  {
   "cell_type": "markdown",
   "id": "08e31f13",
   "metadata": {},
   "source": [
    "- 빠르게 구하기(비교용)"
   ]
  },
  {
   "cell_type": "code",
   "execution_count": 8,
   "id": "9da4b6b8",
   "metadata": {},
   "outputs": [
    {
     "data": {
      "text/plain": [
       "(2.53535866545901, 0.01924645360309091)"
      ]
     },
     "execution_count": 8,
     "metadata": {},
     "output_type": "execute_result"
    }
   ],
   "source": [
    "A=np.array(M.M)\n",
    "B=np.array(F.F)\n",
    "t, p=stats.ttest_ind(A, B, equal_var=True)\n",
    "t, p"
   ]
  },
  {
   "cell_type": "markdown",
   "id": "a5af672a",
   "metadata": {},
   "source": [
    "(3) 소수점 2자리 반올림하여 95% 신뢰구간을 구하라. 신뢰구간이 연구가설 채택에 어떤 역할을 하는지 설명하라. t(0.025, df=21)=2.08"
   ]
  },
  {
   "cell_type": "code",
   "execution_count": 9,
   "id": "b0ae128c",
   "metadata": {},
   "outputs": [
    {
     "data": {
      "text/plain": [
       "(1.91, 8.73)"
      ]
     },
     "execution_count": 9,
     "metadata": {},
     "output_type": "execute_result"
    }
   ],
   "source": [
    "lcl=(mean_A-mean_B)-2.08*sp*np.sqrt(1/n_A+1/n_B)\n",
    "ucl=(mean_B-mean_B)+2.08*sp*np.sqrt(1/n_A+1/n_B)\n",
    "round(lcl,2), round(ucl,2)"
   ]
  },
  {
   "cell_type": "markdown",
   "id": "d688896e",
   "metadata": {},
   "source": [
    "0이 신뢰구간에 포함되지 않으므로 귀무가설을 기각하고 대립가설(연구가설)을 채택함"
   ]
  }
 ],
 "metadata": {
  "kernelspec": {
   "display_name": "Python 3 (ipykernel)",
   "language": "python",
   "name": "python3"
  },
  "language_info": {
   "codemirror_mode": {
    "name": "ipython",
    "version": 3
   },
   "file_extension": ".py",
   "mimetype": "text/x-python",
   "name": "python",
   "nbconvert_exporter": "python",
   "pygments_lexer": "ipython3",
   "version": "3.8.5"
  }
 },
 "nbformat": 4,
 "nbformat_minor": 5
}
