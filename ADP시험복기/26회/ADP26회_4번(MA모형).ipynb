{
 "cells": [
  {
   "cell_type": "markdown",
   "id": "8c8b0682",
   "metadata": {},
   "source": [
    "은의 가격 및 이동평균(N=3)의 가격을 하나의 시계열 그래프에 나타내라(5점)."
   ]
  },
  {
   "cell_type": "code",
   "execution_count": 45,
   "id": "fb2c36a0",
   "metadata": {},
   "outputs": [],
   "source": [
    "#warinng 무시\n",
    "import warnings\n",
    "warnings.filterwarnings('ignore')"
   ]
  },
  {
   "cell_type": "code",
   "execution_count": 51,
   "id": "0d582c6e",
   "metadata": {},
   "outputs": [
    {
     "data": {
      "text/html": [
       "<div>\n",
       "<style scoped>\n",
       "    .dataframe tbody tr th:only-of-type {\n",
       "        vertical-align: middle;\n",
       "    }\n",
       "\n",
       "    .dataframe tbody tr th {\n",
       "        vertical-align: top;\n",
       "    }\n",
       "\n",
       "    .dataframe thead th {\n",
       "        text-align: right;\n",
       "    }\n",
       "</style>\n",
       "<table border=\"1\" class=\"dataframe\">\n",
       "  <thead>\n",
       "    <tr style=\"text-align: right;\">\n",
       "      <th></th>\n",
       "      <th>price</th>\n",
       "    </tr>\n",
       "    <tr>\n",
       "      <th>index</th>\n",
       "      <th></th>\n",
       "    </tr>\n",
       "  </thead>\n",
       "  <tbody>\n",
       "    <tr>\n",
       "      <th>1</th>\n",
       "      <td>22.0</td>\n",
       "    </tr>\n",
       "    <tr>\n",
       "      <th>2</th>\n",
       "      <td>23.4</td>\n",
       "    </tr>\n",
       "    <tr>\n",
       "      <th>3</th>\n",
       "      <td>21.1</td>\n",
       "    </tr>\n",
       "    <tr>\n",
       "      <th>4</th>\n",
       "      <td>25.7</td>\n",
       "    </tr>\n",
       "    <tr>\n",
       "      <th>5</th>\n",
       "      <td>27.4</td>\n",
       "    </tr>\n",
       "    <tr>\n",
       "      <th>6</th>\n",
       "      <td>30.6</td>\n",
       "    </tr>\n",
       "    <tr>\n",
       "      <th>7</th>\n",
       "      <td>31.8</td>\n",
       "    </tr>\n",
       "    <tr>\n",
       "      <th>8</th>\n",
       "      <td>30.2</td>\n",
       "    </tr>\n",
       "    <tr>\n",
       "      <th>9</th>\n",
       "      <td>41.1</td>\n",
       "    </tr>\n",
       "  </tbody>\n",
       "</table>\n",
       "</div>"
      ],
      "text/plain": [
       "       price\n",
       "index       \n",
       "1       22.0\n",
       "2       23.4\n",
       "3       21.1\n",
       "4       25.7\n",
       "5       27.4\n",
       "6       30.6\n",
       "7       31.8\n",
       "8       30.2\n",
       "9       41.1"
      ]
     },
     "execution_count": 51,
     "metadata": {},
     "output_type": "execute_result"
    }
   ],
   "source": [
    "import pandas as pd\n",
    "data=pd.DataFrame({\"price\":[22.0, 23.4, 21.1, 25.7, 27.4, 30.6, 31.8, 30.2, 41.1], \"index\":[1,2,3,4,5,6,7,8,9]})\n",
    "data.set_index(\"index\")\n",
    "\n",
    "#data=pd.DataFrame({\"price\":[22.0, 23.4, 21.1, 25.7, 27.4, 30.6, 31.8, 30.2, 41.1]})"
   ]
  },
  {
   "cell_type": "markdown",
   "id": "e9b43f3a",
   "metadata": {},
   "source": [
    "- ARIMA(0,0,3) 모형"
   ]
  },
  {
   "cell_type": "code",
   "execution_count": 52,
   "id": "377b39a0",
   "metadata": {},
   "outputs": [],
   "source": [
    "from statsmodels.tsa.arima.model import ARIMA"
   ]
  },
  {
   "cell_type": "code",
   "execution_count": 54,
   "id": "60ef06bc",
   "metadata": {},
   "outputs": [
    {
     "data": {
      "text/html": [
       "<table class=\"simpletable\">\n",
       "<caption>SARIMAX Results</caption>\n",
       "<tr>\n",
       "  <th>Dep. Variable:</th>         <td>price</td>      <th>  No. Observations:  </th>    <td>9</td>   \n",
       "</tr>\n",
       "<tr>\n",
       "  <th>Model:</th>            <td>ARIMA(0, 0, 3)</td>  <th>  Log Likelihood     </th> <td>-26.403</td>\n",
       "</tr>\n",
       "<tr>\n",
       "  <th>Date:</th>            <td>Tue, 15 Nov 2022</td> <th>  AIC                </th> <td>62.806</td> \n",
       "</tr>\n",
       "<tr>\n",
       "  <th>Time:</th>                <td>22:56:21</td>     <th>  BIC                </th> <td>63.792</td> \n",
       "</tr>\n",
       "<tr>\n",
       "  <th>Sample:</th>                  <td>0</td>        <th>  HQIC               </th> <td>60.678</td> \n",
       "</tr>\n",
       "<tr>\n",
       "  <th></th>                       <td> - 9</td>       <th>                     </th>    <td> </td>   \n",
       "</tr>\n",
       "<tr>\n",
       "  <th>Covariance Type:</th>        <td>opg</td>       <th>                     </th>    <td> </td>   \n",
       "</tr>\n",
       "</table>\n",
       "<table class=\"simpletable\">\n",
       "<tr>\n",
       "     <td></td>       <th>coef</th>     <th>std err</th>      <th>z</th>      <th>P>|z|</th>  <th>[0.025</th>    <th>0.975]</th>  \n",
       "</tr>\n",
       "<tr>\n",
       "  <th>const</th>  <td>   29.2738</td> <td>    5.848</td> <td>    5.006</td> <td> 0.000</td> <td>   17.813</td> <td>   40.735</td>\n",
       "</tr>\n",
       "<tr>\n",
       "  <th>ma.L1</th>  <td>    0.7167</td> <td>  211.207</td> <td>    0.003</td> <td> 0.997</td> <td> -413.241</td> <td>  414.674</td>\n",
       "</tr>\n",
       "<tr>\n",
       "  <th>ma.L2</th>  <td>    0.4211</td> <td>   57.895</td> <td>    0.007</td> <td> 0.994</td> <td> -113.051</td> <td>  113.893</td>\n",
       "</tr>\n",
       "<tr>\n",
       "  <th>ma.L3</th>  <td>    0.7016</td> <td>  149.313</td> <td>    0.005</td> <td> 0.996</td> <td> -291.946</td> <td>  293.349</td>\n",
       "</tr>\n",
       "<tr>\n",
       "  <th>sigma2</th> <td>   15.7893</td> <td> 3324.643</td> <td>    0.005</td> <td> 0.996</td> <td>-6500.391</td> <td> 6531.970</td>\n",
       "</tr>\n",
       "</table>\n",
       "<table class=\"simpletable\">\n",
       "<tr>\n",
       "  <th>Ljung-Box (L1) (Q):</th>     <td>0.01</td> <th>  Jarque-Bera (JB):  </th> <td>1.90</td>\n",
       "</tr>\n",
       "<tr>\n",
       "  <th>Prob(Q):</th>                <td>0.93</td> <th>  Prob(JB):          </th> <td>0.39</td>\n",
       "</tr>\n",
       "<tr>\n",
       "  <th>Heteroskedasticity (H):</th> <td>2.37</td> <th>  Skew:              </th> <td>1.05</td>\n",
       "</tr>\n",
       "<tr>\n",
       "  <th>Prob(H) (two-sided):</th>    <td>0.50</td> <th>  Kurtosis:          </th> <td>3.82</td>\n",
       "</tr>\n",
       "</table><br/><br/>Warnings:<br/>[1] Covariance matrix calculated using the outer product of gradients (complex-step)."
      ],
      "text/plain": [
       "<class 'statsmodels.iolib.summary.Summary'>\n",
       "\"\"\"\n",
       "                               SARIMAX Results                                \n",
       "==============================================================================\n",
       "Dep. Variable:                  price   No. Observations:                    9\n",
       "Model:                 ARIMA(0, 0, 3)   Log Likelihood                 -26.403\n",
       "Date:                Tue, 15 Nov 2022   AIC                             62.806\n",
       "Time:                        22:56:21   BIC                             63.792\n",
       "Sample:                             0   HQIC                            60.678\n",
       "                                  - 9                                         \n",
       "Covariance Type:                  opg                                         \n",
       "==============================================================================\n",
       "                 coef    std err          z      P>|z|      [0.025      0.975]\n",
       "------------------------------------------------------------------------------\n",
       "const         29.2738      5.848      5.006      0.000      17.813      40.735\n",
       "ma.L1          0.7167    211.207      0.003      0.997    -413.241     414.674\n",
       "ma.L2          0.4211     57.895      0.007      0.994    -113.051     113.893\n",
       "ma.L3          0.7016    149.313      0.005      0.996    -291.946     293.349\n",
       "sigma2        15.7893   3324.643      0.005      0.996   -6500.391    6531.970\n",
       "===================================================================================\n",
       "Ljung-Box (L1) (Q):                   0.01   Jarque-Bera (JB):                 1.90\n",
       "Prob(Q):                              0.93   Prob(JB):                         0.39\n",
       "Heteroskedasticity (H):               2.37   Skew:                             1.05\n",
       "Prob(H) (two-sided):                  0.50   Kurtosis:                         3.82\n",
       "===================================================================================\n",
       "\n",
       "Warnings:\n",
       "[1] Covariance matrix calculated using the outer product of gradients (complex-step).\n",
       "\"\"\""
      ]
     },
     "execution_count": 54,
     "metadata": {},
     "output_type": "execute_result"
    }
   ],
   "source": [
    "model=ARIMA(data.price, order=(0,0,3))\n",
    "res=model.fit()\n",
    "res.summary()"
   ]
  },
  {
   "cell_type": "code",
   "execution_count": 68,
   "id": "51038e56",
   "metadata": {},
   "outputs": [
    {
     "data": {
      "image/png": "[encoded data removed]",
      "text/plain": [
       "<Figure size 720x432 with 1 Axes>"
      ]
     },
     "metadata": {
      "needs_background": "light"
     },
     "output_type": "display_data"
    }
   ],
   "source": [
    "import matplotlib.pyplot as plt\n",
    "plt.figure(figsize=(10,6))\n",
    "plt.plot(res.predict(), label='Prediction') #예측값\n",
    "plt.plot(data.price, label='origin') #원래\n",
    "plt.legend(loc='upper left')\n",
    "plt.xticks([0,1,2,3,4,5,6,7,8], labels=[1,2,3,4,5,6,7,8,9])\n",
    "plt.show()"
   ]
  }
 ],
 "metadata": {
  "kernelspec": {
   "display_name": "Python 3 (ipykernel)",
   "language": "python",
   "name": "python3"
  },
  "language_info": {
   "codemirror_mode": {
    "name": "ipython",
    "version": 3
   },
   "file_extension": ".py",
   "mimetype": "text/x-python",
   "name": "python",
   "nbconvert_exporter": "python",
   "pygments_lexer": "ipython3",
   "version": "3.8.5"
  }
 },
 "nbformat": 4,
 "nbformat_minor": 5
}
