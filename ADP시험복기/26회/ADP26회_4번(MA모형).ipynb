{
 "cells": [
  {
   "cell_type": "markdown",
   "id": "fd795c3f",
   "metadata": {},
   "source": [
    "### 4번\n",
    "- 은의 가격 및 이동평균(N=3)의 가격을 하나의 시계열 그래프에 나타내라\n",
    "- 1월 대비 9월 은 가격이 몇 %올랐는지?"
   ]
  },
  {
   "cell_type": "markdown",
   "id": "6092f7d4",
   "metadata": {},
   "source": [
    "(1) 은의 가격 및 이동평균(N=3)의 가격을 하나의 시계열 그래프에 나타내라"
   ]
  },
  {
   "cell_type": "code",
   "execution_count": 19,
   "id": "0f5888b4",
   "metadata": {},
   "outputs": [],
   "source": [
    "#warinng 무시\n",
    "import warnings\n",
    "warnings.filterwarnings('ignore')"
   ]
  },
  {
   "cell_type": "code",
   "execution_count": 20,
   "id": "cddd9cb0",
   "metadata": {},
   "outputs": [],
   "source": [
    "import pandas as pd\n",
    "data=pd.DataFrame({\"index\":[1,2,3,4,5,6,7,8,9], \"price\":[22.0, 23.4, 21.1, 25.7, 27.4, 30.6, 31.8, 30.2, 41.1]})\n",
    "data.set_index(\"index\", inplace=True)"
   ]
  },
  {
   "cell_type": "markdown",
   "id": "11bea0ce",
   "metadata": {},
   "source": [
    "- 단순이동평균, MA그래프\n",
    "\n",
    "단순 이동 평균을 계산하는 이유는 시계열을 좀 더 매끄럽게 하여 변동성이 심해서 트렌드가 눈에 안 보이는 시계열로부터 전체적인 트렌드를 시각적으로 보기 위함"
   ]
  },
  {
   "cell_type": "code",
   "execution_count": 21,
   "id": "36b3fb44",
   "metadata": {},
   "outputs": [
    {
     "data": {
      "text/plain": [
       "index\n",
       "1          NaN\n",
       "2          NaN\n",
       "3    22.166667\n",
       "4    23.400000\n",
       "5    24.733333\n",
       "6    27.900000\n",
       "7    29.933333\n",
       "8    30.866667\n",
       "9    34.366667\n",
       "Name: price, dtype: float64"
      ]
     },
     "execution_count": 21,
     "metadata": {},
     "output_type": "execute_result"
    }
   ],
   "source": [
    "moving_average=data['price'].rolling(window=3).mean() #문제에서 N=3\n",
    "moving_average"
   ]
  },
  {
   "cell_type": "markdown",
   "id": "62393ab6",
   "metadata": {},
   "source": [
    "코드를 실행하면 앞 2개는 NaN으로 나타나는데요. 이는 3차 단순 이동 평균을 계산하기 위해 적어도 앞에 3개 데이터가 있어야 하기 때문입니다."
   ]
  },
  {
   "cell_type": "code",
   "execution_count": 17,
   "id": "14fa966d",
   "metadata": {},
   "outputs": [
    {
     "data": {
      "image/png": "[encoded data removed]",
      "text/plain": [
       "<Figure size 720x432 with 1 Axes>"
      ]
     },
     "metadata": {
      "needs_background": "light"
     },
     "output_type": "display_data"
    }
   ],
   "source": [
    "import matplotlib.pyplot as plt\n",
    "plt.figure(figsize=(10,6))\n",
    "plt.plot(data.index, data.price, color='k', label='origin')\n",
    "plt.plot(moving_average.index, moving_average, color='red', label='moving_average')\n",
    "plt.legend()\n",
    "plt.show()"
   ]
  },
  {
   "cell_type": "markdown",
   "id": "d25dcc05",
   "metadata": {},
   "source": [
    "- 실패요인 : ARIMA(0,0,3) 모형\n",
    "\n",
    "ARIMA(0,0,3)으로 모형을 구축해서 predict를 하는 문제인줄 알음\n",
    "\n",
    "복잡하게 생각할 것이 없었다.."
   ]
  },
  {
   "cell_type": "code",
   "execution_count": 13,
   "id": "0e55dabd",
   "metadata": {},
   "outputs": [],
   "source": [
    "from statsmodels.tsa.arima.model import ARIMA"
   ]
  },
  {
   "cell_type": "code",
   "execution_count": 14,
   "id": "db18181d",
   "metadata": {},
   "outputs": [
    {
     "data": {
      "text/html": [
       "<table class=\"simpletable\">\n",
       "<caption>SARIMAX Results</caption>\n",
       "<tr>\n",
       "  <th>Dep. Variable:</th>         <td>price</td>      <th>  No. Observations:  </th>    <td>9</td>   \n",
       "</tr>\n",
       "<tr>\n",
       "  <th>Model:</th>            <td>ARIMA(0, 0, 3)</td>  <th>  Log Likelihood     </th> <td>-26.403</td>\n",
       "</tr>\n",
       "<tr>\n",
       "  <th>Date:</th>            <td>Wed, 16 Nov 2022</td> <th>  AIC                </th> <td>62.806</td> \n",
       "</tr>\n",
       "<tr>\n",
       "  <th>Time:</th>                <td>09:33:12</td>     <th>  BIC                </th> <td>63.792</td> \n",
       "</tr>\n",
       "<tr>\n",
       "  <th>Sample:</th>                  <td>0</td>        <th>  HQIC               </th> <td>60.678</td> \n",
       "</tr>\n",
       "<tr>\n",
       "  <th></th>                       <td> - 9</td>       <th>                     </th>    <td> </td>   \n",
       "</tr>\n",
       "<tr>\n",
       "  <th>Covariance Type:</th>        <td>opg</td>       <th>                     </th>    <td> </td>   \n",
       "</tr>\n",
       "</table>\n",
       "<table class=\"simpletable\">\n",
       "<tr>\n",
       "     <td></td>       <th>coef</th>     <th>std err</th>      <th>z</th>      <th>P>|z|</th>  <th>[0.025</th>    <th>0.975]</th>  \n",
       "</tr>\n",
       "<tr>\n",
       "  <th>const</th>  <td>   29.2738</td> <td>    5.848</td> <td>    5.006</td> <td> 0.000</td> <td>   17.813</td> <td>   40.735</td>\n",
       "</tr>\n",
       "<tr>\n",
       "  <th>ma.L1</th>  <td>    0.7167</td> <td>  211.207</td> <td>    0.003</td> <td> 0.997</td> <td> -413.241</td> <td>  414.674</td>\n",
       "</tr>\n",
       "<tr>\n",
       "  <th>ma.L2</th>  <td>    0.4211</td> <td>   57.895</td> <td>    0.007</td> <td> 0.994</td> <td> -113.051</td> <td>  113.893</td>\n",
       "</tr>\n",
       "<tr>\n",
       "  <th>ma.L3</th>  <td>    0.7016</td> <td>  149.313</td> <td>    0.005</td> <td> 0.996</td> <td> -291.946</td> <td>  293.349</td>\n",
       "</tr>\n",
       "<tr>\n",
       "  <th>sigma2</th> <td>   15.7893</td> <td> 3324.643</td> <td>    0.005</td> <td> 0.996</td> <td>-6500.391</td> <td> 6531.970</td>\n",
       "</tr>\n",
       "</table>\n",
       "<table class=\"simpletable\">\n",
       "<tr>\n",
       "  <th>Ljung-Box (L1) (Q):</th>     <td>0.01</td> <th>  Jarque-Bera (JB):  </th> <td>1.90</td>\n",
       "</tr>\n",
       "<tr>\n",
       "  <th>Prob(Q):</th>                <td>0.93</td> <th>  Prob(JB):          </th> <td>0.39</td>\n",
       "</tr>\n",
       "<tr>\n",
       "  <th>Heteroskedasticity (H):</th> <td>2.37</td> <th>  Skew:              </th> <td>1.05</td>\n",
       "</tr>\n",
       "<tr>\n",
       "  <th>Prob(H) (two-sided):</th>    <td>0.50</td> <th>  Kurtosis:          </th> <td>3.82</td>\n",
       "</tr>\n",
       "</table><br/><br/>Warnings:<br/>[1] Covariance matrix calculated using the outer product of gradients (complex-step)."
      ],
      "text/plain": [
       "<class 'statsmodels.iolib.summary.Summary'>\n",
       "\"\"\"\n",
       "                               SARIMAX Results                                \n",
       "==============================================================================\n",
       "Dep. Variable:                  price   No. Observations:                    9\n",
       "Model:                 ARIMA(0, 0, 3)   Log Likelihood                 -26.403\n",
       "Date:                Wed, 16 Nov 2022   AIC                             62.806\n",
       "Time:                        09:33:12   BIC                             63.792\n",
       "Sample:                             0   HQIC                            60.678\n",
       "                                  - 9                                         \n",
       "Covariance Type:                  opg                                         \n",
       "==============================================================================\n",
       "                 coef    std err          z      P>|z|      [0.025      0.975]\n",
       "------------------------------------------------------------------------------\n",
       "const         29.2738      5.848      5.006      0.000      17.813      40.735\n",
       "ma.L1          0.7167    211.207      0.003      0.997    -413.241     414.674\n",
       "ma.L2          0.4211     57.895      0.007      0.994    -113.051     113.893\n",
       "ma.L3          0.7016    149.313      0.005      0.996    -291.946     293.349\n",
       "sigma2        15.7893   3324.643      0.005      0.996   -6500.391    6531.970\n",
       "===================================================================================\n",
       "Ljung-Box (L1) (Q):                   0.01   Jarque-Bera (JB):                 1.90\n",
       "Prob(Q):                              0.93   Prob(JB):                         0.39\n",
       "Heteroskedasticity (H):               2.37   Skew:                             1.05\n",
       "Prob(H) (two-sided):                  0.50   Kurtosis:                         3.82\n",
       "===================================================================================\n",
       "\n",
       "Warnings:\n",
       "[1] Covariance matrix calculated using the outer product of gradients (complex-step).\n",
       "\"\"\""
      ]
     },
     "execution_count": 14,
     "metadata": {},
     "output_type": "execute_result"
    }
   ],
   "source": [
    "model=ARIMA(data.price, order=(0,0,3))\n",
    "res=model.fit()\n",
    "res.summary()"
   ]
  },
  {
   "cell_type": "code",
   "execution_count": 15,
   "id": "6ec456c7",
   "metadata": {},
   "outputs": [
    {
     "data": {
      "image/png": "[encoded data removed]",
      "text/plain": [
       "<Figure size 720x432 with 1 Axes>"
      ]
     },
     "metadata": {
      "needs_background": "light"
     },
     "output_type": "display_data"
    }
   ],
   "source": [
    "import matplotlib.pyplot as plt\n",
    "plt.figure(figsize=(10,6))\n",
    "plt.plot(res.predict(), label='Prediction') #예측값\n",
    "plt.plot(data.price, label='origin') #원래\n",
    "plt.legend()\n",
    "# plt.xticks([0,1,2,3,4,5,6,7,8], labels=[1,2,3,4,5,6,7,8,9])\n",
    "plt.show()"
   ]
  },
  {
   "cell_type": "markdown",
   "id": "a20e0bd9",
   "metadata": {},
   "source": [
    "(2) 1월 대비 9월 은 가격이 몇 %올랐는지? (소수점 2자리 반올림)\n",
    "\n",
    "방법 1 : (최종수치/최초수치-1)*100\n",
    "\n",
    "방법 2 : ((최종수치-최초수치)/최초수치)*100"
   ]
  },
  {
   "cell_type": "code",
   "execution_count": 99,
   "id": "0ed267e6",
   "metadata": {},
   "outputs": [
    {
     "data": {
      "text/plain": [
       "'86.82%'"
      ]
     },
     "execution_count": 99,
     "metadata": {},
     "output_type": "execute_result"
    }
   ],
   "source": [
    "f'{round(((41.1-22.0)/22.0)*100, 2)}%'"
   ]
  }
 ],
 "metadata": {
  "kernelspec": {
   "display_name": "Python 3 (ipykernel)",
   "language": "python",
   "name": "python3"
  },
  "language_info": {
   "codemirror_mode": {
    "name": "ipython",
    "version": 3
   },
   "file_extension": ".py",
   "mimetype": "text/x-python",
   "name": "python",
   "nbconvert_exporter": "python",
   "pygments_lexer": "ipython3",
   "version": "3.8.5"
  }
 },
 "nbformat": 4,
 "nbformat_minor": 5
}
