{
 "cells": [
  {
   "cell_type": "markdown",
   "id": "6a7a3a5b",
   "metadata": {},
   "source": [
    "5. 아래는 후보A의 선거구별 지지 현황표다. 후보A의 지지율이 선거구별로 차이가 있는지를 검정하라.\n",
    "- 귀무가설, 대립가설을 설정하시오\n",
    "- 소수점 2자리 반올림하여 검정통계량을 구하고, 95% 수준에서 연구가설 채택여부를 결정하라."
   ]
  },
  {
   "cell_type": "code",
   "execution_count": 12,
   "id": "db8a312a",
   "metadata": {},
   "outputs": [],
   "source": [
    "import pandas as pd\n",
    "import numpy as np\n",
    "df=pd.DataFrame({'ind':['지지', '지지x'],'1':[176, 124], '2':[193,107], '3':[159,141]})\n",
    "df.set_index('ind', inplace=True)"
   ]
  },
  {
   "cell_type": "markdown",
   "id": "023b7886",
   "metadata": {},
   "source": [
    "(1) 귀무가설, 대립가설을 설정하시오\n",
    "- H0 : 지지율과 선거구1,2,3은 독립이다(지지율은 모든 선거구에서 동일하다.)\n",
    "- H1 : 지지율과 선거구1,2,3은 독립이 아니다(지지율이 모든 선거구에서 동일한 것은 아니다.)"
   ]
  },
  {
   "cell_type": "code",
   "execution_count": 13,
   "id": "164ad7b1",
   "metadata": {},
   "outputs": [
    {
     "data": {
      "text/plain": [
       "(7.95, 0.01882272023214683)"
      ]
     },
     "execution_count": 13,
     "metadata": {},
     "output_type": "execute_result"
    }
   ],
   "source": [
    "from scipy.stats import chi2_contingency\n",
    "chi, p, df, expect=chi2_contingency(df)\n",
    "round(chi,2), p"
   ]
  },
  {
   "cell_type": "markdown",
   "id": "37ceaeee",
   "metadata": {},
   "source": [
    "검정통계량은 7.95\n",
    "\n",
    "0.05보다 작으므로 귀무가설을 기각한다. 즉 지지율이 모든 선거구에서 동일한 것은 아니다."
   ]
  }
 ],
 "metadata": {
  "kernelspec": {
   "display_name": "Python 3 (ipykernel)",
   "language": "python",
   "name": "python3"
  },
  "language_info": {
   "codemirror_mode": {
    "name": "ipython",
    "version": 3
   },
   "file_extension": ".py",
   "mimetype": "text/x-python",
   "name": "python",
   "nbconvert_exporter": "python",
   "pygments_lexer": "ipython3",
   "version": "3.8.5"
  }
 },
 "nbformat": 4,
 "nbformat_minor": 5
}
