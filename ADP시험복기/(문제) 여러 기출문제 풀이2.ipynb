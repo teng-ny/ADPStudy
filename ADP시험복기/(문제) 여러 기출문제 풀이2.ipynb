{
 "cells": [
  {
   "cell_type": "code",
   "execution_count": 4,
   "id": "204e9260",
   "metadata": {},
   "outputs": [],
   "source": [
    "import pandas as pd\n",
    "import numpy as np\n",
    "import matplotlib.pyplot as plt\n",
    "from scipy import stats"
   ]
  },
  {
   "cell_type": "markdown",
   "id": "8d7535e6",
   "metadata": {},
   "source": [
    "### 예제 1\n",
    "어느 회사에서 생산하는 제품의 모분산을 추리하기 위하여, 표본 10개를 뽑았더니 표본분산은 6.42가 나왔다고 한다. 이때 제품의 모분산에 대한 90% 신뢰구간을 구하시오."
   ]
  },
  {
   "cell_type": "code",
   "execution_count": 5,
   "id": "4597ca08",
   "metadata": {},
   "outputs": [
    {
     "data": {
      "text/plain": [
       "(3.415099975321245, 17.37685387744868)"
      ]
     },
     "execution_count": 5,
     "metadata": {},
     "output_type": "execute_result"
    }
   ],
   "source": [
    "n=10\n",
    "u_var=6.42\n",
    "\n",
    "rv=stats.chi2(df=n-1)\n",
    "#0.05\n",
    "#1-0.05=0.95\n",
    "lcl=(n-1)*u_var/rv.isf(0.05)\n",
    "ucl=(n-1)*u_var/rv.isf(0.95)\n",
    "lcl, ucl"
   ]
  },
  {
   "cell_type": "markdown",
   "id": "b542a4d6",
   "metadata": {},
   "source": [
    "### 예제 2\n",
    "향수 20개 추출, 지속시간의 분산 90**2, 향수의 분산 90% 신뢰구간을 구하여라."
   ]
  },
  {
   "cell_type": "code",
   "execution_count": 7,
   "id": "5e002036",
   "metadata": {},
   "outputs": [
    {
     "data": {
      "text/plain": [
       "(5105.573709077189, 15211.99973041214)"
      ]
     },
     "execution_count": 7,
     "metadata": {},
     "output_type": "execute_result"
    }
   ],
   "source": [
    "n=20\n",
    "u_var=90**2\n",
    "\n",
    "rv=stats.chi2(df=n-1)\n",
    "#0.05\n",
    "#0.95\n",
    "lcl=(n-1)*u_var/rv.isf(0.05)\n",
    "ucl=(n-1)*u_var/rv.isf(0.95)\n",
    "\n",
    "lcl,ucl"
   ]
  },
  {
   "cell_type": "markdown",
   "id": "8f9b82eb",
   "metadata": {},
   "source": [
    "### 예제 3(일표본T검정)\n",
    "H0 : 감자튀김의 모평균은 130g\n",
    "\n",
    "H1 : 감자튀김의 모평균은 130g이 아니다."
   ]
  },
  {
   "cell_type": "code",
   "execution_count": 10,
   "id": "5ddee7d6",
   "metadata": {},
   "outputs": [
    {
     "data": {
      "text/plain": [
       "array([122.02, 131.73, 130.6 , 131.82, 132.05, 126.12, 124.43, 132.89,\n",
       "       122.79, 129.95, 126.14, 134.45, 127.64, 125.68])"
      ]
     },
     "execution_count": 10,
     "metadata": {},
     "output_type": "execute_result"
    }
   ],
   "source": [
    "import pandas as pd\n",
    "import numpy as np\n",
    "\n",
    "data=pd.read_csv(\"ch11_potato.csv\")\n",
    "sample=np.array(data['무게'])\n",
    "sample"
   ]
  },
  {
   "cell_type": "code",
   "execution_count": 11,
   "id": "2a4a15d2",
   "metadata": {},
   "outputs": [
    {
     "data": {
      "text/plain": [
       "ShapiroResult(statistic=0.9412715435028076, pvalue=0.43486055731773376)"
      ]
     },
     "execution_count": 11,
     "metadata": {},
     "output_type": "execute_result"
    }
   ],
   "source": [
    "import scipy.stats as stats\n",
    "from scipy.stats import shapiro\n",
    "shapiro(sample)"
   ]
  },
  {
   "cell_type": "markdown",
   "id": "639a5787",
   "metadata": {},
   "source": [
    "p-value가 0.05보다 크므로 귀무가설을 기각할 수 없다. 즉 정규분포를 따른다."
   ]
  },
  {
   "cell_type": "markdown",
   "id": "2a1f66c9",
   "metadata": {},
   "source": [
    "- 모분산 알고있을 경우(9)->z분포"
   ]
  },
  {
   "cell_type": "code",
   "execution_count": 16,
   "id": "e324f71e",
   "metadata": {},
   "outputs": [],
   "source": [
    "mean0=130\n",
    "p_var=9\n",
    "s_mean=np.mean(sample)\n",
    "n=len(sample)\n",
    "rv=stats.norm()\n",
    "z=(s_mean-mean0)/np.sqrt(p_var/n)\n",
    "#z는 음수\n",
    "p=rv.cdf(z)*2"
   ]
  },
  {
   "cell_type": "code",
   "execution_count": 17,
   "id": "3617172a",
   "metadata": {},
   "outputs": [
    {
     "data": {
      "text/plain": [
       "0.05332263904625327"
      ]
     },
     "execution_count": 17,
     "metadata": {},
     "output_type": "execute_result"
    }
   ],
   "source": [
    "p"
   ]
  },
  {
   "cell_type": "markdown",
   "id": "4eb93471",
   "metadata": {},
   "source": [
    "p-value는 0.05보다 크므로 귀무가설을 기각할 수 없다. 즉 감자튀김의 모평균은 130g이다."
   ]
  },
  {
   "cell_type": "markdown",
   "id": "a5cc209c",
   "metadata": {},
   "source": [
    "- 모분산 모를경우(t분포)"
   ]
  },
  {
   "cell_type": "code",
   "execution_count": 21,
   "id": "22c05c55",
   "metadata": {},
   "outputs": [
    {
     "data": {
      "text/plain": [
       "0.16933464230414275"
      ]
     },
     "execution_count": 21,
     "metadata": {},
     "output_type": "execute_result"
    }
   ],
   "source": [
    "mean0=130\n",
    "s_mean=np.mean(sample)\n",
    "u_var=np.var(sample, ddof=1)\n",
    "n=len(sample)\n",
    "rv=stats.t(df=n-1)\n",
    "t=(s_mean-mean0)/np.sqrt(u_var/n)\n",
    "#t는 음수\n",
    "p=rv.cdf(t)*2\n",
    "p"
   ]
  },
  {
   "cell_type": "markdown",
   "id": "b76711dc",
   "metadata": {},
   "source": [
    "p-value가 0.05보다 크므로 귀무가설을 기각할 수 없다. 감자튀김의 모평균은 130g이라고 할 수 있다."
   ]
  },
  {
   "cell_type": "code",
   "execution_count": 22,
   "id": "e4602d7c",
   "metadata": {},
   "outputs": [],
   "source": [
    "#쉽게 구하는 방법\n",
    "t, p=stats.ttest_1samp(sample, mean0)"
   ]
  },
  {
   "cell_type": "code",
   "execution_count": 23,
   "id": "eac5377e",
   "metadata": {},
   "outputs": [
    {
     "data": {
      "text/plain": [
       "(-1.4551960206404198, 0.16933464230414275)"
      ]
     },
     "execution_count": 23,
     "metadata": {},
     "output_type": "execute_result"
    }
   ],
   "source": [
    "t,p"
   ]
  },
  {
   "cell_type": "markdown",
   "id": "f7265b0e",
   "metadata": {},
   "source": [
    "- 정규분포를 따르지 않을때"
   ]
  },
  {
   "cell_type": "code",
   "execution_count": 24,
   "id": "55206d7e",
   "metadata": {},
   "outputs": [
    {
     "data": {
      "text/plain": [
       "WilcoxonResult(statistic=32.0, pvalue=0.216552734375)"
      ]
     },
     "execution_count": 24,
     "metadata": {},
     "output_type": "execute_result"
    }
   ],
   "source": [
    "stats.wilcoxon(sample-mean0, alternative='two-sided')"
   ]
  },
  {
   "cell_type": "markdown",
   "id": "44770694",
   "metadata": {},
   "source": [
    "p-value가 0.05보다 크므로 귀무가설을 기각할 수 없다. 모평균은 130g이라고할 수 있다."
   ]
  },
  {
   "cell_type": "markdown",
   "id": "3c4633b4",
   "metadata": {},
   "source": [
    "### 예제 4(일표본 T검정)"
   ]
  },
  {
   "cell_type": "markdown",
   "id": "59b02e07",
   "metadata": {},
   "source": [
    "H0 : 고양이의 평균 몸무게는 2.6kg이다.\n",
    "    \n",
    "H1 : 고양이의 평균 몸무게는 2.6kg가 아니다."
   ]
  },
  {
   "cell_type": "code",
   "execution_count": 26,
   "id": "2efd9414",
   "metadata": {},
   "outputs": [
    {
     "name": "stdout",
     "output_type": "stream",
     "text": [
      "<class 'pandas.core.frame.DataFrame'>\n",
      "RangeIndex: 144 entries, 0 to 143\n",
      "Data columns (total 3 columns):\n",
      " #   Column  Non-Null Count  Dtype  \n",
      "---  ------  --------------  -----  \n",
      " 0   Sex     144 non-null    object \n",
      " 1   Bwt     144 non-null    float64\n",
      " 2   Hwt     144 non-null    float64\n",
      "dtypes: float64(2), object(1)\n",
      "memory usage: 3.5+ KB\n"
     ]
    }
   ],
   "source": [
    "import pandas as pd\n",
    "data=pd.read_csv(\"cats.csv\")\n",
    "data.info()"
   ]
  },
  {
   "cell_type": "code",
   "execution_count": 29,
   "id": "eea2563c",
   "metadata": {},
   "outputs": [
    {
     "data": {
      "text/plain": [
       "ShapiroResult(statistic=0.9518786668777466, pvalue=6.730248423991725e-05)"
      ]
     },
     "execution_count": 29,
     "metadata": {},
     "output_type": "execute_result"
    }
   ],
   "source": [
    "import scipy.stats as stats\n",
    "from scipy.stats import shapiro\n",
    "mean0=2.6\n",
    "shapiro(data.Bwt)"
   ]
  },
  {
   "cell_type": "markdown",
   "id": "a667bfb6",
   "metadata": {},
   "source": [
    "귀무가설을 기각한다. 즉 정규성을 따르지 않는다. "
   ]
  },
  {
   "cell_type": "code",
   "execution_count": 30,
   "id": "d3129e35",
   "metadata": {},
   "outputs": [
    {
     "data": {
      "text/plain": [
       "WilcoxonResult(statistic=3573.0, pvalue=0.02524520294814093)"
      ]
     },
     "execution_count": 30,
     "metadata": {},
     "output_type": "execute_result"
    }
   ],
   "source": [
    "stats.wilcoxon(data.Bwt-mean0, alternative='two-sided')"
   ]
  },
  {
   "cell_type": "markdown",
   "id": "9811fe26",
   "metadata": {},
   "source": [
    "p-value가 0.05보다 작으므로 귀무가설을 기각한다. 즉 고양이의 평균 몸무게는 2.6kg가 아니다."
   ]
  },
  {
   "cell_type": "markdown",
   "id": "d816d41c",
   "metadata": {},
   "source": [
    "### 예제 5(대응표본 T검정)"
   ]
  },
  {
   "cell_type": "code",
   "execution_count": 31,
   "id": "8fdd12f6",
   "metadata": {},
   "outputs": [
    {
     "name": "stdout",
     "output_type": "stream",
     "text": [
      "<class 'pandas.core.frame.DataFrame'>\n",
      "RangeIndex: 20 entries, 0 to 19\n",
      "Data columns (total 2 columns):\n",
      " #   Column  Non-Null Count  Dtype\n",
      "---  ------  --------------  -----\n",
      " 0   전       20 non-null     int64\n",
      " 1   후       20 non-null     int64\n",
      "dtypes: int64(2)\n",
      "memory usage: 448.0 bytes\n"
     ]
    }
   ],
   "source": [
    "data=pd.read_csv(\"ch11_training_rel.csv\")\n",
    "\n",
    "import scipy.stats as stats\n",
    "from scipy.stats import shapiro\n",
    "data.info()"
   ]
  },
  {
   "cell_type": "code",
   "execution_count": 32,
   "id": "fdb5c75f",
   "metadata": {},
   "outputs": [
    {
     "data": {
      "text/plain": [
       "ShapiroResult(statistic=0.9670043587684631, pvalue=0.6907904148101807)"
      ]
     },
     "execution_count": 32,
     "metadata": {},
     "output_type": "execute_result"
    }
   ],
   "source": [
    "shapiro(data.전)"
   ]
  },
  {
   "cell_type": "code",
   "execution_count": 33,
   "id": "c8d2f093",
   "metadata": {},
   "outputs": [
    {
     "data": {
      "text/plain": [
       "ShapiroResult(statistic=0.9786623120307922, pvalue=0.9156785011291504)"
      ]
     },
     "execution_count": 33,
     "metadata": {},
     "output_type": "execute_result"
    }
   ],
   "source": [
    "shapiro(data.후)"
   ]
  },
  {
   "cell_type": "markdown",
   "id": "c6f6bc5c",
   "metadata": {},
   "source": [
    "귀무가설을 기각할 수 없다. 즉 정규성을 따른다."
   ]
  },
  {
   "cell_type": "code",
   "execution_count": 35,
   "id": "a7c22954",
   "metadata": {},
   "outputs": [
    {
     "data": {
      "text/plain": [
       "Ttest_relResult(statistic=-2.204154108716127, pvalue=0.04004419061842953)"
      ]
     },
     "execution_count": 35,
     "metadata": {},
     "output_type": "execute_result"
    }
   ],
   "source": [
    "stats.ttest_rel(data.전, data.후, alternative='two-sided')"
   ]
  },
  {
   "cell_type": "markdown",
   "id": "0bcba63d",
   "metadata": {},
   "source": [
    "p-value는 0.05보다 작다. 즉 귀무가설을 기각한다. 전, 후 모평균 사이에 유의미한 차이가 있다."
   ]
  },
  {
   "cell_type": "markdown",
   "id": "07b8b146",
   "metadata": {},
   "source": [
    "### 예제 6(대응표본 T검정)"
   ]
  },
  {
   "cell_type": "markdown",
   "id": "780709d1",
   "metadata": {},
   "source": [
    "10명 환자 대상 수면제 복용 전과 후의 수면시간을 측정하였다.\n",
    "\n",
    "H0 : 복용 전과 후의 수면시간에는 차이가 없다.\n",
    "    \n",
    "H1 : 복용 전과 후의 수면시간에는 차이가 있다."
   ]
  },
  {
   "cell_type": "code",
   "execution_count": 36,
   "id": "3b471288",
   "metadata": {},
   "outputs": [],
   "source": [
    "data=pd.DataFrame({'before':[7,3,4,5,2,1,6,6,5,4], 'after':[8,4,5,6,2,3,6,8,6,5]})"
   ]
  },
  {
   "cell_type": "code",
   "execution_count": 37,
   "id": "0e91351a",
   "metadata": {},
   "outputs": [
    {
     "data": {
      "text/html": [
       "<div>\n",
       "<style scoped>\n",
       "    .dataframe tbody tr th:only-of-type {\n",
       "        vertical-align: middle;\n",
       "    }\n",
       "\n",
       "    .dataframe tbody tr th {\n",
       "        vertical-align: top;\n",
       "    }\n",
       "\n",
       "    .dataframe thead th {\n",
       "        text-align: right;\n",
       "    }\n",
       "</style>\n",
       "<table border=\"1\" class=\"dataframe\">\n",
       "  <thead>\n",
       "    <tr style=\"text-align: right;\">\n",
       "      <th></th>\n",
       "      <th>before</th>\n",
       "      <th>after</th>\n",
       "    </tr>\n",
       "  </thead>\n",
       "  <tbody>\n",
       "    <tr>\n",
       "      <th>0</th>\n",
       "      <td>7</td>\n",
       "      <td>8</td>\n",
       "    </tr>\n",
       "    <tr>\n",
       "      <th>1</th>\n",
       "      <td>3</td>\n",
       "      <td>4</td>\n",
       "    </tr>\n",
       "    <tr>\n",
       "      <th>2</th>\n",
       "      <td>4</td>\n",
       "      <td>5</td>\n",
       "    </tr>\n",
       "    <tr>\n",
       "      <th>3</th>\n",
       "      <td>5</td>\n",
       "      <td>6</td>\n",
       "    </tr>\n",
       "    <tr>\n",
       "      <th>4</th>\n",
       "      <td>2</td>\n",
       "      <td>2</td>\n",
       "    </tr>\n",
       "    <tr>\n",
       "      <th>5</th>\n",
       "      <td>1</td>\n",
       "      <td>3</td>\n",
       "    </tr>\n",
       "    <tr>\n",
       "      <th>6</th>\n",
       "      <td>6</td>\n",
       "      <td>6</td>\n",
       "    </tr>\n",
       "    <tr>\n",
       "      <th>7</th>\n",
       "      <td>6</td>\n",
       "      <td>8</td>\n",
       "    </tr>\n",
       "    <tr>\n",
       "      <th>8</th>\n",
       "      <td>5</td>\n",
       "      <td>6</td>\n",
       "    </tr>\n",
       "    <tr>\n",
       "      <th>9</th>\n",
       "      <td>4</td>\n",
       "      <td>5</td>\n",
       "    </tr>\n",
       "  </tbody>\n",
       "</table>\n",
       "</div>"
      ],
      "text/plain": [
       "   before  after\n",
       "0       7      8\n",
       "1       3      4\n",
       "2       4      5\n",
       "3       5      6\n",
       "4       2      2\n",
       "5       1      3\n",
       "6       6      6\n",
       "7       6      8\n",
       "8       5      6\n",
       "9       4      5"
      ]
     },
     "execution_count": 37,
     "metadata": {},
     "output_type": "execute_result"
    }
   ],
   "source": [
    "data"
   ]
  },
  {
   "cell_type": "markdown",
   "id": "af943eee",
   "metadata": {},
   "source": [
    "- 정규성 검정"
   ]
  },
  {
   "cell_type": "code",
   "execution_count": 38,
   "id": "de6719ac",
   "metadata": {},
   "outputs": [
    {
     "data": {
      "text/plain": [
       "ShapiroResult(statistic=0.9644595384597778, pvalue=0.8352707624435425)"
      ]
     },
     "execution_count": 38,
     "metadata": {},
     "output_type": "execute_result"
    }
   ],
   "source": [
    "import scipy.stats as stats\n",
    "from scipy.stats import shapiro\n",
    "shapiro(data['before'])"
   ]
  },
  {
   "cell_type": "code",
   "execution_count": 39,
   "id": "4a6d2480",
   "metadata": {},
   "outputs": [
    {
     "data": {
      "text/plain": [
       "ShapiroResult(statistic=0.9456837177276611, pvalue=0.6177994012832642)"
      ]
     },
     "execution_count": 39,
     "metadata": {},
     "output_type": "execute_result"
    }
   ],
   "source": [
    "shapiro(data['after'])"
   ]
  },
  {
   "cell_type": "markdown",
   "id": "121adac3",
   "metadata": {},
   "source": [
    "귀무가설을 기각할 수 없다. 정규성을 따른다"
   ]
  },
  {
   "cell_type": "code",
   "execution_count": 40,
   "id": "2d1e13b8",
   "metadata": {},
   "outputs": [
    {
     "data": {
      "text/plain": [
       "Ttest_relResult(statistic=-4.743416490252569, pvalue=0.001053871257016553)"
      ]
     },
     "execution_count": 40,
     "metadata": {},
     "output_type": "execute_result"
    }
   ],
   "source": [
    "stats.ttest_rel(data.before, data.after, alternative='two-sided')"
   ]
  },
  {
   "cell_type": "markdown",
   "id": "fee7d388",
   "metadata": {},
   "source": [
    "0.05보다 작아 귀무가설을 기각한다. 즉 복용 전후 수면시간에 차이가 있다."
   ]
  },
  {
   "cell_type": "markdown",
   "id": "c3e7cbdf",
   "metadata": {},
   "source": [
    "### 예제 7(독립표본 T검정)"
   ]
  },
  {
   "cell_type": "markdown",
   "id": "827bb739",
   "metadata": {},
   "source": [
    "두개의 독립된 모집단의 평균을 비교"
   ]
  },
  {
   "cell_type": "code",
   "execution_count": 42,
   "id": "d6541a1b",
   "metadata": {},
   "outputs": [
    {
     "data": {
      "text/html": [
       "<div>\n",
       "<style scoped>\n",
       "    .dataframe tbody tr th:only-of-type {\n",
       "        vertical-align: middle;\n",
       "    }\n",
       "\n",
       "    .dataframe tbody tr th {\n",
       "        vertical-align: top;\n",
       "    }\n",
       "\n",
       "    .dataframe thead th {\n",
       "        text-align: right;\n",
       "    }\n",
       "</style>\n",
       "<table border=\"1\" class=\"dataframe\">\n",
       "  <thead>\n",
       "    <tr style=\"text-align: right;\">\n",
       "      <th></th>\n",
       "      <th>A</th>\n",
       "      <th>B</th>\n",
       "    </tr>\n",
       "  </thead>\n",
       "  <tbody>\n",
       "    <tr>\n",
       "      <th>0</th>\n",
       "      <td>47</td>\n",
       "      <td>49</td>\n",
       "    </tr>\n",
       "    <tr>\n",
       "      <th>1</th>\n",
       "      <td>50</td>\n",
       "      <td>52</td>\n",
       "    </tr>\n",
       "    <tr>\n",
       "      <th>2</th>\n",
       "      <td>37</td>\n",
       "      <td>54</td>\n",
       "    </tr>\n",
       "    <tr>\n",
       "      <th>3</th>\n",
       "      <td>60</td>\n",
       "      <td>48</td>\n",
       "    </tr>\n",
       "    <tr>\n",
       "      <th>4</th>\n",
       "      <td>39</td>\n",
       "      <td>51</td>\n",
       "    </tr>\n",
       "  </tbody>\n",
       "</table>\n",
       "</div>"
      ],
      "text/plain": [
       "    A   B\n",
       "0  47  49\n",
       "1  50  52\n",
       "2  37  54\n",
       "3  60  48\n",
       "4  39  51"
      ]
     },
     "execution_count": 42,
     "metadata": {},
     "output_type": "execute_result"
    }
   ],
   "source": [
    "data=pd.read_csv(\"ch11_training_ind.csv\")\n",
    "data.head()"
   ]
  },
  {
   "cell_type": "code",
   "execution_count": 43,
   "id": "f497b0aa",
   "metadata": {},
   "outputs": [
    {
     "data": {
      "text/plain": [
       "ShapiroResult(statistic=0.9685941338539124, pvalue=0.7249506711959839)"
      ]
     },
     "execution_count": 43,
     "metadata": {},
     "output_type": "execute_result"
    }
   ],
   "source": [
    "import scipy.stats as stats\n",
    "from scipy.stats import shapiro\n",
    "shapiro(data['A'])"
   ]
  },
  {
   "cell_type": "code",
   "execution_count": 44,
   "id": "83da6740",
   "metadata": {},
   "outputs": [
    {
     "data": {
      "text/plain": [
       "ShapiroResult(statistic=0.9730017781257629, pvalue=0.8165717720985413)"
      ]
     },
     "execution_count": 44,
     "metadata": {},
     "output_type": "execute_result"
    }
   ],
   "source": [
    "shapiro(data['B'])"
   ]
  },
  {
   "cell_type": "markdown",
   "id": "c8697e2d",
   "metadata": {},
   "source": [
    "귀무가설을 기각할 수 없다. 즉 정규성을 따른다"
   ]
  },
  {
   "cell_type": "code",
   "execution_count": 45,
   "id": "420d4e9d",
   "metadata": {},
   "outputs": [
    {
     "data": {
      "text/plain": [
       "LeveneResult(statistic=2.061573118077718, pvalue=0.15923550057222613)"
      ]
     },
     "execution_count": 45,
     "metadata": {},
     "output_type": "execute_result"
    }
   ],
   "source": [
    "stats.levene(data.A, data.B)"
   ]
  },
  {
   "cell_type": "markdown",
   "id": "22e3d71b",
   "metadata": {},
   "source": [
    "귀무가설을 기각할 수 없다. 즉 등분산이다. equal_var=True"
   ]
  },
  {
   "cell_type": "code",
   "execution_count": 46,
   "id": "7d63cc80",
   "metadata": {},
   "outputs": [
    {
     "data": {
      "text/plain": [
       "Ttest_indResult(statistic=-1.7608157246524712, pvalue=0.08631600572195147)"
      ]
     },
     "execution_count": 46,
     "metadata": {},
     "output_type": "execute_result"
    }
   ],
   "source": [
    "stats.ttest_ind(data.A, data.B, equal_var=True)"
   ]
  },
  {
   "cell_type": "markdown",
   "id": "b77afeb5",
   "metadata": {},
   "source": [
    "p-value가 0.05보다 커서 귀무가설을 기각할 수 없다. 즉 두 모평균 사이의 차이는 없다."
   ]
  },
  {
   "cell_type": "markdown",
   "id": "a103d110",
   "metadata": {},
   "source": [
    "### 예제 8(독립표본 T검정)"
   ]
  },
  {
   "cell_type": "markdown",
   "id": "5c916775",
   "metadata": {},
   "source": [
    "H0 : 수컷과 암컷 고양이의 몸무게 차이는 없다.\n",
    "    \n",
    "H1 : 수컷과 암컷 고양이의 몸무게 차이는 있다."
   ]
  },
  {
   "cell_type": "code",
   "execution_count": 47,
   "id": "6871b74d",
   "metadata": {},
   "outputs": [
    {
     "data": {
      "text/html": [
       "<div>\n",
       "<style scoped>\n",
       "    .dataframe tbody tr th:only-of-type {\n",
       "        vertical-align: middle;\n",
       "    }\n",
       "\n",
       "    .dataframe tbody tr th {\n",
       "        vertical-align: top;\n",
       "    }\n",
       "\n",
       "    .dataframe thead th {\n",
       "        text-align: right;\n",
       "    }\n",
       "</style>\n",
       "<table border=\"1\" class=\"dataframe\">\n",
       "  <thead>\n",
       "    <tr style=\"text-align: right;\">\n",
       "      <th></th>\n",
       "      <th>Sex</th>\n",
       "      <th>Bwt</th>\n",
       "      <th>Hwt</th>\n",
       "    </tr>\n",
       "  </thead>\n",
       "  <tbody>\n",
       "    <tr>\n",
       "      <th>0</th>\n",
       "      <td>F</td>\n",
       "      <td>2.0</td>\n",
       "      <td>7.0</td>\n",
       "    </tr>\n",
       "    <tr>\n",
       "      <th>1</th>\n",
       "      <td>F</td>\n",
       "      <td>2.0</td>\n",
       "      <td>7.4</td>\n",
       "    </tr>\n",
       "    <tr>\n",
       "      <th>2</th>\n",
       "      <td>F</td>\n",
       "      <td>2.0</td>\n",
       "      <td>9.5</td>\n",
       "    </tr>\n",
       "    <tr>\n",
       "      <th>3</th>\n",
       "      <td>F</td>\n",
       "      <td>2.1</td>\n",
       "      <td>7.2</td>\n",
       "    </tr>\n",
       "    <tr>\n",
       "      <th>4</th>\n",
       "      <td>F</td>\n",
       "      <td>2.1</td>\n",
       "      <td>7.3</td>\n",
       "    </tr>\n",
       "  </tbody>\n",
       "</table>\n",
       "</div>"
      ],
      "text/plain": [
       "  Sex  Bwt  Hwt\n",
       "0   F  2.0  7.0\n",
       "1   F  2.0  7.4\n",
       "2   F  2.0  9.5\n",
       "3   F  2.1  7.2\n",
       "4   F  2.1  7.3"
      ]
     },
     "execution_count": 47,
     "metadata": {},
     "output_type": "execute_result"
    }
   ],
   "source": [
    "data=pd.read_csv(\"cats.csv\")\n",
    "data.head()"
   ]
  },
  {
   "cell_type": "code",
   "execution_count": 49,
   "id": "5e9f3149",
   "metadata": {},
   "outputs": [],
   "source": [
    "female=data[data['Sex']=='F'].Bwt\n",
    "male=data[data['Sex']=='M'].Bwt"
   ]
  },
  {
   "cell_type": "code",
   "execution_count": 51,
   "id": "4d5f1645",
   "metadata": {},
   "outputs": [
    {
     "data": {
      "text/plain": [
       "LeveneResult(statistic=19.43101190877999, pvalue=2.0435285255189404e-05)"
      ]
     },
     "execution_count": 51,
     "metadata": {},
     "output_type": "execute_result"
    }
   ],
   "source": [
    "stats.levene(female, male)"
   ]
  },
  {
   "cell_type": "markdown",
   "id": "b68457c5",
   "metadata": {},
   "source": [
    "p-value가 0.05보다 작으므로 귀무가설을 기각한다. 즉 등분산이 아니다. equal_var=False"
   ]
  },
  {
   "cell_type": "code",
   "execution_count": 52,
   "id": "abba1f39",
   "metadata": {},
   "outputs": [
    {
     "data": {
      "text/plain": [
       "Ttest_indResult(statistic=-8.70948849909559, pvalue=8.831034455859356e-15)"
      ]
     },
     "execution_count": 52,
     "metadata": {},
     "output_type": "execute_result"
    }
   ],
   "source": [
    "stats.ttest_ind(female, male, equal_var=False)"
   ]
  },
  {
   "cell_type": "markdown",
   "id": "db8bd2ac",
   "metadata": {},
   "source": [
    "p-value가 0.05보다 작으므로 귀무가설을 기각한다. 즉 수컷, 암컷 고양이의 몸무게 차이는 있다."
   ]
  },
  {
   "cell_type": "markdown",
   "id": "19e900e5",
   "metadata": {},
   "source": [
    "### 예제 9(독립성 검정)"
   ]
  },
  {
   "cell_type": "markdown",
   "id": "dbad092e",
   "metadata": {},
   "source": [
    "H0 : 변수1과 변수2는 독립이다.\n",
    "    \n",
    "H1 : 변수1과 변수2는 독립이 아니다."
   ]
  },
  {
   "cell_type": "code",
   "execution_count": 56,
   "id": "d367f49d",
   "metadata": {},
   "outputs": [
    {
     "data": {
      "text/html": [
       "<div>\n",
       "<style scoped>\n",
       "    .dataframe tbody tr th:only-of-type {\n",
       "        vertical-align: middle;\n",
       "    }\n",
       "\n",
       "    .dataframe tbody tr th {\n",
       "        vertical-align: top;\n",
       "    }\n",
       "\n",
       "    .dataframe thead th {\n",
       "        text-align: right;\n",
       "    }\n",
       "</style>\n",
       "<table border=\"1\" class=\"dataframe\">\n",
       "  <thead>\n",
       "    <tr style=\"text-align: right;\">\n",
       "      <th></th>\n",
       "      <th>광고</th>\n",
       "      <th>구입</th>\n",
       "    </tr>\n",
       "  </thead>\n",
       "  <tbody>\n",
       "    <tr>\n",
       "      <th>0</th>\n",
       "      <td>B</td>\n",
       "      <td>하지 않았다</td>\n",
       "    </tr>\n",
       "    <tr>\n",
       "      <th>1</th>\n",
       "      <td>B</td>\n",
       "      <td>하지 않았다</td>\n",
       "    </tr>\n",
       "    <tr>\n",
       "      <th>2</th>\n",
       "      <td>A</td>\n",
       "      <td>했다</td>\n",
       "    </tr>\n",
       "    <tr>\n",
       "      <th>3</th>\n",
       "      <td>A</td>\n",
       "      <td>했다</td>\n",
       "    </tr>\n",
       "    <tr>\n",
       "      <th>4</th>\n",
       "      <td>B</td>\n",
       "      <td>하지 않았다</td>\n",
       "    </tr>\n",
       "    <tr>\n",
       "      <th>...</th>\n",
       "      <td>...</td>\n",
       "      <td>...</td>\n",
       "    </tr>\n",
       "    <tr>\n",
       "      <th>995</th>\n",
       "      <td>B</td>\n",
       "      <td>하지 않았다</td>\n",
       "    </tr>\n",
       "    <tr>\n",
       "      <th>996</th>\n",
       "      <td>B</td>\n",
       "      <td>하지 않았다</td>\n",
       "    </tr>\n",
       "    <tr>\n",
       "      <th>997</th>\n",
       "      <td>B</td>\n",
       "      <td>하지 않았다</td>\n",
       "    </tr>\n",
       "    <tr>\n",
       "      <th>998</th>\n",
       "      <td>B</td>\n",
       "      <td>하지 않았다</td>\n",
       "    </tr>\n",
       "    <tr>\n",
       "      <th>999</th>\n",
       "      <td>A</td>\n",
       "      <td>했다</td>\n",
       "    </tr>\n",
       "  </tbody>\n",
       "</table>\n",
       "<p>1000 rows × 2 columns</p>\n",
       "</div>"
      ],
      "text/plain": [
       "    광고      구입\n",
       "0    B  하지 않았다\n",
       "1    B  하지 않았다\n",
       "2    A      했다\n",
       "3    A      했다\n",
       "4    B  하지 않았다\n",
       "..  ..     ...\n",
       "995  B  하지 않았다\n",
       "996  B  하지 않았다\n",
       "997  B  하지 않았다\n",
       "998  B  하지 않았다\n",
       "999  A      했다\n",
       "\n",
       "[1000 rows x 2 columns]"
      ]
     },
     "execution_count": 56,
     "metadata": {},
     "output_type": "execute_result"
    }
   ],
   "source": [
    "data=pd.read_csv(\"ch11_ad.csv\")\n",
    "data"
   ]
  },
  {
   "cell_type": "markdown",
   "id": "fadb94d5",
   "metadata": {},
   "source": [
    "- 교차 집계표 작성"
   ]
  },
  {
   "cell_type": "code",
   "execution_count": 57,
   "id": "3c1e488d",
   "metadata": {},
   "outputs": [
    {
     "data": {
      "text/html": [
       "<div>\n",
       "<style scoped>\n",
       "    .dataframe tbody tr th:only-of-type {\n",
       "        vertical-align: middle;\n",
       "    }\n",
       "\n",
       "    .dataframe tbody tr th {\n",
       "        vertical-align: top;\n",
       "    }\n",
       "\n",
       "    .dataframe thead th {\n",
       "        text-align: right;\n",
       "    }\n",
       "</style>\n",
       "<table border=\"1\" class=\"dataframe\">\n",
       "  <thead>\n",
       "    <tr style=\"text-align: right;\">\n",
       "      <th>구입</th>\n",
       "      <th>하지 않았다</th>\n",
       "      <th>했다</th>\n",
       "    </tr>\n",
       "    <tr>\n",
       "      <th>광고</th>\n",
       "      <th></th>\n",
       "      <th></th>\n",
       "    </tr>\n",
       "  </thead>\n",
       "  <tbody>\n",
       "    <tr>\n",
       "      <th>A</th>\n",
       "      <td>351</td>\n",
       "      <td>49</td>\n",
       "    </tr>\n",
       "    <tr>\n",
       "      <th>B</th>\n",
       "      <td>549</td>\n",
       "      <td>51</td>\n",
       "    </tr>\n",
       "  </tbody>\n",
       "</table>\n",
       "</div>"
      ],
      "text/plain": [
       "구입  하지 않았다  했다\n",
       "광고            \n",
       "A      351  49\n",
       "B      549  51"
      ]
     },
     "execution_count": 57,
     "metadata": {},
     "output_type": "execute_result"
    }
   ],
   "source": [
    "n=len(data)\n",
    "ad_cross=pd.crosstab(data['광고'], data['구입'])\n",
    "ad_cross"
   ]
  },
  {
   "cell_type": "markdown",
   "id": "edc9abc1",
   "metadata": {},
   "source": [
    "- 교차표 생성"
   ]
  },
  {
   "cell_type": "code",
   "execution_count": 58,
   "id": "2306f889",
   "metadata": {},
   "outputs": [
    {
     "data": {
      "text/plain": [
       "0.052807511416113395"
      ]
     },
     "execution_count": 58,
     "metadata": {},
     "output_type": "execute_result"
    }
   ],
   "source": [
    "chi2, p, dof, ef=stats.chi2_contingency(ad_cross, correction=False)\n",
    "p"
   ]
  },
  {
   "cell_type": "markdown",
   "id": "cf3c8ea2",
   "metadata": {},
   "source": [
    "p-value가 0.05보다 크므로 귀무가설을 기각할 수 없다. 광고와 구입은 독립이다."
   ]
  },
  {
   "cell_type": "markdown",
   "id": "c81fe075",
   "metadata": {},
   "source": [
    "### 예제 10(독립성 검정)"
   ]
  },
  {
   "cell_type": "code",
   "execution_count": 59,
   "id": "80f6d5fb",
   "metadata": {},
   "outputs": [
    {
     "data": {
      "text/html": [
       "<div>\n",
       "<style scoped>\n",
       "    .dataframe tbody tr th:only-of-type {\n",
       "        vertical-align: middle;\n",
       "    }\n",
       "\n",
       "    .dataframe tbody tr th {\n",
       "        vertical-align: top;\n",
       "    }\n",
       "\n",
       "    .dataframe thead th {\n",
       "        text-align: right;\n",
       "    }\n",
       "</style>\n",
       "<table border=\"1\" class=\"dataframe\">\n",
       "  <thead>\n",
       "    <tr style=\"text-align: right;\">\n",
       "      <th></th>\n",
       "      <th>등산</th>\n",
       "      <th>수영</th>\n",
       "    </tr>\n",
       "  </thead>\n",
       "  <tbody>\n",
       "    <tr>\n",
       "      <th>남자</th>\n",
       "      <td>20</td>\n",
       "      <td>10</td>\n",
       "    </tr>\n",
       "    <tr>\n",
       "      <th>여자</th>\n",
       "      <td>15</td>\n",
       "      <td>30</td>\n",
       "    </tr>\n",
       "  </tbody>\n",
       "</table>\n",
       "</div>"
      ],
      "text/plain": [
       "    등산  수영\n",
       "남자  20  10\n",
       "여자  15  30"
      ]
     },
     "execution_count": 59,
     "metadata": {},
     "output_type": "execute_result"
    }
   ],
   "source": [
    "data=pd.DataFrame({'등산':[20,15], '수영':[10,30]}, index=['남자', '여자'])\n",
    "data"
   ]
  },
  {
   "cell_type": "markdown",
   "id": "393dc8c9",
   "metadata": {},
   "source": [
    "- 독립성 검정"
   ]
  },
  {
   "cell_type": "code",
   "execution_count": 61,
   "id": "3eaa5af2",
   "metadata": {},
   "outputs": [
    {
     "data": {
      "text/plain": [
       "0.0045863920802535025"
      ]
     },
     "execution_count": 61,
     "metadata": {},
     "output_type": "execute_result"
    }
   ],
   "source": [
    "chi2, p, dof, ef=stats.chi2_contingency(data, correction=False)\n",
    "p"
   ]
  },
  {
   "cell_type": "markdown",
   "id": "622a7515",
   "metadata": {},
   "source": [
    "p-value는 0.05보다 작아 귀무가설을 기각한다. 즉 성별과 운동은 독립이 아니다."
   ]
  },
  {
   "cell_type": "markdown",
   "id": "5d09ef05",
   "metadata": {},
   "source": [
    "### 예제 11(독립성 검정)"
   ]
  },
  {
   "cell_type": "markdown",
   "id": "c652fb9a",
   "metadata": {},
   "source": [
    "H0 : class 변수와 survived 변수는 독립이다.\n",
    "\n",
    "H1 : class 변수와 survived 변수는 독립이 아니다."
   ]
  },
  {
   "cell_type": "code",
   "execution_count": 62,
   "id": "d6d08818",
   "metadata": {},
   "outputs": [
    {
     "data": {
      "text/html": [
       "<div>\n",
       "<style scoped>\n",
       "    .dataframe tbody tr th:only-of-type {\n",
       "        vertical-align: middle;\n",
       "    }\n",
       "\n",
       "    .dataframe tbody tr th {\n",
       "        vertical-align: top;\n",
       "    }\n",
       "\n",
       "    .dataframe thead th {\n",
       "        text-align: right;\n",
       "    }\n",
       "</style>\n",
       "<table border=\"1\" class=\"dataframe\">\n",
       "  <thead>\n",
       "    <tr style=\"text-align: right;\">\n",
       "      <th></th>\n",
       "      <th>survived</th>\n",
       "      <th>pclass</th>\n",
       "      <th>sex</th>\n",
       "      <th>age</th>\n",
       "      <th>sibsp</th>\n",
       "      <th>parch</th>\n",
       "      <th>fare</th>\n",
       "      <th>embarked</th>\n",
       "      <th>class</th>\n",
       "      <th>adult_male</th>\n",
       "      <th>embark_town</th>\n",
       "    </tr>\n",
       "  </thead>\n",
       "  <tbody>\n",
       "    <tr>\n",
       "      <th>0</th>\n",
       "      <td>0</td>\n",
       "      <td>3</td>\n",
       "      <td>male</td>\n",
       "      <td>22.0</td>\n",
       "      <td>1</td>\n",
       "      <td>0</td>\n",
       "      <td>7.2500</td>\n",
       "      <td>S</td>\n",
       "      <td>Third</td>\n",
       "      <td>True</td>\n",
       "      <td>Southampton</td>\n",
       "    </tr>\n",
       "    <tr>\n",
       "      <th>1</th>\n",
       "      <td>1</td>\n",
       "      <td>1</td>\n",
       "      <td>female</td>\n",
       "      <td>38.0</td>\n",
       "      <td>1</td>\n",
       "      <td>0</td>\n",
       "      <td>71.2833</td>\n",
       "      <td>C</td>\n",
       "      <td>First</td>\n",
       "      <td>False</td>\n",
       "      <td>Cherbourg</td>\n",
       "    </tr>\n",
       "    <tr>\n",
       "      <th>2</th>\n",
       "      <td>1</td>\n",
       "      <td>3</td>\n",
       "      <td>female</td>\n",
       "      <td>26.0</td>\n",
       "      <td>0</td>\n",
       "      <td>0</td>\n",
       "      <td>7.9250</td>\n",
       "      <td>S</td>\n",
       "      <td>Third</td>\n",
       "      <td>False</td>\n",
       "      <td>Southampton</td>\n",
       "    </tr>\n",
       "    <tr>\n",
       "      <th>3</th>\n",
       "      <td>1</td>\n",
       "      <td>1</td>\n",
       "      <td>female</td>\n",
       "      <td>35.0</td>\n",
       "      <td>1</td>\n",
       "      <td>0</td>\n",
       "      <td>53.1000</td>\n",
       "      <td>S</td>\n",
       "      <td>First</td>\n",
       "      <td>False</td>\n",
       "      <td>Southampton</td>\n",
       "    </tr>\n",
       "    <tr>\n",
       "      <th>4</th>\n",
       "      <td>0</td>\n",
       "      <td>3</td>\n",
       "      <td>male</td>\n",
       "      <td>35.0</td>\n",
       "      <td>0</td>\n",
       "      <td>0</td>\n",
       "      <td>8.0500</td>\n",
       "      <td>S</td>\n",
       "      <td>Third</td>\n",
       "      <td>True</td>\n",
       "      <td>Southampton</td>\n",
       "    </tr>\n",
       "  </tbody>\n",
       "</table>\n",
       "</div>"
      ],
      "text/plain": [
       "   survived  pclass     sex   age  sibsp  parch     fare embarked  class  \\\n",
       "0         0       3    male  22.0      1      0   7.2500        S  Third   \n",
       "1         1       1  female  38.0      1      0  71.2833        C  First   \n",
       "2         1       3  female  26.0      0      0   7.9250        S  Third   \n",
       "3         1       1  female  35.0      1      0  53.1000        S  First   \n",
       "4         0       3    male  35.0      0      0   8.0500        S  Third   \n",
       "\n",
       "   adult_male  embark_town  \n",
       "0        True  Southampton  \n",
       "1       False    Cherbourg  \n",
       "2       False  Southampton  \n",
       "3       False  Southampton  \n",
       "4        True  Southampton  "
      ]
     },
     "execution_count": 62,
     "metadata": {},
     "output_type": "execute_result"
    }
   ],
   "source": [
    "data=pd.read_csv(\"titanic.csv\")\n",
    "data.head()"
   ]
  },
  {
   "cell_type": "code",
   "execution_count": 63,
   "id": "bdbbaca2",
   "metadata": {},
   "outputs": [
    {
     "data": {
      "text/html": [
       "<div>\n",
       "<style scoped>\n",
       "    .dataframe tbody tr th:only-of-type {\n",
       "        vertical-align: middle;\n",
       "    }\n",
       "\n",
       "    .dataframe tbody tr th {\n",
       "        vertical-align: top;\n",
       "    }\n",
       "\n",
       "    .dataframe thead th {\n",
       "        text-align: right;\n",
       "    }\n",
       "</style>\n",
       "<table border=\"1\" class=\"dataframe\">\n",
       "  <thead>\n",
       "    <tr style=\"text-align: right;\">\n",
       "      <th>survived</th>\n",
       "      <th>0</th>\n",
       "      <th>1</th>\n",
       "    </tr>\n",
       "    <tr>\n",
       "      <th>class</th>\n",
       "      <th></th>\n",
       "      <th></th>\n",
       "    </tr>\n",
       "  </thead>\n",
       "  <tbody>\n",
       "    <tr>\n",
       "      <th>First</th>\n",
       "      <td>80</td>\n",
       "      <td>136</td>\n",
       "    </tr>\n",
       "    <tr>\n",
       "      <th>Second</th>\n",
       "      <td>97</td>\n",
       "      <td>87</td>\n",
       "    </tr>\n",
       "    <tr>\n",
       "      <th>Third</th>\n",
       "      <td>372</td>\n",
       "      <td>119</td>\n",
       "    </tr>\n",
       "  </tbody>\n",
       "</table>\n",
       "</div>"
      ],
      "text/plain": [
       "survived    0    1\n",
       "class             \n",
       "First      80  136\n",
       "Second     97   87\n",
       "Third     372  119"
      ]
     },
     "execution_count": 63,
     "metadata": {},
     "output_type": "execute_result"
    }
   ],
   "source": [
    "table=pd.crosstab(data['class'], data['survived'])\n",
    "table"
   ]
  },
  {
   "cell_type": "code",
   "execution_count": 64,
   "id": "6f3abdb4",
   "metadata": {},
   "outputs": [
    {
     "data": {
      "text/plain": [
       "4.549251711298793e-23"
      ]
     },
     "execution_count": 64,
     "metadata": {},
     "output_type": "execute_result"
    }
   ],
   "source": [
    "from scipy.stats import chi2_contingency\n",
    "chi, p, df, expect=chi2_contingency(table)\n",
    "p"
   ]
  },
  {
   "cell_type": "markdown",
   "id": "7c1b0231",
   "metadata": {},
   "source": [
    "p-value는 0.05보다 작으므로 귀무가설을 기각한다. 즉 class와 생존은 독립이 아니다."
   ]
  },
  {
   "cell_type": "markdown",
   "id": "cbd92246",
   "metadata": {},
   "source": [
    "### 예제 12(부호순위 검정)"
   ]
  },
  {
   "cell_type": "markdown",
   "id": "4d63f38c",
   "metadata": {},
   "source": [
    "공장에서는 진공관 수명이 1만시간이라고 주장하여 품질관리 팀에서 12개 샘플을 뽑았음. 유의수준 5%에서 부호 검정하시오."
   ]
  },
  {
   "cell_type": "markdown",
   "id": "7a5ff459",
   "metadata": {},
   "source": [
    "H0 : 진공관 수명은 1만시간이다\n",
    "    \n",
    "H1 : 진공관 수명은 1만시간이 아니다."
   ]
  },
  {
   "cell_type": "code",
   "execution_count": 71,
   "id": "38b2e8b2",
   "metadata": {},
   "outputs": [],
   "source": [
    "data=[8800, 9500, 9600, 10500, 10400, 9600, 10300, 9500, 9600, 7100, 10100, 7200]"
   ]
  },
  {
   "cell_type": "code",
   "execution_count": 72,
   "id": "1ed6721d",
   "metadata": {},
   "outputs": [
    {
     "data": {
      "text/plain": [
       "[8800, 9500, 9600, 10500, 10400, 9600, 10300, 9500, 9600, 7100, 10100, 7200]"
      ]
     },
     "execution_count": 72,
     "metadata": {},
     "output_type": "execute_result"
    }
   ],
   "source": [
    "data"
   ]
  },
  {
   "cell_type": "code",
   "execution_count": 73,
   "id": "e8ab43b4",
   "metadata": {},
   "outputs": [],
   "source": [
    "s_mean=np.mean(data)\n",
    "u_var=np.var(data, ddof=1)"
   ]
  },
  {
   "cell_type": "code",
   "execution_count": 74,
   "id": "3802e7c9",
   "metadata": {},
   "outputs": [
    {
     "data": {
      "text/plain": [
       "ShapiroResult(statistic=0.8105747699737549, pvalue=0.012388509698212147)"
      ]
     },
     "execution_count": 74,
     "metadata": {},
     "output_type": "execute_result"
    }
   ],
   "source": [
    "#정규성 검정\n",
    "import scipy.stats as stats\n",
    "from scipy.stats import shapiro\n",
    "shapiro(data)"
   ]
  },
  {
   "cell_type": "markdown",
   "id": "cf1eb650",
   "metadata": {},
   "source": [
    "귀무가설을 기각한다. 즉 정규분포를 따르지 않는다."
   ]
  },
  {
   "cell_type": "markdown",
   "id": "84e132c7",
   "metadata": {},
   "source": [
    "- 유효한 샘플 수를 계산(중위수 제외)"
   ]
  },
  {
   "cell_type": "code",
   "execution_count": 80,
   "id": "79fd869f",
   "metadata": {},
   "outputs": [
    {
     "data": {
      "text/plain": [
       "9600.0"
      ]
     },
     "execution_count": 80,
     "metadata": {},
     "output_type": "execute_result"
    }
   ],
   "source": [
    "np.median(data)"
   ]
  },
  {
   "cell_type": "code",
   "execution_count": 81,
   "id": "da24aeab",
   "metadata": {},
   "outputs": [
    {
     "data": {
      "text/plain": [
       "Counter({8800: 1,\n",
       "         9500: 2,\n",
       "         9600: 3,\n",
       "         10500: 1,\n",
       "         10400: 1,\n",
       "         10300: 1,\n",
       "         7100: 1,\n",
       "         10100: 1,\n",
       "         7200: 1})"
      ]
     },
     "execution_count": 81,
     "metadata": {},
     "output_type": "execute_result"
    }
   ],
   "source": [
    "from collections import Counter\n",
    "Counter(data)"
   ]
  },
  {
   "cell_type": "code",
   "execution_count": 82,
   "id": "e251442e",
   "metadata": {},
   "outputs": [],
   "source": [
    "while 9600 in data:\n",
    "    data.remove(9600)\n",
    "data=np.array(data)"
   ]
  },
  {
   "cell_type": "code",
   "execution_count": 84,
   "id": "cf5109eb",
   "metadata": {},
   "outputs": [
    {
     "data": {
      "text/plain": [
       "WilcoxonResult(statistic=11.0, pvalue=0.203125)"
      ]
     },
     "execution_count": 84,
     "metadata": {},
     "output_type": "execute_result"
    }
   ],
   "source": [
    "mean0=10000\n",
    "stats.wilcoxon(data-mean0, alternative='two-sided')"
   ]
  },
  {
   "cell_type": "markdown",
   "id": "cd899233",
   "metadata": {},
   "source": [
    "p-value가 0.05보다 크므로 귀무가설을 기각할 수 없다. 즉 진공관 수명은 1만시간이다"
   ]
  },
  {
   "cell_type": "markdown",
   "id": "856d8a32",
   "metadata": {},
   "source": [
    "### 예제 13(독립표본 t검정)"
   ]
  },
  {
   "cell_type": "markdown",
   "id": "155255c1",
   "metadata": {},
   "source": [
    "공장에서는 시제품의 농도가 60이라고 주장하며 품질관리팀에서 10개의 샘플을 뽑았다. 유의수준 5%에서 다음을 검정하시오."
   ]
  },
  {
   "cell_type": "markdown",
   "id": "6aa3abc9",
   "metadata": {},
   "source": [
    "H0 : 시제품 농도는 60이다.\n",
    "    \n",
    "H1 : 시제품 농도는 60이 아니다."
   ]
  },
  {
   "cell_type": "code",
   "execution_count": 86,
   "id": "d796ab77",
   "metadata": {},
   "outputs": [
    {
     "data": {
      "text/plain": [
       "[52, 50, 62, 75, 26, 45, 62, 35, 57, 14]"
      ]
     },
     "execution_count": 86,
     "metadata": {},
     "output_type": "execute_result"
    }
   ],
   "source": [
    "data=[52, 50, 62, 75, 26, 45, 62, 35, 57, 14]\n",
    "data"
   ]
  },
  {
   "cell_type": "code",
   "execution_count": 90,
   "id": "424a4abd",
   "metadata": {},
   "outputs": [],
   "source": [
    "data=np.array(data)"
   ]
  },
  {
   "cell_type": "code",
   "execution_count": 91,
   "id": "4f521127",
   "metadata": {},
   "outputs": [
    {
     "data": {
      "text/plain": [
       "ShapiroResult(statistic=0.965764582157135, pvalue=0.849041759967804)"
      ]
     },
     "execution_count": 91,
     "metadata": {},
     "output_type": "execute_result"
    }
   ],
   "source": [
    "import scipy.stats as stats\n",
    "from scipy.stats import shapiro\n",
    "mu=60\n",
    "shapiro(data)"
   ]
  },
  {
   "cell_type": "markdown",
   "id": "8f8d7f29",
   "metadata": {},
   "source": [
    "0.05보다 크므로 정규성을 따른다."
   ]
  },
  {
   "cell_type": "code",
   "execution_count": 94,
   "id": "0e3a711d",
   "metadata": {},
   "outputs": [
    {
     "data": {
      "text/plain": [
       "2.4200190167579225e-81"
      ]
     },
     "execution_count": 94,
     "metadata": {},
     "output_type": "execute_result"
    }
   ],
   "source": [
    "mean0=60\n",
    "s_mean=np.mean(data)\n",
    "u_var=np.var(data, ddof=1)\n",
    "rv=stats.t(df=n-1)\n",
    "t=(s_mean-mean0)/np.sqrt(u_var/n)\n",
    "#t는 음수\n",
    "p=rv.cdf(t)*2\n",
    "p"
   ]
  },
  {
   "cell_type": "markdown",
   "id": "f2426eb3",
   "metadata": {},
   "source": [
    "p-value가 0.05보다 작으므로 시제품의 농도는 60이 아니라고 할 수 있다."
   ]
  },
  {
   "cell_type": "markdown",
   "id": "59f87191",
   "metadata": {},
   "source": [
    "### 예제 14"
   ]
  },
  {
   "cell_type": "markdown",
   "id": "b9a69ef9",
   "metadata": {},
   "source": [
    "1. 광고비를 가변수 처리후 다중회귀를 수행하여 회귀계수가 유의한지 검정"
   ]
  },
  {
   "cell_type": "code",
   "execution_count": 97,
   "id": "f2e8e4c2",
   "metadata": {},
   "outputs": [
    {
     "data": {
      "text/html": [
       "<div>\n",
       "<style scoped>\n",
       "    .dataframe tbody tr th:only-of-type {\n",
       "        vertical-align: middle;\n",
       "    }\n",
       "\n",
       "    .dataframe tbody tr th {\n",
       "        vertical-align: top;\n",
       "    }\n",
       "\n",
       "    .dataframe thead th {\n",
       "        text-align: right;\n",
       "    }\n",
       "</style>\n",
       "<table border=\"1\" class=\"dataframe\">\n",
       "  <thead>\n",
       "    <tr style=\"text-align: right;\">\n",
       "      <th></th>\n",
       "      <th>광고횟수</th>\n",
       "      <th>광고비</th>\n",
       "      <th>매출액</th>\n",
       "    </tr>\n",
       "  </thead>\n",
       "  <tbody>\n",
       "    <tr>\n",
       "      <th>0</th>\n",
       "      <td>1</td>\n",
       "      <td>낮음</td>\n",
       "      <td>15</td>\n",
       "    </tr>\n",
       "    <tr>\n",
       "      <th>1</th>\n",
       "      <td>2</td>\n",
       "      <td>낮음</td>\n",
       "      <td>16</td>\n",
       "    </tr>\n",
       "    <tr>\n",
       "      <th>2</th>\n",
       "      <td>3</td>\n",
       "      <td>낮음</td>\n",
       "      <td>17</td>\n",
       "    </tr>\n",
       "    <tr>\n",
       "      <th>3</th>\n",
       "      <td>4</td>\n",
       "      <td>낮음</td>\n",
       "      <td>18</td>\n",
       "    </tr>\n",
       "    <tr>\n",
       "      <th>4</th>\n",
       "      <td>5</td>\n",
       "      <td>높음</td>\n",
       "      <td>20</td>\n",
       "    </tr>\n",
       "    <tr>\n",
       "      <th>5</th>\n",
       "      <td>7</td>\n",
       "      <td>높음</td>\n",
       "      <td>22</td>\n",
       "    </tr>\n",
       "    <tr>\n",
       "      <th>6</th>\n",
       "      <td>8</td>\n",
       "      <td>높음</td>\n",
       "      <td>24</td>\n",
       "    </tr>\n",
       "    <tr>\n",
       "      <th>7</th>\n",
       "      <td>9</td>\n",
       "      <td>높음</td>\n",
       "      <td>26</td>\n",
       "    </tr>\n",
       "    <tr>\n",
       "      <th>8</th>\n",
       "      <td>11</td>\n",
       "      <td>높음</td>\n",
       "      <td>28</td>\n",
       "    </tr>\n",
       "    <tr>\n",
       "      <th>9</th>\n",
       "      <td>12</td>\n",
       "      <td>높음</td>\n",
       "      <td>29</td>\n",
       "    </tr>\n",
       "  </tbody>\n",
       "</table>\n",
       "</div>"
      ],
      "text/plain": [
       "   광고횟수 광고비  매출액\n",
       "0     1  낮음   15\n",
       "1     2  낮음   16\n",
       "2     3  낮음   17\n",
       "3     4  낮음   18\n",
       "4     5  높음   20\n",
       "5     7  높음   22\n",
       "6     8  높음   24\n",
       "7     9  높음   26\n",
       "8    11  높음   28\n",
       "9    12  높음   29"
      ]
     },
     "execution_count": 97,
     "metadata": {},
     "output_type": "execute_result"
    }
   ],
   "source": [
    "data=pd.DataFrame({'광고횟수':[1,2,3,4,5,7,8,9,11,12], '광고비':['낮음', '낮음', '낮음', '낮음', '높음', '높음', '높음', '높음', '높음', '높음'], '매출액':[15,16,17,18,20,22,24,26,28,29]})\n",
    "data"
   ]
  },
  {
   "cell_type": "code",
   "execution_count": 98,
   "id": "e0afabac",
   "metadata": {},
   "outputs": [],
   "source": [
    "data=pd.get_dummies(data)"
   ]
  },
  {
   "cell_type": "code",
   "execution_count": 99,
   "id": "d651b27e",
   "metadata": {},
   "outputs": [
    {
     "name": "stdout",
     "output_type": "stream",
     "text": [
      "<class 'pandas.core.frame.DataFrame'>\n",
      "RangeIndex: 10 entries, 0 to 9\n",
      "Data columns (total 4 columns):\n",
      " #   Column  Non-Null Count  Dtype\n",
      "---  ------  --------------  -----\n",
      " 0   광고횟수    10 non-null     int64\n",
      " 1   매출액     10 non-null     int64\n",
      " 2   광고비_낮음  10 non-null     uint8\n",
      " 3   광고비_높음  10 non-null     uint8\n",
      "dtypes: int64(2), uint8(2)\n",
      "memory usage: 308.0 bytes\n"
     ]
    }
   ],
   "source": [
    "data.info()"
   ]
  },
  {
   "cell_type": "code",
   "execution_count": 100,
   "id": "749cc4d9",
   "metadata": {},
   "outputs": [
    {
     "name": "stderr",
     "output_type": "stream",
     "text": [
      "C:\\Users\\taeeu\\anaconda3\\lib\\site-packages\\scipy\\stats\\stats.py:1541: UserWarning: kurtosistest only valid for n>=20 ... continuing anyway, n=10\n",
      "  warnings.warn(\"kurtosistest only valid for n>=20 ... continuing \"\n"
     ]
    },
    {
     "data": {
      "text/html": [
       "<table class=\"simpletable\">\n",
       "<caption>OLS Regression Results</caption>\n",
       "<tr>\n",
       "  <th>Dep. Variable:</th>           <td>매출액</td>       <th>  R-squared:         </th> <td>   0.994</td>\n",
       "</tr>\n",
       "<tr>\n",
       "  <th>Model:</th>                   <td>OLS</td>       <th>  Adj. R-squared:    </th> <td>   0.992</td>\n",
       "</tr>\n",
       "<tr>\n",
       "  <th>Method:</th>             <td>Least Squares</td>  <th>  F-statistic:       </th> <td>   545.4</td>\n",
       "</tr>\n",
       "<tr>\n",
       "  <th>Date:</th>             <td>Mon, 12 Sep 2022</td> <th>  Prob (F-statistic):</th> <td>2.07e-08</td>\n",
       "</tr>\n",
       "<tr>\n",
       "  <th>Time:</th>                 <td>19:24:48</td>     <th>  Log-Likelihood:    </th> <td> -4.6455</td>\n",
       "</tr>\n",
       "<tr>\n",
       "  <th>No. Observations:</th>      <td>    10</td>      <th>  AIC:               </th> <td>   15.29</td>\n",
       "</tr>\n",
       "<tr>\n",
       "  <th>Df Residuals:</th>          <td>     7</td>      <th>  BIC:               </th> <td>   16.20</td>\n",
       "</tr>\n",
       "<tr>\n",
       "  <th>Df Model:</th>              <td>     2</td>      <th>                     </th>     <td> </td>   \n",
       "</tr>\n",
       "<tr>\n",
       "  <th>Covariance Type:</th>      <td>nonrobust</td>    <th>                     </th>     <td> </td>   \n",
       "</tr>\n",
       "</table>\n",
       "<table class=\"simpletable\">\n",
       "<tr>\n",
       "      <td></td>         <th>coef</th>     <th>std err</th>      <th>t</th>      <th>P>|t|</th>  <th>[0.025</th>    <th>0.975]</th>  \n",
       "</tr>\n",
       "<tr>\n",
       "  <th>Intercept</th> <td>    8.9551</td> <td>    0.294</td> <td>   30.473</td> <td> 0.000</td> <td>    8.260</td> <td>    9.650</td>\n",
       "</tr>\n",
       "<tr>\n",
       "  <th>광고횟수</th>      <td>    1.2957</td> <td>    0.074</td> <td>   17.431</td> <td> 0.000</td> <td>    1.120</td> <td>    1.471</td>\n",
       "</tr>\n",
       "<tr>\n",
       "  <th>광고비_낮음</th>    <td>    4.3058</td> <td>    0.189</td> <td>   22.786</td> <td> 0.000</td> <td>    3.859</td> <td>    4.753</td>\n",
       "</tr>\n",
       "<tr>\n",
       "  <th>광고비_높음</th>    <td>    4.6493</td> <td>    0.396</td> <td>   11.747</td> <td> 0.000</td> <td>    3.713</td> <td>    5.585</td>\n",
       "</tr>\n",
       "</table>\n",
       "<table class=\"simpletable\">\n",
       "<tr>\n",
       "  <th>Omnibus:</th>       <td> 0.263</td> <th>  Durbin-Watson:     </th> <td>   1.465</td>\n",
       "</tr>\n",
       "<tr>\n",
       "  <th>Prob(Omnibus):</th> <td> 0.877</td> <th>  Jarque-Bera (JB):  </th> <td>   0.099</td>\n",
       "</tr>\n",
       "<tr>\n",
       "  <th>Skew:</th>          <td> 0.157</td> <th>  Prob(JB):          </th> <td>   0.951</td>\n",
       "</tr>\n",
       "<tr>\n",
       "  <th>Kurtosis:</th>      <td> 2.625</td> <th>  Cond. No.          </th> <td>8.11e+16</td>\n",
       "</tr>\n",
       "</table><br/><br/>Notes:<br/>[1] Standard Errors assume that the covariance matrix of the errors is correctly specified.<br/>[2] The smallest eigenvalue is 8.01e-32. This might indicate that there are<br/>strong multicollinearity problems or that the design matrix is singular."
      ],
      "text/plain": [
       "<class 'statsmodels.iolib.summary.Summary'>\n",
       "\"\"\"\n",
       "                            OLS Regression Results                            \n",
       "==============================================================================\n",
       "Dep. Variable:                    매출액   R-squared:                       0.994\n",
       "Model:                            OLS   Adj. R-squared:                  0.992\n",
       "Method:                 Least Squares   F-statistic:                     545.4\n",
       "Date:                Mon, 12 Sep 2022   Prob (F-statistic):           2.07e-08\n",
       "Time:                        19:24:48   Log-Likelihood:                -4.6455\n",
       "No. Observations:                  10   AIC:                             15.29\n",
       "Df Residuals:                       7   BIC:                             16.20\n",
       "Df Model:                           2                                         \n",
       "Covariance Type:            nonrobust                                         \n",
       "==============================================================================\n",
       "                 coef    std err          t      P>|t|      [0.025      0.975]\n",
       "------------------------------------------------------------------------------\n",
       "Intercept      8.9551      0.294     30.473      0.000       8.260       9.650\n",
       "광고횟수           1.2957      0.074     17.431      0.000       1.120       1.471\n",
       "광고비_낮음         4.3058      0.189     22.786      0.000       3.859       4.753\n",
       "광고비_높음         4.6493      0.396     11.747      0.000       3.713       5.585\n",
       "==============================================================================\n",
       "Omnibus:                        0.263   Durbin-Watson:                   1.465\n",
       "Prob(Omnibus):                  0.877   Jarque-Bera (JB):                0.099\n",
       "Skew:                           0.157   Prob(JB):                        0.951\n",
       "Kurtosis:                       2.625   Cond. No.                     8.11e+16\n",
       "==============================================================================\n",
       "\n",
       "Notes:\n",
       "[1] Standard Errors assume that the covariance matrix of the errors is correctly specified.\n",
       "[2] The smallest eigenvalue is 8.01e-32. This might indicate that there are\n",
       "strong multicollinearity problems or that the design matrix is singular.\n",
       "\"\"\""
      ]
     },
     "execution_count": 100,
     "metadata": {},
     "output_type": "execute_result"
    }
   ],
   "source": [
    "import numpy as np\n",
    "import statsmodels.api as sm\n",
    "import statsmodels.formula.api as smf\n",
    "\n",
    "model=smf.ols(formula='매출액 ~광고횟수+광고비_낮음+광고비_높음', data=data)\n",
    "result=model.fit()\n",
    "result.summary()"
   ]
  },
  {
   "cell_type": "markdown",
   "id": "83cd9344",
   "metadata": {},
   "source": [
    "회귀 계수들은 p-value가 0.05보다 작아 유의함"
   ]
  },
  {
   "cell_type": "markdown",
   "id": "ff8bedba",
   "metadata": {},
   "source": [
    "2. 회귀식이 유의한지 판단"
   ]
  },
  {
   "cell_type": "markdown",
   "id": "ca1606be",
   "metadata": {},
   "source": [
    "F값의 p-value가 0.05보다 작으므로 회귀모형은 유의"
   ]
  },
  {
   "cell_type": "markdown",
   "id": "61425816",
   "metadata": {},
   "source": [
    "### 예제 15"
   ]
  },
  {
   "cell_type": "code",
   "execution_count": null,
   "id": "721cfa5a",
   "metadata": {},
   "outputs": [],
   "source": []
  }
 ],
 "metadata": {
  "kernelspec": {
   "display_name": "Python 3 (ipykernel)",
   "language": "python",
   "name": "python3"
  },
  "language_info": {
   "codemirror_mode": {
    "name": "ipython",
    "version": 3
   },
   "file_extension": ".py",
   "mimetype": "text/x-python",
   "name": "python",
   "nbconvert_exporter": "python",
   "pygments_lexer": "ipython3",
   "version": "3.8.5"
  }
 },
 "nbformat": 4,
 "nbformat_minor": 5
}
