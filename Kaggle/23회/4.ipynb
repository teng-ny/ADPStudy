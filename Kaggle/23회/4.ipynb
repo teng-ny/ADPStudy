{
 "cells": [
  {
   "cell_type": "markdown",
   "id": "74ebf517",
   "metadata": {},
   "source": [
    "아래 이미지와 같은 학과별 학점 분포 인원수 표가 있다. 학과와 성적이 관계있는지를 검정하라"
   ]
  },
  {
   "cell_type": "code",
   "execution_count": 7,
   "id": "0503a123",
   "metadata": {},
   "outputs": [],
   "source": [
    "import pandas as pd\n",
    "import numpy as np\n",
    "data=pd.DataFrame({'score':['1.5-2.5', '2.5-3.5', '3.5-4.5'],'사회과학':[15, 60, 24], '자연과학':[25,69, 5], '공학':[10,77,13]})"
   ]
  },
  {
   "cell_type": "code",
   "execution_count": 8,
   "id": "c22cb2de",
   "metadata": {},
   "outputs": [
    {
     "data": {
      "text/html": [
       "<div>\n",
       "<style scoped>\n",
       "    .dataframe tbody tr th:only-of-type {\n",
       "        vertical-align: middle;\n",
       "    }\n",
       "\n",
       "    .dataframe tbody tr th {\n",
       "        vertical-align: top;\n",
       "    }\n",
       "\n",
       "    .dataframe thead th {\n",
       "        text-align: right;\n",
       "    }\n",
       "</style>\n",
       "<table border=\"1\" class=\"dataframe\">\n",
       "  <thead>\n",
       "    <tr style=\"text-align: right;\">\n",
       "      <th></th>\n",
       "      <th>score</th>\n",
       "      <th>사회과학</th>\n",
       "      <th>자연과학</th>\n",
       "      <th>공학</th>\n",
       "    </tr>\n",
       "  </thead>\n",
       "  <tbody>\n",
       "    <tr>\n",
       "      <th>0</th>\n",
       "      <td>1.5-2.5</td>\n",
       "      <td>15</td>\n",
       "      <td>25</td>\n",
       "      <td>10</td>\n",
       "    </tr>\n",
       "    <tr>\n",
       "      <th>1</th>\n",
       "      <td>2.5-3.5</td>\n",
       "      <td>60</td>\n",
       "      <td>69</td>\n",
       "      <td>77</td>\n",
       "    </tr>\n",
       "    <tr>\n",
       "      <th>2</th>\n",
       "      <td>3.5-4.5</td>\n",
       "      <td>24</td>\n",
       "      <td>5</td>\n",
       "      <td>13</td>\n",
       "    </tr>\n",
       "  </tbody>\n",
       "</table>\n",
       "</div>"
      ],
      "text/plain": [
       "     score  사회과학  자연과학  공학\n",
       "0  1.5-2.5    15    25  10\n",
       "1  2.5-3.5    60    69  77\n",
       "2  3.5-4.5    24     5  13"
      ]
     },
     "execution_count": 8,
     "metadata": {},
     "output_type": "execute_result"
    }
   ],
   "source": [
    "data"
   ]
  },
  {
   "cell_type": "code",
   "execution_count": 13,
   "id": "ca0cc86b",
   "metadata": {},
   "outputs": [],
   "source": [
    "data.set_index('score', inplace=True)"
   ]
  },
  {
   "cell_type": "markdown",
   "id": "80d67fb2",
   "metadata": {},
   "source": [
    "H0 : 학과와 성적은 관련이 없다.(연관성x)\\\n",
    "H1 : 학과와 성적은 관련이 있다.(연관성o)"
   ]
  },
  {
   "cell_type": "code",
   "execution_count": 15,
   "id": "b80236e1",
   "metadata": {},
   "outputs": [
    {
     "data": {
      "text/plain": [
       "(22.136920195949322,\n",
       " 0.00018822647762421383,\n",
       " 4,\n",
       " array([[16.61073826, 16.61073826, 16.77852349],\n",
       "        [68.43624161, 68.43624161, 69.12751678],\n",
       "        [13.95302013, 13.95302013, 14.09395973]]))"
      ]
     },
     "execution_count": 15,
     "metadata": {},
     "output_type": "execute_result"
    }
   ],
   "source": [
    "from scipy import stats\n",
    "stats.chi2_contingency(observed=data)"
   ]
  },
  {
   "cell_type": "markdown",
   "id": "533c67c5",
   "metadata": {},
   "source": [
    "p-value가 0.05보다 작으므로 귀무가설을 기각한다. 즉 학과와 성적은 관련이 있다"
   ]
  }
 ],
 "metadata": {
  "kernelspec": {
   "display_name": "Python 3 (ipykernel)",
   "language": "python",
   "name": "python3"
  },
  "language_info": {
   "codemirror_mode": {
    "name": "ipython",
    "version": 3
   },
   "file_extension": ".py",
   "mimetype": "text/x-python",
   "name": "python",
   "nbconvert_exporter": "python",
   "pygments_lexer": "ipython3",
   "version": "3.8.5"
  }
 },
 "nbformat": 4,
 "nbformat_minor": 5
}
