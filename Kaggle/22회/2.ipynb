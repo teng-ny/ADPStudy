{
 "cells": [
  {
   "cell_type": "markdown",
   "id": "93bf08f4",
   "metadata": {},
   "source": [
    "금속 성분 함유량 데이터(변수1개) - 제품에 금속 재질 함유량의 분산이 1.3을 넘으면 불량이라고 보고 있는데 제조사별로 차이가 난다고 제보를 받았으며, 분산에 대한 검정을 수행하시오."
   ]
  },
  {
   "cell_type": "code",
   "execution_count": 1,
   "id": "b2430785",
   "metadata": {},
   "outputs": [
    {
     "name": "stderr",
     "output_type": "stream",
     "text": [
      "C:\\Users\\taeeu\\anaconda3\\lib\\site-packages\\numpy\\_distributor_init.py:30: UserWarning: loaded more than 1 DLL from .libs:\n",
      "C:\\Users\\taeeu\\anaconda3\\lib\\site-packages\\numpy\\.libs\\libopenblas.el2c6ple4zyw3eceviv3oxxgrn2nrfm2.gfortran-win_amd64.dll\n",
      "C:\\Users\\taeeu\\anaconda3\\lib\\site-packages\\numpy\\.libs\\libopenblas.WCDJNK7YVMPZQ2ME2ZZHJJRJ3JIKNDB7.gfortran-win_amd64.dll\n",
      "  warnings.warn(\"loaded more than 1 DLL from .libs:\"\n"
     ]
    }
   ],
   "source": [
    "import pandas as pd\n",
    "import numpy as np\n",
    "data=pd.read_csv(\"content.csv\")"
   ]
  },
  {
   "cell_type": "code",
   "execution_count": 2,
   "id": "d4b9f9f3",
   "metadata": {},
   "outputs": [
    {
     "data": {
      "text/html": [
       "<div>\n",
       "<style scoped>\n",
       "    .dataframe tbody tr th:only-of-type {\n",
       "        vertical-align: middle;\n",
       "    }\n",
       "\n",
       "    .dataframe tbody tr th {\n",
       "        vertical-align: top;\n",
       "    }\n",
       "\n",
       "    .dataframe thead th {\n",
       "        text-align: right;\n",
       "    }\n",
       "</style>\n",
       "<table border=\"1\" class=\"dataframe\">\n",
       "  <thead>\n",
       "    <tr style=\"text-align: right;\">\n",
       "      <th></th>\n",
       "      <th>content</th>\n",
       "    </tr>\n",
       "  </thead>\n",
       "  <tbody>\n",
       "    <tr>\n",
       "      <th>0</th>\n",
       "      <td>97.995295</td>\n",
       "    </tr>\n",
       "    <tr>\n",
       "      <th>1</th>\n",
       "      <td>101.478315</td>\n",
       "    </tr>\n",
       "    <tr>\n",
       "      <th>2</th>\n",
       "      <td>102.284913</td>\n",
       "    </tr>\n",
       "    <tr>\n",
       "      <th>3</th>\n",
       "      <td>98.993634</td>\n",
       "    </tr>\n",
       "    <tr>\n",
       "      <th>4</th>\n",
       "      <td>104.635232</td>\n",
       "    </tr>\n",
       "    <tr>\n",
       "      <th>...</th>\n",
       "      <td>...</td>\n",
       "    </tr>\n",
       "    <tr>\n",
       "      <th>195</th>\n",
       "      <td>100.568703</td>\n",
       "    </tr>\n",
       "    <tr>\n",
       "      <th>196</th>\n",
       "      <td>99.082193</td>\n",
       "    </tr>\n",
       "    <tr>\n",
       "      <th>197</th>\n",
       "      <td>100.163027</td>\n",
       "    </tr>\n",
       "    <tr>\n",
       "      <th>198</th>\n",
       "      <td>99.327200</td>\n",
       "    </tr>\n",
       "    <tr>\n",
       "      <th>199</th>\n",
       "      <td>100.920466</td>\n",
       "    </tr>\n",
       "  </tbody>\n",
       "</table>\n",
       "<p>200 rows × 1 columns</p>\n",
       "</div>"
      ],
      "text/plain": [
       "        content\n",
       "0     97.995295\n",
       "1    101.478315\n",
       "2    102.284913\n",
       "3     98.993634\n",
       "4    104.635232\n",
       "..          ...\n",
       "195  100.568703\n",
       "196   99.082193\n",
       "197  100.163027\n",
       "198   99.327200\n",
       "199  100.920466\n",
       "\n",
       "[200 rows x 1 columns]"
      ]
     },
     "execution_count": 2,
     "metadata": {},
     "output_type": "execute_result"
    }
   ],
   "source": [
    "data"
   ]
  },
  {
   "cell_type": "markdown",
   "id": "6e1ac5e7",
   "metadata": {},
   "source": [
    "4-(1) 연구가설과 귀무가설 작성"
   ]
  },
  {
   "cell_type": "markdown",
   "id": "f52a865c",
   "metadata": {},
   "source": [
    "H0 : 제품들의 금속 재질 함유량 분산은 1.3이다.\\\n",
    "H1 : 제품들의 금속 재질 함유량 분산은 1.3이 아니다."
   ]
  },
  {
   "cell_type": "markdown",
   "id": "9bdbb173",
   "metadata": {},
   "source": [
    "4-(2) 양측검정"
   ]
  },
  {
   "cell_type": "code",
   "execution_count": 3,
   "id": "7c33732a",
   "metadata": {},
   "outputs": [
    {
     "data": {
      "text/plain": [
       "ShapiroResult(statistic=0.9930017590522766, pvalue=0.4605061113834381)"
      ]
     },
     "execution_count": 3,
     "metadata": {},
     "output_type": "execute_result"
    }
   ],
   "source": [
    "import scipy.stats as stats\n",
    "from scipy.stats import shapiro\n",
    "mu=1.3\n",
    "shapiro(data['content'])"
   ]
  },
  {
   "cell_type": "markdown",
   "id": "bb40b18f",
   "metadata": {},
   "source": [
    "p-value가 0.05보다 크므로 귀무가설을 기각할수 없다. 즉 정규성을 따른다고 할 수 있다."
   ]
  },
  {
   "cell_type": "code",
   "execution_count": 4,
   "id": "3b0d0413",
   "metadata": {},
   "outputs": [
    {
     "data": {
      "text/plain": [
       "content    100.163712\n",
       "dtype: float64"
      ]
     },
     "execution_count": 4,
     "metadata": {},
     "output_type": "execute_result"
    }
   ],
   "source": [
    "data.mean()"
   ]
  },
  {
   "cell_type": "code",
   "execution_count": 7,
   "id": "4d25def2",
   "metadata": {},
   "outputs": [],
   "source": [
    "test=np.random.normal(data.mean(), 1.3**0.5, 200)"
   ]
  },
  {
   "cell_type": "code",
   "execution_count": 8,
   "id": "425de2df",
   "metadata": {},
   "outputs": [
    {
     "data": {
      "text/plain": [
       "LeveneResult(statistic=5.190866076471871, pvalue=0.023235144066900623)"
      ]
     },
     "execution_count": 8,
     "metadata": {},
     "output_type": "execute_result"
    }
   ],
   "source": [
    "stats.levene(data['content'], test)"
   ]
  },
  {
   "cell_type": "markdown",
   "id": "2f2f84b1",
   "metadata": {},
   "source": [
    "p-value가 0.05보다 작아 귀무가설을 기각한다. 즉, 제품들의 금속 재질 함유량 분산은 1.3이 아니라고 할 수 있다."
   ]
  }
 ],
 "metadata": {
  "kernelspec": {
   "display_name": "Python 3 (ipykernel)",
   "language": "python",
   "name": "python3"
  },
  "language_info": {
   "codemirror_mode": {
    "name": "ipython",
    "version": 3
   },
   "file_extension": ".py",
   "mimetype": "text/x-python",
   "name": "python",
   "nbconvert_exporter": "python",
   "pygments_lexer": "ipython3",
   "version": "3.8.5"
  }
 },
 "nbformat": 4,
 "nbformat_minor": 5
}
