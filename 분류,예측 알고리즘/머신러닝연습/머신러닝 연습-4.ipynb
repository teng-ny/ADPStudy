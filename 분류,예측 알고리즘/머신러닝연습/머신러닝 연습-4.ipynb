{
 "cells": [
  {
   "cell_type": "code",
   "execution_count": 1,
   "id": "eada7090",
   "metadata": {},
   "outputs": [
    {
     "data": {
      "text/html": [
       "<div>\n",
       "<style scoped>\n",
       "    .dataframe tbody tr th:only-of-type {\n",
       "        vertical-align: middle;\n",
       "    }\n",
       "\n",
       "    .dataframe tbody tr th {\n",
       "        vertical-align: top;\n",
       "    }\n",
       "\n",
       "    .dataframe thead th {\n",
       "        text-align: right;\n",
       "    }\n",
       "</style>\n",
       "<table border=\"1\" class=\"dataframe\">\n",
       "  <thead>\n",
       "    <tr style=\"text-align: right;\">\n",
       "      <th></th>\n",
       "      <th>is_canceled</th>\n",
       "      <th>deposit_type</th>\n",
       "      <th>lead_time</th>\n",
       "      <th>stays_in_weekend_nights</th>\n",
       "      <th>stays_in_week_nights</th>\n",
       "      <th>is_repeated_guest</th>\n",
       "      <th>previous_cancellations</th>\n",
       "      <th>previous_bookings_not_canceled</th>\n",
       "      <th>booking_changes</th>\n",
       "      <th>days_in_waiting_list</th>\n",
       "      <th>adr</th>\n",
       "    </tr>\n",
       "  </thead>\n",
       "  <tbody>\n",
       "    <tr>\n",
       "      <th>0</th>\n",
       "      <td>0</td>\n",
       "      <td>No Deposit</td>\n",
       "      <td>105.0</td>\n",
       "      <td>2</td>\n",
       "      <td>5</td>\n",
       "      <td>NaN</td>\n",
       "      <td>0</td>\n",
       "      <td>0</td>\n",
       "      <td>1</td>\n",
       "      <td>0</td>\n",
       "      <td>131.50</td>\n",
       "    </tr>\n",
       "    <tr>\n",
       "      <th>1</th>\n",
       "      <td>0</td>\n",
       "      <td>No Deposit</td>\n",
       "      <td>303.0</td>\n",
       "      <td>2</td>\n",
       "      <td>2</td>\n",
       "      <td>NaN</td>\n",
       "      <td>0</td>\n",
       "      <td>0</td>\n",
       "      <td>0</td>\n",
       "      <td>0</td>\n",
       "      <td>73.95</td>\n",
       "    </tr>\n",
       "    <tr>\n",
       "      <th>2</th>\n",
       "      <td>0</td>\n",
       "      <td>No Deposit</td>\n",
       "      <td>33.0</td>\n",
       "      <td>2</td>\n",
       "      <td>3</td>\n",
       "      <td>0.0</td>\n",
       "      <td>0</td>\n",
       "      <td>0</td>\n",
       "      <td>0</td>\n",
       "      <td>0</td>\n",
       "      <td>NaN</td>\n",
       "    </tr>\n",
       "    <tr>\n",
       "      <th>3</th>\n",
       "      <td>0</td>\n",
       "      <td>No Deposit</td>\n",
       "      <td>48.0</td>\n",
       "      <td>0</td>\n",
       "      <td>1</td>\n",
       "      <td>0.0</td>\n",
       "      <td>0</td>\n",
       "      <td>0</td>\n",
       "      <td>1</td>\n",
       "      <td>0</td>\n",
       "      <td>80.30</td>\n",
       "    </tr>\n",
       "    <tr>\n",
       "      <th>4</th>\n",
       "      <td>0</td>\n",
       "      <td>No Deposit</td>\n",
       "      <td>216.0</td>\n",
       "      <td>4</td>\n",
       "      <td>7</td>\n",
       "      <td>0.0</td>\n",
       "      <td>0</td>\n",
       "      <td>0</td>\n",
       "      <td>2</td>\n",
       "      <td>0</td>\n",
       "      <td>60.90</td>\n",
       "    </tr>\n",
       "    <tr>\n",
       "      <th>...</th>\n",
       "      <td>...</td>\n",
       "      <td>...</td>\n",
       "      <td>...</td>\n",
       "      <td>...</td>\n",
       "      <td>...</td>\n",
       "      <td>...</td>\n",
       "      <td>...</td>\n",
       "      <td>...</td>\n",
       "      <td>...</td>\n",
       "      <td>...</td>\n",
       "      <td>...</td>\n",
       "    </tr>\n",
       "    <tr>\n",
       "      <th>19995</th>\n",
       "      <td>1</td>\n",
       "      <td>Non Refund</td>\n",
       "      <td>89.0</td>\n",
       "      <td>2</td>\n",
       "      <td>2</td>\n",
       "      <td>0.0</td>\n",
       "      <td>0</td>\n",
       "      <td>0</td>\n",
       "      <td>0</td>\n",
       "      <td>0</td>\n",
       "      <td>62.00</td>\n",
       "    </tr>\n",
       "    <tr>\n",
       "      <th>19996</th>\n",
       "      <td>1</td>\n",
       "      <td>Non Refund</td>\n",
       "      <td>101.0</td>\n",
       "      <td>0</td>\n",
       "      <td>3</td>\n",
       "      <td>0.0</td>\n",
       "      <td>0</td>\n",
       "      <td>0</td>\n",
       "      <td>0</td>\n",
       "      <td>0</td>\n",
       "      <td>130.00</td>\n",
       "    </tr>\n",
       "    <tr>\n",
       "      <th>19997</th>\n",
       "      <td>1</td>\n",
       "      <td>Non Refund</td>\n",
       "      <td>277.0</td>\n",
       "      <td>1</td>\n",
       "      <td>2</td>\n",
       "      <td>0.0</td>\n",
       "      <td>0</td>\n",
       "      <td>0</td>\n",
       "      <td>0</td>\n",
       "      <td>0</td>\n",
       "      <td>100.00</td>\n",
       "    </tr>\n",
       "    <tr>\n",
       "      <th>19998</th>\n",
       "      <td>1</td>\n",
       "      <td>No Deposit</td>\n",
       "      <td>0.0</td>\n",
       "      <td>0</td>\n",
       "      <td>1</td>\n",
       "      <td>0.0</td>\n",
       "      <td>0</td>\n",
       "      <td>0</td>\n",
       "      <td>0</td>\n",
       "      <td>0</td>\n",
       "      <td>209.00</td>\n",
       "    </tr>\n",
       "    <tr>\n",
       "      <th>19999</th>\n",
       "      <td>1</td>\n",
       "      <td>Non Refund</td>\n",
       "      <td>40.0</td>\n",
       "      <td>0</td>\n",
       "      <td>2</td>\n",
       "      <td>0.0</td>\n",
       "      <td>0</td>\n",
       "      <td>0</td>\n",
       "      <td>0</td>\n",
       "      <td>0</td>\n",
       "      <td>130.00</td>\n",
       "    </tr>\n",
       "  </tbody>\n",
       "</table>\n",
       "<p>20000 rows × 11 columns</p>\n",
       "</div>"
      ],
      "text/plain": [
       "       is_canceled deposit_type  lead_time  stays_in_weekend_nights  \\\n",
       "0                0   No Deposit      105.0                        2   \n",
       "1                0   No Deposit      303.0                        2   \n",
       "2                0   No Deposit       33.0                        2   \n",
       "3                0   No Deposit       48.0                        0   \n",
       "4                0   No Deposit      216.0                        4   \n",
       "...            ...          ...        ...                      ...   \n",
       "19995            1   Non Refund       89.0                        2   \n",
       "19996            1   Non Refund      101.0                        0   \n",
       "19997            1   Non Refund      277.0                        1   \n",
       "19998            1   No Deposit        0.0                        0   \n",
       "19999            1   Non Refund       40.0                        0   \n",
       "\n",
       "       stays_in_week_nights  is_repeated_guest  previous_cancellations  \\\n",
       "0                         5                NaN                       0   \n",
       "1                         2                NaN                       0   \n",
       "2                         3                0.0                       0   \n",
       "3                         1                0.0                       0   \n",
       "4                         7                0.0                       0   \n",
       "...                     ...                ...                     ...   \n",
       "19995                     2                0.0                       0   \n",
       "19996                     3                0.0                       0   \n",
       "19997                     2                0.0                       0   \n",
       "19998                     1                0.0                       0   \n",
       "19999                     2                0.0                       0   \n",
       "\n",
       "       previous_bookings_not_canceled  booking_changes  days_in_waiting_list  \\\n",
       "0                                   0                1                     0   \n",
       "1                                   0                0                     0   \n",
       "2                                   0                0                     0   \n",
       "3                                   0                1                     0   \n",
       "4                                   0                2                     0   \n",
       "...                               ...              ...                   ...   \n",
       "19995                               0                0                     0   \n",
       "19996                               0                0                     0   \n",
       "19997                               0                0                     0   \n",
       "19998                               0                0                     0   \n",
       "19999                               0                0                     0   \n",
       "\n",
       "          adr  \n",
       "0      131.50  \n",
       "1       73.95  \n",
       "2         NaN  \n",
       "3       80.30  \n",
       "4       60.90  \n",
       "...       ...  \n",
       "19995   62.00  \n",
       "19996  130.00  \n",
       "19997  100.00  \n",
       "19998  209.00  \n",
       "19999  130.00  \n",
       "\n",
       "[20000 rows x 11 columns]"
      ]
     },
     "execution_count": 1,
     "metadata": {},
     "output_type": "execute_result"
    }
   ],
   "source": [
    "import pandas as pd\n",
    "import numpy as np\n",
    "df=pd.read_csv(\"hotel_bookings.csv\")\n",
    "df"
   ]
  },
  {
   "cell_type": "code",
   "execution_count": 2,
   "id": "0c9a07d4",
   "metadata": {},
   "outputs": [
    {
     "name": "stdout",
     "output_type": "stream",
     "text": [
      "<class 'pandas.core.frame.DataFrame'>\n",
      "RangeIndex: 20000 entries, 0 to 19999\n",
      "Data columns (total 11 columns):\n",
      " #   Column                          Non-Null Count  Dtype  \n",
      "---  ------                          --------------  -----  \n",
      " 0   is_canceled                     20000 non-null  int64  \n",
      " 1   deposit_type                    20000 non-null  object \n",
      " 2   lead_time                       19995 non-null  float64\n",
      " 3   stays_in_weekend_nights         20000 non-null  int64  \n",
      " 4   stays_in_week_nights            20000 non-null  int64  \n",
      " 5   is_repeated_guest               19642 non-null  float64\n",
      " 6   previous_cancellations          20000 non-null  int64  \n",
      " 7   previous_bookings_not_canceled  20000 non-null  int64  \n",
      " 8   booking_changes                 20000 non-null  int64  \n",
      " 9   days_in_waiting_list            20000 non-null  int64  \n",
      " 10  adr                             18937 non-null  float64\n",
      "dtypes: float64(3), int64(7), object(1)\n",
      "memory usage: 1.7+ MB\n"
     ]
    }
   ],
   "source": [
    "df.info()"
   ]
  },
  {
   "cell_type": "markdown",
   "id": "8effd746",
   "metadata": {},
   "source": [
    "y : is_canceled"
   ]
  },
  {
   "cell_type": "code",
   "execution_count": 3,
   "id": "f43cdda8",
   "metadata": {},
   "outputs": [
    {
     "data": {
      "image/png": "[encoded data removed]",
      "text/plain": [
       "<Figure size 1800x2088 with 11 Axes>"
      ]
     },
     "metadata": {},
     "output_type": "display_data"
    }
   ],
   "source": [
    "import matplotlib.pyplot as plt\n",
    "plt.style.use('ggplot')\n",
    "\n",
    "plt.figure(figsize=(25,29))\n",
    "plt.suptitle('Data Histogram', fontsize=40)\n",
    "\n",
    "cols=df.columns\n",
    "for i in range(len(cols)):\n",
    "    plt.subplot(5,6, i+1)\n",
    "    plt.title(cols[i])\n",
    "    if len(df[cols[i]].unique())>5:\n",
    "        plt.hist(df[cols[i]], bins=20, color='b', alpha=0.5)\n",
    "    else:\n",
    "        temp=df[cols[i]].value_counts()\n",
    "        plt.bar(temp.keys(), temp.values, width=0.5, alpha=0.7)\n",
    "        plt.xticks(temp.keys())\n",
    "plt.tight_layout(rect=[0, 0.03, 1, 0.95])\n",
    "plt.show()"
   ]
  },
  {
   "cell_type": "markdown",
   "id": "732a3f0a",
   "metadata": {},
   "source": [
    "is_canceled의 데이터 불균형을 확인\n",
    "\n",
    "이상치 처리를 해야할 그래프가 확인됨"
   ]
  },
  {
   "cell_type": "code",
   "execution_count": 4,
   "id": "bb033cc3",
   "metadata": {},
   "outputs": [
    {
     "data": {
      "text/plain": [
       "is_canceled                          0\n",
       "deposit_type                         0\n",
       "lead_time                            5\n",
       "stays_in_weekend_nights              0\n",
       "stays_in_week_nights                 0\n",
       "is_repeated_guest                  358\n",
       "previous_cancellations               0\n",
       "previous_bookings_not_canceled       0\n",
       "booking_changes                      0\n",
       "days_in_waiting_list                 0\n",
       "adr                               1063\n",
       "dtype: int64"
      ]
     },
     "execution_count": 4,
     "metadata": {},
     "output_type": "execute_result"
    }
   ],
   "source": [
    "df.isna().sum()"
   ]
  },
  {
   "cell_type": "code",
   "execution_count": 5,
   "id": "ec96a4ea",
   "metadata": {},
   "outputs": [
    {
     "data": {
      "text/plain": [
       "count          20000\n",
       "unique             3\n",
       "top       No Deposit\n",
       "freq           19138\n",
       "Name: deposit_type, dtype: object"
      ]
     },
     "execution_count": 5,
     "metadata": {},
     "output_type": "execute_result"
    }
   ],
   "source": [
    "df.deposit_type.describe()"
   ]
  },
  {
   "cell_type": "markdown",
   "id": "b4c5d3b9",
   "metadata": {},
   "source": [
    "### 결측값 대체"
   ]
  },
  {
   "cell_type": "code",
   "execution_count": 6,
   "id": "6f475b1c",
   "metadata": {},
   "outputs": [
    {
     "data": {
      "text/plain": [
       "is_canceled                          0\n",
       "deposit_type                         0\n",
       "lead_time                            5\n",
       "stays_in_weekend_nights              0\n",
       "stays_in_week_nights                 0\n",
       "is_repeated_guest                  358\n",
       "previous_cancellations               0\n",
       "previous_bookings_not_canceled       0\n",
       "booking_changes                      0\n",
       "days_in_waiting_list                 0\n",
       "adr                               1063\n",
       "dtype: int64"
      ]
     },
     "execution_count": 6,
     "metadata": {},
     "output_type": "execute_result"
    }
   ],
   "source": [
    "df.isna().sum()"
   ]
  },
  {
   "cell_type": "code",
   "execution_count": 7,
   "id": "326bfa45",
   "metadata": {},
   "outputs": [
    {
     "data": {
      "text/plain": [
       "is_canceled                          0\n",
       "deposit_type                         0\n",
       "lead_time                            0\n",
       "stays_in_weekend_nights              0\n",
       "stays_in_week_nights                 0\n",
       "is_repeated_guest                  358\n",
       "previous_cancellations               0\n",
       "previous_bookings_not_canceled       0\n",
       "booking_changes                      0\n",
       "days_in_waiting_list                 0\n",
       "adr                               1063\n",
       "dtype: int64"
      ]
     },
     "execution_count": 7,
     "metadata": {},
     "output_type": "execute_result"
    }
   ],
   "source": [
    "df.dropna(subset=['lead_time'], inplace=True)\n",
    "df.isna().sum()"
   ]
  },
  {
   "cell_type": "markdown",
   "id": "196d7c04",
   "metadata": {},
   "source": [
    "#최빈값 대체"
   ]
  },
  {
   "cell_type": "code",
   "execution_count": 8,
   "id": "7e7d00ec",
   "metadata": {},
   "outputs": [
    {
     "data": {
      "text/plain": [
       "is_canceled                          0\n",
       "deposit_type                         0\n",
       "lead_time                            0\n",
       "stays_in_weekend_nights              0\n",
       "stays_in_week_nights                 0\n",
       "is_repeated_guest                    0\n",
       "previous_cancellations               0\n",
       "previous_bookings_not_canceled       0\n",
       "booking_changes                      0\n",
       "days_in_waiting_list                 0\n",
       "adr                               1063\n",
       "dtype: int64"
      ]
     },
     "execution_count": 8,
     "metadata": {},
     "output_type": "execute_result"
    }
   ],
   "source": [
    "df['is_repeated_guest']=df['is_repeated_guest'].fillna(0)\n",
    "df.isna().sum()"
   ]
  },
  {
   "cell_type": "code",
   "execution_count": 10,
   "id": "0307e20f",
   "metadata": {},
   "outputs": [
    {
     "name": "stderr",
     "output_type": "stream",
     "text": [
      "C:\\Users\\Public\\Documents\\ESTsoft\\CreatorTemp/ipykernel_12616/3258807020.py:1: FutureWarning: Dropping of nuisance columns in DataFrame reductions (with 'numeric_only=None') is deprecated; in a future version this will raise TypeError.  Select only valid columns before calling the reduction.\n",
      "  fill_mean_func=lambda g: g.fillna(g.mean())\n"
     ]
    },
    {
     "data": {
      "text/plain": [
       "is_canceled                       0\n",
       "deposit_type                      0\n",
       "lead_time                         0\n",
       "stays_in_weekend_nights           0\n",
       "stays_in_week_nights              0\n",
       "is_repeated_guest                 0\n",
       "previous_cancellations            0\n",
       "previous_bookings_not_canceled    0\n",
       "booking_changes                   0\n",
       "days_in_waiting_list              0\n",
       "adr                               0\n",
       "dtype: int64"
      ]
     },
     "execution_count": 10,
     "metadata": {},
     "output_type": "execute_result"
    }
   ],
   "source": [
    "fill_mean_func=lambda g: g.fillna(g.mean())\n",
    "df=df.groupby('deposit_type').apply(fill_mean_func)\n",
    "\n",
    "df.index=df.index.droplevel(0)\n",
    "df.sort_index(inplace=True)\n",
    "\n",
    "df.isna().sum()"
   ]
  },
  {
   "cell_type": "code",
   "execution_count": 12,
   "id": "2abe7d22",
   "metadata": {},
   "outputs": [
    {
     "data": {
      "image/png": "[encoded data removed]",
      "text/plain": [
       "<Figure size 432x288 with 1 Axes>"
      ]
     },
     "metadata": {},
     "output_type": "display_data"
    },
    {
     "name": "stdout",
     "output_type": "stream",
     "text": [
      "88.0\n",
      "12.0\n"
     ]
    }
   ],
   "source": [
    "import seaborn as sns\n",
    "import matplotlib.pyplot as plt\n",
    "from matplotlib import font_manager, rc\n",
    "font_path=\"C:/Windows/Fonts/NGULIM.TTF\"\n",
    "font=font_manager.FontProperties(fname=font_path).get_name()\n",
    "rc('font', family=font)\n",
    "\n",
    "sns.countplot(x='is_canceled', data=df)\n",
    "plt.title('데이터 불균형 시각화', fontsize=14)\n",
    "plt.show()\n",
    "\n",
    "ratio0=round(len(df[df['is_canceled']==0])/len(df)*100, 2)\n",
    "ratio1=round(len(df[df['is_canceled']==1])/len(df)*100, 2)\n",
    "\n",
    "print(ratio0)\n",
    "print(ratio1)"
   ]
  },
  {
   "cell_type": "markdown",
   "id": "fb646107",
   "metadata": {},
   "source": [
    "### 오버샘플링 데이터셋 생성"
   ]
  },
  {
   "cell_type": "code",
   "execution_count": 13,
   "id": "11004d40",
   "metadata": {},
   "outputs": [],
   "source": [
    "df=pd.get_dummies(df)"
   ]
  },
  {
   "cell_type": "code",
   "execution_count": 14,
   "id": "c3d3cc21",
   "metadata": {},
   "outputs": [],
   "source": [
    "from imblearn.over_sampling import RandomOverSampler, SMOTE\n",
    "import time\n",
    "\n",
    "X=df.drop(columns=['is_canceled'])\n",
    "y=df[['is_canceled']]"
   ]
  },
  {
   "cell_type": "code",
   "execution_count": 17,
   "id": "90aefb20",
   "metadata": {},
   "outputs": [
    {
     "name": "stdout",
     "output_type": "stream",
     "text": [
      "time : 0.05167961120605469\n"
     ]
    }
   ],
   "source": [
    "start=time.time()\n",
    "ros=RandomOverSampler(random_state=42)\n",
    "X_ro, y_ro=ros.fit_resample(X, y)\n",
    "print(\"time :\", time.time()-start)\n",
    "#끝난시간-시작시간"
   ]
  },
  {
   "cell_type": "code",
   "execution_count": 18,
   "id": "78b6db42",
   "metadata": {},
   "outputs": [
    {
     "name": "stdout",
     "output_type": "stream",
     "text": [
      "time : 0.09413886070251465\n"
     ]
    }
   ],
   "source": [
    "start=time.time()\n",
    "sm=SMOTE(random_state=42)\n",
    "X_sm, y_sm=sm.fit_resample(X, y)\n",
    "print(\"time :\", time.time()-start)"
   ]
  },
  {
   "cell_type": "markdown",
   "id": "56747bf3",
   "metadata": {},
   "source": [
    "랜덤오버샘플링이 좀 더 빠르게 데이터셋 생성"
   ]
  },
  {
   "cell_type": "markdown",
   "id": "ffe9288e",
   "metadata": {},
   "source": [
    "### 분류 알고리즘(원데이터셋 vs 오버샘플링 데이터셋)"
   ]
  },
  {
   "cell_type": "code",
   "execution_count": 21,
   "id": "80f4f85a",
   "metadata": {},
   "outputs": [
    {
     "name": "stderr",
     "output_type": "stream",
     "text": [
      "C:\\Users\\Public\\Documents\\ESTsoft\\CreatorTemp/ipykernel_12616/1864325725.py:10: DataConversionWarning: A column-vector y was passed when a 1d array was expected. Please change the shape of y to (n_samples,), for example using ravel().\n",
      "  rf.fit(X_train, y_train)\n"
     ]
    },
    {
     "name": "stdout",
     "output_type": "stream",
     "text": [
      "0.9341710427606902\n",
      "0.9317329332333083\n",
      "time : 4.488649368286133\n"
     ]
    }
   ],
   "source": [
    "from sklearn.model_selection import train_test_split\n",
    "from sklearn.ensemble import RandomForestClassifier\n",
    "from sklearn.metrics import classification_report\n",
    "from sklearn.metrics import accuracy_score\n",
    "\n",
    "#원데이터\n",
    "start=time.time()\n",
    "X_train, X_test, y_train, y_test=train_test_split(X, y, test_size=0.2, stratify=y, random_state=100)\n",
    "rf=RandomForestClassifier(n_estimators=100, min_samples_split=10)\n",
    "rf.fit(X_train, y_train)\n",
    "print(rf.score(X_train, y_train))\n",
    "pred=rf.predict(X_test)\n",
    "print(accuracy_score(y_test, pred))\n",
    "print(\"time :\", time.time()-start)"
   ]
  },
  {
   "cell_type": "code",
   "execution_count": 24,
   "id": "c86ca6e5",
   "metadata": {},
   "outputs": [
    {
     "name": "stderr",
     "output_type": "stream",
     "text": [
      "C:\\Users\\Public\\Documents\\ESTsoft\\CreatorTemp/ipykernel_12616/221996071.py:5: DataConversionWarning: A column-vector y was passed when a 1d array was expected. Please change the shape of y to (n_samples,), for example using ravel().\n",
      "  clf_ro.fit(X_ro_train, y_ro_train)\n"
     ]
    },
    {
     "name": "stdout",
     "output_type": "stream",
     "text": [
      "0.9853651605569764\n",
      "0.9546746234725775\n",
      "time : 7.346177816390991\n"
     ]
    }
   ],
   "source": [
    "#RandomOverSampling\n",
    "start=time.time()\n",
    "X_ro_train, X_ro_test, y_ro_train, y_ro_test=train_test_split(X_ro, y_ro, test_size=0.2, stratify=y_ro, random_state=100)\n",
    "clf_ro=RandomForestClassifier(n_estimators=100, min_samples_split=10, random_state=100)\n",
    "clf_ro.fit(X_ro_train, y_ro_train)\n",
    "print(clf_ro.score(X_ro_train, y_ro_train))\n",
    "pred_ro=clf_ro.predict(X_ro_test)\n",
    "print(accuracy_score(y_ro_test, pred_ro))\n",
    "print(\"time :\", time.time()-start)"
   ]
  },
  {
   "cell_type": "code",
   "execution_count": 25,
   "id": "408dbcdd",
   "metadata": {},
   "outputs": [
    {
     "name": "stderr",
     "output_type": "stream",
     "text": [
      "C:\\Users\\Public\\Documents\\ESTsoft\\CreatorTemp/ipykernel_12616/2145407700.py:5: DataConversionWarning: A column-vector y was passed when a 1d array was expected. Please change the shape of y to (n_samples,), for example using ravel().\n",
      "  clf_sm.fit(X_sm_train, y_sm_train)\n"
     ]
    },
    {
     "name": "stdout",
     "output_type": "stream",
     "text": [
      "0.9636970730321114\n",
      "0.8922989485649332\n",
      "time : 8.229299783706665\n"
     ]
    }
   ],
   "source": [
    "#Smote oversampling\n",
    "start=time.time()\n",
    "X_sm_train, X_sm_test, y_sm_train, y_sm_test=train_test_split(X_sm, y_sm, test_size=0.2, stratify=y_sm, random_state=100)\n",
    "clf_sm=RandomForestClassifier(n_estimators=100, min_samples_split=10, random_state=100)\n",
    "clf_sm.fit(X_sm_train, y_sm_train)\n",
    "print(clf_sm.score(X_sm_train, y_sm_train))\n",
    "pred_sm=clf_sm.predict(X_sm_test)\n",
    "print(accuracy_score(y_sm_test, pred_sm))\n",
    "print(\"time :\", time.time() - start)"
   ]
  },
  {
   "cell_type": "code",
   "execution_count": null,
   "id": "aefb5c42",
   "metadata": {},
   "outputs": [],
   "source": []
  }
 ],
 "metadata": {
  "kernelspec": {
   "display_name": "Python 3 (ipykernel)",
   "language": "python",
   "name": "python3"
  },
  "language_info": {
   "codemirror_mode": {
    "name": "ipython",
    "version": 3
   },
   "file_extension": ".py",
   "mimetype": "text/x-python",
   "name": "python",
   "nbconvert_exporter": "python",
   "pygments_lexer": "ipython3",
   "version": "3.8.5"
  }
 },
 "nbformat": 4,
 "nbformat_minor": 5
}
