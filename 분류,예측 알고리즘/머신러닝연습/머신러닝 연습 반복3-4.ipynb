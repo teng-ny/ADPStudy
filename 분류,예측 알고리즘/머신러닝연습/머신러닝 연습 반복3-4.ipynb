{
 "cells": [
  {
   "cell_type": "code",
   "execution_count": 1,
   "id": "e55a6cfc",
   "metadata": {},
   "outputs": [
    {
     "data": {
      "text/plain": [
       "is_canceled                          0\n",
       "deposit_type                         0\n",
       "lead_time                            5\n",
       "stays_in_weekend_nights              0\n",
       "stays_in_week_nights                 0\n",
       "is_repeated_guest                  358\n",
       "previous_cancellations               0\n",
       "previous_bookings_not_canceled       0\n",
       "booking_changes                      0\n",
       "days_in_waiting_list                 0\n",
       "adr                               1063\n",
       "dtype: int64"
      ]
     },
     "execution_count": 1,
     "metadata": {},
     "output_type": "execute_result"
    }
   ],
   "source": [
    "import pandas as pd\n",
    "import numpy as np\n",
    "df=pd.read_csv(\"hotel_bookings.csv\")\n",
    "df\n",
    "df.isna().sum()"
   ]
  },
  {
   "cell_type": "code",
   "execution_count": 2,
   "id": "5ce69d03",
   "metadata": {},
   "outputs": [],
   "source": [
    "df.dropna(subset=['lead_time'], inplace=True)"
   ]
  },
  {
   "cell_type": "code",
   "execution_count": 3,
   "id": "8200a63c",
   "metadata": {},
   "outputs": [
    {
     "data": {
      "text/plain": [
       "is_canceled                          0\n",
       "deposit_type                         0\n",
       "lead_time                            0\n",
       "stays_in_weekend_nights              0\n",
       "stays_in_week_nights                 0\n",
       "is_repeated_guest                  358\n",
       "previous_cancellations               0\n",
       "previous_bookings_not_canceled       0\n",
       "booking_changes                      0\n",
       "days_in_waiting_list                 0\n",
       "adr                               1063\n",
       "dtype: int64"
      ]
     },
     "execution_count": 3,
     "metadata": {},
     "output_type": "execute_result"
    }
   ],
   "source": [
    "df.isna().sum()"
   ]
  },
  {
   "cell_type": "code",
   "execution_count": 5,
   "id": "04f5a8d6",
   "metadata": {},
   "outputs": [
    {
     "data": {
      "text/plain": [
       "0.0"
      ]
     },
     "execution_count": 5,
     "metadata": {},
     "output_type": "execute_result"
    }
   ],
   "source": [
    "df['is_repeated_guest'].mode()[0]"
   ]
  },
  {
   "cell_type": "code",
   "execution_count": 7,
   "id": "2f141e22",
   "metadata": {},
   "outputs": [
    {
     "data": {
      "text/plain": [
       "is_canceled                          0\n",
       "deposit_type                         0\n",
       "lead_time                            0\n",
       "stays_in_weekend_nights              0\n",
       "stays_in_week_nights                 0\n",
       "is_repeated_guest                    0\n",
       "previous_cancellations               0\n",
       "previous_bookings_not_canceled       0\n",
       "booking_changes                      0\n",
       "days_in_waiting_list                 0\n",
       "adr                               1063\n",
       "dtype: int64"
      ]
     },
     "execution_count": 7,
     "metadata": {},
     "output_type": "execute_result"
    }
   ],
   "source": [
    "df['is_repeated_guest']=df['is_repeated_guest'].fillna(df['is_repeated_guest'].mode()[0])\n",
    "df.isna().sum()"
   ]
  },
  {
   "cell_type": "code",
   "execution_count": 8,
   "id": "5bd1f723",
   "metadata": {},
   "outputs": [],
   "source": [
    "df['is_repeated_guest']=df['is_repeated_guest'].astype('int')"
   ]
  },
  {
   "cell_type": "code",
   "execution_count": 9,
   "id": "be0f9886",
   "metadata": {},
   "outputs": [
    {
     "name": "stdout",
     "output_type": "stream",
     "text": [
      "<class 'pandas.core.frame.DataFrame'>\n",
      "Int64Index: 19995 entries, 0 to 19999\n",
      "Data columns (total 11 columns):\n",
      " #   Column                          Non-Null Count  Dtype  \n",
      "---  ------                          --------------  -----  \n",
      " 0   is_canceled                     19995 non-null  int64  \n",
      " 1   deposit_type                    19995 non-null  object \n",
      " 2   lead_time                       19995 non-null  float64\n",
      " 3   stays_in_weekend_nights         19995 non-null  int64  \n",
      " 4   stays_in_week_nights            19995 non-null  int64  \n",
      " 5   is_repeated_guest               19995 non-null  int32  \n",
      " 6   previous_cancellations          19995 non-null  int64  \n",
      " 7   previous_bookings_not_canceled  19995 non-null  int64  \n",
      " 8   booking_changes                 19995 non-null  int64  \n",
      " 9   days_in_waiting_list            19995 non-null  int64  \n",
      " 10  adr                             18932 non-null  float64\n",
      "dtypes: float64(2), int32(1), int64(7), object(1)\n",
      "memory usage: 1.8+ MB\n"
     ]
    }
   ],
   "source": [
    "df.info()"
   ]
  },
  {
   "cell_type": "code",
   "execution_count": 12,
   "id": "8ae1ac4c",
   "metadata": {},
   "outputs": [
    {
     "name": "stderr",
     "output_type": "stream",
     "text": [
      "C:\\Users\\Public\\Documents\\ESTsoft\\CreatorTemp/ipykernel_14676/985658603.py:1: FutureWarning: Dropping of nuisance columns in DataFrame reductions (with 'numeric_only=None') is deprecated; in a future version this will raise TypeError.  Select only valid columns before calling the reduction.\n",
      "  fill_mean_func=lambda g: g.fillna(g.mean())\n"
     ]
    },
    {
     "data": {
      "text/plain": [
       "is_canceled                       0\n",
       "deposit_type                      0\n",
       "lead_time                         0\n",
       "stays_in_weekend_nights           0\n",
       "stays_in_week_nights              0\n",
       "is_repeated_guest                 0\n",
       "previous_cancellations            0\n",
       "previous_bookings_not_canceled    0\n",
       "booking_changes                   0\n",
       "days_in_waiting_list              0\n",
       "adr                               0\n",
       "dtype: int64"
      ]
     },
     "execution_count": 12,
     "metadata": {},
     "output_type": "execute_result"
    }
   ],
   "source": [
    "fill_mean_func=lambda g: g.fillna(g.mean())\n",
    "df=df.groupby('deposit_type').apply(fill_mean_func)\n",
    "df.index=df.index.droplevel(0)\n",
    "df.isna().sum()"
   ]
  },
  {
   "cell_type": "code",
   "execution_count": 13,
   "id": "e718a100",
   "metadata": {
    "scrolled": true
   },
   "outputs": [
    {
     "data": {
      "text/plain": [
       "<AxesSubplot:xlabel='is_canceled', ylabel='count'>"
      ]
     },
     "execution_count": 13,
     "metadata": {},
     "output_type": "execute_result"
    },
    {
     "data": {
      "image/png": "[encoded data removed]",
      "text/plain": [
       "<Figure size 432x288 with 1 Axes>"
      ]
     },
     "metadata": {
      "needs_background": "light"
     },
     "output_type": "display_data"
    }
   ],
   "source": [
    "import seaborn as sns\n",
    "sns.countplot(x='is_canceled', data=df)"
   ]
  },
  {
   "cell_type": "code",
   "execution_count": 17,
   "id": "2590e05c",
   "metadata": {},
   "outputs": [
    {
     "name": "stdout",
     "output_type": "stream",
     "text": [
      "0.06762504577636719\n",
      "0.20998501777648926\n"
     ]
    }
   ],
   "source": [
    "df=pd.get_dummies(df)\n",
    "from imblearn.over_sampling import RandomOverSampler, SMOTE\n",
    "import time\n",
    "\n",
    "X=df.drop(columns=['is_canceled'])\n",
    "y=df['is_canceled']\n",
    "\n",
    "start=time.time()\n",
    "ros=RandomOverSampler(random_state=42)\n",
    "X_ro, y_ro=ros.fit_resample(X, y)\n",
    "print(time.time()-start)\n",
    "\n",
    "start=time.time()\n",
    "sm=SMOTE(random_state=42)\n",
    "X_sm, y_sm=sm.fit_resample(X, y)\n",
    "print(time.time()-start)"
   ]
  },
  {
   "cell_type": "code",
   "execution_count": 21,
   "id": "c69c2828",
   "metadata": {},
   "outputs": [
    {
     "name": "stdout",
     "output_type": "stream",
     "text": [
      "0.6871208084683148\n"
     ]
    },
    {
     "name": "stderr",
     "output_type": "stream",
     "text": [
      "C:\\Users\\taeeu\\anaconda3\\lib\\site-packages\\sklearn\\utils\\deprecation.py:87: FutureWarning: Function plot_roc_curve is deprecated; Function :func:`plot_roc_curve` is deprecated in 1.0 and will be removed in 1.2. Use one of the class methods: :meth:`sklearn.metric.RocCurveDisplay.from_predictions` or :meth:`sklearn.metric.RocCurveDisplay.from_estimator`.\n",
      "  warnings.warn(msg, category=FutureWarning)\n"
     ]
    },
    {
     "data": {
      "image/png": "[encoded data removed]",
      "text/plain": [
       "<Figure size 432x288 with 1 Axes>"
      ]
     },
     "metadata": {
      "needs_background": "light"
     },
     "output_type": "display_data"
    }
   ],
   "source": [
    "from sklearn.model_selection import train_test_split\n",
    "from sklearn.ensemble import RandomForestClassifier\n",
    "from sklearn.metrics import classification_report\n",
    "\n",
    "start=time.time()\n",
    "X_train, X_test, y_train, y_test=train_test_split(X, y, test_size=0.2, stratify=y, random_state=100)\n",
    "clf=RandomForestClassifier(n_estimators=100, min_samples_split=10)\n",
    "clf.fit(X_train, y_train)\n",
    "\n",
    "from sklearn.metrics import roc_auc_score, plot_roc_curve\n",
    "import matplotlib.pyplot as plt\n",
    "lr_pred=clf.predict(X_test)\n",
    "print(roc_auc_score(y_test, lr_pred))\n",
    "plot_roc_curve(clf, X_test, y_test)\n",
    "plt.show()"
   ]
  },
  {
   "cell_type": "code",
   "execution_count": null,
   "id": "2a5f9491",
   "metadata": {},
   "outputs": [],
   "source": []
  }
 ],
 "metadata": {
  "kernelspec": {
   "display_name": "Python 3 (ipykernel)",
   "language": "python",
   "name": "python3"
  },
  "language_info": {
   "codemirror_mode": {
    "name": "ipython",
    "version": 3
   },
   "file_extension": ".py",
   "mimetype": "text/x-python",
   "name": "python",
   "nbconvert_exporter": "python",
   "pygments_lexer": "ipython3",
   "version": "3.8.5"
  }
 },
 "nbformat": 4,
 "nbformat_minor": 5
}
