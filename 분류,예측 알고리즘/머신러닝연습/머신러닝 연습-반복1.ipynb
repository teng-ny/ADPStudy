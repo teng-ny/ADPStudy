{
 "cells": [
  {
   "cell_type": "code",
   "execution_count": 1,
   "id": "da28dc8e",
   "metadata": {},
   "outputs": [
    {
     "data": {
      "text/html": [
       "<div>\n",
       "<style scoped>\n",
       "    .dataframe tbody tr th:only-of-type {\n",
       "        vertical-align: middle;\n",
       "    }\n",
       "\n",
       "    .dataframe tbody tr th {\n",
       "        vertical-align: top;\n",
       "    }\n",
       "\n",
       "    .dataframe thead th {\n",
       "        text-align: right;\n",
       "    }\n",
       "</style>\n",
       "<table border=\"1\" class=\"dataframe\">\n",
       "  <thead>\n",
       "    <tr style=\"text-align: right;\">\n",
       "      <th></th>\n",
       "      <th>school</th>\n",
       "      <th>sex</th>\n",
       "      <th>paid</th>\n",
       "      <th>activities</th>\n",
       "      <th>famrel</th>\n",
       "      <th>freetime</th>\n",
       "      <th>goout</th>\n",
       "      <th>Dalc</th>\n",
       "      <th>Walc</th>\n",
       "      <th>health</th>\n",
       "      <th>absences</th>\n",
       "      <th>grade</th>\n",
       "      <th>G1</th>\n",
       "      <th>G2</th>\n",
       "    </tr>\n",
       "  </thead>\n",
       "  <tbody>\n",
       "    <tr>\n",
       "      <th>0</th>\n",
       "      <td>GP</td>\n",
       "      <td>F</td>\n",
       "      <td>no</td>\n",
       "      <td>no</td>\n",
       "      <td>4.0</td>\n",
       "      <td>3.0</td>\n",
       "      <td>4.0</td>\n",
       "      <td>1.0</td>\n",
       "      <td>1.0</td>\n",
       "      <td>3.0</td>\n",
       "      <td>6.0</td>\n",
       "      <td>6</td>\n",
       "      <td>5</td>\n",
       "      <td>6</td>\n",
       "    </tr>\n",
       "    <tr>\n",
       "      <th>1</th>\n",
       "      <td>GP</td>\n",
       "      <td>F</td>\n",
       "      <td>no</td>\n",
       "      <td>no</td>\n",
       "      <td>5.0</td>\n",
       "      <td>3.0</td>\n",
       "      <td>3.0</td>\n",
       "      <td>1.0</td>\n",
       "      <td>1.0</td>\n",
       "      <td>3.0</td>\n",
       "      <td>4.0</td>\n",
       "      <td>5</td>\n",
       "      <td>5</td>\n",
       "      <td>5</td>\n",
       "    </tr>\n",
       "    <tr>\n",
       "      <th>2</th>\n",
       "      <td>GP</td>\n",
       "      <td>F</td>\n",
       "      <td>yes</td>\n",
       "      <td>no</td>\n",
       "      <td>4.0</td>\n",
       "      <td>3.0</td>\n",
       "      <td>2.0</td>\n",
       "      <td>2.0</td>\n",
       "      <td>3.0</td>\n",
       "      <td>3.0</td>\n",
       "      <td>10.0</td>\n",
       "      <td>8</td>\n",
       "      <td>7</td>\n",
       "      <td>8</td>\n",
       "    </tr>\n",
       "    <tr>\n",
       "      <th>3</th>\n",
       "      <td>GP</td>\n",
       "      <td>F</td>\n",
       "      <td>yes</td>\n",
       "      <td>yes</td>\n",
       "      <td>3.0</td>\n",
       "      <td>2.0</td>\n",
       "      <td>2.0</td>\n",
       "      <td>1.0</td>\n",
       "      <td>1.0</td>\n",
       "      <td>5.0</td>\n",
       "      <td>2.0</td>\n",
       "      <td>15</td>\n",
       "      <td>15</td>\n",
       "      <td>14</td>\n",
       "    </tr>\n",
       "    <tr>\n",
       "      <th>4</th>\n",
       "      <td>GP</td>\n",
       "      <td>F</td>\n",
       "      <td>yes</td>\n",
       "      <td>no</td>\n",
       "      <td>4.0</td>\n",
       "      <td>3.0</td>\n",
       "      <td>2.0</td>\n",
       "      <td>1.0</td>\n",
       "      <td>2.0</td>\n",
       "      <td>5.0</td>\n",
       "      <td>4.0</td>\n",
       "      <td>9</td>\n",
       "      <td>6</td>\n",
       "      <td>10</td>\n",
       "    </tr>\n",
       "    <tr>\n",
       "      <th>...</th>\n",
       "      <td>...</td>\n",
       "      <td>...</td>\n",
       "      <td>...</td>\n",
       "      <td>...</td>\n",
       "      <td>...</td>\n",
       "      <td>...</td>\n",
       "      <td>...</td>\n",
       "      <td>...</td>\n",
       "      <td>...</td>\n",
       "      <td>...</td>\n",
       "      <td>...</td>\n",
       "      <td>...</td>\n",
       "      <td>...</td>\n",
       "      <td>...</td>\n",
       "    </tr>\n",
       "    <tr>\n",
       "      <th>390</th>\n",
       "      <td>MS</td>\n",
       "      <td>M</td>\n",
       "      <td>yes</td>\n",
       "      <td>no</td>\n",
       "      <td>5.0</td>\n",
       "      <td>5.0</td>\n",
       "      <td>4.0</td>\n",
       "      <td>4.0</td>\n",
       "      <td>5.0</td>\n",
       "      <td>4.0</td>\n",
       "      <td>11.0</td>\n",
       "      <td>9</td>\n",
       "      <td>9</td>\n",
       "      <td>9</td>\n",
       "    </tr>\n",
       "    <tr>\n",
       "      <th>391</th>\n",
       "      <td>MS</td>\n",
       "      <td>M</td>\n",
       "      <td>no</td>\n",
       "      <td>no</td>\n",
       "      <td>2.0</td>\n",
       "      <td>4.0</td>\n",
       "      <td>5.0</td>\n",
       "      <td>3.0</td>\n",
       "      <td>4.0</td>\n",
       "      <td>2.0</td>\n",
       "      <td>3.0</td>\n",
       "      <td>15</td>\n",
       "      <td>14</td>\n",
       "      <td>16</td>\n",
       "    </tr>\n",
       "    <tr>\n",
       "      <th>392</th>\n",
       "      <td>MS</td>\n",
       "      <td>M</td>\n",
       "      <td>no</td>\n",
       "      <td>no</td>\n",
       "      <td>5.0</td>\n",
       "      <td>5.0</td>\n",
       "      <td>3.0</td>\n",
       "      <td>3.0</td>\n",
       "      <td>3.0</td>\n",
       "      <td>3.0</td>\n",
       "      <td>3.0</td>\n",
       "      <td>8</td>\n",
       "      <td>10</td>\n",
       "      <td>8</td>\n",
       "    </tr>\n",
       "    <tr>\n",
       "      <th>393</th>\n",
       "      <td>MS</td>\n",
       "      <td>M</td>\n",
       "      <td>no</td>\n",
       "      <td>no</td>\n",
       "      <td>4.0</td>\n",
       "      <td>4.0</td>\n",
       "      <td>1.0</td>\n",
       "      <td>3.0</td>\n",
       "      <td>4.0</td>\n",
       "      <td>5.0</td>\n",
       "      <td>0.0</td>\n",
       "      <td>11</td>\n",
       "      <td>11</td>\n",
       "      <td>12</td>\n",
       "    </tr>\n",
       "    <tr>\n",
       "      <th>394</th>\n",
       "      <td>MS</td>\n",
       "      <td>M</td>\n",
       "      <td>no</td>\n",
       "      <td>no</td>\n",
       "      <td>3.0</td>\n",
       "      <td>2.0</td>\n",
       "      <td>3.0</td>\n",
       "      <td>3.0</td>\n",
       "      <td>3.0</td>\n",
       "      <td>5.0</td>\n",
       "      <td>5.0</td>\n",
       "      <td>9</td>\n",
       "      <td>8</td>\n",
       "      <td>9</td>\n",
       "    </tr>\n",
       "  </tbody>\n",
       "</table>\n",
       "<p>395 rows × 14 columns</p>\n",
       "</div>"
      ],
      "text/plain": [
       "    school sex paid activities  famrel  freetime  goout  Dalc  Walc  health  \\\n",
       "0       GP   F   no         no     4.0       3.0    4.0   1.0   1.0     3.0   \n",
       "1       GP   F   no         no     5.0       3.0    3.0   1.0   1.0     3.0   \n",
       "2       GP   F  yes         no     4.0       3.0    2.0   2.0   3.0     3.0   \n",
       "3       GP   F  yes        yes     3.0       2.0    2.0   1.0   1.0     5.0   \n",
       "4       GP   F  yes         no     4.0       3.0    2.0   1.0   2.0     5.0   \n",
       "..     ...  ..  ...        ...     ...       ...    ...   ...   ...     ...   \n",
       "390     MS   M  yes         no     5.0       5.0    4.0   4.0   5.0     4.0   \n",
       "391     MS   M   no         no     2.0       4.0    5.0   3.0   4.0     2.0   \n",
       "392     MS   M   no         no     5.0       5.0    3.0   3.0   3.0     3.0   \n",
       "393     MS   M   no         no     4.0       4.0    1.0   3.0   4.0     5.0   \n",
       "394     MS   M   no         no     3.0       2.0    3.0   3.0   3.0     5.0   \n",
       "\n",
       "     absences  grade  G1  G2  \n",
       "0         6.0      6   5   6  \n",
       "1         4.0      5   5   5  \n",
       "2        10.0      8   7   8  \n",
       "3         2.0     15  15  14  \n",
       "4         4.0      9   6  10  \n",
       "..        ...    ...  ..  ..  \n",
       "390      11.0      9   9   9  \n",
       "391       3.0     15  14  16  \n",
       "392       3.0      8  10   8  \n",
       "393       0.0     11  11  12  \n",
       "394       5.0      9   8   9  \n",
       "\n",
       "[395 rows x 14 columns]"
      ]
     },
     "execution_count": 1,
     "metadata": {},
     "output_type": "execute_result"
    }
   ],
   "source": [
    "import pandas as pd\n",
    "import numpy as np\n",
    "df=pd.read_csv(\"student_data.csv\")\n",
    "df"
   ]
  },
  {
   "cell_type": "code",
   "execution_count": 2,
   "id": "fdf6dca6",
   "metadata": {},
   "outputs": [
    {
     "data": {
      "text/plain": [
       "<AxesSubplot:xlabel='grade', ylabel='count'>"
      ]
     },
     "execution_count": 2,
     "metadata": {},
     "output_type": "execute_result"
    },
    {
     "data": {
      "image/png": "[encoded data removed]",
      "text/plain": [
       "<Figure size 432x288 with 1 Axes>"
      ]
     },
     "metadata": {
      "needs_background": "light"
     },
     "output_type": "display_data"
    }
   ],
   "source": [
    "import matplotlib.pyplot as plt\n",
    "import seaborn as sns\n",
    "\n",
    "sns.countplot(x='grade', data=df)"
   ]
  },
  {
   "cell_type": "code",
   "execution_count": 4,
   "id": "2a84daa8",
   "metadata": {},
   "outputs": [
    {
     "data": {
      "text/plain": [
       "<AxesSubplot:>"
      ]
     },
     "execution_count": 4,
     "metadata": {},
     "output_type": "execute_result"
    },
    {
     "data": {
      "image/png": "[encoded data removed]",
      "text/plain": [
       "<Figure size 432x288 with 2 Axes>"
      ]
     },
     "metadata": {
      "needs_background": "light"
     },
     "output_type": "display_data"
    }
   ],
   "source": [
    "df_cor=df.corr(method='pearson')\n",
    "\n",
    "sns.heatmap(df_cor, annot=True, fmt='.1f', cmap='RdBu_r', linewidth=3)"
   ]
  },
  {
   "cell_type": "code",
   "execution_count": 8,
   "id": "f2ede645",
   "metadata": {},
   "outputs": [
    {
     "data": {
      "image/png": "[encoded data removed]",
      "text/plain": [
       "<Figure size 1800x1440 with 4 Axes>"
      ]
     },
     "metadata": {},
     "output_type": "display_data"
    }
   ],
   "source": [
    "plt.style.use('ggplot')\n",
    "plt.figure(figsize=(25,20))\n",
    "\n",
    "cols=df.iloc[:, 0:4].columns\n",
    "for i in range(len(cols)):\n",
    "    plt.subplot(5,6,i+1)\n",
    "    plt.title(cols[i])\n",
    "    if len(df[cols[i]].unique())>10:\n",
    "        plt.hist(df[cols[i]], bins=20, color='b', alpha=0.7)\n",
    "        \n",
    "    else:\n",
    "        temp=df[cols[i]].value_counts()\n",
    "        plt.bar(temp.keys(), temp.values, width=0.5, alpha=0.7)\n",
    "        plt.xticks(temp.keys())\n",
    "        \n",
    "plt.tight_layout(rect=[0, 0.03, 1, 0.95])\n",
    "plt.show()"
   ]
  },
  {
   "cell_type": "code",
   "execution_count": 9,
   "id": "6e2e5064",
   "metadata": {},
   "outputs": [
    {
     "data": {
      "text/plain": [
       "school        0\n",
       "sex           0\n",
       "paid          0\n",
       "activities    0\n",
       "famrel        1\n",
       "freetime      2\n",
       "goout         3\n",
       "Dalc          4\n",
       "Walc          2\n",
       "health        4\n",
       "absences      3\n",
       "grade         0\n",
       "G1            0\n",
       "G2            0\n",
       "dtype: int64"
      ]
     },
     "execution_count": 9,
     "metadata": {},
     "output_type": "execute_result"
    }
   ],
   "source": [
    "df.isna().sum()"
   ]
  },
  {
   "cell_type": "code",
   "execution_count": 10,
   "id": "52ed5ff7",
   "metadata": {},
   "outputs": [
    {
     "data": {
      "text/plain": [
       "school        0\n",
       "sex           0\n",
       "paid          0\n",
       "activities    0\n",
       "famrel        0\n",
       "freetime      0\n",
       "goout         0\n",
       "Dalc          0\n",
       "Walc          0\n",
       "health        0\n",
       "absences      0\n",
       "grade         0\n",
       "G1            0\n",
       "G2            0\n",
       "dtype: int64"
      ]
     },
     "execution_count": 10,
     "metadata": {},
     "output_type": "execute_result"
    }
   ],
   "source": [
    "from sklearn.impute import KNNImputer\n",
    "\n",
    "KNN_data=df.drop(columns=['school', 'sex', 'paid', 'activities'])\n",
    "\n",
    "imputer=KNNImputer()\n",
    "df_filled=imputer.fit_transform(KNN_data)\n",
    "df_filled=pd.DataFrame(df_filled, columns=KNN_data.columns)\n",
    "df[KNN_data.columns]=df_filled\n",
    "\n",
    "df.isna().sum()"
   ]
  },
  {
   "cell_type": "code",
   "execution_count": 12,
   "id": "a652fdc2",
   "metadata": {},
   "outputs": [
    {
     "name": "stdout",
     "output_type": "stream",
     "text": [
      "<class 'pandas.core.frame.DataFrame'>\n",
      "RangeIndex: 395 entries, 0 to 394\n",
      "Data columns (total 14 columns):\n",
      " #   Column          Non-Null Count  Dtype  \n",
      "---  ------          --------------  -----  \n",
      " 0   famrel          395 non-null    float64\n",
      " 1   freetime        395 non-null    float64\n",
      " 2   goout           395 non-null    float64\n",
      " 3   Dalc            395 non-null    float64\n",
      " 4   Walc            395 non-null    float64\n",
      " 5   health          395 non-null    float64\n",
      " 6   absences        395 non-null    float64\n",
      " 7   grade           395 non-null    float64\n",
      " 8   G1              395 non-null    float64\n",
      " 9   G2              395 non-null    float64\n",
      " 10  school_MS       395 non-null    uint8  \n",
      " 11  sex_M           395 non-null    uint8  \n",
      " 12  paid_yes        395 non-null    uint8  \n",
      " 13  activities_yes  395 non-null    uint8  \n",
      "dtypes: float64(10), uint8(4)\n",
      "memory usage: 32.5 KB\n"
     ]
    }
   ],
   "source": [
    "df=pd.get_dummies(df, drop_first=True)\n",
    "df.info()"
   ]
  },
  {
   "cell_type": "code",
   "execution_count": 13,
   "id": "b1f0f7a4",
   "metadata": {},
   "outputs": [],
   "source": [
    "from sklearn.model_selection import train_test_split\n",
    "X=df.drop(columns='grade')\n",
    "y=df['grade']\n",
    "\n",
    "X_train, X_test, y_train, y_test=train_test_split(X, y, test_size=0.3, random_state=2022)"
   ]
  },
  {
   "cell_type": "markdown",
   "id": "12ca0539",
   "metadata": {},
   "source": [
    "- 모델링"
   ]
  },
  {
   "cell_type": "code",
   "execution_count": 14,
   "id": "6542ff1a",
   "metadata": {},
   "outputs": [],
   "source": [
    "from sklearn.svm import SVR\n",
    "from sklearn.ensemble import RandomForestRegressor\n",
    "from xgboost import XGBRegressor\n",
    "from sklearn.metrics import mean_squared_error\n",
    "from sklearn.preprocessing import StandardScaler\n",
    "\n",
    "scaler=StandardScaler()\n",
    "X_train_sc=pd.DataFrame(scaler.fit_transform(X_train), columns=X_train.columns)\n",
    "X_test_sc=pd.DataFrame(scaler.transform(X_test), columns=X_test.columns)"
   ]
  },
  {
   "cell_type": "markdown",
   "id": "ecb65f63",
   "metadata": {},
   "source": [
    "(1) SVR"
   ]
  },
  {
   "cell_type": "code",
   "execution_count": 15,
   "id": "e3e42fcf",
   "metadata": {},
   "outputs": [
    {
     "name": "stdout",
     "output_type": "stream",
     "text": [
      "{'C': 100, 'gamma': 0.001}\n"
     ]
    }
   ],
   "source": [
    "from sklearn.model_selection import GridSearchCV\n",
    "param_grid=[{'C':[0.1, 1, 10, 100], 'gamma':[0.001, 0.01, 0.1, 1, 10]}]\n",
    "grid_svm=GridSearchCV(SVR(), param_grid=param_grid, cv=5)\n",
    "grid_svm.fit(X_train_sc, y_train)\n",
    "print(grid_svm.best_params_)"
   ]
  },
  {
   "cell_type": "code",
   "execution_count": 16,
   "id": "571692af",
   "metadata": {},
   "outputs": [
    {
     "name": "stdout",
     "output_type": "stream",
     "text": [
      "0.9574163452579298\n",
      "0.7753004545895938\n"
     ]
    }
   ],
   "source": [
    "svr=SVR(C=100, gamma=0.001)\n",
    "svr.fit(X_train_sc, y_train)\n",
    "print(svr.score(X_test_sc, y_test))\n",
    "print(np.sqrt(mean_squared_error(y_test, svr.predict(X_test_sc))))"
   ]
  },
  {
   "cell_type": "markdown",
   "id": "0465c562",
   "metadata": {},
   "source": [
    "(2) 랜덤포레스트(RandomForestRegressor)"
   ]
  },
  {
   "cell_type": "code",
   "execution_count": 20,
   "id": "2f2144a7",
   "metadata": {},
   "outputs": [
    {
     "name": "stdout",
     "output_type": "stream",
     "text": [
      "{'max_depth': 8, 'min_samples_split': 4}\n"
     ]
    }
   ],
   "source": [
    "rf_grid=[{'max_depth':[2,4,6,8,10], 'min_samples_split':[2,4,6,8,10]}]\n",
    "rf=GridSearchCV(RandomForestRegressor(n_estimators=100), param_grid=rf_grid, cv=5)\n",
    "rf.fit(X_train, y_train)\n",
    "print(rf.best_params_)"
   ]
  },
  {
   "cell_type": "code",
   "execution_count": 21,
   "id": "51ad5e14",
   "metadata": {},
   "outputs": [
    {
     "name": "stdout",
     "output_type": "stream",
     "text": [
      "0.9547132187194824\n",
      "0.7995291456559811\n"
     ]
    }
   ],
   "source": [
    "rf=RandomForestRegressor(max_depth=8, min_samples_split=4, n_estimators=100)\n",
    "rf.fit(X_train, y_train)\n",
    "print(rf.score(X_test, y_test))\n",
    "print(np.sqrt(mean_squared_error(y_test, rf.predict(X_test))))"
   ]
  },
  {
   "cell_type": "markdown",
   "id": "79e2ebae",
   "metadata": {},
   "source": [
    "(3) XGBM(XGBRegressor)"
   ]
  },
  {
   "cell_type": "code",
   "execution_count": 22,
   "id": "9dbb59ff",
   "metadata": {},
   "outputs": [
    {
     "data": {
      "text/plain": [
       "{'max_depth': 10}"
      ]
     },
     "execution_count": 22,
     "metadata": {},
     "output_type": "execute_result"
    }
   ],
   "source": [
    "xgb_grid=[{'max_depth':[2,4,6,8,10]}]\n",
    "xgb=GridSearchCV(XGBRegressor(n_estimators=1000), param_grid=xgb_grid, cv=5)\n",
    "xgb.fit(X_train, y_train)\n",
    "xgb.best_params_"
   ]
  },
  {
   "cell_type": "code",
   "execution_count": 23,
   "id": "13ed89b3",
   "metadata": {},
   "outputs": [
    {
     "name": "stdout",
     "output_type": "stream",
     "text": [
      "0.963211004628444\n",
      "0.7206220334000073\n"
     ]
    }
   ],
   "source": [
    "xgb=XGBRegressor(max_depth=10, n_estimators=1000)\n",
    "xgb.fit(X_train, y_train)\n",
    "print(xgb.score(X_test, y_test))\n",
    "print(np.sqrt(mean_squared_error(y_test, xgb.predict(X_test))))"
   ]
  },
  {
   "cell_type": "markdown",
   "id": "d690c17a",
   "metadata": {},
   "source": [
    "->xgbm이 가장 성능이 좋다"
   ]
  },
  {
   "cell_type": "code",
   "execution_count": 24,
   "id": "65afd659",
   "metadata": {},
   "outputs": [
    {
     "data": {
      "text/plain": [
       "<AxesSubplot:title={'center':'Feature importance'}, xlabel='F score', ylabel='Features'>"
      ]
     },
     "execution_count": 24,
     "metadata": {},
     "output_type": "execute_result"
    },
    {
     "data": {
      "image/png": "[encoded data removed]",
      "text/plain": [
       "<Figure size 432x288 with 1 Axes>"
      ]
     },
     "metadata": {},
     "output_type": "display_data"
    }
   ],
   "source": [
    "from xgboost import plot_importance\n",
    "\n",
    "plot_importance(xgb)"
   ]
  },
  {
   "cell_type": "markdown",
   "id": "53f150a0",
   "metadata": {},
   "source": [
    "farmrel 변수가 최종 성적에 영향을 많이 줌"
   ]
  }
 ],
 "metadata": {
  "kernelspec": {
   "display_name": "Python 3 (ipykernel)",
   "language": "python",
   "name": "python3"
  },
  "language_info": {
   "codemirror_mode": {
    "name": "ipython",
    "version": 3
   },
   "file_extension": ".py",
   "mimetype": "text/x-python",
   "name": "python",
   "nbconvert_exporter": "python",
   "pygments_lexer": "ipython3",
   "version": "3.8.5"
  }
 },
 "nbformat": 4,
 "nbformat_minor": 5
}
