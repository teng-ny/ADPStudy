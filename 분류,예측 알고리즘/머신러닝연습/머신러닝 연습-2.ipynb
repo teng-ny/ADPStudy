{
 "cells": [
  {
   "cell_type": "code",
   "execution_count": 3,
   "id": "2de1022f",
   "metadata": {},
   "outputs": [],
   "source": [
    "#warinng 무시\n",
    "import warnings\n",
    "warnings.filterwarnings('ignore')"
   ]
  },
  {
   "cell_type": "code",
   "execution_count": 5,
   "id": "3170b217",
   "metadata": {},
   "outputs": [],
   "source": [
    "import pandas as pd\n",
    "import numpy as np\n",
    "import mglearn\n",
    "\n",
    "X, y=mglearn.datasets.load_extended_boston()\n",
    "\n",
    "from sklearn.model_selection import train_test_split\n",
    "X_train, X_test, y_train, y_test=train_test_split(X, y, test_size=0.2, random_state=0)"
   ]
  },
  {
   "cell_type": "code",
   "execution_count": 6,
   "id": "af4ed827",
   "metadata": {},
   "outputs": [],
   "source": [
    "from sklearn.model_selection import GridSearchCV\n",
    "from sklearn.linear_model import LinearRegression\n",
    "from sklearn.linear_model import Ridge\n",
    "from sklearn.linear_model import Lasso\n",
    "from sklearn.metrics import mean_squared_error"
   ]
  },
  {
   "cell_type": "code",
   "execution_count": 7,
   "id": "bee04c1a",
   "metadata": {},
   "outputs": [
    {
     "name": "stdout",
     "output_type": "stream",
     "text": [
      "0.615885858407892\n",
      "5.592657237078517\n"
     ]
    }
   ],
   "source": [
    "lr=LinearRegression()\n",
    "lr.fit(X_train, y_train)\n",
    "\n",
    "print(lr.score(X_test, y_test))\n",
    "print(np.sqrt(mean_squared_error(y_test, lr.predict(X_test))))"
   ]
  },
  {
   "cell_type": "markdown",
   "id": "90d57390",
   "metadata": {},
   "source": [
    "모델이 예측할 때 실제값과의 차이가 약 5.6정도 난다는 의미"
   ]
  },
  {
   "cell_type": "markdown",
   "id": "2ad14642",
   "metadata": {},
   "source": [
    "### 릿지 회귀"
   ]
  },
  {
   "cell_type": "markdown",
   "id": "03200d19",
   "metadata": {},
   "source": [
    "- 8:2로 분할하고 릿지회귀 적용\n",
    "- alpha값을 0부터 1까지 0.1단위로 모두 탐색해서 결정계수가 가장 높을 때의 알파값을 찾음\n",
    "- 해당 알파로 다시 모델을 학습 : 결정계수와 rmse를 계산"
   ]
  },
  {
   "cell_type": "code",
   "execution_count": 13,
   "id": "a700c557",
   "metadata": {},
   "outputs": [
    {
     "data": {
      "text/plain": [
       "{'alpha': 0.1}"
      ]
     },
     "execution_count": 13,
     "metadata": {},
     "output_type": "execute_result"
    }
   ],
   "source": [
    "alpha=np.arange(0, 1.1, 0.1)\n",
    "ridge=Ridge(normalize=True)\n",
    "param_grid={'alpha':alpha}\n",
    "ridge_model=GridSearchCV(ridge, param_grid)\n",
    "ridge_model.fit(X_train, y_train)\n",
    "ridge_model.best_params_"
   ]
  },
  {
   "cell_type": "code",
   "execution_count": 14,
   "id": "3a104c08",
   "metadata": {},
   "outputs": [
    {
     "name": "stdout",
     "output_type": "stream",
     "text": [
      "0.7356090234954484\n",
      "4.6399293657141945\n"
     ]
    }
   ],
   "source": [
    "ridge=Ridge(alpha=0.1, normalize=True)\n",
    "ridge.fit(X_train, y_train)\n",
    "print(ridge.score(X_test, y_test))\n",
    "print(np.sqrt(mean_squared_error(y_test, ridge.predict(X_test))))"
   ]
  },
  {
   "cell_type": "markdown",
   "id": "f83121ce",
   "metadata": {},
   "source": [
    "### 랏소 회귀"
   ]
  },
  {
   "cell_type": "markdown",
   "id": "62900559",
   "metadata": {},
   "source": [
    "- 8:2로 분할하고 라쏘 회귀 적용\n",
    "- alpha값을 0부터 1까지 0.1단위로 모두 탐색해서 결정계수가 가장 높을 때의 알파값을 찾음\n",
    "- 해당 알파로 다시 모델을 학습 : 결정계수와 rmse를 계산"
   ]
  },
  {
   "cell_type": "code",
   "execution_count": 15,
   "id": "06813384",
   "metadata": {},
   "outputs": [
    {
     "name": "stdout",
     "output_type": "stream",
     "text": [
      "{'alpha': 0.0}\n"
     ]
    }
   ],
   "source": [
    "lasso=Lasso(normalize=True)\n",
    "param_grid={'alpha':alpha}\n",
    "lasso_model=GridSearchCV(lasso, param_grid)\n",
    "lasso_model.fit(X_train, y_train)\n",
    "print(lasso_model.best_params_)"
   ]
  },
  {
   "cell_type": "code",
   "execution_count": 16,
   "id": "d6a439a3",
   "metadata": {},
   "outputs": [
    {
     "name": "stdout",
     "output_type": "stream",
     "text": [
      "0.6901880385280231\n",
      "5.022698918446969\n"
     ]
    }
   ],
   "source": [
    "lasso=Lasso(alpha=0, normalize=True)\n",
    "lasso.fit(X_train, y_train)\n",
    "print(lasso.score(X_test, y_test))\n",
    "print(np.sqrt(mean_squared_error(y_test, lasso.predict(X_test))))"
   ]
  },
  {
   "cell_type": "markdown",
   "id": "fa0185a1",
   "metadata": {},
   "source": [
    "해당 데이터에서는 Ridge회귀의 예측력이 더 좋은 것을 알 수 있다"
   ]
  }
 ],
 "metadata": {
  "kernelspec": {
   "display_name": "Python 3 (ipykernel)",
   "language": "python",
   "name": "python3"
  },
  "language_info": {
   "codemirror_mode": {
    "name": "ipython",
    "version": 3
   },
   "file_extension": ".py",
   "mimetype": "text/x-python",
   "name": "python",
   "nbconvert_exporter": "python",
   "pygments_lexer": "ipython3",
   "version": "3.8.5"
  }
 },
 "nbformat": 4,
 "nbformat_minor": 5
}
