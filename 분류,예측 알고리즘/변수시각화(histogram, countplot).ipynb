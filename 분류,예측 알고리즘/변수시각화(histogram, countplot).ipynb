{
 "cells": [
  {
   "cell_type": "code",
   "execution_count": null,
   "id": "2c306642",
   "metadata": {},
   "outputs": [],
   "source": [
    "import matplotlib.pyplot as plt\n",
    "plt.style.use('ggplot')\n",
    "plt.figure(figsize=(25,20))\n",
    "plt.suptitle(\"data Histogram\", fontsize=40)\n",
    "\n",
    "cols=df.columns\n",
    "for i in range(len(cols)):\n",
    "    plt.subplot(5,6,i+1)\n",
    "    plt.title(cols[i])\n",
    "    if len(df[cols[i]].unique())>10:\n",
    "        plt.hist(df[cols[i]], bins=20, color='b', alpha=0.7)\n",
    "        \n",
    "    else:\n",
    "        temp=df[cols[i]].value_counts()\n",
    "        plt.bar(temp.keys(), temp.values, width=0.5, alpha=0.7)\n",
    "        plt.xticks(temp.keys())\n",
    "        \n",
    "plt.tight_layout(rect=[0, 0.03, 1, 0.95])\n",
    "plt.show()"
   ]
  }
 ],
 "metadata": {
  "kernelspec": {
   "display_name": "Python 3 (ipykernel)",
   "language": "python",
   "name": "python3"
  },
  "language_info": {
   "codemirror_mode": {
    "name": "ipython",
    "version": 3
   },
   "file_extension": ".py",
   "mimetype": "text/x-python",
   "name": "python",
   "nbconvert_exporter": "python",
   "pygments_lexer": "ipython3",
   "version": "3.8.5"
  }
 },
 "nbformat": 4,
 "nbformat_minor": 5
}
