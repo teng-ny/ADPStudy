{
 "cells": [
  {
   "cell_type": "markdown",
   "id": "caa65c38",
   "metadata": {},
   "source": [
    "### ARIMA 예측모형 생성\n",
    "- trend : constatnt를 가지고 있는지 c:constant/nc:no constant\n",
    "- disp : 수렴정보를 나타냄"
   ]
  },
  {
   "cell_type": "code",
   "execution_count": 22,
   "id": "1fde1b81",
   "metadata": {},
   "outputs": [
    {
     "data": {
      "text/html": [
       "<div>\n",
       "<style scoped>\n",
       "    .dataframe tbody tr th:only-of-type {\n",
       "        vertical-align: middle;\n",
       "    }\n",
       "\n",
       "    .dataframe tbody tr th {\n",
       "        vertical-align: top;\n",
       "    }\n",
       "\n",
       "    .dataframe thead th {\n",
       "        text-align: right;\n",
       "    }\n",
       "</style>\n",
       "<table border=\"1\" class=\"dataframe\">\n",
       "  <thead>\n",
       "    <tr style=\"text-align: right;\">\n",
       "      <th></th>\n",
       "      <th>price</th>\n",
       "    </tr>\n",
       "    <tr>\n",
       "      <th>day</th>\n",
       "      <th></th>\n",
       "    </tr>\n",
       "  </thead>\n",
       "  <tbody>\n",
       "    <tr>\n",
       "      <th>2021-08-30</th>\n",
       "      <td>48806.78</td>\n",
       "    </tr>\n",
       "    <tr>\n",
       "      <th>2021-08-31</th>\n",
       "      <td>47074.77</td>\n",
       "    </tr>\n",
       "    <tr>\n",
       "      <th>2021-09-01</th>\n",
       "      <td>47155.87</td>\n",
       "    </tr>\n",
       "    <tr>\n",
       "      <th>2021-09-02</th>\n",
       "      <td>48862.76</td>\n",
       "    </tr>\n",
       "    <tr>\n",
       "      <th>2021-09-03</th>\n",
       "      <td>49329.01</td>\n",
       "    </tr>\n",
       "  </tbody>\n",
       "</table>\n",
       "</div>"
      ],
      "text/plain": [
       "               price\n",
       "day                 \n",
       "2021-08-30  48806.78\n",
       "2021-08-31  47074.77\n",
       "2021-09-01  47155.87\n",
       "2021-09-02  48862.76\n",
       "2021-09-03  49329.01"
      ]
     },
     "execution_count": 22,
     "metadata": {},
     "output_type": "execute_result"
    }
   ],
   "source": [
    "import warnings\n",
    "warnings.filterwarnings('ignore')\n",
    "warnings.filterwarnings(action='ignore')\n",
    "\n",
    "import pandas as pd\n",
    "import matplotlib.pyplot as plt\n",
    "\n",
    "series=pd.read_csv(\"market-price.csv\", header=0, names=['day', 'price'])\n",
    "\n",
    "#str->datetime\n",
    "series['day']=pd.to_datetime(series['day'])\n",
    "#index로 설정\n",
    "series.index=series['day']\n",
    "series.set_index('day', inplace=True)\n",
    "\n",
    "series.head()"
   ]
  },
  {
   "cell_type": "code",
   "execution_count": 23,
   "id": "617ed086",
   "metadata": {},
   "outputs": [
    {
     "name": "stdout",
     "output_type": "stream",
     "text": [
      "                             ARIMA Model Results                              \n",
      "==============================================================================\n",
      "Dep. Variable:                D.price   No. Observations:                  365\n",
      "Model:                 ARIMA(0, 1, 1)   Log Likelihood               -3175.080\n",
      "Method:                       css-mle   S.D. of innovations           1450.859\n",
      "Date:                Tue, 15 Nov 2022   AIC                           6356.161\n",
      "Time:                        17:28:15   BIC                           6367.861\n",
      "Sample:                    08-31-2021   HQIC                          6360.810\n",
      "                         - 08-30-2022                                         \n",
      "=================================================================================\n",
      "                    coef    std err          z      P>|z|      [0.025      0.975]\n",
      "---------------------------------------------------------------------------------\n",
      "const           -78.1270     77.814     -1.004      0.315    -230.641      74.386\n",
      "ma.L1.D.price     0.0247      0.060      0.414      0.679      -0.092       0.142\n",
      "                                    Roots                                    \n",
      "=============================================================================\n",
      "                  Real          Imaginary           Modulus         Frequency\n",
      "-----------------------------------------------------------------------------\n",
      "MA.1          -40.4365           +0.0000j           40.4365            0.5000\n",
      "-----------------------------------------------------------------------------\n"
     ]
    }
   ],
   "source": [
    "from statsmodels.tsa.arima_model import ARIMA\n",
    "\n",
    "#AR=0, 차분=1, MA=1\n",
    "model=ARIMA(series, order=(0,1,1))\n",
    "\n",
    "#trend='c'로 설정\n",
    "model_fit=model.fit(trend='c', full_output=True, disp=1)\n",
    "#model_fit=model.fit(trend='nc', full_output=True, disp=1)\n",
    "print(model_fit.summary())"
   ]
  },
  {
   "cell_type": "markdown",
   "id": "9dfaa9f6",
   "metadata": {},
   "source": [
    "constant의 p-value 0.05 이상이라면, model.fit() 파라미터 중 trned='c'가 아니라 'nc'로 설정해주어야 하는 것이 옳다. 즉 시계열 모형에 상수 값이 필요하지 않다는 것을 의미한다. \n",
    "\n",
    "여기서는 const가 아닌 그래프 상에서는 필요하지 않았지만 임의로 추가하였던 MA1이 귀무가설 채택 상태이므로 이를 제외하고 다시 모형을 만들었다."
   ]
  },
  {
   "cell_type": "code",
   "execution_count": 28,
   "id": "f4f5a912",
   "metadata": {},
   "outputs": [
    {
     "name": "stdout",
     "output_type": "stream",
     "text": [
      "                             ARIMA Model Results                              \n",
      "==============================================================================\n",
      "Dep. Variable:                D.price   No. Observations:                  365\n",
      "Model:                 ARIMA(0, 1, 0)   Log Likelihood               -3175.166\n",
      "Method:                           css   S.D. of innovations           1451.202\n",
      "Date:                Tue, 15 Nov 2022   AIC                           6354.333\n",
      "Time:                        17:31:51   BIC                           6362.132\n",
      "Sample:                    08-31-2021   HQIC                          6357.432\n",
      "                         - 08-30-2022                                         \n",
      "==============================================================================\n",
      "                 coef    std err          z      P>|z|      [0.025      0.975]\n",
      "------------------------------------------------------------------------------\n",
      "const        -78.1270     75.959     -1.029      0.304    -227.005      70.751\n",
      "==============================================================================\n"
     ]
    }
   ],
   "source": [
    "model = ARIMA(series, order=(0,1,0))\n",
    "model_fit = model.fit(trend='c',full_output=True, disp=1)\n",
    "print(model_fit.summary())"
   ]
  },
  {
   "cell_type": "markdown",
   "id": "4515377a",
   "metadata": {},
   "source": [
    "MA1이 추가된 모형보다 그냥 차분만 하고 ARMIA(0,1,0)을 한 모형이 AIC, BIC 값이 더 작다. const에 대한 pvalue도 기각상태이므로 해당 변수가 유의하다는 뜻이다."
   ]
  },
  {
   "cell_type": "code",
   "execution_count": 25,
   "id": "e6f55d1b",
   "metadata": {},
   "outputs": [
    {
     "data": {
      "text/html": [
       "<div>\n",
       "<style scoped>\n",
       "    .dataframe tbody tr th:only-of-type {\n",
       "        vertical-align: middle;\n",
       "    }\n",
       "\n",
       "    .dataframe tbody tr th {\n",
       "        vertical-align: top;\n",
       "    }\n",
       "\n",
       "    .dataframe thead th {\n",
       "        text-align: right;\n",
       "    }\n",
       "</style>\n",
       "<table border=\"1\" class=\"dataframe\">\n",
       "  <thead>\n",
       "    <tr style=\"text-align: right;\">\n",
       "      <th></th>\n",
       "      <th>order</th>\n",
       "      <th>AIC</th>\n",
       "    </tr>\n",
       "  </thead>\n",
       "  <tbody>\n",
       "    <tr>\n",
       "      <th>2</th>\n",
       "      <td>p0 d1 q0</td>\n",
       "      <td>6354.332523</td>\n",
       "    </tr>\n",
       "    <tr>\n",
       "      <th>3</th>\n",
       "      <td>p0 d1 q1</td>\n",
       "      <td>6356.160847</td>\n",
       "    </tr>\n",
       "    <tr>\n",
       "      <th>6</th>\n",
       "      <td>p1 d1 q0</td>\n",
       "      <td>6356.200218</td>\n",
       "    </tr>\n",
       "    <tr>\n",
       "      <th>7</th>\n",
       "      <td>p1 d1 q1</td>\n",
       "      <td>6356.498952</td>\n",
       "    </tr>\n",
       "    <tr>\n",
       "      <th>4</th>\n",
       "      <td>p1 d0 q0</td>\n",
       "      <td>6378.356275</td>\n",
       "    </tr>\n",
       "    <tr>\n",
       "      <th>5</th>\n",
       "      <td>p1 d0 q1</td>\n",
       "      <td>6380.062378</td>\n",
       "    </tr>\n",
       "    <tr>\n",
       "      <th>1</th>\n",
       "      <td>p0 d0 q1</td>\n",
       "      <td>7508.036915</td>\n",
       "    </tr>\n",
       "    <tr>\n",
       "      <th>0</th>\n",
       "      <td>p0 d0 q0</td>\n",
       "      <td>7963.308610</td>\n",
       "    </tr>\n",
       "  </tbody>\n",
       "</table>\n",
       "</div>"
      ],
      "text/plain": [
       "      order          AIC\n",
       "2  p0 d1 q0  6354.332523\n",
       "3  p0 d1 q1  6356.160847\n",
       "6  p1 d1 q0  6356.200218\n",
       "7  p1 d1 q1  6356.498952\n",
       "4  p1 d0 q0  6378.356275\n",
       "5  p1 d0 q1  6380.062378\n",
       "1  p0 d0 q1  7508.036915\n",
       "0  p0 d0 q0  7963.308610"
      ]
     },
     "execution_count": 25,
     "metadata": {},
     "output_type": "execute_result"
    }
   ],
   "source": [
    "def my_auto_arima(data, order, sort='AIC'):\n",
    "    order_list = []\n",
    "    aic_list = []\n",
    "    bic_lsit = []\n",
    "\n",
    "    for p in range(order[0]):\n",
    "        for d in range(order[1]):\n",
    "            for q in range(order[2]):\n",
    "                model = ARIMA(data, order=(p, d, q))\n",
    "\n",
    "                try:\n",
    "                    model_fit = model.fit()\n",
    "                    c_order = f'p{p} d{d} q{q}'\n",
    "                    aic = model_fit.aic\n",
    "                    bic = model_fit.bic\n",
    "                    order_list.append(c_order)\n",
    "                    aic_list.append(aic)\n",
    "                    bic_list.append(bic)\n",
    "                except:\n",
    "                    pass\n",
    "\n",
    "                result_df = pd.DataFrame(list(zip(order_list, aic_list)),\n",
    "                                         columns=['order', 'AIC'])\n",
    "                result_df.sort_values(sort, inplace=True)\n",
    "\n",
    "    return result_df\n",
    "\n",
    "\n",
    "my_auto_arima(series, [2, 2, 2])"
   ]
  },
  {
   "cell_type": "markdown",
   "id": "53876585",
   "metadata": {},
   "source": [
    "최적의 모형은 차분만하고 AR, MA는 안 한 모형으로 나옴"
   ]
  },
  {
   "cell_type": "markdown",
   "id": "4915ab02",
   "metadata": {},
   "source": [
    "### forecast"
   ]
  },
  {
   "cell_type": "markdown",
   "id": "f79ce315",
   "metadata": {},
   "source": [
    "기존 날짜의 예측값과 실제 값을 비교해서 시각화하고 forecast로 그 이후에 몇일까지를 예측할 것인지 지정해주면 실제 예측값이 나옴"
   ]
  },
  {
   "cell_type": "code",
   "execution_count": 26,
   "id": "8a692587",
   "metadata": {},
   "outputs": [
    {
     "data": {
      "image/png": "[encoded data removed]",
      "text/plain": [
       "<Figure size 432x288 with 1 Axes>"
      ]
     },
     "metadata": {
      "needs_background": "light"
     },
     "output_type": "display_data"
    }
   ],
   "source": [
    "#모형을 통해 예측된 값 확인\n",
    "model_fit.plot_predict()\n",
    "plt.show()\n",
    "\n",
    "#앞으로의 값을 예측(forecast method)\n",
    "#steps는 예측할 개수를 의미"
   ]
  },
  {
   "cell_type": "code",
   "execution_count": 29,
   "id": "b9217626",
   "metadata": {},
   "outputs": [
    {
     "name": "stdout",
     "output_type": "stream",
     "text": [
      "(array([20212.2829589 , 20134.15591781, 20056.02887671, 19977.90183562,\n",
      "       19899.77479452]), array([1451.20150206, 2052.30884595, 2513.55473358, 2902.40300412,\n",
      "       3244.98520765]), array([[17367.98028056, 23056.58563725],\n",
      "       [16111.7044946 , 24156.60734102],\n",
      "       [15129.55212572, 24982.50562771],\n",
      "       [14289.29647893, 25666.5071923 ],\n",
      "       [13539.72065716, 26259.82893188]]))\n"
     ]
    }
   ],
   "source": [
    "fore = model_fit.forecast(steps=5)\n",
    "print(fore)"
   ]
  },
  {
   "cell_type": "markdown",
   "id": "53229fed",
   "metadata": {},
   "source": [
    "코드의 결과는 순서대로 예측값, stderr, upper bound, lower bound이다."
   ]
  },
  {
   "cell_type": "code",
   "execution_count": 30,
   "id": "4125cf4f",
   "metadata": {},
   "outputs": [
    {
     "data": {
      "text/html": [
       "<div>\n",
       "<style scoped>\n",
       "    .dataframe tbody tr th:only-of-type {\n",
       "        vertical-align: middle;\n",
       "    }\n",
       "\n",
       "    .dataframe tbody tr th {\n",
       "        vertical-align: top;\n",
       "    }\n",
       "\n",
       "    .dataframe thead th {\n",
       "        text-align: right;\n",
       "    }\n",
       "</style>\n",
       "<table border=\"1\" class=\"dataframe\">\n",
       "  <thead>\n",
       "    <tr style=\"text-align: right;\">\n",
       "      <th></th>\n",
       "      <th>price</th>\n",
       "    </tr>\n",
       "    <tr>\n",
       "      <th>day</th>\n",
       "      <th></th>\n",
       "    </tr>\n",
       "  </thead>\n",
       "  <tbody>\n",
       "    <tr>\n",
       "      <th>2022-08-26</th>\n",
       "      <td>21597.93</td>\n",
       "    </tr>\n",
       "    <tr>\n",
       "      <th>2022-08-27</th>\n",
       "      <td>20233.32</td>\n",
       "    </tr>\n",
       "    <tr>\n",
       "      <th>2022-08-28</th>\n",
       "      <td>20035.59</td>\n",
       "    </tr>\n",
       "    <tr>\n",
       "      <th>2022-08-29</th>\n",
       "      <td>19550.07</td>\n",
       "    </tr>\n",
       "    <tr>\n",
       "      <th>2022-08-30</th>\n",
       "      <td>20290.41</td>\n",
       "    </tr>\n",
       "  </tbody>\n",
       "</table>\n",
       "</div>"
      ],
      "text/plain": [
       "               price\n",
       "day                 \n",
       "2022-08-26  21597.93\n",
       "2022-08-27  20233.32\n",
       "2022-08-28  20035.59\n",
       "2022-08-29  19550.07\n",
       "2022-08-30  20290.41"
      ]
     },
     "execution_count": 30,
     "metadata": {},
     "output_type": "execute_result"
    }
   ],
   "source": [
    "series.tail()"
   ]
  },
  {
   "cell_type": "markdown",
   "id": "297360fd",
   "metadata": {},
   "source": [
    "학습에 쓰인 데이터가 2022년 8월30일까지의 데이터이므로 \n",
    "\n",
    "ARIMA 모형은 8/31(20212), 9/1(20134), 9/2(20056), 9/3(19977), 9/4(19899)로 비트코인 가격을 예측하였다."
   ]
  }
 ],
 "metadata": {
  "kernelspec": {
   "display_name": "Python 3 (ipykernel)",
   "language": "python",
   "name": "python3"
  },
  "language_info": {
   "codemirror_mode": {
    "name": "ipython",
    "version": 3
   },
   "file_extension": ".py",
   "mimetype": "text/x-python",
   "name": "python",
   "nbconvert_exporter": "python",
   "pygments_lexer": "ipython3",
   "version": "3.8.5"
  }
 },
 "nbformat": 4,
 "nbformat_minor": 5
}
