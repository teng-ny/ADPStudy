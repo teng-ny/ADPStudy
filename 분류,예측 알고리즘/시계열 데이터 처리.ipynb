{
 "cells": [
  {
   "cell_type": "code",
   "execution_count": 1,
   "id": "881a09f4",
   "metadata": {},
   "outputs": [],
   "source": [
    "from datetime import datetime"
   ]
  },
  {
   "cell_type": "markdown",
   "id": "8d9e4215",
   "metadata": {},
   "source": [
    "- %y : 년(OO), %Y : 년(0000)\n",
    "- %m : 월(숫자)\n",
    "- %d : 일(숫자)\n",
    "\n",
    "- %H : 시간\n",
    "- %M : 분\n",
    "- %S : 초\n",
    "- %b : 월(Short) #영어로 된 월 문자열, %B : 월(Full) #영어로 된 문자열\n",
    "- %D : 월/일/년\n",
    "- %a : 요일 #영어로 된 요일 문자열, %A : 요일(Full) \n",
    "- weekday : 월요일이0, 일요일이 6 -> weekday+1로 출력(1~7)"
   ]
  },
  {
   "cell_type": "markdown",
   "id": "28231dd4",
   "metadata": {},
   "source": [
    "* 날짜(2020-01-01)->요일(Sunday~Saeturday)로 변환\n",
    "data['day']=data['datetime'].dt.day_name()"
   ]
  },
  {
   "cell_type": "markdown",
   "id": "2806c54b",
   "metadata": {},
   "source": [
    "* 타임스템프로 변환\n",
    "\\\n",
    "data['timestamp']=pd.to_datetime(data['num'], unit='D', origin=pd.Timestamp('1960-01-01'))"
   ]
  },
  {
   "cell_type": "markdown",
   "id": "9f1af9f0",
   "metadata": {},
   "source": [
    "* datetime->str로 바꿀때 년/월/일 표현\\\n",
    "q.loc[:, 'date']=q['time'].dt.strftime('%Y-%m-%d')"
   ]
  },
  {
   "cell_type": "code",
   "execution_count": 5,
   "id": "3906bbe7",
   "metadata": {},
   "outputs": [
    {
     "data": {
      "text/plain": [
       "(1, datetime.date(2022, 11, 15), datetime.time(12, 6, 23, 155386))"
      ]
     },
     "execution_count": 5,
     "metadata": {},
     "output_type": "execute_result"
    }
   ],
   "source": [
    "import time\n",
    "from datetime import datetime, date, timedelta\n",
    "\n",
    "#월=0, 일=6\n",
    "#오늘은 화요일이니까 1\n",
    "datetime.now().weekday(), datetime.now().date(), datetime.now().time()"
   ]
  },
  {
   "cell_type": "code",
   "execution_count": 4,
   "id": "12e33f8d",
   "metadata": {},
   "outputs": [
    {
     "data": {
      "text/plain": [
       "(datetime.timedelta(days=5, seconds=63000),\n",
       " datetime.timedelta(days=7),\n",
       " datetime.date(2022, 11, 15),\n",
       " datetime.date(2022, 11, 22))"
      ]
     },
     "execution_count": 4,
     "metadata": {},
     "output_type": "execute_result"
    }
   ],
   "source": [
    "week=timedelta(weeks=1)\n",
    "next_week=date.today() + week\n",
    "timedelta(days=5, hours=17, minutes=30), week, date.today(), next_week"
   ]
  },
  {
   "cell_type": "markdown",
   "id": "af15d62c",
   "metadata": {},
   "source": [
    "### 시간데이터 타입 변환"
   ]
  },
  {
   "cell_type": "markdown",
   "id": "1d48ca51",
   "metadata": {},
   "source": [
    "- str로 변환 (timestamp->datetime->str)"
   ]
  },
  {
   "cell_type": "code",
   "execution_count": 7,
   "id": "66958fc4",
   "metadata": {},
   "outputs": [
    {
     "data": {
      "text/plain": [
       "(1668483689.1461957, float, '1668483689.1461957', str)"
      ]
     },
     "execution_count": 7,
     "metadata": {},
     "output_type": "execute_result"
    }
   ],
   "source": [
    "timestamp1=time.time()\n",
    "timestamp_to_str=str(timestamp1)\n",
    "timestamp1, type(timestamp1), timestamp_to_str, type(timestamp_to_str)"
   ]
  },
  {
   "cell_type": "markdown",
   "id": "4062d86f",
   "metadata": {},
   "source": [
    "timestamp에 str을 하면 단순히 숫자에 문자가 들어가는 것으로 끝남"
   ]
  },
  {
   "cell_type": "markdown",
   "id": "ef59ab2a",
   "metadata": {},
   "source": [
    "-> datetime에 strftime을 이용하여 원하는 형태를 넣어주면 원하는 str타입의 형태로 반환"
   ]
  },
  {
   "cell_type": "code",
   "execution_count": 9,
   "id": "1f2323a2",
   "metadata": {},
   "outputs": [
    {
     "data": {
      "text/plain": [
       "(datetime.datetime(2022, 11, 15, 12, 45, 53, 612030),\n",
       " datetime.datetime,\n",
       " '2022-11-15 12:45:53',\n",
       " str)"
      ]
     },
     "execution_count": 9,
     "metadata": {},
     "output_type": "execute_result"
    }
   ],
   "source": [
    "datetime_to_str=datetime.now().strftime(\"%Y-%m-%d %H:%M:%S)\n",
    "datetime.now(), type(datetime.now()), datetime_to_str, type(datetime_to_str)"
   ]
  },
  {
   "cell_type": "markdown",
   "id": "bf274e9b",
   "metadata": {},
   "source": [
    "- timestamp로 변환 \\\n",
    "(str->{strftime}->datetime->{timetuple(), time.mktime()}->timestamp"
   ]
  },
  {
   "cell_type": "code",
   "execution_count": 13,
   "id": "621ce9bb",
   "metadata": {},
   "outputs": [
    {
     "data": {
      "text/plain": [
       "('2018-05-16 12:00:00',\n",
       " str,\n",
       " datetime.datetime(2018, 5, 16, 12, 0),\n",
       " datetime.datetime,\n",
       " 1526439600.0,\n",
       " float)"
      ]
     },
     "execution_count": 13,
     "metadata": {},
     "output_type": "execute_result"
    }
   ],
   "source": [
    "str1='2018-05-16 12:00:00' #str\n",
    "str_to_datetime=datetime.strptime(str1, \"%Y-%m-%d %H:%M:%S\")\n",
    "datetime_to_timestamp=time.mktime(str_to_datetime.timetuple())\n",
    "str1, type(str1), str_to_datetime, type(str_to_datetime), datetime_to_timestamp, type(datetime_to_timestamp)"
   ]
  },
  {
   "cell_type": "markdown",
   "id": "0f65f9cf",
   "metadata": {},
   "source": [
    "- datetime로 변환"
   ]
  },
  {
   "cell_type": "code",
   "execution_count": 14,
   "id": "e7d87581",
   "metadata": {},
   "outputs": [
    {
     "data": {
      "text/plain": [
       "('2018-05-16 12:00:00',\n",
       " str,\n",
       " datetime.datetime(2018, 5, 16, 12, 0),\n",
       " datetime.datetime)"
      ]
     },
     "execution_count": 14,
     "metadata": {},
     "output_type": "execute_result"
    }
   ],
   "source": [
    "str1=\"2018-05-16 12:00:00\"\n",
    "#str->datetime\n",
    "str_to_datetime=datetime.strptime(str1, \"%Y-%m-%d %H:%M:%S\")\n",
    "str1, type(str1), str_to_datetime, type(str_to_datetime)"
   ]
  },
  {
   "cell_type": "code",
   "execution_count": 15,
   "id": "776cdad9",
   "metadata": {},
   "outputs": [
    {
     "data": {
      "text/plain": [
       "(1668487612.3556237,\n",
       " float,\n",
       " datetime.datetime(2022, 11, 15, 13, 46, 52, 355624),\n",
       " datetime.datetime)"
      ]
     },
     "execution_count": 15,
     "metadata": {},
     "output_type": "execute_result"
    }
   ],
   "source": [
    "#timestamp->datetime\n",
    "timestamp_to_datetime=datetime.fromtimestamp(time.time())\n",
    "time.time(), type(time.time()), timestamp_to_datetime, type(timestamp_to_datetime)"
   ]
  },
  {
   "cell_type": "markdown",
   "id": "531c6735",
   "metadata": {},
   "source": [
    "### pandas패키지 이용"
   ]
  },
  {
   "cell_type": "code",
   "execution_count": 16,
   "id": "2d05aeba",
   "metadata": {},
   "outputs": [
    {
     "data": {
      "text/plain": [
       "(Timestamp('2019-12-22 13:30:59'), pandas._libs.tslibs.timestamps.Timestamp)"
      ]
     },
     "execution_count": 16,
     "metadata": {},
     "output_type": "execute_result"
    }
   ],
   "source": [
    "import pandas as pd\n",
    "pd_ts=pd.Timestamp(2019, 12,22,13,30,59)\n",
    "\n",
    "pd_ts, type(pd_ts)"
   ]
  },
  {
   "cell_type": "code",
   "execution_count": 17,
   "id": "ee3e5765",
   "metadata": {},
   "outputs": [
    {
     "data": {
      "text/plain": [
       "(1577021459.0, datetime.date(2019, 12, 22), datetime.time(13, 30, 59))"
      ]
     },
     "execution_count": 17,
     "metadata": {},
     "output_type": "execute_result"
    }
   ],
   "source": [
    "pd_ts.timestamp(), pd_ts.date(), pd_ts.time()"
   ]
  },
  {
   "cell_type": "code",
   "execution_count": 18,
   "id": "8e7773f5",
   "metadata": {},
   "outputs": [
    {
     "data": {
      "text/plain": [
       "('2019-12-22 13:30:59', str)"
      ]
     },
     "execution_count": 18,
     "metadata": {},
     "output_type": "execute_result"
    }
   ],
   "source": [
    "pd_ts.strftime(\"%Y-%m-%d %H:%M:%S\"), type(pd_ts.strftime(\"%Y-%m-%d %H:%M:%S\"))"
   ]
  },
  {
   "cell_type": "code",
   "execution_count": 22,
   "id": "8e8991cf",
   "metadata": {},
   "outputs": [
    {
     "data": {
      "text/plain": [
       "(Timestamp('2022-11-15 14:18:17.911970'),\n",
       " Timestamp('2022-11-15 14:18:17.911970'),\n",
       " pandas._libs.tslibs.timestamps.Timestamp)"
      ]
     },
     "execution_count": 22,
     "metadata": {},
     "output_type": "execute_result"
    }
   ],
   "source": [
    "pd.Timestamp.now(), pd.Timestamp.today(), type(pd.Timestamp.today())"
   ]
  },
  {
   "cell_type": "code",
   "execution_count": 23,
   "id": "56d8f47e",
   "metadata": {},
   "outputs": [
    {
     "data": {
      "text/plain": [
       "('2020-03-02 00:00:00',\n",
       " str,\n",
       " Timestamp('2020-03-02 00:00:00'),\n",
       " pandas._libs.tslibs.timestamps.Timestamp)"
      ]
     },
     "execution_count": 23,
     "metadata": {},
     "output_type": "execute_result"
    }
   ],
   "source": [
    "t1='2020-03-02 00:00:00'\n",
    "t2=pd.to_datetime(t1)\n",
    "t1, type(t1), t2, type(t2)"
   ]
  }
 ],
 "metadata": {
  "kernelspec": {
   "display_name": "Python 3 (ipykernel)",
   "language": "python",
   "name": "python3"
  },
  "language_info": {
   "codemirror_mode": {
    "name": "ipython",
    "version": 3
   },
   "file_extension": ".py",
   "mimetype": "text/x-python",
   "name": "python",
   "nbconvert_exporter": "python",
   "pygments_lexer": "ipython3",
   "version": "3.8.5"
  }
 },
 "nbformat": 4,
 "nbformat_minor": 5
}
