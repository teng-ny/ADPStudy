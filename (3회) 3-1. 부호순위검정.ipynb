{
 "cells": [
  {
   "cell_type": "markdown",
   "id": "d4a25df0",
   "metadata": {},
   "source": [
    "공장에서는 시제품의 농도가 60%라고 주장하며 품질관리팀에서 10개의 샘플을 뽑았다. 유의수준 5%에서 다음을 검정하시오."
   ]
  },
  {
   "cell_type": "markdown",
   "id": "2dc4a689",
   "metadata": {},
   "source": [
    "(1) 귀무가설, 대립가설을 작성하시오"
   ]
  },
  {
   "cell_type": "code",
   "execution_count": 1,
   "id": "7564e611",
   "metadata": {},
   "outputs": [
    {
     "data": {
      "text/html": [
       "<div>\n",
       "<style scoped>\n",
       "    .dataframe tbody tr th:only-of-type {\n",
       "        vertical-align: middle;\n",
       "    }\n",
       "\n",
       "    .dataframe tbody tr th {\n",
       "        vertical-align: top;\n",
       "    }\n",
       "\n",
       "    .dataframe thead th {\n",
       "        text-align: right;\n",
       "    }\n",
       "</style>\n",
       "<table border=\"1\" class=\"dataframe\">\n",
       "  <thead>\n",
       "    <tr style=\"text-align: right;\">\n",
       "      <th></th>\n",
       "      <th>농도</th>\n",
       "    </tr>\n",
       "  </thead>\n",
       "  <tbody>\n",
       "    <tr>\n",
       "      <th>0</th>\n",
       "      <td>52</td>\n",
       "    </tr>\n",
       "    <tr>\n",
       "      <th>1</th>\n",
       "      <td>50</td>\n",
       "    </tr>\n",
       "    <tr>\n",
       "      <th>2</th>\n",
       "      <td>62</td>\n",
       "    </tr>\n",
       "    <tr>\n",
       "      <th>3</th>\n",
       "      <td>75</td>\n",
       "    </tr>\n",
       "    <tr>\n",
       "      <th>4</th>\n",
       "      <td>26</td>\n",
       "    </tr>\n",
       "    <tr>\n",
       "      <th>5</th>\n",
       "      <td>45</td>\n",
       "    </tr>\n",
       "    <tr>\n",
       "      <th>6</th>\n",
       "      <td>62</td>\n",
       "    </tr>\n",
       "    <tr>\n",
       "      <th>7</th>\n",
       "      <td>35</td>\n",
       "    </tr>\n",
       "    <tr>\n",
       "      <th>8</th>\n",
       "      <td>57</td>\n",
       "    </tr>\n",
       "    <tr>\n",
       "      <th>9</th>\n",
       "      <td>14</td>\n",
       "    </tr>\n",
       "  </tbody>\n",
       "</table>\n",
       "</div>"
      ],
      "text/plain": [
       "   농도\n",
       "0  52\n",
       "1  50\n",
       "2  62\n",
       "3  75\n",
       "4  26\n",
       "5  45\n",
       "6  62\n",
       "7  35\n",
       "8  57\n",
       "9  14"
      ]
     },
     "execution_count": 1,
     "metadata": {},
     "output_type": "execute_result"
    }
   ],
   "source": [
    "import pandas as pd\n",
    "import numpy as np\n",
    "data=pd.DataFrame({\"농도\":[52, 50, 62, 75, 26, 45, 62, 35, 57, 14]})\n",
    "data"
   ]
  },
  {
   "cell_type": "markdown",
   "id": "adf3f9fa",
   "metadata": {},
   "source": [
    "H0 : 시제품의 농도는 60%\n",
    "\n",
    "H1 : 시제품의 농도는 60%가 아니다."
   ]
  },
  {
   "cell_type": "markdown",
   "id": "91d850cd",
   "metadata": {},
   "source": [
    "샘플이 10이하이므로 윌콕슨 순위합 검정을 진행한다."
   ]
  },
  {
   "cell_type": "markdown",
   "id": "40b4ef50",
   "metadata": {},
   "source": [
    "(2) 유효한 샘플의 수를 계산하시오.\n",
    "\n",
    ": 중위수와 동일한 값들은 순위부호 검정에서 불필요한 데이터이다."
   ]
  },
  {
   "cell_type": "code",
   "execution_count": 8,
   "id": "6b757569",
   "metadata": {},
   "outputs": [
    {
     "data": {
      "text/plain": [
       "51.0"
      ]
     },
     "execution_count": 8,
     "metadata": {},
     "output_type": "execute_result"
    }
   ],
   "source": [
    "data['농도'].median()"
   ]
  },
  {
   "cell_type": "code",
   "execution_count": 10,
   "id": "923d27fa",
   "metadata": {},
   "outputs": [],
   "source": [
    "len(data[data['농도']==51])\n",
    "#0개임\n",
    "data_filter=data[data['농도']!=51]"
   ]
  },
  {
   "cell_type": "code",
   "execution_count": 11,
   "id": "a1b7a60e",
   "metadata": {},
   "outputs": [
    {
     "data": {
      "text/plain": [
       "WilcoxonResult(statistic=9.5, pvalue=0.064453125)"
      ]
     },
     "execution_count": 11,
     "metadata": {},
     "output_type": "execute_result"
    }
   ],
   "source": [
    "mean0=60\n",
    "stats.wilcoxon(data_filter['농도']-mean0, alternative='two-sided')"
   ]
  },
  {
   "cell_type": "markdown",
   "id": "bc4e168b",
   "metadata": {},
   "source": [
    "검정통계량은 9.5이다. p-value가 0.05보다 크기 떄문에 귀무가설을 기각할 수 없다. 즉 시제품의 농도는 60%라고 할 수 있다."
   ]
  }
 ],
 "metadata": {
  "kernelspec": {
   "display_name": "Python 3 (ipykernel)",
   "language": "python",
   "name": "python3"
  },
  "language_info": {
   "codemirror_mode": {
    "name": "ipython",
    "version": 3
   },
   "file_extension": ".py",
   "mimetype": "text/x-python",
   "name": "python",
   "nbconvert_exporter": "python",
   "pygments_lexer": "ipython3",
   "version": "3.8.5"
  }
 },
 "nbformat": 4,
 "nbformat_minor": 5
}
