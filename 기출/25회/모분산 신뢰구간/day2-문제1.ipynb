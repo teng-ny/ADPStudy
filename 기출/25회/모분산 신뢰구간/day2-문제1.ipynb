{
 "cells": [
  {
   "cell_type": "markdown",
   "id": "6f1d4589",
   "metadata": {},
   "source": [
    "1.다음은 Covid19의 TimeAge 데이터 세트이다. 연령(age)이 20대(20s)인 확진자(confirmed)의 평균과 50대(50s)인 확진자(confirmed) 평균의 차이를 구하시오."
   ]
  },
  {
   "cell_type": "markdown",
   "id": "244ec83b",
   "metadata": {},
   "source": [
    "- 데이터 불러오기"
   ]
  },
  {
   "cell_type": "code",
   "execution_count": 23,
   "id": "842da32c",
   "metadata": {},
   "outputs": [],
   "source": [
    "import pandas as pd\n",
    "data=pd.read_csv(\"TimeAge.csv\")"
   ]
  },
  {
   "cell_type": "code",
   "execution_count": 24,
   "id": "807b3633",
   "metadata": {},
   "outputs": [
    {
     "data": {
      "text/html": [
       "<div>\n",
       "<style scoped>\n",
       "    .dataframe tbody tr th:only-of-type {\n",
       "        vertical-align: middle;\n",
       "    }\n",
       "\n",
       "    .dataframe tbody tr th {\n",
       "        vertical-align: top;\n",
       "    }\n",
       "\n",
       "    .dataframe thead th {\n",
       "        text-align: right;\n",
       "    }\n",
       "</style>\n",
       "<table border=\"1\" class=\"dataframe\">\n",
       "  <thead>\n",
       "    <tr style=\"text-align: right;\">\n",
       "      <th></th>\n",
       "      <th>date</th>\n",
       "      <th>time</th>\n",
       "      <th>age</th>\n",
       "      <th>confirmed</th>\n",
       "      <th>deceased</th>\n",
       "    </tr>\n",
       "  </thead>\n",
       "  <tbody>\n",
       "    <tr>\n",
       "      <th>0</th>\n",
       "      <td>2020-03-02</td>\n",
       "      <td>0</td>\n",
       "      <td>0s</td>\n",
       "      <td>32</td>\n",
       "      <td>0</td>\n",
       "    </tr>\n",
       "    <tr>\n",
       "      <th>1</th>\n",
       "      <td>2020-03-02</td>\n",
       "      <td>0</td>\n",
       "      <td>10s</td>\n",
       "      <td>169</td>\n",
       "      <td>0</td>\n",
       "    </tr>\n",
       "    <tr>\n",
       "      <th>2</th>\n",
       "      <td>2020-03-02</td>\n",
       "      <td>0</td>\n",
       "      <td>20s</td>\n",
       "      <td>1235</td>\n",
       "      <td>0</td>\n",
       "    </tr>\n",
       "    <tr>\n",
       "      <th>3</th>\n",
       "      <td>2020-03-02</td>\n",
       "      <td>0</td>\n",
       "      <td>30s</td>\n",
       "      <td>506</td>\n",
       "      <td>1</td>\n",
       "    </tr>\n",
       "    <tr>\n",
       "      <th>4</th>\n",
       "      <td>2020-03-02</td>\n",
       "      <td>0</td>\n",
       "      <td>40s</td>\n",
       "      <td>633</td>\n",
       "      <td>1</td>\n",
       "    </tr>\n",
       "    <tr>\n",
       "      <th>...</th>\n",
       "      <td>...</td>\n",
       "      <td>...</td>\n",
       "      <td>...</td>\n",
       "      <td>...</td>\n",
       "      <td>...</td>\n",
       "    </tr>\n",
       "    <tr>\n",
       "      <th>1084</th>\n",
       "      <td>2020-06-30</td>\n",
       "      <td>0</td>\n",
       "      <td>40s</td>\n",
       "      <td>1681</td>\n",
       "      <td>3</td>\n",
       "    </tr>\n",
       "    <tr>\n",
       "      <th>1085</th>\n",
       "      <td>2020-06-30</td>\n",
       "      <td>0</td>\n",
       "      <td>50s</td>\n",
       "      <td>2286</td>\n",
       "      <td>15</td>\n",
       "    </tr>\n",
       "    <tr>\n",
       "      <th>1086</th>\n",
       "      <td>2020-06-30</td>\n",
       "      <td>0</td>\n",
       "      <td>60s</td>\n",
       "      <td>1668</td>\n",
       "      <td>41</td>\n",
       "    </tr>\n",
       "    <tr>\n",
       "      <th>1087</th>\n",
       "      <td>2020-06-30</td>\n",
       "      <td>0</td>\n",
       "      <td>70s</td>\n",
       "      <td>850</td>\n",
       "      <td>82</td>\n",
       "    </tr>\n",
       "    <tr>\n",
       "      <th>1088</th>\n",
       "      <td>2020-06-30</td>\n",
       "      <td>0</td>\n",
       "      <td>80s</td>\n",
       "      <td>556</td>\n",
       "      <td>139</td>\n",
       "    </tr>\n",
       "  </tbody>\n",
       "</table>\n",
       "<p>1089 rows × 5 columns</p>\n",
       "</div>"
      ],
      "text/plain": [
       "            date  time  age  confirmed  deceased\n",
       "0     2020-03-02     0   0s         32         0\n",
       "1     2020-03-02     0  10s        169         0\n",
       "2     2020-03-02     0  20s       1235         0\n",
       "3     2020-03-02     0  30s        506         1\n",
       "4     2020-03-02     0  40s        633         1\n",
       "...          ...   ...  ...        ...       ...\n",
       "1084  2020-06-30     0  40s       1681         3\n",
       "1085  2020-06-30     0  50s       2286        15\n",
       "1086  2020-06-30     0  60s       1668        41\n",
       "1087  2020-06-30     0  70s        850        82\n",
       "1088  2020-06-30     0  80s        556       139\n",
       "\n",
       "[1089 rows x 5 columns]"
      ]
     },
     "execution_count": 24,
     "metadata": {},
     "output_type": "execute_result"
    }
   ],
   "source": [
    "data"
   ]
  },
  {
   "cell_type": "markdown",
   "id": "e26b1ca1",
   "metadata": {},
   "source": [
    "- 10대의 confirmed 평균 계산"
   ]
  },
  {
   "cell_type": "code",
   "execution_count": 31,
   "id": "bf22f818",
   "metadata": {},
   "outputs": [],
   "source": [
    "mean_20=data[data['age']=='20s']['confirmed'].mean()"
   ]
  },
  {
   "cell_type": "code",
   "execution_count": 32,
   "id": "ccbaa2f4",
   "metadata": {},
   "outputs": [
    {
     "data": {
      "text/plain": [
       "2858.0743801652893"
      ]
     },
     "execution_count": 32,
     "metadata": {},
     "output_type": "execute_result"
    }
   ],
   "source": [
    "mean_20"
   ]
  },
  {
   "cell_type": "markdown",
   "id": "6cf19dcc",
   "metadata": {},
   "source": [
    "- 50대의 confirmed 평균 계산"
   ]
  },
  {
   "cell_type": "code",
   "execution_count": 33,
   "id": "92af3e9c",
   "metadata": {},
   "outputs": [],
   "source": [
    "mean_50=data[data['age']=='50s']['confirmed'].mean()"
   ]
  },
  {
   "cell_type": "code",
   "execution_count": 34,
   "id": "00bc3fda",
   "metadata": {},
   "outputs": [
    {
     "data": {
      "text/plain": [
       "1901.0743801652893"
      ]
     },
     "execution_count": 34,
     "metadata": {},
     "output_type": "execute_result"
    }
   ],
   "source": [
    "mean_50"
   ]
  },
  {
   "cell_type": "markdown",
   "id": "2fc9722e",
   "metadata": {},
   "source": [
    "- 평균 차이 계산"
   ]
  },
  {
   "cell_type": "code",
   "execution_count": 36,
   "id": "1a71e736",
   "metadata": {},
   "outputs": [],
   "source": [
    "result=mean_20-mean_50"
   ]
  },
  {
   "cell_type": "markdown",
   "id": "be009983",
   "metadata": {},
   "source": [
    "- 답안 제출"
   ]
  },
  {
   "cell_type": "code",
   "execution_count": 37,
   "id": "b31fd9f0",
   "metadata": {},
   "outputs": [
    {
     "name": "stdout",
     "output_type": "stream",
     "text": [
      "957.0\n"
     ]
    }
   ],
   "source": [
    "print(result)"
   ]
  }
 ],
 "metadata": {
  "kernelspec": {
   "display_name": "Python 3 (ipykernel)",
   "language": "python",
   "name": "python3"
  },
  "language_info": {
   "codemirror_mode": {
    "name": "ipython",
    "version": 3
   },
   "file_extension": ".py",
   "mimetype": "text/x-python",
   "name": "python",
   "nbconvert_exporter": "python",
   "pygments_lexer": "ipython3",
   "version": "3.9.7"
  }
 },
 "nbformat": 4,
 "nbformat_minor": 5
}
