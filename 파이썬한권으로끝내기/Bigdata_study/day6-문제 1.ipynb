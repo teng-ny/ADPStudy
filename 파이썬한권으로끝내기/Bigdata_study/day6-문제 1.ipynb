{
 "cells": [
  {
   "cell_type": "markdown",
   "id": "75de8abe",
   "metadata": {},
   "source": [
    "1. 상품 a와 b가 있을 때 다음과 같은 구매 패턴이 있다고 한다.\n",
    "['a','a','b','b','a','a','a','a','b','b','b','b','b','a','a','b','b','a','b','b']"
   ]
  },
  {
   "cell_type": "markdown",
   "id": "d98d414e",
   "metadata": {},
   "source": [
    "- 데이터 불러오기"
   ]
  },
  {
   "cell_type": "code",
   "execution_count": 1,
   "id": "90660cf2",
   "metadata": {},
   "outputs": [],
   "source": [
    "import pandas as pd\n",
    "import numpy as np"
   ]
  },
  {
   "cell_type": "code",
   "execution_count": 2,
   "id": "1c3aaff7",
   "metadata": {},
   "outputs": [],
   "source": [
    "data=pd.DataFrame({'product':['a','a','b','b','a','a','a','a','b','b','b','b','b','a','a','b','b','a','b','b']})"
   ]
  },
  {
   "cell_type": "code",
   "execution_count": 4,
   "id": "26669ed5",
   "metadata": {},
   "outputs": [
    {
     "data": {
      "text/html": [
       "<div>\n",
       "<style scoped>\n",
       "    .dataframe tbody tr th:only-of-type {\n",
       "        vertical-align: middle;\n",
       "    }\n",
       "\n",
       "    .dataframe tbody tr th {\n",
       "        vertical-align: top;\n",
       "    }\n",
       "\n",
       "    .dataframe thead th {\n",
       "        text-align: right;\n",
       "    }\n",
       "</style>\n",
       "<table border=\"1\" class=\"dataframe\">\n",
       "  <thead>\n",
       "    <tr style=\"text-align: right;\">\n",
       "      <th></th>\n",
       "      <th>product</th>\n",
       "    </tr>\n",
       "  </thead>\n",
       "  <tbody>\n",
       "    <tr>\n",
       "      <th>0</th>\n",
       "      <td>a</td>\n",
       "    </tr>\n",
       "    <tr>\n",
       "      <th>1</th>\n",
       "      <td>a</td>\n",
       "    </tr>\n",
       "    <tr>\n",
       "      <th>2</th>\n",
       "      <td>b</td>\n",
       "    </tr>\n",
       "    <tr>\n",
       "      <th>3</th>\n",
       "      <td>b</td>\n",
       "    </tr>\n",
       "    <tr>\n",
       "      <th>4</th>\n",
       "      <td>a</td>\n",
       "    </tr>\n",
       "  </tbody>\n",
       "</table>\n",
       "</div>"
      ],
      "text/plain": [
       "  product\n",
       "0       a\n",
       "1       a\n",
       "2       b\n",
       "3       b\n",
       "4       a"
      ]
     },
     "execution_count": 4,
     "metadata": {},
     "output_type": "execute_result"
    }
   ],
   "source": [
    "data.head()"
   ]
  },
  {
   "cell_type": "markdown",
   "id": "a28b3621",
   "metadata": {},
   "source": [
    "(1) 구매패턴으로 볼 때 두 상품이 연관이 있는지 가설을 세우고 검정하시오."
   ]
  },
  {
   "cell_type": "markdown",
   "id": "cccc1a87",
   "metadata": {},
   "source": [
    "H0 : 연속적인 관측값이 임의적이다(연관성 없음) / H1 : 연속적인 관측값이 임의적이 아니다(연관성 있음)"
   ]
  },
  {
   "cell_type": "code",
   "execution_count": 5,
   "id": "d06388ce",
   "metadata": {},
   "outputs": [],
   "source": [
    "#!pip install statsmodels\n",
    "from statsmodels.sandbox.stats.runs import runstest_1samp"
   ]
  },
  {
   "cell_type": "code",
   "execution_count": 6,
   "id": "716a8223",
   "metadata": {},
   "outputs": [
    {
     "data": {
      "text/plain": [
       "(-1.1144881152070183, 0.26506984027306035)"
      ]
     },
     "execution_count": 6,
     "metadata": {},
     "output_type": "execute_result"
    }
   ],
   "source": [
    "data.loc[data['product']=='a', 'product']=1\n",
    "data.loc[data['product']=='b', 'product']=0\n",
    "runstest_1samp(data['product'], cutoff=0.5, correction=True)"
   ]
  },
  {
   "cell_type": "markdown",
   "id": "57740ee4",
   "metadata": {},
   "source": [
    "p-value가 0.05보다 크므로 기각할 수 없다. 즉 상품 a와 b의 구매에는 연관이 없다고 할 수 있다."
   ]
  }
 ],
 "metadata": {
  "kernelspec": {
   "display_name": "Python 3 (ipykernel)",
   "language": "python",
   "name": "python3"
  },
  "language_info": {
   "codemirror_mode": {
    "name": "ipython",
    "version": 3
   },
   "file_extension": ".py",
   "mimetype": "text/x-python",
   "name": "python",
   "nbconvert_exporter": "python",
   "pygments_lexer": "ipython3",
   "version": "3.9.7"
  }
 },
 "nbformat": 4,
 "nbformat_minor": 5
}
