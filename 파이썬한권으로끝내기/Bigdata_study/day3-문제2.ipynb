{
 "cells": [
  {
   "cell_type": "markdown",
   "id": "73103962",
   "metadata": {},
   "source": [
    "2. 다음은 Insurance 데이터 세트이다. Charges 항목에서 이상값의 합을 구하시오(이상값은 평균에서 1.5 표준편차 이상인 값)"
   ]
  },
  {
   "cell_type": "markdown",
   "id": "88bdcb16",
   "metadata": {},
   "source": [
    "- 데이터 불러오기"
   ]
  },
  {
   "cell_type": "code",
   "execution_count": 1,
   "id": "66cb0582",
   "metadata": {},
   "outputs": [],
   "source": [
    "import pandas as pd\n",
    "data=pd.read_csv(\"insurance.csv\")"
   ]
  },
  {
   "cell_type": "code",
   "execution_count": 2,
   "id": "07eb4140",
   "metadata": {},
   "outputs": [
    {
     "name": "stdout",
     "output_type": "stream",
     "text": [
      "<class 'pandas.core.frame.DataFrame'>\n",
      "RangeIndex: 1338 entries, 0 to 1337\n",
      "Data columns (total 7 columns):\n",
      " #   Column    Non-Null Count  Dtype  \n",
      "---  ------    --------------  -----  \n",
      " 0   age       1338 non-null   int64  \n",
      " 1   sex       1338 non-null   object \n",
      " 2   bmi       1338 non-null   float64\n",
      " 3   children  1338 non-null   int64  \n",
      " 4   smoker    1338 non-null   object \n",
      " 5   region    1338 non-null   object \n",
      " 6   charges   1338 non-null   float64\n",
      "dtypes: float64(2), int64(2), object(3)\n",
      "memory usage: 73.3+ KB\n",
      "None\n"
     ]
    }
   ],
   "source": [
    "print(data.info())"
   ]
  },
  {
   "cell_type": "markdown",
   "id": "e265b0f7",
   "metadata": {},
   "source": [
    "- 평균, 표준편차 구하기"
   ]
  },
  {
   "cell_type": "code",
   "execution_count": 3,
   "id": "4d804b3d",
   "metadata": {},
   "outputs": [],
   "source": [
    "mean=data['charges'].mean()\n",
    "std=data['charges'].std()"
   ]
  },
  {
   "cell_type": "markdown",
   "id": "050a8f1a",
   "metadata": {},
   "source": [
    "- 'charges'의 이상값 주출해서 result에 저장"
   ]
  },
  {
   "cell_type": "code",
   "execution_count": 4,
   "id": "e654029f",
   "metadata": {},
   "outputs": [],
   "source": [
    "result=data.loc[(data['charges']>=mean+1.5*std), 'charges'].sum()"
   ]
  },
  {
   "cell_type": "markdown",
   "id": "8bdcdea5",
   "metadata": {},
   "source": [
    "- 답안 제출"
   ]
  },
  {
   "cell_type": "code",
   "execution_count": 5,
   "id": "2ba2ac74",
   "metadata": {},
   "outputs": [
    {
     "name": "stdout",
     "output_type": "stream",
     "text": [
      "6421430.0206699995\n"
     ]
    }
   ],
   "source": [
    "print(result)"
   ]
  }
 ],
 "metadata": {
  "kernelspec": {
   "display_name": "Python 3 (ipykernel)",
   "language": "python",
   "name": "python3"
  },
  "language_info": {
   "codemirror_mode": {
    "name": "ipython",
    "version": 3
   },
   "file_extension": ".py",
   "mimetype": "text/x-python",
   "name": "python",
   "nbconvert_exporter": "python",
   "pygments_lexer": "ipython3",
   "version": "3.9.7"
  }
 },
 "nbformat": 4,
 "nbformat_minor": 5
}
