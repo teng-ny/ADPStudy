{
 "cells": [
  {
   "cell_type": "markdown",
   "id": "1332725f",
   "metadata": {},
   "source": [
    "1. 다음은 기업에서 생성된 주문 데이터이다. 80,009건의 데이터에 대하여 정시 도착가능 여부 예측 모델을 만들고, 평가 데이터에 대하여 정시도착 가능 여부 예측확률을 기록한 csv를 생성하시오."
   ]
  },
  {
   "cell_type": "markdown",
   "id": "7eeb5a63",
   "metadata": {},
   "source": [
    "- 데이터 불러오기"
   ]
  },
  {
   "cell_type": "code",
   "execution_count": 1,
   "id": "b58e8afc",
   "metadata": {},
   "outputs": [],
   "source": [
    "import pandas as pd\n",
    "data=pd.read_csv(\"Train.csv\")"
   ]
  },
  {
   "cell_type": "code",
   "execution_count": 2,
   "id": "e73ea2f7",
   "metadata": {},
   "outputs": [
    {
     "name": "stdout",
     "output_type": "stream",
     "text": [
      "<class 'pandas.core.frame.DataFrame'>\n",
      "RangeIndex: 10999 entries, 0 to 10998\n",
      "Data columns (total 12 columns):\n",
      " #   Column               Non-Null Count  Dtype \n",
      "---  ------               --------------  ----- \n",
      " 0   ID                   10999 non-null  int64 \n",
      " 1   Warehouse_block      10999 non-null  object\n",
      " 2   Mode_of_Shipment     10999 non-null  object\n",
      " 3   Customer_care_calls  10999 non-null  int64 \n",
      " 4   Customer_rating      10999 non-null  int64 \n",
      " 5   Cost_of_the_Product  10999 non-null  int64 \n",
      " 6   Prior_purchases      10999 non-null  int64 \n",
      " 7   Product_importance   10999 non-null  object\n",
      " 8   Gender               10999 non-null  object\n",
      " 9   Discount_offered     10999 non-null  int64 \n",
      " 10  Weight_in_gms        10999 non-null  int64 \n",
      " 11  Reached.on.Time_Y.N  10999 non-null  int64 \n",
      "dtypes: int64(8), object(4)\n",
      "memory usage: 1.0+ MB\n",
      "None\n"
     ]
    }
   ],
   "source": [
    "print(data.info())"
   ]
  },
  {
   "cell_type": "markdown",
   "id": "b4758214",
   "metadata": {},
   "source": [
    "- X, y 분리"
   ]
  },
  {
   "cell_type": "code",
   "execution_count": 3,
   "id": "98721917",
   "metadata": {},
   "outputs": [],
   "source": [
    "X=data.drop('Reached.on.Time_Y.N', axis=1)\n",
    "y=data[['Reached.on.Time_Y.N']]"
   ]
  },
  {
   "cell_type": "markdown",
   "id": "5be650d5",
   "metadata": {},
   "source": [
    "- X 더미변환"
   ]
  },
  {
   "cell_type": "code",
   "execution_count": 4,
   "id": "b29fb9d5",
   "metadata": {},
   "outputs": [],
   "source": [
    "X=pd.get_dummies(X)"
   ]
  },
  {
   "cell_type": "markdown",
   "id": "88e3bc0b",
   "metadata": {},
   "source": [
    "- train/test 분리"
   ]
  },
  {
   "cell_type": "code",
   "execution_count": 5,
   "id": "43677170",
   "metadata": {},
   "outputs": [],
   "source": [
    "from sklearn.model_selection import train_test_split\n",
    "X_train, X_test, y_train, y_test=train_test_split(X, y, stratify=y, random_state=42)"
   ]
  },
  {
   "cell_type": "markdown",
   "id": "977e45ab",
   "metadata": {},
   "source": [
    "- X_train, X_test 정규화"
   ]
  },
  {
   "cell_type": "code",
   "execution_count": 6,
   "id": "8c0abbf2",
   "metadata": {},
   "outputs": [
    {
     "data": {
      "text/plain": [
       "MinMaxScaler()"
      ]
     },
     "execution_count": 6,
     "metadata": {},
     "output_type": "execute_result"
    }
   ],
   "source": [
    "# 정규화\n",
    "from sklearn.preprocessing import MinMaxScaler\n",
    "minmax=MinMaxScaler()\n",
    "minmax.fit(X_train)"
   ]
  },
  {
   "cell_type": "code",
   "execution_count": 7,
   "id": "e22010f7",
   "metadata": {},
   "outputs": [],
   "source": [
    "minmax_X_train=minmax.transform(X_train)\n",
    "minmax_X_test=minmax.transform(X_test)"
   ]
  },
  {
   "cell_type": "markdown",
   "id": "d066109b",
   "metadata": {},
   "source": [
    "- 분류 모델 생성(랜덤포레스트)"
   ]
  },
  {
   "cell_type": "code",
   "execution_count": 8,
   "id": "f61a5624",
   "metadata": {},
   "outputs": [],
   "source": [
    "from sklearn.ensemble import RandomForestClassifier\n",
    "model=RandomForestClassifier(random_state=42, n_estimators=100, max_depth=10)\n",
    "from sklearn.metrics import roc_auc_score"
   ]
  },
  {
   "cell_type": "code",
   "execution_count": 9,
   "id": "0cac5e2c",
   "metadata": {},
   "outputs": [],
   "source": [
    "model.fit(minmax_X_train, y_train.values.ravel())\n",
    "pred_train=model.predict(minmax_X_train)\n",
    "auc_train=roc_auc_score(y_train, pred_train)"
   ]
  },
  {
   "cell_type": "code",
   "execution_count": 10,
   "id": "cd46b996",
   "metadata": {},
   "outputs": [
    {
     "name": "stdout",
     "output_type": "stream",
     "text": [
      "0.8386431273462651\n"
     ]
    }
   ],
   "source": [
    "print(auc_train)"
   ]
  },
  {
   "cell_type": "markdown",
   "id": "af66b3bf",
   "metadata": {},
   "source": [
    "- 예측확률 저장"
   ]
  },
  {
   "cell_type": "code",
   "execution_count": 11,
   "id": "b84006f3",
   "metadata": {},
   "outputs": [
    {
     "data": {
      "text/html": [
       "<div>\n",
       "<style scoped>\n",
       "    .dataframe tbody tr th:only-of-type {\n",
       "        vertical-align: middle;\n",
       "    }\n",
       "\n",
       "    .dataframe tbody tr th {\n",
       "        vertical-align: top;\n",
       "    }\n",
       "\n",
       "    .dataframe thead th {\n",
       "        text-align: right;\n",
       "    }\n",
       "</style>\n",
       "<table border=\"1\" class=\"dataframe\">\n",
       "  <thead>\n",
       "    <tr style=\"text-align: right;\">\n",
       "      <th></th>\n",
       "      <th>pred</th>\n",
       "    </tr>\n",
       "  </thead>\n",
       "  <tbody>\n",
       "    <tr>\n",
       "      <th>0</th>\n",
       "      <td>0.412397</td>\n",
       "    </tr>\n",
       "    <tr>\n",
       "      <th>1</th>\n",
       "      <td>1.000000</td>\n",
       "    </tr>\n",
       "    <tr>\n",
       "      <th>2</th>\n",
       "      <td>0.999167</td>\n",
       "    </tr>\n",
       "    <tr>\n",
       "      <th>3</th>\n",
       "      <td>0.444192</td>\n",
       "    </tr>\n",
       "    <tr>\n",
       "      <th>4</th>\n",
       "      <td>0.445277</td>\n",
       "    </tr>\n",
       "    <tr>\n",
       "      <th>...</th>\n",
       "      <td>...</td>\n",
       "    </tr>\n",
       "    <tr>\n",
       "      <th>2745</th>\n",
       "      <td>0.486343</td>\n",
       "    </tr>\n",
       "    <tr>\n",
       "      <th>2746</th>\n",
       "      <td>1.000000</td>\n",
       "    </tr>\n",
       "    <tr>\n",
       "      <th>2747</th>\n",
       "      <td>1.000000</td>\n",
       "    </tr>\n",
       "    <tr>\n",
       "      <th>2748</th>\n",
       "      <td>0.481629</td>\n",
       "    </tr>\n",
       "    <tr>\n",
       "      <th>2749</th>\n",
       "      <td>0.964927</td>\n",
       "    </tr>\n",
       "  </tbody>\n",
       "</table>\n",
       "<p>2750 rows × 1 columns</p>\n",
       "</div>"
      ],
      "text/plain": [
       "          pred\n",
       "0     0.412397\n",
       "1     1.000000\n",
       "2     0.999167\n",
       "3     0.444192\n",
       "4     0.445277\n",
       "...        ...\n",
       "2745  0.486343\n",
       "2746  1.000000\n",
       "2747  1.000000\n",
       "2748  0.481629\n",
       "2749  0.964927\n",
       "\n",
       "[2750 rows x 1 columns]"
      ]
     },
     "execution_count": 11,
     "metadata": {},
     "output_type": "execute_result"
    }
   ],
   "source": [
    "pred_test=model.predict_proba(minmax_X_test)[:,1]\n",
    "#데이터프레임으로 변경\n",
    "pred_test=pd.DataFrame(pred_test)\n",
    "pred_test.columns=['pred']\n",
    "pred_test"
   ]
  },
  {
   "cell_type": "markdown",
   "id": "fc9791fd",
   "metadata": {},
   "source": [
    "- 제출파일 저장"
   ]
  },
  {
   "cell_type": "code",
   "execution_count": 12,
   "id": "2579fc08",
   "metadata": {},
   "outputs": [],
   "source": [
    "pred_test.to_csv(\"수험번호.csv\", index=False)"
   ]
  },
  {
   "cell_type": "markdown",
   "id": "952c3cc2",
   "metadata": {},
   "source": [
    "- 잘 저장되었는지 확인"
   ]
  },
  {
   "cell_type": "code",
   "execution_count": 13,
   "id": "fdad5463",
   "metadata": {},
   "outputs": [
    {
     "data": {
      "text/html": [
       "<div>\n",
       "<style scoped>\n",
       "    .dataframe tbody tr th:only-of-type {\n",
       "        vertical-align: middle;\n",
       "    }\n",
       "\n",
       "    .dataframe tbody tr th {\n",
       "        vertical-align: top;\n",
       "    }\n",
       "\n",
       "    .dataframe thead th {\n",
       "        text-align: right;\n",
       "    }\n",
       "</style>\n",
       "<table border=\"1\" class=\"dataframe\">\n",
       "  <thead>\n",
       "    <tr style=\"text-align: right;\">\n",
       "      <th></th>\n",
       "      <th>pred</th>\n",
       "    </tr>\n",
       "  </thead>\n",
       "  <tbody>\n",
       "    <tr>\n",
       "      <th>0</th>\n",
       "      <td>0.412397</td>\n",
       "    </tr>\n",
       "    <tr>\n",
       "      <th>1</th>\n",
       "      <td>1.000000</td>\n",
       "    </tr>\n",
       "    <tr>\n",
       "      <th>2</th>\n",
       "      <td>0.999167</td>\n",
       "    </tr>\n",
       "    <tr>\n",
       "      <th>3</th>\n",
       "      <td>0.444192</td>\n",
       "    </tr>\n",
       "    <tr>\n",
       "      <th>4</th>\n",
       "      <td>0.445277</td>\n",
       "    </tr>\n",
       "  </tbody>\n",
       "</table>\n",
       "</div>"
      ],
      "text/plain": [
       "       pred\n",
       "0  0.412397\n",
       "1  1.000000\n",
       "2  0.999167\n",
       "3  0.444192\n",
       "4  0.445277"
      ]
     },
     "execution_count": 13,
     "metadata": {},
     "output_type": "execute_result"
    }
   ],
   "source": [
    "data=pd.read_csv(\"수험번호.csv\")\n",
    "data.head()"
   ]
  }
 ],
 "metadata": {
  "kernelspec": {
   "display_name": "Python 3 (ipykernel)",
   "language": "python",
   "name": "python3"
  },
  "language_info": {
   "codemirror_mode": {
    "name": "ipython",
    "version": 3
   },
   "file_extension": ".py",
   "mimetype": "text/x-python",
   "name": "python",
   "nbconvert_exporter": "python",
   "pygments_lexer": "ipython3",
   "version": "3.9.7"
  }
 },
 "nbformat": 4,
 "nbformat_minor": 5
}
