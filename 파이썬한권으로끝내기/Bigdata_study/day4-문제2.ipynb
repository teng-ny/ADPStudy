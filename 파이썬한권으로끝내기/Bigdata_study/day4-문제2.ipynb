{
 "cells": [
  {
   "cell_type": "markdown",
   "id": "acbd1643",
   "metadata": {},
   "source": [
    "2. 다음은 MASS 패키지의 Cars93 데이터 세트이다. Luggage.room의 결측값을 중앙값으로 변환한 후 변환 전, 후 평균의 차이를 구하시오."
   ]
  },
  {
   "cell_type": "markdown",
   "id": "a713eede",
   "metadata": {},
   "source": [
    "- 데이터 불러오기"
   ]
  },
  {
   "cell_type": "code",
   "execution_count": 1,
   "id": "133ddc58",
   "metadata": {},
   "outputs": [],
   "source": [
    "import pandas as pd\n",
    "data=pd.read_csv(\"cars93.csv\")"
   ]
  },
  {
   "cell_type": "markdown",
   "id": "050bc9be",
   "metadata": {},
   "source": [
    "- 결측값 확인"
   ]
  },
  {
   "cell_type": "code",
   "execution_count": 2,
   "id": "09a815c0",
   "metadata": {},
   "outputs": [
    {
     "data": {
      "text/plain": [
       "Unnamed: 0             0\n",
       "Manufacturer           0\n",
       "Model                  0\n",
       "Type                   0\n",
       "Min.Price              0\n",
       "Price                  0\n",
       "Max.Price              0\n",
       "MPG.city               0\n",
       "MPG.highway            0\n",
       "AirBags                0\n",
       "DriveTrain             0\n",
       "Cylinders              0\n",
       "EngineSize             0\n",
       "Horsepower             0\n",
       "RPM                    0\n",
       "Rev.per.mile           0\n",
       "Man.trans.avail        0\n",
       "Fuel.tank.capacity     0\n",
       "Passengers             0\n",
       "Length                 0\n",
       "Wheelbase              0\n",
       "Width                  0\n",
       "Turn.circle            0\n",
       "Rear.seat.room         2\n",
       "Luggage.room          11\n",
       "Weight                 0\n",
       "Origin                 0\n",
       "Make                   0\n",
       "dtype: int64"
      ]
     },
     "execution_count": 2,
     "metadata": {},
     "output_type": "execute_result"
    }
   ],
   "source": [
    "data.isna().sum()"
   ]
  },
  {
   "cell_type": "markdown",
   "id": "f7ca9165",
   "metadata": {},
   "source": [
    "- 'Luggage.room'컬럼의 결측치 중앙값으로 변환"
   ]
  },
  {
   "cell_type": "code",
   "execution_count": 3,
   "id": "fbcb3bc8",
   "metadata": {},
   "outputs": [],
   "source": [
    "new=data['Luggage.room'].fillna(data['Luggage.room'].median())"
   ]
  },
  {
   "cell_type": "markdown",
   "id": "510c168f",
   "metadata": {},
   "source": [
    "- 변환 전, 후 평균값 저장"
   ]
  },
  {
   "cell_type": "code",
   "execution_count": 4,
   "id": "bddc9828",
   "metadata": {},
   "outputs": [],
   "source": [
    "old_mean=data['Luggage.room'].mean()\n",
    "new_mean=new.mean()"
   ]
  },
  {
   "cell_type": "markdown",
   "id": "43dd3d61",
   "metadata": {},
   "source": [
    "- 변환 전, 후 평균 차이"
   ]
  },
  {
   "cell_type": "code",
   "execution_count": 5,
   "id": "064accf8",
   "metadata": {},
   "outputs": [],
   "source": [
    "result=new_mean-old_mean"
   ]
  },
  {
   "cell_type": "markdown",
   "id": "17670f10",
   "metadata": {},
   "source": [
    "- 답안 제출"
   ]
  },
  {
   "cell_type": "code",
   "execution_count": 6,
   "id": "dd47244e",
   "metadata": {},
   "outputs": [
    {
     "name": "stdout",
     "output_type": "stream",
     "text": [
      "0.012981904012587364\n"
     ]
    }
   ],
   "source": [
    "print(result)"
   ]
  }
 ],
 "metadata": {
  "kernelspec": {
   "display_name": "Python 3 (ipykernel)",
   "language": "python",
   "name": "python3"
  },
  "language_info": {
   "codemirror_mode": {
    "name": "ipython",
    "version": 3
   },
   "file_extension": ".py",
   "mimetype": "text/x-python",
   "name": "python",
   "nbconvert_exporter": "python",
   "pygments_lexer": "ipython3",
   "version": "3.9.7"
  }
 },
 "nbformat": 4,
 "nbformat_minor": 5
}
