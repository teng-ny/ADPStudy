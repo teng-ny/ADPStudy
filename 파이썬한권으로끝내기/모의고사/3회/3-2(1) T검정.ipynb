{
 "cells": [
  {
   "cell_type": "markdown",
   "id": "1fb2eda8",
   "metadata": {},
   "source": [
    "1. 공장에서는 시제품의 농도(%)가 60이라고 주장하며 품질관리팀에서 10개의 샘플을 뽑았다. 유의수준 5%에서 다음을 검정하시오.\\\n",
    "H0 : 시제품 농도는 60%이다.\\\n",
    "H1 : 시제품 농도는 60%가 아니다."
   ]
  },
  {
   "cell_type": "markdown",
   "id": "87092735",
   "metadata": {},
   "source": [
    "(2) 유효한 샘플 수를 계산하시오."
   ]
  },
  {
   "cell_type": "code",
   "execution_count": 9,
   "id": "961f4c50",
   "metadata": {},
   "outputs": [],
   "source": [
    "import pandas as pd\n",
    "data=pd.DataFrame({'sample':[52, 50, 62, 75, 26, 45, 62, 35, 57, 14]})"
   ]
  },
  {
   "cell_type": "code",
   "execution_count": 10,
   "id": "25848713",
   "metadata": {},
   "outputs": [
    {
     "data": {
      "text/html": [
       "<div>\n",
       "<style scoped>\n",
       "    .dataframe tbody tr th:only-of-type {\n",
       "        vertical-align: middle;\n",
       "    }\n",
       "\n",
       "    .dataframe tbody tr th {\n",
       "        vertical-align: top;\n",
       "    }\n",
       "\n",
       "    .dataframe thead th {\n",
       "        text-align: right;\n",
       "    }\n",
       "</style>\n",
       "<table border=\"1\" class=\"dataframe\">\n",
       "  <thead>\n",
       "    <tr style=\"text-align: right;\">\n",
       "      <th></th>\n",
       "      <th>sample</th>\n",
       "    </tr>\n",
       "  </thead>\n",
       "  <tbody>\n",
       "    <tr>\n",
       "      <th>0</th>\n",
       "      <td>52</td>\n",
       "    </tr>\n",
       "    <tr>\n",
       "      <th>1</th>\n",
       "      <td>50</td>\n",
       "    </tr>\n",
       "    <tr>\n",
       "      <th>2</th>\n",
       "      <td>62</td>\n",
       "    </tr>\n",
       "    <tr>\n",
       "      <th>3</th>\n",
       "      <td>75</td>\n",
       "    </tr>\n",
       "    <tr>\n",
       "      <th>4</th>\n",
       "      <td>26</td>\n",
       "    </tr>\n",
       "  </tbody>\n",
       "</table>\n",
       "</div>"
      ],
      "text/plain": [
       "   sample\n",
       "0      52\n",
       "1      50\n",
       "2      62\n",
       "3      75\n",
       "4      26"
      ]
     },
     "execution_count": 10,
     "metadata": {},
     "output_type": "execute_result"
    }
   ],
   "source": [
    "data.head(5)"
   ]
  },
  {
   "cell_type": "code",
   "execution_count": 11,
   "id": "4b407ea2",
   "metadata": {},
   "outputs": [
    {
     "data": {
      "text/plain": [
       "10"
      ]
     },
     "execution_count": 11,
     "metadata": {},
     "output_type": "execute_result"
    }
   ],
   "source": [
    "len(data)"
   ]
  },
  {
   "cell_type": "markdown",
   "id": "9462bce1",
   "metadata": {},
   "source": [
    "(3) 검정통계량을 구하고 연구가설 채택 여부를 작성하시오."
   ]
  },
  {
   "cell_type": "code",
   "execution_count": 12,
   "id": "acf8b1e0",
   "metadata": {},
   "outputs": [
    {
     "data": {
      "text/plain": [
       "ShapiroResult(statistic=0.965764582157135, pvalue=0.849041759967804)"
      ]
     },
     "execution_count": 12,
     "metadata": {},
     "output_type": "execute_result"
    }
   ],
   "source": [
    "import scipy.stats as stats\n",
    "from scipy.stats import shapiro\n",
    "mu=60\n",
    "shapiro(data['sample'])"
   ]
  },
  {
   "cell_type": "markdown",
   "id": "cd354008",
   "metadata": {},
   "source": [
    "p-value가 0.05보다 크기때문에 귀무가설을 기각할 수 없다. 즉 정규성을 따른다고 할 수 있다."
   ]
  },
  {
   "cell_type": "code",
   "execution_count": 13,
   "id": "c929fae4",
   "metadata": {},
   "outputs": [
    {
     "data": {
      "text/plain": [
       "Ttest_1sampResult(statistic=-2.099292080780179, pvalue=0.06519313277276138)"
      ]
     },
     "execution_count": 13,
     "metadata": {},
     "output_type": "execute_result"
    }
   ],
   "source": [
    "stats.ttest_1samp(data['sample'], popmean=mu)"
   ]
  },
  {
   "cell_type": "markdown",
   "id": "4c739a15",
   "metadata": {},
   "source": [
    "p-value가 0.05보다 크기 때문에 귀무가설을 기각할 수 없다. 즉 시제품의 농도는 60%라고 할 수 있다."
   ]
  }
 ],
 "metadata": {
  "kernelspec": {
   "display_name": "Python 3 (ipykernel)",
   "language": "python",
   "name": "python3"
  },
  "language_info": {
   "codemirror_mode": {
    "name": "ipython",
    "version": 3
   },
   "file_extension": ".py",
   "mimetype": "text/x-python",
   "name": "python",
   "nbconvert_exporter": "python",
   "pygments_lexer": "ipython3",
   "version": "3.8.5"
  }
 },
 "nbformat": 4,
 "nbformat_minor": 5
}
