{
 "cells": [
  {
   "cell_type": "code",
   "execution_count": 4,
   "id": "1edc068f",
   "metadata": {},
   "outputs": [],
   "source": [
    "import pandas as pd\n",
    "data=pd.DataFrame({'사회과학':[16,30,12], '자연과학':[12,20,3], '공학':[18,13,14]}, index=['3.5~4.5', '2.5~3.5', '1.5~2.5'])"
   ]
  },
  {
   "cell_type": "code",
   "execution_count": 5,
   "id": "270fc470",
   "metadata": {},
   "outputs": [
    {
     "data": {
      "text/html": [
       "<div>\n",
       "<style scoped>\n",
       "    .dataframe tbody tr th:only-of-type {\n",
       "        vertical-align: middle;\n",
       "    }\n",
       "\n",
       "    .dataframe tbody tr th {\n",
       "        vertical-align: top;\n",
       "    }\n",
       "\n",
       "    .dataframe thead th {\n",
       "        text-align: right;\n",
       "    }\n",
       "</style>\n",
       "<table border=\"1\" class=\"dataframe\">\n",
       "  <thead>\n",
       "    <tr style=\"text-align: right;\">\n",
       "      <th></th>\n",
       "      <th>사회과학</th>\n",
       "      <th>자연과학</th>\n",
       "      <th>공학</th>\n",
       "    </tr>\n",
       "  </thead>\n",
       "  <tbody>\n",
       "    <tr>\n",
       "      <th>3.5~4.5</th>\n",
       "      <td>16</td>\n",
       "      <td>12</td>\n",
       "      <td>18</td>\n",
       "    </tr>\n",
       "    <tr>\n",
       "      <th>2.5~3.5</th>\n",
       "      <td>30</td>\n",
       "      <td>20</td>\n",
       "      <td>13</td>\n",
       "    </tr>\n",
       "    <tr>\n",
       "      <th>1.5~2.5</th>\n",
       "      <td>12</td>\n",
       "      <td>3</td>\n",
       "      <td>14</td>\n",
       "    </tr>\n",
       "  </tbody>\n",
       "</table>\n",
       "</div>"
      ],
      "text/plain": [
       "         사회과학  자연과학  공학\n",
       "3.5~4.5    16    12  18\n",
       "2.5~3.5    30    20  13\n",
       "1.5~2.5    12     3  14"
      ]
     },
     "execution_count": 5,
     "metadata": {},
     "output_type": "execute_result"
    }
   ],
   "source": [
    "data"
   ]
  },
  {
   "cell_type": "markdown",
   "id": "ff2fe604",
   "metadata": {},
   "source": [
    "H0 : 학과와 성적은 독립이다.\\\n",
    "H1 : 학과와 성적은 독립이 아니다."
   ]
  },
  {
   "cell_type": "code",
   "execution_count": 11,
   "id": "80ad3d6d",
   "metadata": {},
   "outputs": [
    {
     "data": {
      "text/plain": [
       "(10.199441509990177,\n",
       " 0.03719883770303157,\n",
       " 4,\n",
       " array([[19.33333333, 11.66666667, 15.        ],\n",
       "        [26.47826087, 15.97826087, 20.54347826],\n",
       "        [12.1884058 ,  7.35507246,  9.45652174]]))"
      ]
     },
     "execution_count": 11,
     "metadata": {},
     "output_type": "execute_result"
    }
   ],
   "source": [
    "from scipy.stats import chi2_contingency\n",
    "from scipy import stats\n",
    "stats.chi2_contingency(observed=data)"
   ]
  },
  {
   "cell_type": "markdown",
   "id": "6ae4e11f",
   "metadata": {},
   "source": [
    "p-value가 0.05보다 작으므로 귀무가설을 기각한다. 즉 학과와 성적은 독립이라고 할 수 없다."
   ]
  }
 ],
 "metadata": {
  "kernelspec": {
   "display_name": "Python 3 (ipykernel)",
   "language": "python",
   "name": "python3"
  },
  "language_info": {
   "codemirror_mode": {
    "name": "ipython",
    "version": 3
   },
   "file_extension": ".py",
   "mimetype": "text/x-python",
   "name": "python",
   "nbconvert_exporter": "python",
   "pygments_lexer": "ipython3",
   "version": "3.8.5"
  }
 },
 "nbformat": 4,
 "nbformat_minor": 5
}
