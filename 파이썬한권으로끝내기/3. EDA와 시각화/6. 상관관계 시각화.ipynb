{
 "cells": [
  {
   "cell_type": "markdown",
   "id": "966408c6",
   "metadata": {},
   "source": [
    "### 상관관계->2개의 변수간의 선형관계를 표현하는 통계적 측도\n",
    "- 산점도 : 두 변수 사이의 데이터 분포를 살펴봄, 유형과 강도를 판단\n",
    "- 상관관계는 이를 수량화하여 데이터 간 단순 관계를 표현"
   ]
  },
  {
   "cell_type": "code",
   "execution_count": null,
   "id": "9f3bd904",
   "metadata": {},
   "outputs": [],
   "source": []
  }
 ],
 "metadata": {
  "kernelspec": {
   "display_name": "Python 3 (ipykernel)",
   "language": "python",
   "name": "python3"
  },
  "language_info": {
   "codemirror_mode": {
    "name": "ipython",
    "version": 3
   },
   "file_extension": ".py",
   "mimetype": "text/x-python",
   "name": "python",
   "nbconvert_exporter": "python",
   "pygments_lexer": "ipython3",
   "version": "3.8.5"
  }
 },
 "nbformat": 4,
 "nbformat_minor": 5
}
