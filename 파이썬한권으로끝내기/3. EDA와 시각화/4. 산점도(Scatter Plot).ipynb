{
 "cells": [
  {
   "cell_type": "markdown",
   "id": "87b4a376",
   "metadata": {},
   "source": [
    "## Scatter Plot\n",
    "- 두개의 수치형 변수 분포와 함께 두 변수의 관계를 확인"
   ]
  },
  {
   "cell_type": "code",
   "execution_count": 1,
   "id": "3b455118",
   "metadata": {},
   "outputs": [
    {
     "name": "stderr",
     "output_type": "stream",
     "text": [
      "C:\\Users\\taeeu\\anaconda3\\lib\\site-packages\\numpy\\_distributor_init.py:30: UserWarning: loaded more than 1 DLL from .libs:\n",
      "C:\\Users\\taeeu\\anaconda3\\lib\\site-packages\\numpy\\.libs\\libopenblas.el2c6ple4zyw3eceviv3oxxgrn2nrfm2.gfortran-win_amd64.dll\n",
      "C:\\Users\\taeeu\\anaconda3\\lib\\site-packages\\numpy\\.libs\\libopenblas.WCDJNK7YVMPZQ2ME2ZZHJJRJ3JIKNDB7.gfortran-win_amd64.dll\n",
      "  warnings.warn(\"loaded more than 1 DLL from .libs:\"\n"
     ]
    }
   ],
   "source": [
    "import pandas as pd\n",
    "from sklearn.datasets import load_iris\n",
    "import matplotlib.pyplot as plt"
   ]
  },
  {
   "cell_type": "code",
   "execution_count": 2,
   "id": "035f06d5",
   "metadata": {},
   "outputs": [],
   "source": [
    "iris=load_iris()\n",
    "iris=pd.DataFrame(iris.data, columns=iris.feature_names)\n",
    "iris['class']=load_iris().target\n",
    "iris['class']=iris['class'].map({0:'Setosa', 1:'Versicolour', 2:'Virginica'})"
   ]
  },
  {
   "cell_type": "code",
   "execution_count": null,
   "id": "cdf88b5c",
   "metadata": {},
   "outputs": [],
   "source": [
    "#산점도 그리기\n",
    "plt.title('iris scatter')"
   ]
  }
 ],
 "metadata": {
  "kernelspec": {
   "display_name": "Python 3 (ipykernel)",
   "language": "python",
   "name": "python3"
  },
  "language_info": {
   "codemirror_mode": {
    "name": "ipython",
    "version": 3
   },
   "file_extension": ".py",
   "mimetype": "text/x-python",
   "name": "python",
   "nbconvert_exporter": "python",
   "pygments_lexer": "ipython3",
   "version": "3.8.5"
  }
 },
 "nbformat": 4,
 "nbformat_minor": 5
}
