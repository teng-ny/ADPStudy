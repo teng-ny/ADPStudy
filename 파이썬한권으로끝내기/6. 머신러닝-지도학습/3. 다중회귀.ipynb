{
 "cells": [
  {
   "cell_type": "markdown",
   "id": "e996977c",
   "metadata": {},
   "source": [
    "## 다양한 규제를 통해 모델의 가중치를 제한\n",
    "- 릿지\n",
    "- 라쏘\n",
    "- 엘라스틱넷"
   ]
  },
  {
   "cell_type": "markdown",
   "id": "307d0f8e",
   "metadata": {},
   "source": [
    "## 1. 릿지"
   ]
  },
  {
   "cell_type": "code",
   "execution_count": 3,
   "id": "77f1abf3",
   "metadata": {},
   "outputs": [],
   "source": [
    "from sklearn.datasets import load_diabetes\n",
    "import pandas as pd\n",
    "\n",
    "diabetes=load_diabetes()\n",
    "x=pd.DataFrame(diabetes.data, columns=diabetes.feature_names)\n",
    "y=diabetes.target"
   ]
  },
  {
   "cell_type": "code",
   "execution_count": null,
   "id": "33146abf",
   "metadata": {},
   "outputs": [],
   "source": [
    "from sklearn.linear_model import Ridge\n",
    "alpha=np.logspace(-3, 1, 5)\n",
    "\n",
    "data=[]\n",
    "for i,a in enumerate(alpha):\n",
    "    "
   ]
  }
 ],
 "metadata": {
  "kernelspec": {
   "display_name": "Python 3 (ipykernel)",
   "language": "python",
   "name": "python3"
  },
  "language_info": {
   "codemirror_mode": {
    "name": "ipython",
    "version": 3
   },
   "file_extension": ".py",
   "mimetype": "text/x-python",
   "name": "python",
   "nbconvert_exporter": "python",
   "pygments_lexer": "ipython3",
   "version": "3.8.5"
  }
 },
 "nbformat": 4,
 "nbformat_minor": 5
}
