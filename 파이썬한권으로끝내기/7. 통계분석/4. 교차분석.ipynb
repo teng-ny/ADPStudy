{
 "cells": [
  {
   "cell_type": "markdown",
   "id": "9d27add5",
   "metadata": {},
   "source": [
    "1)적합성분석\\\n",
    "H0: 관측분포가 기대분포와 동일\\\n",
    "H1: 관측분포가 기대분포와 다름"
   ]
  },
  {
   "cell_type": "code",
   "execution_count": 1,
   "id": "5bbe4d2b",
   "metadata": {},
   "outputs": [
    {
     "name": "stderr",
     "output_type": "stream",
     "text": [
      "C:\\Users\\taeeu\\anaconda3\\lib\\site-packages\\numpy\\_distributor_init.py:30: UserWarning: loaded more than 1 DLL from .libs:\n",
      "C:\\Users\\taeeu\\anaconda3\\lib\\site-packages\\numpy\\.libs\\libopenblas.el2c6ple4zyw3eceviv3oxxgrn2nrfm2.gfortran-win_amd64.dll\n",
      "C:\\Users\\taeeu\\anaconda3\\lib\\site-packages\\numpy\\.libs\\libopenblas.WCDJNK7YVMPZQ2ME2ZZHJJRJ3JIKNDB7.gfortran-win_amd64.dll\n",
      "  warnings.warn(\"loaded more than 1 DLL from .libs:\"\n"
     ]
    },
    {
     "name": "stdout",
     "output_type": "stream",
     "text": [
      "<class 'pandas.core.frame.DataFrame'>\n",
      "RangeIndex: 891 entries, 0 to 890\n",
      "Data columns (total 11 columns):\n",
      " #   Column       Non-Null Count  Dtype  \n",
      "---  ------       --------------  -----  \n",
      " 0   survived     891 non-null    int64  \n",
      " 1   pclass       891 non-null    int64  \n",
      " 2   sex          891 non-null    object \n",
      " 3   age          714 non-null    float64\n",
      " 4   sibsp        891 non-null    int64  \n",
      " 5   parch        891 non-null    int64  \n",
      " 6   fare         891 non-null    float64\n",
      " 7   embarked     889 non-null    object \n",
      " 8   class        891 non-null    object \n",
      " 9   adult_male   891 non-null    bool   \n",
      " 10  embark_town  889 non-null    object \n",
      "dtypes: bool(1), float64(2), int64(4), object(4)\n",
      "memory usage: 70.6+ KB\n"
     ]
    }
   ],
   "source": [
    "import pandas as pd\n",
    "df=pd.read_csv('titanic.csv')\n",
    "df.info()"
   ]
  },
  {
   "cell_type": "markdown",
   "id": "2b6a92b0",
   "metadata": {},
   "source": [
    "H0: 타이타닉호의 생존자 중 남자의 비율이 50%, 여자의 비율이 50%이다.\\\n",
    "H1: 타이타닉호의 생존자 중 남자의 비율이 50%, 여자의 비율이 50%라고 할 수 없다."
   ]
  },
  {
   "cell_type": "code",
   "execution_count": 2,
   "id": "8d6a4b98",
   "metadata": {},
   "outputs": [
    {
     "data": {
      "text/plain": [
       "0"
      ]
     },
     "execution_count": 2,
     "metadata": {},
     "output_type": "execute_result"
    }
   ],
   "source": [
    "df['sex'].isna().sum()"
   ]
  },
  {
   "cell_type": "code",
   "execution_count": 21,
   "id": "21040cee",
   "metadata": {},
   "outputs": [
    {
     "data": {
      "text/plain": [
       "sex   \n",
       "female    233\n",
       "male      109\n",
       "dtype: int64"
      ]
     },
     "execution_count": 21,
     "metadata": {},
     "output_type": "execute_result"
    }
   ],
   "source": [
    "#교차분석을 위해 명목형 변수 sex변수에 대한 도수분포표 생성\n",
    "df_t=df[df['survived']==1]\n",
    "table=df_t[['sex']].value_counts()\n",
    "table"
   ]
  },
  {
   "cell_type": "code",
   "execution_count": 24,
   "id": "09c32583",
   "metadata": {},
   "outputs": [
    {
     "name": "stdout",
     "output_type": "stream",
     "text": [
      "<적합도 검정> Power_divergenceResult(statistic=44.95906432748538, pvalue=2.0119672574477235e-11)\n"
     ]
    }
   ],
   "source": [
    "from scipy.stats import chisquare\n",
    "chi=chisquare(table)\n",
    "print('<적합도 검정>', chi)"
   ]
  },
  {
   "cell_type": "markdown",
   "id": "d3942371",
   "metadata": {},
   "source": [
    "p-value가 0.05보다 작으므로 귀무가설을 기각한다. 타이타닉호의 생존자 중 남자의 비율이 50%, 여자의 비율이 50%라고 할 수 었다."
   ]
  },
  {
   "cell_type": "markdown",
   "id": "a861d97b",
   "metadata": {},
   "source": [
    "2)독립성검정\\\n",
    "H0 :두 변수는 독립이다.\\\n",
    "H1 :두 변수는 독립이 아니다.\\"
   ]
  },
  {
   "cell_type": "code",
   "execution_count": 25,
   "id": "711f1e2e",
   "metadata": {},
   "outputs": [
    {
     "data": {
      "text/html": [
       "<div>\n",
       "<style scoped>\n",
       "    .dataframe tbody tr th:only-of-type {\n",
       "        vertical-align: middle;\n",
       "    }\n",
       "\n",
       "    .dataframe tbody tr th {\n",
       "        vertical-align: top;\n",
       "    }\n",
       "\n",
       "    .dataframe thead th {\n",
       "        text-align: right;\n",
       "    }\n",
       "</style>\n",
       "<table border=\"1\" class=\"dataframe\">\n",
       "  <thead>\n",
       "    <tr style=\"text-align: right;\">\n",
       "      <th>survived</th>\n",
       "      <th>0</th>\n",
       "      <th>1</th>\n",
       "    </tr>\n",
       "    <tr>\n",
       "      <th>class</th>\n",
       "      <th></th>\n",
       "      <th></th>\n",
       "    </tr>\n",
       "  </thead>\n",
       "  <tbody>\n",
       "    <tr>\n",
       "      <th>First</th>\n",
       "      <td>80</td>\n",
       "      <td>136</td>\n",
       "    </tr>\n",
       "    <tr>\n",
       "      <th>Second</th>\n",
       "      <td>97</td>\n",
       "      <td>87</td>\n",
       "    </tr>\n",
       "    <tr>\n",
       "      <th>Third</th>\n",
       "      <td>372</td>\n",
       "      <td>119</td>\n",
       "    </tr>\n",
       "  </tbody>\n",
       "</table>\n",
       "</div>"
      ],
      "text/plain": [
       "survived    0    1\n",
       "class             \n",
       "First      80  136\n",
       "Second     97   87\n",
       "Third     372  119"
      ]
     },
     "execution_count": 25,
     "metadata": {},
     "output_type": "execute_result"
    }
   ],
   "source": [
    "df=pd.read_csv('titanic.csv')\n",
    "table=pd.crosstab(df['class'], df['survived'])\n",
    "table"
   ]
  },
  {
   "cell_type": "markdown",
   "id": "6e28c3d0",
   "metadata": {},
   "source": [
    "H0:class변수와 survived 변수는 독립이다.\\\n",
    "H1:class변수와 survived 변수는 독립이 아니다."
   ]
  },
  {
   "cell_type": "code",
   "execution_count": 26,
   "id": "c243ce6c",
   "metadata": {},
   "outputs": [
    {
     "name": "stdout",
     "output_type": "stream",
     "text": [
      "Statistic: 102.88898875696056\n",
      "p-value: 4.549251711298793e-23\n",
      "df: 2\n",
      "expect: [[133.09090909  82.90909091]\n",
      " [113.37373737  70.62626263]\n",
      " [302.53535354 188.46464646]]\n"
     ]
    }
   ],
   "source": [
    "from scipy.stats import chi2_contingency\n",
    "chi, p, df, expect=chi2_contingency(table)\n",
    "print('Statistic:', chi)\n",
    "print('p-value:', p)\n",
    "print('df:', df)\n",
    "print('expect:', expect)"
   ]
  },
  {
   "cell_type": "markdown",
   "id": "52453675",
   "metadata": {},
   "source": [
    "p-value가 0.05보다 작으므로 귀무가설을 기각한다. class변수와 survived변수는 독립이 아니라고 할 수 있다."
   ]
  }
 ],
 "metadata": {
  "kernelspec": {
   "display_name": "Python 3 (ipykernel)",
   "language": "python",
   "name": "python3"
  },
  "language_info": {
   "codemirror_mode": {
    "name": "ipython",
    "version": 3
   },
   "file_extension": ".py",
   "mimetype": "text/x-python",
   "name": "python",
   "nbconvert_exporter": "python",
   "pygments_lexer": "ipython3",
   "version": "3.8.5"
  }
 },
 "nbformat": 4,
 "nbformat_minor": 5
}
