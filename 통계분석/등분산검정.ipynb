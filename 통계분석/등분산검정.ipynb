{
 "cells": [
  {
   "cell_type": "markdown",
   "id": "3cd30442",
   "metadata": {},
   "source": [
    "등분산검정\n",
    "\n",
    "(1) 귀무가설/대립가설 작성\n",
    "- 제품들의 금속 재질 함유량 분산은 1.3이다.\n",
    "- 제품들의 금속 재질 함유량 분산은 1.3이 아니다."
   ]
  },
  {
   "cell_type": "code",
   "execution_count": 30,
   "id": "c78293e3",
   "metadata": {},
   "outputs": [
    {
     "data": {
      "text/html": [
       "<div>\n",
       "<style scoped>\n",
       "    .dataframe tbody tr th:only-of-type {\n",
       "        vertical-align: middle;\n",
       "    }\n",
       "\n",
       "    .dataframe tbody tr th {\n",
       "        vertical-align: top;\n",
       "    }\n",
       "\n",
       "    .dataframe thead th {\n",
       "        text-align: right;\n",
       "    }\n",
       "</style>\n",
       "<table border=\"1\" class=\"dataframe\">\n",
       "  <thead>\n",
       "    <tr style=\"text-align: right;\">\n",
       "      <th></th>\n",
       "      <th>metalicity</th>\n",
       "    </tr>\n",
       "  </thead>\n",
       "  <tbody>\n",
       "    <tr>\n",
       "      <th>0</th>\n",
       "      <td>42.731551</td>\n",
       "    </tr>\n",
       "    <tr>\n",
       "      <th>1</th>\n",
       "      <td>46.429668</td>\n",
       "    </tr>\n",
       "    <tr>\n",
       "      <th>2</th>\n",
       "      <td>45.754023</td>\n",
       "    </tr>\n",
       "    <tr>\n",
       "      <th>3</th>\n",
       "      <td>45.808060</td>\n",
       "    </tr>\n",
       "    <tr>\n",
       "      <th>4</th>\n",
       "      <td>44.072529</td>\n",
       "    </tr>\n",
       "    <tr>\n",
       "      <th>...</th>\n",
       "      <td>...</td>\n",
       "    </tr>\n",
       "    <tr>\n",
       "      <th>145</th>\n",
       "      <td>45.915727</td>\n",
       "    </tr>\n",
       "    <tr>\n",
       "      <th>146</th>\n",
       "      <td>45.277868</td>\n",
       "    </tr>\n",
       "    <tr>\n",
       "      <th>147</th>\n",
       "      <td>45.082157</td>\n",
       "    </tr>\n",
       "    <tr>\n",
       "      <th>148</th>\n",
       "      <td>44.297235</td>\n",
       "    </tr>\n",
       "    <tr>\n",
       "      <th>149</th>\n",
       "      <td>45.510493</td>\n",
       "    </tr>\n",
       "  </tbody>\n",
       "</table>\n",
       "<p>150 rows × 1 columns</p>\n",
       "</div>"
      ],
      "text/plain": [
       "     metalicity\n",
       "0     42.731551\n",
       "1     46.429668\n",
       "2     45.754023\n",
       "3     45.808060\n",
       "4     44.072529\n",
       "..          ...\n",
       "145   45.915727\n",
       "146   45.277868\n",
       "147   45.082157\n",
       "148   44.297235\n",
       "149   45.510493\n",
       "\n",
       "[150 rows x 1 columns]"
      ]
     },
     "execution_count": 30,
     "metadata": {},
     "output_type": "execute_result"
    }
   ],
   "source": [
    "import pandas as pd\n",
    "import numpy as np\n",
    "import scipy.stats as stats\n",
    "from scipy.stats import shapiro\n",
    "data=pd.read_csv(\"metalicity\")\n",
    "data"
   ]
  },
  {
   "cell_type": "code",
   "execution_count": 33,
   "id": "1045eff4",
   "metadata": {},
   "outputs": [
    {
     "data": {
      "text/plain": [
       "(45.26662991017956, 0.7432009850287773)"
      ]
     },
     "execution_count": 33,
     "metadata": {},
     "output_type": "execute_result"
    }
   ],
   "source": [
    "s_mean=np.mean(data.metalicity)\n",
    "u_var=np.var(data.metalicity, ddof=1)\n",
    "s_mean, u_var"
   ]
  },
  {
   "cell_type": "markdown",
   "id": "b8b8d5bf",
   "metadata": {},
   "source": [
    "(2) 가설검정"
   ]
  },
  {
   "cell_type": "markdown",
   "id": "0714ac3a",
   "metadata": {},
   "source": [
    "- 정규성검정"
   ]
  },
  {
   "cell_type": "code",
   "execution_count": 34,
   "id": "9ae13acd",
   "metadata": {},
   "outputs": [
    {
     "data": {
      "text/plain": [
       "ShapiroResult(statistic=0.9822468757629395, pvalue=0.05002119019627571)"
      ]
     },
     "execution_count": 34,
     "metadata": {},
     "output_type": "execute_result"
    }
   ],
   "source": [
    "shapiro(data.metalicity)"
   ]
  },
  {
   "cell_type": "markdown",
   "id": "8dbd4006",
   "metadata": {},
   "source": [
    "귀무가설을 기각할 수 없다. 즉 정규분포를 따른다"
   ]
  },
  {
   "cell_type": "code",
   "execution_count": 35,
   "id": "d26bc02a",
   "metadata": {},
   "outputs": [
    {
     "data": {
      "text/plain": [
       "85.182266745606"
      ]
     },
     "execution_count": 35,
     "metadata": {},
     "output_type": "execute_result"
    }
   ],
   "source": [
    "#검정통계량\n",
    "V=(n-1)*u_var/1.3\n",
    "V"
   ]
  },
  {
   "cell_type": "code",
   "execution_count": 36,
   "id": "92917f4c",
   "metadata": {},
   "outputs": [
    {
     "data": {
      "text/plain": [
       "(6.066103822435281e-06, 0.9999939338961775)"
      ]
     },
     "execution_count": 36,
     "metadata": {},
     "output_type": "execute_result"
    }
   ],
   "source": [
    "#채택\n",
    "#1)p값\n",
    "rv.cdf(V), 1-rv.cdf(V)"
   ]
  },
  {
   "cell_type": "markdown",
   "id": "7ba83536",
   "metadata": {},
   "source": [
    "-> 더 작은값 2배"
   ]
  },
  {
   "cell_type": "code",
   "execution_count": 37,
   "id": "34fb9293",
   "metadata": {},
   "outputs": [
    {
     "data": {
      "text/plain": [
       "1.2132207644870562e-05"
      ]
     },
     "execution_count": 37,
     "metadata": {},
     "output_type": "execute_result"
    }
   ],
   "source": [
    "p=rv.cdf(V)*2\n",
    "p"
   ]
  },
  {
   "cell_type": "code",
   "execution_count": 38,
   "id": "62628dc8",
   "metadata": {},
   "outputs": [
    {
     "data": {
      "text/plain": [
       "(137.02196315446108, 160.25209726996255)"
      ]
     },
     "execution_count": 38,
     "metadata": {},
     "output_type": "execute_result"
    }
   ],
   "source": [
    "#2)기각역\n",
    "rv.interval(1-alpha)"
   ]
  },
  {
   "cell_type": "markdown",
   "id": "46e65406",
   "metadata": {},
   "source": [
    "귀무가설을 기각한다. 즉 금속 재질 함유량 분산은 1.3이 아니다."
   ]
  },
  {
   "cell_type": "markdown",
   "id": "f2de1f8d",
   "metadata": {},
   "source": [
    "### 신뢰구간"
   ]
  },
  {
   "cell_type": "code",
   "execution_count": 39,
   "id": "84408f1a",
   "metadata": {},
   "outputs": [
    {
     "data": {
      "text/plain": [
       "(0.5995926827024705, 0.9456776629490504)"
      ]
     },
     "execution_count": 39,
     "metadata": {},
     "output_type": "execute_result"
    }
   ],
   "source": [
    "alpha=0.05\n",
    "lcl=(n-1)*u_var/rv.isf(alpha/2)\n",
    "ucl=(n-1)*u_var/rv.isf(1-alpha/2)\n",
    "lcl, ucl"
   ]
  }
 ],
 "metadata": {
  "kernelspec": {
   "display_name": "Python 3 (ipykernel)",
   "language": "python",
   "name": "python3"
  },
  "language_info": {
   "codemirror_mode": {
    "name": "ipython",
    "version": 3
   },
   "file_extension": ".py",
   "mimetype": "text/x-python",
   "name": "python",
   "nbconvert_exporter": "python",
   "pygments_lexer": "ipython3",
   "version": "3.8.5"
  }
 },
 "nbformat": 4,
 "nbformat_minor": 5
}
