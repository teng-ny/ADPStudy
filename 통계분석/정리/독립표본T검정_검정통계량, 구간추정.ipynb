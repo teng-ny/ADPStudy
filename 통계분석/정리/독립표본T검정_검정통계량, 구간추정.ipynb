{
 "cells": [
  {
   "cell_type": "markdown",
   "id": "f57fedd6",
   "metadata": {},
   "source": [
    "### 독립표본T검정 - 두개의 독립된 모집단의 평균을 비교"
   ]
  },
  {
   "cell_type": "markdown",
   "id": "81e89c88",
   "metadata": {},
   "source": [
    "- 정규성 검정\n",
    "- 등분산성 검정"
   ]
  },
  {
   "cell_type": "code",
   "execution_count": 1,
   "id": "7ee9830b",
   "metadata": {},
   "outputs": [
    {
     "data": {
      "text/html": [
       "<div>\n",
       "<style scoped>\n",
       "    .dataframe tbody tr th:only-of-type {\n",
       "        vertical-align: middle;\n",
       "    }\n",
       "\n",
       "    .dataframe tbody tr th {\n",
       "        vertical-align: top;\n",
       "    }\n",
       "\n",
       "    .dataframe thead th {\n",
       "        text-align: right;\n",
       "    }\n",
       "</style>\n",
       "<table border=\"1\" class=\"dataframe\">\n",
       "  <thead>\n",
       "    <tr style=\"text-align: right;\">\n",
       "      <th></th>\n",
       "      <th>A</th>\n",
       "      <th>B</th>\n",
       "    </tr>\n",
       "  </thead>\n",
       "  <tbody>\n",
       "    <tr>\n",
       "      <th>0</th>\n",
       "      <td>47</td>\n",
       "      <td>49</td>\n",
       "    </tr>\n",
       "    <tr>\n",
       "      <th>1</th>\n",
       "      <td>50</td>\n",
       "      <td>52</td>\n",
       "    </tr>\n",
       "    <tr>\n",
       "      <th>2</th>\n",
       "      <td>37</td>\n",
       "      <td>54</td>\n",
       "    </tr>\n",
       "  </tbody>\n",
       "</table>\n",
       "</div>"
      ],
      "text/plain": [
       "    A   B\n",
       "0  47  49\n",
       "1  50  52\n",
       "2  37  54"
      ]
     },
     "execution_count": 1,
     "metadata": {},
     "output_type": "execute_result"
    }
   ],
   "source": [
    "import pandas as pd\n",
    "import numpy as np\n",
    "import scipy.stats as stats\n",
    "\n",
    "import warnings\n",
    "warnings.filterwarnings('ignore')\n",
    "\n",
    "df=pd.read_csv(\"ch11_training_ind.csv\")\n",
    "df.head(3)"
   ]
  },
  {
   "cell_type": "markdown",
   "id": "4c2a614f",
   "metadata": {},
   "source": [
    "### 귀무가설/대립가설 설정"
   ]
  },
  {
   "cell_type": "markdown",
   "id": "e9191235",
   "metadata": {},
   "source": [
    "- H0 : 두 모평균 사이의 차이는 없다.(동일)\n",
    "- H1 : 두 모평균 사이의 차이는 있다.(유의미한 차이가 있다.)"
   ]
  },
  {
   "cell_type": "code",
   "execution_count": 2,
   "id": "801a5a63",
   "metadata": {},
   "outputs": [],
   "source": [
    "mean_A=df['A'].mean()\n",
    "mean_B=df['B'].mean()\n",
    "var_A=df['A'].var(ddof=1)\n",
    "var_B=df['B'].var(ddof=1)\n",
    "n_A=len(df['A'])\n",
    "n_B=len(df['B'])"
   ]
  },
  {
   "cell_type": "markdown",
   "id": "6e0c7fe2",
   "metadata": {},
   "source": [
    "### - 검정통계량(대표본)"
   ]
  },
  {
   "cell_type": "code",
   "execution_count": 3,
   "id": "38323cde",
   "metadata": {},
   "outputs": [
    {
     "data": {
      "text/plain": [
       "-1.760815724652471"
      ]
     },
     "execution_count": 3,
     "metadata": {},
     "output_type": "execute_result"
    }
   ],
   "source": [
    "z=(mean_A-mean_B)/np.sqrt(var_A/n_A+var_B/n_B)\n",
    "z"
   ]
  },
  {
   "cell_type": "markdown",
   "id": "ab1ad815",
   "metadata": {},
   "source": [
    "### - 채택(대표본)"
   ]
  },
  {
   "cell_type": "code",
   "execution_count": 4,
   "id": "12f1b871",
   "metadata": {},
   "outputs": [],
   "source": [
    "rv=stats.norm()"
   ]
  },
  {
   "cell_type": "code",
   "execution_count": 5,
   "id": "62b80cd7",
   "metadata": {},
   "outputs": [
    {
     "data": {
      "text/plain": [
       "0.07826959748999701"
      ]
     },
     "execution_count": 5,
     "metadata": {},
     "output_type": "execute_result"
    }
   ],
   "source": [
    "#p값\n",
    "#z<0\n",
    "p=rv.cdf(z)*2\n",
    "p"
   ]
  },
  {
   "cell_type": "code",
   "execution_count": 6,
   "id": "01665afb",
   "metadata": {},
   "outputs": [
    {
     "data": {
      "text/plain": [
       "(-1.959963984540054, 1.959963984540054)"
      ]
     },
     "execution_count": 6,
     "metadata": {},
     "output_type": "execute_result"
    }
   ],
   "source": [
    "#임계값\n",
    "alpha=0.05\n",
    "rv.interval(1-alpha)"
   ]
  },
  {
   "cell_type": "markdown",
   "id": "1a4fb86c",
   "metadata": {},
   "source": [
    "귀무가설을 기각할 수 없다. 즉, 두 모평균 사이의 차이는 없다."
   ]
  },
  {
   "cell_type": "markdown",
   "id": "be3e0939",
   "metadata": {},
   "source": [
    "### - 신뢰구간(대표본)"
   ]
  },
  {
   "cell_type": "code",
   "execution_count": 7,
   "id": "f116e836",
   "metadata": {},
   "outputs": [
    {
     "data": {
      "text/plain": [
       "(-6.973230002678857, 0.37323000267886197)"
      ]
     },
     "execution_count": 7,
     "metadata": {},
     "output_type": "execute_result"
    }
   ],
   "source": [
    "lcl=(mean_A-mean_B)-rv.isf(0.025)*np.sqrt(var_A/n_A+var_B/n_B)\n",
    "ucl=(mean_A-mean_B)-rv.isf(0.975)*np.sqrt(var_A/n_A+var_B/n_B)\n",
    "lcl, ucl"
   ]
  },
  {
   "cell_type": "markdown",
   "id": "f96d8cf5",
   "metadata": {},
   "source": [
    "-------------------------------------------"
   ]
  },
  {
   "cell_type": "markdown",
   "id": "c3071e84",
   "metadata": {},
   "source": [
    "### - 검정통계량(소표본)"
   ]
  },
  {
   "cell_type": "code",
   "execution_count": 8,
   "id": "a064feb0",
   "metadata": {},
   "outputs": [
    {
     "data": {
      "text/plain": [
       "5.926523788067193"
      ]
     },
     "execution_count": 8,
     "metadata": {},
     "output_type": "execute_result"
    }
   ],
   "source": [
    "sp=np.sqrt(((n_A-1)*var_A+(n_B-1)*var_B)/(n_A+n_B-2))\n",
    "sp"
   ]
  },
  {
   "cell_type": "code",
   "execution_count": 9,
   "id": "390d5a19",
   "metadata": {},
   "outputs": [
    {
     "data": {
      "text/plain": [
       "-1.7608157246524712"
      ]
     },
     "execution_count": 9,
     "metadata": {},
     "output_type": "execute_result"
    }
   ],
   "source": [
    "# t, p=stats.ttest_ind(A, B, equal_var=True)와 동일하게 t값 산출됨\n",
    "t=(mean_A-mean_B)/(sp*np.sqrt(1/n_A+1/n_B))\n",
    "t"
   ]
  },
  {
   "cell_type": "markdown",
   "id": "6fb024f8",
   "metadata": {},
   "source": [
    "### - 채택(소표본)"
   ]
  },
  {
   "cell_type": "code",
   "execution_count": 10,
   "id": "d61cb549",
   "metadata": {},
   "outputs": [],
   "source": [
    "rv=stats.t(df=n_A+n_B-2)"
   ]
  },
  {
   "cell_type": "code",
   "execution_count": 11,
   "id": "8ec0bd6c",
   "metadata": {},
   "outputs": [
    {
     "data": {
      "text/plain": [
       "0.08631600572195147"
      ]
     },
     "execution_count": 11,
     "metadata": {},
     "output_type": "execute_result"
    }
   ],
   "source": [
    "#p값\n",
    "#z<0\n",
    "p=rv.cdf(t)*2\n",
    "p"
   ]
  },
  {
   "cell_type": "code",
   "execution_count": 12,
   "id": "f2fbc4c3",
   "metadata": {},
   "outputs": [
    {
     "data": {
      "text/plain": [
       "(-2.024394164575136, 2.024394164575136)"
      ]
     },
     "execution_count": 12,
     "metadata": {},
     "output_type": "execute_result"
    }
   ],
   "source": [
    "#임계값\n",
    "alpha=0.05\n",
    "rv.interval(1-alpha)"
   ]
  },
  {
   "cell_type": "markdown",
   "id": "e5f55588",
   "metadata": {},
   "source": [
    "귀무가설을 기각할 수 없다. 즉, 두 모평균 사이의 차이는 없다."
   ]
  },
  {
   "cell_type": "markdown",
   "id": "5c31e38b",
   "metadata": {},
   "source": [
    "### - 신뢰구간(소표본)"
   ]
  },
  {
   "cell_type": "code",
   "execution_count": 13,
   "id": "719d66f9",
   "metadata": {},
   "outputs": [
    {
     "data": {
      "text/plain": [
       "(-7.093980624756437, 0.4939806247564418)"
      ]
     },
     "execution_count": 13,
     "metadata": {},
     "output_type": "execute_result"
    }
   ],
   "source": [
    "lcl=(mean_A-mean_B)-rv.isf(0.025)*sp*np.sqrt(1/n_A+1/n_B)\n",
    "ucl=(mean_A-mean_B)-rv.isf(0.975)*sp*np.sqrt(1/n_A+1/n_B)\n",
    "lcl, ucl"
   ]
  },
  {
   "cell_type": "markdown",
   "id": "90f50f3d",
   "metadata": {},
   "source": [
    "### <검정통계량, 채택만 구할 때, 빠른 계산>"
   ]
  },
  {
   "cell_type": "code",
   "execution_count": 20,
   "id": "1f11ade9",
   "metadata": {},
   "outputs": [
    {
     "data": {
      "text/plain": [
       "(-1.7608157246524712, 0.08631600572195147)"
      ]
     },
     "execution_count": 20,
     "metadata": {},
     "output_type": "execute_result"
    }
   ],
   "source": [
    "A=np.array(df['A'])\n",
    "B=np.array(df['B'])\n",
    "t, p=stats.ttest_ind(A, B, equal_var=True)\n",
    "t, p"
   ]
  }
 ],
 "metadata": {
  "kernelspec": {
   "display_name": "Python 3 (ipykernel)",
   "language": "python",
   "name": "python3"
  },
  "language_info": {
   "codemirror_mode": {
    "name": "ipython",
    "version": 3
   },
   "file_extension": ".py",
   "mimetype": "text/x-python",
   "name": "python",
   "nbconvert_exporter": "python",
   "pygments_lexer": "ipython3",
   "version": "3.8.5"
  }
 },
 "nbformat": 4,
 "nbformat_minor": 5
}
