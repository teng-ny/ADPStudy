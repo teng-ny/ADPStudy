{
 "cells": [
  {
   "cell_type": "markdown",
   "id": "f57fedd6",
   "metadata": {},
   "source": [
    "### 독립표본T검정 - 두개의 독립된 모집단의 평균을 비교"
   ]
  },
  {
   "cell_type": "markdown",
   "id": "81e89c88",
   "metadata": {},
   "source": [
    "- 정규성 검정\n",
    "- 등분산성 검정"
   ]
  },
  {
   "cell_type": "code",
   "execution_count": 102,
   "id": "7ee9830b",
   "metadata": {},
   "outputs": [
    {
     "data": {
      "text/html": [
       "<div>\n",
       "<style scoped>\n",
       "    .dataframe tbody tr th:only-of-type {\n",
       "        vertical-align: middle;\n",
       "    }\n",
       "\n",
       "    .dataframe tbody tr th {\n",
       "        vertical-align: top;\n",
       "    }\n",
       "\n",
       "    .dataframe thead th {\n",
       "        text-align: right;\n",
       "    }\n",
       "</style>\n",
       "<table border=\"1\" class=\"dataframe\">\n",
       "  <thead>\n",
       "    <tr style=\"text-align: right;\">\n",
       "      <th></th>\n",
       "      <th>A</th>\n",
       "      <th>B</th>\n",
       "    </tr>\n",
       "  </thead>\n",
       "  <tbody>\n",
       "    <tr>\n",
       "      <th>0</th>\n",
       "      <td>47</td>\n",
       "      <td>49</td>\n",
       "    </tr>\n",
       "    <tr>\n",
       "      <th>1</th>\n",
       "      <td>50</td>\n",
       "      <td>52</td>\n",
       "    </tr>\n",
       "    <tr>\n",
       "      <th>2</th>\n",
       "      <td>37</td>\n",
       "      <td>54</td>\n",
       "    </tr>\n",
       "  </tbody>\n",
       "</table>\n",
       "</div>"
      ],
      "text/plain": [
       "    A   B\n",
       "0  47  49\n",
       "1  50  52\n",
       "2  37  54"
      ]
     },
     "execution_count": 102,
     "metadata": {},
     "output_type": "execute_result"
    }
   ],
   "source": [
    "import pandas as pd\n",
    "import numpy as np\n",
    "import scipy.stats as stats\n",
    "\n",
    "import warnings\n",
    "warnings.filterwarnings('ignore')\n",
    "\n",
    "df=pd.read_csv(\"ch11_training_ind.csv\")\n",
    "df.head(3)"
   ]
  },
  {
   "cell_type": "markdown",
   "id": "4c2a614f",
   "metadata": {},
   "source": [
    "### 귀무가설/대립가설 설정"
   ]
  },
  {
   "cell_type": "markdown",
   "id": "e9191235",
   "metadata": {},
   "source": [
    "- H0 : 두 모평균 사이의 차이는 없다.(동일)\n",
    "- H1 : 두 모평균 사이의 차이는 있다.(유의미한 차이가 있다.)"
   ]
  },
  {
   "cell_type": "code",
   "execution_count": 106,
   "id": "801a5a63",
   "metadata": {},
   "outputs": [],
   "source": [
    "mean_A=df['A'].mean()\n",
    "mean_B=df['B'].mean()\n",
    "var_A=np.var(A, ddof=1)\n",
    "var_B=np.var(B, ddof=1)\n",
    "n_A=len(df['A'])\n",
    "n_B=len(df['B'])"
   ]
  },
  {
   "cell_type": "markdown",
   "id": "6e0c7fe2",
   "metadata": {},
   "source": [
    "### 검정통계량"
   ]
  },
  {
   "cell_type": "code",
   "execution_count": 105,
   "id": "1f11ade9",
   "metadata": {},
   "outputs": [
    {
     "data": {
      "text/plain": [
       "0.08631600572195147"
      ]
     },
     "execution_count": 105,
     "metadata": {},
     "output_type": "execute_result"
    }
   ],
   "source": [
    "#방법1\n",
    "A=np.array(df['A'])\n",
    "B=np.array(df['B'])\n",
    "t, p=stats.ttest_ind(A, B, equal_var=True)\n",
    "t\n",
    "p"
   ]
  },
  {
   "cell_type": "code",
   "execution_count": 107,
   "id": "d9e1161b",
   "metadata": {},
   "outputs": [
    {
     "data": {
      "text/plain": [
       "-1.760815724652471"
      ]
     },
     "execution_count": 107,
     "metadata": {},
     "output_type": "execute_result"
    }
   ],
   "source": [
    "#방법2\n",
    "t=(mean_A-mean_B)/np.sqrt(var_A/n_A+var_B/n_B)\n",
    "t"
   ]
  },
  {
   "cell_type": "markdown",
   "id": "28149fc4",
   "metadata": {},
   "source": [
    "### 채택"
   ]
  },
  {
   "cell_type": "markdown",
   "id": "308ac50e",
   "metadata": {},
   "source": [
    "문제에서 자유도 알려줄것임"
   ]
  },
  {
   "cell_type": "code",
   "execution_count": 108,
   "id": "1c3f50f2",
   "metadata": {},
   "outputs": [
    {
     "data": {
      "text/plain": [
       "0.08631600572195147"
      ]
     },
     "execution_count": 108,
     "metadata": {},
     "output_type": "execute_result"
    }
   ],
   "source": [
    "#p값\n",
    "#t<0\n",
    "#df구하는게 매우 복잡함. but, 자유도는 문제에서 줄것임(?)\n",
    "rv=stats.t(df=38) #예시\n",
    "p=rv.cdf(t)*2\n",
    "p"
   ]
  },
  {
   "cell_type": "code",
   "execution_count": 109,
   "id": "f47ea054",
   "metadata": {},
   "outputs": [
    {
     "data": {
      "text/plain": [
       "(-2.024394164575136, 2.024394164575136)"
      ]
     },
     "execution_count": 109,
     "metadata": {},
     "output_type": "execute_result"
    }
   ],
   "source": [
    "#임계값\n",
    "alpha=0.05\n",
    "rv=stats.t(df=38)\n",
    "rv.interval(1-alpha)"
   ]
  },
  {
   "cell_type": "markdown",
   "id": "142cd4b1",
   "metadata": {},
   "source": [
    "귀무가설을 기각할 수 없다. 즉 두 모평균 사이의 차이는 없다고 할 수 있다."
   ]
  },
  {
   "cell_type": "markdown",
   "id": "396d7e1f",
   "metadata": {},
   "source": [
    "### 신뢰구간"
   ]
  },
  {
   "cell_type": "code",
   "execution_count": 110,
   "id": "1b512ebd",
   "metadata": {},
   "outputs": [
    {
     "data": {
      "text/plain": [
       "(-7.093980624756437, 0.4939806247564422)"
      ]
     },
     "execution_count": 110,
     "metadata": {},
     "output_type": "execute_result"
    }
   ],
   "source": [
    "rv=stats.t(df=38)\n",
    "lcl=(mean_A-mean_B)-rv.isf(0.025)*np.sqrt(var_A/n_A+var_B/n_B)\n",
    "ucl=(mean_A-mean_B)-rv.isf(0.975)*np.sqrt(var_A/n_A+var_B/n_B)\n",
    "lcl, ucl"
   ]
  }
 ],
 "metadata": {
  "kernelspec": {
   "display_name": "Python 3 (ipykernel)",
   "language": "python",
   "name": "python3"
  },
  "language_info": {
   "codemirror_mode": {
    "name": "ipython",
    "version": 3
   },
   "file_extension": ".py",
   "mimetype": "text/x-python",
   "name": "python",
   "nbconvert_exporter": "python",
   "pygments_lexer": "ipython3",
   "version": "3.8.5"
  }
 },
 "nbformat": 4,
 "nbformat_minor": 5
}
