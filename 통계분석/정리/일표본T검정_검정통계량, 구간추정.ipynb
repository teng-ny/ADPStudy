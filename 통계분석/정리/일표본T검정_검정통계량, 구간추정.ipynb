{
 "cells": [
  {
   "cell_type": "markdown",
   "id": "57802184",
   "metadata": {},
   "source": [
    "### 1) 일표본T검정 - 모분산 알고있을때(Z분포)"
   ]
  },
  {
   "cell_type": "code",
   "execution_count": 1,
   "id": "25c1c3ac",
   "metadata": {},
   "outputs": [
    {
     "data": {
      "text/plain": [
       "array([122.02, 131.73, 130.6 , 131.82, 132.05, 126.12, 124.43, 132.89,\n",
       "       122.79, 129.95, 126.14, 134.45, 127.64, 125.68])"
      ]
     },
     "execution_count": 1,
     "metadata": {},
     "output_type": "execute_result"
    }
   ],
   "source": [
    "import pandas as pd\n",
    "import numpy as np\n",
    "df=pd.read_csv(\"ch11_potato.csv\")\n",
    "sample=np.array(df['무게'])\n",
    "sample"
   ]
  },
  {
   "cell_type": "code",
   "execution_count": 2,
   "id": "815fddc0",
   "metadata": {},
   "outputs": [
    {
     "data": {
      "text/plain": [
       "ShapiroResult(statistic=0.9412715435028076, pvalue=0.43486055731773376)"
      ]
     },
     "execution_count": 2,
     "metadata": {},
     "output_type": "execute_result"
    }
   ],
   "source": [
    "import scipy.stats as stats\n",
    "from scipy.stats import shapiro\n",
    "shapiro(df['무게'])"
   ]
  },
  {
   "cell_type": "markdown",
   "id": "5f807d1b",
   "metadata": {},
   "source": [
    ": 귀무가설을 기각할 수 없다. 즉 정규성을 따른다"
   ]
  },
  {
   "cell_type": "markdown",
   "id": "c110caac",
   "metadata": {},
   "source": [
    "### 귀무가설/대립가설 설정"
   ]
  },
  {
   "cell_type": "markdown",
   "id": "20165a1a",
   "metadata": {},
   "source": [
    "- 모분산은 9이다.\n",
    "- H0 : 감자튀김 모평균은 130g\n",
    "- H1 : 감자튀김 모평균은 130g이 아니다."
   ]
  },
  {
   "cell_type": "code",
   "execution_count": 3,
   "id": "ddc43016",
   "metadata": {},
   "outputs": [],
   "source": [
    "mean0=130\n",
    "p_var=9 #모분산\n",
    "s_mean=np.mean(df['무게']) #표본평균\n",
    "n=len(df['무게'])\n",
    "rv=stats.norm()"
   ]
  },
  {
   "cell_type": "markdown",
   "id": "8f3369ed",
   "metadata": {},
   "source": [
    "** 단 모분산을 모를때, n>30이면 이 식에 적용함. p_var->u_var로 대체\n",
    "- data.var() OR np.var(data, ddof=1)"
   ]
  },
  {
   "cell_type": "markdown",
   "id": "5d7cc469",
   "metadata": {},
   "source": [
    "### 검정 통계량"
   ]
  },
  {
   "cell_type": "code",
   "execution_count": 4,
   "id": "d845b05d",
   "metadata": {},
   "outputs": [
    {
     "data": {
      "text/plain": [
       "-1.932298779026813"
      ]
     },
     "execution_count": 4,
     "metadata": {},
     "output_type": "execute_result"
    }
   ],
   "source": [
    "z=(s_mean-mean0)/np.sqrt(p_var/n)\n",
    "z"
   ]
  },
  {
   "cell_type": "markdown",
   "id": "59032188",
   "metadata": {},
   "source": [
    "### 채택"
   ]
  },
  {
   "cell_type": "code",
   "execution_count": 5,
   "id": "e39d4ae0",
   "metadata": {},
   "outputs": [
    {
     "data": {
      "text/plain": [
       "0.05332263904625327"
      ]
     },
     "execution_count": 5,
     "metadata": {},
     "output_type": "execute_result"
    }
   ],
   "source": [
    "#p값 구하기\n",
    "p=rv.cdf(z)*2\n",
    "p"
   ]
  },
  {
   "cell_type": "markdown",
   "id": "694479d8",
   "metadata": {},
   "source": [
    "0.05보다 크므로 귀무가설을 기각할 수 없다. 즉 감자튀김 모평균은 130g이다."
   ]
  },
  {
   "cell_type": "code",
   "execution_count": 6,
   "id": "62dd7dc4",
   "metadata": {},
   "outputs": [
    {
     "data": {
      "text/plain": [
       "(-1.959963984540054, 1.959963984540054)"
      ]
     },
     "execution_count": 6,
     "metadata": {},
     "output_type": "execute_result"
    }
   ],
   "source": [
    "#임곗값\n",
    "alpha=0.05\n",
    "rv.interval(1-alpha)"
   ]
  },
  {
   "cell_type": "markdown",
   "id": "c135e7aa",
   "metadata": {},
   "source": [
    "### 신뢰구간"
   ]
  },
  {
   "cell_type": "code",
   "execution_count": 7,
   "id": "e40db1ff",
   "metadata": {},
   "outputs": [
    {
     "data": {
      "text/plain": [
       "(126.8792470598789, 130.0221815115497)"
      ]
     },
     "execution_count": 7,
     "metadata": {},
     "output_type": "execute_result"
    }
   ],
   "source": [
    "lcl=s_mean-rv.isf(0.025)*np.sqrt(p_var/n)\n",
    "ucl=s_mean-rv.isf(0.975)*np.sqrt(p_var/n)\n",
    "lcl, ucl"
   ]
  },
  {
   "cell_type": "markdown",
   "id": "9b354a62",
   "metadata": {},
   "source": [
    "### 2) 일표본T검정 - 모분산 모를때(t분포)"
   ]
  },
  {
   "cell_type": "markdown",
   "id": "04447268",
   "metadata": {},
   "source": [
    "- H0 : 감자튀김 모평균은 130g\n",
    "- H1 : 감자튀김 모평균은 130g이 아니다."
   ]
  },
  {
   "cell_type": "code",
   "execution_count": 8,
   "id": "507c7a37",
   "metadata": {},
   "outputs": [],
   "source": [
    "mean0=130 #표본평균\n",
    "s_mean=np.mean(df['무게'])\n",
    "u_var=df['무게'].var()\n",
    "n=len(df['무게'])\n",
    "rv=stats.t(df=n-1)"
   ]
  },
  {
   "cell_type": "markdown",
   "id": "be2e473f",
   "metadata": {},
   "source": [
    "### 검정통계량"
   ]
  },
  {
   "cell_type": "code",
   "execution_count": 9,
   "id": "bdf2ddd8",
   "metadata": {},
   "outputs": [
    {
     "data": {
      "text/plain": [
       "-1.4551960206404198"
      ]
     },
     "execution_count": 9,
     "metadata": {},
     "output_type": "execute_result"
    }
   ],
   "source": [
    "t=(s_mean-mean0)/np.sqrt(u_var/n)\n",
    "t"
   ]
  },
  {
   "cell_type": "markdown",
   "id": "2093c17f",
   "metadata": {},
   "source": [
    "### 채택"
   ]
  },
  {
   "cell_type": "code",
   "execution_count": 10,
   "id": "76114828",
   "metadata": {},
   "outputs": [
    {
     "data": {
      "text/plain": [
       "0.16933464230414275"
      ]
     },
     "execution_count": 10,
     "metadata": {},
     "output_type": "execute_result"
    }
   ],
   "source": [
    "#p값 구하기\n",
    "p=rv.cdf(t)*2\n",
    "p"
   ]
  },
  {
   "cell_type": "code",
   "execution_count": 11,
   "id": "f4d84b25",
   "metadata": {},
   "outputs": [
    {
     "data": {
      "text/plain": [
       "(-2.1603686564610127, 2.1603686564610127)"
      ]
     },
     "execution_count": 11,
     "metadata": {},
     "output_type": "execute_result"
    }
   ],
   "source": [
    "#임곗값\n",
    "alpha=0.05\n",
    "rv.interval(1-alpha)"
   ]
  },
  {
   "cell_type": "markdown",
   "id": "1b9abed4",
   "metadata": {},
   "source": [
    "귀무가설을 기각할 수 없다. 즉 감자튀김 모평균은 130g이다."
   ]
  },
  {
   "cell_type": "markdown",
   "id": "607652f1",
   "metadata": {},
   "source": [
    "### 신뢰구간"
   ]
  },
  {
   "cell_type": "code",
   "execution_count": 12,
   "id": "f19821b8",
   "metadata": {},
   "outputs": [
    {
     "data": {
      "text/plain": [
       "(126.15066106293773, 130.75076750849087)"
      ]
     },
     "execution_count": 12,
     "metadata": {},
     "output_type": "execute_result"
    }
   ],
   "source": [
    "lcl=s_mean-rv.isf(0.025)*np.sqrt(u_var/n)\n",
    "ucl=s_mean-rv.isf(0.975)*np.sqrt(u_var/n)\n",
    "lcl, ucl"
   ]
  }
 ],
 "metadata": {
  "kernelspec": {
   "display_name": "Python 3 (ipykernel)",
   "language": "python",
   "name": "python3"
  },
  "language_info": {
   "codemirror_mode": {
    "name": "ipython",
    "version": 3
   },
   "file_extension": ".py",
   "mimetype": "text/x-python",
   "name": "python",
   "nbconvert_exporter": "python",
   "pygments_lexer": "ipython3",
   "version": "3.8.5"
  }
 },
 "nbformat": 4,
 "nbformat_minor": 5
}
