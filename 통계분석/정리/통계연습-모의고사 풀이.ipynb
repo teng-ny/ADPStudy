{
 "cells": [
  {
   "cell_type": "code",
   "execution_count": 1,
   "id": "b6a2104b",
   "metadata": {},
   "outputs": [
    {
     "data": {
      "text/html": [
       "<div>\n",
       "<style scoped>\n",
       "    .dataframe tbody tr th:only-of-type {\n",
       "        vertical-align: middle;\n",
       "    }\n",
       "\n",
       "    .dataframe tbody tr th {\n",
       "        vertical-align: top;\n",
       "    }\n",
       "\n",
       "    .dataframe thead th {\n",
       "        text-align: right;\n",
       "    }\n",
       "</style>\n",
       "<table border=\"1\" class=\"dataframe\">\n",
       "  <thead>\n",
       "    <tr style=\"text-align: right;\">\n",
       "      <th></th>\n",
       "      <th>Unnamed: 0</th>\n",
       "      <th>Date</th>\n",
       "      <th>AveragePrice</th>\n",
       "      <th>Total Volume</th>\n",
       "      <th>4046</th>\n",
       "      <th>4225</th>\n",
       "      <th>4770</th>\n",
       "      <th>Total Bags</th>\n",
       "      <th>Small Bags</th>\n",
       "      <th>Large Bags</th>\n",
       "      <th>XLarge Bags</th>\n",
       "      <th>type</th>\n",
       "      <th>year</th>\n",
       "      <th>region</th>\n",
       "    </tr>\n",
       "  </thead>\n",
       "  <tbody>\n",
       "    <tr>\n",
       "      <th>0</th>\n",
       "      <td>0</td>\n",
       "      <td>2015-12-27</td>\n",
       "      <td>1.33</td>\n",
       "      <td>64236.62</td>\n",
       "      <td>1036.74</td>\n",
       "      <td>54454.85</td>\n",
       "      <td>48.16</td>\n",
       "      <td>8696.87</td>\n",
       "      <td>8603.62</td>\n",
       "      <td>93.25</td>\n",
       "      <td>0.0</td>\n",
       "      <td>conventional</td>\n",
       "      <td>2015</td>\n",
       "      <td>Albany</td>\n",
       "    </tr>\n",
       "    <tr>\n",
       "      <th>1</th>\n",
       "      <td>1</td>\n",
       "      <td>2015-12-20</td>\n",
       "      <td>1.35</td>\n",
       "      <td>54876.98</td>\n",
       "      <td>674.28</td>\n",
       "      <td>44638.81</td>\n",
       "      <td>58.33</td>\n",
       "      <td>9505.56</td>\n",
       "      <td>9408.07</td>\n",
       "      <td>97.49</td>\n",
       "      <td>0.0</td>\n",
       "      <td>conventional</td>\n",
       "      <td>2015</td>\n",
       "      <td>Albany</td>\n",
       "    </tr>\n",
       "    <tr>\n",
       "      <th>2</th>\n",
       "      <td>2</td>\n",
       "      <td>2015-12-13</td>\n",
       "      <td>0.93</td>\n",
       "      <td>118220.22</td>\n",
       "      <td>794.70</td>\n",
       "      <td>109149.67</td>\n",
       "      <td>130.50</td>\n",
       "      <td>8145.35</td>\n",
       "      <td>8042.21</td>\n",
       "      <td>103.14</td>\n",
       "      <td>0.0</td>\n",
       "      <td>conventional</td>\n",
       "      <td>2015</td>\n",
       "      <td>Albany</td>\n",
       "    </tr>\n",
       "    <tr>\n",
       "      <th>3</th>\n",
       "      <td>3</td>\n",
       "      <td>2015-12-06</td>\n",
       "      <td>1.08</td>\n",
       "      <td>78992.15</td>\n",
       "      <td>1132.00</td>\n",
       "      <td>71976.41</td>\n",
       "      <td>72.58</td>\n",
       "      <td>5811.16</td>\n",
       "      <td>5677.40</td>\n",
       "      <td>133.76</td>\n",
       "      <td>0.0</td>\n",
       "      <td>conventional</td>\n",
       "      <td>2015</td>\n",
       "      <td>Albany</td>\n",
       "    </tr>\n",
       "    <tr>\n",
       "      <th>4</th>\n",
       "      <td>4</td>\n",
       "      <td>2015-11-29</td>\n",
       "      <td>1.28</td>\n",
       "      <td>51039.60</td>\n",
       "      <td>941.48</td>\n",
       "      <td>43838.39</td>\n",
       "      <td>75.78</td>\n",
       "      <td>6183.95</td>\n",
       "      <td>5986.26</td>\n",
       "      <td>197.69</td>\n",
       "      <td>0.0</td>\n",
       "      <td>conventional</td>\n",
       "      <td>2015</td>\n",
       "      <td>Albany</td>\n",
       "    </tr>\n",
       "    <tr>\n",
       "      <th>...</th>\n",
       "      <td>...</td>\n",
       "      <td>...</td>\n",
       "      <td>...</td>\n",
       "      <td>...</td>\n",
       "      <td>...</td>\n",
       "      <td>...</td>\n",
       "      <td>...</td>\n",
       "      <td>...</td>\n",
       "      <td>...</td>\n",
       "      <td>...</td>\n",
       "      <td>...</td>\n",
       "      <td>...</td>\n",
       "      <td>...</td>\n",
       "      <td>...</td>\n",
       "    </tr>\n",
       "    <tr>\n",
       "      <th>18244</th>\n",
       "      <td>7</td>\n",
       "      <td>2018-02-04</td>\n",
       "      <td>1.63</td>\n",
       "      <td>17074.83</td>\n",
       "      <td>2046.96</td>\n",
       "      <td>1529.20</td>\n",
       "      <td>0.00</td>\n",
       "      <td>13498.67</td>\n",
       "      <td>13066.82</td>\n",
       "      <td>431.85</td>\n",
       "      <td>0.0</td>\n",
       "      <td>organic</td>\n",
       "      <td>2018</td>\n",
       "      <td>WestTexNewMexico</td>\n",
       "    </tr>\n",
       "    <tr>\n",
       "      <th>18245</th>\n",
       "      <td>8</td>\n",
       "      <td>2018-01-28</td>\n",
       "      <td>1.71</td>\n",
       "      <td>13888.04</td>\n",
       "      <td>1191.70</td>\n",
       "      <td>3431.50</td>\n",
       "      <td>0.00</td>\n",
       "      <td>9264.84</td>\n",
       "      <td>8940.04</td>\n",
       "      <td>324.80</td>\n",
       "      <td>0.0</td>\n",
       "      <td>organic</td>\n",
       "      <td>2018</td>\n",
       "      <td>WestTexNewMexico</td>\n",
       "    </tr>\n",
       "    <tr>\n",
       "      <th>18246</th>\n",
       "      <td>9</td>\n",
       "      <td>2018-01-21</td>\n",
       "      <td>1.87</td>\n",
       "      <td>13766.76</td>\n",
       "      <td>1191.92</td>\n",
       "      <td>2452.79</td>\n",
       "      <td>727.94</td>\n",
       "      <td>9394.11</td>\n",
       "      <td>9351.80</td>\n",
       "      <td>42.31</td>\n",
       "      <td>0.0</td>\n",
       "      <td>organic</td>\n",
       "      <td>2018</td>\n",
       "      <td>WestTexNewMexico</td>\n",
       "    </tr>\n",
       "    <tr>\n",
       "      <th>18247</th>\n",
       "      <td>10</td>\n",
       "      <td>2018-01-14</td>\n",
       "      <td>1.93</td>\n",
       "      <td>16205.22</td>\n",
       "      <td>1527.63</td>\n",
       "      <td>2981.04</td>\n",
       "      <td>727.01</td>\n",
       "      <td>10969.54</td>\n",
       "      <td>10919.54</td>\n",
       "      <td>50.00</td>\n",
       "      <td>0.0</td>\n",
       "      <td>organic</td>\n",
       "      <td>2018</td>\n",
       "      <td>WestTexNewMexico</td>\n",
       "    </tr>\n",
       "    <tr>\n",
       "      <th>18248</th>\n",
       "      <td>11</td>\n",
       "      <td>2018-01-07</td>\n",
       "      <td>1.62</td>\n",
       "      <td>17489.58</td>\n",
       "      <td>2894.77</td>\n",
       "      <td>2356.13</td>\n",
       "      <td>224.53</td>\n",
       "      <td>12014.15</td>\n",
       "      <td>11988.14</td>\n",
       "      <td>26.01</td>\n",
       "      <td>0.0</td>\n",
       "      <td>organic</td>\n",
       "      <td>2018</td>\n",
       "      <td>WestTexNewMexico</td>\n",
       "    </tr>\n",
       "  </tbody>\n",
       "</table>\n",
       "<p>18249 rows × 14 columns</p>\n",
       "</div>"
      ],
      "text/plain": [
       "       Unnamed: 0        Date  AveragePrice  Total Volume     4046       4225  \\\n",
       "0               0  2015-12-27          1.33      64236.62  1036.74   54454.85   \n",
       "1               1  2015-12-20          1.35      54876.98   674.28   44638.81   \n",
       "2               2  2015-12-13          0.93     118220.22   794.70  109149.67   \n",
       "3               3  2015-12-06          1.08      78992.15  1132.00   71976.41   \n",
       "4               4  2015-11-29          1.28      51039.60   941.48   43838.39   \n",
       "...           ...         ...           ...           ...      ...        ...   \n",
       "18244           7  2018-02-04          1.63      17074.83  2046.96    1529.20   \n",
       "18245           8  2018-01-28          1.71      13888.04  1191.70    3431.50   \n",
       "18246           9  2018-01-21          1.87      13766.76  1191.92    2452.79   \n",
       "18247          10  2018-01-14          1.93      16205.22  1527.63    2981.04   \n",
       "18248          11  2018-01-07          1.62      17489.58  2894.77    2356.13   \n",
       "\n",
       "         4770  Total Bags  Small Bags  Large Bags  XLarge Bags          type  \\\n",
       "0       48.16     8696.87     8603.62       93.25          0.0  conventional   \n",
       "1       58.33     9505.56     9408.07       97.49          0.0  conventional   \n",
       "2      130.50     8145.35     8042.21      103.14          0.0  conventional   \n",
       "3       72.58     5811.16     5677.40      133.76          0.0  conventional   \n",
       "4       75.78     6183.95     5986.26      197.69          0.0  conventional   \n",
       "...       ...         ...         ...         ...          ...           ...   \n",
       "18244    0.00    13498.67    13066.82      431.85          0.0       organic   \n",
       "18245    0.00     9264.84     8940.04      324.80          0.0       organic   \n",
       "18246  727.94     9394.11     9351.80       42.31          0.0       organic   \n",
       "18247  727.01    10969.54    10919.54       50.00          0.0       organic   \n",
       "18248  224.53    12014.15    11988.14       26.01          0.0       organic   \n",
       "\n",
       "       year            region  \n",
       "0      2015            Albany  \n",
       "1      2015            Albany  \n",
       "2      2015            Albany  \n",
       "3      2015            Albany  \n",
       "4      2015            Albany  \n",
       "...     ...               ...  \n",
       "18244  2018  WestTexNewMexico  \n",
       "18245  2018  WestTexNewMexico  \n",
       "18246  2018  WestTexNewMexico  \n",
       "18247  2018  WestTexNewMexico  \n",
       "18248  2018  WestTexNewMexico  \n",
       "\n",
       "[18249 rows x 14 columns]"
      ]
     },
     "execution_count": 1,
     "metadata": {},
     "output_type": "execute_result"
    }
   ],
   "source": [
    "import pandas as pd\n",
    "import numpy as np\n",
    "df=pd.read_csv(\"avocado.csv\")\n",
    "df"
   ]
  },
  {
   "cell_type": "code",
   "execution_count": 2,
   "id": "9dc9d387",
   "metadata": {},
   "outputs": [],
   "source": [
    "df=df[['AveragePrice', 'type','region']]\n",
    "df=df[(df['region']==\"Orlando\")|(df['region']=='Boston')|(df['region']=='Chicago')]"
   ]
  },
  {
   "cell_type": "code",
   "execution_count": 3,
   "id": "5f60a952",
   "metadata": {},
   "outputs": [],
   "source": [
    "df.reset_index(drop=True, inplace=True)"
   ]
  },
  {
   "cell_type": "code",
   "execution_count": 4,
   "id": "ddc8c701",
   "metadata": {},
   "outputs": [
    {
     "name": "stdout",
     "output_type": "stream",
     "text": [
      "<class 'pandas.core.frame.DataFrame'>\n",
      "RangeIndex: 1014 entries, 0 to 1013\n",
      "Data columns (total 3 columns):\n",
      " #   Column        Non-Null Count  Dtype  \n",
      "---  ------        --------------  -----  \n",
      " 0   AveragePrice  1014 non-null   float64\n",
      " 1   type          1014 non-null   object \n",
      " 2   region        1014 non-null   object \n",
      "dtypes: float64(1), object(2)\n",
      "memory usage: 23.9+ KB\n"
     ]
    }
   ],
   "source": [
    "df.info()"
   ]
  },
  {
   "cell_type": "markdown",
   "id": "dd29223b",
   "metadata": {},
   "source": [
    "- 정규분포, 등분산 검정"
   ]
  },
  {
   "cell_type": "markdown",
   "id": "5c52c4fc",
   "metadata": {},
   "source": [
    "- 분산분석 수행"
   ]
  },
  {
   "cell_type": "code",
   "execution_count": 5,
   "id": "40368f8f",
   "metadata": {},
   "outputs": [
    {
     "data": {
      "text/html": [
       "<div>\n",
       "<style scoped>\n",
       "    .dataframe tbody tr th:only-of-type {\n",
       "        vertical-align: middle;\n",
       "    }\n",
       "\n",
       "    .dataframe tbody tr th {\n",
       "        vertical-align: top;\n",
       "    }\n",
       "\n",
       "    .dataframe thead th {\n",
       "        text-align: right;\n",
       "    }\n",
       "</style>\n",
       "<table border=\"1\" class=\"dataframe\">\n",
       "  <thead>\n",
       "    <tr style=\"text-align: right;\">\n",
       "      <th></th>\n",
       "      <th>sum_sq</th>\n",
       "      <th>df</th>\n",
       "      <th>F</th>\n",
       "      <th>PR(&gt;F)</th>\n",
       "    </tr>\n",
       "  </thead>\n",
       "  <tbody>\n",
       "    <tr>\n",
       "      <th>C(type)</th>\n",
       "      <td>56.111007</td>\n",
       "      <td>1.0</td>\n",
       "      <td>828.218296</td>\n",
       "      <td>1.989417e-133</td>\n",
       "    </tr>\n",
       "    <tr>\n",
       "      <th>C(region)</th>\n",
       "      <td>0.432136</td>\n",
       "      <td>2.0</td>\n",
       "      <td>3.189242</td>\n",
       "      <td>4.161918e-02</td>\n",
       "    </tr>\n",
       "    <tr>\n",
       "      <th>C(type):C(region)</th>\n",
       "      <td>1.878817</td>\n",
       "      <td>2.0</td>\n",
       "      <td>13.866003</td>\n",
       "      <td>1.146622e-06</td>\n",
       "    </tr>\n",
       "    <tr>\n",
       "      <th>Residual</th>\n",
       "      <td>68.291047</td>\n",
       "      <td>1008.0</td>\n",
       "      <td>NaN</td>\n",
       "      <td>NaN</td>\n",
       "    </tr>\n",
       "  </tbody>\n",
       "</table>\n",
       "</div>"
      ],
      "text/plain": [
       "                      sum_sq      df           F         PR(>F)\n",
       "C(type)            56.111007     1.0  828.218296  1.989417e-133\n",
       "C(region)           0.432136     2.0    3.189242   4.161918e-02\n",
       "C(type):C(region)   1.878817     2.0   13.866003   1.146622e-06\n",
       "Residual           68.291047  1008.0         NaN            NaN"
      ]
     },
     "execution_count": 5,
     "metadata": {},
     "output_type": "execute_result"
    }
   ],
   "source": [
    "from statsmodels.formula.api import ols\n",
    "from statsmodels.stats.anova import anova_lm\n",
    "formula='AveragePrice~C(type)+C(region)+C(type):C(region)'\n",
    "model=ols(formula, df).fit()\n",
    "aov_table=anova_lm(model, typ=2)\n",
    "aov_table"
   ]
  },
  {
   "cell_type": "markdown",
   "id": "c231fcdf",
   "metadata": {},
   "source": [
    "교호작용에 대한 p는 0.05보다 작으므로 귀무가설을 기각한다. 즉 교호작용이 있다.\n",
    "\n",
    "각각의 X형 변수는 p-value가 0.05보다 작으므로 기각한다. type별에 따른 AveragePrice 평균 간 유의미한 차이가 존재한다.\n",
    "\n",
    "region에 따른 AveragePrice 평균 간 유의미한 차이가 존재한다."
   ]
  },
  {
   "cell_type": "markdown",
   "id": "9cb2dfe1",
   "metadata": {},
   "source": [
    "- 교호작용 확인"
   ]
  },
  {
   "cell_type": "code",
   "execution_count": 6,
   "id": "737b8fbf",
   "metadata": {},
   "outputs": [],
   "source": [
    "from statsmodels.graphics.factorplots import interaction_plot\n",
    "import matplotlib.pyplot as plt"
   ]
  },
  {
   "cell_type": "code",
   "execution_count": 7,
   "id": "00500d96",
   "metadata": {},
   "outputs": [
    {
     "data": {
      "image/png": "[encoded data removed]",
      "text/plain": [
       "<Figure size 432x432 with 1 Axes>"
      ]
     },
     "metadata": {
      "needs_background": "light"
     },
     "output_type": "display_data"
    }
   ],
   "source": [
    "x1=df['type']\n",
    "x2=df['region']\n",
    "y=df['AveragePrice']\n",
    "fig,ax=plt.subplots(figsize=(6,6))\n",
    "fig=interaction_plot(x1, x2, y, colors=['red', 'blue','black'], markers=['D', '^','o'], ms=10, ax=ax)"
   ]
  },
  {
   "cell_type": "markdown",
   "id": "31ef78ce",
   "metadata": {},
   "source": [
    "선이 교차하고 있으므로 상호작용이 존재한다고 할 수 있다."
   ]
  },
  {
   "cell_type": "markdown",
   "id": "96f01e70",
   "metadata": {},
   "source": [
    "### 등분산 검정"
   ]
  },
  {
   "cell_type": "markdown",
   "id": "d5c86e57",
   "metadata": {},
   "source": [
    "회사의 제품의 금속 재질 함유량의 분산이 1.3을 넘으면 불량이라고 판단한다. 회사에서는 품질경영팀으로부터 제조사별로 금속 함유량이 차이가 난다고 제보를 받았다. 해당 금속 함유량 데이터에 대한 검정을 수행하시오.(유의확률 : 0.05)"
   ]
  },
  {
   "cell_type": "markdown",
   "id": "5dcba0fe",
   "metadata": {},
   "source": [
    "(1) 귀무가설 대립가설을 설정하시오\n",
    "\n",
    "H0 : 금속 재질 함유량의 분산은 1.3이다.(제품별 차이는 없다.)\n",
    "\n",
    "H1 : 금속 재질 함유량의 분산은 1.3이 아니다.(제품별 차이가 있다.)"
   ]
  },
  {
   "cell_type": "code",
   "execution_count": 8,
   "id": "ff0e9aa1",
   "metadata": {},
   "outputs": [
    {
     "data": {
      "text/html": [
       "<div>\n",
       "<style scoped>\n",
       "    .dataframe tbody tr th:only-of-type {\n",
       "        vertical-align: middle;\n",
       "    }\n",
       "\n",
       "    .dataframe tbody tr th {\n",
       "        vertical-align: top;\n",
       "    }\n",
       "\n",
       "    .dataframe thead th {\n",
       "        text-align: right;\n",
       "    }\n",
       "</style>\n",
       "<table border=\"1\" class=\"dataframe\">\n",
       "  <thead>\n",
       "    <tr style=\"text-align: right;\">\n",
       "      <th></th>\n",
       "      <th>metalicity</th>\n",
       "    </tr>\n",
       "  </thead>\n",
       "  <tbody>\n",
       "    <tr>\n",
       "      <th>0</th>\n",
       "      <td>42.731551</td>\n",
       "    </tr>\n",
       "    <tr>\n",
       "      <th>1</th>\n",
       "      <td>46.429668</td>\n",
       "    </tr>\n",
       "    <tr>\n",
       "      <th>2</th>\n",
       "      <td>45.754023</td>\n",
       "    </tr>\n",
       "    <tr>\n",
       "      <th>3</th>\n",
       "      <td>45.808060</td>\n",
       "    </tr>\n",
       "    <tr>\n",
       "      <th>4</th>\n",
       "      <td>44.072529</td>\n",
       "    </tr>\n",
       "    <tr>\n",
       "      <th>...</th>\n",
       "      <td>...</td>\n",
       "    </tr>\n",
       "    <tr>\n",
       "      <th>145</th>\n",
       "      <td>45.915727</td>\n",
       "    </tr>\n",
       "    <tr>\n",
       "      <th>146</th>\n",
       "      <td>45.277868</td>\n",
       "    </tr>\n",
       "    <tr>\n",
       "      <th>147</th>\n",
       "      <td>45.082157</td>\n",
       "    </tr>\n",
       "    <tr>\n",
       "      <th>148</th>\n",
       "      <td>44.297235</td>\n",
       "    </tr>\n",
       "    <tr>\n",
       "      <th>149</th>\n",
       "      <td>45.510493</td>\n",
       "    </tr>\n",
       "  </tbody>\n",
       "</table>\n",
       "<p>150 rows × 1 columns</p>\n",
       "</div>"
      ],
      "text/plain": [
       "     metalicity\n",
       "0     42.731551\n",
       "1     46.429668\n",
       "2     45.754023\n",
       "3     45.808060\n",
       "4     44.072529\n",
       "..          ...\n",
       "145   45.915727\n",
       "146   45.277868\n",
       "147   45.082157\n",
       "148   44.297235\n",
       "149   45.510493\n",
       "\n",
       "[150 rows x 1 columns]"
      ]
     },
     "execution_count": 8,
     "metadata": {},
     "output_type": "execute_result"
    }
   ],
   "source": [
    "import pandas as pd\n",
    "import numpy as np\n",
    "df=pd.read_csv('metalicity')\n",
    "df"
   ]
  },
  {
   "cell_type": "code",
   "execution_count": 9,
   "id": "ccf2a87d",
   "metadata": {},
   "outputs": [
    {
     "data": {
      "text/plain": [
       "ShapiroResult(statistic=0.9822468757629395, pvalue=0.05002119019627571)"
      ]
     },
     "execution_count": 9,
     "metadata": {},
     "output_type": "execute_result"
    }
   ],
   "source": [
    "import scipy.stats as stats\n",
    "from scipy.stats import shapiro\n",
    "shapiro(df.metalicity)"
   ]
  },
  {
   "cell_type": "markdown",
   "id": "389e4f55",
   "metadata": {},
   "source": [
    "귀무가설을 기각할 수 없다. 즉 정규성을 따른다."
   ]
  },
  {
   "cell_type": "code",
   "execution_count": 10,
   "id": "b6d6bf02",
   "metadata": {},
   "outputs": [
    {
     "data": {
      "text/plain": [
       "(45.26662991017956, 0.7432009850287773)"
      ]
     },
     "execution_count": 10,
     "metadata": {},
     "output_type": "execute_result"
    }
   ],
   "source": [
    "s_mean=df.metalicity.mean()\n",
    "u_var=df.metalicity.var(ddof=1)\n",
    "n=len(df.metalicity)\n",
    "s_mean, u_var"
   ]
  },
  {
   "cell_type": "markdown",
   "id": "ad68ae87",
   "metadata": {},
   "source": [
    "- 검정통계량"
   ]
  },
  {
   "cell_type": "code",
   "execution_count": 11,
   "id": "717f26e0",
   "metadata": {},
   "outputs": [
    {
     "data": {
      "text/plain": [
       "85.182266745606"
      ]
     },
     "execution_count": 11,
     "metadata": {},
     "output_type": "execute_result"
    }
   ],
   "source": [
    "V=(n-1)*u_var/1.3\n",
    "V"
   ]
  },
  {
   "cell_type": "markdown",
   "id": "fbeb0291",
   "metadata": {},
   "source": [
    "- 채택"
   ]
  },
  {
   "cell_type": "code",
   "execution_count": 12,
   "id": "eb5feaa5",
   "metadata": {},
   "outputs": [
    {
     "data": {
      "text/plain": [
       "(6.066103822435281e-06, 0.9999939338961775)"
      ]
     },
     "execution_count": 12,
     "metadata": {},
     "output_type": "execute_result"
    }
   ],
   "source": [
    "rv=stats.chi2(df=n-1)\n",
    "rv.cdf(V), (1-rv.cdf(V))"
   ]
  },
  {
   "cell_type": "code",
   "execution_count": 13,
   "id": "bd2d4640",
   "metadata": {},
   "outputs": [
    {
     "data": {
      "text/plain": [
       "3.679761558456392e-11"
      ]
     },
     "execution_count": 13,
     "metadata": {},
     "output_type": "execute_result"
    }
   ],
   "source": [
    "#p값\n",
    "rv.cdf(V)**2"
   ]
  },
  {
   "cell_type": "code",
   "execution_count": 15,
   "id": "6d3d6b89",
   "metadata": {},
   "outputs": [
    {
     "data": {
      "text/plain": [
       "(117.09798286232113, 184.68695493443445)"
      ]
     },
     "execution_count": 15,
     "metadata": {},
     "output_type": "execute_result"
    }
   ],
   "source": [
    "#기각역\n",
    "alpha=0.05\n",
    "rv.interval(1-alpha)"
   ]
  },
  {
   "cell_type": "markdown",
   "id": "3843ed17",
   "metadata": {},
   "source": [
    "p값이 0.05보다 작으므로 귀무가설을 기각한다. \n",
    "\n",
    "금속 재질 함유량의 분산은 1.3이 아니다.(제품별 차이가 있다.)"
   ]
  },
  {
   "cell_type": "markdown",
   "id": "21beda61",
   "metadata": {},
   "source": [
    "- 신뢰구간"
   ]
  },
  {
   "cell_type": "code",
   "execution_count": 16,
   "id": "147c117b",
   "metadata": {},
   "outputs": [
    {
     "data": {
      "text/plain": [
       "(0.5995926827024705, 0.9456776629490504)"
      ]
     },
     "execution_count": 16,
     "metadata": {},
     "output_type": "execute_result"
    }
   ],
   "source": [
    "alpha=0.05\n",
    "lcl=(n-1)*u_var/rv.isf(alpha/2)\n",
    "ucl=(n-1)*u_var/rv.isf(1-alpha/2)\n",
    "lcl, ucl"
   ]
  },
  {
   "cell_type": "markdown",
   "id": "27a77806",
   "metadata": {},
   "source": [
    "### Run-test"
   ]
  },
  {
   "cell_type": "markdown",
   "id": "5fe27e3b",
   "metadata": {},
   "source": [
    "- H0 : 관측값이 임의적이다\n",
    "- H1 : 관측값이 임의적이지 않다"
   ]
  },
  {
   "cell_type": "code",
   "execution_count": 17,
   "id": "1e1bcfff",
   "metadata": {},
   "outputs": [
    {
     "data": {
      "text/html": [
       "<div>\n",
       "<style scoped>\n",
       "    .dataframe tbody tr th:only-of-type {\n",
       "        vertical-align: middle;\n",
       "    }\n",
       "\n",
       "    .dataframe tbody tr th {\n",
       "        vertical-align: top;\n",
       "    }\n",
       "\n",
       "    .dataframe thead th {\n",
       "        text-align: right;\n",
       "    }\n",
       "</style>\n",
       "<table border=\"1\" class=\"dataframe\">\n",
       "  <thead>\n",
       "    <tr style=\"text-align: right;\">\n",
       "      <th></th>\n",
       "      <th>product</th>\n",
       "    </tr>\n",
       "  </thead>\n",
       "  <tbody>\n",
       "    <tr>\n",
       "      <th>0</th>\n",
       "      <td>a</td>\n",
       "    </tr>\n",
       "    <tr>\n",
       "      <th>1</th>\n",
       "      <td>a</td>\n",
       "    </tr>\n",
       "    <tr>\n",
       "      <th>2</th>\n",
       "      <td>b</td>\n",
       "    </tr>\n",
       "    <tr>\n",
       "      <th>3</th>\n",
       "      <td>b</td>\n",
       "    </tr>\n",
       "    <tr>\n",
       "      <th>4</th>\n",
       "      <td>a</td>\n",
       "    </tr>\n",
       "    <tr>\n",
       "      <th>5</th>\n",
       "      <td>a</td>\n",
       "    </tr>\n",
       "    <tr>\n",
       "      <th>6</th>\n",
       "      <td>a</td>\n",
       "    </tr>\n",
       "    <tr>\n",
       "      <th>7</th>\n",
       "      <td>a</td>\n",
       "    </tr>\n",
       "    <tr>\n",
       "      <th>8</th>\n",
       "      <td>b</td>\n",
       "    </tr>\n",
       "    <tr>\n",
       "      <th>9</th>\n",
       "      <td>b</td>\n",
       "    </tr>\n",
       "    <tr>\n",
       "      <th>10</th>\n",
       "      <td>b</td>\n",
       "    </tr>\n",
       "    <tr>\n",
       "      <th>11</th>\n",
       "      <td>b</td>\n",
       "    </tr>\n",
       "    <tr>\n",
       "      <th>12</th>\n",
       "      <td>b</td>\n",
       "    </tr>\n",
       "    <tr>\n",
       "      <th>13</th>\n",
       "      <td>a</td>\n",
       "    </tr>\n",
       "    <tr>\n",
       "      <th>14</th>\n",
       "      <td>a</td>\n",
       "    </tr>\n",
       "    <tr>\n",
       "      <th>15</th>\n",
       "      <td>b</td>\n",
       "    </tr>\n",
       "    <tr>\n",
       "      <th>16</th>\n",
       "      <td>b</td>\n",
       "    </tr>\n",
       "    <tr>\n",
       "      <th>17</th>\n",
       "      <td>a</td>\n",
       "    </tr>\n",
       "    <tr>\n",
       "      <th>18</th>\n",
       "      <td>b</td>\n",
       "    </tr>\n",
       "    <tr>\n",
       "      <th>19</th>\n",
       "      <td>b</td>\n",
       "    </tr>\n",
       "  </tbody>\n",
       "</table>\n",
       "</div>"
      ],
      "text/plain": [
       "   product\n",
       "0        a\n",
       "1        a\n",
       "2        b\n",
       "3        b\n",
       "4        a\n",
       "5        a\n",
       "6        a\n",
       "7        a\n",
       "8        b\n",
       "9        b\n",
       "10       b\n",
       "11       b\n",
       "12       b\n",
       "13       a\n",
       "14       a\n",
       "15       b\n",
       "16       b\n",
       "17       a\n",
       "18       b\n",
       "19       b"
      ]
     },
     "execution_count": 17,
     "metadata": {},
     "output_type": "execute_result"
    }
   ],
   "source": [
    "import pandas as pd\n",
    "data=pd.DataFrame({'product':['a','a','b', 'b', 'a','a','a','a','b','b','b','b','b','a','a','b','b','a','b','b']})\n",
    "a=9\n",
    "b=11\n",
    "data"
   ]
  },
  {
   "cell_type": "code",
   "execution_count": 18,
   "id": "36983be0",
   "metadata": {},
   "outputs": [],
   "source": [
    "data.loc[data['product']=='a', 'product']=1\n",
    "data.loc[data['product']=='b', 'product']=0"
   ]
  },
  {
   "cell_type": "code",
   "execution_count": 19,
   "id": "9226bcdc",
   "metadata": {},
   "outputs": [
    {
     "name": "stdout",
     "output_type": "stream",
     "text": [
      "<class 'pandas.core.frame.DataFrame'>\n",
      "RangeIndex: 20 entries, 0 to 19\n",
      "Data columns (total 1 columns):\n",
      " #   Column   Non-Null Count  Dtype \n",
      "---  ------   --------------  ----- \n",
      " 0   product  20 non-null     object\n",
      "dtypes: object(1)\n",
      "memory usage: 288.0+ bytes\n"
     ]
    }
   ],
   "source": [
    "data.info()"
   ]
  },
  {
   "cell_type": "code",
   "execution_count": 20,
   "id": "48ee7c92",
   "metadata": {},
   "outputs": [],
   "source": [
    "from statsmodels.sandbox.stats.runs import runstest_1samp\n",
    "검정통계량, p=runstest_1samp(data['product'])"
   ]
  },
  {
   "cell_type": "code",
   "execution_count": 21,
   "id": "a7e29c8a",
   "metadata": {},
   "outputs": [
    {
     "data": {
      "text/plain": [
       "-1.114"
      ]
     },
     "execution_count": 21,
     "metadata": {},
     "output_type": "execute_result"
    }
   ],
   "source": [
    "round(검정통계량,3)"
   ]
  },
  {
   "cell_type": "code",
   "execution_count": 22,
   "id": "d3c4b598",
   "metadata": {},
   "outputs": [
    {
     "data": {
      "text/plain": [
       "0.26506984027306035"
      ]
     },
     "execution_count": 22,
     "metadata": {},
     "output_type": "execute_result"
    }
   ],
   "source": [
    "p"
   ]
  },
  {
   "cell_type": "markdown",
   "id": "137b9599",
   "metadata": {},
   "source": [
    "p-value가 0.05보다 크므로 귀무가설을 기각할 수 없다. 즉 관측값이 임의적이 아니다. 연관이 있다."
   ]
  },
  {
   "cell_type": "markdown",
   "id": "317fa6ce",
   "metadata": {},
   "source": [
    "### 검정\n",
    "공장에서는 시제품의 농도가 60%라고 주장하며 품질관리팀에서 10개의 샘플을 뽑았다. 유의수준 5%에서 다음을 검정하시오."
   ]
  },
  {
   "cell_type": "markdown",
   "id": "ddf7ca7f",
   "metadata": {},
   "source": [
    "(1) 연구가설, 귀무가설을 작성하시오.\n",
    "- H0 : 시제품의 농도는 60%이다.\n",
    "- H1 : 시제품의 농도는 60%가 아니다."
   ]
  },
  {
   "cell_type": "markdown",
   "id": "9ccd89d4",
   "metadata": {},
   "source": [
    "(2) 유효한 샘플의 수를 계산하시오."
   ]
  },
  {
   "cell_type": "markdown",
   "id": "dff2017c",
   "metadata": {},
   "source": [
    "10개의 샘플은 비모수검정으로 윌콕슨의 부호순위 검정을 진행한다."
   ]
  },
  {
   "cell_type": "code",
   "execution_count": 23,
   "id": "eb271fa3",
   "metadata": {},
   "outputs": [
    {
     "data": {
      "text/html": [
       "<div>\n",
       "<style scoped>\n",
       "    .dataframe tbody tr th:only-of-type {\n",
       "        vertical-align: middle;\n",
       "    }\n",
       "\n",
       "    .dataframe tbody tr th {\n",
       "        vertical-align: top;\n",
       "    }\n",
       "\n",
       "    .dataframe thead th {\n",
       "        text-align: right;\n",
       "    }\n",
       "</style>\n",
       "<table border=\"1\" class=\"dataframe\">\n",
       "  <thead>\n",
       "    <tr style=\"text-align: right;\">\n",
       "      <th></th>\n",
       "      <th>data</th>\n",
       "    </tr>\n",
       "  </thead>\n",
       "  <tbody>\n",
       "    <tr>\n",
       "      <th>0</th>\n",
       "      <td>52</td>\n",
       "    </tr>\n",
       "    <tr>\n",
       "      <th>1</th>\n",
       "      <td>50</td>\n",
       "    </tr>\n",
       "    <tr>\n",
       "      <th>2</th>\n",
       "      <td>62</td>\n",
       "    </tr>\n",
       "    <tr>\n",
       "      <th>3</th>\n",
       "      <td>75</td>\n",
       "    </tr>\n",
       "    <tr>\n",
       "      <th>4</th>\n",
       "      <td>26</td>\n",
       "    </tr>\n",
       "    <tr>\n",
       "      <th>5</th>\n",
       "      <td>45</td>\n",
       "    </tr>\n",
       "    <tr>\n",
       "      <th>6</th>\n",
       "      <td>62</td>\n",
       "    </tr>\n",
       "    <tr>\n",
       "      <th>7</th>\n",
       "      <td>35</td>\n",
       "    </tr>\n",
       "    <tr>\n",
       "      <th>8</th>\n",
       "      <td>57</td>\n",
       "    </tr>\n",
       "    <tr>\n",
       "      <th>9</th>\n",
       "      <td>14</td>\n",
       "    </tr>\n",
       "  </tbody>\n",
       "</table>\n",
       "</div>"
      ],
      "text/plain": [
       "   data\n",
       "0    52\n",
       "1    50\n",
       "2    62\n",
       "3    75\n",
       "4    26\n",
       "5    45\n",
       "6    62\n",
       "7    35\n",
       "8    57\n",
       "9    14"
      ]
     },
     "execution_count": 23,
     "metadata": {},
     "output_type": "execute_result"
    }
   ],
   "source": [
    "df=pd.DataFrame({'data':[52, 50, 62, 75, 26, 45, 62, 35, 57, 14]})\n",
    "df"
   ]
  },
  {
   "cell_type": "code",
   "execution_count": 24,
   "id": "e77b0b06",
   "metadata": {},
   "outputs": [
    {
     "data": {
      "text/plain": [
       "51.0"
      ]
     },
     "execution_count": 24,
     "metadata": {},
     "output_type": "execute_result"
    }
   ],
   "source": [
    "df['data'].median()"
   ]
  },
  {
   "cell_type": "code",
   "execution_count": 25,
   "id": "b6a0cbe8",
   "metadata": {},
   "outputs": [
    {
     "data": {
      "text/plain": [
       "Counter({52: 1, 50: 1, 62: 2, 75: 1, 26: 1, 45: 1, 35: 1, 57: 1, 14: 1})"
      ]
     },
     "execution_count": 25,
     "metadata": {},
     "output_type": "execute_result"
    }
   ],
   "source": [
    "from collections import Counter\n",
    "Counter(df.data)"
   ]
  },
  {
   "cell_type": "markdown",
   "id": "50ad8931",
   "metadata": {},
   "source": [
    "제거할 것이 없다. 유효한 샘플수는 "
   ]
  },
  {
   "cell_type": "code",
   "execution_count": 26,
   "id": "0cae1694",
   "metadata": {},
   "outputs": [
    {
     "data": {
      "text/plain": [
       "10"
      ]
     },
     "execution_count": 26,
     "metadata": {},
     "output_type": "execute_result"
    }
   ],
   "source": [
    "len(df.data)"
   ]
  },
  {
   "cell_type": "code",
   "execution_count": 27,
   "id": "0b2dfb60",
   "metadata": {},
   "outputs": [
    {
     "data": {
      "text/plain": [
       "ShapiroResult(statistic=0.965764582157135, pvalue=0.849041759967804)"
      ]
     },
     "execution_count": 27,
     "metadata": {},
     "output_type": "execute_result"
    }
   ],
   "source": [
    "shapiro(df.data)"
   ]
  },
  {
   "cell_type": "code",
   "execution_count": 28,
   "id": "b7c0a5c2",
   "metadata": {},
   "outputs": [
    {
     "data": {
      "text/plain": [
       "WilcoxonResult(statistic=9.5, pvalue=0.064453125)"
      ]
     },
     "execution_count": 28,
     "metadata": {},
     "output_type": "execute_result"
    }
   ],
   "source": [
    "stats.wilcoxon(df.data-60, alternative='two-sided')"
   ]
  },
  {
   "cell_type": "markdown",
   "id": "b51804d4",
   "metadata": {},
   "source": [
    "귀무가설을 기각할 수 없다. 즉 시제품 농도는 60%이다."
   ]
  },
  {
   "cell_type": "markdown",
   "id": "6e74febb",
   "metadata": {},
   "source": [
    "### 시계열데이터->덴드로그램"
   ]
  },
  {
   "cell_type": "markdown",
   "id": "b33817e4",
   "metadata": {},
   "source": [
    "코로나 시계열 데이터로 다음을 수행하시오\n",
    "\n",
    "(1) ACF를 사용해서 distance를 계산하시오.\n",
    "\n",
    "(2) 계층적 군집 분석을 위해 덴드로그램을 작성하시오."
   ]
  },
  {
   "cell_type": "code",
   "execution_count": 29,
   "id": "50987fce",
   "metadata": {},
   "outputs": [
    {
     "data": {
      "text/html": [
       "<div>\n",
       "<style scoped>\n",
       "    .dataframe tbody tr th:only-of-type {\n",
       "        vertical-align: middle;\n",
       "    }\n",
       "\n",
       "    .dataframe tbody tr th {\n",
       "        vertical-align: top;\n",
       "    }\n",
       "\n",
       "    .dataframe thead th {\n",
       "        text-align: right;\n",
       "    }\n",
       "</style>\n",
       "<table border=\"1\" class=\"dataframe\">\n",
       "  <thead>\n",
       "    <tr style=\"text-align: right;\">\n",
       "      <th></th>\n",
       "      <th>종로구</th>\n",
       "      <th>중구</th>\n",
       "      <th>용산구</th>\n",
       "      <th>성동구</th>\n",
       "      <th>광진구</th>\n",
       "      <th>동대문구</th>\n",
       "      <th>중랑구</th>\n",
       "      <th>성북구</th>\n",
       "      <th>강북구</th>\n",
       "      <th>도봉구</th>\n",
       "      <th>...</th>\n",
       "      <th>강서구</th>\n",
       "      <th>구로구</th>\n",
       "      <th>금천구</th>\n",
       "      <th>영등포구</th>\n",
       "      <th>동작구</th>\n",
       "      <th>관악구</th>\n",
       "      <th>서초구</th>\n",
       "      <th>강남구</th>\n",
       "      <th>송파구</th>\n",
       "      <th>강동구</th>\n",
       "    </tr>\n",
       "  </thead>\n",
       "  <tbody>\n",
       "    <tr>\n",
       "      <th>0</th>\n",
       "      <td>37261</td>\n",
       "      <td>33753</td>\n",
       "      <td>55376</td>\n",
       "      <td>81018</td>\n",
       "      <td>96008</td>\n",
       "      <td>95433</td>\n",
       "      <td>103288</td>\n",
       "      <td>116862</td>\n",
       "      <td>75118</td>\n",
       "      <td>82254</td>\n",
       "      <td>...</td>\n",
       "      <td>148359</td>\n",
       "      <td>109973</td>\n",
       "      <td>63687</td>\n",
       "      <td>110293</td>\n",
       "      <td>106238</td>\n",
       "      <td>132305</td>\n",
       "      <td>104368</td>\n",
       "      <td>136200</td>\n",
       "      <td>176765</td>\n",
       "      <td>121926</td>\n",
       "    </tr>\n",
       "    <tr>\n",
       "      <th>1</th>\n",
       "      <td>36216</td>\n",
       "      <td>32835</td>\n",
       "      <td>53872</td>\n",
       "      <td>79030</td>\n",
       "      <td>93474</td>\n",
       "      <td>92993</td>\n",
       "      <td>100255</td>\n",
       "      <td>113609</td>\n",
       "      <td>72934</td>\n",
       "      <td>79677</td>\n",
       "      <td>...</td>\n",
       "      <td>143573</td>\n",
       "      <td>106162</td>\n",
       "      <td>61840</td>\n",
       "      <td>106171</td>\n",
       "      <td>102955</td>\n",
       "      <td>127626</td>\n",
       "      <td>100529</td>\n",
       "      <td>132333</td>\n",
       "      <td>172292</td>\n",
       "      <td>118842</td>\n",
       "    </tr>\n",
       "    <tr>\n",
       "      <th>2</th>\n",
       "      <td>35276</td>\n",
       "      <td>31878</td>\n",
       "      <td>52391</td>\n",
       "      <td>76802</td>\n",
       "      <td>91030</td>\n",
       "      <td>90277</td>\n",
       "      <td>97419</td>\n",
       "      <td>110583</td>\n",
       "      <td>70754</td>\n",
       "      <td>77878</td>\n",
       "      <td>...</td>\n",
       "      <td>139633</td>\n",
       "      <td>103573</td>\n",
       "      <td>59946</td>\n",
       "      <td>104109</td>\n",
       "      <td>100665</td>\n",
       "      <td>124805</td>\n",
       "      <td>98869</td>\n",
       "      <td>128813</td>\n",
       "      <td>167386</td>\n",
       "      <td>115846</td>\n",
       "    </tr>\n",
       "    <tr>\n",
       "      <th>3</th>\n",
       "      <td>34879</td>\n",
       "      <td>31577</td>\n",
       "      <td>51652</td>\n",
       "      <td>76108</td>\n",
       "      <td>89876</td>\n",
       "      <td>89302</td>\n",
       "      <td>96359</td>\n",
       "      <td>109500</td>\n",
       "      <td>70003</td>\n",
       "      <td>76542</td>\n",
       "      <td>...</td>\n",
       "      <td>137908</td>\n",
       "      <td>102610</td>\n",
       "      <td>59393</td>\n",
       "      <td>102916</td>\n",
       "      <td>99426</td>\n",
       "      <td>123374</td>\n",
       "      <td>96873</td>\n",
       "      <td>126296</td>\n",
       "      <td>165373</td>\n",
       "      <td>113549</td>\n",
       "    </tr>\n",
       "    <tr>\n",
       "      <th>4</th>\n",
       "      <td>34061</td>\n",
       "      <td>30903</td>\n",
       "      <td>50720</td>\n",
       "      <td>74178</td>\n",
       "      <td>87770</td>\n",
       "      <td>87345</td>\n",
       "      <td>93690</td>\n",
       "      <td>106437</td>\n",
       "      <td>68329</td>\n",
       "      <td>75119</td>\n",
       "      <td>...</td>\n",
       "      <td>134285</td>\n",
       "      <td>99938</td>\n",
       "      <td>57925</td>\n",
       "      <td>100349</td>\n",
       "      <td>96989</td>\n",
       "      <td>120413</td>\n",
       "      <td>95124</td>\n",
       "      <td>123992</td>\n",
       "      <td>161650</td>\n",
       "      <td>110649</td>\n",
       "    </tr>\n",
       "    <tr>\n",
       "      <th>...</th>\n",
       "      <td>...</td>\n",
       "      <td>...</td>\n",
       "      <td>...</td>\n",
       "      <td>...</td>\n",
       "      <td>...</td>\n",
       "      <td>...</td>\n",
       "      <td>...</td>\n",
       "      <td>...</td>\n",
       "      <td>...</td>\n",
       "      <td>...</td>\n",
       "      <td>...</td>\n",
       "      <td>...</td>\n",
       "      <td>...</td>\n",
       "      <td>...</td>\n",
       "      <td>...</td>\n",
       "      <td>...</td>\n",
       "      <td>...</td>\n",
       "      <td>...</td>\n",
       "      <td>...</td>\n",
       "      <td>...</td>\n",
       "      <td>...</td>\n",
       "    </tr>\n",
       "    <tr>\n",
       "      <th>780</th>\n",
       "      <td>0</td>\n",
       "      <td>0</td>\n",
       "      <td>0</td>\n",
       "      <td>0</td>\n",
       "      <td>0</td>\n",
       "      <td>0</td>\n",
       "      <td>0</td>\n",
       "      <td>0</td>\n",
       "      <td>0</td>\n",
       "      <td>0</td>\n",
       "      <td>...</td>\n",
       "      <td>0</td>\n",
       "      <td>0</td>\n",
       "      <td>0</td>\n",
       "      <td>0</td>\n",
       "      <td>0</td>\n",
       "      <td>0</td>\n",
       "      <td>0</td>\n",
       "      <td>0</td>\n",
       "      <td>0</td>\n",
       "      <td>0</td>\n",
       "    </tr>\n",
       "    <tr>\n",
       "      <th>781</th>\n",
       "      <td>0</td>\n",
       "      <td>0</td>\n",
       "      <td>0</td>\n",
       "      <td>0</td>\n",
       "      <td>0</td>\n",
       "      <td>0</td>\n",
       "      <td>0</td>\n",
       "      <td>0</td>\n",
       "      <td>0</td>\n",
       "      <td>0</td>\n",
       "      <td>...</td>\n",
       "      <td>0</td>\n",
       "      <td>0</td>\n",
       "      <td>0</td>\n",
       "      <td>0</td>\n",
       "      <td>0</td>\n",
       "      <td>0</td>\n",
       "      <td>0</td>\n",
       "      <td>0</td>\n",
       "      <td>0</td>\n",
       "      <td>0</td>\n",
       "    </tr>\n",
       "    <tr>\n",
       "      <th>782</th>\n",
       "      <td>0</td>\n",
       "      <td>0</td>\n",
       "      <td>0</td>\n",
       "      <td>0</td>\n",
       "      <td>0</td>\n",
       "      <td>0</td>\n",
       "      <td>0</td>\n",
       "      <td>0</td>\n",
       "      <td>0</td>\n",
       "      <td>0</td>\n",
       "      <td>...</td>\n",
       "      <td>0</td>\n",
       "      <td>0</td>\n",
       "      <td>0</td>\n",
       "      <td>0</td>\n",
       "      <td>0</td>\n",
       "      <td>0</td>\n",
       "      <td>0</td>\n",
       "      <td>0</td>\n",
       "      <td>0</td>\n",
       "      <td>0</td>\n",
       "    </tr>\n",
       "    <tr>\n",
       "      <th>783</th>\n",
       "      <td>3</td>\n",
       "      <td>0</td>\n",
       "      <td>0</td>\n",
       "      <td>0</td>\n",
       "      <td>0</td>\n",
       "      <td>0</td>\n",
       "      <td>1</td>\n",
       "      <td>2</td>\n",
       "      <td>0</td>\n",
       "      <td>0</td>\n",
       "      <td>...</td>\n",
       "      <td>1</td>\n",
       "      <td>0</td>\n",
       "      <td>0</td>\n",
       "      <td>0</td>\n",
       "      <td>0</td>\n",
       "      <td>0</td>\n",
       "      <td>0</td>\n",
       "      <td>0</td>\n",
       "      <td>1</td>\n",
       "      <td>0</td>\n",
       "    </tr>\n",
       "    <tr>\n",
       "      <th>784</th>\n",
       "      <td>3</td>\n",
       "      <td>0</td>\n",
       "      <td>0</td>\n",
       "      <td>0</td>\n",
       "      <td>0</td>\n",
       "      <td>0</td>\n",
       "      <td>1</td>\n",
       "      <td>2</td>\n",
       "      <td>0</td>\n",
       "      <td>0</td>\n",
       "      <td>...</td>\n",
       "      <td>1</td>\n",
       "      <td>0</td>\n",
       "      <td>0</td>\n",
       "      <td>0</td>\n",
       "      <td>0</td>\n",
       "      <td>0</td>\n",
       "      <td>0</td>\n",
       "      <td>0</td>\n",
       "      <td>1</td>\n",
       "      <td>0</td>\n",
       "    </tr>\n",
       "  </tbody>\n",
       "</table>\n",
       "<p>785 rows × 25 columns</p>\n",
       "</div>"
      ],
      "text/plain": [
       "       종로구     중구    용산구    성동구    광진구   동대문구     중랑구     성북구    강북구    도봉구  \\\n",
       "0    37261  33753  55376  81018  96008  95433  103288  116862  75118  82254   \n",
       "1    36216  32835  53872  79030  93474  92993  100255  113609  72934  79677   \n",
       "2    35276  31878  52391  76802  91030  90277   97419  110583  70754  77878   \n",
       "3    34879  31577  51652  76108  89876  89302   96359  109500  70003  76542   \n",
       "4    34061  30903  50720  74178  87770  87345   93690  106437  68329  75119   \n",
       "..     ...    ...    ...    ...    ...    ...     ...     ...    ...    ...   \n",
       "780      0      0      0      0      0      0       0       0      0      0   \n",
       "781      0      0      0      0      0      0       0       0      0      0   \n",
       "782      0      0      0      0      0      0       0       0      0      0   \n",
       "783      3      0      0      0      0      0       1       2      0      0   \n",
       "784      3      0      0      0      0      0       1       2      0      0   \n",
       "\n",
       "     ...     강서구     구로구    금천구    영등포구     동작구     관악구     서초구     강남구  \\\n",
       "0    ...  148359  109973  63687  110293  106238  132305  104368  136200   \n",
       "1    ...  143573  106162  61840  106171  102955  127626  100529  132333   \n",
       "2    ...  139633  103573  59946  104109  100665  124805   98869  128813   \n",
       "3    ...  137908  102610  59393  102916   99426  123374   96873  126296   \n",
       "4    ...  134285   99938  57925  100349   96989  120413   95124  123992   \n",
       "..   ...     ...     ...    ...     ...     ...     ...     ...     ...   \n",
       "780  ...       0       0      0       0       0       0       0       0   \n",
       "781  ...       0       0      0       0       0       0       0       0   \n",
       "782  ...       0       0      0       0       0       0       0       0   \n",
       "783  ...       1       0      0       0       0       0       0       0   \n",
       "784  ...       1       0      0       0       0       0       0       0   \n",
       "\n",
       "        송파구     강동구  \n",
       "0    176765  121926  \n",
       "1    172292  118842  \n",
       "2    167386  115846  \n",
       "3    165373  113549  \n",
       "4    161650  110649  \n",
       "..      ...     ...  \n",
       "780       0       0  \n",
       "781       0       0  \n",
       "782       0       0  \n",
       "783       1       0  \n",
       "784       1       0  \n",
       "\n",
       "[785 rows x 25 columns]"
      ]
     },
     "execution_count": 29,
     "metadata": {},
     "output_type": "execute_result"
    }
   ],
   "source": [
    "import pandas as pd\n",
    "df=pd.read_csv(\"서울특별시 코로나19.csv\")\n",
    "df=df.iloc[:, 1:]\n",
    "df"
   ]
  },
  {
   "cell_type": "code",
   "execution_count": 33,
   "id": "7b2a1aec",
   "metadata": {},
   "outputs": [
    {
     "data": {
      "text/html": [
       "<div>\n",
       "<style scoped>\n",
       "    .dataframe tbody tr th:only-of-type {\n",
       "        vertical-align: middle;\n",
       "    }\n",
       "\n",
       "    .dataframe tbody tr th {\n",
       "        vertical-align: top;\n",
       "    }\n",
       "\n",
       "    .dataframe thead th {\n",
       "        text-align: right;\n",
       "    }\n",
       "</style>\n",
       "<table border=\"1\" class=\"dataframe\">\n",
       "  <thead>\n",
       "    <tr style=\"text-align: right;\">\n",
       "      <th></th>\n",
       "      <th>종로구</th>\n",
       "      <th>중구</th>\n",
       "      <th>용산구</th>\n",
       "      <th>성동구</th>\n",
       "      <th>광진구</th>\n",
       "      <th>동대문구</th>\n",
       "      <th>중랑구</th>\n",
       "      <th>성북구</th>\n",
       "      <th>강북구</th>\n",
       "      <th>도봉구</th>\n",
       "      <th>...</th>\n",
       "      <th>강서구</th>\n",
       "      <th>구로구</th>\n",
       "      <th>금천구</th>\n",
       "      <th>영등포구</th>\n",
       "      <th>동작구</th>\n",
       "      <th>관악구</th>\n",
       "      <th>서초구</th>\n",
       "      <th>강남구</th>\n",
       "      <th>송파구</th>\n",
       "      <th>강동구</th>\n",
       "    </tr>\n",
       "  </thead>\n",
       "  <tbody>\n",
       "    <tr>\n",
       "      <th>0</th>\n",
       "      <td>1.000000</td>\n",
       "      <td>1.000000</td>\n",
       "      <td>1.000000</td>\n",
       "      <td>1.000000</td>\n",
       "      <td>1.000000</td>\n",
       "      <td>1.000000</td>\n",
       "      <td>1.000000</td>\n",
       "      <td>1.000000</td>\n",
       "      <td>1.000000</td>\n",
       "      <td>1.000000</td>\n",
       "      <td>...</td>\n",
       "      <td>1.000000</td>\n",
       "      <td>1.000000</td>\n",
       "      <td>1.000000</td>\n",
       "      <td>1.000000</td>\n",
       "      <td>1.000000</td>\n",
       "      <td>1.000000</td>\n",
       "      <td>1.000000</td>\n",
       "      <td>1.000000</td>\n",
       "      <td>1.000000</td>\n",
       "      <td>1.000000</td>\n",
       "    </tr>\n",
       "    <tr>\n",
       "      <th>1</th>\n",
       "      <td>0.965624</td>\n",
       "      <td>0.966025</td>\n",
       "      <td>0.965807</td>\n",
       "      <td>0.964843</td>\n",
       "      <td>0.965118</td>\n",
       "      <td>0.966179</td>\n",
       "      <td>0.964429</td>\n",
       "      <td>0.964386</td>\n",
       "      <td>0.964873</td>\n",
       "      <td>0.964677</td>\n",
       "      <td>...</td>\n",
       "      <td>0.963102</td>\n",
       "      <td>0.964896</td>\n",
       "      <td>0.964495</td>\n",
       "      <td>0.964211</td>\n",
       "      <td>0.964682</td>\n",
       "      <td>0.964599</td>\n",
       "      <td>0.964920</td>\n",
       "      <td>0.965594</td>\n",
       "      <td>0.965216</td>\n",
       "      <td>0.964788</td>\n",
       "    </tr>\n",
       "    <tr>\n",
       "      <th>2</th>\n",
       "      <td>0.932172</td>\n",
       "      <td>0.932933</td>\n",
       "      <td>0.932148</td>\n",
       "      <td>0.930035</td>\n",
       "      <td>0.930705</td>\n",
       "      <td>0.932781</td>\n",
       "      <td>0.929547</td>\n",
       "      <td>0.929349</td>\n",
       "      <td>0.930425</td>\n",
       "      <td>0.930168</td>\n",
       "      <td>...</td>\n",
       "      <td>0.927079</td>\n",
       "      <td>0.930870</td>\n",
       "      <td>0.929726</td>\n",
       "      <td>0.929708</td>\n",
       "      <td>0.930160</td>\n",
       "      <td>0.930349</td>\n",
       "      <td>0.931073</td>\n",
       "      <td>0.931913</td>\n",
       "      <td>0.930854</td>\n",
       "      <td>0.930000</td>\n",
       "    </tr>\n",
       "    <tr>\n",
       "      <th>3</th>\n",
       "      <td>0.899077</td>\n",
       "      <td>0.900435</td>\n",
       "      <td>0.899075</td>\n",
       "      <td>0.895739</td>\n",
       "      <td>0.896734</td>\n",
       "      <td>0.900063</td>\n",
       "      <td>0.895251</td>\n",
       "      <td>0.894822</td>\n",
       "      <td>0.896665</td>\n",
       "      <td>0.895849</td>\n",
       "      <td>...</td>\n",
       "      <td>0.891603</td>\n",
       "      <td>0.897198</td>\n",
       "      <td>0.895662</td>\n",
       "      <td>0.895164</td>\n",
       "      <td>0.895834</td>\n",
       "      <td>0.896316</td>\n",
       "      <td>0.897017</td>\n",
       "      <td>0.898790</td>\n",
       "      <td>0.897147</td>\n",
       "      <td>0.895648</td>\n",
       "    </tr>\n",
       "    <tr>\n",
       "      <th>4</th>\n",
       "      <td>0.865542</td>\n",
       "      <td>0.867391</td>\n",
       "      <td>0.865682</td>\n",
       "      <td>0.860691</td>\n",
       "      <td>0.862274</td>\n",
       "      <td>0.866781</td>\n",
       "      <td>0.860302</td>\n",
       "      <td>0.859554</td>\n",
       "      <td>0.862291</td>\n",
       "      <td>0.861332</td>\n",
       "      <td>...</td>\n",
       "      <td>0.855502</td>\n",
       "      <td>0.862796</td>\n",
       "      <td>0.860914</td>\n",
       "      <td>0.860051</td>\n",
       "      <td>0.860964</td>\n",
       "      <td>0.861660</td>\n",
       "      <td>0.863028</td>\n",
       "      <td>0.865697</td>\n",
       "      <td>0.862857</td>\n",
       "      <td>0.861294</td>\n",
       "    </tr>\n",
       "    <tr>\n",
       "      <th>...</th>\n",
       "      <td>...</td>\n",
       "      <td>...</td>\n",
       "      <td>...</td>\n",
       "      <td>...</td>\n",
       "      <td>...</td>\n",
       "      <td>...</td>\n",
       "      <td>...</td>\n",
       "      <td>...</td>\n",
       "      <td>...</td>\n",
       "      <td>...</td>\n",
       "      <td>...</td>\n",
       "      <td>...</td>\n",
       "      <td>...</td>\n",
       "      <td>...</td>\n",
       "      <td>...</td>\n",
       "      <td>...</td>\n",
       "      <td>...</td>\n",
       "      <td>...</td>\n",
       "      <td>...</td>\n",
       "      <td>...</td>\n",
       "      <td>...</td>\n",
       "    </tr>\n",
       "    <tr>\n",
       "      <th>780</th>\n",
       "      <td>-0.017175</td>\n",
       "      <td>-0.017212</td>\n",
       "      <td>-0.017232</td>\n",
       "      <td>-0.015171</td>\n",
       "      <td>-0.015231</td>\n",
       "      <td>-0.016054</td>\n",
       "      <td>-0.016019</td>\n",
       "      <td>-0.015739</td>\n",
       "      <td>-0.015857</td>\n",
       "      <td>-0.015638</td>\n",
       "      <td>...</td>\n",
       "      <td>-0.015340</td>\n",
       "      <td>-0.016170</td>\n",
       "      <td>-0.015477</td>\n",
       "      <td>-0.016447</td>\n",
       "      <td>-0.016157</td>\n",
       "      <td>-0.016273</td>\n",
       "      <td>-0.016151</td>\n",
       "      <td>-0.016955</td>\n",
       "      <td>-0.015392</td>\n",
       "      <td>-0.015228</td>\n",
       "    </tr>\n",
       "    <tr>\n",
       "      <th>781</th>\n",
       "      <td>-0.013889</td>\n",
       "      <td>-0.013915</td>\n",
       "      <td>-0.013929</td>\n",
       "      <td>-0.012270</td>\n",
       "      <td>-0.012320</td>\n",
       "      <td>-0.012982</td>\n",
       "      <td>-0.012970</td>\n",
       "      <td>-0.012738</td>\n",
       "      <td>-0.012831</td>\n",
       "      <td>-0.012644</td>\n",
       "      <td>...</td>\n",
       "      <td>-0.012420</td>\n",
       "      <td>-0.013083</td>\n",
       "      <td>-0.012523</td>\n",
       "      <td>-0.013303</td>\n",
       "      <td>-0.013069</td>\n",
       "      <td>-0.013163</td>\n",
       "      <td>-0.013059</td>\n",
       "      <td>-0.013717</td>\n",
       "      <td>-0.012449</td>\n",
       "      <td>-0.012334</td>\n",
       "    </tr>\n",
       "    <tr>\n",
       "      <th>782</th>\n",
       "      <td>-0.010519</td>\n",
       "      <td>-0.010542</td>\n",
       "      <td>-0.010562</td>\n",
       "      <td>-0.009290</td>\n",
       "      <td>-0.009335</td>\n",
       "      <td>-0.009836</td>\n",
       "      <td>-0.009829</td>\n",
       "      <td>-0.009646</td>\n",
       "      <td>-0.009726</td>\n",
       "      <td>-0.009589</td>\n",
       "      <td>...</td>\n",
       "      <td>-0.009417</td>\n",
       "      <td>-0.009909</td>\n",
       "      <td>-0.009490</td>\n",
       "      <td>-0.010075</td>\n",
       "      <td>-0.009899</td>\n",
       "      <td>-0.009972</td>\n",
       "      <td>-0.009907</td>\n",
       "      <td>-0.010415</td>\n",
       "      <td>-0.009434</td>\n",
       "      <td>-0.009360</td>\n",
       "    </tr>\n",
       "    <tr>\n",
       "      <th>783</th>\n",
       "      <td>-0.007108</td>\n",
       "      <td>-0.007135</td>\n",
       "      <td>-0.007144</td>\n",
       "      <td>-0.006282</td>\n",
       "      <td>-0.006309</td>\n",
       "      <td>-0.006655</td>\n",
       "      <td>-0.006652</td>\n",
       "      <td>-0.006522</td>\n",
       "      <td>-0.006586</td>\n",
       "      <td>-0.006479</td>\n",
       "      <td>...</td>\n",
       "      <td>-0.006374</td>\n",
       "      <td>-0.006704</td>\n",
       "      <td>-0.006427</td>\n",
       "      <td>-0.006808</td>\n",
       "      <td>-0.006687</td>\n",
       "      <td>-0.006742</td>\n",
       "      <td>-0.006686</td>\n",
       "      <td>-0.007044</td>\n",
       "      <td>-0.006380</td>\n",
       "      <td>-0.006323</td>\n",
       "    </tr>\n",
       "    <tr>\n",
       "      <th>784</th>\n",
       "      <td>-0.003608</td>\n",
       "      <td>-0.003619</td>\n",
       "      <td>-0.003624</td>\n",
       "      <td>-0.003182</td>\n",
       "      <td>-0.003199</td>\n",
       "      <td>-0.003373</td>\n",
       "      <td>-0.003378</td>\n",
       "      <td>-0.003309</td>\n",
       "      <td>-0.003344</td>\n",
       "      <td>-0.003294</td>\n",
       "      <td>...</td>\n",
       "      <td>-0.003242</td>\n",
       "      <td>-0.003414</td>\n",
       "      <td>-0.003263</td>\n",
       "      <td>-0.003472</td>\n",
       "      <td>-0.003399</td>\n",
       "      <td>-0.003435</td>\n",
       "      <td>-0.003409</td>\n",
       "      <td>-0.003576</td>\n",
       "      <td>-0.003233</td>\n",
       "      <td>-0.003204</td>\n",
       "    </tr>\n",
       "  </tbody>\n",
       "</table>\n",
       "<p>785 rows × 25 columns</p>\n",
       "</div>"
      ],
      "text/plain": [
       "          종로구        중구       용산구       성동구       광진구      동대문구       중랑구  \\\n",
       "0    1.000000  1.000000  1.000000  1.000000  1.000000  1.000000  1.000000   \n",
       "1    0.965624  0.966025  0.965807  0.964843  0.965118  0.966179  0.964429   \n",
       "2    0.932172  0.932933  0.932148  0.930035  0.930705  0.932781  0.929547   \n",
       "3    0.899077  0.900435  0.899075  0.895739  0.896734  0.900063  0.895251   \n",
       "4    0.865542  0.867391  0.865682  0.860691  0.862274  0.866781  0.860302   \n",
       "..        ...       ...       ...       ...       ...       ...       ...   \n",
       "780 -0.017175 -0.017212 -0.017232 -0.015171 -0.015231 -0.016054 -0.016019   \n",
       "781 -0.013889 -0.013915 -0.013929 -0.012270 -0.012320 -0.012982 -0.012970   \n",
       "782 -0.010519 -0.010542 -0.010562 -0.009290 -0.009335 -0.009836 -0.009829   \n",
       "783 -0.007108 -0.007135 -0.007144 -0.006282 -0.006309 -0.006655 -0.006652   \n",
       "784 -0.003608 -0.003619 -0.003624 -0.003182 -0.003199 -0.003373 -0.003378   \n",
       "\n",
       "          성북구       강북구       도봉구  ...       강서구       구로구       금천구  \\\n",
       "0    1.000000  1.000000  1.000000  ...  1.000000  1.000000  1.000000   \n",
       "1    0.964386  0.964873  0.964677  ...  0.963102  0.964896  0.964495   \n",
       "2    0.929349  0.930425  0.930168  ...  0.927079  0.930870  0.929726   \n",
       "3    0.894822  0.896665  0.895849  ...  0.891603  0.897198  0.895662   \n",
       "4    0.859554  0.862291  0.861332  ...  0.855502  0.862796  0.860914   \n",
       "..        ...       ...       ...  ...       ...       ...       ...   \n",
       "780 -0.015739 -0.015857 -0.015638  ... -0.015340 -0.016170 -0.015477   \n",
       "781 -0.012738 -0.012831 -0.012644  ... -0.012420 -0.013083 -0.012523   \n",
       "782 -0.009646 -0.009726 -0.009589  ... -0.009417 -0.009909 -0.009490   \n",
       "783 -0.006522 -0.006586 -0.006479  ... -0.006374 -0.006704 -0.006427   \n",
       "784 -0.003309 -0.003344 -0.003294  ... -0.003242 -0.003414 -0.003263   \n",
       "\n",
       "         영등포구       동작구       관악구       서초구       강남구       송파구       강동구  \n",
       "0    1.000000  1.000000  1.000000  1.000000  1.000000  1.000000  1.000000  \n",
       "1    0.964211  0.964682  0.964599  0.964920  0.965594  0.965216  0.964788  \n",
       "2    0.929708  0.930160  0.930349  0.931073  0.931913  0.930854  0.930000  \n",
       "3    0.895164  0.895834  0.896316  0.897017  0.898790  0.897147  0.895648  \n",
       "4    0.860051  0.860964  0.861660  0.863028  0.865697  0.862857  0.861294  \n",
       "..        ...       ...       ...       ...       ...       ...       ...  \n",
       "780 -0.016447 -0.016157 -0.016273 -0.016151 -0.016955 -0.015392 -0.015228  \n",
       "781 -0.013303 -0.013069 -0.013163 -0.013059 -0.013717 -0.012449 -0.012334  \n",
       "782 -0.010075 -0.009899 -0.009972 -0.009907 -0.010415 -0.009434 -0.009360  \n",
       "783 -0.006808 -0.006687 -0.006742 -0.006686 -0.007044 -0.006380 -0.006323  \n",
       "784 -0.003472 -0.003399 -0.003435 -0.003409 -0.003576 -0.003233 -0.003204  \n",
       "\n",
       "[785 rows x 25 columns]"
      ]
     },
     "execution_count": 33,
     "metadata": {},
     "output_type": "execute_result"
    }
   ],
   "source": [
    "import numpy as np\n",
    "import statsmodels.api as sm #ACF distance\n",
    "from statsmodels.tsa.arima_process import ArmaProcess #ARMA\n",
    "\n",
    "#warinng 무시\n",
    "import warnings\n",
    "warnings.filterwarnings('ignore')\n",
    "\n",
    "def acf(x, n_lags):\n",
    "    return sm.tsa.stattools.acf(x, nlags=n_lags)\n",
    "\n",
    "n_lags=785 #데이터개수\n",
    "lag_arr=np.repeat(n_lags, df.shape[1]) #df.shape[1] : 컬럼개수\n",
    "\n",
    "acf_list=list(map(acf, df.transpose().to_numpy(), lag_arr)) #한번 transpose, acf 계산\n",
    "acf_df=pd.DataFrame(acf_list).transpose() #원상복귀\n",
    "acf_df.columns=df.columns\n",
    "\n",
    "acf_df"
   ]
  },
  {
   "cell_type": "code",
   "execution_count": 34,
   "id": "45668776",
   "metadata": {},
   "outputs": [],
   "source": [
    "#계층적 군집분석 형태를 맞추기 위해 acf_df를 transpose\n",
    "acf_df=acf_df.T"
   ]
  },
  {
   "cell_type": "code",
   "execution_count": 35,
   "id": "916a62a3",
   "metadata": {},
   "outputs": [],
   "source": [
    "import scipy.cluster.hierarchy as sch #계층적 군집분석 수행\n",
    "import matplotlib.pyplot as plt\n",
    "from matplotlib import font_manager, rc\n",
    "\n",
    "#폰트설정\n",
    "font_path=\"C:/Windows/Fonts/gulim.ttc\"\n",
    "font=font_manager.FontProperties(fname=font_path).get_name()\n",
    "rc('font', family=font)\n",
    "\n",
    "#warinng 무시\n",
    "import warnings\n",
    "warnings.filterwarnings('ignore')"
   ]
  },
  {
   "cell_type": "markdown",
   "id": "057b6078",
   "metadata": {},
   "source": [
    "- 덴드로그램"
   ]
  },
  {
   "cell_type": "code",
   "execution_count": 36,
   "id": "53503c9e",
   "metadata": {},
   "outputs": [
    {
     "data": {
      "image/png": "[encoded data removed]",
      "text/plain": [
       "<Figure size 1080x360 with 1 Axes>"
      ]
     },
     "metadata": {
      "needs_background": "light"
     },
     "output_type": "display_data"
    }
   ],
   "source": [
    "plt.figure(figsize=(15,5))\n",
    "\n",
    "#acf_df의 지역 인덱스를 label에 담음\n",
    "label=acf_df.index\n",
    "\n",
    "#계층적 군집분석 수행\n",
    "dend1=sch.linkage(acf_df, method='average')\n",
    "\n",
    "#임곗값 설정\n",
    "cutoff=0.3*max(dend1[:,2])\n",
    "\n",
    "#덴드로그램\n",
    "dend_res1=sch.dendrogram(dend1, color_threshold=cutoff, labels=label)\n",
    "plt.axhline(y=cutoff, color='r', linewidth=1)\n",
    "plt.show()"
   ]
  },
  {
   "cell_type": "code",
   "execution_count": null,
   "id": "f834a5e4",
   "metadata": {},
   "outputs": [],
   "source": []
  }
 ],
 "metadata": {
  "kernelspec": {
   "display_name": "Python 3 (ipykernel)",
   "language": "python",
   "name": "python3"
  },
  "language_info": {
   "codemirror_mode": {
    "name": "ipython",
    "version": 3
   },
   "file_extension": ".py",
   "mimetype": "text/x-python",
   "name": "python",
   "nbconvert_exporter": "python",
   "pygments_lexer": "ipython3",
   "version": "3.8.5"
  }
 },
 "nbformat": 4,
 "nbformat_minor": 5
}
