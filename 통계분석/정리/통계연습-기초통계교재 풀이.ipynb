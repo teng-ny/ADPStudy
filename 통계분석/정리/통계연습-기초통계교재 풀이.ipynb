{
 "cells": [
  {
   "cell_type": "markdown",
   "id": "963e82dd",
   "metadata": {},
   "source": [
    "### 대응표본T검정"
   ]
  },
  {
   "cell_type": "code",
   "execution_count": 2,
   "id": "6b922d09",
   "metadata": {},
   "outputs": [
    {
     "data": {
      "text/html": [
       "<div>\n",
       "<style scoped>\n",
       "    .dataframe tbody tr th:only-of-type {\n",
       "        vertical-align: middle;\n",
       "    }\n",
       "\n",
       "    .dataframe tbody tr th {\n",
       "        vertical-align: top;\n",
       "    }\n",
       "\n",
       "    .dataframe thead th {\n",
       "        text-align: right;\n",
       "    }\n",
       "</style>\n",
       "<table border=\"1\" class=\"dataframe\">\n",
       "  <thead>\n",
       "    <tr style=\"text-align: right;\">\n",
       "      <th></th>\n",
       "      <th>before</th>\n",
       "      <th>after</th>\n",
       "    </tr>\n",
       "  </thead>\n",
       "  <tbody>\n",
       "    <tr>\n",
       "      <th>0</th>\n",
       "      <td>157</td>\n",
       "      <td>155</td>\n",
       "    </tr>\n",
       "    <tr>\n",
       "      <th>1</th>\n",
       "      <td>182</td>\n",
       "      <td>185</td>\n",
       "    </tr>\n",
       "    <tr>\n",
       "      <th>2</th>\n",
       "      <td>183</td>\n",
       "      <td>181</td>\n",
       "    </tr>\n",
       "    <tr>\n",
       "      <th>3</th>\n",
       "      <td>192</td>\n",
       "      <td>188</td>\n",
       "    </tr>\n",
       "    <tr>\n",
       "      <th>4</th>\n",
       "      <td>165</td>\n",
       "      <td>167</td>\n",
       "    </tr>\n",
       "    <tr>\n",
       "      <th>5</th>\n",
       "      <td>196</td>\n",
       "      <td>183</td>\n",
       "    </tr>\n",
       "  </tbody>\n",
       "</table>\n",
       "</div>"
      ],
      "text/plain": [
       "   before  after\n",
       "0     157    155\n",
       "1     182    185\n",
       "2     183    181\n",
       "3     192    188\n",
       "4     165    167\n",
       "5     196    183"
      ]
     },
     "execution_count": 2,
     "metadata": {},
     "output_type": "execute_result"
    }
   ],
   "source": [
    "import pandas as pd\n",
    "import numpy as np\n",
    "import scipy.stats as stats\n",
    "data=pd.DataFrame({'before':[157, 182, 183, 192, 165, 196], 'after':[155, 185, 181, 188, 167, 183]})\n",
    "data"
   ]
  },
  {
   "cell_type": "code",
   "execution_count": 3,
   "id": "8205bfe7",
   "metadata": {},
   "outputs": [
    {
     "data": {
      "text/plain": [
       "ShapiroResult(statistic=0.9219964146614075, pvalue=0.5198547840118408)"
      ]
     },
     "execution_count": 3,
     "metadata": {},
     "output_type": "execute_result"
    }
   ],
   "source": [
    "from scipy.stats import shapiro\n",
    "shapiro(data.before)"
   ]
  },
  {
   "cell_type": "code",
   "execution_count": 4,
   "id": "fca4da93",
   "metadata": {},
   "outputs": [
    {
     "data": {
      "text/plain": [
       "ShapiroResult(statistic=0.8535251617431641, pvalue=0.16803431510925293)"
      ]
     },
     "execution_count": 4,
     "metadata": {},
     "output_type": "execute_result"
    }
   ],
   "source": [
    "shapiro(data.after)"
   ]
  },
  {
   "cell_type": "markdown",
   "id": "2eb995ba",
   "metadata": {},
   "source": [
    "정규분포를 가정하므로 t-test"
   ]
  },
  {
   "cell_type": "code",
   "execution_count": 5,
   "id": "a564c0ca",
   "metadata": {},
   "outputs": [
    {
     "data": {
      "text/plain": [
       "Ttest_relResult(statistic=1.142857142857143, pvalue=0.304851412039469)"
      ]
     },
     "execution_count": 5,
     "metadata": {},
     "output_type": "execute_result"
    }
   ],
   "source": [
    "stats.ttest_rel(data.before, data.after,  alternative='two-sided')"
   ]
  },
  {
   "cell_type": "markdown",
   "id": "32fa333e",
   "metadata": {},
   "source": [
    "귀무가설을 기각할 수 없다. 즉 전, 후 모평균 사이의 차이는 없다."
   ]
  },
  {
   "cell_type": "markdown",
   "id": "bdadec26",
   "metadata": {},
   "source": [
    "### 모비율 검정"
   ]
  },
  {
   "cell_type": "markdown",
   "id": "54cf0ef3",
   "metadata": {},
   "source": [
    "- 검정통계량"
   ]
  },
  {
   "cell_type": "code",
   "execution_count": 10,
   "id": "9a865c46",
   "metadata": {},
   "outputs": [
    {
     "data": {
      "text/plain": [
       "1.94"
      ]
     },
     "execution_count": 10,
     "metadata": {},
     "output_type": "execute_result"
    }
   ],
   "source": [
    "n=500\n",
    "z=(0.24-0.205)/np.sqrt(0.205*0.795/n)\n",
    "round(z,2)"
   ]
  },
  {
   "cell_type": "markdown",
   "id": "5302c66b",
   "metadata": {},
   "source": [
    "검정통계량은 1.94"
   ]
  },
  {
   "cell_type": "code",
   "execution_count": 12,
   "id": "9780bb64",
   "metadata": {},
   "outputs": [
    {
     "data": {
      "text/plain": [
       "0.05254770102936823"
      ]
     },
     "execution_count": 12,
     "metadata": {},
     "output_type": "execute_result"
    }
   ],
   "source": [
    "rv=stats.norm()\n",
    "p=(1-rv.cdf(z))*2\n",
    "p"
   ]
  },
  {
   "cell_type": "markdown",
   "id": "591dc1f3",
   "metadata": {},
   "source": [
    "p값이 0.05보다 크므로 귀무가설을 기각할 수 없다. 모비율은 20.5%라고할 수 있다."
   ]
  },
  {
   "cell_type": "markdown",
   "id": "c60919b2",
   "metadata": {},
   "source": [
    "### 모비율 차의 검정"
   ]
  },
  {
   "cell_type": "code",
   "execution_count": 13,
   "id": "e79fe688",
   "metadata": {},
   "outputs": [
    {
     "data": {
      "text/plain": [
       "1.6044483693678184"
      ]
     },
     "execution_count": 13,
     "metadata": {},
     "output_type": "execute_result"
    }
   ],
   "source": [
    "p1=627/952\n",
    "p2=651/1043\n",
    "n1=952\n",
    "n2=1043\n",
    "q1=1-627/952\n",
    "q2=1-651/1043\n",
    "\n",
    "#검정통계량\n",
    "z=(p1-p2)/np.sqrt(p1*q1/n1+p2*q2/n2)\n",
    "z"
   ]
  },
  {
   "cell_type": "markdown",
   "id": "41a3a219",
   "metadata": {},
   "source": [
    "검정통계량은 1.604이다."
   ]
  },
  {
   "cell_type": "code",
   "execution_count": 14,
   "id": "b403b5c4",
   "metadata": {},
   "outputs": [
    {
     "data": {
      "text/plain": [
       "0.10861525647356007"
      ]
     },
     "execution_count": 14,
     "metadata": {},
     "output_type": "execute_result"
    }
   ],
   "source": [
    "rv=stats.norm()\n",
    "p=(1-rv.cdf(z))*2\n",
    "p"
   ]
  },
  {
   "cell_type": "code",
   "execution_count": 15,
   "id": "6a5121a5",
   "metadata": {},
   "outputs": [
    {
     "data": {
      "text/plain": [
       "(-1.959963984540054, 1.959963984540054)"
      ]
     },
     "execution_count": 15,
     "metadata": {},
     "output_type": "execute_result"
    }
   ],
   "source": [
    "#기각역\n",
    "alpha=0.05\n",
    "rv.interval(1-alpha)"
   ]
  },
  {
   "cell_type": "markdown",
   "id": "c5a63bad",
   "metadata": {},
   "source": [
    "p값이 0.05보다 크므로 귀무가설을 기각할 수 없다. 즉 청년층과 장년층 선호도에는 차이가 없다."
   ]
  },
  {
   "cell_type": "markdown",
   "id": "cf629766",
   "metadata": {},
   "source": [
    "### 독립표본T검정인데 n이 대표본임 "
   ]
  },
  {
   "cell_type": "code",
   "execution_count": 16,
   "id": "60ab2bdf",
   "metadata": {},
   "outputs": [],
   "source": [
    "mean_A=13.5\n",
    "mean_B=14.1\n",
    "var_A=1.46**2\n",
    "var_B=1.33**2\n",
    "n_A=64\n",
    "n_B=36"
   ]
  },
  {
   "cell_type": "code",
   "execution_count": 17,
   "id": "63e31fb1",
   "metadata": {},
   "outputs": [
    {
     "data": {
      "text/plain": [
       "-2.0896619735236412"
      ]
     },
     "execution_count": 17,
     "metadata": {},
     "output_type": "execute_result"
    }
   ],
   "source": [
    "z=(mean_A-mean_B)/np.sqrt(var_A/n_A+var_B/n_B)\n",
    "z"
   ]
  },
  {
   "cell_type": "code",
   "execution_count": 18,
   "id": "b08a5423",
   "metadata": {},
   "outputs": [
    {
     "data": {
      "text/plain": [
       "0.03664817519569912"
      ]
     },
     "execution_count": 18,
     "metadata": {},
     "output_type": "execute_result"
    }
   ],
   "source": [
    "rv=stats.norm()\n",
    "p=rv.cdf(z)*2\n",
    "p"
   ]
  },
  {
   "cell_type": "markdown",
   "id": "43cd29ca",
   "metadata": {},
   "source": [
    "귀무가설을 채택한다. 즉 A회사 타이어 평균과, B회사 타이어 평균 사이의 차이가 없다고할 수 었다."
   ]
  },
  {
   "cell_type": "markdown",
   "id": "fac3f74f",
   "metadata": {},
   "source": [
    "### 독립표본T검정인데 n이 소표본임"
   ]
  },
  {
   "cell_type": "code",
   "execution_count": 19,
   "id": "33491683",
   "metadata": {},
   "outputs": [],
   "source": [
    "mean_A=364\n",
    "mean_B=330\n",
    "var_A=45**2\n",
    "var_B=60**2\n",
    "n_A=15\n",
    "n_B=16"
   ]
  },
  {
   "cell_type": "code",
   "execution_count": 20,
   "id": "e554aa57",
   "metadata": {},
   "outputs": [
    {
     "data": {
      "text/plain": [
       "53.28841499250839"
      ]
     },
     "execution_count": 20,
     "metadata": {},
     "output_type": "execute_result"
    }
   ],
   "source": [
    "sp=np.sqrt(((n_A-1)*var_A+(n_B-1)*var_B)/(n_A+n_B-2))\n",
    "sp"
   ]
  },
  {
   "cell_type": "code",
   "execution_count": 21,
   "id": "b3a1a103",
   "metadata": {},
   "outputs": [
    {
     "data": {
      "text/plain": [
       "1.775296464501227"
      ]
     },
     "execution_count": 21,
     "metadata": {},
     "output_type": "execute_result"
    }
   ],
   "source": [
    "t=(mean_A-mean_B)/(sp*np.sqrt(1/n_A+1/n_B))\n",
    "t"
   ]
  },
  {
   "cell_type": "markdown",
   "id": "ddecb31d",
   "metadata": {},
   "source": [
    "검정통계량은 1.78임\n",
    "\n",
    "- 채택"
   ]
  },
  {
   "cell_type": "code",
   "execution_count": 22,
   "id": "79a70ed1",
   "metadata": {},
   "outputs": [
    {
     "data": {
      "text/plain": [
       "0.08634624040151406"
      ]
     },
     "execution_count": 22,
     "metadata": {},
     "output_type": "execute_result"
    }
   ],
   "source": [
    "rv=stats.t(df=n_A+n_B-2)\n",
    "p=(1-rv.cdf(t))*2\n",
    "p"
   ]
  },
  {
   "cell_type": "markdown",
   "id": "81044c6b",
   "metadata": {},
   "source": [
    "귀무가설을 기각할 수 없다. 즉 지역A와 지역B의 쌀 생산량의 차이는 없다."
   ]
  },
  {
   "cell_type": "markdown",
   "id": "6e872f50",
   "metadata": {},
   "source": [
    "### 모비율의 신뢰구간"
   ]
  },
  {
   "cell_type": "code",
   "execution_count": 31,
   "id": "71157b84",
   "metadata": {},
   "outputs": [
    {
     "data": {
      "text/plain": [
       "(0.006, 0.0337)"
      ]
     },
     "execution_count": 31,
     "metadata": {},
     "output_type": "execute_result"
    }
   ],
   "source": [
    "p=8/400\n",
    "q=1-8/400\n",
    "alpha=0.05\n",
    "n=400\n",
    "rv=stats.norm()\n",
    "lcl=p-rv.isf(alpha/2)*np.sqrt(p*q/n)\n",
    "ucl=p-rv.isf(1-alpha/2)*np.sqrt(p*q/n)\n",
    "round(lcl,3), round(ucl,4)"
   ]
  },
  {
   "cell_type": "code",
   "execution_count": 26,
   "id": "f1ac7fa5",
   "metadata": {},
   "outputs": [
    {
     "data": {
      "text/plain": [
       "0.02"
      ]
     },
     "execution_count": 26,
     "metadata": {},
     "output_type": "execute_result"
    }
   ],
   "source": [
    "p"
   ]
  },
  {
   "cell_type": "code",
   "execution_count": 27,
   "id": "efc6f6bc",
   "metadata": {},
   "outputs": [
    {
     "data": {
      "text/plain": [
       "0.98"
      ]
     },
     "execution_count": 27,
     "metadata": {},
     "output_type": "execute_result"
    }
   ],
   "source": [
    "q"
   ]
  },
  {
   "cell_type": "code",
   "execution_count": 28,
   "id": "1cb15dce",
   "metadata": {},
   "outputs": [
    {
     "data": {
      "text/plain": [
       "1.9599639845400545"
      ]
     },
     "execution_count": 28,
     "metadata": {},
     "output_type": "execute_result"
    }
   ],
   "source": [
    "rv.isf(alpha/2)"
   ]
  },
  {
   "cell_type": "code",
   "execution_count": 29,
   "id": "d40d5777",
   "metadata": {},
   "outputs": [
    {
     "data": {
      "text/plain": [
       "0.013719747891780381"
      ]
     },
     "execution_count": 29,
     "metadata": {},
     "output_type": "execute_result"
    }
   ],
   "source": [
    "rv.isf(alpha/2)*np.sqrt(p*q/n)"
   ]
  },
  {
   "cell_type": "code",
   "execution_count": 32,
   "id": "98372ae8",
   "metadata": {},
   "outputs": [
    {
     "data": {
      "text/plain": [
       "0.013719747891780378"
      ]
     },
     "execution_count": 32,
     "metadata": {},
     "output_type": "execute_result"
    }
   ],
   "source": [
    "-rv.isf(1-alpha/2)*np.sqrt(p*q/n)"
   ]
  },
  {
   "cell_type": "markdown",
   "id": "eac9dd78",
   "metadata": {},
   "source": [
    "### 모비율 차의 신뢰구간 추정"
   ]
  },
  {
   "cell_type": "code",
   "execution_count": 33,
   "id": "c6ca2466",
   "metadata": {},
   "outputs": [],
   "source": [
    "n1=300\n",
    "n2=300\n",
    "p1=291/300\n",
    "p2=285/300\n",
    "q1=1-291/300\n",
    "q2=1-285/300\n",
    "alpha=0.05\n",
    "rv=stats.norm()"
   ]
  },
  {
   "cell_type": "code",
   "execution_count": 34,
   "id": "8a594768",
   "metadata": {},
   "outputs": [
    {
     "data": {
      "text/plain": [
       "(-0.011318564551246066, 0.051318564551246094)"
      ]
     },
     "execution_count": 34,
     "metadata": {},
     "output_type": "execute_result"
    }
   ],
   "source": [
    "ucl=(p1-p2)-rv.isf(alpha/2)*np.sqrt(p1*q1/n1+p2*q2/n2)\n",
    "lcl=(p1-p2)-rv.isf(1-alpha/2)*np.sqrt(p1*q1/n1+p2*q2/n2)\n",
    "ucl, lcl"
   ]
  }
 ],
 "metadata": {
  "kernelspec": {
   "display_name": "Python 3 (ipykernel)",
   "language": "python",
   "name": "python3"
  },
  "language_info": {
   "codemirror_mode": {
    "name": "ipython",
    "version": 3
   },
   "file_extension": ".py",
   "mimetype": "text/x-python",
   "name": "python",
   "nbconvert_exporter": "python",
   "pygments_lexer": "ipython3",
   "version": "3.8.5"
  }
 },
 "nbformat": 4,
 "nbformat_minor": 5
}
