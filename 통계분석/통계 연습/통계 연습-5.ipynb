{
 "cells": [
  {
   "cell_type": "code",
   "execution_count": 1,
   "id": "23b6f0d5",
   "metadata": {},
   "outputs": [
    {
     "data": {
      "text/html": [
       "<div>\n",
       "<style scoped>\n",
       "    .dataframe tbody tr th:only-of-type {\n",
       "        vertical-align: middle;\n",
       "    }\n",
       "\n",
       "    .dataframe tbody tr th {\n",
       "        vertical-align: top;\n",
       "    }\n",
       "\n",
       "    .dataframe thead th {\n",
       "        text-align: right;\n",
       "    }\n",
       "</style>\n",
       "<table border=\"1\" class=\"dataframe\">\n",
       "  <thead>\n",
       "    <tr style=\"text-align: right;\">\n",
       "      <th></th>\n",
       "      <th>company_num</th>\n",
       "      <th>google_adwords</th>\n",
       "      <th>facebook</th>\n",
       "      <th>twitter</th>\n",
       "      <th>marketing_total</th>\n",
       "      <th>revenues</th>\n",
       "      <th>employees</th>\n",
       "      <th>pop_density</th>\n",
       "    </tr>\n",
       "  </thead>\n",
       "  <tbody>\n",
       "    <tr>\n",
       "      <th>0</th>\n",
       "      <td>1</td>\n",
       "      <td>65.66</td>\n",
       "      <td>47.86</td>\n",
       "      <td>52.46</td>\n",
       "      <td>166</td>\n",
       "      <td>39.26</td>\n",
       "      <td>5</td>\n",
       "      <td>High</td>\n",
       "    </tr>\n",
       "    <tr>\n",
       "      <th>1</th>\n",
       "      <td>2</td>\n",
       "      <td>39.10</td>\n",
       "      <td>55.20</td>\n",
       "      <td>77.40</td>\n",
       "      <td>172</td>\n",
       "      <td>38.90</td>\n",
       "      <td>7</td>\n",
       "      <td>Medium</td>\n",
       "    </tr>\n",
       "    <tr>\n",
       "      <th>2</th>\n",
       "      <td>3</td>\n",
       "      <td>174.81</td>\n",
       "      <td>52.01</td>\n",
       "      <td>68.01</td>\n",
       "      <td>295</td>\n",
       "      <td>49.51</td>\n",
       "      <td>11</td>\n",
       "      <td>Medium</td>\n",
       "    </tr>\n",
       "  </tbody>\n",
       "</table>\n",
       "</div>"
      ],
      "text/plain": [
       "   company_num  google_adwords  facebook  twitter  marketing_total  revenues  \\\n",
       "0            1           65.66     47.86    52.46              166     39.26   \n",
       "1            2           39.10     55.20    77.40              172     38.90   \n",
       "2            3          174.81     52.01    68.01              295     49.51   \n",
       "\n",
       "   employees pop_density  \n",
       "0          5        High  \n",
       "1          7      Medium  \n",
       "2         11      Medium  "
      ]
     },
     "execution_count": 1,
     "metadata": {},
     "output_type": "execute_result"
    }
   ],
   "source": [
    "import pandas as pd\n",
    "import numpy as np\n",
    "df=pd.read_csv(\"bike_marketing.csv\")\n",
    "df.head(3)"
   ]
  },
  {
   "cell_type": "code",
   "execution_count": 2,
   "id": "edf79f5b",
   "metadata": {},
   "outputs": [
    {
     "name": "stdout",
     "output_type": "stream",
     "text": [
      "<class 'pandas.core.frame.DataFrame'>\n",
      "RangeIndex: 172 entries, 0 to 171\n",
      "Data columns (total 8 columns):\n",
      " #   Column           Non-Null Count  Dtype  \n",
      "---  ------           --------------  -----  \n",
      " 0   company_num      172 non-null    int64  \n",
      " 1   google_adwords   172 non-null    float64\n",
      " 2   facebook         172 non-null    float64\n",
      " 3   twitter          172 non-null    float64\n",
      " 4   marketing_total  172 non-null    int64  \n",
      " 5   revenues         172 non-null    float64\n",
      " 6   employees        172 non-null    int64  \n",
      " 7   pop_density      172 non-null    object \n",
      "dtypes: float64(4), int64(3), object(1)\n",
      "memory usage: 10.9+ KB\n"
     ]
    }
   ],
   "source": [
    "df.info()"
   ]
  },
  {
   "cell_type": "code",
   "execution_count": 3,
   "id": "36c485c8",
   "metadata": {},
   "outputs": [],
   "source": [
    "df['pop_density']=df['pop_density'].astype('category')"
   ]
  },
  {
   "cell_type": "code",
   "execution_count": 4,
   "id": "191c97ba",
   "metadata": {},
   "outputs": [
    {
     "name": "stdout",
     "output_type": "stream",
     "text": [
      "<class 'pandas.core.frame.DataFrame'>\n",
      "RangeIndex: 172 entries, 0 to 171\n",
      "Data columns (total 8 columns):\n",
      " #   Column           Non-Null Count  Dtype   \n",
      "---  ------           --------------  -----   \n",
      " 0   company_num      172 non-null    int64   \n",
      " 1   google_adwords   172 non-null    float64 \n",
      " 2   facebook         172 non-null    float64 \n",
      " 3   twitter          172 non-null    float64 \n",
      " 4   marketing_total  172 non-null    int64   \n",
      " 5   revenues         172 non-null    float64 \n",
      " 6   employees        172 non-null    int64   \n",
      " 7   pop_density      172 non-null    category\n",
      "dtypes: category(1), float64(4), int64(3)\n",
      "memory usage: 9.8 KB\n"
     ]
    }
   ],
   "source": [
    "df.info()"
   ]
  },
  {
   "cell_type": "code",
   "execution_count": 5,
   "id": "4d07ea1a",
   "metadata": {},
   "outputs": [
    {
     "data": {
      "text/html": [
       "<div>\n",
       "<style scoped>\n",
       "    .dataframe tbody tr th:only-of-type {\n",
       "        vertical-align: middle;\n",
       "    }\n",
       "\n",
       "    .dataframe tbody tr th {\n",
       "        vertical-align: top;\n",
       "    }\n",
       "\n",
       "    .dataframe thead th {\n",
       "        text-align: right;\n",
       "    }\n",
       "</style>\n",
       "<table border=\"1\" class=\"dataframe\">\n",
       "  <thead>\n",
       "    <tr style=\"text-align: right;\">\n",
       "      <th></th>\n",
       "      <th>company_num</th>\n",
       "      <th>google_adwords</th>\n",
       "      <th>facebook</th>\n",
       "      <th>twitter</th>\n",
       "      <th>marketing_total</th>\n",
       "      <th>revenues</th>\n",
       "      <th>employees</th>\n",
       "      <th>pop_density</th>\n",
       "    </tr>\n",
       "  </thead>\n",
       "  <tbody>\n",
       "    <tr>\n",
       "      <th>0</th>\n",
       "      <td>1</td>\n",
       "      <td>65.66</td>\n",
       "      <td>47.86</td>\n",
       "      <td>52.46</td>\n",
       "      <td>166</td>\n",
       "      <td>39.26</td>\n",
       "      <td>5</td>\n",
       "      <td>High</td>\n",
       "    </tr>\n",
       "    <tr>\n",
       "      <th>1</th>\n",
       "      <td>2</td>\n",
       "      <td>39.10</td>\n",
       "      <td>55.20</td>\n",
       "      <td>77.40</td>\n",
       "      <td>172</td>\n",
       "      <td>38.90</td>\n",
       "      <td>7</td>\n",
       "      <td>Medium</td>\n",
       "    </tr>\n",
       "    <tr>\n",
       "      <th>2</th>\n",
       "      <td>3</td>\n",
       "      <td>174.81</td>\n",
       "      <td>52.01</td>\n",
       "      <td>68.01</td>\n",
       "      <td>295</td>\n",
       "      <td>49.51</td>\n",
       "      <td>11</td>\n",
       "      <td>Medium</td>\n",
       "    </tr>\n",
       "  </tbody>\n",
       "</table>\n",
       "</div>"
      ],
      "text/plain": [
       "   company_num  google_adwords  facebook  twitter  marketing_total  revenues  \\\n",
       "0            1           65.66     47.86    52.46              166     39.26   \n",
       "1            2           39.10     55.20    77.40              172     38.90   \n",
       "2            3          174.81     52.01    68.01              295     49.51   \n",
       "\n",
       "   employees pop_density  \n",
       "0          5        High  \n",
       "1          7      Medium  \n",
       "2         11      Medium  "
      ]
     },
     "execution_count": 5,
     "metadata": {},
     "output_type": "execute_result"
    }
   ],
   "source": [
    "df.head(3)"
   ]
  },
  {
   "cell_type": "code",
   "execution_count": 6,
   "id": "2d1a2a57",
   "metadata": {},
   "outputs": [
    {
     "data": {
      "text/plain": [
       "['High', 'Medium', 'Low']\n",
       "Categories (3, object): ['High', 'Low', 'Medium']"
      ]
     },
     "execution_count": 6,
     "metadata": {},
     "output_type": "execute_result"
    }
   ],
   "source": [
    "df.pop_density.unique()"
   ]
  },
  {
   "cell_type": "code",
   "execution_count": 7,
   "id": "5e0e511d",
   "metadata": {},
   "outputs": [],
   "source": [
    "high=df.loc[df['pop_density']=='High','revenues']\n",
    "medium=df.loc[df['pop_density']=='Medium', 'revenues']\n",
    "low=df.loc[df['pop_density']=='Low', 'revenues']"
   ]
  },
  {
   "cell_type": "code",
   "execution_count": 9,
   "id": "228216f0",
   "metadata": {},
   "outputs": [
    {
     "data": {
      "text/plain": [
       "ShapiroResult(statistic=0.9552056789398193, pvalue=0.04857487604022026)"
      ]
     },
     "execution_count": 9,
     "metadata": {},
     "output_type": "execute_result"
    }
   ],
   "source": [
    "import scipy.stats as stats\n",
    "stats.shapiro(high)"
   ]
  },
  {
   "cell_type": "code",
   "execution_count": 10,
   "id": "a8a6f048",
   "metadata": {},
   "outputs": [
    {
     "data": {
      "text/plain": [
       "ShapiroResult(statistic=0.9450081586837769, pvalue=0.017985567450523376)"
      ]
     },
     "execution_count": 10,
     "metadata": {},
     "output_type": "execute_result"
    }
   ],
   "source": [
    "stats.shapiro(medium)"
   ]
  },
  {
   "cell_type": "code",
   "execution_count": 11,
   "id": "d77795ed",
   "metadata": {},
   "outputs": [
    {
     "data": {
      "text/plain": [
       "ShapiroResult(statistic=0.9840328693389893, pvalue=0.5353288650512695)"
      ]
     },
     "execution_count": 11,
     "metadata": {},
     "output_type": "execute_result"
    }
   ],
   "source": [
    "stats.shapiro(low)"
   ]
  },
  {
   "cell_type": "code",
   "execution_count": 12,
   "id": "6b3c0c37",
   "metadata": {},
   "outputs": [
    {
     "data": {
      "text/plain": [
       "KruskalResult(statistic=0.900557928910252, pvalue=0.6374503008400596)"
      ]
     },
     "execution_count": 12,
     "metadata": {},
     "output_type": "execute_result"
    }
   ],
   "source": [
    "stats.kruskal(high, medium, low)"
   ]
  },
  {
   "cell_type": "markdown",
   "id": "981f1e1a",
   "metadata": {},
   "source": [
    "귀무가설을 기각할 수 없다. 즉 pop_density 간 모평균에 차이가 없다."
   ]
  },
  {
   "cell_type": "code",
   "execution_count": 15,
   "id": "a7088fd4",
   "metadata": {},
   "outputs": [],
   "source": [
    "from patsy import dmatrices\n",
    "y_train, X_train=dmatrices(\"revenues~google_adwords+facebook+twitter+marketing_total+employees\", data=df, return_type=\"dataframe\")"
   ]
  },
  {
   "cell_type": "code",
   "execution_count": 18,
   "id": "5f1c0909",
   "metadata": {},
   "outputs": [],
   "source": [
    "#warinng 무시\n",
    "import warnings\n",
    "warnings.filterwarnings('ignore')\n",
    "# OLS 회귀를 위한 라이브러리 호출\n",
    "import statsmodels.api as sm\n",
    "\n",
    "# add_constant를 통해 상수항 생성\n",
    "X_train = sm.add_constant(X_train)\n",
    "\n",
    "# 모델 형성 및 결과 출력\n",
    "model = sm.OLS(y_train, X_train).fit()\n",
    "##model.summary()"
   ]
  },
  {
   "cell_type": "code",
   "execution_count": 19,
   "id": "038653da",
   "metadata": {},
   "outputs": [],
   "source": [
    "# feature 및 target\n",
    "variables = X_train.columns.tolist() \n",
    "y = y_train \n",
    "\n",
    "# 선택된 변수들 list 생성\n",
    "forward_valriables = []\n",
    "\n",
    "# 전진선택시 P 값을 고려할 때, 선택과 제거 임계치 설정    \n",
    "sl_enter = 0.05\n",
    "sl_remove = 0.05\n",
    "\n",
    "# 각 스텝별로 선택된 변수들\n",
    "sv_per_step = [] \n",
    "# 각 스텝별 수정된 결정계수\n",
    "adj_r_squared_list = []\n",
    "# 스텝\n",
    "steps = []\n",
    "step = 0\n",
    "\n",
    "\n",
    "while len(variables) > 0:\n",
    "    remainder = list(set(variables) - set(forward_valriables))\n",
    "    pval = pd.Series(index=remainder) ## 변수의 p-value\n",
    "    ## 기존에 포함된 변수와 새로운 변수 하나씩 돌아가면서 \n",
    "    ## 선형 모형을 적합한다.\n",
    "    for col in remainder: \n",
    "        X = X_train[forward_valriables+[col]]\n",
    "        X = sm.add_constant(X)\n",
    "        model = sm.OLS(y,X).fit(disp=0)\n",
    "        pval[col] = model.pvalues[col]\n",
    " \n",
    "    min_pval = pval.min()\n",
    "    if min_pval < sl_enter: ## 최소 p-value 값이 기준 값보다 작으면 포함\n",
    "        forward_valriables.append(pval.idxmin())\n",
    "        ## 선택된 변수들에대해서\n",
    "        ## 어떤 변수를 제거할지 고른다.\n",
    "        while len(forward_valriables) > 0:\n",
    "            selected_X = X_train[forward_valriables]\n",
    "            selected_X = sm.add_constant(selected_X)\n",
    "            selected_pval = sm.OLS(y,selected_X).fit(disp=0).pvalues[1:] ## 절편항의 p-value는 뺀다\n",
    "            max_pval = selected_pval.max()\n",
    "            if max_pval >= sl_remove: ## 최대 p-value값이 기준값보다 크거나 같으면 제외\n",
    "                remove_variable = selected_pval.idxmax()\n",
    "                forward_valriables.remove(remove_variable)\n",
    "            else:\n",
    "                break\n",
    "        \n",
    "        step += 1\n",
    "        steps.append(step)\n",
    "        adj_r_squared = sm.OLS(y,sm.add_constant(X_train[forward_valriables])).fit(disp=0).rsquared_adj\n",
    "        adj_r_squared_list.append(adj_r_squared)\n",
    "        sv_per_step.append(forward_valriables.copy())\n",
    "    else:\n",
    "        break"
   ]
  },
  {
   "cell_type": "code",
   "execution_count": 20,
   "id": "c01842c1",
   "metadata": {},
   "outputs": [
    {
     "name": "stdout",
     "output_type": "stream",
     "text": [
      "                            OLS Regression Results                            \n",
      "==============================================================================\n",
      "Dep. Variable:               revenues   R-squared:                       0.870\n",
      "Model:                            OLS   Adj. R-squared:                  0.867\n",
      "Method:                 Least Squares   F-statistic:                     279.7\n",
      "Date:                Fri, 25 Nov 2022   Prob (F-statistic):           6.96e-73\n",
      "Time:                        00:03:16   Log-Likelihood:                -371.41\n",
      "No. Observations:                 172   AIC:                             752.8\n",
      "Df Residuals:                     167   BIC:                             768.5\n",
      "Df Model:                           4                                         \n",
      "Covariance Type:            nonrobust                                         \n",
      "==================================================================================\n",
      "                     coef    std err          t      P>|t|      [0.025      0.975]\n",
      "----------------------------------------------------------------------------------\n",
      "Intercept         28.3427      0.600     47.249      0.000      27.158      29.527\n",
      "facebook           0.1759      0.013     13.833      0.000       0.151       0.201\n",
      "google_adwords     0.0415      0.003     16.040      0.000       0.036       0.047\n",
      "employees          0.4050      0.105      3.864      0.000       0.198       0.612\n",
      "twitter            0.0020      0.008      0.248      0.804      -0.014       0.018\n",
      "==============================================================================\n",
      "Omnibus:                        3.197   Durbin-Watson:                   2.099\n",
      "Prob(Omnibus):                  0.202   Jarque-Bera (JB):                3.211\n",
      "Skew:                          -0.298   Prob(JB):                        0.201\n",
      "Kurtosis:                       2.694   Cond. No.                         731.\n",
      "==============================================================================\n",
      "\n",
      "Notes:\n",
      "[1] Standard Errors assume that the covariance matrix of the errors is correctly specified.\n"
     ]
    }
   ],
   "source": [
    "print(model.summary())"
   ]
  },
  {
   "cell_type": "code",
   "execution_count": 21,
   "id": "d6e9c4ae",
   "metadata": {},
   "outputs": [],
   "source": [
    "fitted=model.predict()\n",
    "residual=df['revenues']-fitted"
   ]
  },
  {
   "cell_type": "markdown",
   "id": "e857388f",
   "metadata": {},
   "source": [
    "- 정규성"
   ]
  },
  {
   "cell_type": "code",
   "execution_count": 22,
   "id": "8e2d8307",
   "metadata": {},
   "outputs": [],
   "source": [
    "import scipy.stats\n",
    "sr=scipy.stats.zscore(residual)\n",
    "(x, y), _=scipy.stats.probplot(sr)"
   ]
  },
  {
   "cell_type": "code",
   "execution_count": 25,
   "id": "72985ded",
   "metadata": {},
   "outputs": [
    {
     "data": {
      "text/plain": [
       "[<matplotlib.lines.Line2D at 0x2bb851437c0>]"
      ]
     },
     "execution_count": 25,
     "metadata": {},
     "output_type": "execute_result"
    },
    {
     "data": {
      "image/png": "[encoded data removed]",
      "text/plain": [
       "<Figure size 432x288 with 1 Axes>"
      ]
     },
     "metadata": {
      "needs_background": "light"
     },
     "output_type": "display_data"
    }
   ],
   "source": [
    "import seaborn as sns\n",
    "import matplotlib.pyplot as plt\n",
    "sns.scatterplot(x,y)\n",
    "plt.plot([-3, 3], [-3, 3], '--', color='grey')"
   ]
  },
  {
   "cell_type": "code",
   "execution_count": 26,
   "id": "36ccb565",
   "metadata": {},
   "outputs": [
    {
     "data": {
      "text/plain": [
       "ShapiroResult(statistic=0.9887027144432068, pvalue=0.18587186932563782)"
      ]
     },
     "execution_count": 26,
     "metadata": {},
     "output_type": "execute_result"
    }
   ],
   "source": [
    "scipy.stats.shapiro(residual)"
   ]
  },
  {
   "cell_type": "markdown",
   "id": "cba981c8",
   "metadata": {},
   "source": [
    "귀무가설을 기각할 수 없다. 즉 정규성을 따른다."
   ]
  },
  {
   "cell_type": "markdown",
   "id": "7644b391",
   "metadata": {},
   "source": [
    "- 잔차의 등분산성"
   ]
  },
  {
   "cell_type": "code",
   "execution_count": 27,
   "id": "e6c88de8",
   "metadata": {},
   "outputs": [
    {
     "data": {
      "text/plain": [
       "<AxesSubplot:ylabel='revenues'>"
      ]
     },
     "execution_count": 27,
     "metadata": {},
     "output_type": "execute_result"
    },
    {
     "data": {
      "image/png": "[encoded data removed]",
      "text/plain": [
       "<Figure size 432x288 with 1 Axes>"
      ]
     },
     "metadata": {
      "needs_background": "light"
     },
     "output_type": "display_data"
    }
   ],
   "source": [
    "import numpy as np\n",
    "sns.regplot(fitted, np.sqrt(np.abs(sr)), lowess=True, line_kws={'color':'red'})"
   ]
  },
  {
   "cell_type": "markdown",
   "id": "19d8de94",
   "metadata": {},
   "source": [
    "- 잔차의 독립성"
   ]
  },
  {
   "cell_type": "code",
   "execution_count": 28,
   "id": "b4891b94",
   "metadata": {},
   "outputs": [
    {
     "data": {
      "text/plain": [
       "2.0987268231478464"
      ]
     },
     "execution_count": 28,
     "metadata": {},
     "output_type": "execute_result"
    }
   ],
   "source": [
    "from statsmodels.stats.stattools import durbin_watson\n",
    "durbin_watson(model.resid)"
   ]
  },
  {
   "cell_type": "markdown",
   "id": "77e8721a",
   "metadata": {},
   "source": [
    "2에 가까운 값이므로 독립성을 만족한다고 해석할 수 있다."
   ]
  }
 ],
 "metadata": {
  "kernelspec": {
   "display_name": "Python 3 (ipykernel)",
   "language": "python",
   "name": "python3"
  },
  "language_info": {
   "codemirror_mode": {
    "name": "ipython",
    "version": 3
   },
   "file_extension": ".py",
   "mimetype": "text/x-python",
   "name": "python",
   "nbconvert_exporter": "python",
   "pygments_lexer": "ipython3",
   "version": "3.8.5"
  }
 },
 "nbformat": 4,
 "nbformat_minor": 5
}
