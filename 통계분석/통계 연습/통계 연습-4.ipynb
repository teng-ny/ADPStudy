{
 "cells": [
  {
   "cell_type": "code",
   "execution_count": 1,
   "id": "bf0b3258",
   "metadata": {},
   "outputs": [
    {
     "data": {
      "text/html": [
       "<div>\n",
       "<style scoped>\n",
       "    .dataframe tbody tr th:only-of-type {\n",
       "        vertical-align: middle;\n",
       "    }\n",
       "\n",
       "    .dataframe tbody tr th {\n",
       "        vertical-align: top;\n",
       "    }\n",
       "\n",
       "    .dataframe thead th {\n",
       "        text-align: right;\n",
       "    }\n",
       "</style>\n",
       "<table border=\"1\" class=\"dataframe\">\n",
       "  <thead>\n",
       "    <tr style=\"text-align: right;\">\n",
       "      <th></th>\n",
       "      <th>Sales</th>\n",
       "      <th>CompPrice</th>\n",
       "      <th>Income</th>\n",
       "      <th>Advertising</th>\n",
       "      <th>Population</th>\n",
       "      <th>Price</th>\n",
       "      <th>ShelveLoc</th>\n",
       "      <th>Age</th>\n",
       "      <th>Education</th>\n",
       "      <th>Urban</th>\n",
       "      <th>US</th>\n",
       "    </tr>\n",
       "  </thead>\n",
       "  <tbody>\n",
       "    <tr>\n",
       "      <th>0</th>\n",
       "      <td>9.50</td>\n",
       "      <td>138</td>\n",
       "      <td>73</td>\n",
       "      <td>11</td>\n",
       "      <td>276</td>\n",
       "      <td>120</td>\n",
       "      <td>Bad</td>\n",
       "      <td>42</td>\n",
       "      <td>17</td>\n",
       "      <td>Yes</td>\n",
       "      <td>Yes</td>\n",
       "    </tr>\n",
       "    <tr>\n",
       "      <th>1</th>\n",
       "      <td>11.22</td>\n",
       "      <td>111</td>\n",
       "      <td>48</td>\n",
       "      <td>16</td>\n",
       "      <td>260</td>\n",
       "      <td>83</td>\n",
       "      <td>Good</td>\n",
       "      <td>65</td>\n",
       "      <td>10</td>\n",
       "      <td>Yes</td>\n",
       "      <td>Yes</td>\n",
       "    </tr>\n",
       "    <tr>\n",
       "      <th>2</th>\n",
       "      <td>10.06</td>\n",
       "      <td>113</td>\n",
       "      <td>35</td>\n",
       "      <td>10</td>\n",
       "      <td>269</td>\n",
       "      <td>80</td>\n",
       "      <td>Medium</td>\n",
       "      <td>59</td>\n",
       "      <td>12</td>\n",
       "      <td>Yes</td>\n",
       "      <td>Yes</td>\n",
       "    </tr>\n",
       "  </tbody>\n",
       "</table>\n",
       "</div>"
      ],
      "text/plain": [
       "   Sales  CompPrice  Income  Advertising  Population  Price ShelveLoc  Age  \\\n",
       "0   9.50        138      73           11         276    120       Bad   42   \n",
       "1  11.22        111      48           16         260     83      Good   65   \n",
       "2  10.06        113      35           10         269     80    Medium   59   \n",
       "\n",
       "   Education Urban   US  \n",
       "0         17   Yes  Yes  \n",
       "1         10   Yes  Yes  \n",
       "2         12   Yes  Yes  "
      ]
     },
     "execution_count": 1,
     "metadata": {},
     "output_type": "execute_result"
    }
   ],
   "source": [
    "import pandas as pd\n",
    "import numpy as np\n",
    "df=pd.read_csv(\"Carseats.csv\")\n",
    "df.head(3)"
   ]
  },
  {
   "cell_type": "markdown",
   "id": "820bc607",
   "metadata": {},
   "source": [
    "- 정규성 만족"
   ]
  },
  {
   "cell_type": "code",
   "execution_count": 2,
   "id": "f01c485d",
   "metadata": {},
   "outputs": [
    {
     "data": {
      "text/plain": [
       "array(['Yes', 'No'], dtype=object)"
      ]
     },
     "execution_count": 2,
     "metadata": {},
     "output_type": "execute_result"
    }
   ],
   "source": [
    "df['Urban'].unique()"
   ]
  },
  {
   "cell_type": "code",
   "execution_count": 3,
   "id": "024d0a96",
   "metadata": {},
   "outputs": [],
   "source": [
    "yes=df.loc[df['Urban']=='Yes', 'Sales']\n",
    "no=df.loc[df['Urban']=='No', 'Sales']"
   ]
  },
  {
   "cell_type": "code",
   "execution_count": 4,
   "id": "75230e09",
   "metadata": {},
   "outputs": [
    {
     "data": {
      "text/plain": [
       "LeveneResult(statistic=2.9559854965252977e-06, pvalue=0.9986290607894824)"
      ]
     },
     "execution_count": 4,
     "metadata": {},
     "output_type": "execute_result"
    }
   ],
   "source": [
    "import scipy.stats as stats\n",
    "stats.levene(yes, no)"
   ]
  },
  {
   "cell_type": "markdown",
   "id": "0b190586",
   "metadata": {},
   "source": [
    "귀무가설을 기각할 수 없다. 즉 등분산을 만족한다"
   ]
  },
  {
   "cell_type": "code",
   "execution_count": 5,
   "id": "206a7d04",
   "metadata": {},
   "outputs": [
    {
     "data": {
      "text/plain": [
       "F_onewayResult(statistic=0.09465065557659712, pvalue=0.7585069603942085)"
      ]
     },
     "execution_count": 5,
     "metadata": {},
     "output_type": "execute_result"
    }
   ],
   "source": [
    "stats.f_oneway(yes, no)"
   ]
  },
  {
   "cell_type": "markdown",
   "id": "bdc43069",
   "metadata": {},
   "source": [
    "귀무가설을 기각할 수 없다. 즉 도시의 유무에 따른 Sales 평균에는 차이가 없다."
   ]
  },
  {
   "cell_type": "markdown",
   "id": "c08857ed",
   "metadata": {},
   "source": [
    "# 2번"
   ]
  },
  {
   "cell_type": "code",
   "execution_count": 6,
   "id": "06ea4cf8",
   "metadata": {},
   "outputs": [],
   "source": [
    "import seaborn as sns\n",
    "import matplotlib.pyplot as plt\n",
    "corr=df.corr(method='pearson')\n",
    "#sns.heatmap(corr, xticklabels=corr.columns, yticklabels=corr.columns, cmap='RdBu_r', annot=True)"
   ]
  },
  {
   "cell_type": "code",
   "execution_count": 7,
   "id": "f7ead0c0",
   "metadata": {},
   "outputs": [],
   "source": [
    "from patsy import dmatrices\n",
    "import numpy as np\n",
    "import statsmodels.api as sm\n",
    "import statsmodels.formula.api as smf\n",
    "y_train, X_train=dmatrices(\"Sales~CompPrice+Income+Advertising+Population+Price+Age+Education\", data=df, return_type='dataframe')"
   ]
  },
  {
   "cell_type": "code",
   "execution_count": 8,
   "id": "2023349a",
   "metadata": {},
   "outputs": [],
   "source": [
    "#warinng 무시\n",
    "import warnings\n",
    "warnings.filterwarnings('ignore')\n",
    "\n",
    "# OLS 회귀를 위한 라이브러리 호출\n",
    "import statsmodels.api as sm\n",
    "\n",
    "# add_constant를 통해 상수항 생성\n",
    "X_train = sm.add_constant(X_train)\n",
    "\n",
    "# 모델 형성 및 결과 출력\n",
    "model = sm.OLS(y_train, X_train).fit()\n",
    "##model.summary()"
   ]
  },
  {
   "cell_type": "markdown",
   "id": "e06eea61",
   "metadata": {},
   "source": [
    "### 전진선택법"
   ]
  },
  {
   "cell_type": "code",
   "execution_count": 9,
   "id": "b2f27aec",
   "metadata": {},
   "outputs": [],
   "source": [
    "# feature 및 target\n",
    "variables = X_train.columns.tolist() \n",
    "y = y_train \n",
    "\n",
    "# 선택된 변수들 list 생성\n",
    "forward_valriables = []\n",
    "\n",
    "# 전진선택시 P 값을 고려할 때, 선택과 제거 임계치 설정    \n",
    "sl_enter = 0.05\n",
    "sl_remove = 0.05\n",
    "\n",
    "# 각 스텝별로 선택된 변수들\n",
    "sv_per_step = [] \n",
    "# 각 스텝별 수정된 결정계수\n",
    "adj_r_squared_list = []\n",
    "# 스텝\n",
    "steps = []\n",
    "step = 0\n",
    "\n",
    "\n",
    "while len(variables) > 0:\n",
    "    remainder = list(set(variables) - set(forward_valriables))\n",
    "    pval = pd.Series(index=remainder) ## 변수의 p-value\n",
    "    ## 기존에 포함된 변수와 새로운 변수 하나씩 돌아가면서 \n",
    "    ## 선형 모형을 적합한다.\n",
    "    for col in remainder: \n",
    "        X = X_train[forward_valriables+[col]]\n",
    "        X = sm.add_constant(X)\n",
    "        model = sm.OLS(y,X).fit(disp=0)\n",
    "        pval[col] = model.pvalues[col]\n",
    " \n",
    "    min_pval = pval.min()\n",
    "    if min_pval < sl_enter: ## 최소 p-value 값이 기준 값보다 작으면 포함\n",
    "        forward_valriables.append(pval.idxmin())\n",
    "        ## 선택된 변수들에대해서\n",
    "        ## 어떤 변수를 제거할지 고른다.\n",
    "        while len(forward_valriables) > 0:\n",
    "            selected_X = X_train[forward_valriables]\n",
    "            selected_X = sm.add_constant(selected_X)\n",
    "            selected_pval = sm.OLS(y,selected_X).fit(disp=0).pvalues[1:] ## 절편항의 p-value는 뺀다\n",
    "            max_pval = selected_pval.max()\n",
    "            if max_pval >= sl_remove: ## 최대 p-value값이 기준값보다 크거나 같으면 제외\n",
    "                remove_variable = selected_pval.idxmax()\n",
    "                forward_valriables.remove(remove_variable)\n",
    "            else:\n",
    "                break\n",
    "        \n",
    "        step += 1\n",
    "        steps.append(step)\n",
    "        adj_r_squared = sm.OLS(y,sm.add_constant(X_train[forward_valriables])).fit(disp=0).rsquared_adj\n",
    "        adj_r_squared_list.append(adj_r_squared)\n",
    "        sv_per_step.append(forward_valriables.copy())\n",
    "    else:\n",
    "        break"
   ]
  },
  {
   "cell_type": "code",
   "execution_count": 10,
   "id": "823f549c",
   "metadata": {},
   "outputs": [
    {
     "name": "stdout",
     "output_type": "stream",
     "text": [
      "                            OLS Regression Results                            \n",
      "==============================================================================\n",
      "Dep. Variable:                  Sales   R-squared:                       0.542\n",
      "Model:                            OLS   Adj. R-squared:                  0.535\n",
      "Method:                 Least Squares   F-statistic:                     77.40\n",
      "Date:                Thu, 24 Nov 2022   Prob (F-statistic):           1.56e-63\n",
      "Time:                        23:08:24   Log-Likelihood:                -826.34\n",
      "No. Observations:                 400   AIC:                             1667.\n",
      "Df Residuals:                     393   BIC:                             1695.\n",
      "Df Model:                           6                                         \n",
      "Covariance Type:            nonrobust                                         \n",
      "===============================================================================\n",
      "                  coef    std err          t      P>|t|      [0.025      0.975]\n",
      "-------------------------------------------------------------------------------\n",
      "Intercept       7.6518      1.072      7.135      0.000       5.543       9.760\n",
      "Price          -0.0926      0.005    -18.352      0.000      -0.102      -0.083\n",
      "CompPrice       0.0941      0.008     12.070      0.000       0.079       0.109\n",
      "Advertising     0.1302      0.015      8.929      0.000       0.101       0.159\n",
      "Age            -0.0449      0.006     -7.495      0.000      -0.057      -0.033\n",
      "Income          0.0129      0.003      3.717      0.000       0.006       0.020\n",
      "Education      -0.0393      0.037     -1.066      0.287      -0.112       0.033\n",
      "==============================================================================\n",
      "Omnibus:                        8.297   Durbin-Watson:                   1.970\n",
      "Prob(Omnibus):                  0.016   Jarque-Bera (JB):                7.718\n",
      "Skew:                           0.288   Prob(JB):                       0.0211\n",
      "Kurtosis:                       2.636   Cond. No.                     2.15e+03\n",
      "==============================================================================\n",
      "\n",
      "Notes:\n",
      "[1] Standard Errors assume that the covariance matrix of the errors is correctly specified.\n",
      "[2] The condition number is large, 2.15e+03. This might indicate that there are\n",
      "strong multicollinearity or other numerical problems.\n"
     ]
    }
   ],
   "source": [
    "print(model.summary())"
   ]
  },
  {
   "cell_type": "markdown",
   "id": "0a0e44d2",
   "metadata": {},
   "source": [
    "### 후진제거법"
   ]
  },
  {
   "cell_type": "code",
   "execution_count": 11,
   "id": "07d3c627",
   "metadata": {},
   "outputs": [],
   "source": [
    "def backward_regression(X, y,\n",
    "                           initial_list=[], \n",
    "                           threshold_out = 0.05, # P-value 임계값 (제거 기준)\n",
    "                           feature_list = X_train.columns.tolist()\n",
    "                           ):\n",
    "    \n",
    "    \n",
    "    sv_per_step = [] ## 각 스텝별로 선택된 변수들\n",
    "    adj_r_squared_list = [] ## 각 스텝별 수정된 결정계수\n",
    "    steps = [] ## 스텝\n",
    "    step = 0\n",
    "    included = feature_list\n",
    "    while True:\n",
    "        changed=False\n",
    "        model = sm.OLS(y, sm.add_constant(pd.DataFrame(X[feature_list]))).fit(disp=0)\n",
    "        # use all coefs except intercept\n",
    "        pvalues = model.pvalues.iloc[1:] # 각 feature의 P값을 의미함\n",
    "        worst_pval = pvalues.max()\t# P 값이 가장 높은 것 선정\n",
    "        if worst_pval > threshold_out:\n",
    "            changed=True\n",
    "            worst_feature = pvalues.idxmax()\n",
    "            included.remove(worst_feature)\n",
    "        \n",
    "        step += 1\n",
    "        steps.append(step)        \n",
    "        adj_r_squared = sm.OLS(y, sm.add_constant(pd.DataFrame(X[feature_list]))).fit(disp=0).rsquared_adj\n",
    "        adj_r_squared_list.append(adj_r_squared)\n",
    "        sv_per_step.append(included.copy())\n",
    "        \n",
    "        if not changed:\n",
    "            break\n",
    "      \n",
    "    return included,step,steps,adj_r_squared_list,sv_per_step\n",
    "\n",
    "backward_valriables_function,step,steps,adj_r_squared_list,sv_per_step = backward_regression(X_train, y_train)"
   ]
  },
  {
   "cell_type": "code",
   "execution_count": 12,
   "id": "b0c08f25",
   "metadata": {},
   "outputs": [
    {
     "name": "stdout",
     "output_type": "stream",
     "text": [
      "                            OLS Regression Results                            \n",
      "==============================================================================\n",
      "Dep. Variable:                  Sales   R-squared:                       0.540\n",
      "Model:                            OLS   Adj. R-squared:                  0.534\n",
      "Method:                 Least Squares   F-statistic:                     92.62\n",
      "Date:                Thu, 24 Nov 2022   Prob (F-statistic):           2.70e-64\n",
      "Time:                        23:08:24   Log-Likelihood:                -826.92\n",
      "No. Observations:                 400   AIC:                             1666.\n",
      "Df Residuals:                     394   BIC:                             1690.\n",
      "Df Model:                           5                                         \n",
      "Covariance Type:            nonrobust                                         \n",
      "===============================================================================\n",
      "                  coef    std err          t      P>|t|      [0.025      0.975]\n",
      "-------------------------------------------------------------------------------\n",
      "Intercept       7.1092      0.944      7.531      0.000       5.253       8.965\n",
      "CompPrice       0.0939      0.008     12.051      0.000       0.079       0.109\n",
      "Income          0.0131      0.003      3.779      0.000       0.006       0.020\n",
      "Advertising     0.1306      0.015      8.963      0.000       0.102       0.159\n",
      "Price          -0.0925      0.005    -18.347      0.000      -0.102      -0.083\n",
      "Age            -0.0450      0.006     -7.503      0.000      -0.057      -0.033\n",
      "==============================================================================\n",
      "Omnibus:                        9.073   Durbin-Watson:                   1.963\n",
      "Prob(Omnibus):                  0.011   Jarque-Bera (JB):                8.154\n",
      "Skew:                           0.288   Prob(JB):                       0.0170\n",
      "Kurtosis:                       2.602   Cond. No.                     1.89e+03\n",
      "==============================================================================\n",
      "\n",
      "Notes:\n",
      "[1] Standard Errors assume that the covariance matrix of the errors is correctly specified.\n",
      "[2] The condition number is large, 1.89e+03. This might indicate that there are\n",
      "strong multicollinearity or other numerical problems.\n"
     ]
    }
   ],
   "source": [
    "model = sm.OLS(y_train, sm.add_constant(pd.DataFrame(X_train[backward_valriables_function]))).fit(disp=0)\n",
    "print(model.summary())"
   ]
  }
 ],
 "metadata": {
  "kernelspec": {
   "display_name": "Python 3 (ipykernel)",
   "language": "python",
   "name": "python3"
  },
  "language_info": {
   "codemirror_mode": {
    "name": "ipython",
    "version": 3
   },
   "file_extension": ".py",
   "mimetype": "text/x-python",
   "name": "python",
   "nbconvert_exporter": "python",
   "pygments_lexer": "ipython3",
   "version": "3.8.5"
  }
 },
 "nbformat": 4,
 "nbformat_minor": 5
}
