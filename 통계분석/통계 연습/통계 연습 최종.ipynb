{
 "cells": [
  {
   "cell_type": "code",
   "execution_count": 8,
   "id": "8fb0815f",
   "metadata": {},
   "outputs": [
    {
     "data": {
      "text/plain": [
       "12"
      ]
     },
     "execution_count": 8,
     "metadata": {},
     "output_type": "execute_result"
    }
   ],
   "source": [
    "import pandas as pd\n",
    "import numpy as np\n",
    "df=pd.DataFrame({\"num\":[8800, 9500, 9600, 10500, 10400, 9600, 10300, 9500, 9600, 7100, 10100, 7200]})\n",
    "len(df)"
   ]
  },
  {
   "cell_type": "code",
   "execution_count": 9,
   "id": "1d7e4d0e",
   "metadata": {},
   "outputs": [
    {
     "data": {
      "text/plain": [
       "ShapiroResult(statistic=0.8105747699737549, pvalue=0.012388509698212147)"
      ]
     },
     "execution_count": 9,
     "metadata": {},
     "output_type": "execute_result"
    }
   ],
   "source": [
    "import scipy.stats as stats\n",
    "from scipy.stats import shapiro\n",
    "shapiro(df['num'])"
   ]
  },
  {
   "cell_type": "markdown",
   "id": "422b4afc",
   "metadata": {},
   "source": [
    "귀무가설을 기각한다. 즉 정규성을 따르지 않는다."
   ]
  },
  {
   "cell_type": "code",
   "execution_count": 10,
   "id": "4a6039d6",
   "metadata": {},
   "outputs": [],
   "source": [
    "mean0=10000\n",
    "median=np.median(df.num)"
   ]
  },
  {
   "cell_type": "code",
   "execution_count": 12,
   "id": "c74797c0",
   "metadata": {},
   "outputs": [
    {
     "data": {
      "text/plain": [
       "9"
      ]
     },
     "execution_count": 12,
     "metadata": {},
     "output_type": "execute_result"
    }
   ],
   "source": [
    "df=df[df['num']!=median]\n",
    "len(df)"
   ]
  },
  {
   "cell_type": "code",
   "execution_count": 13,
   "id": "7779aa7f",
   "metadata": {},
   "outputs": [
    {
     "data": {
      "text/plain": [
       "WilcoxonResult(statistic=11.0, pvalue=0.203125)"
      ]
     },
     "execution_count": 13,
     "metadata": {},
     "output_type": "execute_result"
    }
   ],
   "source": [
    "stats.wilcoxon(df.num-mean0, alternative='two-sided')"
   ]
  },
  {
   "cell_type": "markdown",
   "id": "1d576416",
   "metadata": {},
   "source": [
    "귀무가설을 기각할 수 없다. 즉 진공관 수명은 1만시간이다."
   ]
  },
  {
   "cell_type": "markdown",
   "id": "b971d056",
   "metadata": {},
   "source": [
    "# 문제2"
   ]
  },
  {
   "cell_type": "code",
   "execution_count": 14,
   "id": "6ffdf1f5",
   "metadata": {},
   "outputs": [
    {
     "data": {
      "text/plain": [
       "10"
      ]
     },
     "execution_count": 14,
     "metadata": {},
     "output_type": "execute_result"
    }
   ],
   "source": [
    "mean0=60\n",
    "n=10\n",
    "df=pd.DataFrame({'num':[52,50,62,75,26,45,62,35,57,14]})\n",
    "len(df)"
   ]
  },
  {
   "cell_type": "code",
   "execution_count": 15,
   "id": "b89139e0",
   "metadata": {},
   "outputs": [
    {
     "data": {
      "text/plain": [
       "51.0"
      ]
     },
     "execution_count": 15,
     "metadata": {},
     "output_type": "execute_result"
    }
   ],
   "source": [
    "median=np.median(df.num)\n",
    "median"
   ]
  },
  {
   "cell_type": "code",
   "execution_count": 16,
   "id": "98fb28bd",
   "metadata": {},
   "outputs": [
    {
     "data": {
      "text/plain": [
       "10"
      ]
     },
     "execution_count": 16,
     "metadata": {},
     "output_type": "execute_result"
    }
   ],
   "source": [
    "df=df[df['num']!=median]\n",
    "len(df)"
   ]
  },
  {
   "cell_type": "code",
   "execution_count": 18,
   "id": "e6b78a7f",
   "metadata": {},
   "outputs": [
    {
     "data": {
      "text/plain": [
       "WilcoxonResult(statistic=9.5, pvalue=0.064453125)"
      ]
     },
     "execution_count": 18,
     "metadata": {},
     "output_type": "execute_result"
    }
   ],
   "source": [
    "stats.wilcoxon(df.num-mean0, alternative='two-sided')"
   ]
  },
  {
   "cell_type": "markdown",
   "id": "2e3fde08",
   "metadata": {},
   "source": [
    "귀무가설을 기각할 수 없다. 즉 모평균은 60이다."
   ]
  },
  {
   "cell_type": "markdown",
   "id": "abd51d9d",
   "metadata": {},
   "source": [
    "# 문제3"
   ]
  },
  {
   "cell_type": "code",
   "execution_count": 19,
   "id": "8b76d89d",
   "metadata": {},
   "outputs": [
    {
     "data": {
      "text/html": [
       "<div>\n",
       "<style scoped>\n",
       "    .dataframe tbody tr th:only-of-type {\n",
       "        vertical-align: middle;\n",
       "    }\n",
       "\n",
       "    .dataframe tbody tr th {\n",
       "        vertical-align: top;\n",
       "    }\n",
       "\n",
       "    .dataframe thead th {\n",
       "        text-align: right;\n",
       "    }\n",
       "</style>\n",
       "<table border=\"1\" class=\"dataframe\">\n",
       "  <thead>\n",
       "    <tr style=\"text-align: right;\">\n",
       "      <th></th>\n",
       "      <th>사회과학</th>\n",
       "      <th>자연과학</th>\n",
       "      <th>공학</th>\n",
       "    </tr>\n",
       "    <tr>\n",
       "      <th>index</th>\n",
       "      <th></th>\n",
       "      <th></th>\n",
       "      <th></th>\n",
       "    </tr>\n",
       "  </thead>\n",
       "  <tbody>\n",
       "    <tr>\n",
       "      <th>1.5-2.5</th>\n",
       "      <td>15</td>\n",
       "      <td>25</td>\n",
       "      <td>10</td>\n",
       "    </tr>\n",
       "    <tr>\n",
       "      <th>2.5-3.5</th>\n",
       "      <td>60</td>\n",
       "      <td>69</td>\n",
       "      <td>77</td>\n",
       "    </tr>\n",
       "    <tr>\n",
       "      <th>3.5-4.5</th>\n",
       "      <td>24</td>\n",
       "      <td>6</td>\n",
       "      <td>14</td>\n",
       "    </tr>\n",
       "  </tbody>\n",
       "</table>\n",
       "</div>"
      ],
      "text/plain": [
       "         사회과학  자연과학  공학\n",
       "index                  \n",
       "1.5-2.5    15    25  10\n",
       "2.5-3.5    60    69  77\n",
       "3.5-4.5    24     6  14"
      ]
     },
     "execution_count": 19,
     "metadata": {},
     "output_type": "execute_result"
    }
   ],
   "source": [
    "from scipy.stats import chi2_contingency\n",
    "df=pd.DataFrame({'index':[\"1.5-2.5\", \"2.5-3.5\", \"3.5-4.5\"], \"사회과학\":[15,60,24], \"자연과학\":[25,69,6], \"공학\":[10, 77,14]})\n",
    "df.set_index(\"index\", inplace=True)\n",
    "df"
   ]
  },
  {
   "cell_type": "code",
   "execution_count": 20,
   "id": "fa4540b5",
   "metadata": {},
   "outputs": [],
   "source": [
    "chi, p, df, expect=chi2_contingency(df)"
   ]
  },
  {
   "cell_type": "code",
   "execution_count": 21,
   "id": "14efca09",
   "metadata": {},
   "outputs": [
    {
     "data": {
      "text/plain": [
       "(20.213713780910304,\n",
       " 0.0004531468852769105,\n",
       " array([[16.5       , 16.66666667, 16.83333333],\n",
       "        [67.98      , 68.66666667, 69.35333333],\n",
       "        [14.52      , 14.66666667, 14.81333333]]))"
      ]
     },
     "execution_count": 21,
     "metadata": {},
     "output_type": "execute_result"
    }
   ],
   "source": [
    "chi, p, expect"
   ]
  },
  {
   "cell_type": "code",
   "execution_count": 22,
   "id": "21fbead5",
   "metadata": {},
   "outputs": [
    {
     "data": {
      "text/html": [
       "<div>\n",
       "<style scoped>\n",
       "    .dataframe tbody tr th:only-of-type {\n",
       "        vertical-align: middle;\n",
       "    }\n",
       "\n",
       "    .dataframe tbody tr th {\n",
       "        vertical-align: top;\n",
       "    }\n",
       "\n",
       "    .dataframe thead th {\n",
       "        text-align: right;\n",
       "    }\n",
       "</style>\n",
       "<table border=\"1\" class=\"dataframe\">\n",
       "  <thead>\n",
       "    <tr style=\"text-align: right;\">\n",
       "      <th></th>\n",
       "      <th>num</th>\n",
       "    </tr>\n",
       "  </thead>\n",
       "  <tbody>\n",
       "    <tr>\n",
       "      <th>0</th>\n",
       "      <td>3.1</td>\n",
       "    </tr>\n",
       "    <tr>\n",
       "      <th>1</th>\n",
       "      <td>3.3</td>\n",
       "    </tr>\n",
       "    <tr>\n",
       "      <th>2</th>\n",
       "      <td>3.5</td>\n",
       "    </tr>\n",
       "    <tr>\n",
       "      <th>3</th>\n",
       "      <td>3.7</td>\n",
       "    </tr>\n",
       "    <tr>\n",
       "      <th>4</th>\n",
       "      <td>3.9</td>\n",
       "    </tr>\n",
       "    <tr>\n",
       "      <th>5</th>\n",
       "      <td>4.1</td>\n",
       "    </tr>\n",
       "    <tr>\n",
       "      <th>6</th>\n",
       "      <td>4.3</td>\n",
       "    </tr>\n",
       "    <tr>\n",
       "      <th>7</th>\n",
       "      <td>4.4</td>\n",
       "    </tr>\n",
       "    <tr>\n",
       "      <th>8</th>\n",
       "      <td>4.7</td>\n",
       "    </tr>\n",
       "  </tbody>\n",
       "</table>\n",
       "</div>"
      ],
      "text/plain": [
       "   num\n",
       "0  3.1\n",
       "1  3.3\n",
       "2  3.5\n",
       "3  3.7\n",
       "4  3.9\n",
       "5  4.1\n",
       "6  4.3\n",
       "7  4.4\n",
       "8  4.7"
      ]
     },
     "execution_count": 22,
     "metadata": {},
     "output_type": "execute_result"
    }
   ],
   "source": [
    "df=pd.DataFrame({'num':[3.1, 3.3, 3.5, 3.7, 3.9, 4.1, 4.3, 4.4, 4.7]})\n",
    "df"
   ]
  },
  {
   "cell_type": "code",
   "execution_count": 28,
   "id": "5c6e0876",
   "metadata": {},
   "outputs": [
    {
     "data": {
      "text/plain": [
       "(3.477733308601972, 4.300044469175807)"
      ]
     },
     "execution_count": 28,
     "metadata": {},
     "output_type": "execute_result"
    }
   ],
   "source": [
    "n=9\n",
    "alpha=0.05\n",
    "s_mean=np.mean(df.num)\n",
    "u_var=np.var(df.num,ddof=1)\n",
    "rv=stats.t(df=n-1)\n",
    "lcl=s_mean-rv.isf(alpha/2)*np.sqrt(u_var/n)\n",
    "ucl=s_mean-rv.isf(1-alpha/2)*np.sqrt(u_var/n)\n",
    "lcl, ucl"
   ]
  },
  {
   "cell_type": "code",
   "execution_count": 31,
   "id": "3d05cf2b",
   "metadata": {},
   "outputs": [],
   "source": [
    "alpha=0.05\n",
    "n=9\n",
    "s_mean=np.mean(df.num)\n",
    "p_var=0.4**2\n",
    "rv=stats.norm()\n",
    "lcl=s_mean-1.96*np.sqrt(p_var/n)\n",
    "ucl=s_mean+1.96*np.sqrt(p_var/n)"
   ]
  },
  {
   "cell_type": "code",
   "execution_count": 30,
   "id": "aaf4df75",
   "metadata": {},
   "outputs": [
    {
     "data": {
      "text/plain": [
       "(3.6275603576168822, 4.150217420160897)"
      ]
     },
     "execution_count": 30,
     "metadata": {},
     "output_type": "execute_result"
    }
   ],
   "source": [
    "lcl, ucl"
   ]
  },
  {
   "cell_type": "code",
   "execution_count": 32,
   "id": "e6fd7fed",
   "metadata": {},
   "outputs": [
    {
     "data": {
      "text/plain": [
       "(3.6275555555555563, 4.150222222222223)"
      ]
     },
     "execution_count": 32,
     "metadata": {},
     "output_type": "execute_result"
    }
   ],
   "source": [
    "lcl,ucl"
   ]
  },
  {
   "cell_type": "markdown",
   "id": "033e6e79",
   "metadata": {},
   "source": [
    "# 문제4"
   ]
  },
  {
   "cell_type": "markdown",
   "id": "087d818a",
   "metadata": {},
   "source": [
    "H0 : 두 모평균 사이의 차이는 없다.\n",
    "\n",
    "H1 : 두 모평균 사이의 차이는 있다."
   ]
  },
  {
   "cell_type": "code",
   "execution_count": 33,
   "id": "009063a3",
   "metadata": {},
   "outputs": [],
   "source": [
    "mean_A=5.7\n",
    "mean_B=5.6\n",
    "var_A=0.03**2\n",
    "var_B=0.04**2\n",
    "n_A=12\n",
    "n_B=12\n",
    "# 정규분포/등분산 가정"
   ]
  },
  {
   "cell_type": "code",
   "execution_count": 35,
   "id": "8a7aad22",
   "metadata": {},
   "outputs": [
    {
     "data": {
      "text/plain": [
       "0.035355339059327376"
      ]
     },
     "execution_count": 35,
     "metadata": {},
     "output_type": "execute_result"
    }
   ],
   "source": [
    "sp=np.sqrt(((n_A-1)*var_A+(n_B-1)*var_B)/(n_A+n_B-2))\n",
    "sp"
   ]
  },
  {
   "cell_type": "code",
   "execution_count": 37,
   "id": "c0493cf4",
   "metadata": {},
   "outputs": [
    {
     "data": {
      "text/plain": [
       "6.928203230275546"
      ]
     },
     "execution_count": 37,
     "metadata": {},
     "output_type": "execute_result"
    }
   ],
   "source": [
    "t=(mean_A-mean_B)/(sp*np.sqrt(1/n_A+1/n_B))\n",
    "t"
   ]
  },
  {
   "cell_type": "code",
   "execution_count": 38,
   "id": "5e9e7322",
   "metadata": {},
   "outputs": [
    {
     "data": {
      "text/plain": [
       "5.892973662380285e-07"
      ]
     },
     "execution_count": 38,
     "metadata": {},
     "output_type": "execute_result"
    }
   ],
   "source": [
    "rv=stats.t(df=n_A+n_B-2)\n",
    "p=(1-rv.cdf(t))*2\n",
    "p"
   ]
  },
  {
   "cell_type": "markdown",
   "id": "545c0a0a",
   "metadata": {},
   "source": [
    "귀무가설을 기각한다. 즉 두 모평균 사이의 차이는 있다."
   ]
  },
  {
   "cell_type": "markdown",
   "id": "5db82bd3",
   "metadata": {},
   "source": [
    "# 문제5"
   ]
  },
  {
   "cell_type": "code",
   "execution_count": 40,
   "id": "3e306f08",
   "metadata": {},
   "outputs": [
    {
     "data": {
      "text/plain": [
       "(3.415099975321245, 17.37685387744868)"
      ]
     },
     "execution_count": 40,
     "metadata": {},
     "output_type": "execute_result"
    }
   ],
   "source": [
    "n=10\n",
    "u_var=6.42\n",
    "alpha=0.1\n",
    "rv=stats.chi2(df=n-1)\n",
    "\n",
    "lcl=(n-1)*u_var/rv.isf(alpha/2)\n",
    "ucl=(n-1)*u_var/rv.isf(1-alpha/2)\n",
    "lcl, ucl"
   ]
  },
  {
   "cell_type": "code",
   "execution_count": 42,
   "id": "5c974cc5",
   "metadata": {},
   "outputs": [],
   "source": [
    "n=20\n",
    "u_var=90**2\n",
    "alpha=0.1\n",
    "rv=stats.chi2(df=n-1)\n",
    "lcl=(n-1)*u_var/rv.isf(alpha/2)\n",
    "ucl=(n-1)*u_var/rv.isf(1-alpha/2)"
   ]
  },
  {
   "cell_type": "code",
   "execution_count": 44,
   "id": "0b15152f",
   "metadata": {},
   "outputs": [
    {
     "data": {
      "text/plain": [
       "(5105.573709077189, 15211.99973041214)"
      ]
     },
     "execution_count": 44,
     "metadata": {},
     "output_type": "execute_result"
    }
   ],
   "source": [
    "lcl, ucl"
   ]
  },
  {
   "cell_type": "code",
   "execution_count": 45,
   "id": "1af79654",
   "metadata": {},
   "outputs": [
    {
     "data": {
      "text/html": [
       "<div>\n",
       "<style scoped>\n",
       "    .dataframe tbody tr th:only-of-type {\n",
       "        vertical-align: middle;\n",
       "    }\n",
       "\n",
       "    .dataframe tbody tr th {\n",
       "        vertical-align: top;\n",
       "    }\n",
       "\n",
       "    .dataframe thead th {\n",
       "        text-align: right;\n",
       "    }\n",
       "</style>\n",
       "<table border=\"1\" class=\"dataframe\">\n",
       "  <thead>\n",
       "    <tr style=\"text-align: right;\">\n",
       "      <th></th>\n",
       "      <th>price</th>\n",
       "    </tr>\n",
       "  </thead>\n",
       "  <tbody>\n",
       "    <tr>\n",
       "      <th>1</th>\n",
       "      <td>22.0</td>\n",
       "    </tr>\n",
       "    <tr>\n",
       "      <th>2</th>\n",
       "      <td>23.4</td>\n",
       "    </tr>\n",
       "    <tr>\n",
       "      <th>3</th>\n",
       "      <td>21.1</td>\n",
       "    </tr>\n",
       "    <tr>\n",
       "      <th>4</th>\n",
       "      <td>25.7</td>\n",
       "    </tr>\n",
       "    <tr>\n",
       "      <th>5</th>\n",
       "      <td>27.4</td>\n",
       "    </tr>\n",
       "    <tr>\n",
       "      <th>6</th>\n",
       "      <td>30.6</td>\n",
       "    </tr>\n",
       "    <tr>\n",
       "      <th>7</th>\n",
       "      <td>31.8</td>\n",
       "    </tr>\n",
       "    <tr>\n",
       "      <th>8</th>\n",
       "      <td>30.2</td>\n",
       "    </tr>\n",
       "    <tr>\n",
       "      <th>9</th>\n",
       "      <td>41.1</td>\n",
       "    </tr>\n",
       "  </tbody>\n",
       "</table>\n",
       "</div>"
      ],
      "text/plain": [
       "   price\n",
       "1   22.0\n",
       "2   23.4\n",
       "3   21.1\n",
       "4   25.7\n",
       "5   27.4\n",
       "6   30.6\n",
       "7   31.8\n",
       "8   30.2\n",
       "9   41.1"
      ]
     },
     "execution_count": 45,
     "metadata": {},
     "output_type": "execute_result"
    }
   ],
   "source": [
    "import warnings\n",
    "warnings.filterwarnings('ignore')\n",
    "\n",
    "import pandas as pd\n",
    "df=pd.DataFrame({'price':[22.0, 23.4, 21.1, 25.7, 27.4, 30.6, 31.8, 30.2, 41.1]}, index=[1,2,3,4,5,6,7,8,9])\n",
    "df"
   ]
  },
  {
   "cell_type": "code",
   "execution_count": 46,
   "id": "e427e420",
   "metadata": {},
   "outputs": [
    {
     "data": {
      "text/plain": [
       "1          NaN\n",
       "2          NaN\n",
       "3    22.166667\n",
       "4    23.400000\n",
       "5    24.733333\n",
       "6    27.900000\n",
       "7    29.933333\n",
       "8    30.866667\n",
       "9    34.366667\n",
       "Name: price, dtype: float64"
      ]
     },
     "execution_count": 46,
     "metadata": {},
     "output_type": "execute_result"
    }
   ],
   "source": [
    "moving_average=df['price'].rolling(window=3).mean()\n",
    "moving_average"
   ]
  },
  {
   "cell_type": "code",
   "execution_count": 47,
   "id": "11f657fe",
   "metadata": {},
   "outputs": [
    {
     "data": {
      "image/png": "[encoded data removed]",
      "text/plain": [
       "<Figure size 720x432 with 1 Axes>"
      ]
     },
     "metadata": {
      "needs_background": "light"
     },
     "output_type": "display_data"
    }
   ],
   "source": [
    "import matplotlib.pyplot as plt\n",
    "plt.figure(figsize=(10,6))\n",
    "plt.plot(df.index, df.price, color='k', label='origin')\n",
    "plt.plot(moving_average.index, moving_average, color='red', label='moving_average')\n",
    "plt.legend()\n",
    "plt.show()"
   ]
  },
  {
   "cell_type": "code",
   "execution_count": null,
   "id": "a13d53a5",
   "metadata": {},
   "outputs": [],
   "source": []
  }
 ],
 "metadata": {
  "kernelspec": {
   "display_name": "Python 3 (ipykernel)",
   "language": "python",
   "name": "python3"
  },
  "language_info": {
   "codemirror_mode": {
    "name": "ipython",
    "version": 3
   },
   "file_extension": ".py",
   "mimetype": "text/x-python",
   "name": "python",
   "nbconvert_exporter": "python",
   "pygments_lexer": "ipython3",
   "version": "3.8.5"
  }
 },
 "nbformat": 4,
 "nbformat_minor": 5
}
