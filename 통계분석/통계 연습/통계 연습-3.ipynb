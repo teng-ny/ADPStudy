{
 "cells": [
  {
   "cell_type": "code",
   "execution_count": 1,
   "id": "1fe3b70b",
   "metadata": {},
   "outputs": [
    {
     "data": {
      "text/html": [
       "<div>\n",
       "<style scoped>\n",
       "    .dataframe tbody tr th:only-of-type {\n",
       "        vertical-align: middle;\n",
       "    }\n",
       "\n",
       "    .dataframe tbody tr th {\n",
       "        vertical-align: top;\n",
       "    }\n",
       "\n",
       "    .dataframe thead th {\n",
       "        text-align: right;\n",
       "    }\n",
       "</style>\n",
       "<table border=\"1\" class=\"dataframe\">\n",
       "  <thead>\n",
       "    <tr style=\"text-align: right;\">\n",
       "      <th></th>\n",
       "      <th>GRE</th>\n",
       "      <th>TOEFL</th>\n",
       "      <th>Univ_Rating</th>\n",
       "      <th>SOP</th>\n",
       "      <th>LOR</th>\n",
       "      <th>CGPA</th>\n",
       "      <th>Research</th>\n",
       "      <th>Chance_of_Admit</th>\n",
       "    </tr>\n",
       "  </thead>\n",
       "  <tbody>\n",
       "    <tr>\n",
       "      <th>0</th>\n",
       "      <td>337</td>\n",
       "      <td>118</td>\n",
       "      <td>4</td>\n",
       "      <td>4.5</td>\n",
       "      <td>4.5</td>\n",
       "      <td>9.65</td>\n",
       "      <td>1</td>\n",
       "      <td>0.92</td>\n",
       "    </tr>\n",
       "    <tr>\n",
       "      <th>1</th>\n",
       "      <td>324</td>\n",
       "      <td>107</td>\n",
       "      <td>4</td>\n",
       "      <td>4.0</td>\n",
       "      <td>4.5</td>\n",
       "      <td>8.87</td>\n",
       "      <td>1</td>\n",
       "      <td>0.76</td>\n",
       "    </tr>\n",
       "    <tr>\n",
       "      <th>2</th>\n",
       "      <td>316</td>\n",
       "      <td>104</td>\n",
       "      <td>3</td>\n",
       "      <td>3.0</td>\n",
       "      <td>3.5</td>\n",
       "      <td>8.00</td>\n",
       "      <td>1</td>\n",
       "      <td>0.72</td>\n",
       "    </tr>\n",
       "    <tr>\n",
       "      <th>3</th>\n",
       "      <td>322</td>\n",
       "      <td>110</td>\n",
       "      <td>3</td>\n",
       "      <td>3.5</td>\n",
       "      <td>2.5</td>\n",
       "      <td>8.67</td>\n",
       "      <td>1</td>\n",
       "      <td>0.80</td>\n",
       "    </tr>\n",
       "    <tr>\n",
       "      <th>4</th>\n",
       "      <td>314</td>\n",
       "      <td>103</td>\n",
       "      <td>2</td>\n",
       "      <td>2.0</td>\n",
       "      <td>3.0</td>\n",
       "      <td>8.21</td>\n",
       "      <td>0</td>\n",
       "      <td>0.65</td>\n",
       "    </tr>\n",
       "    <tr>\n",
       "      <th>...</th>\n",
       "      <td>...</td>\n",
       "      <td>...</td>\n",
       "      <td>...</td>\n",
       "      <td>...</td>\n",
       "      <td>...</td>\n",
       "      <td>...</td>\n",
       "      <td>...</td>\n",
       "      <td>...</td>\n",
       "    </tr>\n",
       "    <tr>\n",
       "      <th>395</th>\n",
       "      <td>324</td>\n",
       "      <td>110</td>\n",
       "      <td>3</td>\n",
       "      <td>3.5</td>\n",
       "      <td>3.5</td>\n",
       "      <td>9.04</td>\n",
       "      <td>1</td>\n",
       "      <td>0.82</td>\n",
       "    </tr>\n",
       "    <tr>\n",
       "      <th>396</th>\n",
       "      <td>325</td>\n",
       "      <td>107</td>\n",
       "      <td>3</td>\n",
       "      <td>3.0</td>\n",
       "      <td>3.5</td>\n",
       "      <td>9.11</td>\n",
       "      <td>1</td>\n",
       "      <td>0.84</td>\n",
       "    </tr>\n",
       "    <tr>\n",
       "      <th>397</th>\n",
       "      <td>330</td>\n",
       "      <td>116</td>\n",
       "      <td>4</td>\n",
       "      <td>5.0</td>\n",
       "      <td>4.5</td>\n",
       "      <td>9.45</td>\n",
       "      <td>1</td>\n",
       "      <td>0.91</td>\n",
       "    </tr>\n",
       "    <tr>\n",
       "      <th>398</th>\n",
       "      <td>312</td>\n",
       "      <td>103</td>\n",
       "      <td>3</td>\n",
       "      <td>3.5</td>\n",
       "      <td>4.0</td>\n",
       "      <td>8.78</td>\n",
       "      <td>0</td>\n",
       "      <td>0.67</td>\n",
       "    </tr>\n",
       "    <tr>\n",
       "      <th>399</th>\n",
       "      <td>333</td>\n",
       "      <td>117</td>\n",
       "      <td>4</td>\n",
       "      <td>5.0</td>\n",
       "      <td>4.0</td>\n",
       "      <td>9.66</td>\n",
       "      <td>1</td>\n",
       "      <td>0.95</td>\n",
       "    </tr>\n",
       "  </tbody>\n",
       "</table>\n",
       "<p>400 rows × 8 columns</p>\n",
       "</div>"
      ],
      "text/plain": [
       "     GRE  TOEFL  Univ_Rating  SOP  LOR   CGPA  Research  Chance_of_Admit\n",
       "0    337    118            4  4.5   4.5  9.65         1             0.92\n",
       "1    324    107            4  4.0   4.5  8.87         1             0.76\n",
       "2    316    104            3  3.0   3.5  8.00         1             0.72\n",
       "3    322    110            3  3.5   2.5  8.67         1             0.80\n",
       "4    314    103            2  2.0   3.0  8.21         0             0.65\n",
       "..   ...    ...          ...  ...   ...   ...       ...              ...\n",
       "395  324    110            3  3.5   3.5  9.04         1             0.82\n",
       "396  325    107            3  3.0   3.5  9.11         1             0.84\n",
       "397  330    116            4  5.0   4.5  9.45         1             0.91\n",
       "398  312    103            3  3.5   4.0  8.78         0             0.67\n",
       "399  333    117            4  5.0   4.0  9.66         1             0.95\n",
       "\n",
       "[400 rows x 8 columns]"
      ]
     },
     "execution_count": 1,
     "metadata": {},
     "output_type": "execute_result"
    }
   ],
   "source": [
    "import pandas as pd\n",
    "import numpy as np\n",
    "df=pd.read_csv(\"Admission.csv\")\n",
    "df"
   ]
  },
  {
   "cell_type": "code",
   "execution_count": 2,
   "id": "67a6f6bf",
   "metadata": {},
   "outputs": [
    {
     "name": "stdout",
     "output_type": "stream",
     "text": [
      "<class 'pandas.core.frame.DataFrame'>\n",
      "RangeIndex: 400 entries, 0 to 399\n",
      "Data columns (total 8 columns):\n",
      " #   Column           Non-Null Count  Dtype  \n",
      "---  ------           --------------  -----  \n",
      " 0   GRE              400 non-null    int64  \n",
      " 1   TOEFL            400 non-null    int64  \n",
      " 2   Univ_Rating      400 non-null    int64  \n",
      " 3   SOP              400 non-null    float64\n",
      " 4   LOR              400 non-null    float64\n",
      " 5   CGPA             400 non-null    float64\n",
      " 6   Research         400 non-null    int64  \n",
      " 7   Chance_of_Admit  400 non-null    float64\n",
      "dtypes: float64(4), int64(4)\n",
      "memory usage: 25.1 KB\n"
     ]
    }
   ],
   "source": [
    "df.info()"
   ]
  },
  {
   "cell_type": "code",
   "execution_count": 5,
   "id": "74845b63",
   "metadata": {},
   "outputs": [
    {
     "data": {
      "text/plain": [
       "<AxesSubplot:>"
      ]
     },
     "execution_count": 5,
     "metadata": {},
     "output_type": "execute_result"
    },
    {
     "data": {
      "image/png": "[encoded data removed]",
      "text/plain": [
       "<Figure size 432x288 with 2 Axes>"
      ]
     },
     "metadata": {
      "needs_background": "light"
     },
     "output_type": "display_data"
    }
   ],
   "source": [
    "import seaborn as sns\n",
    "df_cor=df.corr(method='pearson')\n",
    "sns.heatmap(df_cor, annot=True, fmt='.1f')"
   ]
  },
  {
   "cell_type": "markdown",
   "id": "796f4a15",
   "metadata": {},
   "source": [
    "# 단계적 선택법을 사용하여 회귀분석 수행"
   ]
  },
  {
   "cell_type": "code",
   "execution_count": 13,
   "id": "afc2ad79",
   "metadata": {},
   "outputs": [],
   "source": [
    "df.columns=df.columns.str.replace(\" \", \"\")\n",
    "from patsy import dmatrices\n",
    "y, X=dmatrices(\"Chance_of_Admit~GRE+TOEFL+Univ_Rating+SOP+LOR+CGPA+Research\", data=df, return_type='dataframe')"
   ]
  },
  {
   "cell_type": "code",
   "execution_count": 14,
   "id": "7d5c1502",
   "metadata": {},
   "outputs": [],
   "source": [
    "import time \n",
    "import itertools\n",
    "import statsmodels.api as sm\n",
    "import statsmodels.formula.api as smf\n",
    "\n",
    "def processSubset(X,y, feature_set):\n",
    "    model = sm.OLS(y, X[list(feature_set)])\n",
    "    regr = model.fit()\n",
    "    AIC = regr.aic\n",
    "    return {'model':regr, 'AIC':AIC}\n",
    "\n",
    "#전진선택법\n",
    "def forward(X,y,predictors):\n",
    "    remaining_predictors = [p for p in X.columns.difference(['Intercept']) if p not in predictors]\n",
    "    results = []\n",
    "    \n",
    "    for p in remaining_predictors:\n",
    "        results.append(processSubset(X=X, y=y, feature_set=predictors + [p] + ['Intercept']))\n",
    "        \n",
    "    models = pd.DataFrame(results)\n",
    "    \n",
    "    best_model = models.loc[models['AIC'].argmin()]\n",
    "    print('Proceed', models.shape[0], 'models on', len(predictors)+1, 'predictors in')\n",
    "    print('Selected predictors:', best_model['model'].model.exog_names, 'AIC:', best_model[0])\n",
    "    return best_model\n",
    "\n",
    "#후진소거법\n",
    "def backward(X,y,predictors):\n",
    "    tic = time.time()\n",
    "    results = []\n",
    "    \n",
    "    for combo in itertools.combinations(predictors, len(predictors) -1):\n",
    "        results.append(processSubset(X=X, y=y, feature_set=list(combo) + ['Intercept']))\n",
    "    \n",
    "    models = pd.DataFrame(results)\n",
    "    best_model= models.loc[models['AIC'].argmin()]\n",
    "    toc = time.time()\n",
    "    \n",
    "    print('Processed', models.shape[0], 'models on', len(predictors)-1, 'predictors in', (toc-tic))\n",
    "    print('Selected predictors:', best_model['model'].model.exog_names,\n",
    "          'AIC:', best_model[0])\n",
    "    return best_model\n",
    "\n",
    "#단계적 선택법\n",
    "def Stepwise_model(X,y):\n",
    "    Stepmodels = pd.DataFrame(columns=['AIC','model'])\n",
    "    tic = time.time()\n",
    "    predictors = []\n",
    "    Smodel_before = processSubset(X,y, predictors+['Intercept'])['AIC']\n",
    "    \n",
    "    for i in range(1, len(X.columns.difference(['Intercept']))+1):\n",
    "        Forward_result = forward(X=X, y=y, predictors=predictors)\n",
    "        print('forward')\n",
    "        Stepmodels.loc[i] = Forward_result\n",
    "        predictors = Stepmodels.loc[i]['model'].model.exog_names\n",
    "        predictors = [k for k in predictors if k!= 'Intercept']\n",
    "        Backward_result = backward(X=X, y=y, predictors=predictors)\n",
    "        \n",
    "        if Backward_result['AIC'] < Forward_result['AIC']:\n",
    "            Stepmodels.loc[i] = Backward_result\n",
    "            predictors = Stepmodels.loc[i]['model'].model.exog_names\n",
    "            Smodel_before = Stepmodels.loc[i]['AIC']\n",
    "            predictors = [k for k in predictors if k!='Intercept']\n",
    "            print('backward')\n",
    "            \n",
    "        if Stepmodels.loc[i]['AIC'] > Smodel_before:\n",
    "            break\n",
    "        \n",
    "        else:\n",
    "            Smodel_before = Stepmodels.loc[i]['AIC']\n",
    "            \n",
    "    toc = time.time()\n",
    "    print('Total elapsed time : ',(toc-tic), 'seconds') \n",
    "    \n",
    "    return (Stepmodels['model'][len(Stepmodels['model'])])"
   ]
  },
  {
   "cell_type": "code",
   "execution_count": 15,
   "id": "f812bcc1",
   "metadata": {},
   "outputs": [
    {
     "name": "stdout",
     "output_type": "stream",
     "text": [
      "Proceed 7 models on 1 predictors in\n",
      "Selected predictors: ['CGPA', 'Intercept'] AIC: <statsmodels.regression.linear_model.RegressionResultsWrapper object at 0x000002AB23DC23D0>\n",
      "forward\n",
      "Processed 1 models on 0 predictors in 0.005463838577270508\n",
      "Selected predictors: ['Intercept'] AIC: <statsmodels.regression.linear_model.RegressionResultsWrapper object at 0x000002AB24B580A0>\n",
      "Proceed 6 models on 2 predictors in\n",
      "Selected predictors: ['CGPA', 'GRE', 'Intercept'] AIC: <statsmodels.regression.linear_model.RegressionResultsWrapper object at 0x000002AB24B61B80>\n",
      "forward\n",
      "Processed 2 models on 1 predictors in 0.007977962493896484\n",
      "Selected predictors: ['CGPA', 'Intercept'] AIC: <statsmodels.regression.linear_model.RegressionResultsWrapper object at 0x000002AB23CC13A0>\n",
      "Proceed 5 models on 3 predictors in\n",
      "Selected predictors: ['CGPA', 'GRE', 'LOR', 'Intercept'] AIC: <statsmodels.regression.linear_model.RegressionResultsWrapper object at 0x000002AB24B580A0>\n",
      "forward\n",
      "Processed 3 models on 2 predictors in 0.008974313735961914\n",
      "Selected predictors: ['CGPA', 'GRE', 'Intercept'] AIC: <statsmodels.regression.linear_model.RegressionResultsWrapper object at 0x000002AB23CC1130>\n",
      "Proceed 4 models on 4 predictors in\n",
      "Selected predictors: ['CGPA', 'GRE', 'LOR', 'Research', 'Intercept'] AIC: <statsmodels.regression.linear_model.RegressionResultsWrapper object at 0x000002AB15998C70>\n",
      "forward\n",
      "Processed 4 models on 3 predictors in 0.014917612075805664\n",
      "Selected predictors: ['CGPA', 'GRE', 'LOR', 'Intercept'] AIC: <statsmodels.regression.linear_model.RegressionResultsWrapper object at 0x000002AB24A95D60>\n",
      "Proceed 3 models on 5 predictors in\n",
      "Selected predictors: ['CGPA', 'GRE', 'LOR', 'Research', 'TOEFL', 'Intercept'] AIC: <statsmodels.regression.linear_model.RegressionResultsWrapper object at 0x000002AB159E1370>\n",
      "forward\n",
      "Processed 5 models on 4 predictors in 0.01795172691345215\n",
      "Selected predictors: ['CGPA', 'GRE', 'LOR', 'Research', 'Intercept'] AIC: <statsmodels.regression.linear_model.RegressionResultsWrapper object at 0x000002AB16A24A00>\n",
      "Proceed 2 models on 6 predictors in\n",
      "Selected predictors: ['CGPA', 'GRE', 'LOR', 'Research', 'TOEFL', 'Univ_Rating', 'Intercept'] AIC: <statsmodels.regression.linear_model.RegressionResultsWrapper object at 0x000002AB23CC13A0>\n",
      "forward\n",
      "Processed 6 models on 5 predictors in 0.020946979522705078\n",
      "Selected predictors: ['CGPA', 'GRE', 'LOR', 'Research', 'TOEFL', 'Intercept'] AIC: <statsmodels.regression.linear_model.RegressionResultsWrapper object at 0x000002AB24B61940>\n",
      "backward\n",
      "Proceed 2 models on 6 predictors in\n",
      "Selected predictors: ['CGPA', 'GRE', 'LOR', 'Research', 'TOEFL', 'Univ_Rating', 'Intercept'] AIC: <statsmodels.regression.linear_model.RegressionResultsWrapper object at 0x000002AB24AA2220>\n",
      "forward\n",
      "Processed 6 models on 5 predictors in 0.014959573745727539\n",
      "Selected predictors: ['CGPA', 'GRE', 'LOR', 'Research', 'TOEFL', 'Intercept'] AIC: <statsmodels.regression.linear_model.RegressionResultsWrapper object at 0x000002AB23CC1160>\n",
      "backward\n",
      "Total elapsed time :  0.3494222164154053 seconds\n"
     ]
    }
   ],
   "source": [
    "best_model=Stepwise_model(X=X, y=y)"
   ]
  },
  {
   "cell_type": "code",
   "execution_count": 16,
   "id": "8311d9e8",
   "metadata": {},
   "outputs": [
    {
     "data": {
      "text/html": [
       "<table class=\"simpletable\">\n",
       "<caption>OLS Regression Results</caption>\n",
       "<tr>\n",
       "  <th>Dep. Variable:</th>     <td>Chance_of_Admit</td> <th>  R-squared:         </th> <td>   0.803</td> \n",
       "</tr>\n",
       "<tr>\n",
       "  <th>Model:</th>                   <td>OLS</td>       <th>  Adj. R-squared:    </th> <td>   0.800</td> \n",
       "</tr>\n",
       "<tr>\n",
       "  <th>Method:</th>             <td>Least Squares</td>  <th>  F-statistic:       </th> <td>   320.6</td> \n",
       "</tr>\n",
       "<tr>\n",
       "  <th>Date:</th>             <td>Thu, 24 Nov 2022</td> <th>  Prob (F-statistic):</th> <td>2.04e-136</td>\n",
       "</tr>\n",
       "<tr>\n",
       "  <th>Time:</th>                 <td>17:16:37</td>     <th>  Log-Likelihood:    </th> <td>  536.61</td> \n",
       "</tr>\n",
       "<tr>\n",
       "  <th>No. Observations:</th>      <td>   400</td>      <th>  AIC:               </th> <td>  -1061.</td> \n",
       "</tr>\n",
       "<tr>\n",
       "  <th>Df Residuals:</th>          <td>   394</td>      <th>  BIC:               </th> <td>  -1037.</td> \n",
       "</tr>\n",
       "<tr>\n",
       "  <th>Df Model:</th>              <td>     5</td>      <th>                     </th>     <td> </td>    \n",
       "</tr>\n",
       "<tr>\n",
       "  <th>Covariance Type:</th>      <td>nonrobust</td>    <th>                     </th>     <td> </td>    \n",
       "</tr>\n",
       "</table>\n",
       "<table class=\"simpletable\">\n",
       "<tr>\n",
       "      <td></td>         <th>coef</th>     <th>std err</th>      <th>t</th>      <th>P>|t|</th>  <th>[0.025</th>    <th>0.975]</th>  \n",
       "</tr>\n",
       "<tr>\n",
       "  <th>CGPA</th>      <td>    0.1210</td> <td>    0.012</td> <td>   10.312</td> <td> 0.000</td> <td>    0.098</td> <td>    0.144</td>\n",
       "</tr>\n",
       "<tr>\n",
       "  <th>GRE</th>       <td>    0.0018</td> <td>    0.001</td> <td>    2.992</td> <td> 0.003</td> <td>    0.001</td> <td>    0.003</td>\n",
       "</tr>\n",
       "<tr>\n",
       "  <th>LOR</th>       <td>    0.0228</td> <td>    0.005</td> <td>    4.741</td> <td> 0.000</td> <td>    0.013</td> <td>    0.032</td>\n",
       "</tr>\n",
       "<tr>\n",
       "  <th>Research</th>  <td>    0.0246</td> <td>    0.008</td> <td>    3.103</td> <td> 0.002</td> <td>    0.009</td> <td>    0.040</td>\n",
       "</tr>\n",
       "<tr>\n",
       "  <th>TOEFL</th>     <td>    0.0030</td> <td>    0.001</td> <td>    2.847</td> <td> 0.005</td> <td>    0.001</td> <td>    0.005</td>\n",
       "</tr>\n",
       "<tr>\n",
       "  <th>Intercept</th> <td>   -1.2985</td> <td>    0.117</td> <td>  -11.070</td> <td> 0.000</td> <td>   -1.529</td> <td>   -1.068</td>\n",
       "</tr>\n",
       "</table>\n",
       "<table class=\"simpletable\">\n",
       "<tr>\n",
       "  <th>Omnibus:</th>       <td>87.489</td> <th>  Durbin-Watson:     </th> <td>   0.750</td>\n",
       "</tr>\n",
       "<tr>\n",
       "  <th>Prob(Omnibus):</th> <td> 0.000</td> <th>  Jarque-Bera (JB):  </th> <td> 179.337</td>\n",
       "</tr>\n",
       "<tr>\n",
       "  <th>Skew:</th>          <td>-1.157</td> <th>  Prob(JB):          </th> <td>1.14e-39</td>\n",
       "</tr>\n",
       "<tr>\n",
       "  <th>Kurtosis:</th>      <td> 5.325</td> <th>  Cond. No.          </th> <td>1.23e+04</td>\n",
       "</tr>\n",
       "</table><br/><br/>Notes:<br/>[1] Standard Errors assume that the covariance matrix of the errors is correctly specified.<br/>[2] The condition number is large, 1.23e+04. This might indicate that there are<br/>strong multicollinearity or other numerical problems."
      ],
      "text/plain": [
       "<class 'statsmodels.iolib.summary.Summary'>\n",
       "\"\"\"\n",
       "                            OLS Regression Results                            \n",
       "==============================================================================\n",
       "Dep. Variable:        Chance_of_Admit   R-squared:                       0.803\n",
       "Model:                            OLS   Adj. R-squared:                  0.800\n",
       "Method:                 Least Squares   F-statistic:                     320.6\n",
       "Date:                Thu, 24 Nov 2022   Prob (F-statistic):          2.04e-136\n",
       "Time:                        17:16:37   Log-Likelihood:                 536.61\n",
       "No. Observations:                 400   AIC:                            -1061.\n",
       "Df Residuals:                     394   BIC:                            -1037.\n",
       "Df Model:                           5                                         \n",
       "Covariance Type:            nonrobust                                         \n",
       "==============================================================================\n",
       "                 coef    std err          t      P>|t|      [0.025      0.975]\n",
       "------------------------------------------------------------------------------\n",
       "CGPA           0.1210      0.012     10.312      0.000       0.098       0.144\n",
       "GRE            0.0018      0.001      2.992      0.003       0.001       0.003\n",
       "LOR            0.0228      0.005      4.741      0.000       0.013       0.032\n",
       "Research       0.0246      0.008      3.103      0.002       0.009       0.040\n",
       "TOEFL          0.0030      0.001      2.847      0.005       0.001       0.005\n",
       "Intercept     -1.2985      0.117    -11.070      0.000      -1.529      -1.068\n",
       "==============================================================================\n",
       "Omnibus:                       87.489   Durbin-Watson:                   0.750\n",
       "Prob(Omnibus):                  0.000   Jarque-Bera (JB):              179.337\n",
       "Skew:                          -1.157   Prob(JB):                     1.14e-39\n",
       "Kurtosis:                       5.325   Cond. No.                     1.23e+04\n",
       "==============================================================================\n",
       "\n",
       "Notes:\n",
       "[1] Standard Errors assume that the covariance matrix of the errors is correctly specified.\n",
       "[2] The condition number is large, 1.23e+04. This might indicate that there are\n",
       "strong multicollinearity or other numerical problems.\n",
       "\"\"\""
      ]
     },
     "execution_count": 16,
     "metadata": {},
     "output_type": "execute_result"
    }
   ],
   "source": [
    "best_model.summary()"
   ]
  },
  {
   "cell_type": "markdown",
   "id": "e5c8d50a",
   "metadata": {},
   "source": [
    "# 잔차분석"
   ]
  },
  {
   "cell_type": "code",
   "execution_count": 19,
   "id": "b0cca1dc",
   "metadata": {},
   "outputs": [
    {
     "data": {
      "text/plain": [
       "[<matplotlib.lines.Line2D at 0x2ab24be2580>]"
      ]
     },
     "execution_count": 19,
     "metadata": {},
     "output_type": "execute_result"
    },
    {
     "data": {
      "image/png": "[encoded data removed]",
      "text/plain": [
       "<Figure size 432x288 with 1 Axes>"
      ]
     },
     "metadata": {
      "needs_background": "light"
     },
     "output_type": "display_data"
    }
   ],
   "source": [
    "import warnings\n",
    "warnings.filterwarnings('ignore')\n",
    "import matplotlib.pyplot as plt\n",
    "fitted=best_model.predict()\n",
    "residual=df['Chance_of_Admit']-fitted\n",
    "sns.regplot(fitted, residual, lowess=True, line_kws={'color':'red'})\n",
    "plt.plot([fitted.min(), fitted.max()], [0,0], '--', color='grey')"
   ]
  },
  {
   "cell_type": "markdown",
   "id": "6162f516",
   "metadata": {},
   "source": [
    "- 정규성"
   ]
  },
  {
   "cell_type": "code",
   "execution_count": 20,
   "id": "3b7a0163",
   "metadata": {},
   "outputs": [],
   "source": [
    "import scipy.stats\n",
    "sr=scipy.stats.zscore(residual)\n",
    "(x, y), _=scipy.stats.probplot(sr)"
   ]
  },
  {
   "cell_type": "code",
   "execution_count": 21,
   "id": "b245016e",
   "metadata": {},
   "outputs": [
    {
     "data": {
      "text/plain": [
       "[<matplotlib.lines.Line2D at 0x2ab24c6c5e0>]"
      ]
     },
     "execution_count": 21,
     "metadata": {},
     "output_type": "execute_result"
    },
    {
     "data": {
      "image/png": "[encoded data removed]",
      "text/plain": [
       "<Figure size 432x288 with 1 Axes>"
      ]
     },
     "metadata": {
      "needs_background": "light"
     },
     "output_type": "display_data"
    }
   ],
   "source": [
    "sns.scatterplot(x, y)\n",
    "plt.plot([-3, 3], [-3, 3], '--', color='grey')"
   ]
  },
  {
   "cell_type": "code",
   "execution_count": 29,
   "id": "d52778b9",
   "metadata": {},
   "outputs": [
    {
     "data": {
      "text/plain": [
       "ShapiroResult(statistic=0.9219251275062561, pvalue=1.4429574885215651e-13)"
      ]
     },
     "execution_count": 29,
     "metadata": {},
     "output_type": "execute_result"
    }
   ],
   "source": [
    "scipy.stats.shapiro(residual)"
   ]
  },
  {
   "cell_type": "markdown",
   "id": "24c20604",
   "metadata": {},
   "source": [
    "귀무가설을 기각한다. 즉 정규성이 위배된다"
   ]
  },
  {
   "cell_type": "code",
   "execution_count": 30,
   "id": "6cc4338d",
   "metadata": {},
   "outputs": [
    {
     "data": {
      "text/plain": [
       "<AxesSubplot:ylabel='Chance_of_Admit'>"
      ]
     },
     "execution_count": 30,
     "metadata": {},
     "output_type": "execute_result"
    },
    {
     "data": {
      "image/png": "[encoded data removed]",
      "text/plain": [
       "<Figure size 432x288 with 1 Axes>"
      ]
     },
     "metadata": {
      "needs_background": "light"
     },
     "output_type": "display_data"
    }
   ],
   "source": [
    "import numpy as np\n",
    "sns.regplot(fitted, np.sqrt(np.abs(sr)), lowess=True, line_kws={'color':'red'})"
   ]
  },
  {
   "cell_type": "markdown",
   "id": "8f1f9b70",
   "metadata": {},
   "source": [
    "- 잔차의 독립성"
   ]
  },
  {
   "cell_type": "code",
   "execution_count": 33,
   "id": "e913ecc0",
   "metadata": {},
   "outputs": [
    {
     "data": {
      "text/plain": [
       "0.7499111207304129"
      ]
     },
     "execution_count": 33,
     "metadata": {},
     "output_type": "execute_result"
    }
   ],
   "source": [
    "from statsmodels.stats.stattools import durbin_watson\n",
    "durbin_watson(residual)"
   ]
  },
  {
   "cell_type": "code",
   "execution_count": null,
   "id": "30f9b0f3",
   "metadata": {},
   "outputs": [],
   "source": []
  }
 ],
 "metadata": {
  "kernelspec": {
   "display_name": "Python 3 (ipykernel)",
   "language": "python",
   "name": "python3"
  },
  "language_info": {
   "codemirror_mode": {
    "name": "ipython",
    "version": 3
   },
   "file_extension": ".py",
   "mimetype": "text/x-python",
   "name": "python",
   "nbconvert_exporter": "python",
   "pygments_lexer": "ipython3",
   "version": "3.8.5"
  }
 },
 "nbformat": 4,
 "nbformat_minor": 5
}
