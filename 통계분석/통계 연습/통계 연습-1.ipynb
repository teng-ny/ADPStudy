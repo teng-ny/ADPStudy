{
 "cells": [
  {
   "cell_type": "code",
   "execution_count": 1,
   "id": "96289e53",
   "metadata": {},
   "outputs": [],
   "source": [
    "import pandas as pd\n",
    "import numpy as np\n",
    "import scipy.stats as stats\n",
    "from scipy.stats import shapiro"
   ]
  },
  {
   "cell_type": "code",
   "execution_count": 2,
   "id": "b3fa1484",
   "metadata": {},
   "outputs": [
    {
     "data": {
      "text/plain": [
       "[8800, 9500, 9600, 10500, 10400, 9600, 10300, 9500, 9600, 7100, 10100, 7200]"
      ]
     },
     "execution_count": 2,
     "metadata": {},
     "output_type": "execute_result"
    }
   ],
   "source": [
    "df=[8800, 9500, 9600, 10500, 10400, 9600, 10300, 9500, 9600, 7100, 10100, 7200]\n",
    "df"
   ]
  },
  {
   "cell_type": "markdown",
   "id": "710571bb",
   "metadata": {},
   "source": [
    "- H0 : 진공관 수명은 1만시간이다\n",
    "- H1 : 진공관 수명은 1만시간이 아니다."
   ]
  },
  {
   "cell_type": "code",
   "execution_count": 3,
   "id": "68e310c4",
   "metadata": {},
   "outputs": [
    {
     "data": {
      "text/plain": [
       "ShapiroResult(statistic=0.8105747699737549, pvalue=0.012388509698212147)"
      ]
     },
     "execution_count": 3,
     "metadata": {},
     "output_type": "execute_result"
    }
   ],
   "source": [
    "shapiro(df)"
   ]
  },
  {
   "cell_type": "markdown",
   "id": "0eee4167",
   "metadata": {},
   "source": [
    "귀무가설을 기각한다. 즉 정규성을 따르지 않는다."
   ]
  },
  {
   "cell_type": "code",
   "execution_count": 4,
   "id": "2c7092ed",
   "metadata": {},
   "outputs": [
    {
     "ename": "TypeError",
     "evalue": "unsupported operand type(s) for -: 'list' and 'int'",
     "output_type": "error",
     "traceback": [
      "\u001b[1;31m---------------------------------------------------------------------------\u001b[0m",
      "\u001b[1;31mTypeError\u001b[0m                                 Traceback (most recent call last)",
      "\u001b[1;32mC:\\Users\\Public\\Documents\\ESTsoft\\CreatorTemp/ipykernel_25532/3432824665.py\u001b[0m in \u001b[0;36m<module>\u001b[1;34m\u001b[0m\n\u001b[0;32m      1\u001b[0m \u001b[0mmean0\u001b[0m\u001b[1;33m=\u001b[0m\u001b[1;36m10000\u001b[0m\u001b[1;33m\u001b[0m\u001b[1;33m\u001b[0m\u001b[0m\n\u001b[1;32m----> 2\u001b[1;33m \u001b[0mstats\u001b[0m\u001b[1;33m.\u001b[0m\u001b[0mwilcoxon\u001b[0m\u001b[1;33m(\u001b[0m\u001b[0mdf\u001b[0m\u001b[1;33m-\u001b[0m\u001b[0mmean0\u001b[0m\u001b[1;33m,\u001b[0m \u001b[0malternative\u001b[0m\u001b[1;33m=\u001b[0m\u001b[1;34m'two-sided'\u001b[0m\u001b[1;33m)\u001b[0m\u001b[1;33m\u001b[0m\u001b[1;33m\u001b[0m\u001b[0m\n\u001b[0m",
      "\u001b[1;31mTypeError\u001b[0m: unsupported operand type(s) for -: 'list' and 'int'"
     ]
    }
   ],
   "source": [
    "mean0=10000\n",
    "stats.wilcoxon(df-mean0, alternative='two-sided')"
   ]
  },
  {
   "cell_type": "markdown",
   "id": "a6e61e98",
   "metadata": {},
   "source": [
    "귀무가설을 기각할 수 없다. 즉 진공관 수명은 1만시간이다."
   ]
  },
  {
   "cell_type": "markdown",
   "id": "c9c04a1d",
   "metadata": {},
   "source": [
    "### 문제2"
   ]
  },
  {
   "cell_type": "code",
   "execution_count": null,
   "id": "5ad19c6f",
   "metadata": {},
   "outputs": [],
   "source": [
    "median=np.median(df)\n",
    "median"
   ]
  },
  {
   "cell_type": "code",
   "execution_count": null,
   "id": "e654b411",
   "metadata": {},
   "outputs": [],
   "source": [
    "from collections import Counter\n",
    "Counter(df)"
   ]
  },
  {
   "cell_type": "markdown",
   "id": "99313c89",
   "metadata": {},
   "source": [
    "9600이 세개 있으므로 제외해줌"
   ]
  },
  {
   "cell_type": "code",
   "execution_count": null,
   "id": "8e256c1e",
   "metadata": {},
   "outputs": [],
   "source": [
    "while 9600 in df:\n",
    "    df.remove(9600)"
   ]
  },
  {
   "cell_type": "code",
   "execution_count": null,
   "id": "cf1608d4",
   "metadata": {},
   "outputs": [],
   "source": [
    "df=np.array(df)"
   ]
  },
  {
   "cell_type": "code",
   "execution_count": null,
   "id": "28cfe2bf",
   "metadata": {},
   "outputs": [],
   "source": [
    "mean0=10000\n",
    "df\n",
    "stats.wilcoxon(df-mean0, alternative='two-sided')"
   ]
  },
  {
   "cell_type": "code",
   "execution_count": null,
   "id": "79454064",
   "metadata": {},
   "outputs": [],
   "source": [
    "mean0=60\n",
    "df=pd.DataFrame({'num':[52,50,62,75,26,45,62,35,57,14]})\n",
    "df"
   ]
  },
  {
   "cell_type": "code",
   "execution_count": null,
   "id": "30eba5f7",
   "metadata": {},
   "outputs": [],
   "source": [
    "median=df.num.median()"
   ]
  },
  {
   "cell_type": "code",
   "execution_count": null,
   "id": "e9c6a66e",
   "metadata": {},
   "outputs": [],
   "source": [
    "median"
   ]
  },
  {
   "cell_type": "code",
   "execution_count": null,
   "id": "981e69c0",
   "metadata": {},
   "outputs": [],
   "source": [
    "df=df[df['num']!=51]"
   ]
  },
  {
   "cell_type": "code",
   "execution_count": null,
   "id": "7a6871f4",
   "metadata": {},
   "outputs": [],
   "source": [
    "shapiro(df)"
   ]
  },
  {
   "cell_type": "markdown",
   "id": "18c6bc86",
   "metadata": {},
   "source": [
    "귀무가설을 기각할 수 없다. 즉 정규분포를 따른다"
   ]
  },
  {
   "cell_type": "code",
   "execution_count": null,
   "id": "fdea2013",
   "metadata": {},
   "outputs": [],
   "source": [
    "mean0=60\n",
    "stats.wilcoxon(df.num-mean0, alternative='two-sided')"
   ]
  },
  {
   "cell_type": "markdown",
   "id": "efd7e7f1",
   "metadata": {},
   "source": [
    "검정통계량은 9.5이고 pvalue가 0.05보다 작으므로 귀무가설을 기각할 수 없다. 즉 모평균은 60이다."
   ]
  },
  {
   "cell_type": "code",
   "execution_count": null,
   "id": "6c8eb82e",
   "metadata": {},
   "outputs": [],
   "source": [
    "mean0=60\n",
    "s_mean=np.mean(df['num'])\n",
    "u_var=df['num'].var(ddof=1)\n",
    "n=len(df['num'])\n",
    "rv=stats.t(df=n-1)"
   ]
  },
  {
   "cell_type": "code",
   "execution_count": null,
   "id": "0175a70c",
   "metadata": {},
   "outputs": [],
   "source": [
    "t=(s_mean-mean0)/np.sqrt(u_var/n)\n",
    "t"
   ]
  },
  {
   "cell_type": "code",
   "execution_count": null,
   "id": "1c936bb3",
   "metadata": {},
   "outputs": [],
   "source": [
    "p=rv.cdf(t)*2"
   ]
  },
  {
   "cell_type": "code",
   "execution_count": null,
   "id": "22f64b68",
   "metadata": {},
   "outputs": [],
   "source": [
    "p"
   ]
  },
  {
   "cell_type": "code",
   "execution_count": null,
   "id": "bae8c3a4",
   "metadata": {},
   "outputs": [],
   "source": [
    "alpha=0.05\n",
    "rv.interval(1-alpha)"
   ]
  },
  {
   "cell_type": "code",
   "execution_count": null,
   "id": "78aadc76",
   "metadata": {},
   "outputs": [],
   "source": [
    "lcl=s_mean-rv.isf(0.025)*np.sqrt(u_var/n)\n",
    "ucl=s_mean-rv.isf(0.975)*np.sqrt(u_var/n)\n",
    "lcl, ucl"
   ]
  },
  {
   "cell_type": "markdown",
   "id": "f264562a",
   "metadata": {},
   "source": [
    "# 문제"
   ]
  },
  {
   "cell_type": "code",
   "execution_count": null,
   "id": "488ab282",
   "metadata": {},
   "outputs": [],
   "source": [
    "df=pd.DataFrame({'index':[\"1.5-2.5\", \"2.5-3.5\", \"3.5-4.5\"], \"사회과학\":[15,60,24], \"자연과학\":[25,69,6], \"공학\":[10, 77,14]})\n",
    "df.set_index(\"index\", inplace=True)\n",
    "df"
   ]
  },
  {
   "cell_type": "code",
   "execution_count": null,
   "id": "7def4c50",
   "metadata": {},
   "outputs": [],
   "source": [
    "from scipy.stats import chi2_contingency\n",
    "chi, p, df, expect=chi2_contingency(df)\n",
    "chi, p"
   ]
  },
  {
   "cell_type": "markdown",
   "id": "3215251f",
   "metadata": {},
   "source": [
    "검정통계량은 20.21이고 p 값은 0.05보다 작으므로 귀무가설을 기각한다. 즉 성적과 과목은 독립이 아니다."
   ]
  },
  {
   "cell_type": "code",
   "execution_count": null,
   "id": "3ae21dcf",
   "metadata": {},
   "outputs": [],
   "source": [
    "expect"
   ]
  },
  {
   "cell_type": "markdown",
   "id": "ec61377b",
   "metadata": {},
   "source": [
    "기댓값은 다음과 같다."
   ]
  },
  {
   "cell_type": "code",
   "execution_count": null,
   "id": "9c59b162",
   "metadata": {},
   "outputs": [],
   "source": [
    "사회과학, 자연과학, 공학=df.sum()\n",
    "사회과학, 자연과학,  공학\n",
    "\n",
    "A, B, C=data.sum(axis=1)\n",
    "n=사회과학+자연과학+공학\n",
    "n"
   ]
  },
  {
   "cell_type": "code",
   "execution_count": null,
   "id": "a9642644",
   "metadata": {},
   "outputs": [],
   "source": [
    "ad_ef=pd.DataFrame({'사회과학':[A*사회과학/n, B*사회과학/n, C*사회과학/n],'자연과학':[A*자연과학/n, B*자연과학/n, C*자연과학/n], '공학':[A*공학/n, B*공학/n, C*공학/n]}, index=df.index)\n",
    "ad_ef"
   ]
  },
  {
   "cell_type": "code",
   "execution_count": null,
   "id": "64025d61",
   "metadata": {},
   "outputs": [],
   "source": [
    "y=((df-ad_ef)**2/ad_ef).sum().sum()\n",
    "y"
   ]
  },
  {
   "cell_type": "code",
   "execution_count": null,
   "id": "8295e53a",
   "metadata": {},
   "outputs": [],
   "source": [
    "rv=stats.chi2(4)\n",
    "1-rv.cdf(y)"
   ]
  },
  {
   "cell_type": "markdown",
   "id": "5cc14cf2",
   "metadata": {},
   "source": [
    "# 문제"
   ]
  },
  {
   "cell_type": "code",
   "execution_count": null,
   "id": "494df546",
   "metadata": {},
   "outputs": [],
   "source": [
    "df=pd.DataFrame({'num':[3.1, 3.3, 3.5, 3.7, 3.9, 4.1, 4.3, 4.4, 4.7]})\n",
    "n=9"
   ]
  },
  {
   "cell_type": "code",
   "execution_count": null,
   "id": "a6a7a525",
   "metadata": {},
   "outputs": [],
   "source": [
    "rv=stats.t(df=n-1)\n",
    "alpha=0.05\n",
    "s_mean=np.mean(df.num)\n",
    "p_var=np.var(df.num, ddof=1)\n",
    "lcl=s_mean-2.31*np.sqrt(p_var/n)\n",
    "ucl=s_mean+2.31*np.sqrt(p_var/n)"
   ]
  },
  {
   "cell_type": "code",
   "execution_count": null,
   "id": "47de2c04",
   "metadata": {},
   "outputs": [],
   "source": [
    "lcl, ucl"
   ]
  },
  {
   "cell_type": "markdown",
   "id": "b8df43e6",
   "metadata": {},
   "source": [
    "모 표준편차=0.05, 모분산=0.05**2"
   ]
  },
  {
   "cell_type": "code",
   "execution_count": null,
   "id": "917305df",
   "metadata": {},
   "outputs": [],
   "source": [
    "rv=stats.norm()\n",
    "p_var=0.04**2\n",
    "lcl=s_mean-1.96*np.sqrt(p_var/n)\n",
    "ucl=s_mean+1.96*np.sqrt(p_var/n)\n",
    "lcl, ucl"
   ]
  },
  {
   "cell_type": "code",
   "execution_count": null,
   "id": "85b70696",
   "metadata": {},
   "outputs": [],
   "source": [
    "result=0.01*(370/(370+15))/(0.01*370/(370+15)+0.99*10/(10+690))\n",
    "result"
   ]
  },
  {
   "cell_type": "markdown",
   "id": "b6814176",
   "metadata": {},
   "source": [
    "# 문제"
   ]
  },
  {
   "cell_type": "code",
   "execution_count": null,
   "id": "5209e3d4",
   "metadata": {},
   "outputs": [],
   "source": [
    "mean_A=5.7\n",
    "mean_B=5.6\n",
    "var_A=0.03**2\n",
    "var_B=0.04**2\n",
    "n_A=12\n",
    "n_B=12\n",
    "\n",
    "#A, B 두 생산라인의 차이는 없다.\n",
    "#A, B 두 생산라인 사이의 차이는 있다."
   ]
  },
  {
   "cell_type": "code",
   "execution_count": null,
   "id": "68c92e63",
   "metadata": {},
   "outputs": [],
   "source": [
    "sp=np.sqrt(((n_A-1)*var_A+(n_B-1)*var_B)/(n_A+n_B-2))\n",
    "sp"
   ]
  },
  {
   "cell_type": "code",
   "execution_count": null,
   "id": "7ff4c7e1",
   "metadata": {},
   "outputs": [],
   "source": [
    "t=(mean_A-mean_B)/(sp*np.sqrt(1/n_A+1/n_B))\n",
    "t"
   ]
  },
  {
   "cell_type": "code",
   "execution_count": null,
   "id": "4e45eece",
   "metadata": {},
   "outputs": [],
   "source": [
    "rv=stats.t(df=n_A+n_B-2)\n",
    "p=(1-rv.cdf(t))*2"
   ]
  },
  {
   "cell_type": "code",
   "execution_count": null,
   "id": "bfd4720c",
   "metadata": {},
   "outputs": [],
   "source": [
    "p"
   ]
  },
  {
   "cell_type": "markdown",
   "id": "504b388f",
   "metadata": {},
   "source": [
    "귀무가설을 기각한다. 즉 두 생산라인 사이의 차이는 있다."
   ]
  },
  {
   "cell_type": "markdown",
   "id": "2929f01b",
   "metadata": {},
   "source": [
    "# 문제"
   ]
  },
  {
   "cell_type": "markdown",
   "id": "fe715bc8",
   "metadata": {},
   "source": [
    "alpha=0.1, 추정오차한계(d)=0.05"
   ]
  },
  {
   "cell_type": "code",
   "execution_count": null,
   "id": "b49ca034",
   "metadata": {},
   "outputs": [],
   "source": [
    "import scipy.stats as stats\n",
    "from scipy.stats import shapiro\n",
    "rv=stats.norm()\n",
    "alpha=0.1\n",
    "z=rv.isf(alpha/2)\n",
    "d=0.05\n",
    "n=1/4*(z/d)**2\n",
    "n\n",
    "round(n,0)"
   ]
  },
  {
   "cell_type": "code",
   "execution_count": null,
   "id": "eea29259",
   "metadata": {},
   "outputs": [],
   "source": [
    "z"
   ]
  },
  {
   "cell_type": "markdown",
   "id": "4fa9975b",
   "metadata": {},
   "source": [
    "# 문제"
   ]
  },
  {
   "cell_type": "markdown",
   "id": "d4d0eebd",
   "metadata": {},
   "source": [
    "d=10, 모표준편차=30, 신뢰수준 alpha0.1"
   ]
  },
  {
   "cell_type": "code",
   "execution_count": null,
   "id": "42cf6f58",
   "metadata": {},
   "outputs": [],
   "source": [
    "alpha=0.1\n",
    "sigma=30\n",
    "rv=stats.norm()\n",
    "z=rv.isf(alpha/2)\n",
    "d=10\n",
    "n=(z*sigma/d)**2\n",
    "round(n,1)"
   ]
  },
  {
   "cell_type": "markdown",
   "id": "8acaaae0",
   "metadata": {},
   "source": [
    "n=25개"
   ]
  },
  {
   "cell_type": "markdown",
   "id": "695c7362",
   "metadata": {},
   "source": [
    "# 문제"
   ]
  },
  {
   "cell_type": "markdown",
   "id": "cbba4ecf",
   "metadata": {},
   "source": [
    "d=3, alpha=0.05, sigma=np.sqrt(64)"
   ]
  },
  {
   "cell_type": "code",
   "execution_count": null,
   "id": "9e31649c",
   "metadata": {},
   "outputs": [],
   "source": [
    "alpha=0.05\n",
    "sigma=np.sqrt(64)\n",
    "rv=stats.norm()\n",
    "z=rv.isf(alpha/2)\n",
    "d=3\n",
    "n=(z*sigma/d)**2"
   ]
  },
  {
   "cell_type": "code",
   "execution_count": null,
   "id": "e5a7f5d0",
   "metadata": {},
   "outputs": [],
   "source": [
    "round(n,1)"
   ]
  },
  {
   "cell_type": "code",
   "execution_count": null,
   "id": "743cd0b9",
   "metadata": {},
   "outputs": [],
   "source": [
    "n=28"
   ]
  },
  {
   "cell_type": "markdown",
   "id": "b6493d9e",
   "metadata": {},
   "source": [
    "# 문제"
   ]
  },
  {
   "cell_type": "markdown",
   "id": "7d2e8d20",
   "metadata": {},
   "source": [
    "d=0.03, alpha=0.05, p=0.35"
   ]
  },
  {
   "cell_type": "code",
   "execution_count": null,
   "id": "6f04cddc",
   "metadata": {},
   "outputs": [],
   "source": [
    "alpha=0.05\n",
    "p=0.35\n",
    "rv=stats.norm()\n",
    "z=rv.isf(alpha/2)\n",
    "d=0.03\n",
    "q=1-0.35\n",
    "\n",
    "n=p*q*(z/d)**2\n",
    "n"
   ]
  },
  {
   "cell_type": "markdown",
   "id": "5b9ea8d4",
   "metadata": {},
   "source": [
    "n=972"
   ]
  },
  {
   "cell_type": "markdown",
   "id": "bd50b82c",
   "metadata": {},
   "source": [
    "# 문제"
   ]
  },
  {
   "cell_type": "code",
   "execution_count": null,
   "id": "ee986e48",
   "metadata": {},
   "outputs": [],
   "source": [
    "p=8/400\n",
    "n=400\n",
    "alpha=0.05\n",
    "q=1-p\n",
    "rv=stats.norm()\n",
    "rv.isf(alpha/2)\n",
    "lcl=p-rv.isf(alpha/2)*np.sqrt(p*q/n)\n",
    "ucl=p-rv.isf(1-alpha/2)*np.sqrt(p*q/n)\n",
    "\n",
    "lcl, ucl"
   ]
  },
  {
   "cell_type": "code",
   "execution_count": null,
   "id": "fc5ceb9a",
   "metadata": {},
   "outputs": [],
   "source": [
    "p1=291/300\n",
    "p2=285/300\n",
    "q1=1-p1\n",
    "q2=1-p2\n",
    "n=300\n",
    "\n",
    "alpha=0.05\n",
    "rv=stats.norm()\n",
    "lcl=(p1-p2)-rv.isf(alpha/2)*np.sqrt(p1*q1/n+p2*q2/n)\n",
    "ucl=(p1-p2)-rv.isf(1-alpha/2)*np.sqrt(p1*q1/n+p2*q2/n)\n",
    "lcl, ucl"
   ]
  },
  {
   "cell_type": "markdown",
   "id": "9a308709",
   "metadata": {},
   "source": [
    "# 문제"
   ]
  },
  {
   "cell_type": "markdown",
   "id": "1fc0a3a5",
   "metadata": {},
   "source": [
    "- H0 : A, B 회사 사이의 타이어 제동거리 간 차이는 없다.\n",
    "- H1 : A, B 회사 사이의 타이어 제동거리 간 차이는 있다."
   ]
  },
  {
   "cell_type": "code",
   "execution_count": null,
   "id": "85f27e71",
   "metadata": {},
   "outputs": [],
   "source": [
    "mean_A=13.5\n",
    "mean_B=14.1\n",
    "var_A=1.46**2\n",
    "var_B=1.33**2\n",
    "n_A=64\n",
    "n_B=36"
   ]
  },
  {
   "cell_type": "code",
   "execution_count": null,
   "id": "8af333f3",
   "metadata": {},
   "outputs": [],
   "source": [
    "rv=stats.norm()\n",
    "z=(mean_A-mean_B)/np.sqrt(var_A/n_A+var_B/n_B)\n",
    "z"
   ]
  },
  {
   "cell_type": "code",
   "execution_count": null,
   "id": "e35e6a3a",
   "metadata": {},
   "outputs": [],
   "source": [
    "p=rv.cdf(z)*2\n",
    "p"
   ]
  },
  {
   "cell_type": "markdown",
   "id": "4469bf32",
   "metadata": {},
   "source": [
    "귀무가설을 기각한다. 즉 A,B 회사 사이의 평균 타이어 제동거리 간 차이는 있다."
   ]
  },
  {
   "cell_type": "markdown",
   "id": "5e7c6215",
   "metadata": {},
   "source": [
    "# 문제"
   ]
  },
  {
   "cell_type": "markdown",
   "id": "8aecb6de",
   "metadata": {},
   "source": [
    "- H0 : A, B 지역 쌀 생산량에는 차이가 없다.\n",
    "- H1 : A, B 지역 쌀 생산량에는 차이가 있다"
   ]
  },
  {
   "cell_type": "code",
   "execution_count": null,
   "id": "b1b7b007",
   "metadata": {},
   "outputs": [],
   "source": [
    "mean_A=364\n",
    "mean_B=330\n",
    "n_A=15\n",
    "n_B=16\n",
    "var_A=45**2\n",
    "var_B=60**2"
   ]
  },
  {
   "cell_type": "code",
   "execution_count": null,
   "id": "f3b0d30c",
   "metadata": {},
   "outputs": [],
   "source": [
    "sp=np.sqrt(((n_A-1)*var_A+(n_B-1)*var_B)/(n_A+n_B-2))\n",
    "sp"
   ]
  },
  {
   "cell_type": "code",
   "execution_count": null,
   "id": "3f0e4b6b",
   "metadata": {},
   "outputs": [],
   "source": [
    "t=(mean_A-mean_B)/(sp*np.sqrt(1/n_A+1/n_B))\n",
    "t"
   ]
  },
  {
   "cell_type": "code",
   "execution_count": null,
   "id": "9e11343b",
   "metadata": {},
   "outputs": [],
   "source": [
    "rv=stats.t(df=n_A+n_B-2)\n",
    "t"
   ]
  },
  {
   "cell_type": "code",
   "execution_count": null,
   "id": "bf8521f0",
   "metadata": {},
   "outputs": [],
   "source": [
    "alpha=0.05\n",
    "rv.interval(1-alpha)"
   ]
  },
  {
   "cell_type": "markdown",
   "id": "52eb6b0f",
   "metadata": {},
   "source": [
    "검정통계량이 기각역 안에 놓이지 않으므로 귀무가설을 기각할 수 없다. 즉 A, B지역 쌀 생산량에는 차이가 없다."
   ]
  },
  {
   "cell_type": "markdown",
   "id": "f639446b",
   "metadata": {},
   "source": [
    "- H0 : 기존의 약과 새로개발한 신약 혈압사이에는 차이가 없다\n",
    "- H1 : 새로 개발한 약이 혈압이 더 낮다(less)"
   ]
  },
  {
   "cell_type": "code",
   "execution_count": null,
   "id": "33f983d5",
   "metadata": {},
   "outputs": [],
   "source": [
    "df=pd.DataFrame({'기존':[157, 182, 183, 192, 165, 196], '신약':[155, 185, 181, 188, 167, 183]})\n",
    "df"
   ]
  },
  {
   "cell_type": "code",
   "execution_count": null,
   "id": "6181dd8f",
   "metadata": {},
   "outputs": [],
   "source": [
    "stats.ttest_rel(df['기존'], df['신약'], alternative='less')"
   ]
  },
  {
   "cell_type": "markdown",
   "id": "b9ac67d2",
   "metadata": {},
   "source": [
    "- 문제"
   ]
  },
  {
   "cell_type": "markdown",
   "id": "1430504a",
   "metadata": {},
   "source": [
    "- H0 : 우리나라의 음주율은 20.5%이다.\n",
    "- H1 : 우리나라의 음주율은 20.5%가 아니다."
   ]
  },
  {
   "cell_type": "code",
   "execution_count": null,
   "id": "9f08eed6",
   "metadata": {},
   "outputs": [],
   "source": [
    "n=500\n",
    "p=0.205\n",
    "q=1-p\n",
    "p_r=120/500\n",
    "z=(p_r-p)/np.sqrt(p*q/n)\n",
    "z"
   ]
  },
  {
   "cell_type": "code",
   "execution_count": null,
   "id": "51df269a",
   "metadata": {},
   "outputs": [],
   "source": [
    "alpha=0.05\n",
    "rv.interval(1-alpha)"
   ]
  },
  {
   "cell_type": "markdown",
   "id": "6f025c5c",
   "metadata": {},
   "source": [
    "기각역안에 들지 않으므로 귀무가설을 기각할 수 없다. 즉 우리나라의 음주율은 20.5%이다."
   ]
  },
  {
   "cell_type": "code",
   "execution_count": null,
   "id": "d9e31632",
   "metadata": {},
   "outputs": [],
   "source": [
    "np.sqrt(p*q/n)"
   ]
  },
  {
   "cell_type": "code",
   "execution_count": null,
   "id": "4c4015a3",
   "metadata": {},
   "outputs": [],
   "source": [
    "p"
   ]
  },
  {
   "cell_type": "markdown",
   "id": "dbfb11b9",
   "metadata": {},
   "source": [
    "- H0 : 청년층과 장년층 사이에는 차이가 없다.\n",
    "- H1 : 청년층과 장년층 사이에는 차이가 있다."
   ]
  },
  {
   "cell_type": "markdown",
   "id": "6b4cbfbd",
   "metadata": {},
   "source": [
    "# 모비율 검정"
   ]
  },
  {
   "cell_type": "code",
   "execution_count": 5,
   "id": "56a997e3",
   "metadata": {},
   "outputs": [
    {
     "data": {
      "text/plain": [
       "1.9386193875077975"
      ]
     },
     "execution_count": 5,
     "metadata": {},
     "output_type": "execute_result"
    }
   ],
   "source": [
    "p=120/500\n",
    "q=1-p\n",
    "per=0.205\n",
    "qer=1-per\n",
    "n=500\n",
    "rv=stats.norm()\n",
    "z=(p-per)/np.sqrt(per*qer/n)\n",
    "z"
   ]
  },
  {
   "cell_type": "code",
   "execution_count": 9,
   "id": "feb25e48",
   "metadata": {},
   "outputs": [
    {
     "data": {
      "text/plain": [
       "(-1.959963984540054, 1.959963984540054)"
      ]
     },
     "execution_count": 9,
     "metadata": {},
     "output_type": "execute_result"
    }
   ],
   "source": [
    "#기각역\n",
    "alpha=0.05\n",
    "rv.interval(1-alpha)"
   ]
  },
  {
   "cell_type": "code",
   "execution_count": 11,
   "id": "1b2948ec",
   "metadata": {},
   "outputs": [
    {
     "data": {
      "text/plain": [
       "1.9599639845400545"
      ]
     },
     "execution_count": 11,
     "metadata": {},
     "output_type": "execute_result"
    }
   ],
   "source": [
    "rv.isf(alpha/2)"
   ]
  },
  {
   "cell_type": "code",
   "execution_count": 13,
   "id": "a374e912",
   "metadata": {},
   "outputs": [
    {
     "data": {
      "text/plain": [
       "1.6448536269514729"
      ]
     },
     "execution_count": 13,
     "metadata": {},
     "output_type": "execute_result"
    }
   ],
   "source": [
    "alpha=0.05\n",
    "rv.isf(alpha)"
   ]
  },
  {
   "cell_type": "code",
   "execution_count": 14,
   "id": "51d8e438",
   "metadata": {},
   "outputs": [
    {
     "data": {
      "text/plain": [
       "-1.6448536269514722"
      ]
     },
     "execution_count": 14,
     "metadata": {},
     "output_type": "execute_result"
    }
   ],
   "source": [
    "rv.isf(1-alpha)"
   ]
  },
  {
   "cell_type": "markdown",
   "id": "92a93dd2",
   "metadata": {},
   "source": [
    "모비율 신뢰구간"
   ]
  },
  {
   "cell_type": "code",
   "execution_count": 15,
   "id": "39a4508d",
   "metadata": {},
   "outputs": [],
   "source": [
    "p=8/400\n",
    "n=400\n",
    "q=1-p\n",
    "alpha=0.05\n",
    "rv=stats.norm()"
   ]
  },
  {
   "cell_type": "code",
   "execution_count": 16,
   "id": "af605e27",
   "metadata": {},
   "outputs": [
    {
     "data": {
      "text/plain": [
       "(0.006280252108219619, 0.03371974789178038)"
      ]
     },
     "execution_count": 16,
     "metadata": {},
     "output_type": "execute_result"
    }
   ],
   "source": [
    "lcl=p-rv.isf(alpha/2)*np.sqrt(p*q/n)\n",
    "ucl=p-rv.isf(1-alpha/2)*np.sqrt(p*q/n)\n",
    "lcl, ucl"
   ]
  },
  {
   "cell_type": "code",
   "execution_count": 17,
   "id": "5900513b",
   "metadata": {},
   "outputs": [],
   "source": [
    "rv=stats.norm()\n",
    "p1=627/952\n",
    "p2=651/1043\n",
    "q1=1-p1\n",
    "q2=1-p2\n",
    "n1=952\n",
    "n2=1043"
   ]
  },
  {
   "cell_type": "code",
   "execution_count": 18,
   "id": "7b8e5ea3",
   "metadata": {},
   "outputs": [
    {
     "data": {
      "text/plain": [
       "0.6406015037593985"
      ]
     },
     "execution_count": 18,
     "metadata": {},
     "output_type": "execute_result"
    }
   ],
   "source": [
    "합동=(627+651)/(952+1043)\n",
    "합동"
   ]
  },
  {
   "cell_type": "code",
   "execution_count": 19,
   "id": "2ed6bb6c",
   "metadata": {},
   "outputs": [
    {
     "data": {
      "text/plain": [
       "1.601866045842738"
      ]
     },
     "execution_count": 19,
     "metadata": {},
     "output_type": "execute_result"
    }
   ],
   "source": [
    "z=(p1-p2)/np.sqrt(합동*(1-합동)*(1/n1+1/n2))\n",
    "z"
   ]
  },
  {
   "cell_type": "code",
   "execution_count": 20,
   "id": "8032b9d2",
   "metadata": {},
   "outputs": [
    {
     "data": {
      "text/plain": [
       "-1.690308509457033"
      ]
     },
     "execution_count": 20,
     "metadata": {},
     "output_type": "execute_result"
    }
   ],
   "source": [
    "p1=42/150\n",
    "q1=1-p1\n",
    "p2=24/150\n",
    "q2=1-p2\n",
    "n1=150\n",
    "n2=150\n",
    "rv=stats.norm()\n",
    "z=((p1-p2)-0.2)/np.sqrt(p1*q1/n1+p2*q2/n2)\n",
    "z"
   ]
  },
  {
   "cell_type": "code",
   "execution_count": 21,
   "id": "1878e9aa",
   "metadata": {},
   "outputs": [
    {
     "data": {
      "text/plain": [
       "-1.6448536269514722"
      ]
     },
     "execution_count": 21,
     "metadata": {},
     "output_type": "execute_result"
    }
   ],
   "source": [
    "alpha=0.05\n",
    "rv.isf(1-alpha)"
   ]
  },
  {
   "cell_type": "markdown",
   "id": "90e4a2dd",
   "metadata": {},
   "source": [
    "z<-1.65 기각역 안에 검정통계량이 놓이므로 귀무가설을 기각한다. 즉 효율이 0.2이상 향상된다고하는 주장은 근거가 미약하다."
   ]
  },
  {
   "cell_type": "code",
   "execution_count": 22,
   "id": "5ea46ab9",
   "metadata": {},
   "outputs": [],
   "source": [
    "p=rv.cdf(z)"
   ]
  },
  {
   "cell_type": "code",
   "execution_count": 23,
   "id": "63902c31",
   "metadata": {},
   "outputs": [
    {
     "data": {
      "text/plain": [
       "0.04548447398767889"
      ]
     },
     "execution_count": 23,
     "metadata": {},
     "output_type": "execute_result"
    }
   ],
   "source": [
    "p"
   ]
  },
  {
   "cell_type": "code",
   "execution_count": 24,
   "id": "a5b984c9",
   "metadata": {},
   "outputs": [
    {
     "data": {
      "text/plain": [
       "(-0.011318564551246066, 0.0513185645512461)"
      ]
     },
     "execution_count": 24,
     "metadata": {},
     "output_type": "execute_result"
    }
   ],
   "source": [
    "n1=300\n",
    "n2=300\n",
    "p1=291/300\n",
    "p2=285/300\n",
    "rv=stats.norm()\n",
    "lcl=(p1-p2)-rv.isf(alpha/2)*np.sqrt(p1*(1-p1)/n1+p2*(1-p2)/n2)\n",
    "ucl=(p1-p2)+rv.isf(alpha/2)*np.sqrt(p1*(1-p1)/n1+p2*(1-p2)/n2)\n",
    "lcl, ucl"
   ]
  },
  {
   "cell_type": "code",
   "execution_count": null,
   "id": "b92ac33e",
   "metadata": {},
   "outputs": [],
   "source": []
  }
 ],
 "metadata": {
  "kernelspec": {
   "display_name": "Python 3 (ipykernel)",
   "language": "python",
   "name": "python3"
  },
  "language_info": {
   "codemirror_mode": {
    "name": "ipython",
    "version": 3
   },
   "file_extension": ".py",
   "mimetype": "text/x-python",
   "name": "python",
   "nbconvert_exporter": "python",
   "pygments_lexer": "ipython3",
   "version": "3.8.5"
  }
 },
 "nbformat": 4,
 "nbformat_minor": 5
}
