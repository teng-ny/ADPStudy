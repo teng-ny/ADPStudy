{
 "cells": [
  {
   "cell_type": "code",
   "execution_count": 2,
   "id": "96289e53",
   "metadata": {},
   "outputs": [],
   "source": [
    "import pandas as pd\n",
    "import numpy as np\n",
    "import scipy.stats as stats\n",
    "from scipy.stats import shapiro"
   ]
  },
  {
   "cell_type": "code",
   "execution_count": 11,
   "id": "b3fa1484",
   "metadata": {},
   "outputs": [
    {
     "data": {
      "text/plain": [
       "[8800, 9500, 9600, 10500, 10400, 9600, 10300, 9500, 9600, 7100, 10100, 7200]"
      ]
     },
     "execution_count": 11,
     "metadata": {},
     "output_type": "execute_result"
    }
   ],
   "source": [
    "df=[8800, 9500, 9600, 10500, 10400, 9600, 10300, 9500, 9600, 7100, 10100, 7200]\n",
    "df"
   ]
  },
  {
   "cell_type": "markdown",
   "id": "710571bb",
   "metadata": {},
   "source": [
    "- H0 : 진공관 수명은 1만시간이다\n",
    "- H1 : 진공관 수명은 1만시간이 아니다."
   ]
  },
  {
   "cell_type": "code",
   "execution_count": 4,
   "id": "68e310c4",
   "metadata": {},
   "outputs": [
    {
     "data": {
      "text/plain": [
       "ShapiroResult(statistic=0.8105747699737549, pvalue=0.012388509698212147)"
      ]
     },
     "execution_count": 4,
     "metadata": {},
     "output_type": "execute_result"
    }
   ],
   "source": [
    "shapiro(df)"
   ]
  },
  {
   "cell_type": "markdown",
   "id": "0eee4167",
   "metadata": {},
   "source": [
    "귀무가설을 기각한다. 즉 정규성을 따르지 않는다."
   ]
  },
  {
   "cell_type": "code",
   "execution_count": 5,
   "id": "2c7092ed",
   "metadata": {},
   "outputs": [
    {
     "data": {
      "text/plain": [
       "WilcoxonResult(statistic=15.5, pvalue=0.06396484375)"
      ]
     },
     "execution_count": 5,
     "metadata": {},
     "output_type": "execute_result"
    }
   ],
   "source": [
    "mean0=10000\n",
    "stats.wilcoxon(df-mean0, alternative='two-sided')"
   ]
  },
  {
   "cell_type": "markdown",
   "id": "a6e61e98",
   "metadata": {},
   "source": [
    "귀무가설을 기각할 수 없다. 즉 진공관 수명은 1만시간이다."
   ]
  },
  {
   "cell_type": "markdown",
   "id": "c9c04a1d",
   "metadata": {},
   "source": [
    "### 문제2"
   ]
  },
  {
   "cell_type": "code",
   "execution_count": 7,
   "id": "5ad19c6f",
   "metadata": {},
   "outputs": [
    {
     "data": {
      "text/plain": [
       "9600.0"
      ]
     },
     "execution_count": 7,
     "metadata": {},
     "output_type": "execute_result"
    }
   ],
   "source": [
    "median=np.median(df)\n",
    "median"
   ]
  },
  {
   "cell_type": "code",
   "execution_count": 9,
   "id": "e654b411",
   "metadata": {},
   "outputs": [
    {
     "data": {
      "text/plain": [
       "Counter({8800: 1,\n",
       "         9500: 2,\n",
       "         9600: 3,\n",
       "         10500: 1,\n",
       "         10400: 1,\n",
       "         10300: 1,\n",
       "         7100: 1,\n",
       "         10100: 1,\n",
       "         7200: 1})"
      ]
     },
     "execution_count": 9,
     "metadata": {},
     "output_type": "execute_result"
    }
   ],
   "source": [
    "from collections import Counter\n",
    "Counter(df)"
   ]
  },
  {
   "cell_type": "markdown",
   "id": "99313c89",
   "metadata": {},
   "source": [
    "9600이 세개 있으므로 제외해줌"
   ]
  },
  {
   "cell_type": "code",
   "execution_count": 12,
   "id": "8e256c1e",
   "metadata": {},
   "outputs": [],
   "source": [
    "while 9600 in df:\n",
    "    df.remove(9600)"
   ]
  },
  {
   "cell_type": "code",
   "execution_count": 14,
   "id": "cf1608d4",
   "metadata": {},
   "outputs": [],
   "source": [
    "df=np.array(df)"
   ]
  },
  {
   "cell_type": "code",
   "execution_count": 15,
   "id": "28cfe2bf",
   "metadata": {},
   "outputs": [
    {
     "data": {
      "text/plain": [
       "WilcoxonResult(statistic=11.0, pvalue=0.203125)"
      ]
     },
     "execution_count": 15,
     "metadata": {},
     "output_type": "execute_result"
    }
   ],
   "source": [
    "mean0=10000\n",
    "df\n",
    "stats.wilcoxon(df-mean0, alternative='two-sided')"
   ]
  },
  {
   "cell_type": "code",
   "execution_count": 25,
   "id": "79454064",
   "metadata": {},
   "outputs": [
    {
     "data": {
      "text/html": [
       "<div>\n",
       "<style scoped>\n",
       "    .dataframe tbody tr th:only-of-type {\n",
       "        vertical-align: middle;\n",
       "    }\n",
       "\n",
       "    .dataframe tbody tr th {\n",
       "        vertical-align: top;\n",
       "    }\n",
       "\n",
       "    .dataframe thead th {\n",
       "        text-align: right;\n",
       "    }\n",
       "</style>\n",
       "<table border=\"1\" class=\"dataframe\">\n",
       "  <thead>\n",
       "    <tr style=\"text-align: right;\">\n",
       "      <th></th>\n",
       "      <th>num</th>\n",
       "    </tr>\n",
       "  </thead>\n",
       "  <tbody>\n",
       "    <tr>\n",
       "      <th>0</th>\n",
       "      <td>52</td>\n",
       "    </tr>\n",
       "    <tr>\n",
       "      <th>1</th>\n",
       "      <td>50</td>\n",
       "    </tr>\n",
       "    <tr>\n",
       "      <th>2</th>\n",
       "      <td>62</td>\n",
       "    </tr>\n",
       "    <tr>\n",
       "      <th>3</th>\n",
       "      <td>75</td>\n",
       "    </tr>\n",
       "    <tr>\n",
       "      <th>4</th>\n",
       "      <td>26</td>\n",
       "    </tr>\n",
       "    <tr>\n",
       "      <th>5</th>\n",
       "      <td>45</td>\n",
       "    </tr>\n",
       "    <tr>\n",
       "      <th>6</th>\n",
       "      <td>62</td>\n",
       "    </tr>\n",
       "    <tr>\n",
       "      <th>7</th>\n",
       "      <td>35</td>\n",
       "    </tr>\n",
       "    <tr>\n",
       "      <th>8</th>\n",
       "      <td>57</td>\n",
       "    </tr>\n",
       "    <tr>\n",
       "      <th>9</th>\n",
       "      <td>14</td>\n",
       "    </tr>\n",
       "  </tbody>\n",
       "</table>\n",
       "</div>"
      ],
      "text/plain": [
       "   num\n",
       "0   52\n",
       "1   50\n",
       "2   62\n",
       "3   75\n",
       "4   26\n",
       "5   45\n",
       "6   62\n",
       "7   35\n",
       "8   57\n",
       "9   14"
      ]
     },
     "execution_count": 25,
     "metadata": {},
     "output_type": "execute_result"
    }
   ],
   "source": [
    "mean0=60\n",
    "df=pd.DataFrame({'num':[52,50,62,75,26,45,62,35,57,14]})\n",
    "df"
   ]
  },
  {
   "cell_type": "code",
   "execution_count": 33,
   "id": "30eba5f7",
   "metadata": {},
   "outputs": [],
   "source": [
    "median=df.num.median()"
   ]
  },
  {
   "cell_type": "code",
   "execution_count": 34,
   "id": "e9c6a66e",
   "metadata": {},
   "outputs": [
    {
     "data": {
      "text/plain": [
       "51.0"
      ]
     },
     "execution_count": 34,
     "metadata": {},
     "output_type": "execute_result"
    }
   ],
   "source": [
    "median"
   ]
  },
  {
   "cell_type": "code",
   "execution_count": 35,
   "id": "981e69c0",
   "metadata": {},
   "outputs": [],
   "source": [
    "df=df[df['num']!=51]"
   ]
  },
  {
   "cell_type": "code",
   "execution_count": 36,
   "id": "7a6871f4",
   "metadata": {},
   "outputs": [
    {
     "data": {
      "text/plain": [
       "ShapiroResult(statistic=0.965764582157135, pvalue=0.849041759967804)"
      ]
     },
     "execution_count": 36,
     "metadata": {},
     "output_type": "execute_result"
    }
   ],
   "source": [
    "shapiro(df)"
   ]
  },
  {
   "cell_type": "markdown",
   "id": "18c6bc86",
   "metadata": {},
   "source": [
    "귀무가설을 기각할 수 없다. 즉 정규분포를 따른다"
   ]
  },
  {
   "cell_type": "code",
   "execution_count": 38,
   "id": "fdea2013",
   "metadata": {},
   "outputs": [
    {
     "data": {
      "text/plain": [
       "WilcoxonResult(statistic=9.5, pvalue=0.064453125)"
      ]
     },
     "execution_count": 38,
     "metadata": {},
     "output_type": "execute_result"
    }
   ],
   "source": [
    "mean0=60\n",
    "stats.wilcoxon(df.num-mean0, alternative='two-sided')"
   ]
  },
  {
   "cell_type": "markdown",
   "id": "efd7e7f1",
   "metadata": {},
   "source": [
    "검정통계량은 9.5이고 pvalue가 0.05보다 작으므로 귀무가설을 기각할 수 없다. 즉 모평균은 60이다."
   ]
  },
  {
   "cell_type": "code",
   "execution_count": 43,
   "id": "6c8eb82e",
   "metadata": {},
   "outputs": [],
   "source": [
    "mean0=60\n",
    "s_mean=np.mean(df['num'])\n",
    "u_var=df['num'].var(ddof=1)\n",
    "n=len(df['num'])\n",
    "rv=stats.t(df=n-1)"
   ]
  },
  {
   "cell_type": "code",
   "execution_count": 44,
   "id": "0175a70c",
   "metadata": {},
   "outputs": [
    {
     "data": {
      "text/plain": [
       "-2.099292080780179"
      ]
     },
     "execution_count": 44,
     "metadata": {},
     "output_type": "execute_result"
    }
   ],
   "source": [
    "t=(s_mean-mean0)/np.sqrt(u_var/n)\n",
    "t"
   ]
  },
  {
   "cell_type": "code",
   "execution_count": 45,
   "id": "1c936bb3",
   "metadata": {},
   "outputs": [],
   "source": [
    "p=rv.cdf(t)*2"
   ]
  },
  {
   "cell_type": "code",
   "execution_count": 46,
   "id": "22f64b68",
   "metadata": {},
   "outputs": [
    {
     "data": {
      "text/plain": [
       "0.06519313277276138"
      ]
     },
     "execution_count": 46,
     "metadata": {},
     "output_type": "execute_result"
    }
   ],
   "source": [
    "p"
   ]
  },
  {
   "cell_type": "code",
   "execution_count": 47,
   "id": "bae8c3a4",
   "metadata": {},
   "outputs": [
    {
     "data": {
      "text/plain": [
       "(-2.2621571627409915, 2.2621571627409915)"
      ]
     },
     "execution_count": 47,
     "metadata": {},
     "output_type": "execute_result"
    }
   ],
   "source": [
    "alpha=0.05\n",
    "rv.interval(1-alpha)"
   ]
  },
  {
   "cell_type": "code",
   "execution_count": 49,
   "id": "78aadc76",
   "metadata": {},
   "outputs": [
    {
     "data": {
      "text/plain": [
       "(34.65351236347088, 60.94648763652911)"
      ]
     },
     "execution_count": 49,
     "metadata": {},
     "output_type": "execute_result"
    }
   ],
   "source": [
    "lcl=s_mean-rv.isf(0.025)*np.sqrt(u_var/n)\n",
    "ucl=s_mean-rv.isf(0.975)*np.sqrt(u_var/n)\n",
    "lcl, ucl"
   ]
  },
  {
   "cell_type": "markdown",
   "id": "f264562a",
   "metadata": {},
   "source": [
    "# 문제"
   ]
  },
  {
   "cell_type": "code",
   "execution_count": 60,
   "id": "488ab282",
   "metadata": {},
   "outputs": [
    {
     "data": {
      "text/html": [
       "<div>\n",
       "<style scoped>\n",
       "    .dataframe tbody tr th:only-of-type {\n",
       "        vertical-align: middle;\n",
       "    }\n",
       "\n",
       "    .dataframe tbody tr th {\n",
       "        vertical-align: top;\n",
       "    }\n",
       "\n",
       "    .dataframe thead th {\n",
       "        text-align: right;\n",
       "    }\n",
       "</style>\n",
       "<table border=\"1\" class=\"dataframe\">\n",
       "  <thead>\n",
       "    <tr style=\"text-align: right;\">\n",
       "      <th></th>\n",
       "      <th>사회과학</th>\n",
       "      <th>자연과학</th>\n",
       "      <th>공학</th>\n",
       "    </tr>\n",
       "    <tr>\n",
       "      <th>index</th>\n",
       "      <th></th>\n",
       "      <th></th>\n",
       "      <th></th>\n",
       "    </tr>\n",
       "  </thead>\n",
       "  <tbody>\n",
       "    <tr>\n",
       "      <th>1.5-2.5</th>\n",
       "      <td>15</td>\n",
       "      <td>25</td>\n",
       "      <td>10</td>\n",
       "    </tr>\n",
       "    <tr>\n",
       "      <th>2.5-3.5</th>\n",
       "      <td>60</td>\n",
       "      <td>69</td>\n",
       "      <td>77</td>\n",
       "    </tr>\n",
       "    <tr>\n",
       "      <th>3.5-4.5</th>\n",
       "      <td>24</td>\n",
       "      <td>6</td>\n",
       "      <td>14</td>\n",
       "    </tr>\n",
       "  </tbody>\n",
       "</table>\n",
       "</div>"
      ],
      "text/plain": [
       "         사회과학  자연과학  공학\n",
       "index                  \n",
       "1.5-2.5    15    25  10\n",
       "2.5-3.5    60    69  77\n",
       "3.5-4.5    24     6  14"
      ]
     },
     "execution_count": 60,
     "metadata": {},
     "output_type": "execute_result"
    }
   ],
   "source": [
    "df=pd.DataFrame({'index':[\"1.5-2.5\", \"2.5-3.5\", \"3.5-4.5\"], \"사회과학\":[15,60,24], \"자연과학\":[25,69,6], \"공학\":[10, 77,14]})\n",
    "df.set_index(\"index\", inplace=True)\n",
    "df"
   ]
  },
  {
   "cell_type": "code",
   "execution_count": 54,
   "id": "7def4c50",
   "metadata": {},
   "outputs": [
    {
     "data": {
      "text/plain": [
       "(20.213713780910304, 0.0004531468852769105)"
      ]
     },
     "execution_count": 54,
     "metadata": {},
     "output_type": "execute_result"
    }
   ],
   "source": [
    "from scipy.stats import chi2_contingency\n",
    "chi, p, df, expect=chi2_contingency(df)\n",
    "chi, p"
   ]
  },
  {
   "cell_type": "markdown",
   "id": "3215251f",
   "metadata": {},
   "source": [
    "검정통계량은 20.21이고 p 값은 0.05보다 작으므로 귀무가설을 기각한다. 즉 성적과 과목은 독립이 아니다."
   ]
  },
  {
   "cell_type": "code",
   "execution_count": 55,
   "id": "3ae21dcf",
   "metadata": {},
   "outputs": [
    {
     "data": {
      "text/plain": [
       "array([[16.5       , 16.66666667, 16.83333333],\n",
       "       [67.98      , 68.66666667, 69.35333333],\n",
       "       [14.52      , 14.66666667, 14.81333333]])"
      ]
     },
     "execution_count": 55,
     "metadata": {},
     "output_type": "execute_result"
    }
   ],
   "source": [
    "expect"
   ]
  },
  {
   "cell_type": "markdown",
   "id": "ec61377b",
   "metadata": {},
   "source": [
    "기댓값은 다음과 같다."
   ]
  },
  {
   "cell_type": "code",
   "execution_count": 63,
   "id": "9c59b162",
   "metadata": {},
   "outputs": [
    {
     "data": {
      "text/plain": [
       "300"
      ]
     },
     "execution_count": 63,
     "metadata": {},
     "output_type": "execute_result"
    }
   ],
   "source": [
    "사회과학, 자연과학, 공학=df.sum()\n",
    "사회과학, 자연과학,  공학\n",
    "\n",
    "A, B, C=data.sum(axis=1)\n",
    "n=사회과학+자연과학+공학\n",
    "n"
   ]
  },
  {
   "cell_type": "code",
   "execution_count": 64,
   "id": "a9642644",
   "metadata": {},
   "outputs": [
    {
     "data": {
      "text/html": [
       "<div>\n",
       "<style scoped>\n",
       "    .dataframe tbody tr th:only-of-type {\n",
       "        vertical-align: middle;\n",
       "    }\n",
       "\n",
       "    .dataframe tbody tr th {\n",
       "        vertical-align: top;\n",
       "    }\n",
       "\n",
       "    .dataframe thead th {\n",
       "        text-align: right;\n",
       "    }\n",
       "</style>\n",
       "<table border=\"1\" class=\"dataframe\">\n",
       "  <thead>\n",
       "    <tr style=\"text-align: right;\">\n",
       "      <th></th>\n",
       "      <th>사회과학</th>\n",
       "      <th>자연과학</th>\n",
       "      <th>공학</th>\n",
       "    </tr>\n",
       "    <tr>\n",
       "      <th>index</th>\n",
       "      <th></th>\n",
       "      <th></th>\n",
       "      <th></th>\n",
       "    </tr>\n",
       "  </thead>\n",
       "  <tbody>\n",
       "    <tr>\n",
       "      <th>1.5-2.5</th>\n",
       "      <td>16.50</td>\n",
       "      <td>16.666667</td>\n",
       "      <td>16.833333</td>\n",
       "    </tr>\n",
       "    <tr>\n",
       "      <th>2.5-3.5</th>\n",
       "      <td>67.98</td>\n",
       "      <td>68.666667</td>\n",
       "      <td>69.353333</td>\n",
       "    </tr>\n",
       "    <tr>\n",
       "      <th>3.5-4.5</th>\n",
       "      <td>14.52</td>\n",
       "      <td>14.666667</td>\n",
       "      <td>14.813333</td>\n",
       "    </tr>\n",
       "  </tbody>\n",
       "</table>\n",
       "</div>"
      ],
      "text/plain": [
       "          사회과학       자연과학         공학\n",
       "index                               \n",
       "1.5-2.5  16.50  16.666667  16.833333\n",
       "2.5-3.5  67.98  68.666667  69.353333\n",
       "3.5-4.5  14.52  14.666667  14.813333"
      ]
     },
     "execution_count": 64,
     "metadata": {},
     "output_type": "execute_result"
    }
   ],
   "source": [
    "ad_ef=pd.DataFrame({'사회과학':[A*사회과학/n, B*사회과학/n, C*사회과학/n],'자연과학':[A*자연과학/n, B*자연과학/n, C*자연과학/n], '공학':[A*공학/n, B*공학/n, C*공학/n]}, index=df.index)\n",
    "ad_ef"
   ]
  },
  {
   "cell_type": "code",
   "execution_count": 65,
   "id": "64025d61",
   "metadata": {},
   "outputs": [
    {
     "data": {
      "text/plain": [
       "20.213713780910307"
      ]
     },
     "execution_count": 65,
     "metadata": {},
     "output_type": "execute_result"
    }
   ],
   "source": [
    "y=((df-ad_ef)**2/ad_ef).sum().sum()\n",
    "y"
   ]
  },
  {
   "cell_type": "code",
   "execution_count": 67,
   "id": "8295e53a",
   "metadata": {},
   "outputs": [
    {
     "data": {
      "text/plain": [
       "0.0004531468852768672"
      ]
     },
     "execution_count": 67,
     "metadata": {},
     "output_type": "execute_result"
    }
   ],
   "source": [
    "rv=stats.chi2(4)\n",
    "1-rv.cdf(y)"
   ]
  },
  {
   "cell_type": "markdown",
   "id": "5cc14cf2",
   "metadata": {},
   "source": [
    "# 문제"
   ]
  },
  {
   "cell_type": "code",
   "execution_count": 70,
   "id": "494df546",
   "metadata": {},
   "outputs": [],
   "source": [
    "df=pd.DataFrame({'num':[3.1, 3.3, 3.5, 3.7, 3.9, 4.1, 4.3, 4.4, 4.7]})\n",
    "n=9"
   ]
  },
  {
   "cell_type": "code",
   "execution_count": 74,
   "id": "a6a7a525",
   "metadata": {},
   "outputs": [],
   "source": [
    "rv=stats.t(df=n-1)\n",
    "alpha=0.05\n",
    "s_mean=np.mean(df.num)\n",
    "p_var=np.var(df.num, ddof=1)\n",
    "lcl=s_mean-2.31*np.sqrt(p_var/n)\n",
    "ucl=s_mean+2.31*np.sqrt(p_var/n)"
   ]
  },
  {
   "cell_type": "code",
   "execution_count": 75,
   "id": "47de2c04",
   "metadata": {},
   "outputs": [
    {
     "data": {
      "text/plain": [
       "(3.4770208544679386, 4.300756923309841)"
      ]
     },
     "execution_count": 75,
     "metadata": {},
     "output_type": "execute_result"
    }
   ],
   "source": [
    "lcl, ucl"
   ]
  },
  {
   "cell_type": "markdown",
   "id": "b8df43e6",
   "metadata": {},
   "source": [
    "모 표준편차=0.05, 모분산=0.05**2"
   ]
  },
  {
   "cell_type": "code",
   "execution_count": 76,
   "id": "917305df",
   "metadata": {},
   "outputs": [
    {
     "data": {
      "text/plain": [
       "(3.8627555555555566, 3.915022222222223)"
      ]
     },
     "execution_count": 76,
     "metadata": {},
     "output_type": "execute_result"
    }
   ],
   "source": [
    "rv=stats.norm()\n",
    "p_var=0.04**2\n",
    "lcl=s_mean-1.96*np.sqrt(p_var/n)\n",
    "ucl=s_mean+1.96*np.sqrt(p_var/n)\n",
    "lcl, ucl"
   ]
  },
  {
   "cell_type": "code",
   "execution_count": 78,
   "id": "85b70696",
   "metadata": {},
   "outputs": [
    {
     "data": {
      "text/plain": [
       "0.4045926735921268"
      ]
     },
     "execution_count": 78,
     "metadata": {},
     "output_type": "execute_result"
    }
   ],
   "source": [
    "result=0.01*(370/(370+15))/(0.01*370/(370+15)+0.99*10/(10+690))\n",
    "result"
   ]
  },
  {
   "cell_type": "markdown",
   "id": "b6814176",
   "metadata": {},
   "source": [
    "# 문제"
   ]
  },
  {
   "cell_type": "code",
   "execution_count": 79,
   "id": "5209e3d4",
   "metadata": {},
   "outputs": [],
   "source": [
    "mean_A=5.7\n",
    "mean_B=5.6\n",
    "var_A=0.03**2\n",
    "var_B=0.04**2\n",
    "n_A=12\n",
    "n_B=12\n",
    "\n",
    "#A, B 두 생산라인의 차이는 없다.\n",
    "#A, B 두 생산라인 사이의 차이는 있다."
   ]
  },
  {
   "cell_type": "code",
   "execution_count": 80,
   "id": "68c92e63",
   "metadata": {},
   "outputs": [
    {
     "data": {
      "text/plain": [
       "0.035355339059327376"
      ]
     },
     "execution_count": 80,
     "metadata": {},
     "output_type": "execute_result"
    }
   ],
   "source": [
    "sp=np.sqrt(((n_A-1)*var_A+(n_B-1)*var_B)/(n_A+n_B-2))\n",
    "sp"
   ]
  },
  {
   "cell_type": "code",
   "execution_count": 81,
   "id": "7ff4c7e1",
   "metadata": {},
   "outputs": [
    {
     "data": {
      "text/plain": [
       "6.928203230275546"
      ]
     },
     "execution_count": 81,
     "metadata": {},
     "output_type": "execute_result"
    }
   ],
   "source": [
    "t=(mean_A-mean_B)/(sp*np.sqrt(1/n_A+1/n_B))\n",
    "t"
   ]
  },
  {
   "cell_type": "code",
   "execution_count": 82,
   "id": "4e45eece",
   "metadata": {},
   "outputs": [],
   "source": [
    "rv=stats.t(df=n_A+n_B-2)\n",
    "p=(1-rv.cdf(t))*2"
   ]
  },
  {
   "cell_type": "code",
   "execution_count": 83,
   "id": "bfd4720c",
   "metadata": {},
   "outputs": [
    {
     "data": {
      "text/plain": [
       "5.892973662380285e-07"
      ]
     },
     "execution_count": 83,
     "metadata": {},
     "output_type": "execute_result"
    }
   ],
   "source": [
    "p"
   ]
  },
  {
   "cell_type": "markdown",
   "id": "504b388f",
   "metadata": {},
   "source": [
    "귀무가설을 기각한다. 즉 두 생산라인 사이의 차이는 있다."
   ]
  },
  {
   "cell_type": "markdown",
   "id": "2929f01b",
   "metadata": {},
   "source": [
    "# 문제"
   ]
  },
  {
   "cell_type": "markdown",
   "id": "fe715bc8",
   "metadata": {},
   "source": [
    "alpha=0.1, 추정오차한계(d)=0.05"
   ]
  },
  {
   "cell_type": "code",
   "execution_count": 85,
   "id": "b49ca034",
   "metadata": {},
   "outputs": [
    {
     "data": {
      "text/plain": [
       "271.0"
      ]
     },
     "execution_count": 85,
     "metadata": {},
     "output_type": "execute_result"
    }
   ],
   "source": [
    "import scipy.stats as stats\n",
    "from scipy.stats import shapiro\n",
    "rv=stats.norm()\n",
    "alpha=0.1\n",
    "z=rv.isf(alpha/2)\n",
    "d=0.05\n",
    "n=1/4*(z/d)**2\n",
    "n\n",
    "round(n,0)"
   ]
  },
  {
   "cell_type": "code",
   "execution_count": 86,
   "id": "eea29259",
   "metadata": {},
   "outputs": [
    {
     "data": {
      "text/plain": [
       "1.6448536269514729"
      ]
     },
     "execution_count": 86,
     "metadata": {},
     "output_type": "execute_result"
    }
   ],
   "source": [
    "z"
   ]
  },
  {
   "cell_type": "markdown",
   "id": "4fa9975b",
   "metadata": {},
   "source": [
    "# 문제"
   ]
  },
  {
   "cell_type": "markdown",
   "id": "d4d0eebd",
   "metadata": {},
   "source": [
    "d=10, 모표준편차=30, 신뢰수준 alpha0.1"
   ]
  },
  {
   "cell_type": "code",
   "execution_count": 92,
   "id": "42cf6f58",
   "metadata": {},
   "outputs": [
    {
     "data": {
      "text/plain": [
       "24.3"
      ]
     },
     "execution_count": 92,
     "metadata": {},
     "output_type": "execute_result"
    }
   ],
   "source": [
    "alpha=0.1\n",
    "sigma=30\n",
    "rv=stats.norm()\n",
    "z=rv.isf(alpha/2)\n",
    "d=10\n",
    "n=(z*sigma/d)**2\n",
    "round(n,1)"
   ]
  },
  {
   "cell_type": "markdown",
   "id": "8acaaae0",
   "metadata": {},
   "source": [
    "n=25개"
   ]
  },
  {
   "cell_type": "markdown",
   "id": "695c7362",
   "metadata": {},
   "source": [
    "# 문제"
   ]
  },
  {
   "cell_type": "markdown",
   "id": "cbba4ecf",
   "metadata": {},
   "source": [
    "d=3, alpha=0.05, sigma=np.sqrt(64)"
   ]
  },
  {
   "cell_type": "code",
   "execution_count": 93,
   "id": "9e31649c",
   "metadata": {},
   "outputs": [],
   "source": [
    "alpha=0.05\n",
    "sigma=np.sqrt(64)\n",
    "rv=stats.norm()\n",
    "z=rv.isf(alpha/2)\n",
    "d=3\n",
    "n=(z*sigma/d)**2"
   ]
  },
  {
   "cell_type": "code",
   "execution_count": 94,
   "id": "e5a7f5d0",
   "metadata": {},
   "outputs": [
    {
     "data": {
      "text/plain": [
       "27.3"
      ]
     },
     "execution_count": 94,
     "metadata": {},
     "output_type": "execute_result"
    }
   ],
   "source": [
    "round(n,1)"
   ]
  },
  {
   "cell_type": "code",
   "execution_count": 95,
   "id": "743cd0b9",
   "metadata": {},
   "outputs": [],
   "source": [
    "n=28"
   ]
  },
  {
   "cell_type": "markdown",
   "id": "b6493d9e",
   "metadata": {},
   "source": [
    "# 문제"
   ]
  },
  {
   "cell_type": "markdown",
   "id": "7d2e8d20",
   "metadata": {},
   "source": [
    "d=0.03, alpha=0.05, p=0.35"
   ]
  },
  {
   "cell_type": "code",
   "execution_count": 96,
   "id": "6f04cddc",
   "metadata": {},
   "outputs": [
    {
     "data": {
      "text/plain": [
       "971.0354241199045"
      ]
     },
     "execution_count": 96,
     "metadata": {},
     "output_type": "execute_result"
    }
   ],
   "source": [
    "alpha=0.05\n",
    "p=0.35\n",
    "rv=stats.norm()\n",
    "z=rv.isf(alpha/2)\n",
    "d=0.03\n",
    "q=1-0.35\n",
    "\n",
    "n=p*q*(z/d)**2\n",
    "n"
   ]
  },
  {
   "cell_type": "markdown",
   "id": "5b9ea8d4",
   "metadata": {},
   "source": [
    "n=972"
   ]
  },
  {
   "cell_type": "markdown",
   "id": "bd50b82c",
   "metadata": {},
   "source": [
    "# 문제"
   ]
  },
  {
   "cell_type": "code",
   "execution_count": 97,
   "id": "ee986e48",
   "metadata": {},
   "outputs": [
    {
     "data": {
      "text/plain": [
       "(0.006280252108219619, 0.03371974789178038)"
      ]
     },
     "execution_count": 97,
     "metadata": {},
     "output_type": "execute_result"
    }
   ],
   "source": [
    "p=8/400\n",
    "n=400\n",
    "alpha=0.05\n",
    "q=1-p\n",
    "rv=stats.norm()\n",
    "rv.isf(alpha/2)\n",
    "lcl=p-rv.isf(alpha/2)*np.sqrt(p*q/n)\n",
    "ucl=p-rv.isf(1-alpha/2)*np.sqrt(p*q/n)\n",
    "\n",
    "lcl, ucl"
   ]
  },
  {
   "cell_type": "code",
   "execution_count": 99,
   "id": "fc5ceb9a",
   "metadata": {},
   "outputs": [
    {
     "data": {
      "text/plain": [
       "(-0.011318564551246066, 0.051318564551246094)"
      ]
     },
     "execution_count": 99,
     "metadata": {},
     "output_type": "execute_result"
    }
   ],
   "source": [
    "p1=291/300\n",
    "p2=285/300\n",
    "q1=1-p1\n",
    "q2=1-p2\n",
    "n=300\n",
    "\n",
    "alpha=0.05\n",
    "rv=stats.norm()\n",
    "lcl=(p1-p2)-rv.isf(alpha/2)*np.sqrt(p1*q1/n+p2*q2/n)\n",
    "ucl=(p1-p2)-rv.isf(1-alpha/2)*np.sqrt(p1*q1/n+p2*q2/n)\n",
    "lcl, ucl"
   ]
  },
  {
   "cell_type": "markdown",
   "id": "9a308709",
   "metadata": {},
   "source": [
    "# 문제"
   ]
  },
  {
   "cell_type": "markdown",
   "id": "1fc0a3a5",
   "metadata": {},
   "source": [
    "- H0 : A, B 회사 사이의 타이어 제동거리 간 차이는 없다.\n",
    "- H1 : A, B 회사 사이의 타이어 제동거리 간 차이는 있다."
   ]
  },
  {
   "cell_type": "code",
   "execution_count": 100,
   "id": "85f27e71",
   "metadata": {},
   "outputs": [],
   "source": [
    "mean_A=13.5\n",
    "mean_B=14.1\n",
    "var_A=1.46**2\n",
    "var_B=1.33**2\n",
    "n_A=64\n",
    "n_B=36"
   ]
  },
  {
   "cell_type": "code",
   "execution_count": 101,
   "id": "8af333f3",
   "metadata": {},
   "outputs": [
    {
     "data": {
      "text/plain": [
       "-2.0896619735236412"
      ]
     },
     "execution_count": 101,
     "metadata": {},
     "output_type": "execute_result"
    }
   ],
   "source": [
    "rv=stats.norm()\n",
    "z=(mean_A-mean_B)/np.sqrt(var_A/n_A+var_B/n_B)\n",
    "z"
   ]
  },
  {
   "cell_type": "code",
   "execution_count": 102,
   "id": "e35e6a3a",
   "metadata": {},
   "outputs": [
    {
     "data": {
      "text/plain": [
       "0.03664817519569912"
      ]
     },
     "execution_count": 102,
     "metadata": {},
     "output_type": "execute_result"
    }
   ],
   "source": [
    "p=rv.cdf(z)*2\n",
    "p"
   ]
  },
  {
   "cell_type": "markdown",
   "id": "4469bf32",
   "metadata": {},
   "source": [
    "귀무가설을 기각한다. 즉 A,B 회사 사이의 평균 타이어 제동거리 간 차이는 있다."
   ]
  },
  {
   "cell_type": "markdown",
   "id": "5e7c6215",
   "metadata": {},
   "source": [
    "# 문제"
   ]
  },
  {
   "cell_type": "markdown",
   "id": "8aecb6de",
   "metadata": {},
   "source": [
    "- H0 : A, B 지역 쌀 생산량에는 차이가 없다.\n",
    "- H1 : A, B 지역 쌀 생산량에는 차이가 있다"
   ]
  },
  {
   "cell_type": "code",
   "execution_count": 114,
   "id": "b1b7b007",
   "metadata": {},
   "outputs": [],
   "source": [
    "mean_A=364\n",
    "mean_B=330\n",
    "n_A=15\n",
    "n_B=16\n",
    "var_A=45**2\n",
    "var_B=60**2"
   ]
  },
  {
   "cell_type": "code",
   "execution_count": 115,
   "id": "f3b0d30c",
   "metadata": {},
   "outputs": [
    {
     "data": {
      "text/plain": [
       "53.28841499250839"
      ]
     },
     "execution_count": 115,
     "metadata": {},
     "output_type": "execute_result"
    }
   ],
   "source": [
    "sp=np.sqrt(((n_A-1)*var_A+(n_B-1)*var_B)/(n_A+n_B-2))\n",
    "sp"
   ]
  },
  {
   "cell_type": "code",
   "execution_count": 119,
   "id": "3f0e4b6b",
   "metadata": {},
   "outputs": [
    {
     "data": {
      "text/plain": [
       "1.775296464501227"
      ]
     },
     "execution_count": 119,
     "metadata": {},
     "output_type": "execute_result"
    }
   ],
   "source": [
    "t=(mean_A-mean_B)/(sp*np.sqrt(1/n_A+1/n_B))\n",
    "t"
   ]
  },
  {
   "cell_type": "code",
   "execution_count": 112,
   "id": "9e11343b",
   "metadata": {},
   "outputs": [
    {
     "data": {
      "text/plain": [
       "0.22931091246210092"
      ]
     },
     "execution_count": 112,
     "metadata": {},
     "output_type": "execute_result"
    }
   ],
   "source": [
    "rv=stats.t(df=n_A+n_B-2)\n",
    "t"
   ]
  },
  {
   "cell_type": "code",
   "execution_count": 113,
   "id": "bf8521f0",
   "metadata": {},
   "outputs": [
    {
     "data": {
      "text/plain": [
       "(-2.045229642132703, 2.045229642132703)"
      ]
     },
     "execution_count": 113,
     "metadata": {},
     "output_type": "execute_result"
    }
   ],
   "source": [
    "alpha=0.05\n",
    "rv.interval(1-alpha)"
   ]
  },
  {
   "cell_type": "markdown",
   "id": "52eb6b0f",
   "metadata": {},
   "source": [
    "검정통계량이 기각역 안에 놓이지 않으므로 귀무가설을 기각할 수 없다. 즉 A, B지역 쌀 생산량에는 차이가 없다."
   ]
  },
  {
   "cell_type": "markdown",
   "id": "f639446b",
   "metadata": {},
   "source": [
    "- H0 : 기존의 약과 새로개발한 신약 혈압사이에는 차이가 없다\n",
    "- H1 : 새로 개발한 약이 혈압이 더 낮다(less)"
   ]
  },
  {
   "cell_type": "code",
   "execution_count": 121,
   "id": "33f983d5",
   "metadata": {},
   "outputs": [
    {
     "data": {
      "text/html": [
       "<div>\n",
       "<style scoped>\n",
       "    .dataframe tbody tr th:only-of-type {\n",
       "        vertical-align: middle;\n",
       "    }\n",
       "\n",
       "    .dataframe tbody tr th {\n",
       "        vertical-align: top;\n",
       "    }\n",
       "\n",
       "    .dataframe thead th {\n",
       "        text-align: right;\n",
       "    }\n",
       "</style>\n",
       "<table border=\"1\" class=\"dataframe\">\n",
       "  <thead>\n",
       "    <tr style=\"text-align: right;\">\n",
       "      <th></th>\n",
       "      <th>기존</th>\n",
       "      <th>신약</th>\n",
       "    </tr>\n",
       "  </thead>\n",
       "  <tbody>\n",
       "    <tr>\n",
       "      <th>0</th>\n",
       "      <td>157</td>\n",
       "      <td>155</td>\n",
       "    </tr>\n",
       "    <tr>\n",
       "      <th>1</th>\n",
       "      <td>182</td>\n",
       "      <td>185</td>\n",
       "    </tr>\n",
       "    <tr>\n",
       "      <th>2</th>\n",
       "      <td>183</td>\n",
       "      <td>181</td>\n",
       "    </tr>\n",
       "    <tr>\n",
       "      <th>3</th>\n",
       "      <td>192</td>\n",
       "      <td>188</td>\n",
       "    </tr>\n",
       "    <tr>\n",
       "      <th>4</th>\n",
       "      <td>165</td>\n",
       "      <td>167</td>\n",
       "    </tr>\n",
       "    <tr>\n",
       "      <th>5</th>\n",
       "      <td>196</td>\n",
       "      <td>183</td>\n",
       "    </tr>\n",
       "  </tbody>\n",
       "</table>\n",
       "</div>"
      ],
      "text/plain": [
       "    기존   신약\n",
       "0  157  155\n",
       "1  182  185\n",
       "2  183  181\n",
       "3  192  188\n",
       "4  165  167\n",
       "5  196  183"
      ]
     },
     "execution_count": 121,
     "metadata": {},
     "output_type": "execute_result"
    }
   ],
   "source": [
    "df=pd.DataFrame({'기존':[157, 182, 183, 192, 165, 196], '신약':[155, 185, 181, 188, 167, 183]})\n",
    "df"
   ]
  },
  {
   "cell_type": "code",
   "execution_count": 122,
   "id": "6181dd8f",
   "metadata": {},
   "outputs": [
    {
     "data": {
      "text/plain": [
       "Ttest_relResult(statistic=1.142857142857143, pvalue=0.8475742939802655)"
      ]
     },
     "execution_count": 122,
     "metadata": {},
     "output_type": "execute_result"
    }
   ],
   "source": [
    "stats.ttest_rel(df['기존'], df['신약'], alternative='less')"
   ]
  },
  {
   "cell_type": "markdown",
   "id": "b9ac67d2",
   "metadata": {},
   "source": [
    "- 문제"
   ]
  },
  {
   "cell_type": "markdown",
   "id": "1430504a",
   "metadata": {},
   "source": [
    "- H0 : 우리나라의 음주율은 20.5%이다.\n",
    "- H1 : 우리나라의 음주율은 20.5%가 아니다."
   ]
  },
  {
   "cell_type": "code",
   "execution_count": 137,
   "id": "9f08eed6",
   "metadata": {},
   "outputs": [
    {
     "data": {
      "text/plain": [
       "1.9386193875077975"
      ]
     },
     "execution_count": 137,
     "metadata": {},
     "output_type": "execute_result"
    }
   ],
   "source": [
    "n=500\n",
    "p=0.205\n",
    "q=1-p\n",
    "p_r=120/500\n",
    "z=(p_r-p)/np.sqrt(p*q/n)\n",
    "z"
   ]
  },
  {
   "cell_type": "code",
   "execution_count": 136,
   "id": "51df269a",
   "metadata": {},
   "outputs": [
    {
     "data": {
      "text/plain": [
       "(-1.959963984540054, 1.959963984540054)"
      ]
     },
     "execution_count": 136,
     "metadata": {},
     "output_type": "execute_result"
    }
   ],
   "source": [
    "alpha=0.05\n",
    "rv.interval(1-alpha)"
   ]
  },
  {
   "cell_type": "markdown",
   "id": "6f025c5c",
   "metadata": {},
   "source": [
    "기각역안에 들지 않으므로 귀무가설을 기각할 수 없다. 즉 우리나라의 음주율은 20.5%이다."
   ]
  },
  {
   "cell_type": "code",
   "execution_count": 133,
   "id": "d9e31632",
   "metadata": {},
   "outputs": [
    {
     "data": {
      "text/plain": [
       "9.093949042870822e-79"
      ]
     },
     "execution_count": 133,
     "metadata": {},
     "output_type": "execute_result"
    }
   ],
   "source": [
    "np.sqrt(p*q/n)"
   ]
  },
  {
   "cell_type": "code",
   "execution_count": 134,
   "id": "4c4015a3",
   "metadata": {},
   "outputs": [
    {
     "data": {
      "text/plain": [
       "4.236675675939096e-154"
      ]
     },
     "execution_count": 134,
     "metadata": {},
     "output_type": "execute_result"
    }
   ],
   "source": [
    "p"
   ]
  },
  {
   "cell_type": "markdown",
   "id": "dbfb11b9",
   "metadata": {},
   "source": [
    "- H0 : 청년층과 장년층 사이에는 차이가 없다.\n",
    "- H1 : 청년층과 장년층 사이에는 차이가 있다."
   ]
  },
  {
   "cell_type": "code",
   "execution_count": null,
   "id": "1633dd08",
   "metadata": {},
   "outputs": [],
   "source": [
    "p"
   ]
  }
 ],
 "metadata": {
  "kernelspec": {
   "display_name": "Python 3 (ipykernel)",
   "language": "python",
   "name": "python3"
  },
  "language_info": {
   "codemirror_mode": {
    "name": "ipython",
    "version": 3
   },
   "file_extension": ".py",
   "mimetype": "text/x-python",
   "name": "python",
   "nbconvert_exporter": "python",
   "pygments_lexer": "ipython3",
   "version": "3.8.5"
  }
 },
 "nbformat": 4,
 "nbformat_minor": 5
}
