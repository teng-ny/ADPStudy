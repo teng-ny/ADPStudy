{
 "cells": [
  {
   "cell_type": "code",
   "execution_count": 1,
   "id": "2bd665af",
   "metadata": {},
   "outputs": [],
   "source": [
    "import numpy as np\n",
    "import pandas as pd\n",
    "import matplotlib.pyplot as plt\n",
    "from scipy import stats\n",
    "\n",
    "%precision 3\n",
    "%matplotlib inline"
   ]
  },
  {
   "cell_type": "code",
   "execution_count": 2,
   "id": "f6755b70",
   "metadata": {},
   "outputs": [],
   "source": [
    "df=pd.read_csv('ch4_scores400.csv')\n",
    "scores=np.array(df['score'])"
   ]
  },
  {
   "cell_type": "markdown",
   "id": "492503da",
   "metadata": {},
   "source": [
    "- 모평균(p_mean)\n",
    "- 모분산(p_var)"
   ]
  },
  {
   "cell_type": "code",
   "execution_count": 5,
   "id": "893d12d7",
   "metadata": {},
   "outputs": [
    {
     "data": {
      "text/plain": [
       "(69.53, 206.6691)"
      ]
     },
     "execution_count": 5,
     "metadata": {},
     "output_type": "execute_result"
    }
   ],
   "source": [
    "p_mean=np.mean(scores)\n",
    "p_var=np.var(scores)\n",
    "\n",
    "p_mean, p_var"
   ]
  },
  {
   "cell_type": "code",
   "execution_count": 6,
   "id": "be5f5f38",
   "metadata": {},
   "outputs": [],
   "source": [
    "np.random.seed(0)\n",
    "n=20\n",
    "sample=np.random.choice(scores,n)\n",
    "\n",
    "np.random.seed(1111)\n",
    "n_samples=10000\n",
    "samples=np.random.choice(scores, (n_samples, n))"
   ]
  },
  {
   "cell_type": "markdown",
   "id": "575893d5",
   "metadata": {},
   "source": [
    "## 점추정\n",
    "- 표본평균 (s_mean)\n",
    "- 불편분산(s^2) (u_var)"
   ]
  },
  {
   "cell_type": "code",
   "execution_count": 7,
   "id": "9fa1269a",
   "metadata": {},
   "outputs": [
    {
     "data": {
      "text/plain": [
       "70.4"
      ]
     },
     "execution_count": 7,
     "metadata": {},
     "output_type": "execute_result"
    }
   ],
   "source": [
    "s_mean=np.mean(sample)\n",
    "s_mean"
   ]
  },
  {
   "cell_type": "code",
   "execution_count": 8,
   "id": "74147d96",
   "metadata": {},
   "outputs": [
    {
     "data": {
      "text/plain": [
       "158.25263157894742"
      ]
     },
     "execution_count": 8,
     "metadata": {},
     "output_type": "execute_result"
    }
   ],
   "source": [
    "u_var=np.var(sample, ddof=1)\n",
    "u_var"
   ]
  },
  {
   "cell_type": "markdown",
   "id": "9f5f34c1",
   "metadata": {},
   "source": [
    "## 구간추정\n",
    "- 표본o, 모분산 알고있을 경우 : 모평균의 95% 신뢰구간 => z분포\n",
    "- 표본o, 모분산 모름 : 모분산의 95% 신뢰구간 => 카이제곱 분포\n",
    "- 표본o, 모분산 모름 : 모평균의 95% 신뢰구간 => t분포"
   ]
  },
  {
   "cell_type": "markdown",
   "id": "78dba913",
   "metadata": {},
   "source": [
    "(1) 표본o, 모분산 알고있을 경우 / 모평균 신뢰구간 (z분포)"
   ]
  },
  {
   "cell_type": "code",
   "execution_count": 11,
   "id": "04b4f8b1",
   "metadata": {},
   "outputs": [
    {
     "data": {
      "text/plain": [
       "(64.09956018535247, 76.70043981464754)"
      ]
     },
     "execution_count": 11,
     "metadata": {},
     "output_type": "execute_result"
    }
   ],
   "source": [
    "rv=stats.norm()\n",
    "#0.025 : 0.05/2\n",
    "#0.975 : 1-0.05/2\n",
    "lcl=s_mean-rv.isf(0.025)*np.sqrt(p_var/n)\n",
    "ucl=s_mean-rv.isf(0.975)*np.sqrt(p_var/n)\n",
    "\n",
    "lcl, ucl"
   ]
  },
  {
   "cell_type": "markdown",
   "id": "f57125c5",
   "metadata": {},
   "source": [
    "모평균이 69.53점 이었으므로 신뢰구간 내에 포함되어있음을 알 수 있음"
   ]
  },
  {
   "cell_type": "markdown",
   "id": "75c36e27",
   "metadata": {},
   "source": [
    "(2) 표본o, 모분산 모름 / 모분산 신뢰구간 (카이제곱 분포)"
   ]
  },
  {
   "cell_type": "code",
   "execution_count": 12,
   "id": "d0d3612b",
   "metadata": {},
   "outputs": [
    {
     "data": {
      "text/plain": [
       "(91.52471947132238, 337.5955129124592)"
      ]
     },
     "execution_count": 12,
     "metadata": {},
     "output_type": "execute_result"
    }
   ],
   "source": [
    "rv=stats.chi2(df=n-1)\n",
    "#0.025 : 0.05/2\n",
    "#0.975 : 1-0.05/2\n",
    "lcl=(n-1)*u_var/rv.isf(0.025)\n",
    "ucl=(n-1)*u_var/rv.isf(0.975)\n",
    "\n",
    "lcl, ucl"
   ]
  },
  {
   "cell_type": "markdown",
   "id": "71f7d9f9",
   "metadata": {},
   "source": [
    "모분산은 206.669였으므로 구간 내에 포함되어있다는 것을 확인"
   ]
  },
  {
   "cell_type": "markdown",
   "id": "f1ef0e84",
   "metadata": {},
   "source": [
    "(3) 표본o, 모분산 모름 / 모평균 신뢰구간 (t분포)"
   ]
  },
  {
   "cell_type": "code",
   "execution_count": 14,
   "id": "856f8976",
   "metadata": {},
   "outputs": [
    {
     "data": {
      "text/plain": [
       "(64.51244886603887, 76.28755113396114)"
      ]
     },
     "execution_count": 14,
     "metadata": {},
     "output_type": "execute_result"
    }
   ],
   "source": [
    "rv=stats.t(df=n-1)\n",
    "#0.025 : 0.05/2\n",
    "#0.975 : 1-0.05/2\n",
    "lcl=s_mean-rv.isf(0.025)*np.sqrt(u_var/n)\n",
    "ucl=s_mean-rv.isf(0.975)*np.sqrt(u_var/n)\n",
    "\n",
    "lcl, ucl"
   ]
  },
  {
   "cell_type": "markdown",
   "id": "01208f62",
   "metadata": {},
   "source": [
    "모평균의 값은 59.53점 이었으므로 신뢰구간 내에 포함되어있음을 알 수 있음"
   ]
  },
  {
   "cell_type": "markdown",
   "id": "f44af652",
   "metadata": {},
   "source": [
    "- 예제 1: 어느 회사에서 생산하는 제품의 모분산을 추리하기 위하여, 표본 10개를 뽑았더니 표본분산은 6.42가 나왔다고 한다. 이때 제품의 모분산에 대한 90%의 신뢰구간을 구하시오."
   ]
  },
  {
   "cell_type": "code",
   "execution_count": 18,
   "id": "36762627",
   "metadata": {},
   "outputs": [],
   "source": [
    "# 표본o, 모분산x / 모분산 신뢰구간"
   ]
  },
  {
   "cell_type": "code",
   "execution_count": 19,
   "id": "94e5e18f",
   "metadata": {},
   "outputs": [
    {
     "data": {
      "text/plain": [
       "(3.415099975321245, 17.37685387744868)"
      ]
     },
     "execution_count": 19,
     "metadata": {},
     "output_type": "execute_result"
    }
   ],
   "source": [
    "n=10\n",
    "u_var=6.42\n",
    "rv=stats.chi2(df=n-1)\n",
    "\n",
    "lcl=(n-1)*u_var/rv.isf(0.05)\n",
    "ucl=(n-1)*u_var/rv.isf(0.95)\n",
    "\n",
    "lcl, ucl"
   ]
  },
  {
   "cell_type": "markdown",
   "id": "de39056e",
   "metadata": {},
   "source": [
    "- 예제 2: 향수 20개 추출, 지속시간의 분산 90**2, 향수의 분산 90% 신뢰구간을 구하라"
   ]
  },
  {
   "cell_type": "code",
   "execution_count": 22,
   "id": "4b3712b9",
   "metadata": {},
   "outputs": [],
   "source": [
    "# 표본o, 모분산x / 모분산 신뢰구간"
   ]
  },
  {
   "cell_type": "code",
   "execution_count": 28,
   "id": "822ef78b",
   "metadata": {},
   "outputs": [
    {
     "data": {
      "text/plain": [
       "(4684.59968293086, 17279.482984311377)"
      ]
     },
     "execution_count": 28,
     "metadata": {},
     "output_type": "execute_result"
    }
   ],
   "source": [
    "n=20\n",
    "u_var=90**2\n",
    "rv=stats.chi2(df=n-1)\n",
    "\n",
    "lcl=(n-1)*u_var/rv.isf(0.025)\n",
    "ucl=(n-1)*u_var/rv.isf(0.975)\n",
    "\n",
    "lcl, ucl"
   ]
  }
 ],
 "metadata": {
  "kernelspec": {
   "display_name": "Python 3 (ipykernel)",
   "language": "python",
   "name": "python3"
  },
  "language_info": {
   "codemirror_mode": {
    "name": "ipython",
    "version": 3
   },
   "file_extension": ".py",
   "mimetype": "text/x-python",
   "name": "python",
   "nbconvert_exporter": "python",
   "pygments_lexer": "ipython3",
   "version": "3.8.5"
  }
 },
 "nbformat": 4,
 "nbformat_minor": 5
}
