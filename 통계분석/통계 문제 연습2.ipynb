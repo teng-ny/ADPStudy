{
 "cells": [
  {
   "cell_type": "code",
   "execution_count": 1,
   "id": "6df506c9",
   "metadata": {},
   "outputs": [
    {
     "data": {
      "text/plain": [
       "[8800, 9500, 9600, 10500, 10400, 9600, 10300, 9500, 9600, 7100, 10100, 7200]"
      ]
     },
     "execution_count": 1,
     "metadata": {},
     "output_type": "execute_result"
    }
   ],
   "source": [
    "import pandas as pd\n",
    "import numpy as np\n",
    "import scipy.stats as stats\n",
    "from scipy.stats import shapiro\n",
    "\n",
    "data=[8800, 9500, 9600, 10500, 10400, 9600, 10300, 9500, 9600, 7100, 10100, 7200]\n",
    "data"
   ]
  },
  {
   "cell_type": "markdown",
   "id": "c2c57849",
   "metadata": {},
   "source": [
    "H0 : 진공관 수명은 1만시간이다.\n",
    "H1 : 진공관 수명은 1만시간이 아니다."
   ]
  },
  {
   "cell_type": "code",
   "execution_count": 2,
   "id": "7adec927",
   "metadata": {},
   "outputs": [
    {
     "data": {
      "text/plain": [
       "1282727.2727272727"
      ]
     },
     "execution_count": 2,
     "metadata": {},
     "output_type": "execute_result"
    }
   ],
   "source": [
    "s_mean=np.mean(data)\n",
    "s_mean\n",
    "u_var=np.var(data, ddof=1)\n",
    "u_var"
   ]
  },
  {
   "cell_type": "code",
   "execution_count": 3,
   "id": "d7801d6e",
   "metadata": {},
   "outputs": [
    {
     "data": {
      "text/plain": [
       "ShapiroResult(statistic=0.8105747699737549, pvalue=0.012388509698212147)"
      ]
     },
     "execution_count": 3,
     "metadata": {},
     "output_type": "execute_result"
    }
   ],
   "source": [
    "shapiro(data)"
   ]
  },
  {
   "cell_type": "markdown",
   "id": "640356f4",
   "metadata": {},
   "source": [
    "귀무가설을 기각한다. 즉 정규성을 따르지 않는다."
   ]
  },
  {
   "cell_type": "code",
   "execution_count": 4,
   "id": "6f656c28",
   "metadata": {},
   "outputs": [
    {
     "data": {
      "text/plain": [
       "9600.0"
      ]
     },
     "execution_count": 4,
     "metadata": {},
     "output_type": "execute_result"
    }
   ],
   "source": [
    "np.median(data)"
   ]
  },
  {
   "cell_type": "code",
   "execution_count": 5,
   "id": "579e179d",
   "metadata": {},
   "outputs": [
    {
     "data": {
      "text/plain": [
       "Counter({8800: 1,\n",
       "         9500: 2,\n",
       "         9600: 3,\n",
       "         10500: 1,\n",
       "         10400: 1,\n",
       "         10300: 1,\n",
       "         7100: 1,\n",
       "         10100: 1,\n",
       "         7200: 1})"
      ]
     },
     "execution_count": 5,
     "metadata": {},
     "output_type": "execute_result"
    }
   ],
   "source": [
    "from collections import Counter\n",
    "Counter(data)"
   ]
  },
  {
   "cell_type": "code",
   "execution_count": 6,
   "id": "014059ba",
   "metadata": {},
   "outputs": [],
   "source": [
    "while 9600 in data:\n",
    "    data.remove(9600)"
   ]
  },
  {
   "cell_type": "code",
   "execution_count": 7,
   "id": "189ba5f6",
   "metadata": {},
   "outputs": [],
   "source": [
    "data=np.array(data)"
   ]
  },
  {
   "cell_type": "code",
   "execution_count": 8,
   "id": "106dec39",
   "metadata": {},
   "outputs": [
    {
     "data": {
      "text/plain": [
       "WilcoxonResult(statistic=11.0, pvalue=0.203125)"
      ]
     },
     "execution_count": 8,
     "metadata": {},
     "output_type": "execute_result"
    }
   ],
   "source": [
    "mean0=10000\n",
    "data\n",
    "stats.wilcoxon(data-mean0, alternative='two-sided')"
   ]
  },
  {
   "cell_type": "markdown",
   "id": "e7463888",
   "metadata": {},
   "source": [
    "p-value가 0.05보다 크므로 귀무가설을 기각할 수 없다. 즉 진공관 수명시간은 1만시간이다"
   ]
  },
  {
   "cell_type": "markdown",
   "id": "21249347",
   "metadata": {},
   "source": [
    "시제품의 평균 농도는 60이다./60이 아니다"
   ]
  },
  {
   "cell_type": "code",
   "execution_count": 9,
   "id": "0698d9fc",
   "metadata": {},
   "outputs": [
    {
     "data": {
      "text/html": [
       "<div>\n",
       "<style scoped>\n",
       "    .dataframe tbody tr th:only-of-type {\n",
       "        vertical-align: middle;\n",
       "    }\n",
       "\n",
       "    .dataframe tbody tr th {\n",
       "        vertical-align: top;\n",
       "    }\n",
       "\n",
       "    .dataframe thead th {\n",
       "        text-align: right;\n",
       "    }\n",
       "</style>\n",
       "<table border=\"1\" class=\"dataframe\">\n",
       "  <thead>\n",
       "    <tr style=\"text-align: right;\">\n",
       "      <th></th>\n",
       "      <th>data</th>\n",
       "    </tr>\n",
       "  </thead>\n",
       "  <tbody>\n",
       "    <tr>\n",
       "      <th>0</th>\n",
       "      <td>52</td>\n",
       "    </tr>\n",
       "    <tr>\n",
       "      <th>1</th>\n",
       "      <td>50</td>\n",
       "    </tr>\n",
       "    <tr>\n",
       "      <th>2</th>\n",
       "      <td>62</td>\n",
       "    </tr>\n",
       "    <tr>\n",
       "      <th>3</th>\n",
       "      <td>75</td>\n",
       "    </tr>\n",
       "    <tr>\n",
       "      <th>4</th>\n",
       "      <td>26</td>\n",
       "    </tr>\n",
       "    <tr>\n",
       "      <th>5</th>\n",
       "      <td>45</td>\n",
       "    </tr>\n",
       "    <tr>\n",
       "      <th>6</th>\n",
       "      <td>62</td>\n",
       "    </tr>\n",
       "    <tr>\n",
       "      <th>7</th>\n",
       "      <td>35</td>\n",
       "    </tr>\n",
       "    <tr>\n",
       "      <th>8</th>\n",
       "      <td>57</td>\n",
       "    </tr>\n",
       "    <tr>\n",
       "      <th>9</th>\n",
       "      <td>14</td>\n",
       "    </tr>\n",
       "  </tbody>\n",
       "</table>\n",
       "</div>"
      ],
      "text/plain": [
       "   data\n",
       "0    52\n",
       "1    50\n",
       "2    62\n",
       "3    75\n",
       "4    26\n",
       "5    45\n",
       "6    62\n",
       "7    35\n",
       "8    57\n",
       "9    14"
      ]
     },
     "execution_count": 9,
     "metadata": {},
     "output_type": "execute_result"
    }
   ],
   "source": [
    "data=pd.DataFrame({'data': [52,50,62,75,26,45,62,35,57,14]})\n",
    "data"
   ]
  },
  {
   "cell_type": "code",
   "execution_count": 10,
   "id": "9e0b26e2",
   "metadata": {},
   "outputs": [
    {
     "data": {
      "text/plain": [
       "51.0"
      ]
     },
     "execution_count": 10,
     "metadata": {},
     "output_type": "execute_result"
    }
   ],
   "source": [
    "np.median(data)"
   ]
  },
  {
   "cell_type": "code",
   "execution_count": 11,
   "id": "d056b5d7",
   "metadata": {},
   "outputs": [
    {
     "data": {
      "text/plain": [
       "data\n",
       "62      2\n",
       "14      1\n",
       "26      1\n",
       "35      1\n",
       "45      1\n",
       "50      1\n",
       "52      1\n",
       "57      1\n",
       "75      1\n",
       "dtype: int64"
      ]
     },
     "execution_count": 11,
     "metadata": {},
     "output_type": "execute_result"
    }
   ],
   "source": [
    "data.value_counts()"
   ]
  },
  {
   "cell_type": "code",
   "execution_count": 12,
   "id": "e202b332",
   "metadata": {},
   "outputs": [
    {
     "data": {
      "text/plain": [
       "WilcoxonResult(statistic=9.5, pvalue=0.064453125)"
      ]
     },
     "execution_count": 12,
     "metadata": {},
     "output_type": "execute_result"
    }
   ],
   "source": [
    "mean0=60\n",
    "stats.wilcoxon(data.data-mean0, alternative='two-sided')"
   ]
  },
  {
   "cell_type": "code",
   "execution_count": 13,
   "id": "aca55bc0",
   "metadata": {},
   "outputs": [],
   "source": [
    "data=pd.DataFrame({'광고횟수':[1,2,3,4,5,7,8,9,11,12], '광고비':['낮음', '낮음', '낮음', '낮음', '높음', '높음', '높음', '높음', '높음', '높음'], '매출액':[15,16,17,18,20,22,24,26,28,29]})"
   ]
  },
  {
   "cell_type": "code",
   "execution_count": 14,
   "id": "22655f3a",
   "metadata": {},
   "outputs": [
    {
     "data": {
      "text/html": [
       "<div>\n",
       "<style scoped>\n",
       "    .dataframe tbody tr th:only-of-type {\n",
       "        vertical-align: middle;\n",
       "    }\n",
       "\n",
       "    .dataframe tbody tr th {\n",
       "        vertical-align: top;\n",
       "    }\n",
       "\n",
       "    .dataframe thead th {\n",
       "        text-align: right;\n",
       "    }\n",
       "</style>\n",
       "<table border=\"1\" class=\"dataframe\">\n",
       "  <thead>\n",
       "    <tr style=\"text-align: right;\">\n",
       "      <th></th>\n",
       "      <th>광고횟수</th>\n",
       "      <th>광고비</th>\n",
       "      <th>매출액</th>\n",
       "    </tr>\n",
       "  </thead>\n",
       "  <tbody>\n",
       "    <tr>\n",
       "      <th>0</th>\n",
       "      <td>1</td>\n",
       "      <td>낮음</td>\n",
       "      <td>15</td>\n",
       "    </tr>\n",
       "    <tr>\n",
       "      <th>1</th>\n",
       "      <td>2</td>\n",
       "      <td>낮음</td>\n",
       "      <td>16</td>\n",
       "    </tr>\n",
       "    <tr>\n",
       "      <th>2</th>\n",
       "      <td>3</td>\n",
       "      <td>낮음</td>\n",
       "      <td>17</td>\n",
       "    </tr>\n",
       "    <tr>\n",
       "      <th>3</th>\n",
       "      <td>4</td>\n",
       "      <td>낮음</td>\n",
       "      <td>18</td>\n",
       "    </tr>\n",
       "    <tr>\n",
       "      <th>4</th>\n",
       "      <td>5</td>\n",
       "      <td>높음</td>\n",
       "      <td>20</td>\n",
       "    </tr>\n",
       "    <tr>\n",
       "      <th>5</th>\n",
       "      <td>7</td>\n",
       "      <td>높음</td>\n",
       "      <td>22</td>\n",
       "    </tr>\n",
       "    <tr>\n",
       "      <th>6</th>\n",
       "      <td>8</td>\n",
       "      <td>높음</td>\n",
       "      <td>24</td>\n",
       "    </tr>\n",
       "    <tr>\n",
       "      <th>7</th>\n",
       "      <td>9</td>\n",
       "      <td>높음</td>\n",
       "      <td>26</td>\n",
       "    </tr>\n",
       "    <tr>\n",
       "      <th>8</th>\n",
       "      <td>11</td>\n",
       "      <td>높음</td>\n",
       "      <td>28</td>\n",
       "    </tr>\n",
       "    <tr>\n",
       "      <th>9</th>\n",
       "      <td>12</td>\n",
       "      <td>높음</td>\n",
       "      <td>29</td>\n",
       "    </tr>\n",
       "  </tbody>\n",
       "</table>\n",
       "</div>"
      ],
      "text/plain": [
       "   광고횟수 광고비  매출액\n",
       "0     1  낮음   15\n",
       "1     2  낮음   16\n",
       "2     3  낮음   17\n",
       "3     4  낮음   18\n",
       "4     5  높음   20\n",
       "5     7  높음   22\n",
       "6     8  높음   24\n",
       "7     9  높음   26\n",
       "8    11  높음   28\n",
       "9    12  높음   29"
      ]
     },
     "execution_count": 14,
     "metadata": {},
     "output_type": "execute_result"
    }
   ],
   "source": [
    "data"
   ]
  },
  {
   "cell_type": "code",
   "execution_count": 15,
   "id": "6c2265c2",
   "metadata": {},
   "outputs": [
    {
     "data": {
      "text/html": [
       "<div>\n",
       "<style scoped>\n",
       "    .dataframe tbody tr th:only-of-type {\n",
       "        vertical-align: middle;\n",
       "    }\n",
       "\n",
       "    .dataframe tbody tr th {\n",
       "        vertical-align: top;\n",
       "    }\n",
       "\n",
       "    .dataframe thead th {\n",
       "        text-align: right;\n",
       "    }\n",
       "</style>\n",
       "<table border=\"1\" class=\"dataframe\">\n",
       "  <thead>\n",
       "    <tr style=\"text-align: right;\">\n",
       "      <th></th>\n",
       "      <th>광고횟수</th>\n",
       "      <th>매출액</th>\n",
       "      <th>광고비_낮음</th>\n",
       "      <th>광고비_높음</th>\n",
       "    </tr>\n",
       "  </thead>\n",
       "  <tbody>\n",
       "    <tr>\n",
       "      <th>0</th>\n",
       "      <td>1</td>\n",
       "      <td>15</td>\n",
       "      <td>1</td>\n",
       "      <td>0</td>\n",
       "    </tr>\n",
       "    <tr>\n",
       "      <th>1</th>\n",
       "      <td>2</td>\n",
       "      <td>16</td>\n",
       "      <td>1</td>\n",
       "      <td>0</td>\n",
       "    </tr>\n",
       "    <tr>\n",
       "      <th>2</th>\n",
       "      <td>3</td>\n",
       "      <td>17</td>\n",
       "      <td>1</td>\n",
       "      <td>0</td>\n",
       "    </tr>\n",
       "    <tr>\n",
       "      <th>3</th>\n",
       "      <td>4</td>\n",
       "      <td>18</td>\n",
       "      <td>1</td>\n",
       "      <td>0</td>\n",
       "    </tr>\n",
       "    <tr>\n",
       "      <th>4</th>\n",
       "      <td>5</td>\n",
       "      <td>20</td>\n",
       "      <td>0</td>\n",
       "      <td>1</td>\n",
       "    </tr>\n",
       "    <tr>\n",
       "      <th>5</th>\n",
       "      <td>7</td>\n",
       "      <td>22</td>\n",
       "      <td>0</td>\n",
       "      <td>1</td>\n",
       "    </tr>\n",
       "    <tr>\n",
       "      <th>6</th>\n",
       "      <td>8</td>\n",
       "      <td>24</td>\n",
       "      <td>0</td>\n",
       "      <td>1</td>\n",
       "    </tr>\n",
       "    <tr>\n",
       "      <th>7</th>\n",
       "      <td>9</td>\n",
       "      <td>26</td>\n",
       "      <td>0</td>\n",
       "      <td>1</td>\n",
       "    </tr>\n",
       "    <tr>\n",
       "      <th>8</th>\n",
       "      <td>11</td>\n",
       "      <td>28</td>\n",
       "      <td>0</td>\n",
       "      <td>1</td>\n",
       "    </tr>\n",
       "    <tr>\n",
       "      <th>9</th>\n",
       "      <td>12</td>\n",
       "      <td>29</td>\n",
       "      <td>0</td>\n",
       "      <td>1</td>\n",
       "    </tr>\n",
       "  </tbody>\n",
       "</table>\n",
       "</div>"
      ],
      "text/plain": [
       "   광고횟수  매출액  광고비_낮음  광고비_높음\n",
       "0     1   15       1       0\n",
       "1     2   16       1       0\n",
       "2     3   17       1       0\n",
       "3     4   18       1       0\n",
       "4     5   20       0       1\n",
       "5     7   22       0       1\n",
       "6     8   24       0       1\n",
       "7     9   26       0       1\n",
       "8    11   28       0       1\n",
       "9    12   29       0       1"
      ]
     },
     "execution_count": 15,
     "metadata": {},
     "output_type": "execute_result"
    }
   ],
   "source": [
    "data=pd.get_dummies(data)\n",
    "import numpy as np\n",
    "import statsmodels.api as sm\n",
    "import statsmodels.formula.api as smf\n",
    "data"
   ]
  },
  {
   "cell_type": "code",
   "execution_count": 16,
   "id": "f58a2997",
   "metadata": {},
   "outputs": [
    {
     "name": "stderr",
     "output_type": "stream",
     "text": [
      "C:\\Users\\taeeu\\anaconda3\\lib\\site-packages\\scipy\\stats\\stats.py:1541: UserWarning: kurtosistest only valid for n>=20 ... continuing anyway, n=10\n",
      "  warnings.warn(\"kurtosistest only valid for n>=20 ... continuing \"\n"
     ]
    },
    {
     "data": {
      "text/html": [
       "<table class=\"simpletable\">\n",
       "<caption>OLS Regression Results</caption>\n",
       "<tr>\n",
       "  <th>Dep. Variable:</th>           <td>매출액</td>       <th>  R-squared:         </th> <td>   1.000</td> \n",
       "</tr>\n",
       "<tr>\n",
       "  <th>Model:</th>                   <td>OLS</td>       <th>  Adj. R-squared:    </th> <td>   1.000</td> \n",
       "</tr>\n",
       "<tr>\n",
       "  <th>Method:</th>             <td>Least Squares</td>  <th>  F-statistic:       </th> <td>7.189e+29</td>\n",
       "</tr>\n",
       "<tr>\n",
       "  <th>Date:</th>             <td>Sat, 24 Sep 2022</td> <th>  Prob (F-statistic):</th> <td>4.71e-89</td> \n",
       "</tr>\n",
       "<tr>\n",
       "  <th>Time:</th>                 <td>08:58:22</td>     <th>  Log-Likelihood:    </th> <td>  310.35</td> \n",
       "</tr>\n",
       "<tr>\n",
       "  <th>No. Observations:</th>      <td>    10</td>      <th>  AIC:               </th> <td>  -612.7</td> \n",
       "</tr>\n",
       "<tr>\n",
       "  <th>Df Residuals:</th>          <td>     6</td>      <th>  BIC:               </th> <td>  -611.5</td> \n",
       "</tr>\n",
       "<tr>\n",
       "  <th>Df Model:</th>              <td>     3</td>      <th>                     </th>     <td> </td>    \n",
       "</tr>\n",
       "<tr>\n",
       "  <th>Covariance Type:</th>      <td>nonrobust</td>    <th>                     </th>     <td> </td>    \n",
       "</tr>\n",
       "</table>\n",
       "<table class=\"simpletable\">\n",
       "<tr>\n",
       "      <td></td>         <th>coef</th>     <th>std err</th>      <th>t</th>      <th>P>|t|</th>  <th>[0.025</th>    <th>0.975]</th>  \n",
       "</tr>\n",
       "<tr>\n",
       "  <th>Intercept</th> <td> 2.309e-14</td> <td> 7.67e-14</td> <td>    0.301</td> <td> 0.773</td> <td>-1.64e-13</td> <td> 2.11e-13</td>\n",
       "</tr>\n",
       "<tr>\n",
       "  <th>광고횟수</th>      <td> 5.329e-15</td> <td> 1.12e-14</td> <td>    0.477</td> <td> 0.650</td> <td> -2.2e-14</td> <td> 3.27e-14</td>\n",
       "</tr>\n",
       "<tr>\n",
       "  <th>매출액</th>       <td>    1.0000</td> <td> 8.53e-15</td> <td> 1.17e+14</td> <td> 0.000</td> <td>    1.000</td> <td>    1.000</td>\n",
       "</tr>\n",
       "<tr>\n",
       "  <th>광고비_낮음</th>    <td>-1.776e-15</td> <td>  3.7e-14</td> <td>   -0.048</td> <td> 0.963</td> <td>-9.22e-14</td> <td> 8.87e-14</td>\n",
       "</tr>\n",
       "<tr>\n",
       "  <th>광고비_높음</th>    <td> 3.553e-15</td> <td> 4.06e-14</td> <td>    0.087</td> <td> 0.933</td> <td>-9.59e-14</td> <td> 1.03e-13</td>\n",
       "</tr>\n",
       "</table>\n",
       "<table class=\"simpletable\">\n",
       "<tr>\n",
       "  <th>Omnibus:</th>       <td> 1.950</td> <th>  Durbin-Watson:     </th> <td>   0.278</td>\n",
       "</tr>\n",
       "<tr>\n",
       "  <th>Prob(Omnibus):</th> <td> 0.377</td> <th>  Jarque-Bera (JB):  </th> <td>   0.848</td>\n",
       "</tr>\n",
       "<tr>\n",
       "  <th>Skew:</th>          <td> 0.174</td> <th>  Prob(JB):          </th> <td>   0.655</td>\n",
       "</tr>\n",
       "<tr>\n",
       "  <th>Kurtosis:</th>      <td> 1.617</td> <th>  Cond. No.          </th> <td>2.38e+17</td>\n",
       "</tr>\n",
       "</table><br/><br/>Notes:<br/>[1] Standard Errors assume that the covariance matrix of the errors is correctly specified.<br/>[2] The smallest eigenvalue is 9.45e-32. This might indicate that there are<br/>strong multicollinearity problems or that the design matrix is singular."
      ],
      "text/plain": [
       "<class 'statsmodels.iolib.summary.Summary'>\n",
       "\"\"\"\n",
       "                            OLS Regression Results                            \n",
       "==============================================================================\n",
       "Dep. Variable:                    매출액   R-squared:                       1.000\n",
       "Model:                            OLS   Adj. R-squared:                  1.000\n",
       "Method:                 Least Squares   F-statistic:                 7.189e+29\n",
       "Date:                Sat, 24 Sep 2022   Prob (F-statistic):           4.71e-89\n",
       "Time:                        08:58:22   Log-Likelihood:                 310.35\n",
       "No. Observations:                  10   AIC:                            -612.7\n",
       "Df Residuals:                       6   BIC:                            -611.5\n",
       "Df Model:                           3                                         \n",
       "Covariance Type:            nonrobust                                         \n",
       "==============================================================================\n",
       "                 coef    std err          t      P>|t|      [0.025      0.975]\n",
       "------------------------------------------------------------------------------\n",
       "Intercept   2.309e-14   7.67e-14      0.301      0.773   -1.64e-13    2.11e-13\n",
       "광고횟수        5.329e-15   1.12e-14      0.477      0.650    -2.2e-14    3.27e-14\n",
       "매출액            1.0000   8.53e-15   1.17e+14      0.000       1.000       1.000\n",
       "광고비_낮음     -1.776e-15    3.7e-14     -0.048      0.963   -9.22e-14    8.87e-14\n",
       "광고비_높음      3.553e-15   4.06e-14      0.087      0.933   -9.59e-14    1.03e-13\n",
       "==============================================================================\n",
       "Omnibus:                        1.950   Durbin-Watson:                   0.278\n",
       "Prob(Omnibus):                  0.377   Jarque-Bera (JB):                0.848\n",
       "Skew:                           0.174   Prob(JB):                        0.655\n",
       "Kurtosis:                       1.617   Cond. No.                     2.38e+17\n",
       "==============================================================================\n",
       "\n",
       "Notes:\n",
       "[1] Standard Errors assume that the covariance matrix of the errors is correctly specified.\n",
       "[2] The smallest eigenvalue is 9.45e-32. This might indicate that there are\n",
       "strong multicollinearity problems or that the design matrix is singular.\n",
       "\"\"\""
      ]
     },
     "execution_count": 16,
     "metadata": {},
     "output_type": "execute_result"
    }
   ],
   "source": [
    "model=smf.ols(formula=\"매출액~광고횟수+매출액+광고비_낮음+광고비_높음\", data=data)\n",
    "result=model.fit()\n",
    "result.summary()"
   ]
  },
  {
   "cell_type": "markdown",
   "id": "d0051b0f",
   "metadata": {},
   "source": [
    "학과와 성적은 독립이다\n",
    "\n",
    "학과와 성적은 독립이아니다"
   ]
  },
  {
   "cell_type": "code",
   "execution_count": 17,
   "id": "9476553c",
   "metadata": {},
   "outputs": [],
   "source": [
    "data=pd.DataFrame({'사회과학':[15,60, 24], '자연과학':[25,69,6], '공학':[10, 77,14]}, index=['1.5-2.5', '2.5-3.5', '3.5-4.5'])"
   ]
  },
  {
   "cell_type": "code",
   "execution_count": 18,
   "id": "430d56c4",
   "metadata": {},
   "outputs": [
    {
     "data": {
      "text/html": [
       "<div>\n",
       "<style scoped>\n",
       "    .dataframe tbody tr th:only-of-type {\n",
       "        vertical-align: middle;\n",
       "    }\n",
       "\n",
       "    .dataframe tbody tr th {\n",
       "        vertical-align: top;\n",
       "    }\n",
       "\n",
       "    .dataframe thead th {\n",
       "        text-align: right;\n",
       "    }\n",
       "</style>\n",
       "<table border=\"1\" class=\"dataframe\">\n",
       "  <thead>\n",
       "    <tr style=\"text-align: right;\">\n",
       "      <th></th>\n",
       "      <th>사회과학</th>\n",
       "      <th>자연과학</th>\n",
       "      <th>공학</th>\n",
       "    </tr>\n",
       "  </thead>\n",
       "  <tbody>\n",
       "    <tr>\n",
       "      <th>1.5-2.5</th>\n",
       "      <td>15</td>\n",
       "      <td>25</td>\n",
       "      <td>10</td>\n",
       "    </tr>\n",
       "    <tr>\n",
       "      <th>2.5-3.5</th>\n",
       "      <td>60</td>\n",
       "      <td>69</td>\n",
       "      <td>77</td>\n",
       "    </tr>\n",
       "    <tr>\n",
       "      <th>3.5-4.5</th>\n",
       "      <td>24</td>\n",
       "      <td>6</td>\n",
       "      <td>14</td>\n",
       "    </tr>\n",
       "  </tbody>\n",
       "</table>\n",
       "</div>"
      ],
      "text/plain": [
       "         사회과학  자연과학  공학\n",
       "1.5-2.5    15    25  10\n",
       "2.5-3.5    60    69  77\n",
       "3.5-4.5    24     6  14"
      ]
     },
     "execution_count": 18,
     "metadata": {},
     "output_type": "execute_result"
    }
   ],
   "source": [
    "data"
   ]
  },
  {
   "cell_type": "code",
   "execution_count": 19,
   "id": "14e26dcd",
   "metadata": {},
   "outputs": [
    {
     "data": {
      "text/plain": [
       "0.0004531468852769105"
      ]
     },
     "execution_count": 19,
     "metadata": {},
     "output_type": "execute_result"
    }
   ],
   "source": [
    "from scipy.stats import chi2_contingency\n",
    "chi, p, df, expect=chi2_contingency(data)\n",
    "p"
   ]
  },
  {
   "cell_type": "markdown",
   "id": "9b64953d",
   "metadata": {},
   "source": [
    "귀무가설을 기각한다. 즉 성적과 학과는 독립이 아니다."
   ]
  },
  {
   "cell_type": "code",
   "execution_count": 20,
   "id": "983ff892",
   "metadata": {},
   "outputs": [
    {
     "data": {
      "text/plain": [
       "(99, 100, 101)"
      ]
     },
     "execution_count": 20,
     "metadata": {},
     "output_type": "execute_result"
    }
   ],
   "source": [
    "사회과학, 자연과학, 공학=data.sum()\n",
    "사회과학, 자연과학, 공학"
   ]
  },
  {
   "cell_type": "code",
   "execution_count": 21,
   "id": "a272a502",
   "metadata": {},
   "outputs": [
    {
     "data": {
      "text/plain": [
       "(50, 206, 44)"
      ]
     },
     "execution_count": 21,
     "metadata": {},
     "output_type": "execute_result"
    }
   ],
   "source": [
    "A, B, C=data.sum(axis=1)\n",
    "A, B, C"
   ]
  },
  {
   "cell_type": "code",
   "execution_count": 22,
   "id": "1e775e14",
   "metadata": {},
   "outputs": [
    {
     "data": {
      "text/plain": [
       "300"
      ]
     },
     "execution_count": 22,
     "metadata": {},
     "output_type": "execute_result"
    }
   ],
   "source": [
    "n=사회과학+자연과학+공학\n",
    "n"
   ]
  },
  {
   "cell_type": "code",
   "execution_count": 23,
   "id": "20f97f54",
   "metadata": {},
   "outputs": [],
   "source": [
    "ad_ef=pd.DataFrame({'사회과학':[A*사회과학/n, B*사회과학/n, C*사회과학/n], '자연과학':[A*자연과학/n, B*자연과학/n, C*자연과학/n], '공학':[A*공학/n, B*공학/n, C*공학/n]}, index=data.index)"
   ]
  },
  {
   "cell_type": "code",
   "execution_count": 24,
   "id": "a617d665",
   "metadata": {},
   "outputs": [
    {
     "data": {
      "text/html": [
       "<div>\n",
       "<style scoped>\n",
       "    .dataframe tbody tr th:only-of-type {\n",
       "        vertical-align: middle;\n",
       "    }\n",
       "\n",
       "    .dataframe tbody tr th {\n",
       "        vertical-align: top;\n",
       "    }\n",
       "\n",
       "    .dataframe thead th {\n",
       "        text-align: right;\n",
       "    }\n",
       "</style>\n",
       "<table border=\"1\" class=\"dataframe\">\n",
       "  <thead>\n",
       "    <tr style=\"text-align: right;\">\n",
       "      <th></th>\n",
       "      <th>사회과학</th>\n",
       "      <th>자연과학</th>\n",
       "      <th>공학</th>\n",
       "    </tr>\n",
       "  </thead>\n",
       "  <tbody>\n",
       "    <tr>\n",
       "      <th>1.5-2.5</th>\n",
       "      <td>16.50</td>\n",
       "      <td>16.666667</td>\n",
       "      <td>16.833333</td>\n",
       "    </tr>\n",
       "    <tr>\n",
       "      <th>2.5-3.5</th>\n",
       "      <td>67.98</td>\n",
       "      <td>68.666667</td>\n",
       "      <td>69.353333</td>\n",
       "    </tr>\n",
       "    <tr>\n",
       "      <th>3.5-4.5</th>\n",
       "      <td>14.52</td>\n",
       "      <td>14.666667</td>\n",
       "      <td>14.813333</td>\n",
       "    </tr>\n",
       "  </tbody>\n",
       "</table>\n",
       "</div>"
      ],
      "text/plain": [
       "          사회과학       자연과학         공학\n",
       "1.5-2.5  16.50  16.666667  16.833333\n",
       "2.5-3.5  67.98  68.666667  69.353333\n",
       "3.5-4.5  14.52  14.666667  14.813333"
      ]
     },
     "execution_count": 24,
     "metadata": {},
     "output_type": "execute_result"
    }
   ],
   "source": [
    "ad_ef"
   ]
  },
  {
   "cell_type": "code",
   "execution_count": 25,
   "id": "efc2be38",
   "metadata": {},
   "outputs": [
    {
     "data": {
      "text/plain": [
       "(         사회과학  자연과학  공학\n",
       " 1.5-2.5    15    25  10\n",
       " 2.5-3.5    60    69  77\n",
       " 3.5-4.5    24     6  14,\n",
       "           사회과학       자연과학         공학\n",
       " 1.5-2.5  16.50  16.666667  16.833333\n",
       " 2.5-3.5  67.98  68.666667  69.353333\n",
       " 3.5-4.5  14.52  14.666667  14.813333)"
      ]
     },
     "execution_count": 25,
     "metadata": {},
     "output_type": "execute_result"
    }
   ],
   "source": [
    "data, ad_ef"
   ]
  },
  {
   "cell_type": "code",
   "execution_count": 26,
   "id": "d4f5ceda",
   "metadata": {},
   "outputs": [
    {
     "data": {
      "text/plain": [
       "20.213713780910307"
      ]
     },
     "execution_count": 26,
     "metadata": {},
     "output_type": "execute_result"
    }
   ],
   "source": [
    "y=((data-ad_ef)**2/ad_ef).sum().sum()\n",
    "y"
   ]
  },
  {
   "cell_type": "code",
   "execution_count": 27,
   "id": "6fbb87a4",
   "metadata": {},
   "outputs": [
    {
     "data": {
      "text/plain": [
       "6.925467610718883e-06"
      ]
     },
     "execution_count": 27,
     "metadata": {},
     "output_type": "execute_result"
    }
   ],
   "source": [
    "rv=stats.chi2(1)\n",
    "1-rv.cdf(y)"
   ]
  },
  {
   "cell_type": "markdown",
   "id": "d3ec60ca",
   "metadata": {},
   "source": [
    "귀무가설을 기각한다. 즉 학과와 성적은 독립이 아니다."
   ]
  },
  {
   "cell_type": "code",
   "execution_count": 28,
   "id": "1e9f4444",
   "metadata": {},
   "outputs": [
    {
     "data": {
      "text/html": [
       "<div>\n",
       "<style scoped>\n",
       "    .dataframe tbody tr th:only-of-type {\n",
       "        vertical-align: middle;\n",
       "    }\n",
       "\n",
       "    .dataframe tbody tr th {\n",
       "        vertical-align: top;\n",
       "    }\n",
       "\n",
       "    .dataframe thead th {\n",
       "        text-align: right;\n",
       "    }\n",
       "</style>\n",
       "<table border=\"1\" class=\"dataframe\">\n",
       "  <thead>\n",
       "    <tr style=\"text-align: right;\">\n",
       "      <th></th>\n",
       "      <th>data</th>\n",
       "    </tr>\n",
       "  </thead>\n",
       "  <tbody>\n",
       "    <tr>\n",
       "      <th>0</th>\n",
       "      <td>3.1</td>\n",
       "    </tr>\n",
       "    <tr>\n",
       "      <th>1</th>\n",
       "      <td>3.3</td>\n",
       "    </tr>\n",
       "    <tr>\n",
       "      <th>2</th>\n",
       "      <td>3.5</td>\n",
       "    </tr>\n",
       "    <tr>\n",
       "      <th>3</th>\n",
       "      <td>3.7</td>\n",
       "    </tr>\n",
       "    <tr>\n",
       "      <th>4</th>\n",
       "      <td>3.9</td>\n",
       "    </tr>\n",
       "    <tr>\n",
       "      <th>5</th>\n",
       "      <td>4.1</td>\n",
       "    </tr>\n",
       "    <tr>\n",
       "      <th>6</th>\n",
       "      <td>4.3</td>\n",
       "    </tr>\n",
       "    <tr>\n",
       "      <th>7</th>\n",
       "      <td>4.4</td>\n",
       "    </tr>\n",
       "    <tr>\n",
       "      <th>8</th>\n",
       "      <td>4.7</td>\n",
       "    </tr>\n",
       "  </tbody>\n",
       "</table>\n",
       "</div>"
      ],
      "text/plain": [
       "   data\n",
       "0   3.1\n",
       "1   3.3\n",
       "2   3.5\n",
       "3   3.7\n",
       "4   3.9\n",
       "5   4.1\n",
       "6   4.3\n",
       "7   4.4\n",
       "8   4.7"
      ]
     },
     "execution_count": 28,
     "metadata": {},
     "output_type": "execute_result"
    }
   ],
   "source": [
    "data=pd.DataFrame({'data':[3.1, 3.3, 3.5, 3.7, 3.9, 4.1, 4.3, 4.4, 4.7]})\n",
    "data"
   ]
  },
  {
   "cell_type": "code",
   "execution_count": 29,
   "id": "0e8389ed",
   "metadata": {},
   "outputs": [
    {
     "data": {
      "text/plain": [
       "3.8888888888888897"
      ]
     },
     "execution_count": 29,
     "metadata": {},
     "output_type": "execute_result"
    }
   ],
   "source": [
    "n=9\n",
    "rv=stats.t(df=n-1)\n",
    "#95%, 0.05, 0.025,0.975\n",
    "s_mean=np.mean(data.data)\n",
    "u_var=np.var(data, ddof=1)\n",
    "s_mean"
   ]
  },
  {
   "cell_type": "code",
   "execution_count": 30,
   "id": "26d80a5f",
   "metadata": {},
   "outputs": [
    {
     "data": {
      "text/plain": [
       "2.306004135033371"
      ]
     },
     "execution_count": 30,
     "metadata": {},
     "output_type": "execute_result"
    }
   ],
   "source": [
    "rv.isf(0.025)"
   ]
  },
  {
   "cell_type": "code",
   "execution_count": 31,
   "id": "c977cff8",
   "metadata": {},
   "outputs": [],
   "source": [
    "lcl=s_mean-2.31*np.sqrt(u_var/n)\n",
    "ucl=s_mean+2.31*np.sqrt(u_var/n)"
   ]
  },
  {
   "cell_type": "code",
   "execution_count": 32,
   "id": "5d7d95ec",
   "metadata": {},
   "outputs": [
    {
     "data": {
      "text/plain": [
       "(data    3.477021\n",
       " dtype: float64,\n",
       " data    4.300757\n",
       " dtype: float64)"
      ]
     },
     "execution_count": 32,
     "metadata": {},
     "output_type": "execute_result"
    }
   ],
   "source": [
    "lcl, ucl"
   ]
  },
  {
   "cell_type": "code",
   "execution_count": 33,
   "id": "439f86d9",
   "metadata": {},
   "outputs": [],
   "source": [
    "A_norm=np.random.normal(5.7, 0.03, size=12)\n",
    "B_norm=np.random.normal(5.6, 0.04, size=12)"
   ]
  },
  {
   "cell_type": "code",
   "execution_count": 34,
   "id": "adf833cf",
   "metadata": {},
   "outputs": [
    {
     "data": {
      "text/plain": [
       "LeveneResult(statistic=0.02945347812910234, pvalue=0.8653049837022033)"
      ]
     },
     "execution_count": 34,
     "metadata": {},
     "output_type": "execute_result"
    }
   ],
   "source": [
    "stats.levene(A_norm, B_norm)"
   ]
  },
  {
   "cell_type": "markdown",
   "id": "111358a3",
   "metadata": {},
   "source": [
    "기각할 수 없다. 즉 equal_var=True"
   ]
  },
  {
   "cell_type": "code",
   "execution_count": 35,
   "id": "aeb2e0e7",
   "metadata": {},
   "outputs": [
    {
     "data": {
      "text/plain": [
       "Ttest_indResult(statistic=6.235292275351575, pvalue=2.8245519878647034e-06)"
      ]
     },
     "execution_count": 35,
     "metadata": {},
     "output_type": "execute_result"
    }
   ],
   "source": [
    "stats.ttest_ind(A_norm, B_norm, equal_var=True)"
   ]
  },
  {
   "cell_type": "markdown",
   "id": "f39640fa",
   "metadata": {},
   "source": [
    "귀무가설을 기각한다. 즉 두 모평균의 사이의 차이는 있다."
   ]
  },
  {
   "cell_type": "markdown",
   "id": "93e537f1",
   "metadata": {},
   "source": [
    "6. 투자안별 투자금과 순 현재가치(NPV)\n",
    "\n",
    "투자금을 1년 50억, 2년 60억, 3년 80억으로 예산을 설정했을때, 최대의 NPV는 얼마고 최적 투자안을 선정하라"
   ]
  },
  {
   "cell_type": "code",
   "execution_count": 52,
   "id": "c767e9a1",
   "metadata": {},
   "outputs": [],
   "source": [
    "from itertools import combinations\n",
    "import pandas as pd\n",
    "\n",
    "investment_df = pd.DataFrame([[23,23,15],\n",
    "                              [15,15,12],\n",
    "                              [17,25,12],\n",
    "                              [16,12,13],\n",
    "                              [24,23,17]],\n",
    "                             index=[1,2,3,4,5], columns=['yr1', 'yr2', 'yr3'])"
   ]
  },
  {
   "cell_type": "code",
   "execution_count": 53,
   "id": "9c17110a",
   "metadata": {},
   "outputs": [
    {
     "data": {
      "text/html": [
       "<div>\n",
       "<style scoped>\n",
       "    .dataframe tbody tr th:only-of-type {\n",
       "        vertical-align: middle;\n",
       "    }\n",
       "\n",
       "    .dataframe tbody tr th {\n",
       "        vertical-align: top;\n",
       "    }\n",
       "\n",
       "    .dataframe thead th {\n",
       "        text-align: right;\n",
       "    }\n",
       "</style>\n",
       "<table border=\"1\" class=\"dataframe\">\n",
       "  <thead>\n",
       "    <tr style=\"text-align: right;\">\n",
       "      <th></th>\n",
       "      <th>yr1</th>\n",
       "      <th>yr2</th>\n",
       "      <th>yr3</th>\n",
       "    </tr>\n",
       "  </thead>\n",
       "  <tbody>\n",
       "    <tr>\n",
       "      <th>1</th>\n",
       "      <td>23</td>\n",
       "      <td>23</td>\n",
       "      <td>15</td>\n",
       "    </tr>\n",
       "    <tr>\n",
       "      <th>2</th>\n",
       "      <td>15</td>\n",
       "      <td>15</td>\n",
       "      <td>12</td>\n",
       "    </tr>\n",
       "    <tr>\n",
       "      <th>3</th>\n",
       "      <td>17</td>\n",
       "      <td>25</td>\n",
       "      <td>12</td>\n",
       "    </tr>\n",
       "    <tr>\n",
       "      <th>4</th>\n",
       "      <td>16</td>\n",
       "      <td>12</td>\n",
       "      <td>13</td>\n",
       "    </tr>\n",
       "    <tr>\n",
       "      <th>5</th>\n",
       "      <td>24</td>\n",
       "      <td>23</td>\n",
       "      <td>17</td>\n",
       "    </tr>\n",
       "  </tbody>\n",
       "</table>\n",
       "</div>"
      ],
      "text/plain": [
       "   yr1  yr2  yr3\n",
       "1   23   23   15\n",
       "2   15   15   12\n",
       "3   17   25   12\n",
       "4   16   12   13\n",
       "5   24   23   17"
      ]
     },
     "execution_count": 53,
     "metadata": {},
     "output_type": "execute_result"
    }
   ],
   "source": [
    "investment_df"
   ]
  },
  {
   "cell_type": "code",
   "execution_count": 54,
   "id": "3b5bcae3",
   "metadata": {},
   "outputs": [],
   "source": [
    "items = [1,2,3,4,5]\n",
    "combination_list = list(combinations(items, 2)) + list(combinations(items,3))\n",
    "result_df = pd.DataFrame()"
   ]
  },
  {
   "cell_type": "code",
   "execution_count": 55,
   "id": "5bfc9e30",
   "metadata": {},
   "outputs": [],
   "source": [
    "for c in combination_list:\n",
    "    temp_df = pd.DataFrame()\n",
    "    \n",
    "    for item in items:\n",
    "        if item in c:\n",
    "            temp_df = pd.concat([temp_df, investment_df.loc[item]], axis=1)\n",
    "            \n",
    "    result_df = pd.concat([result_df, temp_df.sum(axis=1)], axis=1)\n",
    "    \n",
    "result_df.columns = combination_list"
   ]
  },
  {
   "cell_type": "code",
   "execution_count": 61,
   "id": "50f61025",
   "metadata": {},
   "outputs": [
    {
     "data": {
      "text/html": [
       "<div>\n",
       "<style scoped>\n",
       "    .dataframe tbody tr th:only-of-type {\n",
       "        vertical-align: middle;\n",
       "    }\n",
       "\n",
       "    .dataframe tbody tr th {\n",
       "        vertical-align: top;\n",
       "    }\n",
       "\n",
       "    .dataframe thead th {\n",
       "        text-align: right;\n",
       "    }\n",
       "</style>\n",
       "<table border=\"1\" class=\"dataframe\">\n",
       "  <thead>\n",
       "    <tr style=\"text-align: right;\">\n",
       "      <th></th>\n",
       "      <th>3</th>\n",
       "      <th>4</th>\n",
       "      <th>5</th>\n",
       "    </tr>\n",
       "  </thead>\n",
       "  <tbody>\n",
       "    <tr>\n",
       "      <th>yr1</th>\n",
       "      <td>17</td>\n",
       "      <td>16</td>\n",
       "      <td>24</td>\n",
       "    </tr>\n",
       "    <tr>\n",
       "      <th>yr2</th>\n",
       "      <td>25</td>\n",
       "      <td>12</td>\n",
       "      <td>23</td>\n",
       "    </tr>\n",
       "    <tr>\n",
       "      <th>yr3</th>\n",
       "      <td>12</td>\n",
       "      <td>13</td>\n",
       "      <td>17</td>\n",
       "    </tr>\n",
       "  </tbody>\n",
       "</table>\n",
       "</div>"
      ],
      "text/plain": [
       "      3   4   5\n",
       "yr1  17  16  24\n",
       "yr2  25  12  23\n",
       "yr3  12  13  17"
      ]
     },
     "execution_count": 61,
     "metadata": {},
     "output_type": "execute_result"
    }
   ],
   "source": [
    "temp_df"
   ]
  },
  {
   "cell_type": "code",
   "execution_count": 57,
   "id": "375dec79",
   "metadata": {},
   "outputs": [
    {
     "data": {
      "text/html": [
       "<div>\n",
       "<style scoped>\n",
       "    .dataframe tbody tr th:only-of-type {\n",
       "        vertical-align: middle;\n",
       "    }\n",
       "\n",
       "    .dataframe tbody tr th {\n",
       "        vertical-align: top;\n",
       "    }\n",
       "\n",
       "    .dataframe thead th {\n",
       "        text-align: right;\n",
       "    }\n",
       "</style>\n",
       "<table border=\"1\" class=\"dataframe\">\n",
       "  <thead>\n",
       "    <tr style=\"text-align: right;\">\n",
       "      <th></th>\n",
       "      <th>yr1</th>\n",
       "      <th>yr2</th>\n",
       "      <th>yr3</th>\n",
       "    </tr>\n",
       "  </thead>\n",
       "  <tbody>\n",
       "    <tr>\n",
       "      <th>(1, 2)</th>\n",
       "      <td>38</td>\n",
       "      <td>38</td>\n",
       "      <td>27</td>\n",
       "    </tr>\n",
       "    <tr>\n",
       "      <th>(1, 3)</th>\n",
       "      <td>40</td>\n",
       "      <td>48</td>\n",
       "      <td>27</td>\n",
       "    </tr>\n",
       "    <tr>\n",
       "      <th>(1, 4)</th>\n",
       "      <td>39</td>\n",
       "      <td>35</td>\n",
       "      <td>28</td>\n",
       "    </tr>\n",
       "    <tr>\n",
       "      <th>(1, 5)</th>\n",
       "      <td>47</td>\n",
       "      <td>46</td>\n",
       "      <td>32</td>\n",
       "    </tr>\n",
       "    <tr>\n",
       "      <th>(2, 3)</th>\n",
       "      <td>32</td>\n",
       "      <td>40</td>\n",
       "      <td>24</td>\n",
       "    </tr>\n",
       "    <tr>\n",
       "      <th>(2, 4)</th>\n",
       "      <td>31</td>\n",
       "      <td>27</td>\n",
       "      <td>25</td>\n",
       "    </tr>\n",
       "    <tr>\n",
       "      <th>(2, 5)</th>\n",
       "      <td>39</td>\n",
       "      <td>38</td>\n",
       "      <td>29</td>\n",
       "    </tr>\n",
       "    <tr>\n",
       "      <th>(3, 4)</th>\n",
       "      <td>33</td>\n",
       "      <td>37</td>\n",
       "      <td>25</td>\n",
       "    </tr>\n",
       "    <tr>\n",
       "      <th>(3, 5)</th>\n",
       "      <td>41</td>\n",
       "      <td>48</td>\n",
       "      <td>29</td>\n",
       "    </tr>\n",
       "    <tr>\n",
       "      <th>(4, 5)</th>\n",
       "      <td>40</td>\n",
       "      <td>35</td>\n",
       "      <td>30</td>\n",
       "    </tr>\n",
       "    <tr>\n",
       "      <th>(1, 2, 3)</th>\n",
       "      <td>55</td>\n",
       "      <td>63</td>\n",
       "      <td>39</td>\n",
       "    </tr>\n",
       "    <tr>\n",
       "      <th>(1, 2, 4)</th>\n",
       "      <td>54</td>\n",
       "      <td>50</td>\n",
       "      <td>40</td>\n",
       "    </tr>\n",
       "    <tr>\n",
       "      <th>(1, 2, 5)</th>\n",
       "      <td>62</td>\n",
       "      <td>61</td>\n",
       "      <td>44</td>\n",
       "    </tr>\n",
       "    <tr>\n",
       "      <th>(1, 3, 4)</th>\n",
       "      <td>56</td>\n",
       "      <td>60</td>\n",
       "      <td>40</td>\n",
       "    </tr>\n",
       "    <tr>\n",
       "      <th>(1, 3, 5)</th>\n",
       "      <td>64</td>\n",
       "      <td>71</td>\n",
       "      <td>44</td>\n",
       "    </tr>\n",
       "    <tr>\n",
       "      <th>(1, 4, 5)</th>\n",
       "      <td>63</td>\n",
       "      <td>58</td>\n",
       "      <td>45</td>\n",
       "    </tr>\n",
       "    <tr>\n",
       "      <th>(2, 3, 4)</th>\n",
       "      <td>48</td>\n",
       "      <td>52</td>\n",
       "      <td>37</td>\n",
       "    </tr>\n",
       "    <tr>\n",
       "      <th>(2, 3, 5)</th>\n",
       "      <td>56</td>\n",
       "      <td>63</td>\n",
       "      <td>41</td>\n",
       "    </tr>\n",
       "    <tr>\n",
       "      <th>(2, 4, 5)</th>\n",
       "      <td>55</td>\n",
       "      <td>50</td>\n",
       "      <td>42</td>\n",
       "    </tr>\n",
       "    <tr>\n",
       "      <th>(3, 4, 5)</th>\n",
       "      <td>57</td>\n",
       "      <td>60</td>\n",
       "      <td>42</td>\n",
       "    </tr>\n",
       "  </tbody>\n",
       "</table>\n",
       "</div>"
      ],
      "text/plain": [
       "           yr1  yr2  yr3\n",
       "(1, 2)      38   38   27\n",
       "(1, 3)      40   48   27\n",
       "(1, 4)      39   35   28\n",
       "(1, 5)      47   46   32\n",
       "(2, 3)      32   40   24\n",
       "(2, 4)      31   27   25\n",
       "(2, 5)      39   38   29\n",
       "(3, 4)      33   37   25\n",
       "(3, 5)      41   48   29\n",
       "(4, 5)      40   35   30\n",
       "(1, 2, 3)   55   63   39\n",
       "(1, 2, 4)   54   50   40\n",
       "(1, 2, 5)   62   61   44\n",
       "(1, 3, 4)   56   60   40\n",
       "(1, 3, 5)   64   71   44\n",
       "(1, 4, 5)   63   58   45\n",
       "(2, 3, 4)   48   52   37\n",
       "(2, 3, 5)   56   63   41\n",
       "(2, 4, 5)   55   50   42\n",
       "(3, 4, 5)   57   60   42"
      ]
     },
     "execution_count": 57,
     "metadata": {},
     "output_type": "execute_result"
    }
   ],
   "source": [
    "df_t = result_df.T\n",
    "df_t"
   ]
  },
  {
   "cell_type": "code",
   "execution_count": 58,
   "id": "7f25c979",
   "metadata": {},
   "outputs": [
    {
     "data": {
      "text/html": [
       "<div>\n",
       "<style scoped>\n",
       "    .dataframe tbody tr th:only-of-type {\n",
       "        vertical-align: middle;\n",
       "    }\n",
       "\n",
       "    .dataframe tbody tr th {\n",
       "        vertical-align: top;\n",
       "    }\n",
       "\n",
       "    .dataframe thead th {\n",
       "        text-align: right;\n",
       "    }\n",
       "</style>\n",
       "<table border=\"1\" class=\"dataframe\">\n",
       "  <thead>\n",
       "    <tr style=\"text-align: right;\">\n",
       "      <th></th>\n",
       "      <th>yr1</th>\n",
       "      <th>yr2</th>\n",
       "      <th>yr3</th>\n",
       "    </tr>\n",
       "  </thead>\n",
       "  <tbody>\n",
       "    <tr>\n",
       "      <th>(1, 2)</th>\n",
       "      <td>38</td>\n",
       "      <td>38</td>\n",
       "      <td>27</td>\n",
       "    </tr>\n",
       "    <tr>\n",
       "      <th>(1, 3)</th>\n",
       "      <td>40</td>\n",
       "      <td>48</td>\n",
       "      <td>27</td>\n",
       "    </tr>\n",
       "    <tr>\n",
       "      <th>(1, 4)</th>\n",
       "      <td>39</td>\n",
       "      <td>35</td>\n",
       "      <td>28</td>\n",
       "    </tr>\n",
       "    <tr>\n",
       "      <th>(1, 5)</th>\n",
       "      <td>47</td>\n",
       "      <td>46</td>\n",
       "      <td>32</td>\n",
       "    </tr>\n",
       "    <tr>\n",
       "      <th>(2, 3)</th>\n",
       "      <td>32</td>\n",
       "      <td>40</td>\n",
       "      <td>24</td>\n",
       "    </tr>\n",
       "    <tr>\n",
       "      <th>(2, 4)</th>\n",
       "      <td>31</td>\n",
       "      <td>27</td>\n",
       "      <td>25</td>\n",
       "    </tr>\n",
       "    <tr>\n",
       "      <th>(2, 5)</th>\n",
       "      <td>39</td>\n",
       "      <td>38</td>\n",
       "      <td>29</td>\n",
       "    </tr>\n",
       "    <tr>\n",
       "      <th>(3, 4)</th>\n",
       "      <td>33</td>\n",
       "      <td>37</td>\n",
       "      <td>25</td>\n",
       "    </tr>\n",
       "    <tr>\n",
       "      <th>(3, 5)</th>\n",
       "      <td>41</td>\n",
       "      <td>48</td>\n",
       "      <td>29</td>\n",
       "    </tr>\n",
       "    <tr>\n",
       "      <th>(4, 5)</th>\n",
       "      <td>40</td>\n",
       "      <td>35</td>\n",
       "      <td>30</td>\n",
       "    </tr>\n",
       "    <tr>\n",
       "      <th>(2, 3, 4)</th>\n",
       "      <td>48</td>\n",
       "      <td>52</td>\n",
       "      <td>37</td>\n",
       "    </tr>\n",
       "  </tbody>\n",
       "</table>\n",
       "</div>"
      ],
      "text/plain": [
       "           yr1  yr2  yr3\n",
       "(1, 2)      38   38   27\n",
       "(1, 3)      40   48   27\n",
       "(1, 4)      39   35   28\n",
       "(1, 5)      47   46   32\n",
       "(2, 3)      32   40   24\n",
       "(2, 4)      31   27   25\n",
       "(2, 5)      39   38   29\n",
       "(3, 4)      33   37   25\n",
       "(3, 5)      41   48   29\n",
       "(4, 5)      40   35   30\n",
       "(2, 3, 4)   48   52   37"
      ]
     },
     "execution_count": 58,
     "metadata": {},
     "output_type": "execute_result"
    }
   ],
   "source": [
    "df_t = df_t[(df_t['yr1'] < 50) & (df_t['yr2'] < 60) & (df_t['yr3'] < 70)]\n",
    "df_t"
   ]
  },
  {
   "cell_type": "code",
   "execution_count": 59,
   "id": "133d5ccc",
   "metadata": {},
   "outputs": [
    {
     "name": "stderr",
     "output_type": "stream",
     "text": [
      "C:\\Users\\taeeu\\anaconda3\\lib\\site-packages\\pandas\\core\\frame.py:3607: SettingWithCopyWarning: \n",
      "A value is trying to be set on a copy of a slice from a DataFrame.\n",
      "Try using .loc[row_indexer,col_indexer] = value instead\n",
      "\n",
      "See the caveats in the documentation: https://pandas.pydata.org/pandas-docs/stable/user_guide/indexing.html#returning-a-view-versus-a-copy\n",
      "  self._set_item(key, value)\n"
     ]
    },
    {
     "data": {
      "text/html": [
       "<div>\n",
       "<style scoped>\n",
       "    .dataframe tbody tr th:only-of-type {\n",
       "        vertical-align: middle;\n",
       "    }\n",
       "\n",
       "    .dataframe tbody tr th {\n",
       "        vertical-align: top;\n",
       "    }\n",
       "\n",
       "    .dataframe thead th {\n",
       "        text-align: right;\n",
       "    }\n",
       "</style>\n",
       "<table border=\"1\" class=\"dataframe\">\n",
       "  <thead>\n",
       "    <tr style=\"text-align: right;\">\n",
       "      <th></th>\n",
       "      <th>yr1</th>\n",
       "      <th>yr2</th>\n",
       "      <th>yr3</th>\n",
       "      <th>total</th>\n",
       "    </tr>\n",
       "  </thead>\n",
       "  <tbody>\n",
       "    <tr>\n",
       "      <th>(2, 3, 4)</th>\n",
       "      <td>48</td>\n",
       "      <td>52</td>\n",
       "      <td>37</td>\n",
       "      <td>137</td>\n",
       "    </tr>\n",
       "    <tr>\n",
       "      <th>(1, 5)</th>\n",
       "      <td>47</td>\n",
       "      <td>46</td>\n",
       "      <td>32</td>\n",
       "      <td>125</td>\n",
       "    </tr>\n",
       "    <tr>\n",
       "      <th>(3, 5)</th>\n",
       "      <td>41</td>\n",
       "      <td>48</td>\n",
       "      <td>29</td>\n",
       "      <td>118</td>\n",
       "    </tr>\n",
       "    <tr>\n",
       "      <th>(1, 3)</th>\n",
       "      <td>40</td>\n",
       "      <td>48</td>\n",
       "      <td>27</td>\n",
       "      <td>115</td>\n",
       "    </tr>\n",
       "    <tr>\n",
       "      <th>(2, 5)</th>\n",
       "      <td>39</td>\n",
       "      <td>38</td>\n",
       "      <td>29</td>\n",
       "      <td>106</td>\n",
       "    </tr>\n",
       "    <tr>\n",
       "      <th>(4, 5)</th>\n",
       "      <td>40</td>\n",
       "      <td>35</td>\n",
       "      <td>30</td>\n",
       "      <td>105</td>\n",
       "    </tr>\n",
       "    <tr>\n",
       "      <th>(1, 2)</th>\n",
       "      <td>38</td>\n",
       "      <td>38</td>\n",
       "      <td>27</td>\n",
       "      <td>103</td>\n",
       "    </tr>\n",
       "    <tr>\n",
       "      <th>(1, 4)</th>\n",
       "      <td>39</td>\n",
       "      <td>35</td>\n",
       "      <td>28</td>\n",
       "      <td>102</td>\n",
       "    </tr>\n",
       "    <tr>\n",
       "      <th>(2, 3)</th>\n",
       "      <td>32</td>\n",
       "      <td>40</td>\n",
       "      <td>24</td>\n",
       "      <td>96</td>\n",
       "    </tr>\n",
       "    <tr>\n",
       "      <th>(3, 4)</th>\n",
       "      <td>33</td>\n",
       "      <td>37</td>\n",
       "      <td>25</td>\n",
       "      <td>95</td>\n",
       "    </tr>\n",
       "    <tr>\n",
       "      <th>(2, 4)</th>\n",
       "      <td>31</td>\n",
       "      <td>27</td>\n",
       "      <td>25</td>\n",
       "      <td>83</td>\n",
       "    </tr>\n",
       "  </tbody>\n",
       "</table>\n",
       "</div>"
      ],
      "text/plain": [
       "           yr1  yr2  yr3  total\n",
       "(2, 3, 4)   48   52   37    137\n",
       "(1, 5)      47   46   32    125\n",
       "(3, 5)      41   48   29    118\n",
       "(1, 3)      40   48   27    115\n",
       "(2, 5)      39   38   29    106\n",
       "(4, 5)      40   35   30    105\n",
       "(1, 2)      38   38   27    103\n",
       "(1, 4)      39   35   28    102\n",
       "(2, 3)      32   40   24     96\n",
       "(3, 4)      33   37   25     95\n",
       "(2, 4)      31   27   25     83"
      ]
     },
     "execution_count": 59,
     "metadata": {},
     "output_type": "execute_result"
    }
   ],
   "source": [
    "df_t['total'] = df_t.sum(axis=1)\n",
    "df_t.sort_values(by='total', ascending=False)"
   ]
  },
  {
   "cell_type": "code",
   "execution_count": 74,
   "id": "5fce4f5f",
   "metadata": {},
   "outputs": [],
   "source": [
    "investment_df.loc[[1,2]]\n",
    "temp_df = pd.DataFrame()"
   ]
  },
  {
   "cell_type": "code",
   "execution_count": 75,
   "id": "1eb7dced",
   "metadata": {},
   "outputs": [
    {
     "data": {
      "text/html": [
       "<div>\n",
       "<style scoped>\n",
       "    .dataframe tbody tr th:only-of-type {\n",
       "        vertical-align: middle;\n",
       "    }\n",
       "\n",
       "    .dataframe tbody tr th {\n",
       "        vertical-align: top;\n",
       "    }\n",
       "\n",
       "    .dataframe thead th {\n",
       "        text-align: right;\n",
       "    }\n",
       "</style>\n",
       "<table border=\"1\" class=\"dataframe\">\n",
       "  <thead>\n",
       "    <tr style=\"text-align: right;\">\n",
       "      <th></th>\n",
       "      <th>yr1</th>\n",
       "      <th>yr2</th>\n",
       "      <th>yr3</th>\n",
       "    </tr>\n",
       "  </thead>\n",
       "  <tbody>\n",
       "    <tr>\n",
       "      <th>1</th>\n",
       "      <td>23</td>\n",
       "      <td>23</td>\n",
       "      <td>15</td>\n",
       "    </tr>\n",
       "    <tr>\n",
       "      <th>2</th>\n",
       "      <td>15</td>\n",
       "      <td>15</td>\n",
       "      <td>12</td>\n",
       "    </tr>\n",
       "  </tbody>\n",
       "</table>\n",
       "</div>"
      ],
      "text/plain": [
       "   yr1  yr2  yr3\n",
       "1   23   23   15\n",
       "2   15   15   12"
      ]
     },
     "execution_count": 75,
     "metadata": {},
     "output_type": "execute_result"
    }
   ],
   "source": [
    "temp_df=pd.concat([temp_df, investment_df.loc[[1,2]]], axis=1)\n",
    "temp_df"
   ]
  },
  {
   "cell_type": "code",
   "execution_count": 76,
   "id": "2d290cea",
   "metadata": {},
   "outputs": [
    {
     "data": {
      "text/plain": [
       "1    61\n",
       "2    42\n",
       "dtype: int64"
      ]
     },
     "execution_count": 76,
     "metadata": {},
     "output_type": "execute_result"
    }
   ],
   "source": [
    "temp_df.sum(axis=1)"
   ]
  },
  {
   "cell_type": "code",
   "execution_count": null,
   "id": "2cd55ce1",
   "metadata": {},
   "outputs": [],
   "source": []
  },
  {
   "cell_type": "code",
   "execution_count": null,
   "id": "c12a7553",
   "metadata": {},
   "outputs": [],
   "source": []
  }
 ],
 "metadata": {
  "kernelspec": {
   "display_name": "Python 3 (ipykernel)",
   "language": "python",
   "name": "python3"
  },
  "language_info": {
   "codemirror_mode": {
    "name": "ipython",
    "version": 3
   },
   "file_extension": ".py",
   "mimetype": "text/x-python",
   "name": "python",
   "nbconvert_exporter": "python",
   "pygments_lexer": "ipython3",
   "version": "3.8.5"
  }
 },
 "nbformat": 4,
 "nbformat_minor": 5
}
