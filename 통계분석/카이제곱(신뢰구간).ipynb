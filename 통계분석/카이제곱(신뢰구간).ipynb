{
 "cells": [
  {
   "cell_type": "markdown",
   "id": "11a37757",
   "metadata": {},
   "source": [
    "1. 어느 회사에서 생산하는 제품의 모분산을 추리하기 위하여, 표본 10개를 뽑았더니 표본분산은 6.42가 나왔다고 한다. 이때 제품의 모분산에 대한 90%의 신뢰구간을 구하시오."
   ]
  },
  {
   "cell_type": "code",
   "execution_count": 1,
   "id": "7845bbee",
   "metadata": {},
   "outputs": [],
   "source": [
    "from scipy.stats import chi2\n",
    "import numpy as np\n",
    "import pandas as pd"
   ]
  },
  {
   "cell_type": "code",
   "execution_count": 2,
   "id": "bb83c3d2",
   "metadata": {},
   "outputs": [],
   "source": [
    "#자유도\n",
    "df=10-1\n",
    "#분산\n",
    "var=6.42\n",
    "#chi(자유도)\n",
    "chi_=chi2(df)\n",
    "#t값\n",
    "t_05=chi_.ppf(0.05)\n",
    "t_95=chi_.ppf(0.95)"
   ]
  },
  {
   "cell_type": "code",
   "execution_count": 3,
   "id": "e66fd12f",
   "metadata": {},
   "outputs": [
    {
     "data": {
      "text/plain": [
       "3.325112843066815"
      ]
     },
     "execution_count": 3,
     "metadata": {},
     "output_type": "execute_result"
    }
   ],
   "source": [
    "t_05"
   ]
  },
  {
   "cell_type": "code",
   "execution_count": 4,
   "id": "93cd3e7c",
   "metadata": {},
   "outputs": [
    {
     "data": {
      "text/plain": [
       "16.918977604620448"
      ]
     },
     "execution_count": 4,
     "metadata": {},
     "output_type": "execute_result"
    }
   ],
   "source": [
    "t_95"
   ]
  },
  {
   "cell_type": "code",
   "execution_count": 5,
   "id": "9ef0d1cf",
   "metadata": {},
   "outputs": [],
   "source": [
    "L_= round(((df*var)/t_95),5)\n",
    "U_= round(((df*var)/t_05),5)"
   ]
  },
  {
   "cell_type": "code",
   "execution_count": 6,
   "id": "ffd7a86c",
   "metadata": {},
   "outputs": [
    {
     "name": "stdout",
     "output_type": "stream",
     "text": [
      "3.4151 < 모분산 < 17.37685\n"
     ]
    }
   ],
   "source": [
    "print(L_, \"< 모분산 <\", U_) ## 결과:4.78 < 9 < 13.62"
   ]
  },
  {
   "cell_type": "markdown",
   "id": "0c347e4e",
   "metadata": {},
   "source": [
    "2. 어느 제약회사에서 새롭게 출시하려는 알약의 효능을 테스트하고 있다. 그래서 임상실험을 통해 표본 13개를 뽑았더니 표준편차는 3.2가 나왔다고 한다. 이때 알약의 모분산에 대한 95% 신뢰구간을 구하시오."
   ]
  },
  {
   "cell_type": "code",
   "execution_count": 7,
   "id": "5e454c4f",
   "metadata": {},
   "outputs": [],
   "source": [
    "#자유도\n",
    "df=13-1\n",
    "#표준편차\n",
    "std=3.2\n",
    "#chi(자유도)\n",
    "chi_=chi2(df)\n",
    "#t값\n",
    "t_025=chi_.ppf(0.025)\n",
    "t_975=chi_.ppf(0.975)"
   ]
  },
  {
   "cell_type": "code",
   "execution_count": 8,
   "id": "cc1ad93d",
   "metadata": {},
   "outputs": [
    {
     "data": {
      "text/plain": [
       "4.4037885069817015"
      ]
     },
     "execution_count": 8,
     "metadata": {},
     "output_type": "execute_result"
    }
   ],
   "source": [
    "t_025"
   ]
  },
  {
   "cell_type": "code",
   "execution_count": 9,
   "id": "8507ab66",
   "metadata": {},
   "outputs": [
    {
     "data": {
      "text/plain": [
       "23.33666415864534"
      ]
     },
     "execution_count": 9,
     "metadata": {},
     "output_type": "execute_result"
    }
   ],
   "source": [
    "t_975"
   ]
  },
  {
   "cell_type": "code",
   "execution_count": 10,
   "id": "5a9c738d",
   "metadata": {},
   "outputs": [],
   "source": [
    "L_= round(((df*std**2)/t_975),5)\n",
    "U_= round(((df*std**2)/t_025),5)"
   ]
  },
  {
   "cell_type": "code",
   "execution_count": 11,
   "id": "e279df99",
   "metadata": {},
   "outputs": [
    {
     "name": "stdout",
     "output_type": "stream",
     "text": [
      "5.26553 < 모분산 < 27.90325\n"
     ]
    }
   ],
   "source": [
    "print(L_, \"< 모분산 <\", U_)"
   ]
  },
  {
   "cell_type": "markdown",
   "id": "6308c1ac",
   "metadata": {},
   "source": [
    "3. 어느 자동차 타이어를 생산하는 회사에서 불량률을 줄이기 위하여, 타이어의 모분산을 추정한다고 한다. 그래서 표본으로 타이어 15개를 뽑았더니 표본분산은 7.5가 나왔다. 이때 타이어의 모분산에 대한 99%의 신뢰구간을 추정하시오."
   ]
  },
  {
   "cell_type": "code",
   "execution_count": 12,
   "id": "0b76da12",
   "metadata": {},
   "outputs": [],
   "source": [
    "#자유도\n",
    "df=15-1\n",
    "#분산\n",
    "var=7.5\n",
    "#chi(자유도)\n",
    "chi_=chi2(df)\n",
    "#t값\n",
    "t_005=chi_.ppf(0.005)\n",
    "t_995=chi_.ppf(0.995)"
   ]
  },
  {
   "cell_type": "code",
   "execution_count": 13,
   "id": "39eaf5c3",
   "metadata": {},
   "outputs": [],
   "source": [
    "L_= round(((df*var)/t_995),5)\n",
    "U_= round(((df*var)/t_005),5)"
   ]
  },
  {
   "cell_type": "code",
   "execution_count": 14,
   "id": "2f958e39",
   "metadata": {},
   "outputs": [
    {
     "name": "stdout",
     "output_type": "stream",
     "text": [
      "3.35256 < 모분산 < 25.76893\n"
     ]
    }
   ],
   "source": [
    "print(L_, \"< 모분산 <\", U_)"
   ]
  },
  {
   "cell_type": "markdown",
   "id": "a9ffe706",
   "metadata": {},
   "source": [
    "- ADP실기 25회 기출 : 향수 20개 추출, 지속시간의 분산 90**2, 향수의 분산 90% 신뢰구간을 구하라."
   ]
  },
  {
   "cell_type": "code",
   "execution_count": 18,
   "id": "b6354e47",
   "metadata": {},
   "outputs": [],
   "source": [
    "#자유도\n",
    "df=20-1\n",
    "#분산\n",
    "var=90**2\n",
    "#chi(자유도)\n",
    "chi_=chi2(df)\n",
    "#t값\n",
    "t_05=chi_.ppf(0.05)\n",
    "t_95=chi_.ppf(0.95)"
   ]
  },
  {
   "cell_type": "code",
   "execution_count": 19,
   "id": "accbf30e",
   "metadata": {},
   "outputs": [],
   "source": [
    "L_= round(((df*var)/t_95),5)\n",
    "U_= round(((df*var)/t_05),5)"
   ]
  },
  {
   "cell_type": "code",
   "execution_count": 20,
   "id": "8ff5d9f4",
   "metadata": {},
   "outputs": [
    {
     "name": "stdout",
     "output_type": "stream",
     "text": [
      "5105.57371 < 모분산 < 15211.99973\n"
     ]
    }
   ],
   "source": [
    "print(L_, \"< 모분산 <\", U_)"
   ]
  }
 ],
 "metadata": {
  "kernelspec": {
   "display_name": "Python 3 (ipykernel)",
   "language": "python",
   "name": "python3"
  },
  "language_info": {
   "codemirror_mode": {
    "name": "ipython",
    "version": 3
   },
   "file_extension": ".py",
   "mimetype": "text/x-python",
   "name": "python",
   "nbconvert_exporter": "python",
   "pygments_lexer": "ipython3",
   "version": "3.9.7"
  }
 },
 "nbformat": 4,
 "nbformat_minor": 5
}
