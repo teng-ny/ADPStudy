{
 "cells": [
  {
   "cell_type": "code",
   "execution_count": 2,
   "id": "0785c0b5",
   "metadata": {},
   "outputs": [
    {
     "data": {
      "text/plain": [
       "array([122.02, 131.73, 130.6 , 131.82, 132.05, 126.12, 124.43, 132.89,\n",
       "       122.79, 129.95, 126.14, 134.45, 127.64, 125.68])"
      ]
     },
     "execution_count": 2,
     "metadata": {},
     "output_type": "execute_result"
    }
   ],
   "source": [
    "import pandas as pd\n",
    "import numpy as np\n",
    "df=pd.read_csv('ch11_potato.csv')\n",
    "sample=np.array(df['무게'])\n",
    "sample"
   ]
  },
  {
   "cell_type": "markdown",
   "id": "90cd502b",
   "metadata": {},
   "source": [
    "## 1. 일표본 T검정(one sample t-test)"
   ]
  },
  {
   "cell_type": "markdown",
   "id": "1db003f9",
   "metadata": {},
   "source": [
    "- 정규성 검정"
   ]
  },
  {
   "cell_type": "code",
   "execution_count": 4,
   "id": "be9815b8",
   "metadata": {},
   "outputs": [
    {
     "data": {
      "text/plain": [
       "ShapiroResult(statistic=0.9412715435028076, pvalue=0.43486055731773376)"
      ]
     },
     "execution_count": 4,
     "metadata": {},
     "output_type": "execute_result"
    }
   ],
   "source": [
    "import scipy.stats as stats\n",
    "from scipy.stats import shapiro\n",
    "shapiro(sample)"
   ]
  },
  {
   "cell_type": "markdown",
   "id": "bbeb1b59",
   "metadata": {},
   "source": [
    "0.05보다 크므로 귀무가설을 기각할 수 없다."
   ]
  },
  {
   "cell_type": "markdown",
   "id": "3c8f63ad",
   "metadata": {},
   "source": [
    "- 정규성검정->기각x(정규분포따를때) : 모분산 알고있을 경우(z분포)\n",
    "\n",
    "H0 : 감자튀김 모평균은 130g\n",
    "\n",
    "H1 : 감자튀김 모평균은 130g이 아니다.\n",
    "\n",
    "모분산은 9라고 알려져있다."
   ]
  },
  {
   "cell_type": "code",
   "execution_count": 14,
   "id": "2e6b6778",
   "metadata": {},
   "outputs": [
    {
     "data": {
      "text/plain": [
       "0.05332263904625327"
      ]
     },
     "execution_count": 14,
     "metadata": {},
     "output_type": "execute_result"
    }
   ],
   "source": [
    "mean0=130\n",
    "p_var=9\n",
    "s_mean=np.mean(sample)\n",
    "rv=stats.norm()\n",
    "#검정통계량\n",
    "z=(s_mean-mean0)/np.sqrt(p_var/n)\n",
    "z\n",
    "#z는 음수\n",
    "#z>0 : p=(1-rv.cdf(z))*2\n",
    "p=rv.cdf(z)*2\n",
    "p"
   ]
  },
  {
   "cell_type": "markdown",
   "id": "e46ada16",
   "metadata": {},
   "source": [
    "귀무가설을 기각할 수 없다. 감자튀김의 모평균은 130g이라고 할 수 있다."
   ]
  },
  {
   "cell_type": "markdown",
   "id": "ff4246c0",
   "metadata": {},
   "source": [
    "- 정규성검정->기각x(정규분포따를때) : 모분산 모를경우(t분포)\n",
    "\n",
    "H0 : 감자튀김 모평균은 130g\n",
    "\n",
    "H1 : 감자튀김 모평균은 130g이 아니다.\n",
    "\n",
    "모분산은 9라고 알려져있다."
   ]
  },
  {
   "cell_type": "code",
   "execution_count": 20,
   "id": "7478637d",
   "metadata": {},
   "outputs": [
    {
     "data": {
      "text/plain": [
       "0.16933464230414275"
      ]
     },
     "execution_count": 20,
     "metadata": {},
     "output_type": "execute_result"
    }
   ],
   "source": [
    "mean0=130\n",
    "s_mean=np.mean(sample)\n",
    "u_var=np.var(sample, ddof=1)\n",
    "n=len(sample)\n",
    "rv=stats.t(df=n-1)\n",
    "#검정통계량\n",
    "t=(s_mean-mean0)/np.sqrt(u_var/n)\n",
    "t\n",
    "#t는 음수\n",
    "#t>0 : p=(1-rv.cdf(t))*2\n",
    "p=rv.cdf(t)*2\n",
    "p"
   ]
  },
  {
   "cell_type": "markdown",
   "id": "7934755c",
   "metadata": {},
   "source": [
    "귀무가설을 기각할 수 없다. 감자튀김의 모평균은 130g이라고 할 수 없다."
   ]
  },
  {
   "cell_type": "markdown",
   "id": "d565942f",
   "metadata": {},
   "source": [
    "- 정규성검정->기각o(정규분포따르지 않을때) : 윌콕슨 부호순위 검정\n",
    "\n",
    "H0 : 감자튀김 모평균은 130g\n",
    "\n",
    "H1 : 감자튀김 모평균은 130g이 아니다."
   ]
  },
  {
   "cell_type": "code",
   "execution_count": 21,
   "id": "f491e978",
   "metadata": {},
   "outputs": [
    {
     "data": {
      "text/plain": [
       "WilcoxonResult(statistic=32.0, pvalue=0.216552734375)"
      ]
     },
     "execution_count": 21,
     "metadata": {},
     "output_type": "execute_result"
    }
   ],
   "source": [
    "mean0=130\n",
    "stats.wilcoxon(sample-mean0, alternative='two-sided')"
   ]
  },
  {
   "cell_type": "markdown",
   "id": "6ba20ed6",
   "metadata": {},
   "source": [
    "귀무가설을 기각할 수 없다. 감자튀김의 모평균은 130g이라고 할 수 없다."
   ]
  },
  {
   "cell_type": "markdown",
   "id": "abb9d0ed",
   "metadata": {},
   "source": [
    "<쉽게 구하는 방법>"
   ]
  },
  {
   "cell_type": "code",
   "execution_count": 24,
   "id": "dc257da4",
   "metadata": {},
   "outputs": [
    {
     "data": {
      "text/plain": [
       "0.16933464230414275"
      ]
     },
     "execution_count": 24,
     "metadata": {},
     "output_type": "execute_result"
    }
   ],
   "source": [
    "mean0=130\n",
    "t, p =stats.ttest_1samp(sample, mean0)\n",
    "p"
   ]
  },
  {
   "cell_type": "markdown",
   "id": "590ce86c",
   "metadata": {},
   "source": [
    "## 1-1. 예제\n",
    "\n",
    "H0 : 고양이의 평균 몸무게는 2.6kg이다.\n",
    "\n",
    "H1 : 고양이의 평균 몸무게는 2.6kg가 아니다."
   ]
  },
  {
   "cell_type": "code",
   "execution_count": 27,
   "id": "deb59ecb",
   "metadata": {},
   "outputs": [
    {
     "data": {
      "text/html": [
       "<div>\n",
       "<style scoped>\n",
       "    .dataframe tbody tr th:only-of-type {\n",
       "        vertical-align: middle;\n",
       "    }\n",
       "\n",
       "    .dataframe tbody tr th {\n",
       "        vertical-align: top;\n",
       "    }\n",
       "\n",
       "    .dataframe thead th {\n",
       "        text-align: right;\n",
       "    }\n",
       "</style>\n",
       "<table border=\"1\" class=\"dataframe\">\n",
       "  <thead>\n",
       "    <tr style=\"text-align: right;\">\n",
       "      <th></th>\n",
       "      <th>Sex</th>\n",
       "      <th>Bwt</th>\n",
       "      <th>Hwt</th>\n",
       "    </tr>\n",
       "  </thead>\n",
       "  <tbody>\n",
       "    <tr>\n",
       "      <th>0</th>\n",
       "      <td>F</td>\n",
       "      <td>2.0</td>\n",
       "      <td>7.0</td>\n",
       "    </tr>\n",
       "    <tr>\n",
       "      <th>1</th>\n",
       "      <td>F</td>\n",
       "      <td>2.0</td>\n",
       "      <td>7.4</td>\n",
       "    </tr>\n",
       "    <tr>\n",
       "      <th>2</th>\n",
       "      <td>F</td>\n",
       "      <td>2.0</td>\n",
       "      <td>9.5</td>\n",
       "    </tr>\n",
       "    <tr>\n",
       "      <th>3</th>\n",
       "      <td>F</td>\n",
       "      <td>2.1</td>\n",
       "      <td>7.2</td>\n",
       "    </tr>\n",
       "    <tr>\n",
       "      <th>4</th>\n",
       "      <td>F</td>\n",
       "      <td>2.1</td>\n",
       "      <td>7.3</td>\n",
       "    </tr>\n",
       "    <tr>\n",
       "      <th>...</th>\n",
       "      <td>...</td>\n",
       "      <td>...</td>\n",
       "      <td>...</td>\n",
       "    </tr>\n",
       "    <tr>\n",
       "      <th>139</th>\n",
       "      <td>M</td>\n",
       "      <td>3.7</td>\n",
       "      <td>11.0</td>\n",
       "    </tr>\n",
       "    <tr>\n",
       "      <th>140</th>\n",
       "      <td>M</td>\n",
       "      <td>3.8</td>\n",
       "      <td>14.8</td>\n",
       "    </tr>\n",
       "    <tr>\n",
       "      <th>141</th>\n",
       "      <td>M</td>\n",
       "      <td>3.8</td>\n",
       "      <td>16.8</td>\n",
       "    </tr>\n",
       "    <tr>\n",
       "      <th>142</th>\n",
       "      <td>M</td>\n",
       "      <td>3.9</td>\n",
       "      <td>14.4</td>\n",
       "    </tr>\n",
       "    <tr>\n",
       "      <th>143</th>\n",
       "      <td>M</td>\n",
       "      <td>3.9</td>\n",
       "      <td>20.5</td>\n",
       "    </tr>\n",
       "  </tbody>\n",
       "</table>\n",
       "<p>144 rows × 3 columns</p>\n",
       "</div>"
      ],
      "text/plain": [
       "    Sex  Bwt   Hwt\n",
       "0     F  2.0   7.0\n",
       "1     F  2.0   7.4\n",
       "2     F  2.0   9.5\n",
       "3     F  2.1   7.2\n",
       "4     F  2.1   7.3\n",
       "..   ..  ...   ...\n",
       "139   M  3.7  11.0\n",
       "140   M  3.8  14.8\n",
       "141   M  3.8  16.8\n",
       "142   M  3.9  14.4\n",
       "143   M  3.9  20.5\n",
       "\n",
       "[144 rows x 3 columns]"
      ]
     },
     "execution_count": 27,
     "metadata": {},
     "output_type": "execute_result"
    }
   ],
   "source": [
    "import pandas as pd\n",
    "cats=pd.read_csv('cats.csv')\n",
    "#sample=np.array(df['무게'])\n",
    "cats.info()"
   ]
  },
  {
   "cell_type": "code",
   "execution_count": 30,
   "id": "4e6621f4",
   "metadata": {},
   "outputs": [
    {
     "data": {
      "text/plain": [
       "ShapiroResult(statistic=0.9518786668777466, pvalue=6.730248423991725e-05)"
      ]
     },
     "execution_count": 30,
     "metadata": {},
     "output_type": "execute_result"
    }
   ],
   "source": [
    "import scipy.stats as stats\n",
    "from scipy.stats import shapiro\n",
    "#검정하는 수\n",
    "mean0=2.6\n",
    "shapiro(cats['Bwt'])"
   ]
  },
  {
   "cell_type": "code",
   "execution_count": 31,
   "id": "45d9dc44",
   "metadata": {},
   "outputs": [
    {
     "data": {
      "text/plain": [
       "WilcoxonResult(statistic=3573.0, pvalue=0.02524520294814093)"
      ]
     },
     "execution_count": 31,
     "metadata": {},
     "output_type": "execute_result"
    }
   ],
   "source": [
    "# 기각하였으므로 정규분포를 따르지 않음 -> 윌콕슨 부호순위 검정\n",
    "stats.wilcoxon(cats.Bwt-mean0, alternative='two-sided')"
   ]
  },
  {
   "cell_type": "markdown",
   "id": "d932585b",
   "metadata": {},
   "source": [
    "귀무가설을 기각한다. 고양이의 평균 몸무게는 2.6kg가 아니라고 할 수 있다."
   ]
  },
  {
   "cell_type": "markdown",
   "id": "dd5d39af",
   "metadata": {},
   "source": [
    "## 2. 대응표본 T검정(Paired Sample t_test)\n",
    "- 단일 모집단에 두개의 처리! (전/후 같은 개념) 평균 비교\n",
    "- 같은 집단이므로 등분산성 조건은 만족한 상태"
   ]
  },
  {
   "cell_type": "markdown",
   "id": "03378fa2",
   "metadata": {},
   "source": [
    "- 정규성 검정"
   ]
  },
  {
   "cell_type": "code",
   "execution_count": 32,
   "id": "92653f41",
   "metadata": {},
   "outputs": [
    {
     "name": "stdout",
     "output_type": "stream",
     "text": [
      "<class 'pandas.core.frame.DataFrame'>\n",
      "RangeIndex: 20 entries, 0 to 19\n",
      "Data columns (total 2 columns):\n",
      " #   Column  Non-Null Count  Dtype\n",
      "---  ------  --------------  -----\n",
      " 0   전       20 non-null     int64\n",
      " 1   후       20 non-null     int64\n",
      "dtypes: int64(2)\n",
      "memory usage: 448.0 bytes\n"
     ]
    }
   ],
   "source": [
    "training_rel=pd.read_csv('ch11_training_rel.csv')\n",
    "\n",
    "import scipy.stats as stats\n",
    "from scipy.stats import shapiro\n",
    "training_rel.info()"
   ]
  },
  {
   "cell_type": "code",
   "execution_count": 36,
   "id": "cfe93852",
   "metadata": {},
   "outputs": [
    {
     "data": {
      "text/plain": [
       "ShapiroResult(statistic=0.9670043587684631, pvalue=0.6907904148101807)"
      ]
     },
     "execution_count": 36,
     "metadata": {},
     "output_type": "execute_result"
    }
   ],
   "source": [
    "shapiro(training_rel['전'])"
   ]
  },
  {
   "cell_type": "code",
   "execution_count": 37,
   "id": "722a984e",
   "metadata": {},
   "outputs": [
    {
     "data": {
      "text/plain": [
       "ShapiroResult(statistic=0.9786623120307922, pvalue=0.9156785011291504)"
      ]
     },
     "execution_count": 37,
     "metadata": {},
     "output_type": "execute_result"
    }
   ],
   "source": [
    "shapiro(training_rel['후'])"
   ]
  },
  {
   "cell_type": "markdown",
   "id": "f1bd856f",
   "metadata": {},
   "source": [
    "귀무가설을 기각할 수 없다. 정규분포를 따른다."
   ]
  },
  {
   "cell_type": "markdown",
   "id": "db9fac22",
   "metadata": {},
   "source": [
    "- 정규성 가정했을 때(수기로 구하기)"
   ]
  },
  {
   "cell_type": "code",
   "execution_count": 54,
   "id": "df16a31d",
   "metadata": {},
   "outputs": [
    {
     "data": {
      "text/plain": [
       "2.09250394789251e-10"
      ]
     },
     "execution_count": 54,
     "metadata": {},
     "output_type": "execute_result"
    }
   ],
   "source": [
    "#평균차이(d)\n",
    "d=25\n",
    "#표준편차 차이(std)\n",
    "s=9.2\n",
    "n=20\n",
    "#표준오차(se)\n",
    "se=s/np.sqrt(n)\n",
    "#검정통계량\n",
    "t=d/se\n",
    "t\n",
    "#t는 양수\n",
    "rv=stats.t(df=n-1)\n",
    "p=(1-rv.cdf(t))*2\n",
    "p"
   ]
  },
  {
   "cell_type": "markdown",
   "id": "4e90cdb2",
   "metadata": {},
   "source": [
    "귀무가설을 기각한다. 두 모평균 사이의 차이는 있다."
   ]
  },
  {
   "cell_type": "markdown",
   "id": "91d6668e",
   "metadata": {},
   "source": [
    "- 정규성 가정했을 때(쉽게 구하는법)"
   ]
  },
  {
   "cell_type": "code",
   "execution_count": 49,
   "id": "7152e967",
   "metadata": {},
   "outputs": [
    {
     "data": {
      "text/plain": [
       "Ttest_relResult(statistic=-2.204154108716127, pvalue=0.04004419061842953)"
      ]
     },
     "execution_count": 49,
     "metadata": {},
     "output_type": "execute_result"
    }
   ],
   "source": [
    "stats.ttest_rel(training_rel['전'], training_rel['후'], alternative='two-sided')"
   ]
  },
  {
   "cell_type": "markdown",
   "id": "a3b7f90c",
   "metadata": {},
   "source": [
    "귀무가설을 기각한다. 두 모평균 사이의 차이는 있다."
   ]
  },
  {
   "cell_type": "markdown",
   "id": "614a683c",
   "metadata": {},
   "source": [
    "- 정규분포 따르지 않음=>윌콕슨의 부호 순위 검정"
   ]
  },
  {
   "cell_type": "code",
   "execution_count": 57,
   "id": "6396b495",
   "metadata": {},
   "outputs": [
    {
     "data": {
      "text/plain": [
       "(49.5, 0.03623390197753906)"
      ]
     },
     "execution_count": 57,
     "metadata": {},
     "output_type": "execute_result"
    }
   ],
   "source": [
    "t, p = stats.wilcoxon(training_rel['전'], training_rel['후'])\n",
    "t, p"
   ]
  },
  {
   "cell_type": "markdown",
   "id": "bc113e3c",
   "metadata": {},
   "source": [
    "귀무가설을 기각한다. 두 모평균 사이의 차이는 있다."
   ]
  },
  {
   "cell_type": "markdown",
   "id": "e4873598",
   "metadata": {},
   "source": [
    "## 2-1. 예제\n",
    "10명 환자 대상 수면영양제 복용 전과 후의 수면시간을 측정하였다.\n",
    "\n",
    "H0 : 복용 전과 후의 수면시간에는 차이가 없다.\n",
    "\n",
    "H1 : 복용 전과 후의 수면시간에는 차이가 있다."
   ]
  },
  {
   "cell_type": "code",
   "execution_count": 59,
   "id": "36d5e3a3",
   "metadata": {},
   "outputs": [
    {
     "data": {
      "text/html": [
       "<div>\n",
       "<style scoped>\n",
       "    .dataframe tbody tr th:only-of-type {\n",
       "        vertical-align: middle;\n",
       "    }\n",
       "\n",
       "    .dataframe tbody tr th {\n",
       "        vertical-align: top;\n",
       "    }\n",
       "\n",
       "    .dataframe thead th {\n",
       "        text-align: right;\n",
       "    }\n",
       "</style>\n",
       "<table border=\"1\" class=\"dataframe\">\n",
       "  <thead>\n",
       "    <tr style=\"text-align: right;\">\n",
       "      <th></th>\n",
       "      <th>before</th>\n",
       "      <th>after</th>\n",
       "    </tr>\n",
       "  </thead>\n",
       "  <tbody>\n",
       "    <tr>\n",
       "      <th>0</th>\n",
       "      <td>7</td>\n",
       "      <td>8</td>\n",
       "    </tr>\n",
       "    <tr>\n",
       "      <th>1</th>\n",
       "      <td>3</td>\n",
       "      <td>4</td>\n",
       "    </tr>\n",
       "    <tr>\n",
       "      <th>2</th>\n",
       "      <td>4</td>\n",
       "      <td>5</td>\n",
       "    </tr>\n",
       "    <tr>\n",
       "      <th>3</th>\n",
       "      <td>5</td>\n",
       "      <td>6</td>\n",
       "    </tr>\n",
       "    <tr>\n",
       "      <th>4</th>\n",
       "      <td>2</td>\n",
       "      <td>2</td>\n",
       "    </tr>\n",
       "    <tr>\n",
       "      <th>5</th>\n",
       "      <td>1</td>\n",
       "      <td>3</td>\n",
       "    </tr>\n",
       "    <tr>\n",
       "      <th>6</th>\n",
       "      <td>6</td>\n",
       "      <td>6</td>\n",
       "    </tr>\n",
       "    <tr>\n",
       "      <th>7</th>\n",
       "      <td>6</td>\n",
       "      <td>8</td>\n",
       "    </tr>\n",
       "    <tr>\n",
       "      <th>8</th>\n",
       "      <td>5</td>\n",
       "      <td>6</td>\n",
       "    </tr>\n",
       "    <tr>\n",
       "      <th>9</th>\n",
       "      <td>4</td>\n",
       "      <td>5</td>\n",
       "    </tr>\n",
       "  </tbody>\n",
       "</table>\n",
       "</div>"
      ],
      "text/plain": [
       "   before  after\n",
       "0       7      8\n",
       "1       3      4\n",
       "2       4      5\n",
       "3       5      6\n",
       "4       2      2\n",
       "5       1      3\n",
       "6       6      6\n",
       "7       6      8\n",
       "8       5      6\n",
       "9       4      5"
      ]
     },
     "execution_count": 59,
     "metadata": {},
     "output_type": "execute_result"
    }
   ],
   "source": [
    "import pandas as pd\n",
    "data={'before' : [7,3,4,5,2,1,6,6,5,4], 'after':[8,4,5,6,2,3,6,8,6,5]}\n",
    "data=pd.DataFrame(data)\n",
    "data"
   ]
  },
  {
   "cell_type": "markdown",
   "id": "719c28f7",
   "metadata": {},
   "source": [
    "- 정규성 검정"
   ]
  },
  {
   "cell_type": "code",
   "execution_count": 61,
   "id": "121c960f",
   "metadata": {},
   "outputs": [
    {
     "data": {
      "text/plain": [
       "ShapiroResult(statistic=0.9456837177276611, pvalue=0.6177994012832642)"
      ]
     },
     "execution_count": 61,
     "metadata": {},
     "output_type": "execute_result"
    }
   ],
   "source": [
    "import scipy.stats as stats\n",
    "from scipy.stats import shapiro\n",
    "shapiro(data['before'])\n",
    "shapiro(data['after'])"
   ]
  },
  {
   "cell_type": "markdown",
   "id": "851ebeb9",
   "metadata": {},
   "source": [
    "기각할 수 없다. 정규분포따름"
   ]
  },
  {
   "cell_type": "code",
   "execution_count": 65,
   "id": "b5788f9b",
   "metadata": {},
   "outputs": [
    {
     "data": {
      "text/plain": [
       "Ttest_relResult(statistic=-4.743416490252569, pvalue=0.001053871257016553)"
      ]
     },
     "execution_count": 65,
     "metadata": {},
     "output_type": "execute_result"
    }
   ],
   "source": [
    "stats.ttest_rel(data['before'], data['after'], alternative='two-sided')"
   ]
  },
  {
   "cell_type": "markdown",
   "id": "9888f30f",
   "metadata": {},
   "source": [
    "귀무가설을 기각한다. 복용 전과 후의 수면시간에는 차이가 없다고 할 수 없다. 즉 복용 전과 후의 수면시간에는 차이가 있다."
   ]
  },
  {
   "cell_type": "markdown",
   "id": "c2201d14",
   "metadata": {},
   "source": [
    "## 3. "
   ]
  }
 ],
 "metadata": {
  "kernelspec": {
   "display_name": "Python 3 (ipykernel)",
   "language": "python",
   "name": "python3"
  },
  "language_info": {
   "codemirror_mode": {
    "name": "ipython",
    "version": 3
   },
   "file_extension": ".py",
   "mimetype": "text/x-python",
   "name": "python",
   "nbconvert_exporter": "python",
   "pygments_lexer": "ipython3",
   "version": "3.8.5"
  }
 },
 "nbformat": 4,
 "nbformat_minor": 5
}
