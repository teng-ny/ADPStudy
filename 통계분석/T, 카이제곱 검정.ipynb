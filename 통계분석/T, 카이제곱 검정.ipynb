{
 "cells": [
  {
   "cell_type": "code",
   "execution_count": 2,
   "id": "2f9f5b0f",
   "metadata": {},
   "outputs": [
    {
     "data": {
      "text/plain": [
       "array([122.02, 131.73, 130.6 , 131.82, 132.05, 126.12, 124.43, 132.89,\n",
       "       122.79, 129.95, 126.14, 134.45, 127.64, 125.68])"
      ]
     },
     "execution_count": 2,
     "metadata": {},
     "output_type": "execute_result"
    }
   ],
   "source": [
    "import pandas as pd\n",
    "import numpy as np\n",
    "df=pd.read_csv('ch11_potato.csv')\n",
    "sample=np.array(df['무게'])\n",
    "sample"
   ]
  },
  {
   "cell_type": "markdown",
   "id": "dbc5a5d5",
   "metadata": {},
   "source": [
    "## 1. 일표본 T검정(one sample t-test)"
   ]
  },
  {
   "cell_type": "markdown",
   "id": "cff12b14",
   "metadata": {},
   "source": [
    "- 정규성 검정"
   ]
  },
  {
   "cell_type": "code",
   "execution_count": 4,
   "id": "a9955be7",
   "metadata": {},
   "outputs": [
    {
     "data": {
      "text/plain": [
       "ShapiroResult(statistic=0.9412715435028076, pvalue=0.43486055731773376)"
      ]
     },
     "execution_count": 4,
     "metadata": {},
     "output_type": "execute_result"
    }
   ],
   "source": [
    "import scipy.stats as stats\n",
    "from scipy.stats import shapiro\n",
    "shapiro(sample)"
   ]
  },
  {
   "cell_type": "markdown",
   "id": "261e5ed5",
   "metadata": {},
   "source": [
    "0.05보다 크므로 귀무가설을 기각할 수 없다."
   ]
  },
  {
   "cell_type": "markdown",
   "id": "9f9afc34",
   "metadata": {},
   "source": [
    "- 정규성검정->기각x(정규분포따를때) : 모분산 알고있을 경우(z분포)\n",
    "\n",
    "H0 : 감자튀김 모평균은 130g\n",
    "\n",
    "H1 : 감자튀김 모평균은 130g이 아니다.\n",
    "\n",
    "모분산은 9라고 알려져있다."
   ]
  },
  {
   "cell_type": "code",
   "execution_count": 14,
   "id": "b225db24",
   "metadata": {},
   "outputs": [
    {
     "data": {
      "text/plain": [
       "0.05332263904625327"
      ]
     },
     "execution_count": 14,
     "metadata": {},
     "output_type": "execute_result"
    }
   ],
   "source": [
    "mean0=130\n",
    "p_var=9\n",
    "s_mean=np.mean(sample)\n",
    "rv=stats.norm()\n",
    "#검정통계량\n",
    "z=(s_mean-mean0)/np.sqrt(p_var/n)\n",
    "z\n",
    "#z는 음수\n",
    "#z>0 : p=(1-rv.cdf(z))*2\n",
    "p=rv.cdf(z)*2\n",
    "p"
   ]
  },
  {
   "cell_type": "markdown",
   "id": "313842df",
   "metadata": {},
   "source": [
    "귀무가설을 기각할 수 없다. 감자튀김의 모평균은 130g이라고 할 수 있다."
   ]
  },
  {
   "cell_type": "markdown",
   "id": "e9405328",
   "metadata": {},
   "source": [
    "- 정규성검정->기각x(정규분포따를때) : 모분산 모를경우(t분포)\n",
    "\n",
    "H0 : 감자튀김 모평균은 130g\n",
    "\n",
    "H1 : 감자튀김 모평균은 130g이 아니다.\n",
    "\n",
    "모분산은 9라고 알려져있다."
   ]
  },
  {
   "cell_type": "code",
   "execution_count": 20,
   "id": "3369761c",
   "metadata": {},
   "outputs": [
    {
     "data": {
      "text/plain": [
       "0.16933464230414275"
      ]
     },
     "execution_count": 20,
     "metadata": {},
     "output_type": "execute_result"
    }
   ],
   "source": [
    "mean0=130\n",
    "s_mean=np.mean(sample)\n",
    "u_var=np.var(sample, ddof=1)\n",
    "n=len(sample)\n",
    "rv=stats.t(df=n-1)\n",
    "#검정통계량\n",
    "t=(s_mean-mean0)/np.sqrt(u_var/n)\n",
    "t\n",
    "#t는 음수\n",
    "#t>0 : p=(1-rv.cdf(t))*2\n",
    "p=rv.cdf(t)*2\n",
    "p"
   ]
  },
  {
   "cell_type": "markdown",
   "id": "8ec033f3",
   "metadata": {},
   "source": [
    "귀무가설을 기각할 수 없다. 감자튀김의 모평균은 130g이라고 할 수 없다."
   ]
  },
  {
   "cell_type": "markdown",
   "id": "cc77c850",
   "metadata": {},
   "source": [
    "- 정규성검정->기각o(정규분포따르지 않을때) : 윌콕슨 부호순위 검정\n",
    "\n",
    "H0 : 감자튀김 모평균은 130g\n",
    "\n",
    "H1 : 감자튀김 모평균은 130g이 아니다."
   ]
  },
  {
   "cell_type": "code",
   "execution_count": 21,
   "id": "c1ec7945",
   "metadata": {},
   "outputs": [
    {
     "data": {
      "text/plain": [
       "WilcoxonResult(statistic=32.0, pvalue=0.216552734375)"
      ]
     },
     "execution_count": 21,
     "metadata": {},
     "output_type": "execute_result"
    }
   ],
   "source": [
    "mean0=130\n",
    "stats.wilcoxon(sample-mean0, alternative='two-sided')"
   ]
  },
  {
   "cell_type": "markdown",
   "id": "2a5fc9bd",
   "metadata": {},
   "source": [
    "귀무가설을 기각할 수 없다. 감자튀김의 모평균은 130g이라고 할 수 없다."
   ]
  },
  {
   "cell_type": "markdown",
   "id": "870777c6",
   "metadata": {},
   "source": [
    "<쉽게 구하는 방법>"
   ]
  },
  {
   "cell_type": "code",
   "execution_count": 24,
   "id": "3eb07f87",
   "metadata": {},
   "outputs": [
    {
     "data": {
      "text/plain": [
       "0.16933464230414275"
      ]
     },
     "execution_count": 24,
     "metadata": {},
     "output_type": "execute_result"
    }
   ],
   "source": [
    "mean0=130\n",
    "t, p =stats.ttest_1samp(sample, mean0)\n",
    "p"
   ]
  },
  {
   "cell_type": "markdown",
   "id": "00d24756",
   "metadata": {},
   "source": [
    "## 1-1. 예제\n",
    "\n",
    "H0 : 고양이의 평균 몸무게는 2.6kg이다.\n",
    "\n",
    "H1 : 고양이의 평균 몸무게는 2.6kg가 아니다."
   ]
  },
  {
   "cell_type": "code",
   "execution_count": 27,
   "id": "40903325",
   "metadata": {},
   "outputs": [
    {
     "data": {
      "text/html": [
       "<div>\n",
       "<style scoped>\n",
       "    .dataframe tbody tr th:only-of-type {\n",
       "        vertical-align: middle;\n",
       "    }\n",
       "\n",
       "    .dataframe tbody tr th {\n",
       "        vertical-align: top;\n",
       "    }\n",
       "\n",
       "    .dataframe thead th {\n",
       "        text-align: right;\n",
       "    }\n",
       "</style>\n",
       "<table border=\"1\" class=\"dataframe\">\n",
       "  <thead>\n",
       "    <tr style=\"text-align: right;\">\n",
       "      <th></th>\n",
       "      <th>Sex</th>\n",
       "      <th>Bwt</th>\n",
       "      <th>Hwt</th>\n",
       "    </tr>\n",
       "  </thead>\n",
       "  <tbody>\n",
       "    <tr>\n",
       "      <th>0</th>\n",
       "      <td>F</td>\n",
       "      <td>2.0</td>\n",
       "      <td>7.0</td>\n",
       "    </tr>\n",
       "    <tr>\n",
       "      <th>1</th>\n",
       "      <td>F</td>\n",
       "      <td>2.0</td>\n",
       "      <td>7.4</td>\n",
       "    </tr>\n",
       "    <tr>\n",
       "      <th>2</th>\n",
       "      <td>F</td>\n",
       "      <td>2.0</td>\n",
       "      <td>9.5</td>\n",
       "    </tr>\n",
       "    <tr>\n",
       "      <th>3</th>\n",
       "      <td>F</td>\n",
       "      <td>2.1</td>\n",
       "      <td>7.2</td>\n",
       "    </tr>\n",
       "    <tr>\n",
       "      <th>4</th>\n",
       "      <td>F</td>\n",
       "      <td>2.1</td>\n",
       "      <td>7.3</td>\n",
       "    </tr>\n",
       "    <tr>\n",
       "      <th>...</th>\n",
       "      <td>...</td>\n",
       "      <td>...</td>\n",
       "      <td>...</td>\n",
       "    </tr>\n",
       "    <tr>\n",
       "      <th>139</th>\n",
       "      <td>M</td>\n",
       "      <td>3.7</td>\n",
       "      <td>11.0</td>\n",
       "    </tr>\n",
       "    <tr>\n",
       "      <th>140</th>\n",
       "      <td>M</td>\n",
       "      <td>3.8</td>\n",
       "      <td>14.8</td>\n",
       "    </tr>\n",
       "    <tr>\n",
       "      <th>141</th>\n",
       "      <td>M</td>\n",
       "      <td>3.8</td>\n",
       "      <td>16.8</td>\n",
       "    </tr>\n",
       "    <tr>\n",
       "      <th>142</th>\n",
       "      <td>M</td>\n",
       "      <td>3.9</td>\n",
       "      <td>14.4</td>\n",
       "    </tr>\n",
       "    <tr>\n",
       "      <th>143</th>\n",
       "      <td>M</td>\n",
       "      <td>3.9</td>\n",
       "      <td>20.5</td>\n",
       "    </tr>\n",
       "  </tbody>\n",
       "</table>\n",
       "<p>144 rows × 3 columns</p>\n",
       "</div>"
      ],
      "text/plain": [
       "    Sex  Bwt   Hwt\n",
       "0     F  2.0   7.0\n",
       "1     F  2.0   7.4\n",
       "2     F  2.0   9.5\n",
       "3     F  2.1   7.2\n",
       "4     F  2.1   7.3\n",
       "..   ..  ...   ...\n",
       "139   M  3.7  11.0\n",
       "140   M  3.8  14.8\n",
       "141   M  3.8  16.8\n",
       "142   M  3.9  14.4\n",
       "143   M  3.9  20.5\n",
       "\n",
       "[144 rows x 3 columns]"
      ]
     },
     "execution_count": 27,
     "metadata": {},
     "output_type": "execute_result"
    }
   ],
   "source": [
    "import pandas as pd\n",
    "cats=pd.read_csv('cats.csv')\n",
    "#sample=np.array(df['무게'])\n",
    "cats.info()"
   ]
  },
  {
   "cell_type": "code",
   "execution_count": 30,
   "id": "ae0089a3",
   "metadata": {},
   "outputs": [
    {
     "data": {
      "text/plain": [
       "ShapiroResult(statistic=0.9518786668777466, pvalue=6.730248423991725e-05)"
      ]
     },
     "execution_count": 30,
     "metadata": {},
     "output_type": "execute_result"
    }
   ],
   "source": [
    "import scipy.stats as stats\n",
    "from scipy.stats import shapiro\n",
    "#검정하는 수\n",
    "mean0=2.6\n",
    "shapiro(cats['Bwt'])"
   ]
  },
  {
   "cell_type": "code",
   "execution_count": 31,
   "id": "6b7cc21a",
   "metadata": {},
   "outputs": [
    {
     "data": {
      "text/plain": [
       "WilcoxonResult(statistic=3573.0, pvalue=0.02524520294814093)"
      ]
     },
     "execution_count": 31,
     "metadata": {},
     "output_type": "execute_result"
    }
   ],
   "source": [
    "# 기각하였으므로 정규분포를 따르지 않음 -> 윌콕슨 부호순위 검정\n",
    "stats.wilcoxon(cats.Bwt-mean0, alternative='two-sided')"
   ]
  },
  {
   "cell_type": "markdown",
   "id": "1aeb3fae",
   "metadata": {},
   "source": [
    "귀무가설을 기각한다. 고양이의 평균 몸무게는 2.6kg가 아니라고 할 수 있다."
   ]
  },
  {
   "cell_type": "markdown",
   "id": "52138726",
   "metadata": {},
   "source": [
    "## 2. 대응표본 T검정(Paired Sample t_test)\n",
    "- 단일 모집단에 두개의 처리! (전/후 같은 개념) 평균 비교\n",
    "- 같은 집단이므로 등분산성 조건은 만족한 상태"
   ]
  },
  {
   "cell_type": "markdown",
   "id": "be98fcb0",
   "metadata": {},
   "source": [
    "- 정규성 검정"
   ]
  },
  {
   "cell_type": "code",
   "execution_count": 32,
   "id": "babb5e0d",
   "metadata": {},
   "outputs": [
    {
     "name": "stdout",
     "output_type": "stream",
     "text": [
      "<class 'pandas.core.frame.DataFrame'>\n",
      "RangeIndex: 20 entries, 0 to 19\n",
      "Data columns (total 2 columns):\n",
      " #   Column  Non-Null Count  Dtype\n",
      "---  ------  --------------  -----\n",
      " 0   전       20 non-null     int64\n",
      " 1   후       20 non-null     int64\n",
      "dtypes: int64(2)\n",
      "memory usage: 448.0 bytes\n"
     ]
    }
   ],
   "source": [
    "training_rel=pd.read_csv('ch11_training_rel.csv')\n",
    "\n",
    "import scipy.stats as stats\n",
    "from scipy.stats import shapiro\n",
    "training_rel.info()"
   ]
  },
  {
   "cell_type": "code",
   "execution_count": 36,
   "id": "9bdd99b4",
   "metadata": {},
   "outputs": [
    {
     "data": {
      "text/plain": [
       "ShapiroResult(statistic=0.9670043587684631, pvalue=0.6907904148101807)"
      ]
     },
     "execution_count": 36,
     "metadata": {},
     "output_type": "execute_result"
    }
   ],
   "source": [
    "shapiro(training_rel['전'])"
   ]
  },
  {
   "cell_type": "code",
   "execution_count": 37,
   "id": "0144b1c7",
   "metadata": {},
   "outputs": [
    {
     "data": {
      "text/plain": [
       "ShapiroResult(statistic=0.9786623120307922, pvalue=0.9156785011291504)"
      ]
     },
     "execution_count": 37,
     "metadata": {},
     "output_type": "execute_result"
    }
   ],
   "source": [
    "shapiro(training_rel['후'])"
   ]
  },
  {
   "cell_type": "markdown",
   "id": "821ff55a",
   "metadata": {},
   "source": [
    "귀무가설을 기각할 수 없다. 정규분포를 따른다."
   ]
  },
  {
   "cell_type": "markdown",
   "id": "64ce15be",
   "metadata": {},
   "source": [
    "- 정규성 가정했을 때(수기로 구하기)"
   ]
  },
  {
   "cell_type": "code",
   "execution_count": 54,
   "id": "2e148d21",
   "metadata": {},
   "outputs": [
    {
     "data": {
      "text/plain": [
       "2.09250394789251e-10"
      ]
     },
     "execution_count": 54,
     "metadata": {},
     "output_type": "execute_result"
    }
   ],
   "source": [
    "#평균차이(d)\n",
    "d=25\n",
    "#표준편차 차이(std)\n",
    "s=9.2\n",
    "n=20\n",
    "#표준오차(se)\n",
    "se=s/np.sqrt(n)\n",
    "#검정통계량\n",
    "t=d/se\n",
    "t\n",
    "#t는 양수\n",
    "rv=stats.t(df=n-1)\n",
    "p=(1-rv.cdf(t))*2\n",
    "p"
   ]
  },
  {
   "cell_type": "markdown",
   "id": "a95bd4a7",
   "metadata": {},
   "source": [
    "귀무가설을 기각한다. 두 모평균 사이의 차이는 있다."
   ]
  },
  {
   "cell_type": "markdown",
   "id": "017c574b",
   "metadata": {},
   "source": [
    "- 정규성 가정했을 때(쉽게 구하는법)"
   ]
  },
  {
   "cell_type": "code",
   "execution_count": 49,
   "id": "da844737",
   "metadata": {},
   "outputs": [
    {
     "data": {
      "text/plain": [
       "Ttest_relResult(statistic=-2.204154108716127, pvalue=0.04004419061842953)"
      ]
     },
     "execution_count": 49,
     "metadata": {},
     "output_type": "execute_result"
    }
   ],
   "source": [
    "stats.ttest_rel(training_rel['전'], training_rel['후'], alternative='two-sided')"
   ]
  },
  {
   "cell_type": "markdown",
   "id": "4f5cabf6",
   "metadata": {},
   "source": [
    "귀무가설을 기각한다. 두 모평균 사이의 차이는 있다."
   ]
  },
  {
   "cell_type": "markdown",
   "id": "edc287a1",
   "metadata": {},
   "source": [
    "- 정규분포 따르지 않음=>윌콕슨의 부호 순위 검정"
   ]
  },
  {
   "cell_type": "code",
   "execution_count": 57,
   "id": "aa4d3d31",
   "metadata": {},
   "outputs": [
    {
     "data": {
      "text/plain": [
       "(49.5, 0.03623390197753906)"
      ]
     },
     "execution_count": 57,
     "metadata": {},
     "output_type": "execute_result"
    }
   ],
   "source": [
    "t, p = stats.wilcoxon(training_rel['전'], training_rel['후'])\n",
    "t, p"
   ]
  },
  {
   "cell_type": "markdown",
   "id": "1afc7ac2",
   "metadata": {},
   "source": [
    "귀무가설을 기각한다. 두 모평균 사이의 차이는 있다."
   ]
  },
  {
   "cell_type": "markdown",
   "id": "ecc1932b",
   "metadata": {},
   "source": [
    "## 2-1. 예제\n",
    "10명 환자 대상 수면영양제 복용 전과 후의 수면시간을 측정하였다.\n",
    "\n",
    "H0 : 복용 전과 후의 수면시간에는 차이가 없다.\n",
    "\n",
    "H1 : 복용 전과 후의 수면시간에는 차이가 있다."
   ]
  },
  {
   "cell_type": "code",
   "execution_count": 59,
   "id": "3aa528b6",
   "metadata": {},
   "outputs": [
    {
     "data": {
      "text/html": [
       "<div>\n",
       "<style scoped>\n",
       "    .dataframe tbody tr th:only-of-type {\n",
       "        vertical-align: middle;\n",
       "    }\n",
       "\n",
       "    .dataframe tbody tr th {\n",
       "        vertical-align: top;\n",
       "    }\n",
       "\n",
       "    .dataframe thead th {\n",
       "        text-align: right;\n",
       "    }\n",
       "</style>\n",
       "<table border=\"1\" class=\"dataframe\">\n",
       "  <thead>\n",
       "    <tr style=\"text-align: right;\">\n",
       "      <th></th>\n",
       "      <th>before</th>\n",
       "      <th>after</th>\n",
       "    </tr>\n",
       "  </thead>\n",
       "  <tbody>\n",
       "    <tr>\n",
       "      <th>0</th>\n",
       "      <td>7</td>\n",
       "      <td>8</td>\n",
       "    </tr>\n",
       "    <tr>\n",
       "      <th>1</th>\n",
       "      <td>3</td>\n",
       "      <td>4</td>\n",
       "    </tr>\n",
       "    <tr>\n",
       "      <th>2</th>\n",
       "      <td>4</td>\n",
       "      <td>5</td>\n",
       "    </tr>\n",
       "    <tr>\n",
       "      <th>3</th>\n",
       "      <td>5</td>\n",
       "      <td>6</td>\n",
       "    </tr>\n",
       "    <tr>\n",
       "      <th>4</th>\n",
       "      <td>2</td>\n",
       "      <td>2</td>\n",
       "    </tr>\n",
       "    <tr>\n",
       "      <th>5</th>\n",
       "      <td>1</td>\n",
       "      <td>3</td>\n",
       "    </tr>\n",
       "    <tr>\n",
       "      <th>6</th>\n",
       "      <td>6</td>\n",
       "      <td>6</td>\n",
       "    </tr>\n",
       "    <tr>\n",
       "      <th>7</th>\n",
       "      <td>6</td>\n",
       "      <td>8</td>\n",
       "    </tr>\n",
       "    <tr>\n",
       "      <th>8</th>\n",
       "      <td>5</td>\n",
       "      <td>6</td>\n",
       "    </tr>\n",
       "    <tr>\n",
       "      <th>9</th>\n",
       "      <td>4</td>\n",
       "      <td>5</td>\n",
       "    </tr>\n",
       "  </tbody>\n",
       "</table>\n",
       "</div>"
      ],
      "text/plain": [
       "   before  after\n",
       "0       7      8\n",
       "1       3      4\n",
       "2       4      5\n",
       "3       5      6\n",
       "4       2      2\n",
       "5       1      3\n",
       "6       6      6\n",
       "7       6      8\n",
       "8       5      6\n",
       "9       4      5"
      ]
     },
     "execution_count": 59,
     "metadata": {},
     "output_type": "execute_result"
    }
   ],
   "source": [
    "import pandas as pd\n",
    "data={'before' : [7,3,4,5,2,1,6,6,5,4], 'after':[8,4,5,6,2,3,6,8,6,5]}\n",
    "data=pd.DataFrame(data)\n",
    "data"
   ]
  },
  {
   "cell_type": "markdown",
   "id": "52f34b45",
   "metadata": {},
   "source": [
    "- 정규성 검정"
   ]
  },
  {
   "cell_type": "code",
   "execution_count": 61,
   "id": "a2026c89",
   "metadata": {},
   "outputs": [
    {
     "data": {
      "text/plain": [
       "ShapiroResult(statistic=0.9456837177276611, pvalue=0.6177994012832642)"
      ]
     },
     "execution_count": 61,
     "metadata": {},
     "output_type": "execute_result"
    }
   ],
   "source": [
    "import scipy.stats as stats\n",
    "from scipy.stats import shapiro\n",
    "shapiro(data['before'])\n",
    "shapiro(data['after'])"
   ]
  },
  {
   "cell_type": "markdown",
   "id": "46ef3243",
   "metadata": {},
   "source": [
    "기각할 수 없다. 정규분포따름"
   ]
  },
  {
   "cell_type": "code",
   "execution_count": 65,
   "id": "81a541ae",
   "metadata": {},
   "outputs": [
    {
     "data": {
      "text/plain": [
       "Ttest_relResult(statistic=-4.743416490252569, pvalue=0.001053871257016553)"
      ]
     },
     "execution_count": 65,
     "metadata": {},
     "output_type": "execute_result"
    }
   ],
   "source": [
    "stats.ttest_rel(data['before'], data['after'], alternative='two-sided')"
   ]
  },
  {
   "cell_type": "markdown",
   "id": "0bbf511a",
   "metadata": {},
   "source": [
    "귀무가설을 기각한다. 복용 전과 후의 수면시간에는 차이가 없다고 할 수 없다. 즉 복용 전과 후의 수면시간에는 차이가 있다."
   ]
  },
  {
   "cell_type": "markdown",
   "id": "5761564e",
   "metadata": {},
   "source": [
    "## 3. 독립표본 T검정(Independent sample t-test)\n",
    "- 두 개의 독립된 모집단의 평균을 비교"
   ]
  },
  {
   "cell_type": "markdown",
   "id": "6f687a32",
   "metadata": {},
   "source": [
    "- 모집단의 정규분포 가정"
   ]
  },
  {
   "cell_type": "code",
   "execution_count": 67,
   "id": "ad095090",
   "metadata": {},
   "outputs": [
    {
     "data": {
      "text/html": [
       "<div>\n",
       "<style scoped>\n",
       "    .dataframe tbody tr th:only-of-type {\n",
       "        vertical-align: middle;\n",
       "    }\n",
       "\n",
       "    .dataframe tbody tr th {\n",
       "        vertical-align: top;\n",
       "    }\n",
       "\n",
       "    .dataframe thead th {\n",
       "        text-align: right;\n",
       "    }\n",
       "</style>\n",
       "<table border=\"1\" class=\"dataframe\">\n",
       "  <thead>\n",
       "    <tr style=\"text-align: right;\">\n",
       "      <th></th>\n",
       "      <th>A</th>\n",
       "      <th>B</th>\n",
       "    </tr>\n",
       "  </thead>\n",
       "  <tbody>\n",
       "    <tr>\n",
       "      <th>0</th>\n",
       "      <td>47</td>\n",
       "      <td>49</td>\n",
       "    </tr>\n",
       "    <tr>\n",
       "      <th>1</th>\n",
       "      <td>50</td>\n",
       "      <td>52</td>\n",
       "    </tr>\n",
       "    <tr>\n",
       "      <th>2</th>\n",
       "      <td>37</td>\n",
       "      <td>54</td>\n",
       "    </tr>\n",
       "    <tr>\n",
       "      <th>3</th>\n",
       "      <td>60</td>\n",
       "      <td>48</td>\n",
       "    </tr>\n",
       "    <tr>\n",
       "      <th>4</th>\n",
       "      <td>39</td>\n",
       "      <td>51</td>\n",
       "    </tr>\n",
       "  </tbody>\n",
       "</table>\n",
       "</div>"
      ],
      "text/plain": [
       "    A   B\n",
       "0  47  49\n",
       "1  50  52\n",
       "2  37  54\n",
       "3  60  48\n",
       "4  39  51"
      ]
     },
     "execution_count": 67,
     "metadata": {},
     "output_type": "execute_result"
    }
   ],
   "source": [
    "training_ind=pd.read_csv('ch11_training_ind.csv')\n",
    "training_ind.head()"
   ]
  },
  {
   "cell_type": "code",
   "execution_count": 68,
   "id": "5b947a9b",
   "metadata": {},
   "outputs": [
    {
     "data": {
      "text/plain": [
       "ShapiroResult(statistic=0.9685941338539124, pvalue=0.7249506711959839)"
      ]
     },
     "execution_count": 68,
     "metadata": {},
     "output_type": "execute_result"
    }
   ],
   "source": [
    "import scipy.stats as stats\n",
    "from scipy.stats import shapiro\n",
    "shapiro(training_ind['A'])"
   ]
  },
  {
   "cell_type": "code",
   "execution_count": 69,
   "id": "8d9ba392",
   "metadata": {},
   "outputs": [
    {
     "data": {
      "text/plain": [
       "ShapiroResult(statistic=0.9730017781257629, pvalue=0.8165717720985413)"
      ]
     },
     "execution_count": 69,
     "metadata": {},
     "output_type": "execute_result"
    }
   ],
   "source": [
    "shapiro(training_ind['B'])"
   ]
  },
  {
   "cell_type": "markdown",
   "id": "4b0dc661",
   "metadata": {},
   "source": [
    "귀무가설을 기각. 정규분포 가정함"
   ]
  },
  {
   "cell_type": "markdown",
   "id": "fc45c4ba",
   "metadata": {},
   "source": [
    "- 정규성 가정 후 등분산 검정"
   ]
  },
  {
   "cell_type": "code",
   "execution_count": 72,
   "id": "a4e3d107",
   "metadata": {},
   "outputs": [
    {
     "data": {
      "text/plain": [
       "LeveneResult(statistic=2.061573118077718, pvalue=0.15923550057222613)"
      ]
     },
     "execution_count": 72,
     "metadata": {},
     "output_type": "execute_result"
    }
   ],
   "source": [
    "A=np.array(training_ind['A'])\n",
    "B=np.array(training_ind['B'])\n",
    "stats.levene(A, B)"
   ]
  },
  {
   "cell_type": "markdown",
   "id": "f728575c",
   "metadata": {},
   "source": [
    "귀무가설을 기각할 수 없음. equal_var=True로 입력, 등분산을 가정한다"
   ]
  },
  {
   "cell_type": "markdown",
   "id": "e5ac0a47",
   "metadata": {},
   "source": [
    "- 독립t-test진행"
   ]
  },
  {
   "cell_type": "markdown",
   "id": "cea192c2",
   "metadata": {},
   "source": [
    "H0 : 두 모평균 사이의 차이는 없다(동일)\n",
    "    \n",
    "H1 : 두 모평균 사이의 차이는 있다(유의미한 차이가 있다)"
   ]
  },
  {
   "cell_type": "code",
   "execution_count": 75,
   "id": "dcd48df5",
   "metadata": {},
   "outputs": [
    {
     "data": {
      "text/plain": [
       "Ttest_indResult(statistic=-1.7608157246524712, pvalue=0.08631600572195147)"
      ]
     },
     "execution_count": 75,
     "metadata": {},
     "output_type": "execute_result"
    }
   ],
   "source": [
    "stats.ttest_ind(A, B, equal_var=True)"
   ]
  },
  {
   "cell_type": "markdown",
   "id": "215b1dda",
   "metadata": {},
   "source": [
    "귀무가설을 기각할 수 없다. 즉 두 모평균 사이의 차이는 없다고 할 수 있다."
   ]
  },
  {
   "cell_type": "markdown",
   "id": "45e64166",
   "metadata": {},
   "source": [
    "- 정규성을 가정할 수 없을 경우 : 만 위트니의 U 검정"
   ]
  },
  {
   "cell_type": "code",
   "execution_count": 78,
   "id": "d3024360",
   "metadata": {},
   "outputs": [
    {
     "data": {
      "text/plain": [
       "(130.0, 0.05948611166127324)"
      ]
     },
     "execution_count": 78,
     "metadata": {},
     "output_type": "execute_result"
    }
   ],
   "source": [
    "u, p = stats.mannwhitneyu(training_ind['A'], training_ind['B'], alternative='two-sided')\n",
    "u, p"
   ]
  },
  {
   "cell_type": "markdown",
   "id": "e65adbbd",
   "metadata": {},
   "source": [
    "귀무가설을 기각할 수 없다. 두 모평균 사이의 차이는 없다고 할 수 있다."
   ]
  },
  {
   "cell_type": "markdown",
   "id": "48de7858",
   "metadata": {},
   "source": [
    "## 3-2. 예제\n",
    "H0 : 수컷과 암컷 고양이의 몸무게 차이는 없다.\n",
    "\n",
    "H1 : 수컷과 암컷 고양이의 몸무게 차이는 있다."
   ]
  },
  {
   "cell_type": "code",
   "execution_count": 80,
   "id": "34bffbcf",
   "metadata": {},
   "outputs": [
    {
     "data": {
      "text/html": [
       "<div>\n",
       "<style scoped>\n",
       "    .dataframe tbody tr th:only-of-type {\n",
       "        vertical-align: middle;\n",
       "    }\n",
       "\n",
       "    .dataframe tbody tr th {\n",
       "        vertical-align: top;\n",
       "    }\n",
       "\n",
       "    .dataframe thead th {\n",
       "        text-align: right;\n",
       "    }\n",
       "</style>\n",
       "<table border=\"1\" class=\"dataframe\">\n",
       "  <thead>\n",
       "    <tr style=\"text-align: right;\">\n",
       "      <th></th>\n",
       "      <th>Sex</th>\n",
       "      <th>Bwt</th>\n",
       "      <th>Hwt</th>\n",
       "    </tr>\n",
       "  </thead>\n",
       "  <tbody>\n",
       "    <tr>\n",
       "      <th>0</th>\n",
       "      <td>F</td>\n",
       "      <td>2.0</td>\n",
       "      <td>7.0</td>\n",
       "    </tr>\n",
       "    <tr>\n",
       "      <th>1</th>\n",
       "      <td>F</td>\n",
       "      <td>2.0</td>\n",
       "      <td>7.4</td>\n",
       "    </tr>\n",
       "    <tr>\n",
       "      <th>2</th>\n",
       "      <td>F</td>\n",
       "      <td>2.0</td>\n",
       "      <td>9.5</td>\n",
       "    </tr>\n",
       "    <tr>\n",
       "      <th>3</th>\n",
       "      <td>F</td>\n",
       "      <td>2.1</td>\n",
       "      <td>7.2</td>\n",
       "    </tr>\n",
       "    <tr>\n",
       "      <th>4</th>\n",
       "      <td>F</td>\n",
       "      <td>2.1</td>\n",
       "      <td>7.3</td>\n",
       "    </tr>\n",
       "  </tbody>\n",
       "</table>\n",
       "</div>"
      ],
      "text/plain": [
       "  Sex  Bwt  Hwt\n",
       "0   F  2.0  7.0\n",
       "1   F  2.0  7.4\n",
       "2   F  2.0  9.5\n",
       "3   F  2.1  7.2\n",
       "4   F  2.1  7.3"
      ]
     },
     "execution_count": 80,
     "metadata": {},
     "output_type": "execute_result"
    }
   ],
   "source": [
    "import pandas as pd\n",
    "cats=pd.read_csv('cats.csv')\n",
    "cats.head()"
   ]
  },
  {
   "cell_type": "markdown",
   "id": "4d5902e3",
   "metadata": {},
   "source": [
    "- 정규분포를 가정하고 문제를 풀음. 등분산 검정"
   ]
  },
  {
   "cell_type": "code",
   "execution_count": 86,
   "id": "16b18259",
   "metadata": {},
   "outputs": [
    {
     "data": {
      "text/plain": [
       "LeveneResult(statistic=19.43101190877999, pvalue=2.0435285255189404e-05)"
      ]
     },
     "execution_count": 86,
     "metadata": {},
     "output_type": "execute_result"
    }
   ],
   "source": [
    "female=cats.loc[cats['Sex']=='F', 'Bwt']\n",
    "male=cats.loc[cats['Sex']=='M', 'Bwt']\n",
    "stats.levene(female, male)"
   ]
  },
  {
   "cell_type": "markdown",
   "id": "72812d91",
   "metadata": {},
   "source": [
    "귀무가설을 기각한다. 등분산을 가정할 수 없다. equal_var=False로 작성한다"
   ]
  },
  {
   "cell_type": "markdown",
   "id": "ee26920b",
   "metadata": {},
   "source": [
    "- 독립 t-test"
   ]
  },
  {
   "cell_type": "code",
   "execution_count": 88,
   "id": "97fac8d0",
   "metadata": {},
   "outputs": [
    {
     "data": {
      "text/plain": [
       "Ttest_indResult(statistic=-8.70948849909559, pvalue=8.831034455859356e-15)"
      ]
     },
     "execution_count": 88,
     "metadata": {},
     "output_type": "execute_result"
    }
   ],
   "source": [
    "stats.ttest_ind(female, male, equal_var=False)"
   ]
  },
  {
   "cell_type": "markdown",
   "id": "2e89c1b0",
   "metadata": {},
   "source": [
    "귀무가설을 기각한다. 두 모평균 사이의 차이가 있다고 할 수 있다."
   ]
  },
  {
   "cell_type": "markdown",
   "id": "74003e3d",
   "metadata": {},
   "source": [
    "## 4. 카이제곱 검정 -> 독립성 검정\n",
    "- 모집단이 두개의 변수 A, B에 의해 범주화 되었을 때, 이 변수들 사이의 관계가 독립인지 아닌지 검정하는 방법\n",
    "\n",
    "H0 : 변수 1과 변수 2는 독립이다.\n",
    "\n",
    "H1 : 변수 1과 변수 2는 독립이 아니다."
   ]
  },
  {
   "cell_type": "markdown",
   "id": "c58cfd0e",
   "metadata": {},
   "source": [
    "- (1) 교차 집계표(분할표) 작성"
   ]
  },
  {
   "cell_type": "code",
   "execution_count": 90,
   "id": "0f0d1487",
   "metadata": {},
   "outputs": [
    {
     "data": {
      "text/html": [
       "<div>\n",
       "<style scoped>\n",
       "    .dataframe tbody tr th:only-of-type {\n",
       "        vertical-align: middle;\n",
       "    }\n",
       "\n",
       "    .dataframe tbody tr th {\n",
       "        vertical-align: top;\n",
       "    }\n",
       "\n",
       "    .dataframe thead th {\n",
       "        text-align: right;\n",
       "    }\n",
       "</style>\n",
       "<table border=\"1\" class=\"dataframe\">\n",
       "  <thead>\n",
       "    <tr style=\"text-align: right;\">\n",
       "      <th></th>\n",
       "      <th>광고</th>\n",
       "      <th>구입</th>\n",
       "    </tr>\n",
       "  </thead>\n",
       "  <tbody>\n",
       "    <tr>\n",
       "      <th>0</th>\n",
       "      <td>B</td>\n",
       "      <td>하지 않았다</td>\n",
       "    </tr>\n",
       "    <tr>\n",
       "      <th>1</th>\n",
       "      <td>B</td>\n",
       "      <td>하지 않았다</td>\n",
       "    </tr>\n",
       "    <tr>\n",
       "      <th>2</th>\n",
       "      <td>A</td>\n",
       "      <td>했다</td>\n",
       "    </tr>\n",
       "    <tr>\n",
       "      <th>3</th>\n",
       "      <td>A</td>\n",
       "      <td>했다</td>\n",
       "    </tr>\n",
       "    <tr>\n",
       "      <th>4</th>\n",
       "      <td>B</td>\n",
       "      <td>하지 않았다</td>\n",
       "    </tr>\n",
       "  </tbody>\n",
       "</table>\n",
       "</div>"
      ],
      "text/plain": [
       "  광고      구입\n",
       "0  B  하지 않았다\n",
       "1  B  하지 않았다\n",
       "2  A      했다\n",
       "3  A      했다\n",
       "4  B  하지 않았다"
      ]
     },
     "execution_count": 90,
     "metadata": {},
     "output_type": "execute_result"
    }
   ],
   "source": [
    "ad_df=pd.read_csv(\"ch11_ad.csv\")\n",
    "n=len(ad_df)\n",
    "ad_df.head()"
   ]
  },
  {
   "cell_type": "code",
   "execution_count": 91,
   "id": "3ab445e2",
   "metadata": {},
   "outputs": [
    {
     "data": {
      "text/html": [
       "<div>\n",
       "<style scoped>\n",
       "    .dataframe tbody tr th:only-of-type {\n",
       "        vertical-align: middle;\n",
       "    }\n",
       "\n",
       "    .dataframe tbody tr th {\n",
       "        vertical-align: top;\n",
       "    }\n",
       "\n",
       "    .dataframe thead th {\n",
       "        text-align: right;\n",
       "    }\n",
       "</style>\n",
       "<table border=\"1\" class=\"dataframe\">\n",
       "  <thead>\n",
       "    <tr style=\"text-align: right;\">\n",
       "      <th>구입</th>\n",
       "      <th>하지 않았다</th>\n",
       "      <th>했다</th>\n",
       "    </tr>\n",
       "    <tr>\n",
       "      <th>광고</th>\n",
       "      <th></th>\n",
       "      <th></th>\n",
       "    </tr>\n",
       "  </thead>\n",
       "  <tbody>\n",
       "    <tr>\n",
       "      <th>A</th>\n",
       "      <td>351</td>\n",
       "      <td>49</td>\n",
       "    </tr>\n",
       "    <tr>\n",
       "      <th>B</th>\n",
       "      <td>549</td>\n",
       "      <td>51</td>\n",
       "    </tr>\n",
       "  </tbody>\n",
       "</table>\n",
       "</div>"
      ],
      "text/plain": [
       "구입  하지 않았다  했다\n",
       "광고            \n",
       "A      351  49\n",
       "B      549  51"
      ]
     },
     "execution_count": 91,
     "metadata": {},
     "output_type": "execute_result"
    }
   ],
   "source": [
    "ad_cross=pd.crosstab(ad_df['광고'], ad_df['구입'])\n",
    "ad_cross"
   ]
  },
  {
   "cell_type": "markdown",
   "id": "9122ab34",
   "metadata": {},
   "source": [
    "- (2) 크로스탭(교차표 생성)"
   ]
  },
  {
   "cell_type": "code",
   "execution_count": 96,
   "id": "d7e57198",
   "metadata": {},
   "outputs": [
    {
     "data": {
      "text/plain": [
       "(3.75, 0.052807511416113395, 1)"
      ]
     },
     "execution_count": 96,
     "metadata": {},
     "output_type": "execute_result"
    }
   ],
   "source": [
    "chi2, p, dof, ef=stats.chi2_contingency(ad_cross, correction=False)\n",
    "chi2, p, dof"
   ]
  },
  {
   "cell_type": "markdown",
   "id": "523603cd",
   "metadata": {},
   "source": [
    "귀무가설을 기각할 수 없다. 광고 구입은 독립이다."
   ]
  },
  {
   "cell_type": "markdown",
   "id": "b905c705",
   "metadata": {},
   "source": [
    "## 4-1. 예제"
   ]
  },
  {
   "cell_type": "code",
   "execution_count": 104,
   "id": "673709b6",
   "metadata": {},
   "outputs": [
    {
     "data": {
      "text/html": [
       "<div>\n",
       "<style scoped>\n",
       "    .dataframe tbody tr th:only-of-type {\n",
       "        vertical-align: middle;\n",
       "    }\n",
       "\n",
       "    .dataframe tbody tr th {\n",
       "        vertical-align: top;\n",
       "    }\n",
       "\n",
       "    .dataframe thead th {\n",
       "        text-align: right;\n",
       "    }\n",
       "</style>\n",
       "<table border=\"1\" class=\"dataframe\">\n",
       "  <thead>\n",
       "    <tr style=\"text-align: right;\">\n",
       "      <th></th>\n",
       "      <th>등산</th>\n",
       "      <th>수영</th>\n",
       "    </tr>\n",
       "  </thead>\n",
       "  <tbody>\n",
       "    <tr>\n",
       "      <th>남자</th>\n",
       "      <td>20</td>\n",
       "      <td>10</td>\n",
       "    </tr>\n",
       "    <tr>\n",
       "      <th>여자</th>\n",
       "      <td>15</td>\n",
       "      <td>30</td>\n",
       "    </tr>\n",
       "  </tbody>\n",
       "</table>\n",
       "</div>"
      ],
      "text/plain": [
       "    등산  수영\n",
       "남자  20  10\n",
       "여자  15  30"
      ]
     },
     "execution_count": 104,
     "metadata": {},
     "output_type": "execute_result"
    }
   ],
   "source": [
    "#데이터 프레임 생성\n",
    "data={'등산':[20, 15], '수영':[10,30]}\n",
    "data=pd.DataFrame(data)\n",
    "data.index=['남자', '여자']\n",
    "data"
   ]
  },
  {
   "cell_type": "markdown",
   "id": "14b13064",
   "metadata": {},
   "source": [
    "- 독립성 검정\n",
    "\n",
    "H0 : 성별과 운동은 독립이다.\n",
    "\n",
    "H1 : 성별과 운동은 독립이 아니다."
   ]
  },
  {
   "cell_type": "code",
   "execution_count": 106,
   "id": "8089365c",
   "metadata": {},
   "outputs": [
    {
     "data": {
      "text/plain": [
       "(8.035714285714285, 0.0045863920802535025)"
      ]
     },
     "execution_count": 106,
     "metadata": {},
     "output_type": "execute_result"
    }
   ],
   "source": [
    "from scipy.stats import chi2_contingency\n",
    "chi2, p, dof, ef=stats.chi2_contingency(data, correction=False)\n",
    "chi2, p"
   ]
  },
  {
   "cell_type": "markdown",
   "id": "8971fdd1",
   "metadata": {},
   "source": [
    "귀무가설을 기각한다. 두 변수는 독립이 아니다. 따라서 남자중에 등산을 좋아할 확률은 20/30=2/3확률이다"
   ]
  },
  {
   "cell_type": "markdown",
   "id": "8b8fd74b",
   "metadata": {},
   "source": [
    "## 4-2. 예제2\n",
    "\n",
    "H0 : class 변수와 survived 변수는 독립이다.\n",
    "\n",
    "H1 : class 변수와 survived 변수는 독립이 아니다."
   ]
  },
  {
   "cell_type": "code",
   "execution_count": 109,
   "id": "5a3cdd1f",
   "metadata": {},
   "outputs": [
    {
     "data": {
      "text/html": [
       "<div>\n",
       "<style scoped>\n",
       "    .dataframe tbody tr th:only-of-type {\n",
       "        vertical-align: middle;\n",
       "    }\n",
       "\n",
       "    .dataframe tbody tr th {\n",
       "        vertical-align: top;\n",
       "    }\n",
       "\n",
       "    .dataframe thead th {\n",
       "        text-align: right;\n",
       "    }\n",
       "</style>\n",
       "<table border=\"1\" class=\"dataframe\">\n",
       "  <thead>\n",
       "    <tr style=\"text-align: right;\">\n",
       "      <th></th>\n",
       "      <th>survived</th>\n",
       "      <th>pclass</th>\n",
       "      <th>sex</th>\n",
       "      <th>age</th>\n",
       "      <th>sibsp</th>\n",
       "      <th>parch</th>\n",
       "      <th>fare</th>\n",
       "      <th>embarked</th>\n",
       "      <th>class</th>\n",
       "      <th>adult_male</th>\n",
       "      <th>embark_town</th>\n",
       "    </tr>\n",
       "  </thead>\n",
       "  <tbody>\n",
       "    <tr>\n",
       "      <th>0</th>\n",
       "      <td>0</td>\n",
       "      <td>3</td>\n",
       "      <td>male</td>\n",
       "      <td>22.0</td>\n",
       "      <td>1</td>\n",
       "      <td>0</td>\n",
       "      <td>7.2500</td>\n",
       "      <td>S</td>\n",
       "      <td>Third</td>\n",
       "      <td>True</td>\n",
       "      <td>Southampton</td>\n",
       "    </tr>\n",
       "    <tr>\n",
       "      <th>1</th>\n",
       "      <td>1</td>\n",
       "      <td>1</td>\n",
       "      <td>female</td>\n",
       "      <td>38.0</td>\n",
       "      <td>1</td>\n",
       "      <td>0</td>\n",
       "      <td>71.2833</td>\n",
       "      <td>C</td>\n",
       "      <td>First</td>\n",
       "      <td>False</td>\n",
       "      <td>Cherbourg</td>\n",
       "    </tr>\n",
       "    <tr>\n",
       "      <th>2</th>\n",
       "      <td>1</td>\n",
       "      <td>3</td>\n",
       "      <td>female</td>\n",
       "      <td>26.0</td>\n",
       "      <td>0</td>\n",
       "      <td>0</td>\n",
       "      <td>7.9250</td>\n",
       "      <td>S</td>\n",
       "      <td>Third</td>\n",
       "      <td>False</td>\n",
       "      <td>Southampton</td>\n",
       "    </tr>\n",
       "    <tr>\n",
       "      <th>3</th>\n",
       "      <td>1</td>\n",
       "      <td>1</td>\n",
       "      <td>female</td>\n",
       "      <td>35.0</td>\n",
       "      <td>1</td>\n",
       "      <td>0</td>\n",
       "      <td>53.1000</td>\n",
       "      <td>S</td>\n",
       "      <td>First</td>\n",
       "      <td>False</td>\n",
       "      <td>Southampton</td>\n",
       "    </tr>\n",
       "    <tr>\n",
       "      <th>4</th>\n",
       "      <td>0</td>\n",
       "      <td>3</td>\n",
       "      <td>male</td>\n",
       "      <td>35.0</td>\n",
       "      <td>0</td>\n",
       "      <td>0</td>\n",
       "      <td>8.0500</td>\n",
       "      <td>S</td>\n",
       "      <td>Third</td>\n",
       "      <td>True</td>\n",
       "      <td>Southampton</td>\n",
       "    </tr>\n",
       "  </tbody>\n",
       "</table>\n",
       "</div>"
      ],
      "text/plain": [
       "   survived  pclass     sex   age  sibsp  parch     fare embarked  class  \\\n",
       "0         0       3    male  22.0      1      0   7.2500        S  Third   \n",
       "1         1       1  female  38.0      1      0  71.2833        C  First   \n",
       "2         1       3  female  26.0      0      0   7.9250        S  Third   \n",
       "3         1       1  female  35.0      1      0  53.1000        S  First   \n",
       "4         0       3    male  35.0      0      0   8.0500        S  Third   \n",
       "\n",
       "   adult_male  embark_town  \n",
       "0        True  Southampton  \n",
       "1       False    Cherbourg  \n",
       "2       False  Southampton  \n",
       "3       False  Southampton  \n",
       "4        True  Southampton  "
      ]
     },
     "execution_count": 109,
     "metadata": {},
     "output_type": "execute_result"
    }
   ],
   "source": [
    "import pandas as pd\n",
    "df=pd.read_csv(\"titanic.csv\")\n",
    "df.head()"
   ]
  },
  {
   "cell_type": "code",
   "execution_count": 110,
   "id": "93c7b48d",
   "metadata": {},
   "outputs": [],
   "source": [
    "table=pd.crosstab(df['class'], df['survived'])"
   ]
  },
  {
   "cell_type": "code",
   "execution_count": 111,
   "id": "e390feaf",
   "metadata": {},
   "outputs": [
    {
     "data": {
      "text/html": [
       "<div>\n",
       "<style scoped>\n",
       "    .dataframe tbody tr th:only-of-type {\n",
       "        vertical-align: middle;\n",
       "    }\n",
       "\n",
       "    .dataframe tbody tr th {\n",
       "        vertical-align: top;\n",
       "    }\n",
       "\n",
       "    .dataframe thead th {\n",
       "        text-align: right;\n",
       "    }\n",
       "</style>\n",
       "<table border=\"1\" class=\"dataframe\">\n",
       "  <thead>\n",
       "    <tr style=\"text-align: right;\">\n",
       "      <th>survived</th>\n",
       "      <th>0</th>\n",
       "      <th>1</th>\n",
       "    </tr>\n",
       "    <tr>\n",
       "      <th>class</th>\n",
       "      <th></th>\n",
       "      <th></th>\n",
       "    </tr>\n",
       "  </thead>\n",
       "  <tbody>\n",
       "    <tr>\n",
       "      <th>First</th>\n",
       "      <td>80</td>\n",
       "      <td>136</td>\n",
       "    </tr>\n",
       "    <tr>\n",
       "      <th>Second</th>\n",
       "      <td>97</td>\n",
       "      <td>87</td>\n",
       "    </tr>\n",
       "    <tr>\n",
       "      <th>Third</th>\n",
       "      <td>372</td>\n",
       "      <td>119</td>\n",
       "    </tr>\n",
       "  </tbody>\n",
       "</table>\n",
       "</div>"
      ],
      "text/plain": [
       "survived    0    1\n",
       "class             \n",
       "First      80  136\n",
       "Second     97   87\n",
       "Third     372  119"
      ]
     },
     "execution_count": 111,
     "metadata": {},
     "output_type": "execute_result"
    }
   ],
   "source": [
    "table"
   ]
  },
  {
   "cell_type": "code",
   "execution_count": 112,
   "id": "888c597f",
   "metadata": {},
   "outputs": [
    {
     "data": {
      "text/plain": [
       "(102.88898875696056, 4.549251711298793e-23)"
      ]
     },
     "execution_count": 112,
     "metadata": {},
     "output_type": "execute_result"
    }
   ],
   "source": [
    "from scipy.stats import chi2_contingency\n",
    "chi2, p, dof, ef=stats.chi2_contingency(table, correction=False)\n",
    "chi2, p"
   ]
  },
  {
   "cell_type": "markdown",
   "id": "00fb5581",
   "metadata": {},
   "source": [
    "귀무가설을 기각한다. class 변수와 survived 변수는 독립이 아니다."
   ]
  },
  {
   "cell_type": "markdown",
   "id": "b817eb25",
   "metadata": {},
   "source": [
    "## 5. 카이제곱 검정 -> 적합성 검정\n",
    "- 각 범주에 따른 데이터의 빈도분포가 이론적으로 기대하는 분포를 따르는지 검정\n",
    "\n",
    "H0 : 관측분포와 기대분포가 동일\n",
    "\n",
    "H1 : 관측분포와 기대분포가 동일하지 않음(다름)"
   ]
  },
  {
   "cell_type": "markdown",
   "id": "3b3fa287",
   "metadata": {},
   "source": [
    "## 5-1. 예제\n",
    "\n",
    "H0 : 타이타닉호의 생존자 중 남자의 비율이 50%, 여자의 비율이 50%이다.\n",
    "\n",
    "H1 : 타이타닉호의 생존자 중 남자의 비율이 50%, 여자의 비율이 50%라고 할 수 없다."
   ]
  },
  {
   "cell_type": "code",
   "execution_count": 117,
   "id": "307fd8be",
   "metadata": {},
   "outputs": [],
   "source": [
    "import pandas as pd\n",
    "df=pd.read_csv(\"titanic.csv\")"
   ]
  },
  {
   "cell_type": "markdown",
   "id": "8842ed41",
   "metadata": {},
   "source": [
    "- 범주형 변수의 관찰빈도 확인"
   ]
  },
  {
   "cell_type": "code",
   "execution_count": 115,
   "id": "8bbb29e0",
   "metadata": {},
   "outputs": [
    {
     "data": {
      "text/plain": [
       "sex   \n",
       "female    233\n",
       "male      109\n",
       "dtype: int64"
      ]
     },
     "execution_count": 115,
     "metadata": {},
     "output_type": "execute_result"
    }
   ],
   "source": [
    "df_t=df[df['survived']==1]\n",
    "table=df_t[['sex']].value_counts()\n",
    "table"
   ]
  },
  {
   "cell_type": "markdown",
   "id": "0bc9132c",
   "metadata": {},
   "source": [
    "- 적합도 검정"
   ]
  },
  {
   "cell_type": "code",
   "execution_count": 116,
   "id": "ae5cb8b5",
   "metadata": {},
   "outputs": [
    {
     "data": {
      "text/plain": [
       "Power_divergenceResult(statistic=44.95906432748538, pvalue=2.0119672574477235e-11)"
      ]
     },
     "execution_count": 116,
     "metadata": {},
     "output_type": "execute_result"
    }
   ],
   "source": [
    "from scipy.stats import chisquare\n",
    "chi=chisquare(table, f_exp=[171, 171])\n",
    "chi"
   ]
  },
  {
   "cell_type": "markdown",
   "id": "44cf1ca7",
   "metadata": {},
   "source": [
    "귀무가설을 기각한다. 타이타닉호의 생존자 중 남자의 비율이 50%, 여자의 비율이 50%라고 할 수 없다."
   ]
  },
  {
   "cell_type": "markdown",
   "id": "9f9efe26",
   "metadata": {},
   "source": [
    "## 6. Run-test(연관규칙 찾기 전)\n",
    "- 연속적인 binary 관측값들이 임의적으로 나타난 값인지 연관이 있는지 먼저 검정\n",
    "\n",
    "H0 : 관측값이 임의적이다(연관x)\n",
    "\n",
    "H1 : 관측값이 임의적이 아니다(연관o)"
   ]
  },
  {
   "cell_type": "code",
   "execution_count": 132,
   "id": "d785c8b6",
   "metadata": {},
   "outputs": [],
   "source": [
    "import pandas as pd\n",
    "data={'product':['a','a','b', 'b', 'a','a','a','a','b','b','b','b','b','a','a','b','b','a','b','b']}\n",
    "a=9\n",
    "b=11"
   ]
  },
  {
   "cell_type": "code",
   "execution_count": 141,
   "id": "923184e8",
   "metadata": {},
   "outputs": [
    {
     "name": "stdout",
     "output_type": "stream",
     "text": [
      "<class 'pandas.core.frame.DataFrame'>\n",
      "RangeIndex: 20 entries, 0 to 19\n",
      "Data columns (total 1 columns):\n",
      " #   Column   Non-Null Count  Dtype \n",
      "---  ------   --------------  ----- \n",
      " 0   product  20 non-null     object\n",
      "dtypes: object(1)\n",
      "memory usage: 288.0+ bytes\n",
      "<class 'pandas.core.frame.DataFrame'>\n",
      "RangeIndex: 20 entries, 0 to 19\n",
      "Data columns (total 1 columns):\n",
      " #   Column   Non-Null Count  Dtype \n",
      "---  ------   --------------  ----- \n",
      " 0   product  20 non-null     object\n",
      "dtypes: object(1)\n",
      "memory usage: 288.0+ bytes\n"
     ]
    }
   ],
   "source": [
    "test_df=pd.DataFrame(data)\n",
    "len(test_df)\n",
    "test_df.info()\n",
    "#test_df['product'] = test_df['product'].astype(str)\n",
    "#test_df.info()"
   ]
  },
  {
   "cell_type": "code",
   "execution_count": 142,
   "id": "4613dbcd",
   "metadata": {},
   "outputs": [
    {
     "data": {
      "text/plain": [
       "3.0"
      ]
     },
     "execution_count": 142,
     "metadata": {},
     "output_type": "execute_result"
    }
   ],
   "source": [
    "mean=2*a*b/(a*b)+1\n",
    "mean"
   ]
  },
  {
   "cell_type": "code",
   "execution_count": 145,
   "id": "d4a00a5b",
   "metadata": {},
   "outputs": [],
   "source": [
    "test_df.loc[test_df['product']=='a', 'product']=1\n",
    "test_df.loc[test_df['product']=='b', 'product']=0"
   ]
  },
  {
   "cell_type": "code",
   "execution_count": 150,
   "id": "fb9d24a5",
   "metadata": {},
   "outputs": [
    {
     "data": {
      "text/plain": [
       "(-1.1144881152070183, 0.26506984027306035)"
      ]
     },
     "execution_count": 150,
     "metadata": {},
     "output_type": "execute_result"
    }
   ],
   "source": [
    "from statsmodels.sandbox.stats.runs import runstest_1samp\n",
    "runstest_1samp(test_df['product'], cutoff=0.5, correction=True)"
   ]
  },
  {
   "cell_type": "markdown",
   "id": "b7c15196",
   "metadata": {},
   "source": [
    "귀무가설을 기각할 수 없다. 즉 상품a와 b의 구매에는 연관이 없다."
   ]
  }
 ],
 "metadata": {
  "kernelspec": {
   "display_name": "Python 3 (ipykernel)",
   "language": "python",
   "name": "python3"
  },
  "language_info": {
   "codemirror_mode": {
    "name": "ipython",
    "version": 3
   },
   "file_extension": ".py",
   "mimetype": "text/x-python",
   "name": "python",
   "nbconvert_exporter": "python",
   "pygments_lexer": "ipython3",
   "version": "3.8.5"
  }
 },
 "nbformat": 4,
 "nbformat_minor": 5
}
