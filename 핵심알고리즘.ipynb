{
 "cells": [
  {
   "cell_type": "markdown",
   "id": "58d12e28",
   "metadata": {},
   "source": [
    "- 패키지 임포트"
   ]
  },
  {
   "cell_type": "code",
   "execution_count": 5,
   "id": "17a24a4f",
   "metadata": {},
   "outputs": [],
   "source": [
    "#시험전에 임포트\n",
    "import pandas as pd\n",
    "import numpy as np\n",
    "import seaborn as sns\n",
    "import matplotlib.pyplot as plt\n",
    "%matplotlib inline\n",
    "from sklearn.preprocessing import StandardScaler\n",
    "from sklearn.datasets import load_boston, load_breast_cancer\n",
    "from sklearn.svm import LinearSVC, SVC, LinearSVR, SVR\n",
    "from sklearn.naive_bayes import GaussianNB\n",
    "from sklearn.model_selection import train_test_split\n",
    "from sklearn.tree import DecisionTreeClassifier, DecisionTreeRegressor\n",
    "from sklearn.ensemble import RandomForestClassifier, RandomForestRegressor, GradientBoostingClassifier, GradientBoostingRegressor, VotingClassifier, VotingRegressor, StackingClassifier, StackingRegressor\n",
    "from sklearn.neighbors import KNeighborsClassifier, KNeighborsRegressor\n",
    "from sklearn.metrics import accuracy_score, mean_squared_error\n",
    "from lightgbm import LGBMClassifier, LGBMRegressor\n",
    "from xgboost import XGBClassifier, XGBRegressor\n",
    "import warnings\n",
    "warnings.filterwarnings('ignore')"
   ]
  },
  {
   "cell_type": "markdown",
   "id": "7b08cdd3",
   "metadata": {},
   "source": [
    "## 1. SVM(서포트 벡터 머신)\n",
    "201p\n",
    "- 분류, 예측 모두 사용\n",
    "- 정규화 필요\n",
    "- 예측 정확도가 높음\n",
    "- 고차원, 저차원에 모두 잘 작동\n",
    "- 범주형 변수를 독립변수로 사용할 수 없어 더미변환\n",
    "\n",
    "<단점>\n",
    "- 과대적합, 과소적합을 피하기 위해서는 매개변수 설정이 필요(파라미터값 조정)\n",
    "- 모델의 해석이 어렵다\n",
    "- 대용량 데이터 구축시 속도가 느리며 과적합, 이상치에 민감\n",
    "- 과적합과 이상치에 민감\n",
    "\n",
    "<파라미터>\n",
    "- C : 항상 양수여야함"
   ]
  },
  {
   "cell_type": "markdown",
   "id": "212465f1",
   "metadata": {},
   "source": [
    "## 1-1. 분류(LinearSVC)"
   ]
  },
  {
   "cell_type": "markdown",
   "id": "981bf4aa",
   "metadata": {},
   "source": [
    "- 데이터 가져오기"
   ]
  },
  {
   "cell_type": "code",
   "execution_count": 19,
   "id": "0482cf76",
   "metadata": {},
   "outputs": [],
   "source": [
    "data1=pd.DataFrame(load_breast_cancer().data, columns=load_breast_cancer().feature_names)\n",
    "data1['target']=load_breast_cancer().target"
   ]
  },
  {
   "cell_type": "code",
   "execution_count": 20,
   "id": "3e210dad",
   "metadata": {},
   "outputs": [],
   "source": [
    "X1=data1.iloc[:, :-1]\n",
    "y1=data1[['target']]"
   ]
  },
  {
   "cell_type": "code",
   "execution_count": 21,
   "id": "e5f13fd8",
   "metadata": {},
   "outputs": [],
   "source": [
    "#스케일에 민감, 정규화 필요\n",
    "scaler = StandardScaler()\n",
    "X1_scaled=scaler.fit_transform(X1)"
   ]
  },
  {
   "cell_type": "code",
   "execution_count": 22,
   "id": "b43fa4c5",
   "metadata": {},
   "outputs": [
    {
     "data": {
      "text/plain": [
       "0.956140350877193"
      ]
     },
     "execution_count": 22,
     "metadata": {},
     "output_type": "execute_result"
    }
   ],
   "source": [
    "#train/test분리\n",
    "X1_train, X1_test, y1_train, y1_test=train_test_split(X1_scaled, y1, test_size=0.2, random_state=42)\n",
    "\n",
    "#모델생성\n",
    "svc=LinearSVC(random_state=42)\n",
    "svc.fit(X1_train, y1_train)\n",
    "pred=svc.predict(X1_test)\n",
    "\n",
    "#정확도\n",
    "score=accuracy_score(y1_test, pred)\n",
    "score"
   ]
  },
  {
   "cell_type": "code",
   "execution_count": 23,
   "id": "fa1e27e8",
   "metadata": {},
   "outputs": [
    {
     "data": {
      "image/png": "[encoded data removed]",
      "text/plain": [
       "<Figure size 720x432 with 1 Axes>"
      ]
     },
     "metadata": {
      "needs_background": "light"
     },
     "output_type": "display_data"
    }
   ],
   "source": [
    "#변수중요도 : 모델명.coef_.tolist()[0]\n",
    "plt.figure(figsize=(10,6))\n",
    "sns.barplot(y=X1.columns.tolist(), x=svc.coef_.tolist()[0], edgecolor=(0,0,0))\n",
    "plt.show()"
   ]
  },
  {
   "cell_type": "code",
   "execution_count": 24,
   "id": "a77e56d5",
   "metadata": {},
   "outputs": [
    {
     "data": {
      "text/plain": [
       "0.868421052631579"
      ]
     },
     "execution_count": 24,
     "metadata": {},
     "output_type": "execute_result"
    }
   ],
   "source": [
    "svc=SVC(random_state=42, kernel='poly')\n",
    "svc.fit(X1_train, y1_train)\n",
    "pred=svc.predict(X1_test)\n",
    "accuracy_score(y1_test, pred)\n",
    "#->LinearSVC가 더 성능이 좋다"
   ]
  },
  {
   "cell_type": "markdown",
   "id": "77e2e5c4",
   "metadata": {},
   "source": [
    "## 1-2. 회귀(SVR)"
   ]
  },
  {
   "cell_type": "code",
   "execution_count": 25,
   "id": "8a394008",
   "metadata": {},
   "outputs": [
    {
     "data": {
      "text/html": [
       "<div>\n",
       "<style scoped>\n",
       "    .dataframe tbody tr th:only-of-type {\n",
       "        vertical-align: middle;\n",
       "    }\n",
       "\n",
       "    .dataframe tbody tr th {\n",
       "        vertical-align: top;\n",
       "    }\n",
       "\n",
       "    .dataframe thead th {\n",
       "        text-align: right;\n",
       "    }\n",
       "</style>\n",
       "<table border=\"1\" class=\"dataframe\">\n",
       "  <thead>\n",
       "    <tr style=\"text-align: right;\">\n",
       "      <th></th>\n",
       "      <th>CRIM</th>\n",
       "      <th>ZN</th>\n",
       "      <th>INDUS</th>\n",
       "      <th>CHAS</th>\n",
       "      <th>NOX</th>\n",
       "      <th>RM</th>\n",
       "      <th>AGE</th>\n",
       "      <th>DIS</th>\n",
       "      <th>RAD</th>\n",
       "      <th>TAX</th>\n",
       "      <th>PTRATIO</th>\n",
       "      <th>B</th>\n",
       "      <th>LSTAT</th>\n",
       "      <th>target</th>\n",
       "    </tr>\n",
       "  </thead>\n",
       "  <tbody>\n",
       "    <tr>\n",
       "      <th>0</th>\n",
       "      <td>0.00632</td>\n",
       "      <td>18.0</td>\n",
       "      <td>2.31</td>\n",
       "      <td>0.0</td>\n",
       "      <td>0.538</td>\n",
       "      <td>6.575</td>\n",
       "      <td>65.2</td>\n",
       "      <td>4.0900</td>\n",
       "      <td>1.0</td>\n",
       "      <td>296.0</td>\n",
       "      <td>15.3</td>\n",
       "      <td>396.90</td>\n",
       "      <td>4.98</td>\n",
       "      <td>24.0</td>\n",
       "    </tr>\n",
       "    <tr>\n",
       "      <th>1</th>\n",
       "      <td>0.02731</td>\n",
       "      <td>0.0</td>\n",
       "      <td>7.07</td>\n",
       "      <td>0.0</td>\n",
       "      <td>0.469</td>\n",
       "      <td>6.421</td>\n",
       "      <td>78.9</td>\n",
       "      <td>4.9671</td>\n",
       "      <td>2.0</td>\n",
       "      <td>242.0</td>\n",
       "      <td>17.8</td>\n",
       "      <td>396.90</td>\n",
       "      <td>9.14</td>\n",
       "      <td>21.6</td>\n",
       "    </tr>\n",
       "    <tr>\n",
       "      <th>2</th>\n",
       "      <td>0.02729</td>\n",
       "      <td>0.0</td>\n",
       "      <td>7.07</td>\n",
       "      <td>0.0</td>\n",
       "      <td>0.469</td>\n",
       "      <td>7.185</td>\n",
       "      <td>61.1</td>\n",
       "      <td>4.9671</td>\n",
       "      <td>2.0</td>\n",
       "      <td>242.0</td>\n",
       "      <td>17.8</td>\n",
       "      <td>392.83</td>\n",
       "      <td>4.03</td>\n",
       "      <td>34.7</td>\n",
       "    </tr>\n",
       "    <tr>\n",
       "      <th>3</th>\n",
       "      <td>0.03237</td>\n",
       "      <td>0.0</td>\n",
       "      <td>2.18</td>\n",
       "      <td>0.0</td>\n",
       "      <td>0.458</td>\n",
       "      <td>6.998</td>\n",
       "      <td>45.8</td>\n",
       "      <td>6.0622</td>\n",
       "      <td>3.0</td>\n",
       "      <td>222.0</td>\n",
       "      <td>18.7</td>\n",
       "      <td>394.63</td>\n",
       "      <td>2.94</td>\n",
       "      <td>33.4</td>\n",
       "    </tr>\n",
       "    <tr>\n",
       "      <th>4</th>\n",
       "      <td>0.06905</td>\n",
       "      <td>0.0</td>\n",
       "      <td>2.18</td>\n",
       "      <td>0.0</td>\n",
       "      <td>0.458</td>\n",
       "      <td>7.147</td>\n",
       "      <td>54.2</td>\n",
       "      <td>6.0622</td>\n",
       "      <td>3.0</td>\n",
       "      <td>222.0</td>\n",
       "      <td>18.7</td>\n",
       "      <td>396.90</td>\n",
       "      <td>5.33</td>\n",
       "      <td>36.2</td>\n",
       "    </tr>\n",
       "  </tbody>\n",
       "</table>\n",
       "</div>"
      ],
      "text/plain": [
       "      CRIM    ZN  INDUS  CHAS    NOX     RM   AGE     DIS  RAD    TAX  \\\n",
       "0  0.00632  18.0   2.31   0.0  0.538  6.575  65.2  4.0900  1.0  296.0   \n",
       "1  0.02731   0.0   7.07   0.0  0.469  6.421  78.9  4.9671  2.0  242.0   \n",
       "2  0.02729   0.0   7.07   0.0  0.469  7.185  61.1  4.9671  2.0  242.0   \n",
       "3  0.03237   0.0   2.18   0.0  0.458  6.998  45.8  6.0622  3.0  222.0   \n",
       "4  0.06905   0.0   2.18   0.0  0.458  7.147  54.2  6.0622  3.0  222.0   \n",
       "\n",
       "   PTRATIO       B  LSTAT  target  \n",
       "0     15.3  396.90   4.98    24.0  \n",
       "1     17.8  396.90   9.14    21.6  \n",
       "2     17.8  392.83   4.03    34.7  \n",
       "3     18.7  394.63   2.94    33.4  \n",
       "4     18.7  396.90   5.33    36.2  "
      ]
     },
     "execution_count": 25,
     "metadata": {},
     "output_type": "execute_result"
    }
   ],
   "source": [
    "data2=pd.DataFrame(load_boston().data, columns=load_boston().feature_names)\n",
    "data2['target']=load_boston().target\n",
    "\n",
    "data2.head()"
   ]
  },
  {
   "cell_type": "code",
   "execution_count": 26,
   "id": "625eb862",
   "metadata": {},
   "outputs": [],
   "source": [
    "X2=data2.iloc[:, :-1]\n",
    "y2=data2[['target']]"
   ]
  },
  {
   "cell_type": "code",
   "execution_count": 27,
   "id": "c90016d6",
   "metadata": {},
   "outputs": [],
   "source": [
    "scaler=StandardScaler()\n",
    "X2_scale=scaler.fit_transform(X2)\n",
    "\n",
    "X2_train, X2_test, y2_train, y2_test=train_test_split(X2_scale, y2, test_size=0.2, random_state=42)"
   ]
  },
  {
   "cell_type": "code",
   "execution_count": 28,
   "id": "e51aa194",
   "metadata": {},
   "outputs": [
    {
     "data": {
      "text/plain": [
       "25.693036656663224"
      ]
     },
     "execution_count": 28,
     "metadata": {},
     "output_type": "execute_result"
    }
   ],
   "source": [
    "svr=SVR()\n",
    "svr.fit(X2_train, y2_train)\n",
    "pred=svr.predict(X2_test)\n",
    "mse=mean_squared_error(y2_test, pred)\n",
    "mse"
   ]
  },
  {
   "cell_type": "markdown",
   "id": "fc0d0089",
   "metadata": {},
   "source": [
    "## 2. 의사결정나무\n",
    "p231\n",
    "\n",
    "<장점>\n",
    "- 결과를 설명하기 용이하다.\n",
    "- 모형을 만드는 방법이 간단하다.\n",
    "- 대용량 데이터에 빠르게 만들 수 있다.\n",
    "- 비정상 잡음에 대해서도 민감함 없이 분류가 가능(전처리 과정에 모델의 성능이 큰 영향을 받지 않음)\n",
    "- 상관성이 높은 변수에도 크게 영향x\n",
    "- 스케일링 작업이 필요하지 않다.\n",
    "\n",
    "<단점>\n",
    "- 과대적합 가능성이 높다.\n",
    "- 분류 경계선 부근의 자료값에 대해 오차가 크다.\n",
    "- 설명변수 간의 중요도를 판단하기 쉽지 않다."
   ]
  },
  {
   "cell_type": "markdown",
   "id": "a188c606",
   "metadata": {},
   "source": [
    "## 2-1. 분류(DecisionTreeClassifier)"
   ]
  },
  {
   "cell_type": "code",
   "execution_count": 29,
   "id": "7d6abf3d",
   "metadata": {},
   "outputs": [
    {
     "data": {
      "text/plain": [
       "0.9473684210526315"
      ]
     },
     "execution_count": 29,
     "metadata": {},
     "output_type": "execute_result"
    }
   ],
   "source": [
    "X1_train, X1_test, y1_train, y2_test = train_test_split(X1_scaled,y1, test_size=0.2, random_state=42)\n",
    "\n",
    "dtc=DecisionTreeClassifier(random_state=42)\n",
    "dtc.fit(X1_train, y1_train)\n",
    "pred=dtc.predict(X1_test)\n",
    "accuracy_score(y1_test, pred)"
   ]
  },
  {
   "cell_type": "code",
   "execution_count": 30,
   "id": "365fee09",
   "metadata": {},
   "outputs": [
    {
     "data": {
      "text/plain": [
       "<AxesSubplot:>"
      ]
     },
     "execution_count": 30,
     "metadata": {},
     "output_type": "execute_result"
    },
    {
     "data": {
      "image/png": "[encoded data removed]",
      "text/plain": [
       "<Figure size 720x432 with 1 Axes>"
      ]
     },
     "metadata": {
      "needs_background": "light"
     },
     "output_type": "display_data"
    }
   ],
   "source": [
    "#변수중요도 : 모델명.feature_importances_\n",
    "plt.figure(figsize=(10,6))\n",
    "sns.barplot(y=X1.columns.tolist(), x=dtc.feature_importances_, edgecolor=(0,0,0))"
   ]
  },
  {
   "cell_type": "markdown",
   "id": "78639c61",
   "metadata": {},
   "source": [
    "## 2-2. 회귀(DecisionTreeRegressor)"
   ]
  },
  {
   "cell_type": "code",
   "execution_count": 31,
   "id": "0f995311",
   "metadata": {},
   "outputs": [
    {
     "data": {
      "text/plain": [
       "10.416078431372549"
      ]
     },
     "execution_count": 31,
     "metadata": {},
     "output_type": "execute_result"
    }
   ],
   "source": [
    "X2_train, X2_test, y2_train, y2_test=train_test_split(X2_scale, y2, test_size=0.2, random_state=42)\n",
    "\n",
    "dtr=DecisionTreeRegressor(random_state=42)\n",
    "dtr.fit(X2_train, y2_train)\n",
    "pred=dtr.predict(X2_test)\n",
    "\n",
    "mean_squared_error(y2_test, pred)"
   ]
  },
  {
   "cell_type": "markdown",
   "id": "59c90f61",
   "metadata": {},
   "source": [
    "## 3. 앙상블(부스팅) - GradientBoosting\n",
    "- 부스팅은 예측력이 약한 모형들을 순차적으로 학습시켜 강한 예측모형을 만듬. 예측하면서 잘못 예측한 데이터에 대해 가중치를 부여해 오류를 개선해나가며 학습. \n",
    "- GradientBoosting(GBM)은 가중치 업데이트에 Gradient Descent(경사하강법)을 이용\n",
    "- 정의된 손실함수를 기준으로 오차를 계산하고 트리 기반의 약한 학습기를 만들어 오차를 줄일 수 있도록 가중치를 갱신하여 학습 진행\n",
    "\n",
    "<장점>\n",
    "- 배깅에 비해 모델의 장점을 최적화하고 Train데이터에 대해 오류가 적은 결합모델을 생성할 수 있음\n",
    "\n",
    "<단점>\n",
    "- 과적합 위험성"
   ]
  },
  {
   "cell_type": "markdown",
   "id": "a87239c7",
   "metadata": {},
   "source": [
    "## 3-1. 분류(GradientBoostingClassifier)"
   ]
  },
  {
   "cell_type": "code",
   "execution_count": 32,
   "id": "ce9f0460",
   "metadata": {},
   "outputs": [
    {
     "data": {
      "text/plain": [
       "0.956140350877193"
      ]
     },
     "execution_count": 32,
     "metadata": {},
     "output_type": "execute_result"
    }
   ],
   "source": [
    "gbc=GradientBoostingClassifier(random_state=42)\n",
    "gbc.fit(X1_train, y1_train)\n",
    "pred=gbc.predict(X1_test)\n",
    "accuracy_score(y1_test, pred)"
   ]
  },
  {
   "cell_type": "code",
   "execution_count": 33,
   "id": "4b68aebc",
   "metadata": {},
   "outputs": [
    {
     "data": {
      "image/png": "[encoded data removed]",
      "text/plain": [
       "<Figure size 720x432 with 1 Axes>"
      ]
     },
     "metadata": {
      "needs_background": "light"
     },
     "output_type": "display_data"
    }
   ],
   "source": [
    "#변수중요도 : 모델명.feature_importances_\n",
    "plt.figure(figsize=(10,6))\n",
    "sns.barplot(y=X1.columns.tolist(), x=gbc.feature_importances_, edgecolor=(0,0,0))\n",
    "plt.show()"
   ]
  },
  {
   "cell_type": "markdown",
   "id": "311a9b3e",
   "metadata": {},
   "source": [
    "## 3-2. 회귀(GradientBoostingRegressor)"
   ]
  },
  {
   "cell_type": "code",
   "execution_count": 39,
   "id": "c18104de",
   "metadata": {},
   "outputs": [
    {
     "data": {
      "text/plain": [
       "6.208180149640464"
      ]
     },
     "execution_count": 39,
     "metadata": {},
     "output_type": "execute_result"
    }
   ],
   "source": [
    "gbr=GradientBoostingRegressor(random_state=42)\n",
    "gbr.fit(X2_train, y2_train)\n",
    "pred=gbr.predict(X2_test)\n",
    "mean_squared_error(y2_test, pred)"
   ]
  },
  {
   "cell_type": "markdown",
   "id": "5867c556",
   "metadata": {},
   "source": [
    "## 4. 앙상블(부스팅) - XGBoost\n",
    "- GBM을 기반으로함, 느린 수행시간 및 과적합 규제 부재 등의 문제를 해결하였다.\n",
    "- 특히 병렬 CPU 환경에서 병렬학습이 가능해 기존 GBM보다 빠르게 학습 가능\n",
    "\n",
    "<장점>\n",
    "- 뛰어난 예측 성능\n",
    "- GBM대비 빠른 수행 시간\n",
    "- 과적합 규제\n",
    "- 나무 가지치기 : 가지치기로 긍정 이득이 더 이상 없는 분할은 분할 수를 줄이는 장점\n",
    "- 자체 내장된 교차 검증\n",
    "- 결손값 자체 처리"
   ]
  },
  {
   "cell_type": "markdown",
   "id": "add4f8e3",
   "metadata": {},
   "source": [
    "## 4-1. 분류(XGBClassifier)"
   ]
  },
  {
   "cell_type": "code",
   "execution_count": 35,
   "id": "fba5aac5",
   "metadata": {},
   "outputs": [],
   "source": [
    "xgbc=XGBClassifier(random_state=42)\n",
    "xgbc.fit(X1_train, y1_train)\n",
    "pred=xgbc.predict(X1_test)"
   ]
  },
  {
   "cell_type": "code",
   "execution_count": 36,
   "id": "31368bf6",
   "metadata": {},
   "outputs": [
    {
     "data": {
      "text/plain": [
       "0.956140350877193"
      ]
     },
     "execution_count": 36,
     "metadata": {},
     "output_type": "execute_result"
    }
   ],
   "source": [
    "accuracy_score(y1_test, pred)"
   ]
  },
  {
   "cell_type": "code",
   "execution_count": 37,
   "id": "8df8c3a1",
   "metadata": {},
   "outputs": [
    {
     "data": {
      "image/png": "[encoded data removed]",
      "text/plain": [
       "<Figure size 720x432 with 1 Axes>"
      ]
     },
     "metadata": {
      "needs_background": "light"
     },
     "output_type": "display_data"
    }
   ],
   "source": [
    "#변수중요도 : 모델명.feature_importances_\n",
    "plt.figure(figsize=(10,6))\n",
    "sns.barplot(y=X1.columns.tolist(), x=xgbc.feature_importances_, edgecolor=(0,0,0))\n",
    "plt.show()"
   ]
  },
  {
   "cell_type": "markdown",
   "id": "5464b72b",
   "metadata": {},
   "source": [
    "## 4-2. 회귀(XGBRegressor)"
   ]
  },
  {
   "cell_type": "code",
   "execution_count": 38,
   "id": "cad28cd4",
   "metadata": {},
   "outputs": [
    {
     "data": {
      "text/plain": [
       "6.747557632786527"
      ]
     },
     "execution_count": 38,
     "metadata": {},
     "output_type": "execute_result"
    }
   ],
   "source": [
    "xgbr = XGBRegressor(random_state = 42)\n",
    "xgbr.fit(X2_train, y2_train)\n",
    "pred = xgbr.predict(X2_test)\n",
    "\n",
    "mean_squared_error(y2_test, pred)"
   ]
  },
  {
   "cell_type": "markdown",
   "id": "84431eed",
   "metadata": {},
   "source": [
    "## 5. 앙상블(부스팅) - LGBM\n",
    "- XGBoost보다 학습시간에 걸리는 시간이 훨씬 적고, 메모리 사용시간도 상대적으로 적다. 일반 GBM과 다르게 최대한 균형잡힌 트리를 유지하면서 분할하기 때문에, 트리의 깊이가 최소화 될 수 있다. 균형 잡힌 트리를 생성하는 이유는 오버피팅에 더 강한 구조를 가질 수 있기 때문인데, 반대로 균형을 맞추기 위해 시간이 필요하다는 상대적인 단점이 있다. 하지만 LightGBM의 리프 중심 트리 분할 방식은 트리의 균형을 맞추지 않고 최대 손실값을 가지는 리프노드를 지속적으로 분할하면서 트리의 깊이가 깊어지고 비대칭적인 규칙트리가 생성된다.\n",
    "\n",
    "<장점>\n",
    "- 더 빠른 학습과 예측 수행시간\n",
    "- 더 작은 메모리 사용량\n",
    "- 카테고리형 피처의 자동변환과 최적 분할\n",
    "\n",
    "<단점>\n",
    "- 적은데이터에 적용할 경우 과적합 발생이 쉬움"
   ]
  },
  {
   "cell_type": "markdown",
   "id": "4dcf13bc",
   "metadata": {},
   "source": [
    "## 5-1. 분류(LGBMClassifier)"
   ]
  },
  {
   "cell_type": "code",
   "execution_count": 42,
   "id": "50ab3071",
   "metadata": {},
   "outputs": [
    {
     "data": {
      "text/plain": [
       "0.9736842105263158"
      ]
     },
     "execution_count": 42,
     "metadata": {},
     "output_type": "execute_result"
    }
   ],
   "source": [
    "lgbc=LGBMClassifier(random_state=42)\n",
    "lgbc.fit(X1_train, y1_train)\n",
    "pred=lgbc.predict(X1_test)\n",
    "accuracy_score(y1_test, pred)"
   ]
  },
  {
   "cell_type": "code",
   "execution_count": 45,
   "id": "26d9becf",
   "metadata": {},
   "outputs": [
    {
     "data": {
      "image/png": "[encoded data removed]",
      "text/plain": [
       "<Figure size 720x432 with 1 Axes>"
      ]
     },
     "metadata": {
      "needs_background": "light"
     },
     "output_type": "display_data"
    }
   ],
   "source": [
    "#변수중요도 : 모델명.feature_importances_\n",
    "plt.figure(figsize=(10,6))\n",
    "sns.barplot(y=X1.columns.tolist(), x=lgbc.feature_importances_, edgecolor=(0,0,0))\n",
    "plt.show()"
   ]
  },
  {
   "cell_type": "markdown",
   "id": "734c545f",
   "metadata": {},
   "source": [
    "## 5-2. 회귀(LGBMRegressor)"
   ]
  },
  {
   "cell_type": "code",
   "execution_count": 46,
   "id": "733bffe0",
   "metadata": {},
   "outputs": [
    {
     "data": {
      "text/plain": [
       "7.779711929124046"
      ]
     },
     "execution_count": 46,
     "metadata": {},
     "output_type": "execute_result"
    }
   ],
   "source": [
    "lgbr=LGBMRegressor(random_state=42)\n",
    "lgbr.fit(X2_train, y2_train)\n",
    "pred=lgbr.predict(X2_test)\n",
    "mean_squared_error(y2_test, pred)"
   ]
  },
  {
   "cell_type": "markdown",
   "id": "688c4ebd",
   "metadata": {},
   "source": [
    "## 6. 앙상블(랜덤포레스트)\n",
    "배깅이 사용되며 배깅은 같은 알고리즘으로 여러 분류기를 만들어 보팅으로 최종 결정하는 알고리즘이다. 앙상블 알고리즘 중에서 비교적 빠른 속도를 가지고 있으며, 좋은 성능을 보임\n",
    "\n",
    "랜덤 포레스트는 여러 개의 결정 트리 분류기가 전체 데이터에서 배깅 방식으로 각자의 데이터를 샘플링해 개별적으로 학습을 수행한 뒤 최종적으로 모든 분류기가 보팅을 통해 예측 결정을 하게된다. 또한 개별 트리가 학습하는 데이터는 전체 데이터에서 일부가 중첩되게 만든 데이터이다.\n",
    "\n",
    "<장점>\n",
    "- 앙상블 알고리즘 중 비교적 빠른 속도\n",
    "- 다양한 영역에서 좋은 성능을 보임\n",
    "- 결정 트리의 쉽고 직관적인 장점\n",
    "\n",
    "<단점>\n",
    "- 하이퍼파라미터가 너무 많고 튜닝을 위한 시간이 많이 소모됨"
   ]
  },
  {
   "cell_type": "markdown",
   "id": "3e36bfe5",
   "metadata": {},
   "source": [
    "## 6-1. 분류(RandomForestClassifier)"
   ]
  },
  {
   "cell_type": "code",
   "execution_count": 47,
   "id": "44e2b3b4",
   "metadata": {},
   "outputs": [
    {
     "data": {
      "text/plain": [
       "0.9649122807017544"
      ]
     },
     "execution_count": 47,
     "metadata": {},
     "output_type": "execute_result"
    }
   ],
   "source": [
    "rfc=RandomForestClassifier(random_state=42)\n",
    "rfc.fit(X1_train, y1_train)\n",
    "pred=rfc.predict(X1_test)\n",
    "accuracy_score(y1_test, pred)"
   ]
  },
  {
   "cell_type": "code",
   "execution_count": 48,
   "id": "e8fa7846",
   "metadata": {},
   "outputs": [
    {
     "data": {
      "image/png": "[encoded data removed]",
      "text/plain": [
       "<Figure size 720x360 with 1 Axes>"
      ]
     },
     "metadata": {
      "needs_background": "light"
     },
     "output_type": "display_data"
    }
   ],
   "source": [
    "#변수중요도 : 모델명.feature_importances_\n",
    "plt.figure(figsize=(10,5))\n",
    "sns.barplot(y=X1.columns.tolist(), x=rfc.feature_importances_, edgecolor=(0,0,0))\n",
    "plt.show()"
   ]
  },
  {
   "cell_type": "markdown",
   "id": "3cd8283b",
   "metadata": {},
   "source": [
    "## 6-2. 회귀(RandomForestRegressor)"
   ]
  },
  {
   "cell_type": "code",
   "execution_count": 49,
   "id": "05fd83ed",
   "metadata": {},
   "outputs": [
    {
     "data": {
      "text/plain": [
       "7.9271453333333355"
      ]
     },
     "execution_count": 49,
     "metadata": {},
     "output_type": "execute_result"
    }
   ],
   "source": [
    "rfr=RandomForestRegressor(random_state=42)\n",
    "rfr.fit(X2_train, y2_train)\n",
    "pred=rfr.predict(X2_test)\n",
    "mean_squared_error(y2_test, pred)"
   ]
  },
  {
   "cell_type": "markdown",
   "id": "14a8b6fe",
   "metadata": {},
   "source": [
    "## 7. Naive Bayes(나이브 베이즈)\n",
    "베이즈 정리의 조건부 독립을 가정하는 알고리즘으로 클래스에 대한 사전정보와 데이터로부터 추출된 정보를 결합하고 베이즈 정리를 이용하여 클래스 분류\n",
    "\n",
    "<장점>\n",
    "- 간단하며 빠르고 효율적인 알고리즘이다.\n",
    "- 잡음과 누락 데이터를 잘 처리\n",
    "- 훈련을 할 때, 데이터 크기에 상관없이 잘 동작\n",
    "- 예측을 위한 추정 확률을 쉽게 얻을 수 있다.\n",
    "\n",
    "<단점>\n",
    "- 모든 특징이 동등하게 중요하고, 독립이라는 가정이 잘못된 경우가 있다.(ex:텍스트의 단어들, 일기예보를 할 때도 습도와 같은 중요한 특징을 다른 특징과 동등하다 판단하고 모델 학습)\n",
    "- 수치 특지잉 많은 데이터셋에는 이상적이지 않음\n",
    "- 추정된 확률이 예측된 클래스보다 덜 신뢰할만함\n",
    "\n",
    "<활용분야>\n",
    "- 스팸필터링, 이진분류, 비정상적인 상황 감지, 컴퓨터 네트워크 침입이나 비정상 행위 등을 탐지"
   ]
  },
  {
   "cell_type": "markdown",
   "id": "d2eb6a70",
   "metadata": {},
   "source": [
    "## 7-1. 분류(GausianNB)"
   ]
  },
  {
   "cell_type": "code",
   "execution_count": 50,
   "id": "6f545e97",
   "metadata": {},
   "outputs": [
    {
     "data": {
      "text/plain": [
       "0.9649122807017544"
      ]
     },
     "execution_count": 50,
     "metadata": {},
     "output_type": "execute_result"
    }
   ],
   "source": [
    "gnu=GaussianNB()\n",
    "gnu.fit(X1_train, y1_train)\n",
    "pred=gnu.predict(X1_test)\n",
    "accuracy_score(y1_test, pred)"
   ]
  },
  {
   "cell_type": "markdown",
   "id": "312262ce",
   "metadata": {},
   "source": [
    "## 8. KNN(K-Nearest Neighbor)\n",
    "새로운 데이터의 클래스를 해당 데이터와 가장 가까운 k개의 데이터의 클래스로 결정한다.\n",
    "유클리디안, 맨하탄, 민코우스키 등 다양한 거리 함수를 사용할 수 있고, 대표적으로 유클리디안 거리를 사용한다.\n",
    "\n",
    "<장점>\n",
    "- 사용이 간단함\n",
    "- 범주를 나눈 기준을 몰라도 데이터를 분류할 수 있음\n",
    "- 추가된 데이터의 처리가 용이함\n",
    "\n",
    "<단점>\n",
    "- k값의 결정이 어려움\n",
    "- 비수치 데이터의 경우 유사도를 정의하기 어려움\n",
    "- 이상치가 존재하면 성능에 큰 영향을 미침"
   ]
  },
  {
   "cell_type": "markdown",
   "id": "7a6d5899",
   "metadata": {},
   "source": [
    "## 8-1. 분류(KneighborsClassifier)"
   ]
  },
  {
   "cell_type": "code",
   "execution_count": 51,
   "id": "e618eb1b",
   "metadata": {},
   "outputs": [
    {
     "data": {
      "text/plain": [
       "0.9473684210526315"
      ]
     },
     "execution_count": 51,
     "metadata": {},
     "output_type": "execute_result"
    }
   ],
   "source": [
    "knn=KNeighborsClassifier()\n",
    "knn.fit(X1_train, y1_train)\n",
    "pred=knn.predict(X1_test)\n",
    "accuracy_score(y1_test, pred)"
   ]
  },
  {
   "cell_type": "markdown",
   "id": "a61478a7",
   "metadata": {},
   "source": [
    "## 8-2. 회귀(KNeighborsRegressor)"
   ]
  },
  {
   "cell_type": "code",
   "execution_count": 52,
   "id": "2cd73b6a",
   "metadata": {},
   "outputs": [
    {
     "data": {
      "text/plain": [
       "20.65732549019608"
      ]
     },
     "execution_count": 52,
     "metadata": {},
     "output_type": "execute_result"
    }
   ],
   "source": [
    "knnr=KNeighborsRegressor()\n",
    "knnr.fit(X2_train, y2_train)\n",
    "pred=knnr.predict(X2_test)\n",
    "mean_squared_error(y2_test, pred)"
   ]
  },
  {
   "cell_type": "markdown",
   "id": "f09c9437",
   "metadata": {},
   "source": [
    "## 9. 앙상블(보팅-Voting)\n",
    "일반적으로 서로 다른 알고리즘을 가진 분류기를 결합하는 방식이다.\n",
    "- 하드 보팅 : 다수결 원칙\n",
    "- 소프트 보팅 : 레이블 값 결정 확률을 모두 더하고 이를 평균하여 가장 높은 확률의 클래스를 결과로 선정한다."
   ]
  },
  {
   "cell_type": "markdown",
   "id": "7943113b",
   "metadata": {},
   "source": [
    "## 9-1. 분류(VotingClassifier)"
   ]
  },
  {
   "cell_type": "code",
   "execution_count": 53,
   "id": "7ffaac40",
   "metadata": {},
   "outputs": [
    {
     "data": {
      "text/plain": [
       "0.956140350877193"
      ]
     },
     "execution_count": 53,
     "metadata": {},
     "output_type": "execute_result"
    }
   ],
   "source": [
    "votc=VotingClassifier(estimators=[('lgbm', lgbc), ('xgb', xgbc), ('gbm', gbc)], voting='soft')\n",
    "votc.fit(X1_train, y1_train)\n",
    "pred=votc.predict(X1_test)\n",
    "accuracy_score(y1_test, pred)"
   ]
  },
  {
   "cell_type": "markdown",
   "id": "bfeecd24",
   "metadata": {},
   "source": [
    "## 9-2. 회귀(VotingRegressor)"
   ]
  },
  {
   "cell_type": "code",
   "execution_count": 54,
   "id": "ca3c5d24",
   "metadata": {},
   "outputs": [
    {
     "data": {
      "text/plain": [
       "6.040548824833506"
      ]
     },
     "execution_count": 54,
     "metadata": {},
     "output_type": "execute_result"
    }
   ],
   "source": [
    "votr=VotingRegressor(estimators=[('lgbm', lgbr), ('xgb', xgbr), ('gbm', gbr)])\n",
    "votr.fit(X2_train, y2_train)\n",
    "pred=votr.predict(X2_test)\n",
    "mean_squared_error(y2_test, pred)"
   ]
  },
  {
   "cell_type": "markdown",
   "id": "be2d6158",
   "metadata": {},
   "source": [
    "## 10. 앙상블(스태킹-Stacking)\n",
    "개별 알고리즘으로 예측한 데이터를 기반으로 다시 예측을 수행\n",
    "즉, 개별 알고리즘의 예측결과 데이터를 최종적인 메타 데이터로 만들어 별도의 ML알고리즘으로 최종 학습을 수행하고 예측을 수행하는 방식이다.\n",
    "\n",
    "<장점>\n",
    "- 성능을 극으로 끌어올릴 수 있음\n",
    "\n",
    "<단점>\n",
    "- 과대적합 가능성"
   ]
  },
  {
   "cell_type": "code",
   "execution_count": 55,
   "id": "4d14580b",
   "metadata": {},
   "outputs": [
    {
     "data": {
      "text/plain": [
       "0.9649122807017544"
      ]
     },
     "execution_count": 55,
     "metadata": {},
     "output_type": "execute_result"
    }
   ],
   "source": [
    "est=[('lgb', lgbc), ('xgb', xgbc), ('knn', knn), ('rf', rfc), ('gb', gbc)]\n",
    "\n",
    "sc=StackingClassifier(estimators=est, final_estimator=dtc)\n",
    "sc.fit(X1_train, y1_train)\n",
    "pred=sc.predict(X1_test)\n",
    "accuracy_score(y1_test, pred)"
   ]
  },
  {
   "cell_type": "code",
   "execution_count": null,
   "id": "c514219b",
   "metadata": {},
   "outputs": [],
   "source": []
  }
 ],
 "metadata": {
  "kernelspec": {
   "display_name": "Python 3 (ipykernel)",
   "language": "python",
   "name": "python3"
  },
  "language_info": {
   "codemirror_mode": {
    "name": "ipython",
    "version": 3
   },
   "file_extension": ".py",
   "mimetype": "text/x-python",
   "name": "python",
   "nbconvert_exporter": "python",
   "pygments_lexer": "ipython3",
   "version": "3.9.7"
  }
 },
 "nbformat": 4,
 "nbformat_minor": 5
}
